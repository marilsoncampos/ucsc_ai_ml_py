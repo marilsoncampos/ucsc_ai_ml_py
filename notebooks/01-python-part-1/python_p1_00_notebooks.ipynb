{
 "cells": [
  {
   "cell_type": "markdown",
   "metadata": {},
   "source": [
    "#### Jupyter Notebook - Keyboard shortcuts"
   ]
  },
  {
   "cell_type": "code",
   "execution_count": 17,
   "metadata": {
    "scrolled": true,
    "tags": []
   },
   "outputs": [
    {
     "name": "stdout",
     "output_type": "stream",
     "text": [
      "Number = 922\n"
     ]
    }
   ],
   "source": [
    "# This is a 'Test' Cell used for experimenting with commands\n",
    "# Generates new input everytime.\n",
    "from random import randint\n",
    "value = randint(1, 1000)\n",
    "print('Number = {0}'.format(value))"
   ]
  },
  {
   "cell_type": "code",
   "execution_count": 18,
   "metadata": {
    "tags": []
   },
   "outputs": [
    {
     "name": "stdout",
     "output_type": "stream",
     "text": [
      "x\n"
     ]
    }
   ],
   "source": [
    "print('x')"
   ]
  },
  {
   "cell_type": "markdown",
   "metadata": {
    "jp-MarkdownHeadingCollapsed": true,
    "tags": []
   },
   "source": [
    "### Command Mode\n",
    "\n",
    "When the cell is marked by a blue bar you are on the 'Command' mode to execute operations over the cells.\n",
    "\n",
    "#### Run Cell (These commands work in both Command and Run modes)\n",
    "  * and move to next:  __shift + enter__\n",
    "  * and stay on the same place \n",
    "      - (windows): __ctrl + enter__ \n",
    "      - (mac): __cmd + enter__\n",
    "  * and insert a new cell below: __option + enter__\n",
    "  \n",
    "#### Insert Cell\n",
    "  * Above: __A__    \n",
    "  * Below: __B__\n",
    "    \n",
    "#### Copy, Paste,  Delete & Merge\n",
    "  * Copy cell: __C__\n",
    "  * Paste cell: __V__\n",
    "  * Delete cell: __D D__\n",
    "  * Merge current cell with cell below: __shift + M__\n",
    "\n",
    "#### Kernel operations (You can use the menu for these also)\n",
    "  * Interrupt kernel: __I I__\n",
    "  * restart kernel (with dialog): __0 0__\n",
    "\n",
    "#### Change cell modes\n",
    "  * Change cell to code mode: __Y__\n",
    "  * Change cell to markdown mode: __M__"
   ]
  },
  {
   "cell_type": "markdown",
   "metadata": {},
   "source": [
    "\n",
    "### Edit Mode\n",
    "\n",
    " * toggle comment lines __cmd + /__ \n",
    " * Split cell: __ctrl + shift + -__\n",
    "\n"
   ]
  },
  {
   "cell_type": "code",
   "execution_count": 1,
   "metadata": {
    "tags": []
   },
   "outputs": [
    {
     "data": {
      "text/plain": [
       "{'SHELL': '/bin/zsh',\n",
       " 'TMPDIR': '/var/folders/2y/hm3jg6812nd_sktsrjdq0l2m0000gn/T/',\n",
       " 'CONDA_SHLVL': '1',\n",
       " 'CONDA_PROMPT_MODIFIER': '(base) ',\n",
       " 'LC_ALL': 'en_US.UTF-8',\n",
       " 'USER': 'mcampos',\n",
       " 'COMMAND_MODE': 'unix2003',\n",
       " 'CONDA_EXE': '/Users/mcampos/opt/anaconda3/bin/conda',\n",
       " 'SSH_AUTH_SOCK': '/private/tmp/com.apple.launchd.xh709oAFVI/Listeners',\n",
       " '__CF_USER_TEXT_ENCODING': '0x1F5:0x0:0x0',\n",
       " '_CE_CONDA': '',\n",
       " 'CONDA_ROOT': '/Users/mcampos/opt/anaconda3',\n",
       " 'PATH': '/Users/mcampos/opt/anaconda3/bin:/Users/mcampos/opt/anaconda3/condabin:/usr/bin:/bin:/usr/sbin:/sbin',\n",
       " 'LaunchInstanceID': '6C97A3F0-D2A6-47DA-8618-751870870D65',\n",
       " 'CONDA_PREFIX': '/Users/mcampos/opt/anaconda3',\n",
       " '__CFBundleIdentifier': 'com.anaconda.io',\n",
       " 'PWD': '/Users/mcampos',\n",
       " 'LANG': 'en_US.UTF-8',\n",
       " 'EVENT_NOKQUEUE': '1',\n",
       " 'XPC_FLAGS': '0x0',\n",
       " '_CE_M': '',\n",
       " 'XPC_SERVICE_NAME': '0',\n",
       " 'HOME': '/Users/mcampos',\n",
       " 'SHLVL': '2',\n",
       " 'CONDA_PYTHON_EXE': '/Users/mcampos/opt/anaconda3/bin/python',\n",
       " 'LOGNAME': 'mcampos',\n",
       " 'LC_CTYPE': 'UTF-8',\n",
       " 'CONDA_DEFAULT_ENV': 'base',\n",
       " 'SECURITYSESSIONID': '186b2',\n",
       " '_': '/Users/mcampos/opt/anaconda3/bin/jupyter',\n",
       " 'PYDEVD_USE_FRAME_EVAL': 'NO',\n",
       " 'JPY_PARENT_PID': '22375',\n",
       " 'TERM': 'xterm-color',\n",
       " 'CLICOLOR': '1',\n",
       " 'PAGER': 'cat',\n",
       " 'GIT_PAGER': 'cat',\n",
       " 'MPLBACKEND': 'module://matplotlib_inline.backend_inline'}"
      ]
     },
     "execution_count": 1,
     "metadata": {},
     "output_type": "execute_result"
    }
   ],
   "source": [
    "%env\n",
    "# Any string starting with % is called 'magic' commands.\n",
    "# This command lists the environment variables from the operating system."
   ]
  },
  {
   "cell_type": "code",
   "execution_count": 19,
   "metadata": {},
   "outputs": [
    {
     "name": "stdout",
     "output_type": "stream",
     "text": [
      "env: MY_VAR=87\n"
     ]
    }
   ],
   "source": [
    "# Create a new Env Variable and set to value.\n",
    "%env MY_VAR=87"
   ]
  },
  {
   "cell_type": "code",
   "execution_count": 20,
   "metadata": {},
   "outputs": [
    {
     "data": {
      "text/plain": [
       "{'SHELL': '/bin/zsh',\n",
       " 'TMPDIR': '/var/folders/2y/hm3jg6812nd_sktsrjdq0l2m0000gn/T/',\n",
       " 'CONDA_SHLVL': '1',\n",
       " 'CONDA_PROMPT_MODIFIER': '(base) ',\n",
       " 'LC_ALL': 'en_US.UTF-8',\n",
       " 'USER': 'mcampos',\n",
       " 'COMMAND_MODE': 'unix2003',\n",
       " 'CONDA_EXE': '/Users/mcampos/opt/anaconda3/bin/conda',\n",
       " 'SSH_AUTH_SOCK': '/private/tmp/com.apple.launchd.axeh1D3NFh/Listeners',\n",
       " '__CF_USER_TEXT_ENCODING': '0x1F5:0x0:0x0',\n",
       " '_CE_CONDA': '',\n",
       " 'CONDA_ROOT': '/Users/mcampos/opt/anaconda3',\n",
       " 'PATH': '/Users/mcampos/opt/anaconda3/bin:/Users/mcampos/opt/anaconda3/condabin:/usr/bin:/bin:/usr/sbin:/sbin',\n",
       " 'CONDA_PREFIX': '/Users/mcampos/opt/anaconda3',\n",
       " '__CFBundleIdentifier': 'com.anaconda.io',\n",
       " 'PWD': '/Users/mcampos',\n",
       " 'LANG': 'en_US.UTF-8',\n",
       " 'EVENT_NOKQUEUE': '1',\n",
       " 'XPC_FLAGS': '0x0',\n",
       " '_CE_M': '',\n",
       " 'XPC_SERVICE_NAME': '0',\n",
       " 'HOME': '/Users/mcampos',\n",
       " 'SHLVL': '2',\n",
       " 'CONDA_PYTHON_EXE': '/Users/mcampos/opt/anaconda3/bin/python',\n",
       " 'LOGNAME': 'mcampos',\n",
       " 'LC_CTYPE': 'UTF-8',\n",
       " 'CONDA_DEFAULT_ENV': 'base',\n",
       " '_': '/Users/mcampos/opt/anaconda3/bin/jupyter',\n",
       " 'PYDEVD_USE_FRAME_EVAL': 'NO',\n",
       " 'JPY_PARENT_PID': '69277',\n",
       " 'TERM': 'xterm-color',\n",
       " 'CLICOLOR': '1',\n",
       " 'PAGER': 'cat',\n",
       " 'GIT_PAGER': 'cat',\n",
       " 'MPLBACKEND': 'module://matplotlib_inline.backend_inline',\n",
       " 'MY_VAR': '87'}"
      ]
     },
     "execution_count": 20,
     "metadata": {},
     "output_type": "execute_result"
    }
   ],
   "source": [
    "# Confirm that the value is there.\n",
    "%env"
   ]
  },
  {
   "cell_type": "code",
   "execution_count": 21,
   "metadata": {},
   "outputs": [
    {
     "name": "stdout",
     "output_type": "stream",
     "text": [
      "MY_VAR=87\n"
     ]
    }
   ],
   "source": [
    "# Run command and filter the results using pipe.\n",
    "!env | egrep 'MY_VA[R]'"
   ]
  },
  {
   "cell_type": "code",
   "execution_count": 25,
   "metadata": {},
   "outputs": [
    {
     "name": "stdout",
     "output_type": "stream",
     "text": [
      "MY_VAR=87\n"
     ]
    }
   ],
   "source": [
    "!env | grep 'MY_VAR'"
   ]
  },
  {
   "cell_type": "code",
   "execution_count": null,
   "metadata": {},
   "outputs": [],
   "source": []
  }
 ],
 "metadata": {
  "kernelspec": {
   "display_name": "Python 3 (ipykernel)",
   "language": "python",
   "name": "python3"
  },
  "language_info": {
   "codemirror_mode": {
    "name": "ipython",
    "version": 3
   },
   "file_extension": ".py",
   "mimetype": "text/x-python",
   "name": "python",
   "nbconvert_exporter": "python",
   "pygments_lexer": "ipython3",
   "version": "3.9.7"
  }
 },
 "nbformat": 4,
 "nbformat_minor": 4
}
