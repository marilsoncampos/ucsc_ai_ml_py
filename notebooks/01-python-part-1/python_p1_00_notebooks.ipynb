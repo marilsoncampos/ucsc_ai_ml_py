{
 "cells": [
  {
   "cell_type": "markdown",
   "metadata": {
    "tags": []
   },
   "source": [
    "#### Jupyter Notebook - Keyboard shortcuts"
   ]
  },
  {
   "cell_type": "code",
   "execution_count": null,
   "metadata": {},
   "outputs": [],
   "source": []
  },
  {
   "cell_type": "code",
   "execution_count": 8,
   "metadata": {
    "scrolled": true,
    "tags": []
   },
   "outputs": [
    {
     "name": "stdout",
     "output_type": "stream",
     "text": [
      "Number = 561\n"
     ]
    }
   ],
   "source": [
    "# This is a 'Test' Cell used for experimenting with commands\n",
    "# Generates new input everytime.\n",
    "from random import randint\n",
    "value = randint(500, 1000)\n",
    "print('Number = {0}'.format(value))"
   ]
  },
  {
   "cell_type": "code",
   "execution_count": 3,
   "metadata": {
    "tags": []
   },
   "outputs": [
    {
     "name": "stdout",
     "output_type": "stream",
     "text": [
      "x\n"
     ]
    }
   ],
   "source": [
    "print('x')"
   ]
  },
  {
   "cell_type": "code",
   "execution_count": 4,
   "metadata": {
    "tags": []
   },
   "outputs": [
    {
     "ename": "NameError",
     "evalue": "name 'a' is not defined",
     "output_type": "error",
     "traceback": [
      "\u001b[1;31m---------------------------------------------------------------------------\u001b[0m",
      "\u001b[1;31mNameError\u001b[0m                                 Traceback (most recent call last)",
      "\u001b[1;32m~\\AppData\\Local\\Temp\\ipykernel_1712\\345432252.py\u001b[0m in \u001b[0;36m<module>\u001b[1;34m\u001b[0m\n\u001b[0;32m      1\u001b[0m \u001b[1;31m# Errors appear in the results area.\u001b[0m\u001b[1;33m\u001b[0m\u001b[1;33m\u001b[0m\u001b[0m\n\u001b[1;32m----> 2\u001b[1;33m \u001b[0mprint\u001b[0m\u001b[1;33m(\u001b[0m\u001b[0ma\u001b[0m\u001b[1;33m)\u001b[0m\u001b[1;33m\u001b[0m\u001b[1;33m\u001b[0m\u001b[0m\n\u001b[0m",
      "\u001b[1;31mNameError\u001b[0m: name 'a' is not defined"
     ]
    }
   ],
   "source": [
    "# Errors appear in the results area.\n",
    "print(a)"
   ]
  },
  {
   "cell_type": "markdown",
   "metadata": {
    "jp-MarkdownHeadingCollapsed": true,
    "jupyter": {
     "source_hidden": true
    },
    "tags": []
   },
   "source": [
    "### Command Mode\n",
    "\n",
    "When the cell is marked by a blue bar you are on the 'Command' mode to execute operations over the cells.\n",
    "\n",
    "#### Run Cell (These commands work in both Command and Run modes)\n",
    "  * and move to next:  __shift + enter__\n",
    "  * and stay on the same place \n",
    "      - (windows): __ctrl + enter__ \n",
    "      - (mac): __cmd + enter__\n",
    "  * and insert a new cell below: __option + enter__\n",
    "  \n",
    "#### Insert Cell\n",
    "  * Above: __A__    \n",
    "  * Below: __B__\n",
    "    \n",
    "#### Copy, Paste,  Delete & Merge\n",
    "  * Copy cell: __C__\n",
    "  * Paste cell: __V__\n",
    "  * Delete cell: __D D__\n",
    "  * Merge current cell with cell below: __shift + M__\n",
    "\n",
    "#### Kernel operations (You can use the menu for these also)\n",
    "  * Interrupt kernel: __I I__\n",
    "  * restart kernel (with dialog): __0 0__\n",
    "\n",
    "#### Change cell modes\n",
    "  * Change cell to code mode: __Y__\n",
    "  * Change cell to markdown mode: __M__"
   ]
  },
  {
   "cell_type": "markdown",
   "metadata": {},
   "source": [
    "\n",
    "### Edit Mode\n",
    "\n",
    " * toggle comment lines __cmd + /__ \n",
    " * Split cell: __ctrl + shift + -__\n",
    "\n"
   ]
  },
  {
   "cell_type": "code",
   "execution_count": 6,
   "metadata": {
    "tags": []
   },
   "outputs": [
    {
     "data": {
      "text/plain": [
       "{'ALLUSERSPROFILE': 'C:\\\\ProgramData',\n",
       " 'APPDATA': 'C:\\\\Users\\\\maril\\\\AppData\\\\Roaming',\n",
       " 'COMMONPROGRAMFILES': 'C:\\\\Program Files\\\\Common Files',\n",
       " 'COMMONPROGRAMFILES(X86)': 'C:\\\\Program Files (x86)\\\\Common Files',\n",
       " 'COMMONPROGRAMW6432': 'C:\\\\Program Files\\\\Common Files',\n",
       " 'COMPUTERNAME': 'MAR-WIN-DEV',\n",
       " 'COMSPEC': 'C:\\\\WINDOWS\\\\system32\\\\cmd.exe',\n",
       " 'CONDA_DEFAULT_ENV': 'base',\n",
       " 'CONDA_EXE': 'C:\\\\ProgramData\\\\Anaconda3\\\\Scripts\\\\conda.exe',\n",
       " 'CONDA_PROMPT_MODIFIER': '(base) ',\n",
       " 'CONDA_PYTHON_EXE': 'C:\\\\ProgramData\\\\Anaconda3\\\\python.exe',\n",
       " 'CONDA_SHLVL': '1',\n",
       " 'DRIVERDATA': 'C:\\\\Windows\\\\System32\\\\Drivers\\\\DriverData',\n",
       " 'EFC_10012': '1',\n",
       " 'HOMEDRIVE': 'C:',\n",
       " 'HOMEPATH': '\\\\Users\\\\maril',\n",
       " 'LOCALAPPDATA': 'C:\\\\Users\\\\maril\\\\AppData\\\\Local',\n",
       " 'LOGONSERVER': '\\\\\\\\MAR-WIN-DEV',\n",
       " 'NUMBER_OF_PROCESSORS': '8',\n",
       " 'ONEDRIVE': 'C:\\\\Users\\\\maril\\\\OneDrive',\n",
       " 'ONEDRIVECONSUMER': 'C:\\\\Users\\\\maril\\\\OneDrive',\n",
       " 'ONLINESERVICES': 'Online Services',\n",
       " 'OS': 'Windows_NT',\n",
       " 'PATH': 'C:\\\\ProgramData\\\\Anaconda3;C:\\\\ProgramData\\\\Anaconda3\\\\Library\\\\mingw-w64\\\\bin;C:\\\\ProgramData\\\\Anaconda3\\\\Library\\\\usr\\\\bin;C:\\\\ProgramData\\\\Anaconda3\\\\Library\\\\bin;C:\\\\ProgramData\\\\Anaconda3\\\\Scripts;C:\\\\ProgramData\\\\Anaconda3\\\\bin;C:\\\\ProgramData\\\\Anaconda3\\\\condabin;C:\\\\ProgramData\\\\Anaconda3;C:\\\\ProgramData\\\\Anaconda3\\\\Library\\\\mingw-w64\\\\bin;C:\\\\ProgramData\\\\Anaconda3\\\\Library\\\\usr\\\\bin;C:\\\\ProgramData\\\\Anaconda3\\\\Library\\\\bin;C:\\\\ProgramData\\\\Anaconda3\\\\Scripts;C:\\\\WINDOWS\\\\system32;C:\\\\WINDOWS;C:\\\\WINDOWS\\\\System32\\\\Wbem;C:\\\\WINDOWS\\\\System32\\\\WindowsPowerShell\\\\v1.0;C:\\\\WINDOWS\\\\System32\\\\OpenSSH;C:\\\\Program Files\\\\Git\\\\cmd;C:\\\\Program Files\\\\Docker\\\\Docker\\\\resources\\\\bin;C:\\\\Users\\\\maril\\\\AppData\\\\Local\\\\Microsoft\\\\WindowsApps;.;C:\\\\Users\\\\maril\\\\AppData\\\\Local\\\\Programs\\\\Microsoft VS Code\\\\bin',\n",
       " 'PATHEXT': '.COM;.EXE;.BAT;.CMD;.VBS;.VBE;.JS;.JSE;.WSF;.WSH;.MSC',\n",
       " 'PLATFORMCODE': 'KV',\n",
       " 'PROCESSOR_ARCHITECTURE': 'AMD64',\n",
       " 'PROCESSOR_IDENTIFIER': 'Intel64 Family 6 Model 140 Stepping 1, GenuineIntel',\n",
       " 'PROCESSOR_LEVEL': '6',\n",
       " 'PROCESSOR_REVISION': '8c01',\n",
       " 'PROGRAMDATA': 'C:\\\\ProgramData',\n",
       " 'PROGRAMFILES': 'C:\\\\Program Files',\n",
       " 'PROGRAMFILES(X86)': 'C:\\\\Program Files (x86)',\n",
       " 'PROGRAMW6432': 'C:\\\\Program Files',\n",
       " 'PROMPT': '(base) $P$G',\n",
       " 'PSMODULEPATH': 'C:\\\\Program Files\\\\WindowsPowerShell\\\\Modules;C:\\\\WINDOWS\\\\system32\\\\WindowsPowerShell\\\\v1.0\\\\Modules',\n",
       " 'PUBLIC': 'C:\\\\Users\\\\Public',\n",
       " 'REGIONCODE': 'NA',\n",
       " 'SESSIONNAME': 'Console',\n",
       " 'SYSTEMDRIVE': 'C:',\n",
       " 'SYSTEMROOT': 'C:\\\\WINDOWS',\n",
       " 'TEMP': 'C:\\\\Users\\\\maril\\\\AppData\\\\Local\\\\Temp',\n",
       " 'TMP': 'C:\\\\Users\\\\maril\\\\AppData\\\\Local\\\\Temp',\n",
       " 'USERDOMAIN': 'MAR-WIN-DEV',\n",
       " 'USERDOMAIN_ROAMINGPROFILE': 'MAR-WIN-DEV',\n",
       " 'USERNAME': 'maril',\n",
       " 'USERPROFILE': 'C:\\\\Users\\\\maril',\n",
       " 'WINDIR': 'C:\\\\WINDOWS',\n",
       " 'ZES_ENABLE_SYSMAN': '1',\n",
       " 'CONDA_PREFIX': 'C:\\\\ProgramData\\\\Anaconda3',\n",
       " 'CONDA_ROOT': 'C:\\\\ProgramData\\\\Anaconda3',\n",
       " 'PYDEVD_USE_FRAME_EVAL': 'NO',\n",
       " 'JPY_INTERRUPT_EVENT': '4080',\n",
       " 'IPY_INTERRUPT_EVENT': '4080',\n",
       " 'JPY_PARENT_PID': '3480',\n",
       " 'TERM': 'xterm-color',\n",
       " 'CLICOLOR': '1',\n",
       " 'PAGER': 'cat',\n",
       " 'GIT_PAGER': 'cat',\n",
       " 'MPLBACKEND': 'module://matplotlib_inline.backend_inline'}"
      ]
     },
     "execution_count": 6,
     "metadata": {},
     "output_type": "execute_result"
    }
   ],
   "source": [
    "%env\n",
    "# Any string starting with % is called 'magic' commands.\n",
    "# This command lists the environment variables from the operating system."
   ]
  },
  {
   "cell_type": "raw",
   "metadata": {
    "tags": []
   },
   "source": [
    "%%bash\n",
    "### -- These commands only work if you use MacOS or Linux\n",
    "###    Will generate errors on Window\n",
    "# echo \" -- Status --\"\n",
    "# env | grep 'MY_VAR' || echo 'Not found'"
   ]
  },
  {
   "cell_type": "code",
   "execution_count": 33,
   "metadata": {},
   "outputs": [
    {
     "name": "stdout",
     "output_type": "stream",
     "text": [
      "--delete_my_var--\n",
      "MY VAR Not found!\n",
      "--print_my_var--\n",
      "MY VAR Not found!\n"
     ]
    }
   ],
   "source": [
    "import os\n",
    "def print_my_var():\n",
    "    print('--print_my_var--')\n",
    "    if 'MY_VAR' in os.environ:\n",
    "        print('MY_VAR={0}'.format(os.environ['MY_VAR']))\n",
    "    else:\n",
    "        print('MY VAR Not found!')\n",
    "        \n",
    "def delete_my_var():\n",
    "    print('--delete_my_var--')\n",
    "    if 'MY_VAR' in os.environ:\n",
    "        print('Deleting')\n",
    "        del os.environ['MY_VAR']\n",
    "    else:\n",
    "        print('MY VAR Not found!')\n",
    "    \n",
    "    \n",
    "delete_my_var()        \n",
    "print_my_var()"
   ]
  },
  {
   "cell_type": "code",
   "execution_count": 34,
   "metadata": {
    "tags": []
   },
   "outputs": [
    {
     "name": "stdout",
     "output_type": "stream",
     "text": [
      "env: MY_VAR=89\n"
     ]
    }
   ],
   "source": [
    "# Create a new Env Variable and set to value.\n",
    "%env MY_VAR=89"
   ]
  },
  {
   "cell_type": "raw",
   "metadata": {},
   "source": [
    "%%bash\n",
    "# Run command and filter the results using pipe.\n",
    "echo \"-- Status --\"\n",
    "env | { grep  'MY_VAR' || echo \"Not found\"; }"
   ]
  },
  {
   "cell_type": "code",
   "execution_count": 35,
   "metadata": {},
   "outputs": [
    {
     "name": "stdout",
     "output_type": "stream",
     "text": [
      "--print_my_var--\n",
      "MY_VAR=89\n"
     ]
    }
   ],
   "source": [
    "# This is a default lanaguage cell.\n",
    "print_my_var()"
   ]
  },
  {
   "cell_type": "code",
   "execution_count": 36,
   "metadata": {},
   "outputs": [],
   "source": [
    "# %%bash\n",
    "# Run command and filter the results using pipe.\n",
    "# echo \"-- Status --\"\n",
    "# env | { grep  'MY_VAR' || echo \"Not found\"; }"
   ]
  },
  {
   "cell_type": "code",
   "execution_count": null,
   "metadata": {},
   "outputs": [],
   "source": []
  }
 ],
 "metadata": {
  "kernelspec": {
   "display_name": "Python 3 (ipykernel)",
   "language": "python",
   "name": "python3"
  },
  "language_info": {
   "codemirror_mode": {
    "name": "ipython",
    "version": 3
   },
   "file_extension": ".py",
   "mimetype": "text/x-python",
   "name": "python",
   "nbconvert_exporter": "python",
   "pygments_lexer": "ipython3",
   "version": "3.9.13"
  }
 },
 "nbformat": 4,
 "nbformat_minor": 4
}
