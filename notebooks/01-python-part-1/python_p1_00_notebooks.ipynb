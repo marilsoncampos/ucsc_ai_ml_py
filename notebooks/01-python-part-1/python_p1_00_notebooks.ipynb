{
 "cells": [
  {
   "cell_type": "markdown",
   "metadata": {
    "tags": []
   },
   "source": [
    "#### Jupyter Notebook - Keyboard shortcuts"
   ]
  },
  {
   "cell_type": "code",
   "execution_count": 1,
   "metadata": {
    "scrolled": true,
    "tags": []
   },
   "outputs": [
    {
     "name": "stdout",
     "output_type": "stream",
     "text": [
      "Number = 629\n"
     ]
    }
   ],
   "source": [
    "# This is a 'Test' Cell used for experimenting with commands\n",
    "# Generates new input everytime.\n",
    "from random import randint\n",
    "value = randint(1, 1000)\n",
    "print('Number = {0}'.format(value))"
   ]
  },
  {
   "cell_type": "code",
   "execution_count": 2,
   "metadata": {
    "tags": []
   },
   "outputs": [
    {
     "name": "stdout",
     "output_type": "stream",
     "text": [
      "x\n"
     ]
    }
   ],
   "source": [
    "print('x')"
   ]
  },
  {
   "cell_type": "code",
   "execution_count": 3,
   "metadata": {
    "tags": []
   },
   "outputs": [
    {
     "ename": "NameError",
     "evalue": "name 'a' is not defined",
     "output_type": "error",
     "traceback": [
      "\u001b[0;31m---------------------------------------------------------------------------\u001b[0m",
      "\u001b[0;31mNameError\u001b[0m                                 Traceback (most recent call last)",
      "\u001b[0;32m/var/folders/vs/cvyw89x530vg2h_fhk7f6pyr0000gn/T/ipykernel_88868/1189138062.py\u001b[0m in \u001b[0;36m<module>\u001b[0;34m\u001b[0m\n\u001b[0;32m----> 1\u001b[0;31m \u001b[0mprint\u001b[0m\u001b[0;34m(\u001b[0m\u001b[0ma\u001b[0m\u001b[0;34m)\u001b[0m\u001b[0;34m\u001b[0m\u001b[0;34m\u001b[0m\u001b[0m\n\u001b[0m",
      "\u001b[0;31mNameError\u001b[0m: name 'a' is not defined"
     ]
    }
   ],
   "source": [
    "print(a)"
   ]
  },
  {
   "cell_type": "markdown",
   "metadata": {
    "jp-MarkdownHeadingCollapsed": true,
    "tags": []
   },
   "source": [
    "### Command Mode\n",
    "\n",
    "When the cell is marked by a blue bar you are on the 'Command' mode to execute operations over the cells.\n",
    "\n",
    "#### Run Cell (These commands work in both Command and Run modes)\n",
    "  * and move to next:  __shift + enter__\n",
    "  * and stay on the same place \n",
    "      - (windows): __ctrl + enter__ \n",
    "      - (mac): __cmd + enter__\n",
    "  * and insert a new cell below: __option + enter__\n",
    "  \n",
    "#### Insert Cell\n",
    "  * Above: __A__    \n",
    "  * Below: __B__\n",
    "    \n",
    "#### Copy, Paste,  Delete & Merge\n",
    "  * Copy cell: __C__\n",
    "  * Paste cell: __V__\n",
    "  * Delete cell: __D D__\n",
    "  * Merge current cell with cell below: __shift + M__\n",
    "\n",
    "#### Kernel operations (You can use the menu for these also)\n",
    "  * Interrupt kernel: __I I__\n",
    "  * restart kernel (with dialog): __0 0__\n",
    "\n",
    "#### Change cell modes\n",
    "  * Change cell to code mode: __Y__\n",
    "  * Change cell to markdown mode: __M__"
   ]
  },
  {
   "cell_type": "markdown",
   "metadata": {},
   "source": [
    "\n",
    "### Edit Mode\n",
    "\n",
    " * toggle comment lines __cmd + /__ \n",
    " * Split cell: __ctrl + shift + -__\n",
    "\n"
   ]
  },
  {
   "cell_type": "code",
   "execution_count": 4,
   "metadata": {
    "tags": []
   },
   "outputs": [
    {
     "data": {
      "text/plain": [
       "{'SHELL': '/bin/bash',\n",
       " 'HOSTNAME': '1a3b8969b737',\n",
       " 'LANGUAGE': 'en_US.UTF-8',\n",
       " 'NB_UID': '1000',\n",
       " 'JULIA_PKGDIR': '/opt/julia',\n",
       " 'PWD': '/home/jovyan',\n",
       " 'HOME': '/home/jovyan',\n",
       " 'LANG': 'en_US.UTF-8',\n",
       " 'NB_GID': '100',\n",
       " 'JULIA_VERSION': '1.8.3',\n",
       " 'XDG_CACHE_HOME': '/home/jovyan/.cache/',\n",
       " 'SHLVL': '0',\n",
       " 'CONDA_DIR': '/opt/conda',\n",
       " 'JULIA_DEPOT_PATH': '/opt/julia',\n",
       " 'NB_USER': 'jovyan',\n",
       " 'LC_ALL': 'en_US.UTF-8',\n",
       " 'PATH': '/opt/conda/bin:/usr/local/sbin:/usr/local/bin:/usr/sbin:/usr/bin:/sbin:/bin',\n",
       " 'DEBIAN_FRONTEND': 'noninteractive',\n",
       " 'JPY_SESSION_NAME': 'work/d0/teach/ucsc/ucsc_ai_ml_py/notebooks/01-python-part-1/f28ea4b6-03b9-4dd4-8427-d0ebe8053ee0',\n",
       " 'JPY_PARENT_PID': '6',\n",
       " 'TERM': 'xterm-color',\n",
       " 'CLICOLOR': '1',\n",
       " 'PAGER': 'cat',\n",
       " 'GIT_PAGER': 'cat',\n",
       " 'MPLBACKEND': 'module://matplotlib_inline.backend_inline'}"
      ]
     },
     "execution_count": 4,
     "metadata": {},
     "output_type": "execute_result"
    }
   ],
   "source": [
    "%env\n",
    "# Any string starting with % is called 'magic' commands.\n",
    "# This command lists the environment variables from the operating system."
   ]
  },
  {
   "cell_type": "code",
   "execution_count": 1,
   "metadata": {},
   "outputs": [
    {
     "name": "stdout",
     "output_type": "stream",
     "text": [
      "-- Status --\n",
      "Not found\n"
     ]
    }
   ],
   "source": [
    "%%bash\n",
    "echo \"-- Status --\"\n",
    "env | grep 'MY_VAR' || echo 'Not found'"
   ]
  },
  {
   "cell_type": "code",
   "execution_count": 7,
   "metadata": {},
   "outputs": [
    {
     "name": "stdout",
     "output_type": "stream",
     "text": [
      "env: MY_VAR=89\n"
     ]
    }
   ],
   "source": [
    "# Create a new Env Variable and set to value.\n",
    "%env MY_VAR=89"
   ]
  },
  {
   "cell_type": "code",
   "execution_count": 8,
   "metadata": {},
   "outputs": [
    {
     "name": "stdout",
     "output_type": "stream",
     "text": [
      "-- Status --\n",
      "MY_VAR=89\n"
     ]
    }
   ],
   "source": [
    "%%bash\n",
    "# Run command and filter the results using pipe.\n",
    "echo \"-- Status --\"\n",
    "env | { grep  'MY_VAR' || echo \"Not found\"; }"
   ]
  },
  {
   "cell_type": "code",
   "execution_count": 9,
   "metadata": {},
   "outputs": [
    {
     "name": "stdout",
     "output_type": "stream",
     "text": [
      "Deleting\n"
     ]
    }
   ],
   "source": [
    "# This is a default lanaguage cell.\n",
    "import os\n",
    "if 'MY_VAR' in os.environ:\n",
    "    print('Deleting')\n",
    "    del os.environ['MY_VAR']"
   ]
  },
  {
   "cell_type": "code",
   "execution_count": 10,
   "metadata": {},
   "outputs": [
    {
     "name": "stdout",
     "output_type": "stream",
     "text": [
      "-- Status --\n",
      "Not found\n"
     ]
    }
   ],
   "source": [
    "%%bash\n",
    "# Run command and filter the results using pipe.\n",
    "echo \"-- Status --\"\n",
    "env | { grep  'MY_VAR' || echo \"Not found\"; }"
   ]
  },
  {
   "cell_type": "code",
   "execution_count": 11,
   "metadata": {},
   "outputs": [
    {
     "name": "stdout",
     "output_type": "stream",
     "text": [
      "x\n"
     ]
    }
   ],
   "source": [
    "%%R\n",
    "a <- 12"
   ]
  },
  {
   "cell_type": "code",
   "execution_count": null,
   "metadata": {},
   "outputs": [],
   "source": []
  }
 ],
 "metadata": {
  "kernelspec": {
   "display_name": "PyCharm (Panel-Segmentation-master)",
   "language": "python",
   "name": "pycharm-e1a42a0d"
  },
  "language_info": {
   "codemirror_mode": {
    "name": "ipython",
    "version": 3
   },
   "file_extension": ".py",
   "mimetype": "text/x-python",
   "name": "python",
   "nbconvert_exporter": "python",
   "pygments_lexer": "ipython3",
   "version": "3.7.4"
  }
 },
 "nbformat": 4,
 "nbformat_minor": 4
}
