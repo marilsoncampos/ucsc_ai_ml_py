{
 "cells": [
  {
   "cell_type": "markdown",
   "metadata": {},
   "source": [
    "#### Jupyter Notebook - Keyboard shortcuts"
   ]
  },
  {
   "cell_type": "code",
   "execution_count": 1,
   "metadata": {
    "scrolled": true,
    "tags": []
   },
   "outputs": [
    {
     "name": "stdout",
     "output_type": "stream",
     "text": [
      "Number = 818\n"
     ]
    }
   ],
   "source": [
    "# This is a 'Test' Cell used for experimenting with commands\n",
    "# Generates new input everytime.\n",
    "from random import randint\n",
    "value = randint(1, 1000)\n",
    "print('Number = {0}'.format(value))"
   ]
  },
  {
   "cell_type": "code",
   "execution_count": 2,
   "metadata": {
    "tags": []
   },
   "outputs": [
    {
     "name": "stdout",
     "output_type": "stream",
     "text": [
      "x\n"
     ]
    }
   ],
   "source": [
    "print('x')"
   ]
  },
  {
   "cell_type": "markdown",
   "metadata": {
    "jp-MarkdownHeadingCollapsed": true,
    "tags": []
   },
   "source": [
    "### Command Mode\n",
    "\n",
    "When the cell is marked by a blue bar you are on the 'Command' mode to execute operations over the cells.\n",
    "\n",
    "#### Run Cell (These commands work in both Command and Run modes)\n",
    "  * and move to next:  __shift + enter__\n",
    "  * and stay on the same place \n",
    "      - (windows): __ctrl + enter__ \n",
    "      - (mac): __cmd + enter__\n",
    "  * and insert a new cell below: __option + enter__\n",
    "  \n",
    "#### Insert Cell\n",
    "  * Above: __A__    \n",
    "  * Below: __B__\n",
    "    \n",
    "#### Copy, Paste,  Delete & Merge\n",
    "  * Copy cell: __C__\n",
    "  * Paste cell: __V__\n",
    "  * Delete cell: __D D__\n",
    "  * Merge current cell with cell below: __shift + M__\n",
    "\n",
    "#### Kernel operations (You can use the menu for these also)\n",
    "  * Interrupt kernel: __I I__\n",
    "  * restart kernel (with dialog): __0 0__\n",
    "\n",
    "#### Change cell modes\n",
    "  * Change cell to code mode: __Y__\n",
    "  * Change cell to markdown mode: __M__"
   ]
  },
  {
   "cell_type": "markdown",
   "metadata": {},
   "source": [
    "\n",
    "### Edit Mode\n",
    "\n",
    " * toggle comment lines __cmd + /__ \n",
    " * Split cell: __ctrl + shift + -__\n",
    "\n"
   ]
  },
  {
   "cell_type": "code",
   "execution_count": 48,
   "metadata": {
    "tags": []
   },
   "outputs": [
    {
     "data": {
      "text/plain": [
       "{'SHELL': '/bin/bash',\n",
       " 'HOSTNAME': '741f5f7829d9',\n",
       " 'LANGUAGE': 'en_US.UTF-8',\n",
       " 'NB_UID': '1000',\n",
       " 'JULIA_PKGDIR': '/opt/julia',\n",
       " 'PWD': '/home/jovyan',\n",
       " 'HOME': '/home/jovyan',\n",
       " 'LANG': 'en_US.UTF-8',\n",
       " 'NB_GID': '100',\n",
       " 'JULIA_VERSION': '1.8.3',\n",
       " 'XDG_CACHE_HOME': '/home/jovyan/.cache/',\n",
       " 'TERM': 'xterm-color',\n",
       " 'SHLVL': '0',\n",
       " 'CONDA_DIR': '/opt/conda',\n",
       " 'JULIA_DEPOT_PATH': '/opt/julia',\n",
       " 'NB_USER': 'jovyan',\n",
       " 'LC_ALL': 'en_US.UTF-8',\n",
       " 'PATH': '/opt/conda/bin:/usr/local/sbin:/usr/local/bin:/usr/sbin:/usr/bin:/sbin:/bin',\n",
       " 'DEBIAN_FRONTEND': 'noninteractive',\n",
       " 'JPY_SESSION_NAME': '01-python-part-1/5b73f943-c2e4-44a8-b3a4-6e0ba4d2bffe',\n",
       " 'JPY_PARENT_PID': '7',\n",
       " 'CLICOLOR': '1',\n",
       " 'PAGER': 'cat',\n",
       " 'GIT_PAGER': 'cat',\n",
       " 'MPLBACKEND': 'module://matplotlib_inline.backend_inline'}"
      ]
     },
     "execution_count": 48,
     "metadata": {},
     "output_type": "execute_result"
    }
   ],
   "source": [
    "%env\n",
    "# Any string starting with % is called 'magic' commands.\n",
    "# This command lists the environment variables from the operating system."
   ]
  },
  {
   "cell_type": "code",
   "execution_count": 49,
   "metadata": {},
   "outputs": [
    {
     "name": "stdout",
     "output_type": "stream",
     "text": [
      "-- Status --\n",
      "No found\n"
     ]
    }
   ],
   "source": [
    "%%bash\n",
    "echo \"-- Status --\"\n",
    "env | grep 'MY_VAR' || echo 'No found'"
   ]
  },
  {
   "cell_type": "code",
   "execution_count": 50,
   "metadata": {},
   "outputs": [
    {
     "name": "stdout",
     "output_type": "stream",
     "text": [
      "env: MY_VAR=89\n"
     ]
    }
   ],
   "source": [
    "# Create a new Env Variable and set to value.\n",
    "%env MY_VAR=89"
   ]
  },
  {
   "cell_type": "code",
   "execution_count": 51,
   "metadata": {},
   "outputs": [
    {
     "name": "stdout",
     "output_type": "stream",
     "text": [
      "-- Status --\n",
      "MY_VAR=89\n"
     ]
    }
   ],
   "source": [
    "%%bash\n",
    "# Run command and filter the results using pipe.\n",
    "echo \"-- Status --\"\n",
    "env | { grep  'MY_VAR' || echo \"Not found\"; }"
   ]
  },
  {
   "cell_type": "code",
   "execution_count": 52,
   "metadata": {},
   "outputs": [
    {
     "name": "stdout",
     "output_type": "stream",
     "text": [
      "Deleting\n"
     ]
    }
   ],
   "source": [
    "# This is a default lanaguage cell.\n",
    "import os\n",
    "if 'MY_VAR' in os.environ:\n",
    "    print('Deleting')\n",
    "    del os.environ['MY_VAR']"
   ]
  },
  {
   "cell_type": "code",
   "execution_count": 53,
   "metadata": {},
   "outputs": [
    {
     "name": "stdout",
     "output_type": "stream",
     "text": [
      "-- Status --\n",
      "Not found\n"
     ]
    }
   ],
   "source": [
    "%%bash\n",
    "# Run command and filter the results using pipe.\n",
    "echo \"-- Status --\"\n",
    "env | { grep  'MY_VAR' || echo \"Not found\"; }"
   ]
  },
  {
   "cell_type": "code",
   "execution_count": null,
   "metadata": {},
   "outputs": [],
   "source": []
  }
 ],
 "metadata": {
  "kernelspec": {
   "display_name": "Python 3 (ipykernel)",
   "language": "python",
   "name": "python3"
  },
  "language_info": {
   "codemirror_mode": {
    "name": "ipython",
    "version": 3
   },
   "file_extension": ".py",
   "mimetype": "text/x-python",
   "name": "python",
   "nbconvert_exporter": "python",
   "pygments_lexer": "ipython3",
   "version": "3.10.6"
  }
 },
 "nbformat": 4,
 "nbformat_minor": 4
}
