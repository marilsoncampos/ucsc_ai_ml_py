{
 "cells": [
  {
   "cell_type": "markdown",
   "metadata": {},
   "source": [
    "## --- Python p1 01 notebook ---\n",
    "\n"
   ]
  },
  {
   "cell_type": "markdown",
   "metadata": {},
   "source": [
    "### The cell below is of type \"Raw\""
   ]
  },
  {
   "cell_type": "raw",
   "metadata": {},
   "source": [
    "drwxr-xr-x    3 marilson.campos  staff      96 Apr 15  2021 c0\n",
    "drwxr-xr-x    9 marilson.campos  staff     288 Nov 28 21:24 d0\n",
    "drwxr-xr-x    8 marilson.campos  staff     256 Nov  2  2019 docker_spark\n",
    "drwxr-xr-x   17 marilson.campos  staff     544 Apr 16  2021 getting-started\n",
    "drwxr-xr-x    3 marilson.campos  staff      96 May  9  2021 opt\n",
    "drwxr-xr-x    5 marilson.campos  staff     160 Jul 10  2021 seaborn-data\n",
    "-rw-r--r--@   1 marilson.campos  staff       9 Nov 10 22:00 t4g.small\n",
    "drwxr-xr-x    9 marilson.campos  staff     288 Sep  2 20:12 ucsc_grading\n",
    "drwxr-xr-x    7 marilson.campos  staff     224 Jan 12 20:04 work"
   ]
  },
  {
   "cell_type": "markdown",
   "metadata": {
    "tags": []
   },
   "source": [
    "### The Python language design philosophy. "
   ]
  },
  {
   "cell_type": "code",
   "execution_count": 1,
   "metadata": {},
   "outputs": [
    {
     "name": "stdout",
     "output_type": "stream",
     "text": [
      "The Zen of Python, by Tim Peters\n",
      "\n",
      "Beautiful is better than ugly.\n",
      "Explicit is better than implicit.\n",
      "Simple is better than complex.\n",
      "Complex is better than complicated.\n",
      "Flat is better than nested.\n",
      "Sparse is better than dense.\n",
      "Readability counts.\n",
      "Special cases aren't special enough to break the rules.\n",
      "Although practicality beats purity.\n",
      "Errors should never pass silently.\n",
      "Unless explicitly silenced.\n",
      "In the face of ambiguity, refuse the temptation to guess.\n",
      "There should be one-- and preferably only one --obvious way to do it.\n",
      "Although that way may not be obvious at first unless you're Dutch.\n",
      "Now is better than never.\n",
      "Although never is often better than *right* now.\n",
      "If the implementation is hard to explain, it's a bad idea.\n",
      "If the implementation is easy to explain, it may be a good idea.\n",
      "Namespaces are one honking great idea -- let's do more of those!\n"
     ]
    }
   ],
   "source": [
    "# This is a cell of type python\n",
    "import this"
   ]
  },
  {
   "cell_type": "markdown",
   "metadata": {},
   "source": [
    "#### Python with comments"
   ]
  },
  {
   "cell_type": "code",
   "execution_count": 2,
   "metadata": {},
   "outputs": [],
   "source": [
    "# Comments help you clarify intentions and details beyond the code.\n",
    "# Should not be used to describe the code.\n",
    "\n",
    "# Ex:\n",
    "# Bad usage\n",
    "channel = 1 # Setting channel variable to 1\n",
    "\n",
    "# Appropriate comment\n",
    "channel = 1 # Using channel one as the default since its the most general case. "
   ]
  },
  {
   "cell_type": "code",
   "execution_count": 2,
   "metadata": {},
   "outputs": [],
   "source": [
    "# A function to help us examine variables.\n",
    "import inspect\n",
    "\n",
    "def print_name_value(variable):\n",
    "    frame = inspect.currentframe()\n",
    "    frame = inspect.getouterframes(frame)[1]\n",
    "    ctx = inspect.getframeinfo(frame[0]).code_context[0].strip()\n",
    "    single_arg = ctx[ctx.find('(') + 1:-1].split(',')[0]\n",
    "    mem_variable = id(variable)\n",
    "    print(f'{single_arg}:\\n{variable}\\n')"
   ]
  },
  {
   "cell_type": "markdown",
   "metadata": {},
   "source": [
    "##### Strings"
   ]
  },
  {
   "cell_type": "code",
   "execution_count": 5,
   "metadata": {},
   "outputs": [
    {
     "data": {
      "text/plain": [
       "True"
      ]
     },
     "execution_count": 5,
     "metadata": {},
     "output_type": "execute_result"
    }
   ],
   "source": [
    "# Single or double quotes.\n",
    "location1 = 'Silicon Valley'\n",
    "location2 = \"Silicon Valley\"\n",
    "location1 == location2\n"
   ]
  },
  {
   "cell_type": "code",
   "execution_count": null,
   "metadata": {},
   "outputs": [],
   "source": []
  },
  {
   "cell_type": "code",
   "execution_count": 5,
   "metadata": {},
   "outputs": [
    {
     "name": "stdout",
     "output_type": "stream",
     "text": [
      "Can't\n",
      "Can't\n"
     ]
    }
   ],
   "source": [
    "print('Can\\'t')\n",
    "print(\"Can't\")"
   ]
  },
  {
   "cell_type": "code",
   "execution_count": 7,
   "metadata": {},
   "outputs": [
    {
     "name": "stdout",
     "output_type": "stream",
     "text": [
      "\n",
      "This is a multi-line header.\n",
      "Here is my second line.\n",
      "\n"
     ]
    }
   ],
   "source": [
    "# Representing multi-line strings\n",
    "HEADER = \"\"\"\n",
    "This is a multi-line header.\n",
    "Here is my second line.\n",
    "\"\"\"\n",
    "print(HEADER)"
   ]
  },
  {
   "cell_type": "code",
   "execution_count": 7,
   "metadata": {},
   "outputs": [
    {
     "name": "stdout",
     "output_type": "stream",
     "text": [
      "\n",
      "program_a -m Hello;\n",
      "program_b -l /user/home/lib;\n",
      "\n"
     ]
    }
   ],
   "source": [
    "# Representing multi-line strings with variable replacement.\n",
    "H1 = \"\"\"\n",
    "program_a -m {message};\n",
    "program_b -l {path_name};\n",
    "\"\"\"\n",
    "\n",
    "print(H1.format(message='Hello', path_name='/user/home/lib'))"
   ]
  },
  {
   "cell_type": "code",
   "execution_count": 8,
   "metadata": {},
   "outputs": [
    {
     "name": "stdout",
     "output_type": "stream",
     "text": [
      "('A string - ', 'Another string - ', 'the last string ')\n"
     ]
    }
   ],
   "source": [
    "# A way to represent an array of strings. Notice the comma at the end of each line.\n",
    "LONG_STR = (\n",
    "    'A string - ',\n",
    "    'Another string - ',\n",
    "    'the last string ',\n",
    ")\n",
    "print(LONG_STR)"
   ]
  },
  {
   "cell_type": "code",
   "execution_count": 9,
   "metadata": {},
   "outputs": [
    {
     "name": "stdout",
     "output_type": "stream",
     "text": [
      "The first part the second part the third part\n"
     ]
    }
   ],
   "source": [
    "# A way to represent long strings. Note that there are no commas.\n",
    "LONG_STR = (\n",
    "    'The first part '\n",
    "    'the second part '\n",
    "    'the third part'\n",
    ")\n",
    "print(LONG_STR)"
   ]
  },
  {
   "cell_type": "code",
   "execution_count": 10,
   "metadata": {},
   "outputs": [
    {
     "data": {
      "text/plain": [
       "True"
      ]
     },
     "execution_count": 10,
     "metadata": {},
     "output_type": "execute_result"
    }
   ],
   "source": [
    "# Use this technique to avoid long lines on the code.\n",
    "path1 = 'http://base/project/depto/c1233303030303/2021-02-01/modules/main/src/libs/util/screen.py'\n",
    "\n",
    "path2 = ('http://base/project/depto/c1233303030303/2021-02-01/'\n",
    "         'modules/main/src/libs/util/screen.py')\n",
    "path1 == path2"
   ]
  },
  {
   "cell_type": "markdown",
   "metadata": {},
   "source": [
    "#### Variables"
   ]
  },
  {
   "cell_type": "code",
   "execution_count": 11,
   "metadata": {},
   "outputs": [
    {
     "name": "stdout",
     "output_type": "stream",
     "text": [
      "WIN_SIZE:\n",
      "80\n",
      "\n",
      "WIN_SIZE:\n",
      "Hello\n",
      "\n"
     ]
    }
   ],
   "source": [
    "# Python is not a typed language. \n",
    "# It wont check if different assigments to a variable are compatible.\n",
    "WIN_SIZE = 80\n",
    "print_name_value(WIN_SIZE)\n",
    "WIN_SIZE = 'Hello'\n",
    "print_name_value(WIN_SIZE)"
   ]
  },
  {
   "cell_type": "code",
   "execution_count": 12,
   "metadata": {},
   "outputs": [],
   "source": [
    "# Naming conversions for Variables, Classes and Constants\n",
    "\n",
    "# Use UPPERCASE for global variables and Constants. \n",
    "WIN_SIZE = 80\n",
    "\n",
    "# Public names start with letters.\n",
    "i_am_regular_var = 10\n",
    "\n",
    "# Private names start with underscores\n",
    "_i_am_private = 12 # Dont use me or change me!\n",
    "\n",
    "# Python internal names starts with double underscore. ('Dunder')\n",
    "__i_am_part_of_internals__ = 12 \n",
    "\n",
    "# Python Classes are named with Cammel Case\n",
    "# Ex:\n",
    "class ConversionEngine():\n",
    "    pass\n"
   ]
  },
  {
   "cell_type": "code",
   "execution_count": 12,
   "metadata": {},
   "outputs": [],
   "source": [
    "def my_function(x: str) -> str:\n",
    "    return _my_private_funct(x, 2)\n",
    "\n",
    "\n",
    "def _my_private_funct(x: str, size: int) -> str:\n",
    "    return x * size\n",
    "    "
   ]
  },
  {
   "cell_type": "code",
   "execution_count": 13,
   "metadata": {},
   "outputs": [],
   "source": [
    "def my_function(x: str) -> str:\n",
    "    return x * 2\n"
   ]
  },
  {
   "cell_type": "code",
   "execution_count": 16,
   "metadata": {},
   "outputs": [
    {
     "name": "stdout",
     "output_type": "stream",
     "text": [
      "result:\n",
      "30\n",
      "\n"
     ]
    }
   ],
   "source": [
    "# Multiple variable assignment\n",
    "v1 = v2 = v3 = 10\n",
    "result = v1+v2+v3\n",
    "print_name_value(result)"
   ]
  },
  {
   "cell_type": "code",
   "execution_count": 17,
   "metadata": {},
   "outputs": [
    {
     "name": "stdout",
     "output_type": "stream",
     "text": [
      "a:\n",
      "10\n",
      "\n",
      "b:\n",
      "20\n",
      "\n"
     ]
    }
   ],
   "source": [
    "a, b = 10, 20\n",
    "print_name_value(a)\n",
    "print_name_value(b)"
   ]
  },
  {
   "cell_type": "code",
   "execution_count": 18,
   "metadata": {},
   "outputs": [
    {
     "name": "stdout",
     "output_type": "stream",
     "text": [
      "a:\n",
      "10\n",
      "\n",
      "b:\n",
      "15\n",
      "\n",
      "Swap\n",
      "a:\n",
      "15\n",
      "\n",
      "b:\n",
      "10\n",
      "\n"
     ]
    }
   ],
   "source": [
    "a = 10\n",
    "b = 15\n",
    "print_name_value(a)\n",
    "print_name_value(b)\n",
    "print('Swap')\n",
    "a, b = b, a\n",
    "print_name_value(a)\n",
    "print_name_value(b)"
   ]
  },
  {
   "cell_type": "markdown",
   "metadata": {},
   "source": [
    "#### Variable types"
   ]
  },
  {
   "cell_type": "code",
   "execution_count": 18,
   "metadata": {},
   "outputs": [
    {
     "name": "stdout",
     "output_type": "stream",
     "text": [
      "Empty string: False\n",
      "Number Zero : False\n",
      "Empty list  : False\n",
      "Empty set   : False\n",
      "- - - - - - - - - - - - \n",
      "Other string    : True\n",
      "Not zero number : True\n",
      "Non-empty list  : True\n"
     ]
    }
   ],
   "source": [
    "# Boolean Variables\n",
    "option1 = True\n",
    "option2 = False\n",
    "option3 = None\n",
    "\n",
    "# False, empty list/set or empty string evaluates to 'False'. \n",
    "# Any other value is True.\n",
    "print('Empty string: {0}'.format(bool('')))\n",
    "print('Number Zero : {0}'.format(bool(0)))\n",
    "print('Empty list  : {0}'.format(bool([])))\n",
    "print('Empty set   : {0}'.format(bool(set())))\n",
    "print('- ' * 12)\n",
    "print('Other string    : {0}'.format(bool('abc')))\n",
    "print('Not zero number : {0}'.format(bool(1)))\n",
    "print('Non-empty list  : {0}'.format(bool([1])))"
   ]
  },
  {
   "cell_type": "markdown",
   "metadata": {},
   "source": [
    "#### Representing large numbers"
   ]
  },
  {
   "cell_type": "code",
   "execution_count": 19,
   "metadata": {},
   "outputs": [
    {
     "data": {
      "text/plain": [
       "True"
      ]
     },
     "execution_count": 19,
     "metadata": {},
     "output_type": "execute_result"
    }
   ],
   "source": [
    "# You can use underscore to make large numbers more readable.\n",
    "value1 = 1_000_000\n",
    "value2 = 1000000\n",
    "value1 == value2"
   ]
  },
  {
   "cell_type": "markdown",
   "metadata": {},
   "source": [
    "#### Numeric Operations"
   ]
  },
  {
   "cell_type": "code",
   "execution_count": 20,
   "metadata": {},
   "outputs": [
    {
     "name": "stdout",
     "output_type": "stream",
     "text": [
      "10 21\n"
     ]
    }
   ],
   "source": [
    "# We can document variable types to help readability but python wont enforce it.\n",
    "def sum_mult(a: int, b: int) -> (int, int):\n",
    "    return a+b, a*b\n",
    "\n",
    "\n",
    "x, y = sum_mult(3,7)\n",
    "print(x, y)"
   ]
  },
  {
   "cell_type": "code",
   "execution_count": 21,
   "metadata": {},
   "outputs": [
    {
     "name": "stdout",
     "output_type": "stream",
     "text": [
      "a += 1  -> 2\n",
      "a *= 5  -> 10\n",
      "Integer division: 22 // 5 -> 4\n",
      "Remainder  : 22 % 5  -> 2\n",
      "Both values: result=4, remainder=2\n"
     ]
    }
   ],
   "source": [
    "# Regular operations (+ - / *) and some additional operations \n",
    "\n",
    "# Updating variable based on current value.\n",
    "a = 1\n",
    "a += 1 # Get the value of a and add a number. ==> a = a + 1\n",
    "print('a += 1  -> {0}'.format(a))\n",
    "a *= 5\n",
    "msg = 'a *= 5  -> {0}'.format(a)\n",
    "print(msg)\n",
    "\n",
    "# Integer division, throws away remainders.\n",
    "print('Integer division: 22 // 5 -> {0}'.format(22//5))\n",
    "\n",
    "# Remainder or Modulus \n",
    "print('Remainder  : 22 % 5  -> {0}'.format(22 % 5))\n",
    "\n",
    "# Getting integer division and remainder at the same time.\n",
    "result, remainder = divmod(22, 5)\n",
    "print('Both values: result={0}, remainder={1}'.format(result, remainder))"
   ]
  },
  {
   "cell_type": "markdown",
   "metadata": {},
   "source": [
    "##### Number Bases "
   ]
  },
  {
   "cell_type": "code",
   "execution_count": 37,
   "metadata": {},
   "outputs": [
    {
     "name": "stdout",
     "output_type": "stream",
     "text": [
      "Binary 0b101 -> 5\n",
      "Octal  0o71  -> 57\n",
      "Hexa   0xA2  -> 162\n"
     ]
    }
   ],
   "source": [
    "print('Binary 0b101 -> {0}'.format(0b101))  # 4 + 1\n",
    "print('Octal  0o71  -> {0}'.format(0o71))   # 7*8 + 1\n",
    "print('Hexa   0xA2  -> {0}'.format(0xA2))   # 10*16 + 2"
   ]
  },
  {
   "cell_type": "markdown",
   "metadata": {},
   "source": [
    "#### Converting from one base to another"
   ]
  },
  {
   "cell_type": "code",
   "execution_count": 22,
   "metadata": {},
   "outputs": [
    {
     "name": "stdout",
     "output_type": "stream",
     "text": [
      "Binary: 0b1010111\n",
      "Octal : 0o127\n",
      "Hexadecimal: 0x57\n"
     ]
    }
   ],
   "source": [
    "number = 87\n",
    "print('Binary: {0}'.format(bin(number)))\n",
    "print('Octal : {0}'.format(oct(number)))\n",
    "print('Hexadecimal: {0}'.format(hex(number)))"
   ]
  },
  {
   "cell_type": "markdown",
   "metadata": {},
   "source": [
    "#### Converting chars"
   ]
  },
  {
   "cell_type": "code",
   "execution_count": 39,
   "metadata": {
    "tags": []
   },
   "outputs": [
    {
     "name": "stdout",
     "output_type": "stream",
     "text": [
      "67 97 108 105 102 111 114 110 105 97 "
     ]
    }
   ],
   "source": [
    "# From character to byte code.\n",
    "word = 'California'\n",
    "for letter in word:\n",
    "    print(ord(letter), end=' ')"
   ]
  },
  {
   "cell_type": "code",
   "execution_count": 27,
   "metadata": {},
   "outputs": [
    {
     "name": "stdout",
     "output_type": "stream",
     "text": [
      "C\n",
      "a\n",
      "l\n",
      "i\n",
      "f\n",
      "o\n",
      "r\n",
      "n\n",
      "i\n",
      "a\n",
      "- - - - - - - - - - - - \n",
      "California\n",
      "New York\n"
     ]
    }
   ],
   "source": [
    "# Strings are considered arrays.\n",
    "word = 'California'\n",
    "for elm in word:\n",
    "    print(elm)\n",
    "print('- ' * 12)\n",
    "word = ['California', 'New York']\n",
    "for elm in word:\n",
    "    print(elm)"
   ]
  },
  {
   "cell_type": "code",
   "execution_count": 25,
   "metadata": {},
   "outputs": [
    {
     "name": "stdout",
     "output_type": "stream",
     "text": [
      "California"
     ]
    }
   ],
   "source": [
    "# Converting back to string.\n",
    "word_list = [67,97,108,105,102,111,114,110,105,97]\n",
    "for letter in word_list:\n",
    "    print(chr(letter), end='')"
   ]
  },
  {
   "cell_type": "markdown",
   "metadata": {},
   "source": [
    "#### Casting variables to another type"
   ]
  },
  {
   "cell_type": "code",
   "execution_count": 31,
   "metadata": {},
   "outputs": [
    {
     "name": "stdout",
     "output_type": "stream",
     "text": [
      "Original = 2.3, \n",
      "Converted to integer = 2\n"
     ]
    }
   ],
   "source": [
    "a_float_number = 2.3\n",
    "print('Original = {my_float}, \\nConverted to integer = {my_int}'.format(\n",
    "    my_float=a_float_number, my_int=int(a_float_number)))"
   ]
  },
  {
   "cell_type": "code",
   "execution_count": 34,
   "metadata": {},
   "outputs": [
    {
     "name": "stdout",
     "output_type": "stream",
     "text": [
      "Original = {my_float}, \n",
      "Converted to integer = {my_int}\n"
     ]
    }
   ],
   "source": [
    "a_float_number = 2.3\n",
    "my_int=int(a_float_number)\n",
    "my_float=a_float_number\n",
    "print('Original = {my_float}, \\nConverted to integer = {my_int}')"
   ]
  },
  {
   "cell_type": "code",
   "execution_count": null,
   "metadata": {},
   "outputs": [],
   "source": []
  }
 ],
 "metadata": {
  "kernelspec": {
   "display_name": "Python 3 (ipykernel)",
   "language": "python",
   "name": "python3"
  },
  "language_info": {
   "codemirror_mode": {
    "name": "ipython",
    "version": 3
   },
   "file_extension": ".py",
   "mimetype": "text/x-python",
   "name": "python",
   "nbconvert_exporter": "python",
   "pygments_lexer": "ipython3",
   "version": "3.10.6"
  }
 },
 "nbformat": 4,
 "nbformat_minor": 4
}
