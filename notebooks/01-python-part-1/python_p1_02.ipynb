{
 "cells": [
  {
   "cell_type": "markdown",
   "metadata": {},
   "source": [
    "#### Conditional Statements"
   ]
  },
  {
   "cell_type": "code",
   "execution_count": 2,
   "metadata": {},
   "outputs": [
    {
     "name": "stdout",
     "output_type": "stream",
     "text": [
      "Large class\n"
     ]
    }
   ],
   "source": [
    "num_students = 45\n",
    "if num_students > 30:\n",
    "    print('Large class')\n",
    "else:\n",
    "    print('Regular sized class')"
   ]
  },
  {
   "cell_type": "code",
   "execution_count": 1,
   "metadata": {},
   "outputs": [
    {
     "name": "stdout",
     "output_type": "stream",
     "text": [
      "type_1 - summary\n"
     ]
    }
   ],
   "source": [
    "# Multiple levels of conditional statements.\n",
    "report_type = 'type_1'\n",
    "report_detail = 'summary'\n",
    "if report_type == 'type_1':\n",
    "    if report_detail == 'summary':\n",
    "        print('type_1 - summary')\n",
    "    else:\n",
    "        print('type_1 - detail')\n",
    "elif report_type == 'type_2':\n",
    "    if report_detail == 'summary':\n",
    "        print('type_2 - summary')\n",
    "    else:\n",
    "        print('type_2 - detail')\n",
    "else:\n",
    "    print('Invalid report')"
   ]
  },
  {
   "cell_type": "code",
   "execution_count": 2,
   "metadata": {},
   "outputs": [
    {
     "name": "stdout",
     "output_type": "stream",
     "text": [
      "type_1 - summary\n"
     ]
    }
   ],
   "source": [
    "# Can be organized like this.\n",
    "if report_type == 'type_1' and report_detail == 'summary':\n",
    "    print('type_1 - summary')\n",
    "elif report_type == 'type_1' and report_detail != 'summary':\n",
    "    print('type_1 - detail')\n",
    "elif report_type == 'type_2' and report_detail == 'summary':\n",
    "    print('type_2 - summary')\n",
    "elif report_type == 'type_2' and report_detail != 'summary':\n",
    "    print('type_2 - detail')\n",
    "else:\n",
    "    print('Invalid report')"
   ]
  },
  {
   "cell_type": "code",
   "execution_count": 9,
   "metadata": {},
   "outputs": [
    {
     "name": "stdout",
     "output_type": "stream",
     "text": [
      "Detail\n"
     ]
    }
   ],
   "source": [
    "# Comparing a variable with a several values\n",
    "log_level = 'INFO'\n",
    "if log_level == 'WARNING' or log_level == 'INFO' or log_level == 'DEBUG':\n",
    "    print('Detail')\n",
    "else:\n",
    "    print('Error')"
   ]
  },
  {
   "cell_type": "code",
   "execution_count": 12,
   "metadata": {},
   "outputs": [
    {
     "name": "stdout",
     "output_type": "stream",
     "text": [
      "Detail\n"
     ]
    }
   ],
   "source": [
    "# Better way to express it\n",
    "if log_level in ['WARNING', 'INFO', 'DEBUG']: # <- check if inside of list.\n",
    "    print('Detail')\n",
    "else:\n",
    "    print('Error')    "
   ]
  },
  {
   "cell_type": "code",
   "execution_count": 1,
   "metadata": {},
   "outputs": [
    {
     "name": "stdout",
     "output_type": "stream",
     "text": [
      "Large Square with area 144\n"
     ]
    }
   ],
   "source": [
    "# Walrus operator -> Assign the result to variable and return the value.\n",
    "# used to simplify if statements like the one below.\n",
    "size = 12\n",
    "square_area = size * size\n",
    "if square_area > 100:\n",
    "    print('Large Square with area {0}'.format(square_area))\n",
    "else:\n",
    "    print('Small Square with area {0}'.format(square_area))\n"
   ]
  },
  {
   "cell_type": "code",
   "execution_count": 2,
   "metadata": {},
   "outputs": [
    {
     "name": "stdout",
     "output_type": "stream",
     "text": [
      "Large Square with are 144\n"
     ]
    }
   ],
   "source": [
    "size = 12\n",
    "if (square_area := size * size) > 100:\n",
    "    print('Large Square with are {0}'.format(square_area))\n",
    "else:\n",
    "    print('Small Square with are {0}'.format(square_area))\n"
   ]
  },
  {
   "cell_type": "markdown",
   "metadata": {},
   "source": [
    "#### For loops"
   ]
  },
  {
   "cell_type": "code",
   "execution_count": 8,
   "metadata": {},
   "outputs": [
    {
     "name": "stdout",
     "output_type": "stream",
     "text": [
      "1 2 5 7 \n",
      " -  -  -  -  -  -  -  -  -  - \n",
      "1\n",
      "2\n",
      "5\n",
      "7\n"
     ]
    }
   ],
   "source": [
    "numbers = [1,2,5,7]\n",
    "for i in numbers:\n",
    "    print(i, end=' ')\n",
    "print('')\n",
    "print(' - ' * 10)\n",
    "for i in numbers:\n",
    "    print(i)"
   ]
  },
  {
   "cell_type": "code",
   "execution_count": 13,
   "metadata": {},
   "outputs": [
    {
     "name": "stdout",
     "output_type": "stream",
     "text": [
      "(1,2,5,7)\n"
     ]
    }
   ],
   "source": [
    "numbers = [str(x) for x in [1,2,5,7]]\n",
    "print('(' + ','.join(numbers) + ')')\n"
   ]
  },
  {
   "cell_type": "code",
   "execution_count": 20,
   "metadata": {},
   "outputs": [
    {
     "name": "stdout",
     "output_type": "stream",
     "text": [
      "60\n",
      "-- logs --\n",
      "x\n",
      "y1\n",
      "calc1(12, 5)\n"
     ]
    }
   ],
   "source": [
    "def calc_1(x, y, log_list):\n",
    "    log_list.append(f'calc1({x}, {y})')\n",
    "    return x * y\n",
    "\n",
    "\n",
    "logs = ['x', 'y1']\n",
    "print(calc_1(12,5, logs))\n",
    "print('-- logs --')\n",
    "print('\\n'.join(logs))\n"
   ]
  },
  {
   "cell_type": "markdown",
   "metadata": {},
   "source": [
    "#### Controling for loop execution by stopping or skipping"
   ]
  },
  {
   "cell_type": "code",
   "execution_count": 4,
   "metadata": {},
   "outputs": [
    {
     "name": "stdout",
     "output_type": "stream",
     "text": [
      "1 2 7 "
     ]
    }
   ],
   "source": [
    "# Skipping one loop.\n",
    "for i in numbers:\n",
    "    if i == 5:\n",
    "        continue\n",
    "    print(i, end=' ')"
   ]
  },
  {
   "cell_type": "code",
   "execution_count": 5,
   "metadata": {},
   "outputs": [
    {
     "name": "stdout",
     "output_type": "stream",
     "text": [
      "1 2 "
     ]
    }
   ],
   "source": [
    "# Stopping executing the loop.\n",
    "for i in numbers:\n",
    "    if i == 5:\n",
    "        break\n",
    "    print(i, end=' ')"
   ]
  },
  {
   "cell_type": "markdown",
   "metadata": {},
   "source": [
    "#### While loops"
   ]
  },
  {
   "cell_type": "code",
   "execution_count": 6,
   "metadata": {},
   "outputs": [
    {
     "name": "stdout",
     "output_type": "stream",
     "text": [
      "step -- 4 steps left\n",
      "step -- 3 steps left\n",
      "step -- 2 steps left\n",
      "step -- 1 steps left\n",
      "step -- 0 steps left\n"
     ]
    }
   ],
   "source": [
    "steps_left = 5\n",
    "while (steps_left > 0):\n",
    "    steps_left -= 1\n",
    "    print('step', end=' -- ')\n",
    "    print('{0} steps left'.format(steps_left))\n"
   ]
  },
  {
   "cell_type": "code",
   "execution_count": 3,
   "metadata": {},
   "outputs": [
    {
     "name": "stdout",
     "output_type": "stream",
     "text": [
      "step -- 5 steps left\n",
      "step -- 4 steps left\n",
      "step -- 3 steps left\n",
      "step -- 2 steps left\n",
      "step -- 1 steps left\n"
     ]
    }
   ],
   "source": [
    "# You can control when to decrement. It this case we decrement at the end.\n",
    "steps_left = 5\n",
    "while(steps_left > 0):\n",
    "    print('step', end=' -- ')\n",
    "    print('{0} steps left'.format(steps_left))\n",
    "    steps_left -= 1 # steps_left = steps_left - 1\n"
   ]
  },
  {
   "cell_type": "code",
   "execution_count": 7,
   "metadata": {},
   "outputs": [
    {
     "name": "stdout",
     "output_type": "stream",
     "text": [
      "step -- 4 steps left\n",
      "step -- 3 steps left\n",
      "skipped\n",
      "step -- 1 steps left\n",
      "step -- 0 steps left\n"
     ]
    }
   ],
   "source": [
    "# Skipping steps.\n",
    "steps_left = 5\n",
    "while(steps_left > 0):\n",
    "    steps_left -= 1\n",
    "    if steps_left == 2:\n",
    "        print('skipped')\n",
    "        continue\n",
    "    print('step', end=' -- ')\n",
    "    print('{0} steps left'.format(steps_left))\n"
   ]
  },
  {
   "cell_type": "code",
   "execution_count": 6,
   "metadata": {
    "scrolled": true
   },
   "outputs": [
    {
     "name": "stdout",
     "output_type": "stream",
     "text": [
      "step -- 4 steps left\n",
      "step -- 3 steps left\n"
     ]
    }
   ],
   "source": [
    "# Forcing stopping at condition.\n",
    "steps_left = 5\n",
    "while(steps_left > 0):\n",
    "    steps_left -= 1\n",
    "    if steps_left == 2:\n",
    "        break\n",
    "    print('step', end=' -- ')\n",
    "    print('{0} steps left'.format(steps_left))"
   ]
  },
  {
   "cell_type": "code",
   "execution_count": 3,
   "metadata": {},
   "outputs": [
    {
     "name": "stdout",
     "output_type": "stream",
     "text": [
      "[1, 2]\n",
      "[]\n"
     ]
    }
   ],
   "source": [
    "# Accessing global variables from functions.\n",
    "_my_list = [1, 2]\n",
    "\n",
    "def clear_stack():\n",
    "    global _my_list\n",
    "    _my_list = []\n",
    "\n",
    "# .....\n",
    "print(_my_list)\n",
    "clear_stack()\n",
    "print(_my_list)"
   ]
  },
  {
   "cell_type": "code",
   "execution_count": 4,
   "metadata": {},
   "outputs": [
    {
     "name": "stdout",
     "output_type": "stream",
     "text": [
      "[1, 2]\n",
      "[1, 2]\n"
     ]
    }
   ],
   "source": [
    "# Without the 'global' statement it will create a local variable.\n",
    "_my_list = [1, 2]\n",
    "\n",
    "def clear_stack():\n",
    "    _my_list = []\n",
    "\n",
    "# .....\n",
    "print(_my_list)\n",
    "clear_stack()\n",
    "print(_my_list)\n"
   ]
  },
  {
   "cell_type": "code",
   "execution_count": 1,
   "metadata": {},
   "outputs": [
    {
     "name": "stdout",
     "output_type": "stream",
     "text": [
      "[1, 2]\n",
      "[]\n"
     ]
    }
   ],
   "source": [
    "# Better way to represent the operation.\n",
    "# You should minimize the use of global variables and if possible never use them.\n",
    "# Some frameworks require the use of a few.\n",
    "_my_list = [1, 2]\n",
    "\n",
    "def clean_list():\n",
    "    return []\n",
    "\n",
    "print(_my_list)\n",
    "_my_list = clean_list()\n",
    "print(_my_list)\n"
   ]
  },
  {
   "cell_type": "markdown",
   "metadata": {},
   "source": [
    "#### Using a list to function like a Stack."
   ]
  },
  {
   "cell_type": "code",
   "execution_count": 3,
   "metadata": {},
   "outputs": [],
   "source": [
    "# Stack is a Last In First out construct.\n",
    "# We push to the top of the stack \n",
    "# and pop from the top of the stack.\n",
    "# Imagine a stack of kitchen plates.\n",
    "#    - To push, you get a new plate, write value on the plate and put it on the top of the stack of plates.\n",
    "#    - To pop , you take the plate from the top and read the value we wrote.\n",
    "#      Then we erase the value we wrote and put aside the plate to be reused in the future.\n",
    "\n",
    "def get_stack():\n",
    "    return []\n",
    "    \n",
    "def clear_stack(stack):\n",
    "    stack = []\n",
    "\n",
    "def push(stack, elm):\n",
    "    print('pushing {}'.format(elm))\n",
    "    stack.append(elm)\n",
    "\n",
    "def pop(stack):\n",
    "    if len(stack):\n",
    "        poped_elm = stack.pop()\n",
    "        print('poping {}'.format(poped_elm))\n",
    "        return poped_elm\n",
    "    else:\n",
    "        print('Empty stack')\n",
    "    return None\n",
    "\n",
    "def peek(stack):\n",
    "    if len(stack):\n",
    "        print('peek at {}'.format(stack[-1]))\n",
    "        return stack[-1]\n",
    "    return None\n",
    "    \n",
    "def print_stack(stack):\n",
    "    print('Stack -> ', end=' ')\n",
    "    for elm in reversed(stack):\n",
    "        print(elm, end=' ')\n",
    "    print('')\n",
    "\n",
    "def two_val():\n",
    "    return 1, 2\n"
   ]
  },
  {
   "cell_type": "code",
   "execution_count": 5,
   "metadata": {},
   "outputs": [
    {
     "name": "stdout",
     "output_type": "stream",
     "text": [
      "2\n"
     ]
    }
   ],
   "source": [
    "_, b = two_val()\n",
    "print(b)"
   ]
  },
  {
   "cell_type": "code",
   "execution_count": 6,
   "metadata": {},
   "outputs": [
    {
     "name": "stdout",
     "output_type": "stream",
     "text": [
      "pushing 1\n",
      "pushing 2\n",
      "pushing 3\n",
      "pushing 4\n",
      "Stack ->  4 3 2 1 \n",
      "poping 4\n",
      "x=4\n",
      "Stack ->  3 2 1 \n",
      "pushing 100\n",
      "Stack ->  100 3 2 1 \n",
      "peek at 100\n",
      "Stack ->  100 3 2 1 \n",
      "poping 100\n",
      "Stack ->  3 2 1 \n"
     ]
    }
   ],
   "source": [
    "stack = get_stack()\n",
    "for i in range(1, 5):\n",
    "    push(stack, i)\n",
    "print_stack(stack)\n",
    "\n",
    "pop(stack)\n",
    "print_stack(stack)\n",
    "push(stack, 100)\n",
    "print_stack(stack)\n",
    "peek(stack)\n",
    "print_stack(stack)\n",
    "pop(stack)\n",
    "print_stack(stack)"
   ]
  },
  {
   "cell_type": "code",
   "execution_count": 4,
   "metadata": {},
   "outputs": [
    {
     "name": "stdout",
     "output_type": "stream",
     "text": [
      "\"None\" is None\n",
      "\"[]\" is False\n",
      "\"\" is False\n",
      "\"a\" is not False\n"
     ]
    }
   ],
   "source": [
    "def print_test(value):\n",
    "    if value is None:\n",
    "        print(f'\"{value}\" is None')\n",
    "    elif not value:\n",
    "        print(f'\"{value}\" is False')\n",
    "    else:\n",
    "        print(f'\"{value}\" is not False')\n",
    "\n",
    "def print_test2(value):\n",
    "    if not value:\n",
    "        print(f'\"{value}\" is False')\n",
    "    else:\n",
    "        print(f'\"{value}\" is not False')\n",
    "\n",
    "print_test(None)\n",
    "print_test([])\n",
    "print_test('')\n",
    "print_test('a')"
   ]
  },
  {
   "cell_type": "code",
   "execution_count": 7,
   "metadata": {},
   "outputs": [
    {
     "name": "stdout",
     "output_type": "stream",
     "text": [
      "\"None\" is False\n",
      "\"[]\" is False\n",
      "\"\" is False\n",
      "\"a\" is not False\n"
     ]
    }
   ],
   "source": [
    "print_test2(None)\n",
    "print_test2([])\n",
    "print_test2('')\n",
    "print_test2('a')"
   ]
  },
  {
   "cell_type": "code",
   "execution_count": null,
   "metadata": {},
   "outputs": [],
   "source": []
  }
 ],
 "metadata": {
  "kernelspec": {
   "display_name": "Python 3 (ipykernel)",
   "language": "python",
   "name": "python3"
  },
  "language_info": {
   "codemirror_mode": {
    "name": "ipython",
    "version": 3
   },
   "file_extension": ".py",
   "mimetype": "text/x-python",
   "name": "python",
   "nbconvert_exporter": "python",
   "pygments_lexer": "ipython3",
   "version": "3.9.7"
  }
 },
 "nbformat": 4,
 "nbformat_minor": 4
}
