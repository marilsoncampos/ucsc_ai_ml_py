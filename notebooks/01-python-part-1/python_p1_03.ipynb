{
 "cells": [
  {
   "cell_type": "markdown",
   "metadata": {},
   "source": [
    "#### Python Collections - Lists"
   ]
  },
  {
   "cell_type": "code",
   "execution_count": 1,
   "metadata": {},
   "outputs": [],
   "source": [
    "# Helper functions\n",
    "import inspect\n",
    "\n",
    "def print_name_value_addr(variable):\n",
    "    frame = inspect.currentframe()\n",
    "    frame = inspect.getouterframes(frame)[1]\n",
    "    ctx = inspect.getframeinfo(frame[0]).code_context[0].strip()\n",
    "    single_arg = ctx[ctx.find('(') + 1:-1].split(',')[0]\n",
    "    mem_variable = id(variable)\n",
    "    print(f'{single_arg} = {variable}, at memory addr({mem_variable})')\n",
    "    \n",
    "\n",
    "def print_name_value(variable):\n",
    "    frame = inspect.currentframe()\n",
    "    frame = inspect.getouterframes(frame)[1]\n",
    "    ctx = inspect.getframeinfo(frame[0]).code_context[0].strip()\n",
    "    single_arg = ctx[ctx.find('(') + 1:-1].split(',')[0]\n",
    "    mem_variable = id(variable)\n",
    "    print(f'{single_arg} = {variable}')\n",
    "    "
   ]
  },
  {
   "cell_type": "markdown",
   "metadata": {},
   "source": [
    "#### Variables in python are like labels pointing to a memory address."
   ]
  },
  {
   "cell_type": "code",
   "execution_count": 2,
   "metadata": {},
   "outputs": [
    {
     "name": "stdout",
     "output_type": "stream",
     "text": [
      "Before\n",
      "a = 1, at memory addr(281472881688816)\n",
      "b = 1, at memory addr(281472881688816)\n",
      "1 = 1, at memory addr(281472881688816)\n",
      "After\n",
      "b = 3, at memory addr(281472881688880)\n",
      "3 = 3, at memory addr(281472881688880)\n"
     ]
    }
   ],
   "source": [
    "a = 1\n",
    "b = a\n",
    "print('Before')\n",
    "print_name_value_addr(a)\n",
    "print_name_value_addr(b)\n",
    "print_name_value_addr(1)\n",
    "print('After')\n",
    "b = 3\n",
    "print_name_value_addr(b)\n",
    "print_name_value_addr(3)\n",
    "\n"
   ]
  },
  {
   "cell_type": "markdown",
   "metadata": {},
   "source": [
    "#### List operations are 'in place'"
   ]
  },
  {
   "cell_type": "code",
   "execution_count": 3,
   "metadata": {},
   "outputs": [
    {
     "name": "stdout",
     "output_type": "stream",
     "text": [
      "l1 = [1, 2, 3, '4', 5.0, 100], at memory addr(281472810244160)\n",
      "l2 = [1, 2, 3, '4', 5.0, 100], at memory addr(281472810244160)\n",
      "l3 = [1, 2, 3, '4', 5.0], at memory addr(281472810243968)\n"
     ]
    }
   ],
   "source": [
    "l1 = [1, 2, 3,'4', 5.0]\n",
    "l2 = l1 # l1 and l2 point to the same locations.\n",
    "l3 = l1.copy() # l3 is copy of the list and not affected by operations in l1\n",
    "l2.append(100)\n",
    "print_name_value_addr(l1)\n",
    "print_name_value_addr(l2)\n",
    "print_name_value_addr(l3)\n"
   ]
  },
  {
   "cell_type": "code",
   "execution_count": 4,
   "metadata": {},
   "outputs": [
    {
     "name": "stdout",
     "output_type": "stream",
     "text": [
      "l1 = [1, 2, 3, '4', 5.0, 100, 6], at memory addr(281472810244160)\n",
      "[1, 2, 3, '4', 5.0, 100, 6]\n",
      "[1, 2, 3, '4', 5.0]\n"
     ]
    }
   ],
   "source": [
    "# Be carefull with side effects. \n",
    "# Try to run this cell multiple times.\n",
    "l1.append(6)\n",
    "print_name_value_addr(l1)\n",
    "print(l1)\n",
    "print(l3)"
   ]
  },
  {
   "cell_type": "code",
   "execution_count": 5,
   "metadata": {},
   "outputs": [
    {
     "data": {
      "text/plain": [
       "[1, 2, 3, '4', 5.0, 6]"
      ]
     },
     "execution_count": 5,
     "metadata": {},
     "output_type": "execute_result"
    }
   ],
   "source": [
    "# Avoid creating code that changes 'input' (Idenpotency)\n",
    "# Create a fresh new copy everytime. Running multiple times always produce the same result.\n",
    "l0 = l3.copy()\n",
    "l0.append(6)\n",
    "l0"
   ]
  },
  {
   "cell_type": "code",
   "execution_count": 6,
   "metadata": {},
   "outputs": [
    {
     "data": {
      "text/plain": [
       "[1, 2, 100, 3, 4]"
      ]
     },
     "execution_count": 6,
     "metadata": {},
     "output_type": "execute_result"
    }
   ],
   "source": [
    "l4 = [1, 2, 3, 4]\n",
    "l4.insert(2, 100) # Remember lists are zero-based indexed. 2 = Third element\n",
    "l4"
   ]
  },
  {
   "cell_type": "code",
   "execution_count": 7,
   "metadata": {},
   "outputs": [
    {
     "name": "stdout",
     "output_type": "stream",
     "text": [
      "l4=[1, 2, 3, 1000, 4, 5, 6]-> Extended list correctly\n",
      "l6=[1, 2, 3, [1000, 4, 5, 6]]-> Added a new list element to the list.\n"
     ]
    }
   ],
   "source": [
    "# Extending lists.\n",
    "l4 = [1, 2, 3]\n",
    "l5 = [1000, 4, 5, 6]\n",
    "l4.extend(l5)\n",
    "print('l4=' + str(l4) + '-> Extended list correctly')\n",
    "l6 = [1, 2, 3]\n",
    "l6.append(l5)\n",
    "print('l6=' + str(l6)+ '-> Added a new list element to the list.')"
   ]
  },
  {
   "cell_type": "code",
   "execution_count": 8,
   "metadata": {},
   "outputs": [
    {
     "name": "stdout",
     "output_type": "stream",
     "text": [
      "step1 = [1000, 4, 5, [1, 2, 6]]\n",
      "step2 = [1, 2, 6]\n",
      "step3 = 2\n"
     ]
    }
   ],
   "source": [
    "# Accessing list elements\n",
    "a = [1, 2, 3, [1000, 4, 5, [1,2,6]]]\n",
    "step1 = a[3]\n",
    "print_name_value(step1)\n",
    "step2 = a[3][-1]\n",
    "print_name_value(step2)\n",
    "step3=a[3][-1][1]\n",
    "print_name_value(step3)"
   ]
  },
  {
   "cell_type": "code",
   "execution_count": 9,
   "metadata": {},
   "outputs": [
    {
     "data": {
      "text/plain": [
       "[1, 2, 3, 4, 5, 6]"
      ]
     },
     "execution_count": 9,
     "metadata": {},
     "output_type": "execute_result"
    }
   ],
   "source": [
    "# Removing elements from list. \n",
    "l4_copy = l4.copy()\n",
    "l4_copy.remove(1000)\n",
    "l4_copy"
   ]
  },
  {
   "cell_type": "markdown",
   "metadata": {},
   "source": [
    "#### Compare removing elements from the beginning vs. the end of a list."
   ]
  },
  {
   "cell_type": "code",
   "execution_count": 10,
   "metadata": {},
   "outputs": [
    {
     "name": "stdout",
     "output_type": "stream",
     "text": [
      "Removing elements beginning of lists, more expensive.\n"
     ]
    }
   ],
   "source": [
    "print('Removing elements beginning of lists, more expensive.')"
   ]
  },
  {
   "cell_type": "code",
   "execution_count": 11,
   "metadata": {},
   "outputs": [
    {
     "name": "stdout",
     "output_type": "stream",
     "text": [
      "881 ms ± 11.1 ms per loop (mean ± std. dev. of 5 runs, 4 loops each)\n"
     ]
    }
   ],
   "source": [
    "%%timeit -r 5 -n 4 \n",
    "# --- Removing elements beginning of lists, more expensive ---\n",
    "l4 = list(range(100_000))\n",
    "while l4:\n",
    "    x = l4.pop(0)    "
   ]
  },
  {
   "cell_type": "code",
   "execution_count": 12,
   "metadata": {},
   "outputs": [
    {
     "name": "stdout",
     "output_type": "stream",
     "text": [
      "4.25 ms ± 288 µs per loop (mean ± std. dev. of 5 runs, 4 loops each)\n"
     ]
    }
   ],
   "source": [
    "%%timeit -r 5 -n 4 \n",
    "# --- Better to reverse the list once the remove from the end ---\n",
    "l4 = list(range(100_000))\n",
    "rev_l4 = list(reversed(l4))\n",
    "while rev_l4:\n",
    "    rev_l4.pop()"
   ]
  },
  {
   "cell_type": "code",
   "execution_count": 13,
   "metadata": {},
   "outputs": [
    {
     "name": "stdout",
     "output_type": "stream",
     "text": [
      "original l4: [1, 2, 3, 4, 5, 6]\n",
      "l4.reverse() returns None\n",
      "Reverse is an \"in place\" operation: [6, 5, 4, 3, 2, 1]\n",
      "Reversed create another list: [1, 2, 3, 4, 5, 6]\n",
      "l4 is still reversed : [6, 5, 4, 3, 2, 1]\n"
     ]
    }
   ],
   "source": [
    "l4 = [1, 2, 3, 4, 5, 6]\n",
    "print('original l4: ' + str(l4))\n",
    "result = l4.reverse()\n",
    "print('l4.reverse() returns {0}'.format(result))\n",
    "print('Reverse is an \"in place\" operation: '+ str(l4))\n",
    "print('Reversed create another list: ' + str(list(reversed(l4))))\n",
    "print('l4 is still reversed : ' + str(l4))"
   ]
  },
  {
   "cell_type": "markdown",
   "metadata": {},
   "source": [
    "#### Sorting lists."
   ]
  },
  {
   "cell_type": "code",
   "execution_count": 14,
   "metadata": {},
   "outputs": [
    {
     "name": "stdout",
     "output_type": "stream",
     "text": [
      "Before sort: ['banana', 'apple', 'orange', 'fig', 'cherries']\n",
      "After sort : ['apple', 'banana', 'cherries', 'fig', 'orange']\n"
     ]
    }
   ],
   "source": [
    "words = ['banana', 'apple', 'orange', 'fig', 'cherries']\n",
    "print('Before sort: {0}'.format(words))\n",
    "words.sort()\n",
    "print('After sort : {0}'.format(words))"
   ]
  },
  {
   "cell_type": "code",
   "execution_count": 15,
   "metadata": {},
   "outputs": [
    {
     "name": "stdout",
     "output_type": "stream",
     "text": [
      "Sorting by word size descending.\n",
      "  Before sort: ['banana', 'apple', 'orange', 'fig', 'cherries']\n",
      "  After sort : ['cherries', 'banana', 'orange', 'apple', 'fig']\n"
     ]
    }
   ],
   "source": [
    "# Sorting from the largest words to the smallest.\n",
    "words = ['banana', 'apple', 'orange', 'fig', 'cherries']\n",
    "def inv_len(x):\n",
    "    return -len(x) # Trick to invert order\n",
    "print('Sorting by word size descending.')\n",
    "print('  Before sort: {0}'.format(words))\n",
    "words.sort(key=inv_len)\n",
    "print('  After sort : {0}'.format(words))"
   ]
  },
  {
   "cell_type": "code",
   "execution_count": 16,
   "metadata": {},
   "outputs": [
    {
     "name": "stdout",
     "output_type": "stream",
     "text": [
      "Sorting by word size descending using lambda functions.\n",
      "  Before sort: ['banana', 'apple', 'orange', 'fig', 'cherries']\n",
      "  After sort : ['cherries', 'banana', 'orange', 'apple', 'fig']\n"
     ]
    }
   ],
   "source": [
    "# Sorting from the largest words to the smallest.\n",
    "words = ['banana', 'apple', 'orange', 'fig', 'cherries']\n",
    "print('Sorting by word size descending using lambda functions.')\n",
    "print('  Before sort: {0}'.format(words))\n",
    "words.sort(key=lambda x: len(x), reverse=True) # Using the reverse sort option.\n",
    "print('  After sort : {0}'.format(words))\n"
   ]
  },
  {
   "cell_type": "code",
   "execution_count": 17,
   "metadata": {},
   "outputs": [
    {
     "name": "stdout",
     "output_type": "stream",
     "text": [
      "Sorting\n",
      "  Before sort: ['cherries', 'banana', 'orange', 'apple', 'fig']\n",
      "  After sort : ['banana', 'orange', 'apple', 'fig', 'cherries']\n"
     ]
    }
   ],
   "source": [
    "# Sort based on the last char and before last char of the word.\n",
    "def last_2char(fruit):\n",
    "    return (fruit[-1], fruit[-2])\n",
    "    \n",
    "words = ['cherries','banana', 'orange', 'apple', 'fig']\n",
    "print('Sorting')\n",
    "print('  Before sort: {0}'.format(words))\n",
    "words.sort(key=last_2char)\n",
    "print('  After sort : {0}'.format(words))\n"
   ]
  },
  {
   "cell_type": "markdown",
   "metadata": {},
   "source": [
    "#### Non destructive operations "
   ]
  },
  {
   "cell_type": "code",
   "execution_count": 18,
   "metadata": {},
   "outputs": [
    {
     "name": "stdout",
     "output_type": "stream",
     "text": [
      "rev_words = ['cherries', 'fig', 'orange', 'apple', 'banana']\n",
      "words = ['banana', 'apple', 'orange', 'fig', 'cherries']\n"
     ]
    }
   ],
   "source": [
    "words = ['banana', 'apple', 'orange', 'fig', 'cherries']\n",
    "rev_words = list(reversed(words)) # Creates a copy\n",
    "print_name_value(rev_words)\n",
    "print_name_value(words)"
   ]
  },
  {
   "cell_type": "code",
   "execution_count": 19,
   "metadata": {},
   "outputs": [
    {
     "name": "stdout",
     "output_type": "stream",
     "text": [
      "words_by_size = ['fig', 'apple', 'banana', 'orange', 'cherries']\n",
      "original_words = ['banana', 'apple', 'orange', 'fig', 'cherries']\n"
     ]
    }
   ],
   "source": [
    "original_words = ['banana', 'apple', 'orange', 'fig', 'cherries']\n",
    "words_by_size = sorted(original_words, key=len) # Creates a copy\n",
    "print_name_value(words_by_size)\n",
    "print_name_value(original_words)"
   ]
  },
  {
   "cell_type": "markdown",
   "metadata": {},
   "source": [
    "#### Slicing lists"
   ]
  },
  {
   "cell_type": "code",
   "execution_count": 20,
   "metadata": {},
   "outputs": [
    {
     "name": "stdout",
     "output_type": "stream",
     "text": [
      "1 2 3 4 5 6 7 8 9 "
     ]
    }
   ],
   "source": [
    "l1 = list(range(1, 10))\n",
    "l1\n",
    "for x in l1:\n",
    "    print(x,  end=' ')"
   ]
  },
  {
   "cell_type": "code",
   "execution_count": 21,
   "metadata": {},
   "outputs": [
    {
     "name": "stdout",
     "output_type": "stream",
     "text": [
      "l1 = [1, 2, 3, 4, 5, 6, 7, 8, 9], at memory addr(281472767120768)\n",
      "l2 = [3, 4, 5], at memory addr(281472810141440)\n",
      "l3 = [4, 5], at memory addr(281472833687104)\n",
      "l4 = [1, 2, 3, 4, 5, 6, 7, 8, 9], at memory addr(281472810244160)\n"
     ]
    }
   ],
   "source": [
    "# Slices create a copy of the list.\n",
    "\n",
    "print_name_value_addr(l1)\n",
    "l2 = l1[2:5]\n",
    "print_name_value_addr(l2)\n",
    "\n",
    "l3 = l2[1:]\n",
    "print_name_value_addr(l3)\n",
    "\n",
    "l4 = l1[:]\n",
    "print_name_value_addr(l4)\n"
   ]
  },
  {
   "cell_type": "code",
   "execution_count": 22,
   "metadata": {},
   "outputs": [
    {
     "name": "stdout",
     "output_type": "stream",
     "text": [
      "l1 = [1, 2, 3, 4, 5, 6, 7, 8, 9], at memory addr(281472767120768)\n",
      "l2 = [3, 999, 5], at memory addr(281472810141440)\n"
     ]
    }
   ],
   "source": [
    "# l2 change dont affect l1\n",
    "l2[1] = 999\n",
    "print_name_value_addr(l1)\n",
    "print_name_value_addr(l2)"
   ]
  },
  {
   "cell_type": "code",
   "execution_count": 23,
   "metadata": {
    "scrolled": true
   },
   "outputs": [
    {
     "name": "stdout",
     "output_type": "stream",
     "text": [
      "l1 = [1, 2, 3, 4, 5, 6, 7, 8, 9, 10, 11, 12, 13, 14, 15, 16, 17, 18, 19]\n",
      "l1[-4:-2] = [16, 17]\n",
      " \n"
     ]
    }
   ],
   "source": [
    "l1 = list(range(1, 20))\n",
    "print_name_value(l1)\n",
    "print_name_value(l1[-4:-2])\n",
    "print(' ')"
   ]
  },
  {
   "cell_type": "code",
   "execution_count": 24,
   "metadata": {},
   "outputs": [
    {
     "data": {
      "text/plain": [
       "[11, 12, 13, 14, 15, 16, 17]"
      ]
     },
     "execution_count": 24,
     "metadata": {},
     "output_type": "execute_result"
    }
   ],
   "source": [
    "# Starting the 9th last element and extracting up to the 2nd last\n",
    "l1[-9:-2]"
   ]
  },
  {
   "cell_type": "code",
   "execution_count": 25,
   "metadata": {},
   "outputs": [
    {
     "data": {
      "text/plain": [
       "[1, 2, 3, 4, 5, 6, 7, 8, 9, 10, 11, 12, 13, 14, 15, 16, 17, 18, 19]"
      ]
     },
     "execution_count": 25,
     "metadata": {},
     "output_type": "execute_result"
    }
   ],
   "source": [
    "l1"
   ]
  },
  {
   "cell_type": "code",
   "execution_count": 26,
   "metadata": {},
   "outputs": [
    {
     "data": {
      "text/plain": [
       "[2, 5, 8, 11, 14, 17]"
      ]
     },
     "execution_count": 26,
     "metadata": {},
     "output_type": "execute_result"
    }
   ],
   "source": [
    "# Slicing and skipping elemennts\n",
    "l1[1:-1:3] # Every third element starting from l1[1] until the last element."
   ]
  },
  {
   "cell_type": "markdown",
   "metadata": {},
   "source": [
    "#### List comprehensions"
   ]
  },
  {
   "cell_type": "code",
   "execution_count": 27,
   "metadata": {},
   "outputs": [
    {
     "name": "stdout",
     "output_type": "stream",
     "text": [
      "l1 = [3, 6, 9, 12, 15, 18, 21, 24, 27]\n",
      "double_l1 = [6, 12, 18, 24, 30, 36, 42, 48, 54]\n",
      "squares_of_odd = [9, 81, 225, 441, 729]\n",
      "my_calc_filtered = [17, 26, 35, 44, 53]\n"
     ]
    }
   ],
   "source": [
    "l1 = [x * 3 for x in range(1, 10)]\n",
    "print_name_value(l1)\n",
    "\n",
    "def my_calc(number):\n",
    "    return number * 2 + (number -1)\n",
    "\n",
    "def valid_num(number):\n",
    "    return number > 3 and number < 20\n",
    "\n",
    "double_l1 = [x*2 for x in l1]\n",
    "print_name_value(double_l1)\n",
    "\n",
    "# x % 2 == 1 means remainder of x divided by 2 is 1. Odd number\n",
    "squares_of_odd = [x*x for x in l1 if x % 2 == 1]\n",
    "print_name_value(squares_of_odd)\n",
    "\n",
    "my_calc_filtered = [my_calc(x) for x in l1 if valid_num(x)]\n",
    "print_name_value(my_calc_filtered)\n"
   ]
  },
  {
   "cell_type": "markdown",
   "metadata": {},
   "source": [
    "#### Multiple lists"
   ]
  },
  {
   "cell_type": "code",
   "execution_count": 28,
   "metadata": {},
   "outputs": [
    {
     "name": "stdout",
     "output_type": "stream",
     "text": [
      "  idx=0, value=3\n",
      "  idx=1, value=6\n",
      "  idx=2, value=9\n",
      "  idx=3, value=12\n",
      "  idx=4, value=15\n",
      "  idx=5, value=18\n",
      "  idx=6, value=21\n",
      "  idx=7, value=24\n",
      "  idx=8, value=27\n"
     ]
    }
   ],
   "source": [
    "# Listing indexes and values.\n",
    "for idx, v in enumerate(l1):\n",
    "    print(f'  idx={idx}, value={v}')"
   ]
  },
  {
   "cell_type": "code",
   "execution_count": 29,
   "metadata": {},
   "outputs": [
    {
     "name": "stdout",
     "output_type": "stream",
     "text": [
      "l1 = [1, 2, 3, 4]\n",
      "l2 = [100, 101, 102, 103]\n",
      "combined = [(1, 100), (2, 101), (3, 102), (4, 103)]\n",
      "combined_b = [(1, 100), (2, 101), (3, 102), (4, 103)]\n"
     ]
    }
   ],
   "source": [
    "# Assumes lists are the same size and use indexes to exrtact elements.\n",
    "l1 = list(range(1, 5))\n",
    "l2 = list(range(100, 104))\n",
    "combined = [(l1[idx], l2[idx]) for idx, _ in enumerate(l1)]\n",
    "combined_b = [(v, l2[idx]) for idx, v in enumerate(l1)]\n",
    "\n",
    "print_name_value(l1)\n",
    "print_name_value(l2)\n",
    "print_name_value(combined)\n",
    "print_name_value(combined_b)\n"
   ]
  },
  {
   "cell_type": "code",
   "execution_count": 30,
   "metadata": {
    "scrolled": true
   },
   "outputs": [
    {
     "name": "stdout",
     "output_type": "stream",
     "text": [
      "[(1, 100), (1, 101), (1, 102), (2, 100), (2, 101), (2, 102)]\n",
      " \n"
     ]
    }
   ],
   "source": [
    "# Generates the cartesian product by hand.\n",
    "from pprint import pprint as prt\n",
    "l1 = list(range(1, 3))\n",
    "l2 = list(range(100, 103))\n",
    "# the for loops read on the same order if you did not use list comprehentions.\n",
    "combined = [(x,y) \n",
    "            for x in l1 \n",
    "            for y in l2]\n",
    "prt(combined)\n",
    "print(' ')"
   ]
  },
  {
   "cell_type": "code",
   "execution_count": 31,
   "metadata": {},
   "outputs": [
    {
     "name": "stdout",
     "output_type": "stream",
     "text": [
      "[(1, 100), (1, 101), (1, 102), (2, 100), (2, 101), (2, 102)]\n"
     ]
    }
   ],
   "source": [
    "# Same result without list comprehensions.\n",
    "from pprint import pprint as prt\n",
    "l1 = list(range(1, 3))\n",
    "l2 = list(range(100, 103))\n",
    "result = []\n",
    "for x in l1:\n",
    "    for y in l2:\n",
    "      result.append((x,y))\n",
    "prt(result)"
   ]
  },
  {
   "cell_type": "code",
   "execution_count": 32,
   "metadata": {},
   "outputs": [
    {
     "name": "stdout",
     "output_type": "stream",
     "text": [
      "[(1, 100), (1, 101), (1, 102), (2, 100), (2, 101), (2, 102)]\n"
     ]
    }
   ],
   "source": [
    "# There is a python module that implements it.\n",
    "import itertools\n",
    "\n",
    "result = list(itertools.product(l1, l2))\n",
    "prt(result)"
   ]
  },
  {
   "cell_type": "markdown",
   "metadata": {},
   "source": [
    "#### Building results in lists and formatting the output."
   ]
  },
  {
   "cell_type": "code",
   "execution_count": 55,
   "metadata": {},
   "outputs": [
    {
     "name": "stdout",
     "output_type": "stream",
     "text": [
      "1\n",
      "2\n",
      "3\n"
     ]
    }
   ],
   "source": [
    "results =['1','2','3']\n",
    "print('\\n'.join(results))"
   ]
  },
  {
   "cell_type": "code",
   "execution_count": 57,
   "metadata": {},
   "outputs": [
    {
     "name": "stdout",
     "output_type": "stream",
     "text": [
      " \n",
      "(1, 100) (1, 101) (1, 102) (2, 100) (2, 101) (2, 102)\n"
     ]
    }
   ],
   "source": [
    "# The above is equivalent to the following code.\n",
    "from pprint import pprint as prt\n",
    "combined = []\n",
    "for x in l1:\n",
    "    for y in l2:\n",
    "        combined.append((x,y))\n",
    "print(' ')\n",
    "print(' '.join([str(x) for x in combined]))"
   ]
  },
  {
   "cell_type": "code",
   "execution_count": 58,
   "metadata": {},
   "outputs": [
    {
     "name": "stdout",
     "output_type": "stream",
     "text": [
      "[1, 2, 3, 4]\n",
      "[100, 101, 102, 103]\n",
      "[100, 101, 102, 300, 303, 306, 400, 404, 408]\n"
     ]
    }
   ],
   "source": [
    "# Filtering elements from both arrays.\n",
    "from pprint import pprint as prt\n",
    "l1 = list(range(1, 5))\n",
    "l2 = list(range(100, 104))\n",
    "l1_times_l2 = [\n",
    "    x * y\n",
    "    for x in l1 if x != 2 \n",
    "    for y in l2 if y !=103]\n",
    "prt(l1)\n",
    "prt(l2)\n",
    "prt(l1_times_l2)"
   ]
  },
  {
   "cell_type": "code",
   "execution_count": 59,
   "metadata": {},
   "outputs": [
    {
     "name": "stdout",
     "output_type": "stream",
     "text": [
      "l1 = [1, 2, 3]\n",
      "l2 = [100, 101, 102, 103]\n",
      "100 101 102 300 303 306 "
     ]
    }
   ],
   "source": [
    "# Same filter without comprehensions.\n",
    "l1 = list(range(1, 4))\n",
    "l2 = list(range(100, 104))\n",
    "\n",
    "print_name_value(l1)\n",
    "print_name_value(l2)\n",
    "for x in l1:\n",
    "    if x == 2:\n",
    "        continue    \n",
    "    for y in l2:\n",
    "        if y == 103:\n",
    "            continue\n",
    "        print(x * y, end=' ')\n",
    "        "
   ]
  },
  {
   "cell_type": "markdown",
   "metadata": {},
   "source": [
    "#### Ranges vs Values"
   ]
  },
  {
   "cell_type": "code",
   "execution_count": 60,
   "metadata": {},
   "outputs": [
    {
     "name": "stdout",
     "output_type": "stream",
     "text": [
      "r1 = range(0, 4)\n",
      "l1 = [0, 1, 2, 3]\n"
     ]
    }
   ],
   "source": [
    "r1 = range(4) # This is an object\n",
    "print_name_value(r1) \n",
    "l1 = list(r1) # This is a list with the data.\n",
    "print_name_value(l1)"
   ]
  },
  {
   "cell_type": "markdown",
   "metadata": {},
   "source": [
    "##### Matrixes"
   ]
  },
  {
   "cell_type": "code",
   "execution_count": 61,
   "metadata": {},
   "outputs": [
    {
     "name": "stdout",
     "output_type": "stream",
     "text": [
      "[1, 2, 3, 4, 5]\n",
      "4\n"
     ]
    }
   ],
   "source": [
    "# A Matrix\n",
    "m1 = [\n",
    "    [1, 2, 3, 4, 5],\n",
    "    [6, 7, 8, 9, 10]\n",
    "]\n",
    "print(m1[0])\n",
    "print(m1[0][3])"
   ]
  },
  {
   "cell_type": "code",
   "execution_count": 62,
   "metadata": {},
   "outputs": [
    {
     "name": "stdout",
     "output_type": "stream",
     "text": [
      "Original:\n",
      "\n",
      "[\n",
      " [1, 2, 3, 4, 5]\n",
      " [6, 7, 8, 9, 10]\n",
      "]\n",
      " \n",
      "Transposed:\n",
      "\n",
      "[\n",
      " [1, 6]\n",
      " [2, 7]\n",
      " [3, 8]\n",
      " [4, 9]\n",
      " [5, 10]\n",
      "]\n"
     ]
    }
   ],
   "source": [
    "# Transposing a matrix\n",
    "\n",
    "def print_matrix(mt):\n",
    "    print('[')\n",
    "    for row in mt:\n",
    "        print(' '+ str(row))\n",
    "    print(']')\n",
    "\n",
    "def generate_row(i, mtx):\n",
    "    result = []\n",
    "    for row in mtx:\n",
    "        result.append(row[i])\n",
    "    # print(result)\n",
    "    return result\n",
    "\n",
    "# Transpose the matrix\n",
    "m1 = [\n",
    "    [1, 2, 3, 4, 5],\n",
    "    [6, 7, 8, 9, 10]\n",
    "]\n",
    "m1_transposed = [generate_row(i, m1) for i in range(len(m1[0]))]\n",
    "print('Original:\\n')\n",
    "print_matrix(m1)\n",
    "print(' ')\n",
    "print('Transposed:\\n')\n",
    "print_matrix(m1_transposed)"
   ]
  },
  {
   "cell_type": "code",
   "execution_count": 63,
   "metadata": {},
   "outputs": [
    {
     "name": "stdout",
     "output_type": "stream",
     "text": [
      "Original:\n",
      "\n",
      "[\n",
      " [1, 2, 3, 4, 5]\n",
      " [6, 7, 8, 9, 10]\n",
      "]\n",
      " \n",
      "Transposed:\n",
      "\n",
      "[\n",
      " [1, 6]\n",
      " [2, 7]\n",
      " [3, 8]\n",
      " [4, 9]\n",
      " [5, 10]\n",
      "]\n"
     ]
    }
   ],
   "source": [
    "# Transpose the matrix without list comprehensions\n",
    "def print_matrix(mt):\n",
    "    print('[')\n",
    "    for row in mt:\n",
    "        print(' '+ str(row))\n",
    "    print(']')\n",
    "m1 = [\n",
    "    [1, 2, 3, 4, 5],\n",
    "    [6, 7, 8, 9, 10]\n",
    "]\n",
    "another_transposed = []\n",
    "for col in range(len(m1[0])):\n",
    "    new_row = []\n",
    "    for row in m1:\n",
    "        new_row.append(row[col])\n",
    "    another_transposed.append(new_row)\n",
    "  \n",
    "print('Original:\\n')\n",
    "print_matrix(m1)\n",
    "print(' ')\n",
    "print('Transposed:\\n')\n",
    "print_matrix(another_transposed)"
   ]
  },
  {
   "cell_type": "markdown",
   "metadata": {},
   "source": [
    "#### Copy vs Deepcopy"
   ]
  },
  {
   "cell_type": "code",
   "execution_count": 70,
   "metadata": {},
   "outputs": [
    {
     "name": "stdout",
     "output_type": "stream",
     "text": [
      "[1, '1000', [5, 6]]\n",
      "[1, [2, 3], [5, 6]]\n"
     ]
    }
   ],
   "source": [
    "# Copy works for one level.\n",
    "a = [1, [2,3], [5,6]]\n",
    "b = a.copy()\n",
    "a[1] = '1000'  \n",
    "print(a)\n",
    "print(b)"
   ]
  },
  {
   "cell_type": "code",
   "execution_count": 71,
   "metadata": {},
   "outputs": [
    {
     "name": "stdout",
     "output_type": "stream",
     "text": [
      "[1, [2, 1000], [5, 6]]\n",
      "[1, [2, 1000], [5, 6]]\n"
     ]
    }
   ],
   "source": [
    "# It does not work for element on multiple levels.\n",
    "l1 = [1, [2,3], [5,6]]\n",
    "l2 = l1.copy()\n",
    "l2[1][1]=1000\n",
    "print(l1)\n",
    "print(l2)"
   ]
  },
  {
   "cell_type": "code",
   "execution_count": 72,
   "metadata": {},
   "outputs": [
    {
     "name": "stdout",
     "output_type": "stream",
     "text": [
      "[1, [2, 3], [5, 6]]\n",
      "[1, [2, 1000], [5, 6]]\n"
     ]
    }
   ],
   "source": [
    "from copy import deepcopy\n",
    "# Need deepcopy to compute correctly.\n",
    "l1 = [1, [2,3], [5,6]]\n",
    "l2 = deepcopy(l1)\n",
    "l2[1][1]=1000\n",
    "print(l1)\n",
    "print(l2)"
   ]
  },
  {
   "cell_type": "markdown",
   "metadata": {},
   "source": [
    "#### Creating classes that implements the 'Stack' and 'Queue' abstract datatypes.\n"
   ]
  },
  {
   "cell_type": "code",
   "execution_count": 89,
   "metadata": {},
   "outputs": [],
   "source": [
    "# Here we are creating a simple python class.\n",
    "# Class = Code + Data.\n",
    "# Notice that the _data member is completely hidden from the users.\n",
    "from pprint import pprint\n",
    "\n",
    "class SimpleQueue:\n",
    "    def __init__(self, name):\n",
    "        self._name = name\n",
    "        self._data = None\n",
    "        self.reset()\n",
    "        \n",
    "    def add(self, value):\n",
    "        print(f'> Add \"{value}\" to the {self._name} queue.')\n",
    "        self._data.append(value)\n",
    "        \n",
    "    def take(self):\n",
    "        if len(self._data):\n",
    "            value = self._data.pop(0)\n",
    "            print(f'> Remove \"{value}\" from the {self._name} queue.')\n",
    "            return value\n",
    "        return None\n",
    "    \n",
    "    def reset(self):\n",
    "        print(f'{self._name} queue is empty.')\n",
    "        self._data = []\n",
    "   \n",
    "    def __repr__(self):\n",
    "        result = []\n",
    "        filler = '- ' * 5\n",
    "        class_name = self.__class__.__name__\n",
    "        data = self._data\n",
    "        return f'{class_name}({self._name}, {data})'\n",
    "         \n",
    "    def __str__(self):\n",
    "        result = []\n",
    "        filler = '- ' * 5\n",
    "        return '' + self._name + ' queue = {0}'.format(self._data)\n",
    "         \n",
    "        \n",
    "    def print(self):\n",
    "        filler = '- ' * 5\n",
    "        pprint(filler + self._name + ' ' + filler)\n",
    "        pprint(self._data)\n",
    "  \n",
    "\n",
    "class SimpleStack:\n",
    "    def __init__(self, name):\n",
    "        self._name = name\n",
    "        self._data = None\n",
    "        self.num_ops = 0\n",
    "        self.reset()\n",
    "        \n",
    "    def push(self, value):\n",
    "        print(f'> push \"{value}\" to the {self._name} stack.')\n",
    "        self._data.append(value)\n",
    "        self.num_ops += 1\n",
    "        \n",
    "    def pop(self):\n",
    "        if len(self._data):\n",
    "            self.num_ops += 1\n",
    "            poped_value = self._data.pop(-1)\n",
    "            print(f'> pop \"{poped_value}\" from the {self._name} stack.')\n",
    "            return poped_value\n",
    "        return None\n",
    "    \n",
    "    def reset(self):\n",
    "        print(f'{self._name} stack is empty.')\n",
    "        self.num_ops = 0\n",
    "        self._data = []\n",
    "        \n",
    "    def print(self):\n",
    "        filler = '- ' * 5\n",
    "        pprint(filler + self._name + ' ' + filler)\n",
    "        pprint(self._data)\n",
    "        print('Num ops = {0}'.format(self.num_ops))\n"
   ]
  },
  {
   "cell_type": "code",
   "execution_count": 90,
   "metadata": {},
   "outputs": [
    {
     "name": "stdout",
     "output_type": "stream",
     "text": [
      "q1 queue is empty.\n",
      "> Add \"1\" to the q1 queue.\n",
      "> Add \"2\" to the q1 queue.\n",
      "> Add \"3\" to the q1 queue.\n",
      "> Add \"4\" to the q1 queue.\n",
      "> Add \"5\" to the q1 queue.\n",
      "........................................\n",
      "q1 queue = [1, 2, 3, 4, 5]\n",
      "SimpleQueue(q1, [1, 2, 3, 4, 5])\n"
     ]
    }
   ],
   "source": [
    "# A Queue is a FIFO construct - First in First out\n",
    "q1 = SimpleQueue('q1')\n",
    "for elm in range(1,6):\n",
    "    q1.add(elm)\n",
    "print('.' * 40)\n",
    "print(q1)\n",
    "print(repr(q1))"
   ]
  },
  {
   "cell_type": "code",
   "execution_count": 91,
   "metadata": {},
   "outputs": [
    {
     "name": "stdout",
     "output_type": "stream",
     "text": [
      "q1 queue is empty.\n",
      "q2 queue is empty.\n",
      "> Add \"1\" to the q1 queue.\n",
      "> Add \"2\" to the q1 queue.\n",
      "> Add \"3\" to the q1 queue.\n",
      "> Add \"4\" to the q1 queue.\n",
      "> Add \"5\" to the q1 queue.\n",
      "> Add \"10\" to the q2 queue.\n",
      "> Add \"11\" to the q2 queue.\n",
      "> Add \"12\" to the q2 queue.\n",
      "> Add \"13\" to the q2 queue.\n",
      "> Add \"14\" to the q2 queue.\n",
      "> Add \"15\" to the q2 queue.\n",
      "'- - - - - q1 - - - - - '\n",
      "[1, 2, 3, 4, 5]\n",
      "'- - - - - q2 - - - - - '\n",
      "[10, 11, 12, 13, 14, 15]\n",
      "> Remove \"1\" from the q1 queue.\n",
      "Took 1\n",
      "'- - - - - q1 - - - - - '\n",
      "[2, 3, 4, 5]\n",
      "> Add \"80\" to the q2 queue.\n",
      "'- - - - - q2 - - - - - '\n",
      "[10, 11, 12, 13, 14, 15, 80]\n",
      "q1 queue is empty.\n",
      "'- - - - - q1 - - - - - '\n",
      "[]\n"
     ]
    }
   ],
   "source": [
    "# A Queue is a FIFO construct - First in First out\n",
    "q1 = SimpleQueue('q1')\n",
    "q2 = SimpleQueue('q2')\n",
    "for elm in range(1,6):\n",
    "    q1.add(elm)\n",
    "for elm in range(10,16):\n",
    "    q2.add(elm)\n",
    "q1.print()\n",
    "q2.print()\n",
    "print('Took {0}'.format(q1.take()))\n",
    "q1.print()\n",
    "q2.add(80)\n",
    "q2.print()\n",
    "q1.reset()\n",
    "q1.print()\n"
   ]
  },
  {
   "cell_type": "code",
   "execution_count": 87,
   "metadata": {},
   "outputs": [],
   "source": [
    "# A function that receives an object as parameter.\n",
    "def populate(stack, list_values):\n",
    "    '''\n",
    "    Adds elements from the list into the stack object\n",
    "    '''\n",
    "    for x in list_values:\n",
    "        stack.push(x)"
   ]
  },
  {
   "cell_type": "code",
   "execution_count": 92,
   "metadata": {},
   "outputs": [
    {
     "name": "stdout",
     "output_type": "stream",
     "text": [
      "s1 stack is empty.\n",
      "s2 stack is empty.\n",
      "> push \"1\" to the s1 stack.\n",
      "> push \"3\" to the s1 stack.\n",
      "> push \"4\" to the s1 stack.\n",
      "> push \"11\" to the s2 stack.\n",
      "> push \"31\" to the s2 stack.\n",
      "> push \"41\" to the s2 stack.\n",
      "'- - - - - s1 - - - - - '\n",
      "[1, 3, 4]\n",
      "Num ops = 3\n",
      "'- - - - - s2 - - - - - '\n",
      "[11, 31, 41]\n",
      "Num ops = 3\n",
      "> pop \"4\" from the s1 stack.\n",
      "4\n",
      "'- - - - - s1 - - - - - '\n",
      "[1, 3]\n",
      "Num ops = 4\n",
      "> push \"80\" to the s2 stack.\n",
      "'- - - - - s2 - - - - - '\n",
      "[11, 31, 41, 80]\n",
      "Num ops = 4\n"
     ]
    }
   ],
   "source": [
    "# A Stack is a LIFO construct - Last in First out\n",
    "s1 = SimpleStack('s1')\n",
    "s2 = SimpleStack('s2')\n",
    "populate(s1, [1,3,4])\n",
    "populate(s2, [11,31,41])\n",
    "s1.print()\n",
    "s2.print()\n",
    "print(s1.pop())\n",
    "s1.print()\n",
    "s2.push(80)\n",
    "s2.print()\n"
   ]
  },
  {
   "cell_type": "code",
   "execution_count": 96,
   "metadata": {},
   "outputs": [],
   "source": [
    "\n",
    "class AnotherStack:\n",
    "    def __init__(self, name):\n",
    "        self._name = name\n",
    "        self._data = None\n",
    "        self.num_ops = 0\n",
    "        self.reset()\n",
    "        \n",
    "    def push(self, value):\n",
    "        print(f'push \"{value}\" to the {self._name} stack.')\n",
    "        self._data.append(value)\n",
    "        self.num_ops += 1\n",
    "        \n",
    "    def pop(self):\n",
    "        if len(self._data):\n",
    "            self.num_ops += 1\n",
    "            poped_value = self._data.pop(-1)\n",
    "            print(f'pop \"{poped_value}\" from the {self._name} stack.')\n",
    "            return poped_value\n",
    "        return None\n",
    "    \n",
    "    def reset(self):\n",
    "        print(f'{self._name} stack is empty.')\n",
    "        self.num_ops = 0\n",
    "        self._data = []\n",
    "        \n",
    "    def print(self):\n",
    "        filler = '- ' * 5\n",
    "        rfiller = filler[::-1]\n",
    "        name = self._name\n",
    "        pprint(f'{filler}[{name}]{rfiller}')\n",
    "        pprint(self._data)\n",
    "        print('Num ops = {0}'.format(self.num_ops))\n",
    "        \n",
    "    def populate(self, list_values):\n",
    "        '''\n",
    "        Adds elements from the list into the stack object\n",
    "        '''\n",
    "        for x in list_values:\n",
    "            self.push(x)\n"
   ]
  },
  {
   "cell_type": "code",
   "execution_count": 97,
   "metadata": {},
   "outputs": [
    {
     "name": "stdout",
     "output_type": "stream",
     "text": [
      "a1 stack is empty.\n",
      "a2 stack is empty.\n",
      "push \"1\" to the a1 stack.\n",
      "push \"3\" to the a1 stack.\n",
      "push \"4\" to the a1 stack.\n",
      "push \"11\" to the a2 stack.\n",
      "push \"31\" to the a2 stack.\n",
      "push \"41\" to the a2 stack.\n",
      "'- - - - - [a1] - - - - -'\n",
      "[1, 3, 4]\n",
      "Num ops = 3\n",
      "'- - - - - [a2] - - - - -'\n",
      "[11, 31, 41]\n",
      "Num ops = 3\n",
      "pop \"4\" from the a1 stack.\n",
      "4\n",
      "'- - - - - [a1] - - - - -'\n",
      "[1, 3]\n",
      "Num ops = 4\n",
      "push \"80\" to the a2 stack.\n",
      "'- - - - - [a2] - - - - -'\n",
      "[11, 31, 41, 80]\n",
      "Num ops = 4\n"
     ]
    }
   ],
   "source": [
    "s1 = AnotherStack('a1')\n",
    "s2 = AnotherStack('a2')\n",
    "s1.populate([1,3,4])\n",
    "s2.populate([11,31,41])\n",
    "s1.print()\n",
    "s2.print()\n",
    "print(s1.pop())\n",
    "s1.print()\n",
    "s2.push(80)\n",
    "s2.print()\n"
   ]
  },
  {
   "cell_type": "code",
   "execution_count": null,
   "metadata": {},
   "outputs": [],
   "source": []
  },
  {
   "cell_type": "code",
   "execution_count": null,
   "metadata": {},
   "outputs": [],
   "source": []
  },
  {
   "cell_type": "code",
   "execution_count": null,
   "metadata": {},
   "outputs": [],
   "source": []
  }
 ],
 "metadata": {
  "kernelspec": {
   "display_name": "Python 3 (ipykernel)",
   "language": "python",
   "name": "python3"
  },
  "language_info": {
   "codemirror_mode": {
    "name": "ipython",
    "version": 3
   },
   "file_extension": ".py",
   "mimetype": "text/x-python",
   "name": "python",
   "nbconvert_exporter": "python",
   "pygments_lexer": "ipython3",
   "version": "3.10.6"
  }
 },
 "nbformat": 4,
 "nbformat_minor": 4
}
