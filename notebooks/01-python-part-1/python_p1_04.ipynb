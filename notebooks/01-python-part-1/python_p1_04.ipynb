{
 "cells": [
  {
   "cell_type": "markdown",
   "metadata": {},
   "source": [
    "#### Tuples & DataClasses"
   ]
  },
  {
   "cell_type": "code",
   "execution_count": 5,
   "metadata": {},
   "outputs": [],
   "source": [
    "# Helper functions\n",
    "import inspect\n",
    "\n",
    "def print_name_value_addr(variable):\n",
    "    frame = inspect.currentframe()\n",
    "    frame = inspect.getouterframes(frame)[1]\n",
    "    ctx = inspect.getframeinfo(frame[0]).code_context[0].strip()\n",
    "    single_arg = ctx[ctx.find('(') + 1:-1].split(',')[0]\n",
    "    mem_variable = id(variable)\n",
    "    print(f'{single_arg} = {variable}, at memory addr({mem_variable})')\n",
    "    \n",
    "\n",
    "def print_name_value(variable):\n",
    "    frame = inspect.currentframe()\n",
    "    frame = inspect.getouterframes(frame)[1]\n",
    "    ctx = inspect.getframeinfo(frame[0]).code_context[0].strip()\n",
    "    single_arg = ctx[ctx.find('(') + 1:-1].split(',')[0]\n",
    "    print(f'{single_arg} = {variable}')\n",
    "    \n",
    "def print_default_dict(variable):\n",
    "    variable = dict(variable)\n",
    "    frame = inspect.currentframe()\n",
    "    frame = inspect.getouterframes(frame)[1]\n",
    "    ctx = inspect.getframeinfo(frame[0]).code_context[0].strip()\n",
    "    variable_name = ctx[ctx.find('(') + 1:-1].split(',')[0]\n",
    "    print(f'{variable_name} = {variable}')"
   ]
  },
  {
   "cell_type": "markdown",
   "metadata": {},
   "source": [
    "#### Python Tuples"
   ]
  },
  {
   "cell_type": "code",
   "execution_count": 6,
   "metadata": {},
   "outputs": [
    {
     "name": "stdout",
     "output_type": "stream",
     "text": [
      "[1, 2]\n",
      "[100, 2]\n"
     ]
    }
   ],
   "source": [
    "a = [1,2]\n",
    "print(a)\n",
    "a[0] = 100\n",
    "print(a)"
   ]
  },
  {
   "cell_type": "code",
   "execution_count": 3,
   "metadata": {},
   "outputs": [
    {
     "name": "stdout",
     "output_type": "stream",
     "text": [
      "(1, 2)\n"
     ]
    },
    {
     "ename": "TypeError",
     "evalue": "'tuple' object does not support item assignment",
     "output_type": "error",
     "traceback": [
      "\u001b[1;31m---------------------------------------------------------------------------\u001b[0m",
      "\u001b[1;31mTypeError\u001b[0m                                 Traceback (most recent call last)",
      "\u001b[1;32m~\\AppData\\Local\\Temp\\ipykernel_4924\\3604202038.py\u001b[0m in \u001b[0;36m<module>\u001b[1;34m\u001b[0m\n\u001b[0;32m      2\u001b[0m \u001b[0ma\u001b[0m \u001b[1;33m=\u001b[0m \u001b[1;33m(\u001b[0m\u001b[1;36m1\u001b[0m\u001b[1;33m,\u001b[0m\u001b[1;36m2\u001b[0m\u001b[1;33m)\u001b[0m\u001b[1;33m\u001b[0m\u001b[1;33m\u001b[0m\u001b[0m\n\u001b[0;32m      3\u001b[0m \u001b[0mprint\u001b[0m\u001b[1;33m(\u001b[0m\u001b[0ma\u001b[0m\u001b[1;33m)\u001b[0m\u001b[1;33m\u001b[0m\u001b[1;33m\u001b[0m\u001b[0m\n\u001b[1;32m----> 4\u001b[1;33m \u001b[0ma\u001b[0m\u001b[1;33m[\u001b[0m\u001b[1;36m0\u001b[0m\u001b[1;33m]\u001b[0m \u001b[1;33m=\u001b[0m \u001b[1;36m100\u001b[0m\u001b[1;33m\u001b[0m\u001b[1;33m\u001b[0m\u001b[0m\n\u001b[0m\u001b[0;32m      5\u001b[0m \u001b[0mprint\u001b[0m\u001b[1;33m(\u001b[0m\u001b[0ma\u001b[0m\u001b[1;33m)\u001b[0m\u001b[1;33m\u001b[0m\u001b[1;33m\u001b[0m\u001b[0m\n",
      "\u001b[1;31mTypeError\u001b[0m: 'tuple' object does not support item assignment"
     ]
    }
   ],
   "source": [
    "# Tuples are imutable\n",
    "a = (1,2)\n",
    "print(a)\n",
    "a[0] = 100\n",
    "print(a)"
   ]
  },
  {
   "cell_type": "code",
   "execution_count": 4,
   "metadata": {},
   "outputs": [
    {
     "name": "stdout",
     "output_type": "stream",
     "text": [
      "(1, 2)\n"
     ]
    },
    {
     "ename": "TypeError",
     "evalue": "'tuple' object does not support item assignment",
     "output_type": "error",
     "traceback": [
      "\u001b[1;31m---------------------------------------------------------------------------\u001b[0m",
      "\u001b[1;31mTypeError\u001b[0m                                 Traceback (most recent call last)",
      "\u001b[1;32m~\\AppData\\Local\\Temp\\ipykernel_4924\\554135049.py\u001b[0m in \u001b[0;36m<module>\u001b[1;34m\u001b[0m\n\u001b[0;32m      5\u001b[0m     \u001b[0mprint\u001b[0m\u001b[1;33m(\u001b[0m\u001b[0ma\u001b[0m\u001b[1;33m)\u001b[0m\u001b[1;33m\u001b[0m\u001b[1;33m\u001b[0m\u001b[0m\n\u001b[0;32m      6\u001b[0m \u001b[1;33m\u001b[0m\u001b[0m\n\u001b[1;32m----> 7\u001b[1;33m \u001b[0mop1\u001b[0m\u001b[1;33m(\u001b[0m\u001b[1;33m)\u001b[0m\u001b[1;33m\u001b[0m\u001b[1;33m\u001b[0m\u001b[0m\n\u001b[0m",
      "\u001b[1;32m~\\AppData\\Local\\Temp\\ipykernel_4924\\554135049.py\u001b[0m in \u001b[0;36mop1\u001b[1;34m()\u001b[0m\n\u001b[0;32m      2\u001b[0m     \u001b[0ma\u001b[0m \u001b[1;33m=\u001b[0m \u001b[1;33m(\u001b[0m\u001b[1;36m1\u001b[0m\u001b[1;33m,\u001b[0m\u001b[1;36m2\u001b[0m\u001b[1;33m)\u001b[0m\u001b[1;33m\u001b[0m\u001b[1;33m\u001b[0m\u001b[0m\n\u001b[0;32m      3\u001b[0m     \u001b[0mprint\u001b[0m\u001b[1;33m(\u001b[0m\u001b[0ma\u001b[0m\u001b[1;33m)\u001b[0m\u001b[1;33m\u001b[0m\u001b[1;33m\u001b[0m\u001b[0m\n\u001b[1;32m----> 4\u001b[1;33m     \u001b[0ma\u001b[0m\u001b[1;33m[\u001b[0m\u001b[1;36m0\u001b[0m\u001b[1;33m]\u001b[0m \u001b[1;33m=\u001b[0m \u001b[1;36m100\u001b[0m\u001b[1;33m\u001b[0m\u001b[1;33m\u001b[0m\u001b[0m\n\u001b[0m\u001b[0;32m      5\u001b[0m     \u001b[0mprint\u001b[0m\u001b[1;33m(\u001b[0m\u001b[0ma\u001b[0m\u001b[1;33m)\u001b[0m\u001b[1;33m\u001b[0m\u001b[1;33m\u001b[0m\u001b[0m\n\u001b[0;32m      6\u001b[0m \u001b[1;33m\u001b[0m\u001b[0m\n",
      "\u001b[1;31mTypeError\u001b[0m: 'tuple' object does not support item assignment"
     ]
    }
   ],
   "source": [
    "def op1():\n",
    "    a = (1,2)\n",
    "    print(a)\n",
    "    a[0] = 100\n",
    "    print(a)\n",
    "    \n",
    "op1()"
   ]
  },
  {
   "cell_type": "code",
   "execution_count": 17,
   "metadata": {},
   "outputs": [
    {
     "name": "stdout",
     "output_type": "stream",
     "text": [
      "{'San Francisco': 'CA', 'New York': 'NY', 'city-0': 'St-0', 'city-1': 'St-1', 'city-2': 'St-2', 'city-3': 'St-3', 'city-4': 'St-4', 'city-5': 'St-5', 'city-6': 'St-6', 'city-7': 'St-7', 'city-8': 'St-8', 'city-9': 'St-9'}\n"
     ]
    }
   ],
   "source": [
    "d = {} # dict()\n",
    "d['San Francisco'] = 'CA'\n",
    "d['New York'] = 'NY'\n",
    "for i in range(10):\n",
    "    d[f'city-{i}'] = f'St-{i}'\n",
    "print(d)"
   ]
  },
  {
   "cell_type": "code",
   "execution_count": 18,
   "metadata": {},
   "outputs": [
    {
     "data": {
      "text/plain": [
       "857"
      ]
     },
     "execution_count": 18,
     "metadata": {},
     "output_type": "execute_result"
    }
   ],
   "source": [
    "# How dictionaries work.\n",
    "d['San Francisco']\n",
    "# offset = hash('San Francisco')\n",
    "offset = hash((1,2))\n",
    "offset % 1001\n",
    "# 0 1 2 3 4 5 6.    828     1000\n",
    "# x x x x x x x ...([('San Francisco','CA')], x x ... x\n"
   ]
  },
  {
   "cell_type": "code",
   "execution_count": 7,
   "metadata": {},
   "outputs": [
    {
     "name": "stdout",
     "output_type": "stream",
     "text": [
      "address = (1, 'Main St 123', 'Marin', 'CA', '94027', 1990, 2001)\n",
      "address[2] = Marin\n"
     ]
    }
   ],
   "source": [
    "# Tuples are like imutable records.\n",
    "# They are a convenient way to pack data.\n",
    "address = (1, 'Main St 123', 'Marin', 'CA', '94027', 1990, 2001)\n",
    "print_name_value(address)\n",
    "print_name_value(address[2])"
   ]
  },
  {
   "cell_type": "code",
   "execution_count": 10,
   "metadata": {},
   "outputs": [
    {
     "name": "stdout",
     "output_type": "stream",
     "text": [
      "address = (1, 'Main St 123', 'Marin', 'CA', '94027', 1990, 2001)\n",
      "address[FLD_CITY] = Marin\n"
     ]
    }
   ],
   "source": [
    "# A little more readable but not great.\n",
    "FLD_ID = 0\n",
    "FLD_CITY = 2\n",
    "address = (1, 'Main St 123', 'Marin', 'CA', '94027', 1990, 2001)\n",
    "print_name_value(address)\n",
    "print_name_value(address[FLD_CITY])"
   ]
  },
  {
   "cell_type": "code",
   "execution_count": 8,
   "metadata": {},
   "outputs": [
    {
     "name": "stdout",
     "output_type": "stream",
     "text": [
      "address2 = AddressRecord(idx=1, street='Main St 123', city='Marin', state='CA', zip_code='94027', move_in=1990, move_out=2001)\n",
      "address3 = AddressRecord(idx=1, street='Main St 123', city='Marin', state='CA', zip_code='94027', move_in=1990, move_out=2001)\n",
      "address2.city = Marin\n"
     ]
    }
   ],
   "source": [
    "# Python 3 added data classes that make the code clearer.\n",
    "from dataclasses import dataclass\n",
    "\n",
    "@dataclass(frozen=False)\n",
    "class AddressRecord:\n",
    "    \"\"\"A record representing an employee address\"\"\"\n",
    "    idx: int\n",
    "    street: str\n",
    "    city: str\n",
    "    state: str    \n",
    "    zip_code: str\n",
    "    move_in: int\n",
    "    move_out: int = 0\n",
    "\n",
    "# dataclasses are records.\n",
    "address2 = AddressRecord(1, 'Main St 123', 'Marin', 'CA', '94027', 1990, 2001)\n",
    "print_name_value(address2)\n",
    "address3 = AddressRecord(\n",
    "    idx=1, street='Main St 123', city='Marin', \n",
    "    state='CA', zip_code='94027', move_in=1990, \n",
    "    move_out=2001)\n",
    "print_name_value(address3)\n",
    "# A lot better than print(address[2])\n",
    "print_name_value(address2.city)"
   ]
  },
  {
   "cell_type": "code",
   "execution_count": 27,
   "metadata": {},
   "outputs": [
    {
     "data": {
      "text/plain": [
       "AddressRecord(idx=1, street='Main St 123', city='NY', state='CA', zip_code='94027', move_in=1990, move_out=2001)"
      ]
     },
     "execution_count": 27,
     "metadata": {},
     "output_type": "execute_result"
    }
   ],
   "source": [
    "address2.city = 'NY'\n",
    "address2"
   ]
  },
  {
   "cell_type": "code",
   "execution_count": 25,
   "metadata": {},
   "outputs": [
    {
     "name": "stdout",
     "output_type": "stream",
     "text": [
      "AddressRecord2(idx=1, street='Main St 123', city='Marin', state='CA', zip_code='94027', move_in=1990, move_out=2001)\n"
     ]
    },
    {
     "ename": "FrozenInstanceError",
     "evalue": "cannot assign to field 'city'",
     "output_type": "error",
     "traceback": [
      "\u001b[0;31m---------------------------------------------------------------------------\u001b[0m",
      "\u001b[0;31mFrozenInstanceError\u001b[0m                       Traceback (most recent call last)",
      "Cell \u001b[0;32mIn [25], line 18\u001b[0m\n\u001b[1;32m     13\u001b[0m immutable_addr \u001b[38;5;241m=\u001b[39m AddressRecord2(\n\u001b[1;32m     14\u001b[0m     idx\u001b[38;5;241m=\u001b[39m\u001b[38;5;241m1\u001b[39m, street\u001b[38;5;241m=\u001b[39m\u001b[38;5;124m'\u001b[39m\u001b[38;5;124mMain St 123\u001b[39m\u001b[38;5;124m'\u001b[39m, city\u001b[38;5;241m=\u001b[39m\u001b[38;5;124m'\u001b[39m\u001b[38;5;124mMarin\u001b[39m\u001b[38;5;124m'\u001b[39m, \n\u001b[1;32m     15\u001b[0m     state\u001b[38;5;241m=\u001b[39m\u001b[38;5;124m'\u001b[39m\u001b[38;5;124mCA\u001b[39m\u001b[38;5;124m'\u001b[39m, zip_code\u001b[38;5;241m=\u001b[39m\u001b[38;5;124m'\u001b[39m\u001b[38;5;124m94027\u001b[39m\u001b[38;5;124m'\u001b[39m, move_in\u001b[38;5;241m=\u001b[39m\u001b[38;5;241m1990\u001b[39m, \n\u001b[1;32m     16\u001b[0m     move_out\u001b[38;5;241m=\u001b[39m\u001b[38;5;241m2001\u001b[39m)\n\u001b[1;32m     17\u001b[0m \u001b[38;5;28mprint\u001b[39m(immutable_addr)\n\u001b[0;32m---> 18\u001b[0m \u001b[43mimmutable_addr\u001b[49m\u001b[38;5;241;43m.\u001b[39;49m\u001b[43mcity\u001b[49m \u001b[38;5;241m=\u001b[39m \u001b[38;5;124m'\u001b[39m\u001b[38;5;124mx\u001b[39m\u001b[38;5;124m'\u001b[39m\n",
      "File \u001b[0;32m<string>:4\u001b[0m, in \u001b[0;36m__setattr__\u001b[0;34m(self, name, value)\u001b[0m\n",
      "\u001b[0;31mFrozenInstanceError\u001b[0m: cannot assign to field 'city'"
     ]
    }
   ],
   "source": [
    "# If I create a record and set Frozen=True its immutable.\n",
    "@dataclass(frozen=True)\n",
    "class AddressRecord2:\n",
    "    \"\"\"A record representing an employee address\"\"\"\n",
    "    idx: int\n",
    "    street: str\n",
    "    city: str\n",
    "    state: str    \n",
    "    zip_code: str\n",
    "    move_in: int\n",
    "    move_out: int = 0\n",
    "\n",
    "immutable_addr = AddressRecord2(\n",
    "    idx=1, street='Main St 123', city='Marin', \n",
    "    state='CA', zip_code='94027', move_in=1990, \n",
    "    move_out=2001)\n",
    "print(immutable_addr)\n",
    "immutable_addr.city = 'x'\n"
   ]
  },
  {
   "cell_type": "markdown",
   "metadata": {},
   "source": [
    "#### Python Collections - Sets"
   ]
  },
  {
   "cell_type": "code",
   "execution_count": 9,
   "metadata": {},
   "outputs": [
    {
     "name": "stdout",
     "output_type": "stream",
     "text": [
      "list_with_duplicates = [0, 1, 2, 3, 4, 5, 0, 1, 2, 3, 4, 5, 0, 1, 2, 3, 4, 5]\n"
     ]
    }
   ],
   "source": [
    "from pprint import pprint\n",
    "list_with_duplicates = list(range(6)) * 3\n",
    "print_name_value(list_with_duplicates)"
   ]
  },
  {
   "cell_type": "code",
   "execution_count": 10,
   "metadata": {
    "scrolled": true
   },
   "outputs": [
    {
     "name": "stdout",
     "output_type": "stream",
     "text": [
      "my_set = {0, 1, 2, 3, 4, 5}\n"
     ]
    }
   ],
   "source": [
    "my_set = set()\n",
    "for elm in list_with_duplicates:\n",
    "    my_set.add(elm)\n",
    "print_name_value(my_set)"
   ]
  },
  {
   "cell_type": "code",
   "execution_count": 14,
   "metadata": {},
   "outputs": [
    {
     "name": "stdout",
     "output_type": "stream",
     "text": [
      "ab, cd, ef,  \n",
      "--------------------\n",
      "s, a, n,  , f, r, a, n, c, i, s, c, o,  \n"
     ]
    }
   ],
   "source": [
    "# Be carefull with strings, they are also arrays in python.\n",
    "values = ['ab', 'cd', 'ef']\n",
    "def print_results(v):\n",
    "    for value in v:\n",
    "        print(value, end=', ')\n",
    "    print(' ')\n",
    "    \n",
    "print_results(values)  \n",
    "print('-' * 20)\n",
    "val2 = 'san francisco'\n",
    "print_results(val2)       "
   ]
  },
  {
   "cell_type": "code",
   "execution_count": 15,
   "metadata": {},
   "outputs": [
    {
     "name": "stdout",
     "output_type": "stream",
     "text": [
      "{'r', 'o', ' ', 'f', 'c', 'i', 'n', 's', 'a'}\n",
      "{'r', 'm', 'n', 'i', 'a'}\n"
     ]
    }
   ],
   "source": [
    "# Strings are considered array of chars, when used to create sets become set of chars.\n",
    "s_sf = set('san francisco')\n",
    "s_ma = set('marin')\n",
    "print(s_sf)\n",
    "print(s_ma)"
   ]
  },
  {
   "cell_type": "code",
   "execution_count": 41,
   "metadata": {},
   "outputs": [
    {
     "data": {
      "text/plain": [
       "{' ', 'c', 'f', 'o', 's'}"
      ]
     },
     "execution_count": 41,
     "metadata": {},
     "output_type": "execute_result"
    }
   ],
   "source": [
    "s_sf - s_ma # chars in s_sf but not in s_ma"
   ]
  },
  {
   "cell_type": "code",
   "execution_count": 43,
   "metadata": {},
   "outputs": [
    {
     "data": {
      "text/plain": [
       "{' ', 'a', 'c', 'f', 'i', 'm', 'n', 'o', 'r', 's'}"
      ]
     },
     "execution_count": 43,
     "metadata": {},
     "output_type": "execute_result"
    }
   ],
   "source": [
    "s_sf | s_ma # In s_sf or in s_sf"
   ]
  },
  {
   "cell_type": "code",
   "execution_count": 44,
   "metadata": {},
   "outputs": [
    {
     "data": {
      "text/plain": [
       "{'a', 'i', 'n', 'r'}"
      ]
     },
     "execution_count": 44,
     "metadata": {},
     "output_type": "execute_result"
    }
   ],
   "source": [
    "s_sf & s_ma # Both in s_sf and s_ma"
   ]
  },
  {
   "cell_type": "code",
   "execution_count": 45,
   "metadata": {},
   "outputs": [
    {
     "data": {
      "text/plain": [
       "{' ', 'c', 'f', 'm', 'o', 's'}"
      ]
     },
     "execution_count": 45,
     "metadata": {},
     "output_type": "execute_result"
    }
   ],
   "source": [
    "s_sf ^ s_ma # Either in one or the other"
   ]
  },
  {
   "cell_type": "code",
   "execution_count": 46,
   "metadata": {},
   "outputs": [
    {
     "data": {
      "text/plain": [
       "[1, 4, 7, 10, 13, 16, 19, 22, 25, 28, 31, 34, 37, 40, 43, 46, 49]"
      ]
     },
     "execution_count": 46,
     "metadata": {},
     "output_type": "execute_result"
    }
   ],
   "source": [
    "list(range(1, 50, 3))"
   ]
  },
  {
   "cell_type": "code",
   "execution_count": 47,
   "metadata": {},
   "outputs": [
    {
     "name": "stdout",
     "output_type": "stream",
     "text": [
      "list_s3 = [1, 4, 7, 1, 4, 7, 1, 4, 7, 1, 4, 7, 1, 4, 7, 1, 4]\n",
      "set_s3 = {1, 4, 7}\n"
     ]
    }
   ],
   "source": [
    "# There are also set comprehentions.\n",
    "list_s3 = [x % 9 for x in range(1, 50, 3)]\n",
    "print_name_value(list_s3)\n",
    "set_s3 = {x % 9 for x in range(1, 50, 3)}\n",
    "print_name_value(set_s3)"
   ]
  },
  {
   "cell_type": "code",
   "execution_count": 48,
   "metadata": {},
   "outputs": [],
   "source": [
    "s4 = {1,2,3,5}\n",
    "s5 = {1,2,3,4,5}\n",
    "s6 = {8, 9}"
   ]
  },
  {
   "cell_type": "code",
   "execution_count": 49,
   "metadata": {},
   "outputs": [
    {
     "data": {
      "text/plain": [
       "True"
      ]
     },
     "execution_count": 49,
     "metadata": {},
     "output_type": "execute_result"
    }
   ],
   "source": [
    "# Test if element belongs to set.\n",
    "3 in s4"
   ]
  },
  {
   "cell_type": "code",
   "execution_count": 50,
   "metadata": {},
   "outputs": [
    {
     "data": {
      "text/plain": [
       "False"
      ]
     },
     "execution_count": 50,
     "metadata": {},
     "output_type": "execute_result"
    }
   ],
   "source": [
    "2 not in s5"
   ]
  },
  {
   "cell_type": "code",
   "execution_count": 51,
   "metadata": {
    "scrolled": true
   },
   "outputs": [
    {
     "data": {
      "text/plain": [
       "True"
      ]
     },
     "execution_count": 51,
     "metadata": {},
     "output_type": "execute_result"
    }
   ],
   "source": [
    "s4.isdisjoint(s6)"
   ]
  },
  {
   "cell_type": "code",
   "execution_count": 52,
   "metadata": {},
   "outputs": [
    {
     "data": {
      "text/plain": [
       "False"
      ]
     },
     "execution_count": 52,
     "metadata": {},
     "output_type": "execute_result"
    }
   ],
   "source": [
    "s4.isdisjoint(s5)"
   ]
  },
  {
   "cell_type": "code",
   "execution_count": 53,
   "metadata": {
    "scrolled": true
   },
   "outputs": [
    {
     "data": {
      "text/plain": [
       "True"
      ]
     },
     "execution_count": 53,
     "metadata": {},
     "output_type": "execute_result"
    }
   ],
   "source": [
    "s4.issubset(s5)"
   ]
  },
  {
   "cell_type": "code",
   "execution_count": 54,
   "metadata": {},
   "outputs": [
    {
     "data": {
      "text/plain": [
       "{1, 2, 3, 4, 5, 8, 9}"
      ]
     },
     "execution_count": 54,
     "metadata": {},
     "output_type": "execute_result"
    }
   ],
   "source": [
    "s4.union(s5, s6)"
   ]
  },
  {
   "cell_type": "code",
   "execution_count": 55,
   "metadata": {},
   "outputs": [
    {
     "data": {
      "text/plain": [
       "{1, 2, 3, 5}"
      ]
     },
     "execution_count": 55,
     "metadata": {},
     "output_type": "execute_result"
    }
   ],
   "source": [
    "s4.intersection(s5)"
   ]
  },
  {
   "cell_type": "code",
   "execution_count": 56,
   "metadata": {},
   "outputs": [
    {
     "data": {
      "text/plain": [
       "{4}"
      ]
     },
     "execution_count": 56,
     "metadata": {},
     "output_type": "execute_result"
    }
   ],
   "source": [
    "s5.difference(s4)"
   ]
  },
  {
   "cell_type": "markdown",
   "metadata": {},
   "source": [
    "#### Sets are very usefull when trying to compare properties are present in different files\n"
   ]
  },
  {
   "cell_type": "code",
   "execution_count": 16,
   "metadata": {},
   "outputs": [
    {
     "name": "stdout",
     "output_type": "stream",
     "text": [
      "Step 1\n",
      "['\\nrainy', 'pressure', '\\novercast', 'shower', 'sunrise', '\\ndry', 'tornado', 'humidity', 'cold', 'heat', '\\nwind', 'cloudy', 'heat wave', 'fog', 'breeze', 'humid']\n",
      "Step 2\n",
      "['rainy', 'pressure', 'overcast', 'shower', 'sunrise', 'dry', 'tornado', 'humidity', 'cold', 'heat', 'wind', 'cloudy', 'heat wave', 'fog', 'breeze', 'humid']\n"
     ]
    }
   ],
   "source": [
    "input_txt = \"\"\"\n",
    "rainy,pressure,\n",
    "overcast,shower,sunrise,\n",
    "dry,tornado,humidity,cold,heat,\n",
    "wind,cloudy,heat wave,fog,breeze,humid\"\"\"\n",
    "splited_text = input_txt.split(',')\n",
    "print('Step 1')\n",
    "print(splited_text)\n",
    "weather_words = [x.strip('\\n') for x in splited_text]\n",
    "print('Step 2')\n",
    "print(weather_words)"
   ]
  },
  {
   "cell_type": "code",
   "execution_count": 17,
   "metadata": {},
   "outputs": [
    {
     "name": "stdout",
     "output_type": "stream",
     "text": [
      "[rainy, pressure, overcast, shower, sunrise, dry, tornado, humidity, cold, heat, wind, cloudy, heat wave, fog, breeze, humid]\n"
     ]
    }
   ],
   "source": [
    "print('[' + ', '.join(weather_words) +']')"
   ]
  },
  {
   "cell_type": "code",
   "execution_count": 61,
   "metadata": {},
   "outputs": [
    {
     "name": "stdout",
     "output_type": "stream",
     "text": [
      "rainy|pressure|overcast|shower|sunrise|dry|tornado|humidity|cold|heat|wind|cloudy|heat wave|fog|breeze|humid\n"
     ]
    }
   ],
   "source": [
    "print('|'.join(weather_words))"
   ]
  },
  {
   "cell_type": "code",
   "execution_count": 20,
   "metadata": {},
   "outputs": [],
   "source": [
    "# Good\n",
    "with open('new_file.txt', 'w') as out_f:\n",
    "    for i in range(10):\n",
    "        out_f.write(str(i)+'\\n')"
   ]
  },
  {
   "cell_type": "code",
   "execution_count": 22,
   "metadata": {},
   "outputs": [],
   "source": [
    "# Good - If you use the \"with\" construct, it guarantees that files will be closed.\n",
    "\n",
    "def process_line(in_file, out_file1, out_file2):\n",
    "    for line in in_file:\n",
    "        clean_line = line.strip()\n",
    "        out_file1.write(clean_line+'-25\\n')  \n",
    "        \n",
    "with open('new_file.txt', 'r') as in_f:\n",
    "    with open('another_file.txt', 'w') as out_f:\n",
    "        with open('a_third_file.txt', 'w') as out_f2:\n",
    "            process_line(in_f, out_f, out_f2)\n",
    "        "
   ]
  },
  {
   "cell_type": "code",
   "execution_count": 39,
   "metadata": {},
   "outputs": [],
   "source": [
    "# Bad - If there is an error file handles could be left open.\n",
    "out_f = open('new_file.txt', 'w')\n",
    "for i in range(10):\n",
    "    out_f.write(str(i)+'\\n')\n",
    "out_f.close()"
   ]
  },
  {
   "cell_type": "code",
   "execution_count": 24,
   "metadata": {},
   "outputs": [
    {
     "name": "stdout",
     "output_type": "stream",
     "text": [
      "0\n",
      "1\n",
      "2\n",
      "3\n",
      "4\n",
      "5\n",
      "6\n",
      "7\n",
      "8\n",
      "9\n"
     ]
    }
   ],
   "source": [
    "with open('new_file.txt', 'r') as in_f:\n",
    "    lines = in_f.readlines()\n",
    "    for line in lines:\n",
    "        clean_line = line.strip()\n",
    "        print(clean_line)"
   ]
  },
  {
   "cell_type": "code",
   "execution_count": 25,
   "metadata": {},
   "outputs": [
    {
     "name": "stdout",
     "output_type": "stream",
     "text": [
      "experiment = {'rainy', 'shower', 'wind', 'heat', 'cloudy', 'heat wave', 'sunrise', 'fog', 'breeze', 'tornado'}\n",
      "control = {'shower', 'overcast', 'heat', 'pressure', 'wind', 'cloudy', 'cold', 'sunrise', 'breeze', 'tornado'}\n"
     ]
    }
   ],
   "source": [
    "# Stopped ----\n",
    "# Lets generate some sets.\n",
    "import random\n",
    "random.seed(100)  # This guarantees that the random numbers are always the same.\n",
    "experiment = {x for x in weather_words if random.randint(1,3)!=2}\n",
    "control = {x for x in weather_words if random.randint(1,3)!=2}\n",
    "print_name_value(experiment)\n",
    "print_name_value(control)"
   ]
  },
  {
   "cell_type": "code",
   "execution_count": 26,
   "metadata": {},
   "outputs": [
    {
     "name": "stdout",
     "output_type": "stream",
     "text": [
      "Common in both    : {'shower', 'wind', 'cloudy', 'heat', 'sunrise', 'breeze', 'tornado'}\n",
      "Only in Control   : {'cold', 'overcast', 'pressure'}\n",
      "Only in Experiment: {'rainy', 'fog', 'heat wave'}\n"
     ]
    }
   ],
   "source": [
    "print('Common in both    : {0}'.format(experiment & control))\n",
    "print('Only in Control   : {0}'.format(control - experiment))\n",
    "print('Only in Experiment: {0}'.format(experiment - control))"
   ]
  },
  {
   "cell_type": "code",
   "execution_count": 27,
   "metadata": {},
   "outputs": [
    {
     "name": "stdout",
     "output_type": "stream",
     "text": [
      "a = [0, 1, 2, 3, 4, 5, 6, 7, 8, 9]\n",
      "b = {0: True, 1: True, 2: True, 3: True, 4: True, 5: True, 6: True, 7: True, 8: True, 9: True}\n",
      "b = {0: True, 1: True, 2: True, 3: True, 4: True, 5: False, 6: True, 7: True, 8: True, 9: True}\n"
     ]
    }
   ],
   "source": [
    "a = list(range(10))\n",
    "b = {i:True for i in range(10)}\n",
    "print_name_value(a)\n",
    "print_name_value(b)\n",
    "b[5] = False\n",
    "print_name_value(b)"
   ]
  },
  {
   "cell_type": "code",
   "execution_count": 68,
   "metadata": {},
   "outputs": [
    {
     "name": "stdout",
     "output_type": "stream",
     "text": [
      "my_catalog = {'r': ['rainy'], 'p': ['pressure'], 'o': ['overcast'], 's': ['shower', 'sunrise'], 'd': ['dry'], 't': ['tornado'], 'h': ['humidity', 'heat', 'heat wave', 'humid'], 'c': ['cold', 'cloudy'], 'w': ['wind'], 'f': ['fog'], 'b': ['breeze']}\n"
     ]
    }
   ],
   "source": [
    "my_catalog = dict() # {}\n",
    "for word in weather_words:\n",
    "    key = word[0] # First char\n",
    "    if key in my_catalog:\n",
    "        my_catalog[key].append(word)\n",
    "    else:\n",
    "        my_catalog[key] = [word]\n",
    "print_name_value(my_catalog)"
   ]
  },
  {
   "cell_type": "code",
   "execution_count": 73,
   "metadata": {},
   "outputs": [
    {
     "name": "stdout",
     "output_type": "stream",
     "text": [
      "x1 = ['rainy']\n",
      "x2 = ['cold', 'cloudy']\n",
      "x3 = ['unk']\n"
     ]
    }
   ],
   "source": [
    "x1 = my_catalog['r']\n",
    "print_name_value(x1)\n",
    "x2 = my_catalog.get('c', '<not found>')\n",
    "print_name_value(x2)\n",
    "x3 = my_catalog.get('__', ['unk'])\n",
    "print_name_value(x3)"
   ]
  },
  {
   "cell_type": "code",
   "execution_count": 28,
   "metadata": {},
   "outputs": [
    {
     "name": "stdout",
     "output_type": "stream",
     "text": [
      "my_catalog = {'r': ['rainy'], 'p': ['pressure'], 'o': ['overcast'], 's': ['shower', 'sunrise'], 'd': ['dry'], 't': ['tornado'], 'h': ['humidity', 'heat', 'heat wave', 'humid'], 'c': ['cold', 'cloudy'], 'w': ['wind'], 'f': ['fog'], 'b': ['breeze']}\n"
     ]
    }
   ],
   "source": [
    "# Another way to group by first letter.\n",
    "from collections import defaultdict\n",
    "\n",
    "my_catalog = defaultdict(list)\n",
    "for word in weather_words:\n",
    "    key = word[0]\n",
    "    my_catalog[key].append(word)\n",
    "print_default_dict(my_catalog)"
   ]
  },
  {
   "cell_type": "code",
   "execution_count": 62,
   "metadata": {},
   "outputs": [
    {
     "name": "stdout",
     "output_type": "stream",
     "text": [
      "my_catalog = {'r': 1, 'p': 1, 'o': 1, 's': 2, 'd': 1, 't': 1, 'h': 4, 'c': 2, 'w': 1, 'f': 1, 'b': 1}\n"
     ]
    }
   ],
   "source": [
    "# Just keep the counts.\n",
    "from collections import defaultdict\n",
    "\n",
    "my_catalog = defaultdict(int) # Type int to capture counts.\n",
    "for word in weather_words:\n",
    "    key = word[0]\n",
    "    my_catalog[key] += 1\n",
    "print_default_dict(my_catalog)\n"
   ]
  },
  {
   "cell_type": "code",
   "execution_count": null,
   "metadata": {},
   "outputs": [],
   "source": []
  },
  {
   "cell_type": "code",
   "execution_count": null,
   "metadata": {},
   "outputs": [],
   "source": []
  }
 ],
 "metadata": {
  "kernelspec": {
   "display_name": "Python 3 (ipykernel)",
   "language": "python",
   "name": "python3"
  },
  "language_info": {
   "codemirror_mode": {
    "name": "ipython",
    "version": 3
   },
   "file_extension": ".py",
   "mimetype": "text/x-python",
   "name": "python",
   "nbconvert_exporter": "python",
   "pygments_lexer": "ipython3",
   "version": "3.9.13"
  }
 },
 "nbformat": 4,
 "nbformat_minor": 4
}
