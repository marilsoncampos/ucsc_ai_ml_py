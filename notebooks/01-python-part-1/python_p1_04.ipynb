{
 "cells": [
  {
   "cell_type": "markdown",
   "metadata": {},
   "source": [
    "#### Tuples & DataClasses"
   ]
  },
  {
   "cell_type": "code",
   "execution_count": 11,
   "metadata": {},
   "outputs": [],
   "source": [
    "# Helper functions\n",
    "import inspect\n",
    "\n",
    "def print_name_value_addr(variable):\n",
    "    frame = inspect.currentframe()\n",
    "    frame = inspect.getouterframes(frame)[1]\n",
    "    ctx = inspect.getframeinfo(frame[0]).code_context[0].strip()\n",
    "    single_arg = ctx[ctx.find('(') + 1:-1].split(',')[0]\n",
    "    mem_variable = id(variable)\n",
    "    print(f'{single_arg} = {variable}, at memory addr({mem_variable})')\n",
    "    \n",
    "\n",
    "def print_name_value(variable):\n",
    "    frame = inspect.currentframe()\n",
    "    frame = inspect.getouterframes(frame)[1]\n",
    "    ctx = inspect.getframeinfo(frame[0]).code_context[0].strip()\n",
    "    single_arg = ctx[ctx.find('(') + 1:-1].split(',')[0]\n",
    "    mem_variable = id(variable)\n",
    "    print(f'{single_arg} = {variable}')\n",
    "    "
   ]
  },
  {
   "cell_type": "markdown",
   "metadata": {},
   "source": [
    "#### Python Tuples"
   ]
  },
  {
   "cell_type": "code",
   "execution_count": 2,
   "metadata": {},
   "outputs": [
    {
     "name": "stdout",
     "output_type": "stream",
     "text": [
      "[1, 2]\n",
      "[100, 2]\n"
     ]
    }
   ],
   "source": [
    "a = [1,2]\n",
    "print(a)\n",
    "a[0] = 100\n",
    "print(a)"
   ]
  },
  {
   "cell_type": "code",
   "execution_count": 4,
   "metadata": {},
   "outputs": [
    {
     "name": "stdout",
     "output_type": "stream",
     "text": [
      "(1, 2)\n"
     ]
    },
    {
     "ename": "TypeError",
     "evalue": "'tuple' object does not support item assignment",
     "output_type": "error",
     "traceback": [
      "\u001b[0;31m---------------------------------------------------------------------------\u001b[0m",
      "\u001b[0;31mTypeError\u001b[0m                                 Traceback (most recent call last)",
      "Input \u001b[0;32mIn [4]\u001b[0m, in \u001b[0;36m<cell line: 3>\u001b[0;34m()\u001b[0m\n\u001b[1;32m      1\u001b[0m a \u001b[38;5;241m=\u001b[39m (\u001b[38;5;241m1\u001b[39m,\u001b[38;5;241m2\u001b[39m)\n\u001b[1;32m      2\u001b[0m \u001b[38;5;28mprint\u001b[39m(a)\n\u001b[0;32m----> 3\u001b[0m a[\u001b[38;5;241m0\u001b[39m] \u001b[38;5;241m=\u001b[39m \u001b[38;5;241m100\u001b[39m\n\u001b[1;32m      4\u001b[0m \u001b[38;5;28mprint\u001b[39m(a)\n",
      "\u001b[0;31mTypeError\u001b[0m: 'tuple' object does not support item assignment"
     ]
    }
   ],
   "source": [
    "a = (1,2)\n",
    "print(a)\n",
    "a[0] = 100\n",
    "print(a)"
   ]
  },
  {
   "cell_type": "code",
   "execution_count": 6,
   "metadata": {},
   "outputs": [
    {
     "name": "stdout",
     "output_type": "stream",
     "text": [
      "(1, 2)\n"
     ]
    },
    {
     "ename": "TypeError",
     "evalue": "'tuple' object does not support item assignment",
     "output_type": "error",
     "traceback": [
      "\u001b[0;31m---------------------------------------------------------------------------\u001b[0m",
      "\u001b[0;31mTypeError\u001b[0m                                 Traceback (most recent call last)",
      "Input \u001b[0;32mIn [6]\u001b[0m, in \u001b[0;36m<cell line: 7>\u001b[0;34m()\u001b[0m\n\u001b[1;32m      4\u001b[0m     a[\u001b[38;5;241m0\u001b[39m] \u001b[38;5;241m=\u001b[39m \u001b[38;5;241m100\u001b[39m\n\u001b[1;32m      5\u001b[0m     \u001b[38;5;28mprint\u001b[39m(a)\n\u001b[0;32m----> 7\u001b[0m \u001b[43mop1\u001b[49m\u001b[43m(\u001b[49m\u001b[43m)\u001b[49m\n",
      "Input \u001b[0;32mIn [6]\u001b[0m, in \u001b[0;36mop1\u001b[0;34m()\u001b[0m\n\u001b[1;32m      2\u001b[0m a \u001b[38;5;241m=\u001b[39m (\u001b[38;5;241m1\u001b[39m,\u001b[38;5;241m2\u001b[39m)\n\u001b[1;32m      3\u001b[0m \u001b[38;5;28mprint\u001b[39m(a)\n\u001b[0;32m----> 4\u001b[0m a[\u001b[38;5;241m0\u001b[39m] \u001b[38;5;241m=\u001b[39m \u001b[38;5;241m100\u001b[39m\n\u001b[1;32m      5\u001b[0m \u001b[38;5;28mprint\u001b[39m(a)\n",
      "\u001b[0;31mTypeError\u001b[0m: 'tuple' object does not support item assignment"
     ]
    }
   ],
   "source": [
    "def op1():\n",
    "    a = (1,2)\n",
    "    print(a)\n",
    "    a[0] = 100\n",
    "    print(a)\n",
    "    \n",
    "op1()"
   ]
  },
  {
   "cell_type": "code",
   "execution_count": 7,
   "metadata": {},
   "outputs": [],
   "source": [
    "d = {} # dict()\n",
    "d['San Francisco'] = 'CA'\n",
    "d['New York'] = 'NY'\n",
    "for i in range(100):\n",
    "    d[f'city-{i}'] = f'St-{i}'\n"
   ]
  },
  {
   "cell_type": "code",
   "execution_count": 8,
   "metadata": {},
   "outputs": [
    {
     "data": {
      "text/plain": [
       "857"
      ]
     },
     "execution_count": 8,
     "metadata": {},
     "output_type": "execute_result"
    }
   ],
   "source": [
    "d['San Francisco']\n",
    "# offset = hash('San Francisco')\n",
    "offset = hash((1,2))\n",
    "offset % 1001\n",
    "# 0 1 2 3 4 5 6.    828     1000\n",
    "# x x x x x x x ...([('San Francisco','CA')], x x ... x\n"
   ]
  },
  {
   "cell_type": "code",
   "execution_count": 16,
   "metadata": {},
   "outputs": [
    {
     "name": "stdout",
     "output_type": "stream",
     "text": [
      "address = (1, 'Main St 123', 'Marin', 'CA', '94027', 1990, 2001)\n",
      "address[2] = Marin\n"
     ]
    }
   ],
   "source": [
    "# Tuples are like imutable records.\n",
    "# They are a convenient way to pack data.\n",
    "address = (1, 'Main St 123', 'Marin', 'CA', '94027', 1990, 2001)\n",
    "print_name_value(address)\n",
    "print_name_value(address[2])"
   ]
  },
  {
   "cell_type": "code",
   "execution_count": 2,
   "metadata": {},
   "outputs": [
    {
     "name": "stdout",
     "output_type": "stream",
     "text": [
      "address = (1, 'Main St 123', 'Marin', 'CA', '94027', 1990, 2001)\n",
      "address[FLD_CITY] = Marin\n"
     ]
    }
   ],
   "source": [
    "# Tuples are like imutable records.\n",
    "# They are a convenient way to pack data.\n",
    "FLD_ID = 0\n",
    "FLD_CITY = 2\n",
    "address = (1, 'Main St 123', 'Marin', 'CA', '94027', 1990, 2001)\n",
    "print_name_value(address)\n",
    "print_name_value(address[FLD_CITY])"
   ]
  },
  {
   "cell_type": "code",
   "execution_count": 20,
   "metadata": {},
   "outputs": [
    {
     "name": "stdout",
     "output_type": "stream",
     "text": [
      "address2 = AddressRecord(idx=1, street='Main St 123', city='Marin', state='CA', zip_code='94027', move_in=1990, move_out=2001)\n",
      "address3 = AddressRecord(idx=1, street='Main St 123', city='Marin', state='CA', zip_code='94027', move_in=1990, move_out=2001)\n",
      "address2.city = Marin\n"
     ]
    }
   ],
   "source": [
    "# Python 3 added data classes that make the code clearer.\n",
    "from dataclasses import dataclass\n",
    "\n",
    "@dataclass(frozen=False)\n",
    "class AddressRecord:\n",
    "    \"\"\"A record representing an employee address\"\"\"\n",
    "    idx: int\n",
    "    street: str\n",
    "    city: str\n",
    "    state: str    \n",
    "    zip_code: str\n",
    "    move_in: int\n",
    "    move_out: int = 0\n",
    "\n",
    "# dataclasses are records.\n",
    "address2 = AddressRecord(1, 'Main St 123', 'Marin', 'CA', '94027', 1990, 2001)\n",
    "print_name_value(address2)\n",
    "address3 = AddressRecord(\n",
    "    idx=1, street='Main St 123', city='Marin', \n",
    "    state='CA', zip_code='94027', move_in=1990, \n",
    "    move_out=2001)\n",
    "print_name_value(address3)\n",
    "# A lot better than print(address[2])\n",
    "print_name_value(address2.city)"
   ]
  },
  {
   "cell_type": "code",
   "execution_count": 21,
   "metadata": {},
   "outputs": [
    {
     "data": {
      "text/plain": [
       "AddressRecord(idx=1, street='Main St 123', city='NY', state='CA', zip_code='94027', move_in=1990, move_out=2001)"
      ]
     },
     "execution_count": 21,
     "metadata": {},
     "output_type": "execute_result"
    }
   ],
   "source": [
    "address2.city = 'NY'\n",
    "address2"
   ]
  },
  {
   "cell_type": "code",
   "execution_count": 22,
   "metadata": {},
   "outputs": [
    {
     "name": "stdout",
     "output_type": "stream",
     "text": [
      "AddressRecord2(idx=1, street='Main St 123', city='Marin', state='CA', zip_code='94027', move_in=1990, move_out=2001)\n"
     ]
    },
    {
     "ename": "FrozenInstanceError",
     "evalue": "cannot assign to field 'city'",
     "output_type": "error",
     "traceback": [
      "\u001b[0;31m---------------------------------------------------------------------------\u001b[0m",
      "\u001b[0;31mFrozenInstanceError\u001b[0m                       Traceback (most recent call last)",
      "\u001b[0;32m/var/folders/2y/hm3jg6812nd_sktsrjdq0l2m0000gn/T/ipykernel_49510/1698588116.py\u001b[0m in \u001b[0;36m<cell line: 18>\u001b[0;34m()\u001b[0m\n\u001b[1;32m     16\u001b[0m     move_out=2001)\n\u001b[1;32m     17\u001b[0m \u001b[0mprint\u001b[0m\u001b[0;34m(\u001b[0m\u001b[0mimmutable_addr\u001b[0m\u001b[0;34m)\u001b[0m\u001b[0;34m\u001b[0m\u001b[0;34m\u001b[0m\u001b[0m\n\u001b[0;32m---> 18\u001b[0;31m \u001b[0mimmutable_addr\u001b[0m\u001b[0;34m.\u001b[0m\u001b[0mcity\u001b[0m \u001b[0;34m=\u001b[0m \u001b[0;34m'x'\u001b[0m\u001b[0;34m\u001b[0m\u001b[0;34m\u001b[0m\u001b[0m\n\u001b[0m",
      "\u001b[0;32m<string>\u001b[0m in \u001b[0;36m__setattr__\u001b[0;34m(self, name, value)\u001b[0m\n",
      "\u001b[0;31mFrozenInstanceError\u001b[0m: cannot assign to field 'city'"
     ]
    }
   ],
   "source": [
    "# If I create a record and set Frozen=True its immutable.\n",
    "@dataclass(frozen=True)\n",
    "class AddressRecord2:\n",
    "    \"\"\"A record representing an employee address\"\"\"\n",
    "    idx: int\n",
    "    street: str\n",
    "    city: str\n",
    "    state: str    \n",
    "    zip_code: str\n",
    "    move_in: int\n",
    "    move_out: int = 0\n",
    "\n",
    "immutable_addr = AddressRecord2(\n",
    "    idx=1, street='Main St 123', city='Marin', \n",
    "    state='CA', zip_code='94027', move_in=1990, \n",
    "    move_out=2001)\n",
    "print(immutable_addr)\n",
    "immutable_addr.city = 'x'\n"
   ]
  },
  {
   "cell_type": "markdown",
   "metadata": {},
   "source": [
    "#### Python Collections - Sets"
   ]
  },
  {
   "cell_type": "code",
   "execution_count": 23,
   "metadata": {},
   "outputs": [
    {
     "name": "stdout",
     "output_type": "stream",
     "text": [
      "list_with_duplicates = [0, 1, 2, 3, 4, 5, 0, 1, 2, 3, 4, 5, 0, 1, 2, 3, 4, 5]\n"
     ]
    }
   ],
   "source": [
    "from pprint import pprint\n",
    "list_with_duplicates = list(range(6)) * 3\n",
    "print_name_value(list_with_duplicates)"
   ]
  },
  {
   "cell_type": "code",
   "execution_count": 24,
   "metadata": {
    "scrolled": true
   },
   "outputs": [
    {
     "name": "stdout",
     "output_type": "stream",
     "text": [
      "my_set = {0, 1, 2, 3, 4, 5}\n"
     ]
    }
   ],
   "source": [
    "my_set = set()\n",
    "for elm in list_with_duplicates:\n",
    "    my_set.add(elm)\n",
    "print_name_value(my_set)"
   ]
  },
  {
   "cell_type": "code",
   "execution_count": 25,
   "metadata": {},
   "outputs": [
    {
     "data": {
      "text/plain": [
       "{0, 1, 2, 3, 4, 5}"
      ]
     },
     "execution_count": 25,
     "metadata": {},
     "output_type": "execute_result"
    }
   ],
   "source": [
    "set(list_with_duplicates)"
   ]
  },
  {
   "cell_type": "code",
   "execution_count": 26,
   "metadata": {},
   "outputs": [
    {
     "name": "stdout",
     "output_type": "stream",
     "text": [
      "ab\tcd\tef\t \n",
      "s\ta\tn\t \tf\tr\ta\tn\tc\ti\ts\tc\to\t \n"
     ]
    }
   ],
   "source": [
    "# Be carefull with strings, they are also arrays in python.\n",
    "values = ['ab', 'cd', 'ef']\n",
    "def print_results(v):\n",
    "    for value in v:\n",
    "        print(value, end='\\t')\n",
    "    print(' ')\n",
    "print_results(values)  \n",
    "val2 = 'san francisco'\n",
    "print_results(val2)       "
   ]
  },
  {
   "cell_type": "code",
   "execution_count": 15,
   "metadata": {},
   "outputs": [
    {
     "name": "stdout",
     "output_type": "stream",
     "text": [
      "{'c', 'r', 'n', 'o', 'a', 'i', ' ', 'f', 's'}\n",
      "{'r', 'n', 'm', 'a', 'i'}\n"
     ]
    }
   ],
   "source": [
    "# Strings are considered array of chars, when used to create sets become set of chars.\n",
    "s1 = set('san francisco')\n",
    "s2 = set('marin')\n",
    "print(s1)\n",
    "print(s2)"
   ]
  },
  {
   "cell_type": "code",
   "execution_count": 16,
   "metadata": {},
   "outputs": [
    {
     "data": {
      "text/plain": [
       "{' ', 'c', 'f', 'o', 's'}"
      ]
     },
     "execution_count": 16,
     "metadata": {},
     "output_type": "execute_result"
    }
   ],
   "source": [
    "s1 - s2 # chars in s1 but not in s2"
   ]
  },
  {
   "cell_type": "code",
   "execution_count": 17,
   "metadata": {},
   "outputs": [
    {
     "data": {
      "text/plain": [
       "{' ', 'a', 'c', 'f', 'i', 'm', 'n', 'o', 'r', 's'}"
      ]
     },
     "execution_count": 17,
     "metadata": {},
     "output_type": "execute_result"
    }
   ],
   "source": [
    "s1 | s2 # In s1 or in s2"
   ]
  },
  {
   "cell_type": "code",
   "execution_count": 18,
   "metadata": {},
   "outputs": [
    {
     "data": {
      "text/plain": [
       "{'a', 'i', 'n', 'r'}"
      ]
     },
     "execution_count": 18,
     "metadata": {},
     "output_type": "execute_result"
    }
   ],
   "source": [
    "s1 & s2 # Both in s1 and s2"
   ]
  },
  {
   "cell_type": "code",
   "execution_count": 19,
   "metadata": {},
   "outputs": [
    {
     "data": {
      "text/plain": [
       "{' ', 'c', 'f', 'm', 'o', 's'}"
      ]
     },
     "execution_count": 19,
     "metadata": {},
     "output_type": "execute_result"
    }
   ],
   "source": [
    "s1 ^ s2 # Either in one or the other"
   ]
  },
  {
   "cell_type": "code",
   "execution_count": 29,
   "metadata": {},
   "outputs": [
    {
     "data": {
      "text/plain": [
       "[1, 4, 7, 10, 13, 16, 19, 22, 25, 28, 31, 34, 37, 40, 43, 46, 49]"
      ]
     },
     "execution_count": 29,
     "metadata": {},
     "output_type": "execute_result"
    }
   ],
   "source": [
    "list(range(1, 50, 3))"
   ]
  },
  {
   "cell_type": "code",
   "execution_count": 27,
   "metadata": {},
   "outputs": [
    {
     "name": "stdout",
     "output_type": "stream",
     "text": [
      "list_s3 = [1, 4, 7, 1, 4, 7, 1, 4, 7, 1, 4, 7, 1, 4, 7, 1, 4]\n",
      "set_s3 = {1, 4, 7}\n"
     ]
    }
   ],
   "source": [
    "# There are also set comprehentions.\n",
    "list_s3 = [x % 9 for x in range(1, 50, 3)]\n",
    "print_name_value(list_s3)\n",
    "set_s3 = {x % 9 for x in range(1, 50, 3)}\n",
    "print_name_value(set_s3)"
   ]
  },
  {
   "cell_type": "code",
   "execution_count": 30,
   "metadata": {},
   "outputs": [],
   "source": [
    "s4 = {1,2,3,5}\n",
    "s5 = {1,2,3,4,5}\n",
    "s6 = {8, 9}"
   ]
  },
  {
   "cell_type": "code",
   "execution_count": 31,
   "metadata": {},
   "outputs": [
    {
     "data": {
      "text/plain": [
       "True"
      ]
     },
     "execution_count": 31,
     "metadata": {},
     "output_type": "execute_result"
    }
   ],
   "source": [
    "# Test if element belongs to set.\n",
    "3 in s4"
   ]
  },
  {
   "cell_type": "code",
   "execution_count": 32,
   "metadata": {},
   "outputs": [
    {
     "data": {
      "text/plain": [
       "False"
      ]
     },
     "execution_count": 32,
     "metadata": {},
     "output_type": "execute_result"
    }
   ],
   "source": [
    "2 not in s5"
   ]
  },
  {
   "cell_type": "code",
   "execution_count": 33,
   "metadata": {
    "scrolled": true
   },
   "outputs": [
    {
     "data": {
      "text/plain": [
       "True"
      ]
     },
     "execution_count": 33,
     "metadata": {},
     "output_type": "execute_result"
    }
   ],
   "source": [
    "s4.isdisjoint(s6)"
   ]
  },
  {
   "cell_type": "code",
   "execution_count": 34,
   "metadata": {},
   "outputs": [
    {
     "data": {
      "text/plain": [
       "False"
      ]
     },
     "execution_count": 34,
     "metadata": {},
     "output_type": "execute_result"
    }
   ],
   "source": [
    "s4.isdisjoint(s5)"
   ]
  },
  {
   "cell_type": "code",
   "execution_count": 35,
   "metadata": {
    "scrolled": true
   },
   "outputs": [
    {
     "data": {
      "text/plain": [
       "True"
      ]
     },
     "execution_count": 35,
     "metadata": {},
     "output_type": "execute_result"
    }
   ],
   "source": [
    "s4.issubset(s5)"
   ]
  },
  {
   "cell_type": "code",
   "execution_count": 36,
   "metadata": {},
   "outputs": [
    {
     "data": {
      "text/plain": [
       "{1, 2, 3, 4, 5, 8, 9}"
      ]
     },
     "execution_count": 36,
     "metadata": {},
     "output_type": "execute_result"
    }
   ],
   "source": [
    "s4.union(s5, s6)"
   ]
  },
  {
   "cell_type": "code",
   "execution_count": 37,
   "metadata": {},
   "outputs": [
    {
     "data": {
      "text/plain": [
       "{1, 2, 3, 5}"
      ]
     },
     "execution_count": 37,
     "metadata": {},
     "output_type": "execute_result"
    }
   ],
   "source": [
    "s4.intersection(s5)"
   ]
  },
  {
   "cell_type": "code",
   "execution_count": 23,
   "metadata": {},
   "outputs": [
    {
     "data": {
      "text/plain": [
       "{4}"
      ]
     },
     "execution_count": 23,
     "metadata": {},
     "output_type": "execute_result"
    }
   ],
   "source": [
    "s5.difference(s4)"
   ]
  },
  {
   "cell_type": "markdown",
   "metadata": {},
   "source": [
    "#### Sets are very usefull when trying to compare properties are present in different files\n"
   ]
  },
  {
   "cell_type": "code",
   "execution_count": 12,
   "metadata": {},
   "outputs": [
    {
     "name": "stdout",
     "output_type": "stream",
     "text": [
      "['rainy', 'pressure', 'overcast', 'shower', 'sunrise', 'dry', 'tornado', 'humidity', 'cold', 'heat', 'wind', 'cloudy', 'heat wave', 'fog', 'breeze', 'humid']\n"
     ]
    }
   ],
   "source": [
    "input_txt = \"\"\"\n",
    "rainy,pressure,\n",
    "overcast,shower,sunrise,\n",
    "dry,tornado,humidity,cold,heat,\n",
    "wind,cloudy,heat wave,fog,breeze,humid\"\"\"\n",
    "splited_text = input_txt.split(',')\n",
    "# print(splited_text)\n",
    "weather_words = [x.strip('\\n') for x in splited_text]\n",
    "print(weather_words)"
   ]
  },
  {
   "cell_type": "code",
   "execution_count": 13,
   "metadata": {},
   "outputs": [
    {
     "name": "stdout",
     "output_type": "stream",
     "text": [
      "[rainy, pressure, overcast, shower, sunrise, dry, tornado, humidity, cold, heat, wind, cloudy, heat wave, fog, breeze, humid]\n"
     ]
    }
   ],
   "source": [
    "print('[' + ', '.join(weather_words) +']')"
   ]
  },
  {
   "cell_type": "code",
   "execution_count": 26,
   "metadata": {},
   "outputs": [
    {
     "name": "stdout",
     "output_type": "stream",
     "text": [
      "rainy|pressure|overcast|shower|sunrise|dry|tornado|humidity|cold|heat|wind|cloudy|heat wave|fog|breeze|humid\n"
     ]
    }
   ],
   "source": [
    "print('|'.join(weather_words))"
   ]
  },
  {
   "cell_type": "code",
   "execution_count": 27,
   "metadata": {},
   "outputs": [],
   "source": [
    "# Good\n",
    "with open('new_file.txt', 'w') as out_f:\n",
    "    for i in range(10):\n",
    "        out_f.write(str(i)+'\\n')"
   ]
  },
  {
   "cell_type": "code",
   "execution_count": 44,
   "metadata": {},
   "outputs": [],
   "source": [
    "# Good - If you use the \"with\" construct, it guarantees that files will be closed.\n",
    "\n",
    "def process_line(in_file, out_file1, out_file2):\n",
    "    for line in in_file:\n",
    "        clean_line = line.strip()\n",
    "        out_file1.write(clean_line+'-25\\n')  \n",
    "        \n",
    "with open('new_file.txt', 'r') as in_f:\n",
    "    with open('another_file.txt', 'w') as out_f:\n",
    "        with open('a_third_file.txt', 'w') as out_f2:\n",
    "            process_line(in_f, out_f, out_f2)\n",
    "        "
   ]
  },
  {
   "cell_type": "code",
   "execution_count": 29,
   "metadata": {},
   "outputs": [],
   "source": [
    "# Bad - If there is an error file handles could be left open.\n",
    "out_f = open('new_file.txt', 'w')\n",
    "for i in range(10):\n",
    "    out_f.write(str(i)+'\\n')\n",
    "out_f.close()"
   ]
  },
  {
   "cell_type": "code",
   "execution_count": 30,
   "metadata": {},
   "outputs": [
    {
     "name": "stdout",
     "output_type": "stream",
     "text": [
      "0\n",
      "1\n",
      "2\n",
      "3\n",
      "4\n",
      "5\n",
      "6\n",
      "7\n",
      "8\n",
      "9\n"
     ]
    }
   ],
   "source": [
    "with open('new_file.txt', 'r') as in_f:\n",
    "    lines = in_f.readlines()\n",
    "    for line in lines:\n",
    "        clean_line = line.strip()\n",
    "        print(clean_line)"
   ]
  },
  {
   "cell_type": "code",
   "execution_count": 61,
   "metadata": {},
   "outputs": [],
   "source": [
    "# random.randint(1,3)"
   ]
  },
  {
   "cell_type": "code",
   "execution_count": 62,
   "metadata": {},
   "outputs": [
    {
     "name": "stdout",
     "output_type": "stream",
     "text": [
      "exper = {'rainy', 'breeze', 'tornado', 'cloudy', 'heat wave', 'fog', 'wind', 'sunrise', 'shower', 'heat'}\n",
      "control = {'cold', 'breeze', 'tornado', 'pressure', 'heat', 'cloudy', 'wind', 'sunrise', 'overcast', 'shower'}\n"
     ]
    }
   ],
   "source": [
    "# Lets generate some sets.\n",
    "import random\n",
    "random.seed(100)  # This guarantees that the random numbers are always the same.\n",
    "exper = {x for x in weather_words if random.randint(1,3)!=2}\n",
    "control = {x for x in weather_words if random.randint(1,3)!=2}\n",
    "print_name_value(exper)\n",
    "print_name_value(control)"
   ]
  },
  {
   "cell_type": "code",
   "execution_count": 63,
   "metadata": {},
   "outputs": [
    {
     "name": "stdout",
     "output_type": "stream",
     "text": [
      "Common in both    : {'breeze', 'tornado', 'cloudy', 'wind', 'sunrise', 'shower', 'heat'}\n",
      "Only in Control   : {'cold', 'overcast', 'pressure'}\n",
      "Only in Experiment: {'fog', 'heat wave', 'rainy'}\n"
     ]
    }
   ],
   "source": [
    "print('Common in both    : {0}'.format(exper & control))\n",
    "print('Only in Control   : {0}'.format(control - exper))\n",
    "print('Only in Experiment: {0}'.format(exper - control))"
   ]
  },
  {
   "cell_type": "code",
   "execution_count": 64,
   "metadata": {},
   "outputs": [
    {
     "name": "stdout",
     "output_type": "stream",
     "text": [
      "a = [0, 1, 2, 3, 4, 5, 6, 7, 8, 9]\n",
      "b = {0: True, 1: True, 2: True, 3: True, 4: True, 5: True, 6: True, 7: True, 8: True, 9: True}\n",
      "b = {0: True, 1: True, 2: True, 3: True, 4: True, 5: False, 6: True, 7: True, 8: True, 9: True}\n"
     ]
    }
   ],
   "source": [
    "a = list(range(10))\n",
    "b = {i:True for i in range(10)}\n",
    "print_name_value(a)\n",
    "print_name_value(b)\n",
    "b[5] = False\n",
    "print_name_value(b)"
   ]
  },
  {
   "cell_type": "code",
   "execution_count": 14,
   "metadata": {},
   "outputs": [
    {
     "name": "stdout",
     "output_type": "stream",
     "text": [
      "my_catalog = {'r': ['rainy'], 'p': ['pressure'], 'o': ['overcast'], 's': ['shower', 'sunrise'], 'd': ['dry'], 't': ['tornado'], 'h': ['humidity', 'heat', 'heat wave', 'humid'], 'c': ['cold', 'cloudy'], 'w': ['wind'], 'f': ['fog'], 'b': ['breeze']}\n"
     ]
    }
   ],
   "source": [
    "my_catalog = dict() # {}\n",
    "for word in weather_words:\n",
    "    key = word[0]\n",
    "    if key in my_catalog:\n",
    "        my_catalog[key].append(word)\n",
    "    else:\n",
    "        my_catalog[key] = [word]\n",
    "print_name_value(my_catalog)"
   ]
  },
  {
   "cell_type": "code",
   "execution_count": 20,
   "metadata": {},
   "outputs": [
    {
     "ename": "KeyError",
     "evalue": "'a'",
     "output_type": "error",
     "traceback": [
      "\u001b[0;31m---------------------------------------------------------------------------\u001b[0m",
      "\u001b[0;31mKeyError\u001b[0m                                  Traceback (most recent call last)",
      "Input \u001b[0;32mIn [20]\u001b[0m, in \u001b[0;36m<cell line: 1>\u001b[0;34m()\u001b[0m\n\u001b[0;32m----> 1\u001b[0m x1 \u001b[38;5;241m=\u001b[39m \u001b[43mmy_catalog\u001b[49m\u001b[43m[\u001b[49m\u001b[38;5;124;43m'\u001b[39;49m\u001b[38;5;124;43ma\u001b[39;49m\u001b[38;5;124;43m'\u001b[39;49m\u001b[43m]\u001b[49m\n\u001b[1;32m      2\u001b[0m print_name_value(x1)\n\u001b[1;32m      3\u001b[0m x2 \u001b[38;5;241m=\u001b[39m my_catalog\u001b[38;5;241m.\u001b[39mget(\u001b[38;5;124m'\u001b[39m\u001b[38;5;124mc\u001b[39m\u001b[38;5;124m'\u001b[39m, \u001b[38;5;124m'\u001b[39m\u001b[38;5;124m<not found>\u001b[39m\u001b[38;5;124m'\u001b[39m)\n",
      "\u001b[0;31mKeyError\u001b[0m: 'a'"
     ]
    }
   ],
   "source": [
    "\n",
    "x1 = my_catalog['a']\n",
    "print_name_value(x1)\n",
    "x2 = my_catalog.get('c', '<not found>')\n",
    "print_name_value(x2)"
   ]
  },
  {
   "cell_type": "code",
   "execution_count": 73,
   "metadata": {},
   "outputs": [
    {
     "name": "stdout",
     "output_type": "stream",
     "text": [
      "my_catalog = defaultdict(<class 'list'>, {'r': ['rainy'], 'p': ['pressure'], 'o': ['overcast'], 's': ['shower', 'sunrise'], 'd': ['dry'], 't': ['tornado'], 'h': ['humidity', 'heat', 'heat wave', 'humid'], 'c': ['cold', 'cloudy'], 'w': ['wind'], 'f': ['fog'], 'b': ['breeze']})\n"
     ]
    }
   ],
   "source": [
    "from collections import defaultdict\n",
    "\n",
    "my_catalog = defaultdict(list)\n",
    "for word in weather_words:\n",
    "    key = word[0]\n",
    "    my_catalog[key].append(word)\n",
    "print_name_value(my_catalog)"
   ]
  },
  {
   "cell_type": "code",
   "execution_count": 74,
   "metadata": {},
   "outputs": [
    {
     "name": "stdout",
     "output_type": "stream",
     "text": [
      "my_catalog = defaultdict(<class 'int'>, {'r': 1, 'p': 1, 'o': 1, 's': 2, 'd': 1, 't': 1, 'h': 4, 'c': 2, 'w': 1, 'f': 1, 'b': 1})\n"
     ]
    }
   ],
   "source": [
    "from collections import defaultdict\n",
    "\n",
    "my_catalog = defaultdict(int)\n",
    "for word in weather_words:\n",
    "    key = word[0]\n",
    "    my_catalog[key] += 1\n",
    "print_name_value(my_catalog)"
   ]
  },
  {
   "cell_type": "code",
   "execution_count": null,
   "metadata": {},
   "outputs": [],
   "source": []
  },
  {
   "cell_type": "code",
   "execution_count": null,
   "metadata": {},
   "outputs": [],
   "source": []
  }
 ],
 "metadata": {
  "kernelspec": {
   "display_name": "Python 3 (ipykernel)",
   "language": "python",
   "name": "python3"
  },
  "language_info": {
   "codemirror_mode": {
    "name": "ipython",
    "version": 3
   },
   "file_extension": ".py",
   "mimetype": "text/x-python",
   "name": "python",
   "nbconvert_exporter": "python",
   "pygments_lexer": "ipython3",
   "version": "3.9.7"
  }
 },
 "nbformat": 4,
 "nbformat_minor": 4
}
