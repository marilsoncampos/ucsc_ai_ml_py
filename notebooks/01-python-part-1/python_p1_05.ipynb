{
 "cells": [
  {
   "cell_type": "markdown",
   "metadata": {},
   "source": [
    "#### Python Collections - Dictionaries  AKA Hash Tables"
   ]
  },
  {
   "cell_type": "code",
   "execution_count": 2,
   "metadata": {},
   "outputs": [],
   "source": [
    "# Helper functions\n",
    "import inspect\n",
    "    \n",
    "def print_name_value(variable):\n",
    "    frame = inspect.currentframe()\n",
    "    frame = inspect.getouterframes(frame)[1]\n",
    "    ctx = inspect.getframeinfo(frame[0]).code_context[0].strip()\n",
    "    single_arg = ctx[ctx.find('(') + 1:-1].split(',')[0]\n",
    "    mem_variable = id(variable)\n",
    "    print(f'{single_arg} = {variable}')\n",
    " \n",
    "    \n",
    "def print_default_dict(variable):\n",
    "    variable = dict(variable)\n",
    "    frame = inspect.currentframe()\n",
    "    frame = inspect.getouterframes(frame)[1]\n",
    "    ctx = inspect.getframeinfo(frame[0]).code_context[0].strip()\n",
    "    variable_name = ctx[ctx.find('(') + 1:-1].split(',')[0]\n",
    "    print(f'{variable_name} = {variable}')\n",
    "\n",
    "def separator():\n",
    "     print('- ' * 20)\n",
    "    \n",
    "\n",
    "def header(title: str):\n",
    "    filler = '- ' * 10\n",
    "    rfiller = filler[::-1]\n",
    "    print(f'{filler}{title}{rfiller}')"
   ]
  },
  {
   "cell_type": "code",
   "execution_count": 5,
   "metadata": {},
   "outputs": [
    {
     "name": "stdout",
     "output_type": "stream",
     "text": [
      "- - - - - - - - - - Print elements of dict - - - - - - - - - -\n",
      "100\n",
      "50\n",
      "10\n",
      "- - - - - - - - - - Print the keys of dict - - - - - - - - - -\n",
      "100\n",
      "50\n",
      "10\n",
      "- - - - - - - - - - Print the values of dict - - - - - - - - - -\n",
      "12\n",
      "5\n",
      "2\n",
      "- - - - - - - - - - Print the headers of dict - - - - - - - - - -\n",
      "('100', 12)\n",
      "('50', 5)\n",
      "('10', 2)\n",
      "- - - - - - - - - - - - - - - - - - - - \n",
      "100=12\n",
      "50=5\n",
      "10=2\n"
     ]
    }
   ],
   "source": [
    "my_savings = {'100': 12, '50': 5, '10': 2}\n",
    "# Avoid.\n",
    "header('Print elements of dict')\n",
    "for elm in my_savings:\n",
    "    print(elm)\n",
    "\n",
    "header('Print the keys of dict')\n",
    "for elm in my_savings.keys():\n",
    "    print(elm)\n",
    "    \n",
    "header('Print the values of dict')\n",
    "for elm in my_savings.values():\n",
    "    print(elm)\n",
    "\n",
    "header('Print the headers of dict')\n",
    "for elm in my_savings.items():\n",
    "    print(elm)\n",
    "    \n",
    "separator()\n",
    "for key, value in my_savings.items():\n",
    "    print(f'{key}={value}')"
   ]
  },
  {
   "cell_type": "code",
   "execution_count": 8,
   "metadata": {},
   "outputs": [
    {
     "name": "stdout",
     "output_type": "stream",
     "text": [
      "first = 1\n",
      "middle = [2, 3]\n",
      "last = 4\n"
     ]
    }
   ],
   "source": [
    "first, *middle, last = [1,2,3,4]\n",
    "print_name_value(first)\n",
    "print_name_value(middle)\n",
    "print_name_value(last)"
   ]
  },
  {
   "cell_type": "code",
   "execution_count": 19,
   "metadata": {},
   "outputs": [
    {
     "name": "stdout",
     "output_type": "stream",
     "text": [
      "('100', 12)\n",
      "('50', 5)\n",
      "('10', 2)\n"
     ]
    }
   ],
   "source": [
    "my_savings = {'100': 12, '50': 5, '10': 2}\n",
    "for elm in my_savings.items():\n",
    "    print(elm)"
   ]
  },
  {
   "cell_type": "code",
   "execution_count": 9,
   "metadata": {},
   "outputs": [
    {
     "name": "stdout",
     "output_type": "stream",
     "text": [
      "name = john\n",
      "zip_code = 29567\n",
      "[1, 2]\n"
     ]
    }
   ],
   "source": [
    "a = ['john', 1, 2, '29567']\n",
    "name, *z, zip_code = a\n",
    "print_name_value(name)\n",
    "print_name_value(zip_code)\n",
    "print(z)"
   ]
  },
  {
   "cell_type": "code",
   "execution_count": 11,
   "metadata": {},
   "outputs": [
    {
     "name": "stdout",
     "output_type": "stream",
     "text": [
      "a = ['john', '29567']\n",
      "name = john\n",
      "zip_code = 29567\n"
     ]
    }
   ],
   "source": [
    "a = ['john', '29567']\n",
    "name, zip_code = a\n",
    "print_name_value(a)\n",
    "print_name_value(name)\n",
    "print_name_value(zip_code)"
   ]
  },
  {
   "cell_type": "code",
   "execution_count": 12,
   "metadata": {},
   "outputs": [
    {
     "name": "stdout",
     "output_type": "stream",
     "text": [
      "12 x $1,000.00\n",
      "12 x $1,000.00\n",
      "12 x $1,000.00\n"
     ]
    }
   ],
   "source": [
    "# Formatting messages about bills.\n",
    "qtd=12\n",
    "bill=1000\n",
    "print(f'{qtd} x ${bill:,.2f}')\n",
    "print('{1} x ${0:,.2f}'.format(1000, 12))\n",
    "print('{qtd} x ${bill:,.2f}'.format(bill=1000, qtd=12))"
   ]
  },
  {
   "cell_type": "code",
   "execution_count": 16,
   "metadata": {},
   "outputs": [
    {
     "name": "stdout",
     "output_type": "stream",
     "text": [
      "12 x $1,000.00\n",
      "12 x $1,000.00\n",
      "12 x $1,000.00\n"
     ]
    }
   ],
   "source": [
    "# Formatting messages about bills.\n",
    "qtd=12\n",
    "bill=1000\n",
    "print(f'{qtd} x ${bill:,.2f}')\n",
    "print('{1} x ${0:,.2f}'.format(bill, 12))\n",
    "print('{qtd} x ${bill:,.2f}'.format(bill=1000, qtd=12))"
   ]
  },
  {
   "cell_type": "code",
   "execution_count": 17,
   "metadata": {},
   "outputs": [
    {
     "name": "stdout",
     "output_type": "stream",
     "text": [
      "12 x $1,000.00\n",
      "12 x $1,000.00\n",
      "12 x $1,000.00\n"
     ]
    }
   ],
   "source": [
    "# Using format call\n",
    "print('{qtd} x ${bill:,.2f}'.format(bill=1000, qtd=12))\n",
    "print('{1} x ${0:,.2f}'.format(1000, 12))\n",
    "# Option 1:\n",
    "#  {0} = print first parameter passed.\n",
    "#  {bill} = print the bill variable unformated.\n",
    "# Using python f strings.\n",
    "bill=1000\n",
    "qtd=12\n",
    "print(f'{qtd} x ${bill:,.2f}')"
   ]
  },
  {
   "cell_type": "code",
   "execution_count": 18,
   "metadata": {},
   "outputs": [
    {
     "name": "stdout",
     "output_type": "stream",
     "text": [
      "- - - - - - - - - - - - - - - - - - - - \n",
      "100 12\n",
      "50 5\n",
      "10 2\n",
      "- - - - - - - - - - - - - - - - - - - - \n",
      "100\n",
      "50\n",
      "10\n",
      "- - - - - - - - - - - - - - - - - - - - \n",
      "12\n",
      "5\n",
      "2\n",
      "- - - - - - - - - - - - - - - - - - - - \n",
      "100 12\n",
      "50 5\n",
      "10 2\n"
     ]
    }
   ],
   "source": [
    "separator()\n",
    "item_dict = {'100': 12, '50': 5, '10': 2}\n",
    "for k in item_dict:  # Simple loop over dict gives you keys.\n",
    "    value = item_dict[k]  # Need this step to extract the values.\n",
    "    print(k, value)\n",
    "separator()\n",
    "for x in item_dict.keys():\n",
    "    print(x)\n",
    "separator()\n",
    "for x in item_dict.values():\n",
    "    print(x)\n",
    "separator()\n",
    "\n",
    "for (bill, qtd) in item_dict.items():\n",
    "    print(bill, qtd)"
   ]
  },
  {
   "cell_type": "code",
   "execution_count": 24,
   "metadata": {},
   "outputs": [
    {
     "name": "stdout",
     "output_type": "stream",
     "text": [
      "[1200, 250, 20]\n",
      "Totals = 1470\n",
      "Bill counts = ['12 x $100.00', '5 x $50.00', '2 x $10.00']\n",
      " \n"
     ]
    }
   ],
   "source": [
    "# Creating dictionaries in python\n",
    "def print_savings(item_dict):\n",
    "    my_list = [int(bill) * qtd for (bill, qtd) in item_dict.items()]\n",
    "    print(my_list)\n",
    "    print('Totals = {0}'.format(sum(my_list)))\n",
    "    bill_desc = [\n",
    "        '{qtd} x ${bill:.2f}'.format(bill=int(bill), qtd=qtd) \n",
    "                 for (bill, qtd) in item_dict.items()]\n",
    "    print('Bill counts = {0}'.format(bill_desc))\n",
    "    print(' ')\n",
    "\n",
    "my_savings = {'100': 12, '50': 5, '10': 2}   # New dictionary\n",
    "\n",
    "print_savings(my_savings)"
   ]
  },
  {
   "cell_type": "code",
   "execution_count": 25,
   "metadata": {},
   "outputs": [
    {
     "name": "stdout",
     "output_type": "stream",
     "text": [
      "12\n"
     ]
    }
   ],
   "source": [
    "x = my_savings['100']\n",
    "print(x)"
   ]
  },
  {
   "cell_type": "code",
   "execution_count": 27,
   "metadata": {
    "scrolled": true
   },
   "outputs": [
    {
     "name": "stdout",
     "output_type": "stream",
     "text": [
      "[1600, 250, 20, 35]\n",
      "Totals = 1905\n",
      "Bill counts = ['16 x $100.00', '5 x $50.00', '2 x $10.00', '7 x $5.00']\n",
      " \n"
     ]
    }
   ],
   "source": [
    "# Adding two 'hundred dollar' bills and seven 'five dollars' bills.\n",
    "my_savings['100'] += 2 # Same as: my_savings['100'] = my_savings['100'] + 2\n",
    "my_savings['5'] = my_savings.get('5', 0) + 7\n",
    "print_savings(my_savings)"
   ]
  },
  {
   "cell_type": "code",
   "execution_count": null,
   "metadata": {},
   "outputs": [],
   "source": []
  },
  {
   "cell_type": "code",
   "execution_count": 28,
   "metadata": {},
   "outputs": [
    {
     "name": "stdout",
     "output_type": "stream",
     "text": [
      "[1400, 250, 20, 35]\n",
      "Totals = 1705\n",
      "Bill counts = ['14 x $100.00', '5 x $50.00', '2 x $10.00', '7 x $5.00']\n",
      " \n"
     ]
    }
   ],
   "source": [
    "# Creating dictionaries in python\n",
    "from collections import defaultdict\n",
    "my_savings2 = defaultdict(int)\n",
    "my_savings2['100'] = 12\n",
    "my_savings2['50'] = 5\n",
    "my_savings2['10'] = 2\n",
    "my_savings2['100'] += 2\n",
    "my_savings2['5'] += 7  # No need to initialize number of 'five dollar' bills.\n",
    "print_savings(my_savings2)"
   ]
  },
  {
   "cell_type": "code",
   "execution_count": 34,
   "metadata": {},
   "outputs": [
    {
     "name": "stdout",
     "output_type": "stream",
     "text": [
      "result = {}\n",
      "result = {'100': [12, 2, 5], '50': [5, 8]}\n"
     ]
    }
   ],
   "source": [
    "# Default dict makes the code simpler\n",
    "from collections import defaultdict\n",
    "result = defaultdict(list)\n",
    "print_default_dict(result)\n",
    "bills = [('100', 12), ('50', 5), ('100', 2), ('100', 5), ('50', 8)]\n",
    "for (bill, qtd) in bills:\n",
    "    result[bill].append(qtd)\n",
    "print_default_dict(result)"
   ]
  },
  {
   "cell_type": "code",
   "execution_count": 30,
   "metadata": {},
   "outputs": [
    {
     "name": "stdout",
     "output_type": "stream",
     "text": [
      "result = {}\n",
      "result = {'100': [12, 2, 5], '50': [5, 8]}\n"
     ]
    }
   ],
   "source": [
    "# Standard dict requires additional tests.\n",
    "result = {}\n",
    "print_default_dict(result)\n",
    "bills = [('100', 12), ('50', 5), ('100', 2), ('100', 5), ('50', 8)]\n",
    "for (key, value) in bills:\n",
    "    if not key in result:\n",
    "        result[key] = []\n",
    "    result[key].append(value)\n",
    "print_default_dict(result)"
   ]
  },
  {
   "cell_type": "code",
   "execution_count": 53,
   "metadata": {},
   "outputs": [
    {
     "name": "stdout",
     "output_type": "stream",
     "text": [
      "- - - - - - - - - - Initializing - - - - - - - - - -\n",
      "value_in_5_dollars = 35\n",
      "[1400, 250, 20, 35]\n",
      "Totals = 1705\n",
      "Bill counts = ['14 x $100.00', '5 x $50.00', '2 x $10.00', '7 x $5.00']\n",
      " \n",
      "- - - - - - - - - - Removing my 'five dollar' bills - - - - - - - - - -\n",
      "[1400, 250, 20]\n",
      "Totals = 1670\n",
      "Bill counts = ['14 x $100.00', '5 x $50.00', '2 x $10.00']\n",
      " \n",
      "- - - - - - - - - - Adding the 'one dollar' bills - - - - - - - - - -\n",
      "[1400, 250, 20, 35]\n",
      "Totals = 1705\n",
      "Bill counts = ['14 x $100.00', '5 x $50.00', '2 x $10.00', '35 x $1.00']\n",
      " \n"
     ]
    }
   ],
   "source": [
    "# Removing replacing 5 dollar bills with one dollar bills.\n",
    "header(\"Initializing\")\n",
    "my_savings = my_savings2.copy()\n",
    "value_in_5_dollars = my_savings.get('5', 0) * 5\n",
    "print_name_value(value_in_5_dollars)\n",
    "print_savings(my_savings)\n",
    "# separator()\n",
    "header(\"Removing my 'five dollar' bills\")\n",
    "if '5' in my_savings:\n",
    "    del my_savings['5']\n",
    "print_savings(my_savings)\n",
    "header(\"Adding the 'one dollar' bills\")\n",
    "my_savings['1'] = my_savings.get('1', 0) + value_in_5_dollars\n",
    "print_savings(my_savings)"
   ]
  },
  {
   "cell_type": "code",
   "execution_count": null,
   "metadata": {},
   "outputs": [],
   "source": []
  },
  {
   "cell_type": "code",
   "execution_count": 54,
   "metadata": {},
   "outputs": [],
   "source": [
    "# Dealing with a simple fruit inventory\n",
    "inventory = {'banana': 200, 'orange': 120, 'grapes': 87, 'coconut': 51, 'apple': 180}\n",
    "valid_order = {'banana':40, 'grapes': 20, 'apple': 21}\n",
    "invalid_order = {'banana':40, 'popcorn': 2}\n",
    "invalid_order2 = {'banana':210, 'popcorn': 2}"
   ]
  },
  {
   "cell_type": "code",
   "execution_count": 56,
   "metadata": {},
   "outputs": [],
   "source": [
    "def have_items(inventory, order):\n",
    "    for fruit, qtd in order.items():\n",
    "        if not fruit in inventory:\n",
    "            return False\n",
    "        inv_qtd = inventory[fruit]\n",
    "        if inv_qtd < qtd:\n",
    "            return False\n",
    "    return True\n",
    "\n",
    "def _execute_transaction(inventory, order):\n",
    "    for fruit, qtd in order.items():\n",
    "        inventory[fruit] -= qtd\n",
    "        \n",
    "def process_order(inventory, order):\n",
    "    # if have_items(inventory, order):\n",
    "    if have_items(inventory, order):\n",
    "        _execute_transaction(inventory, order)\n",
    "        return True\n",
    "    print('\\n'.join(errors))\n",
    "    return False\n",
    "\n",
    "def print_inv(name, inv):\n",
    "    print('{0}: {1}'.format(name, str(inv)))"
   ]
  },
  {
   "cell_type": "code",
   "execution_count": 57,
   "metadata": {},
   "outputs": [
    {
     "name": "stdout",
     "output_type": "stream",
     "text": [
      "True\n"
     ]
    }
   ],
   "source": [
    "order_status = process_order(inventory, valid_order)\n",
    "print(order_status)"
   ]
  },
  {
   "cell_type": "code",
   "execution_count": 52,
   "metadata": {},
   "outputs": [
    {
     "data": {
      "text/plain": [
       "{'banana': 80, 'orange': 120, 'grapes': 27, 'coconut': 51, 'apple': 117}"
      ]
     },
     "execution_count": 52,
     "metadata": {},
     "output_type": "execute_result"
    }
   ],
   "source": [
    "inventory"
   ]
  },
  {
   "cell_type": "code",
   "execution_count": 58,
   "metadata": {},
   "outputs": [
    {
     "name": "stdout",
     "output_type": "stream",
     "text": [
      "False\n"
     ]
    }
   ],
   "source": [
    "# Impossible order\n",
    "print(have_items(inventory, invalid_order)) # Dont carry popcorn"
   ]
  },
  {
   "cell_type": "code",
   "execution_count": 65,
   "metadata": {},
   "outputs": [
    {
     "name": "stdout",
     "output_type": "stream",
     "text": [
      "Before: 10\n",
      "After: 10\n"
     ]
    }
   ],
   "source": [
    "# Changing collection vs regular variables\n",
    "# Assigning my_var creates a local variable.\n",
    "x = 10\n",
    "\n",
    "def test1(my_var):\n",
    "    my_var = 1\n",
    "\n",
    "print(f'Before: {x}')\n",
    "test1(x)\n",
    "print(f'After: {x}')\n"
   ]
  },
  {
   "cell_type": "code",
   "execution_count": 66,
   "metadata": {},
   "outputs": [
    {
     "name": "stdout",
     "output_type": "stream",
     "text": [
      "Before: [10]\n",
      "After: [10, 1]\n"
     ]
    }
   ],
   "source": [
    "# Changing collection vs regular variables\n",
    "# Appending to my_var uses the global var.\n",
    "x = [10]\n",
    "\n",
    "def test1(my_var):\n",
    "    my_var.append(1)\n",
    "\n",
    "print(f'Before: {x}')\n",
    "test1(x)\n",
    "print(f'After: {x}')\n"
   ]
  },
  {
   "cell_type": "code",
   "execution_count": 67,
   "metadata": {},
   "outputs": [
    {
     "name": "stdout",
     "output_type": "stream",
     "text": [
      "valid_order = {'banana': 40, 'grapes': 20, 'apple': 21}\n",
      "True\n",
      "Before the order: {'banana': 160, 'orange': 120, 'grapes': 67, 'coconut': 51, 'apple': 159}\n",
      "After the order : {'banana': 120, 'orange': 120, 'grapes': 47, 'coconut': 51, 'apple': 138}\n"
     ]
    }
   ],
   "source": [
    "# Valid order\n",
    "print_default_dict(valid_order)\n",
    "print(have_items(inventory, valid_order))\n",
    "print_inv('Before the order', inventory)\n",
    "process_order(inventory, valid_order)\n",
    "print_inv('After the order ', inventory)"
   ]
  },
  {
   "cell_type": "markdown",
   "metadata": {},
   "source": [
    "#### What if we need a function to get the qtd for any fruit and return zero if we dont carry that fruit?"
   ]
  },
  {
   "cell_type": "code",
   "execution_count": 68,
   "metadata": {},
   "outputs": [],
   "source": [
    "# Naive approach\n",
    "def qtd_available_naive(inv, fruit):\n",
    "    if fruit in inv:\n",
    "        return inv[fruit]\n",
    "    return 0\n",
    "   \n",
    "# Better approach\n",
    "def qtd_available(inv, fruit):\n",
    "    return inv.get(fruit, 0)"
   ]
  },
  {
   "cell_type": "code",
   "execution_count": 69,
   "metadata": {},
   "outputs": [
    {
     "name": "stdout",
     "output_type": "stream",
     "text": [
      "- - - - - - - - - - Naive func - - - - - - - - - -\n",
      "num_oranges = 120\n",
      "num_fruit_x = 0\n",
      "- - - - - - - - - - Better func - - - - - - - - - -\n",
      "num_oranges = 120\n",
      "num_fruit_x = 0\n"
     ]
    }
   ],
   "source": [
    "header('Naive func')\n",
    "num_oranges = qtd_available_naive(inventory, 'orange')\n",
    "num_fruit_x = qtd_available_naive(inventory, 'fruit x')\n",
    "print_name_value(num_oranges)\n",
    "print_name_value(num_fruit_x)\n",
    "header('Better func')\n",
    "num_oranges = qtd_available(inventory, 'orange')\n",
    "num_fruit_x = qtd_available(inventory, 'fruit x')\n",
    "print_name_value(num_oranges)\n",
    "print_name_value(num_fruit_x)\n"
   ]
  },
  {
   "cell_type": "code",
   "execution_count": 54,
   "metadata": {},
   "outputs": [],
   "source": [
    "# Accessing dictionary elements.\n",
    "inventory = {'banana': 200, 'orange': 120, 'grapes': 87, 'coconut': 51, 'apple': 180}"
   ]
  },
  {
   "cell_type": "code",
   "execution_count": 57,
   "metadata": {},
   "outputs": [],
   "source": [
    "# Question: What items do you carry in your inventory?"
   ]
  },
  {
   "cell_type": "code",
   "execution_count": 70,
   "metadata": {},
   "outputs": [
    {
     "name": "stdout",
     "output_type": "stream",
     "text": [
      "Answer 1\n",
      "['banana', 'orange', 'grapes', 'coconut', 'apple']\n"
     ]
    }
   ],
   "source": [
    "print('Answer 1')\n",
    "print([x for x in inventory.keys()])"
   ]
  },
  {
   "cell_type": "code",
   "execution_count": 71,
   "metadata": {},
   "outputs": [
    {
     "name": "stdout",
     "output_type": "stream",
     "text": [
      "Answer 2\n",
      "['banana', 'orange', 'grapes', 'coconut', 'apple']\n"
     ]
    }
   ],
   "source": [
    "print('Answer 2')\n",
    "print([x for x in inventory])"
   ]
  },
  {
   "cell_type": "code",
   "execution_count": 74,
   "metadata": {},
   "outputs": [
    {
     "name": "stdout",
     "output_type": "stream",
     "text": [
      "qtds = [120, 120, 47, 51, 138]\n",
      "num_items = 476\n"
     ]
    }
   ],
   "source": [
    "# Question: What is the sum of all quantities in your inventory?\n",
    "qtds = list(inventory.values())\n",
    "print_name_value(qtds)\n",
    "num_items = sum(qtds)\n",
    "print_name_value(num_items)"
   ]
  },
  {
   "cell_type": "code",
   "execution_count": 75,
   "metadata": {},
   "outputs": [
    {
     "name": "stdout",
     "output_type": "stream",
     "text": [
      "banana=120\n",
      "orange=120\n",
      "grapes=47\n",
      "coconut=51\n",
      "apple=138\n"
     ]
    }
   ],
   "source": [
    "# Question: List the items and qtd in your inventory.\n",
    "a_list = ['{0}={1}'.format(k,v) for (k,v) in inventory.items()]\n",
    "print('\\n'.join(a_list))"
   ]
  },
  {
   "cell_type": "code",
   "execution_count": 76,
   "metadata": {},
   "outputs": [
    {
     "name": "stdout",
     "output_type": "stream",
     "text": [
      "banana=120, orange=120, grapes=47, coconut=51, apple=138\n"
     ]
    }
   ],
   "source": [
    "# In another format.\n",
    "print(', '.join(a_list))"
   ]
  },
  {
   "cell_type": "markdown",
   "metadata": {},
   "source": [
    "### Json format manipulation"
   ]
  },
  {
   "cell_type": "code",
   "execution_count": 65,
   "metadata": {},
   "outputs": [
    {
     "name": "stdout",
     "output_type": "stream",
     "text": [
      "\n",
      "{\n",
      "    \"glossary\": {\n",
      "        \"title\": \"example glossary\",\n",
      "        \"GlossDiv\": {\n",
      "            \"title\": \"S\",\n",
      "            \"GlossList\": {\n",
      "                \"GlossEntry\": {\n",
      "                    \"ID\": \"SGML\",\n",
      "                    \"SortAs\": \"SGML\",\n",
      "                    \"GlossTerm\": \"Standard Generalized Markup Language\",\n",
      "                    \"Acronym\": \"SGML\",\n",
      "                    \"Abbrev\": \"ISO 8879:1986\",\n",
      "                    \"GlossDef\": {\n",
      "                        \"para\": \"A meta-markup language, used to create markup languages such as DocBook.\",\n",
      "                        \"GlossSeeAlso\": [\"GML\", \"XML\"]\n",
      "                    },\n",
      "                \"GlossSee\": \"markup\"\n",
      "                }\n",
      "            }\n",
      "        }\n",
      "    }\n",
      "}\n",
      "\n"
     ]
    }
   ],
   "source": [
    "json_str = '''\n",
    "{\n",
    "    \"glossary\": {\n",
    "        \"title\": \"example glossary\",\n",
    "        \"GlossDiv\": {\n",
    "            \"title\": \"S\",\n",
    "            \"GlossList\": {\n",
    "                \"GlossEntry\": {\n",
    "                    \"ID\": \"SGML\",\n",
    "                    \"SortAs\": \"SGML\",\n",
    "                    \"GlossTerm\": \"Standard Generalized Markup Language\",\n",
    "                    \"Acronym\": \"SGML\",\n",
    "                    \"Abbrev\": \"ISO 8879:1986\",\n",
    "                    \"GlossDef\": {\n",
    "                        \"para\": \"A meta-markup language, used to create markup languages such as DocBook.\",\n",
    "                        \"GlossSeeAlso\": [\"GML\", \"XML\"]\n",
    "                    },\n",
    "                \"GlossSee\": \"markup\"\n",
    "                }\n",
    "            }\n",
    "        }\n",
    "    }\n",
    "}\n",
    "'''\n",
    "print(json_str)"
   ]
  },
  {
   "cell_type": "code",
   "execution_count": 66,
   "metadata": {},
   "outputs": [
    {
     "name": "stdout",
     "output_type": "stream",
     "text": [
      "{'glossary': {'title': 'example glossary', 'GlossDiv': {'title': 'S'}}}\n"
     ]
    }
   ],
   "source": [
    "json_dict = {\n",
    "    \"glossary\": {\n",
    "        \"title\": \"example glossary\",\n",
    "        \"GlossDiv\": {\n",
    "            \"title\": \"S\"\n",
    "        }\n",
    "    }\n",
    "}\n",
    "print(json_dict)"
   ]
  },
  {
   "cell_type": "code",
   "execution_count": 67,
   "metadata": {},
   "outputs": [],
   "source": [
    "ANOTHER_JSON_TXT = \"\"\"\n",
    "[\n",
    "{\"students\": [{\"userId\": 1,\"name\": \"John Smith\",\"phoneNumber\": \"1234444\",\"classes\": [\"MATH\", \"CM2\"]},\n",
    "{\"userId\": 2,\"name\": \"Jane Doe\",\"phoneNumber\": \"1235555\",\"classes\": [\"CS1\", \"MATH\"]},\n",
    "]\"\"\"\n"
   ]
  },
  {
   "cell_type": "code",
   "execution_count": 77,
   "metadata": {},
   "outputs": [
    {
     "name": "stdout",
     "output_type": "stream",
     "text": [
      "json_obj = {'students': [{'userId': 1, 'name': 'John Smith', 'phoneNumber': '1234444', 'classes': ['MATH', 'CM2']}, {'userId': 2, 'name': 'Jane Doe', 'phoneNumber': '1235555', 'classes': ['CS1', 'MATH']}, {'userId': 3, 'name': 'Kevin Connor', 'phoneNumber': '1238888', 'classes': ['STAT1', 'STAT2']}], 'state': 'CA', 'country': 'USA'}\n"
     ]
    }
   ],
   "source": [
    "# When we load a json documents in python the doc is represented as a combination of lists and dictionaries.\n",
    "# Here is an example:\n",
    "\n",
    "JSON_TXT = \"\"\"\n",
    "{\n",
    "  \"students\": [\n",
    "    {\n",
    "      \"userId\": 1,\n",
    "      \"name\": \"John Smith\",\n",
    "      \"phoneNumber\": \"1234444\",\n",
    "      \"classes\": [\"MATH\", \"CM2\"]\n",
    "    },\n",
    "    {\n",
    "      \"userId\": 2,\n",
    "      \"name\": \"Jane Doe\",\n",
    "      \"phoneNumber\": \"1235555\",\n",
    "      \"classes\": [\"CS1\", \"MATH\"]\n",
    "    },\n",
    "    {\n",
    "      \"userId\": 3,\n",
    "      \"name\": \"Kevin Connor\",\n",
    "      \"phoneNumber\": \"1238888\",\n",
    "      \"classes\": [\"STAT1\", \"STAT2\"]\n",
    "    }],\n",
    "    \"state\": \"CA\",\n",
    "    \"country\": \"USA\"\n",
    "    \n",
    "}\"\"\"\n",
    "\n",
    "# Converting from Json string to python dict.\n",
    "import json\n",
    "json_obj = json.loads(JSON_TXT)\n",
    "print_default_dict(json_obj)"
   ]
  },
  {
   "cell_type": "code",
   "execution_count": 70,
   "metadata": {},
   "outputs": [
    {
     "name": "stdout",
     "output_type": "stream",
     "text": [
      "[{'userId': 1, 'name': 'John Smith', 'phoneNumber': '1234444', 'classes': ['MATH', 'CM2']}, {'userId': 2, 'name': 'Jane Doe', 'phoneNumber': '1235555', 'classes': ['CS1', 'MATH']}, {'userId': 3, 'name': 'Kevin Connor', 'phoneNumber': '1238888', 'classes': ['STAT1', 'STAT2']}]\n",
      "--------------------\n",
      "John Smith ['MATH', 'CM2']\n",
      "Jane Doe ['CS1', 'MATH']\n",
      "Kevin Connor ['STAT1', 'STAT2']\n"
     ]
    }
   ],
   "source": [
    "# Accessing the python dictionary.\n",
    "stds = json_obj['students']\n",
    "print(stds)\n",
    "print('-' * 20)\n",
    "for st in stds:\n",
    "    print(st['name'], st['classes'])"
   ]
  },
  {
   "cell_type": "code",
   "execution_count": 78,
   "metadata": {},
   "outputs": [],
   "source": [
    "# Saving json to file\n",
    "with open(\"saved.json\", \"w\") as out_file:\n",
    "      json.dump(json_obj, out_file, indent = 6)\n",
    "  "
   ]
  },
  {
   "cell_type": "code",
   "execution_count": 80,
   "metadata": {},
   "outputs": [
    {
     "name": "stdout",
     "output_type": "stream",
     "text": [
      "{'students': [{'userId': 1, 'name': 'John Smith', 'phoneNumber': '1234444', 'classes': ['MATH', 'CM2']}, {'userId': 2, 'name': 'Jane Doe', 'phoneNumber': '1235555', 'classes': ['CS1', 'MATH']}, {'userId': 3, 'name': 'Kevin Connor', 'phoneNumber': '1238888', 'classes': ['STAT1', 'STAT2']}], 'state': 'CA', 'country': 'USA'}\n",
      ". . . . . . . . . . . . . . . . . . . . \n",
      "{'userId': 2, 'name': 'Jane Doe', 'phoneNumber': '1235555', 'classes': ['CS1', 'MATH']}\n"
     ]
    }
   ],
   "source": [
    "# Reading json from file\n",
    "with open(\"saved.json\", \"r\") as in_file:\n",
    "    data = json.load(in_file)\n",
    "    print(data)\n",
    "    print('. ' * 20)\n",
    "    print(data['students'][1])"
   ]
  },
  {
   "cell_type": "code",
   "execution_count": 76,
   "metadata": {},
   "outputs": [
    {
     "name": "stdout",
     "output_type": "stream",
     "text": [
      "{'userId': 1, 'name': 'John Smith', 'phoneNumber': '1234444', 'classes': ['MATH', 'CM2']}\n",
      "{'userId': 2, 'name': 'Jane Doe', 'phoneNumber': '1235555', 'classes': ['CS1', 'MATH']}\n",
      "{'userId': 3, 'name': 'Kevin Connor', 'phoneNumber': '1238888', 'classes': ['STAT1', 'STAT2']}\n"
     ]
    }
   ],
   "source": [
    "# Parsing Json manually.\n",
    "JSON_TXT_WITH_ARRAY = \"\"\"\n",
    "{[\n",
    "    {\n",
    "      \"userId\": 1,\n",
    "      \"name\": \"John Smith\",\n",
    "      \"phoneNumber\": \"1234444\",\n",
    "      \"classes\": [\"MATH\", \"CM2\"]\n",
    "    },\n",
    "    {\n",
    "      \"userId\": 2,\n",
    "      \"name\": \"Jane Doe\",\n",
    "      \"phoneNumber\": \"1235555\",\n",
    "      \"classes\": [\"CS1\", \"MATH\"]\n",
    "    },\n",
    "    {\n",
    "      \"userId\": 3,\n",
    "      \"name\": \"Kevin Connor\",\n",
    "      \"phoneNumber\": \"1238888\",\n",
    "      \"classes\": [\"STAT1\", \"STAT2\"]\n",
    "    }\n",
    "]}\"\"\"\n",
    "\n",
    "BEFORE_REC = 0\n",
    "IN_REC = 1\n",
    "\n",
    "import json\n",
    "\n",
    "def parse_json_manually(json_text):\n",
    "    buffer = []\n",
    "    state = BEFORE_REC\n",
    "    for line in json_text.split('\\n'):\n",
    "        line = line.strip()\n",
    "        if state == IN_REC:\n",
    "            if line in ['},', '}']:\n",
    "                buffer.append('}')\n",
    "                # print('\\n'.join(buffer))\n",
    "                json_obj = json.loads('\\n'.join(buffer))\n",
    "                print(json_obj)\n",
    "                buffer = []\n",
    "                state = BEFORE_REC\n",
    "            else:\n",
    "                buffer.append(line)\n",
    "        else:    \n",
    "            if line == '{[':\n",
    "                continue\n",
    "            if line == '{':\n",
    "                state = IN_REC\n",
    "                buffer.append('{')\n",
    "        \n",
    "\n",
    "parse_json_manually(JSON_TXT_WITH_ARRAY)"
   ]
  },
  {
   "cell_type": "code",
   "execution_count": 81,
   "metadata": {},
   "outputs": [
    {
     "name": "stdout",
     "output_type": "stream",
     "text": [
      "json_obj = {'students': [{'userId': 1, 'name': 'John Smith', 'phoneNumber': '1234444', 'classes': ['MATH', 'CM2']}, {'userId': 2, 'name': 'Jane Doe', 'phoneNumber': '1235555', 'classes': ['CS1', 'MATH']}, {'userId': 3, 'name': 'Kevin Connor', 'phoneNumber': '1238888', 'classes': ['STAT1', 'STAT2']}], 'state': 'CA', 'country': 'USA'}\n",
      "- - - - - - - - - - Listing students - - - - - - - - - -\n",
      "John Smith\n",
      "MATH\n",
      "{'userId': 1, 'name': 'John Smith', 'phoneNumber': '1234444', 'classes': ['MATH', 'CM2']}\n",
      "Jane Doe\n",
      "CS1\n",
      "{'userId': 2, 'name': 'Jane Doe', 'phoneNumber': '1235555', 'classes': ['CS1', 'MATH']}\n",
      "Kevin Connor\n",
      "STAT1\n",
      "{'userId': 3, 'name': 'Kevin Connor', 'phoneNumber': '1238888', 'classes': ['STAT1', 'STAT2']}\n"
     ]
    }
   ],
   "source": [
    "# Letting the json library do the work.\n",
    "import json\n",
    "json_obj = json.loads(JSON_TXT)\n",
    "print_default_dict(json_obj)\n",
    "header('Listing students')\n",
    "# List student names\n",
    "for student in json_obj.get('students'): # Get the values in the list for the 'key'=student\n",
    "    print(student['name'])    \n",
    "    print(student['classes'][0])\n",
    "    print(student)"
   ]
  },
  {
   "cell_type": "code",
   "execution_count": 79,
   "metadata": {},
   "outputs": [
    {
     "name": "stdout",
     "output_type": "stream",
     "text": [
      "{'userId': 1, 'name': 'John Smith', 'phoneNumber': '1234444', 'classes': ['MATH', 'CM2']}\n",
      "{'userId': 2, 'name': 'Jane Doe', 'phoneNumber': '1235555', 'classes': ['CS1', 'MATH']}\n",
      "{'userId': 3, 'name': 'Kevin Connor', 'phoneNumber': '1238888', 'classes': ['STAT1', 'STAT2']}\n"
     ]
    }
   ],
   "source": [
    "# Lets print students one per line.\n",
    "for student in json_obj.get('students'):\n",
    "    print(student)"
   ]
  },
  {
   "cell_type": "code",
   "execution_count": 80,
   "metadata": {},
   "outputs": [
    {
     "name": "stdout",
     "output_type": "stream",
     "text": [
      "(elm 1, elm 2, eml 3)\n"
     ]
    }
   ],
   "source": [
    "# Trick: When you have a list and want to make a string use the join function.\n",
    "# Ex\n",
    "print('(' + ', '.join(['elm 1','elm 2', 'eml 3']) + ')')"
   ]
  },
  {
   "cell_type": "code",
   "execution_count": 84,
   "metadata": {},
   "outputs": [
    {
     "name": "stdout",
     "output_type": "stream",
     "text": [
      "(elm 1, elm 2, eml 3)\n"
     ]
    }
   ],
   "source": [
    "print('({0})'.format(', '.join(['elm 1','elm 2', 'eml 3'])))"
   ]
  },
  {
   "cell_type": "code",
   "execution_count": 81,
   "metadata": {},
   "outputs": [
    {
     "name": "stdout",
     "output_type": "stream",
     "text": [
      "(1,2,3)\n"
     ]
    }
   ],
   "source": [
    "# If element is not string convert then to string using str.\n",
    "print('(' + ','.join([str(x) for x in [1,2,3]]) + ')')"
   ]
  },
  {
   "cell_type": "code",
   "execution_count": 82,
   "metadata": {},
   "outputs": [
    {
     "data": {
      "text/plain": [
       "' 1'"
      ]
     },
     "execution_count": 82,
     "metadata": {},
     "output_type": "execute_result"
    }
   ],
   "source": [
    "' ' + str(1)"
   ]
  },
  {
   "cell_type": "code",
   "execution_count": null,
   "metadata": {},
   "outputs": [],
   "source": []
  },
  {
   "cell_type": "code",
   "execution_count": null,
   "metadata": {},
   "outputs": [],
   "source": []
  },
  {
   "cell_type": "code",
   "execution_count": null,
   "metadata": {},
   "outputs": [],
   "source": []
  }
 ],
 "metadata": {
  "kernelspec": {
   "display_name": "Python 3 (ipykernel)",
   "language": "python",
   "name": "python3"
  },
  "language_info": {
   "codemirror_mode": {
    "name": "ipython",
    "version": 3
   },
   "file_extension": ".py",
   "mimetype": "text/x-python",
   "name": "python",
   "nbconvert_exporter": "python",
   "pygments_lexer": "ipython3",
   "version": "3.10.6"
  }
 },
 "nbformat": 4,
 "nbformat_minor": 4
}
