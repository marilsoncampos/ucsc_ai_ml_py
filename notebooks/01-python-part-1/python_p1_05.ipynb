{
 "cells": [
  {
   "cell_type": "markdown",
   "metadata": {},
   "source": [
    "#### Python Collections - Dictionaries  AKA Hash Tables"
   ]
  },
  {
   "cell_type": "code",
   "execution_count": 3,
   "metadata": {},
   "outputs": [],
   "source": [
    "# Helper functions\n",
    "import inspect\n",
    "    \n",
    "def print_name_value(variable):\n",
    "    frame = inspect.currentframe()\n",
    "    frame = inspect.getouterframes(frame)[1]\n",
    "    ctx = inspect.getframeinfo(frame[0]).code_context[0].strip()\n",
    "    single_arg = ctx[ctx.find('(') + 1:-1].split(',')[0]\n",
    "    mem_variable = id(variable)\n",
    "    print(f'{single_arg} = {variable}')\n",
    "    "
   ]
  },
  {
   "cell_type": "code",
   "execution_count": 7,
   "metadata": {},
   "outputs": [
    {
     "name": "stdout",
     "output_type": "stream",
     "text": [
      "100\n",
      "50\n",
      "10\n",
      "--------------------\n",
      "100\n",
      "50\n",
      "10\n",
      "--------------------\n",
      "12\n",
      "5\n",
      "2\n",
      "--------------------\n",
      "('100', 12)\n",
      "('50', 5)\n",
      "('10', 2)\n",
      "--------------------\n",
      "100=12\n",
      "50=5\n",
      "10=2\n"
     ]
    }
   ],
   "source": [
    "my_savings = {'100': 12, '50': 5, '10': 2}\n",
    "# Avoid.\n",
    "for elm in my_savings:\n",
    "    print(elm)\n",
    "print('-' * 20)\n",
    "for elm in my_savings.keys():\n",
    "    print(elm)\n",
    "print('-' * 20)\n",
    "for elm in my_savings.values():\n",
    "    print(elm)\n",
    "print('-' * 20)\n",
    "for elm in my_savings.items():\n",
    "    print(elm)\n",
    "print('-' * 20)\n",
    "for k, v in my_savings.items():\n",
    "    print(f'{k}={v}')"
   ]
  },
  {
   "cell_type": "code",
   "execution_count": 11,
   "metadata": {},
   "outputs": [
    {
     "name": "stdout",
     "output_type": "stream",
     "text": [
      "[2, 3] 4\n"
     ]
    }
   ],
   "source": [
    "first, *middle, last = [1,2,3,4]\n",
    "print(middle, last)"
   ]
  },
  {
   "cell_type": "code",
   "execution_count": 11,
   "metadata": {},
   "outputs": [
    {
     "name": "stdout",
     "output_type": "stream",
     "text": [
      "('100', 12)\n",
      "('50', 5)\n",
      "('10', 2)\n"
     ]
    }
   ],
   "source": [
    "my_savings = {'100': 12, '50': 5, '10': 2}\n",
    "for elm in my_savings.items():\n",
    "    print(elm)"
   ]
  },
  {
   "cell_type": "code",
   "execution_count": 8,
   "metadata": {},
   "outputs": [
    {
     "name": "stdout",
     "output_type": "stream",
     "text": [
      "name = john\n",
      "zip_code = 1\n",
      "[2, '29567']\n"
     ]
    }
   ],
   "source": [
    "a = ['john', 1, 2, '29567']\n",
    "name, zip_code, *z = a\n",
    "print_name_value(name)\n",
    "print_name_value(zip_code)\n",
    "print(z)"
   ]
  },
  {
   "cell_type": "code",
   "execution_count": 3,
   "metadata": {},
   "outputs": [
    {
     "name": "stdout",
     "output_type": "stream",
     "text": [
      "a = ['john', '29567']\n",
      "name = john\n",
      "zip_code = 29567\n"
     ]
    }
   ],
   "source": [
    "a = ['john', '29567']\n",
    "name, zip_code = a\n",
    "print_name_value(a)\n",
    "print_name_value(name)\n",
    "print_name_value(zip_code)"
   ]
  },
  {
   "cell_type": "code",
   "execution_count": 15,
   "metadata": {},
   "outputs": [
    {
     "name": "stdout",
     "output_type": "stream",
     "text": [
      "12 x $1,000.00\n",
      "12 x $1,000.00\n",
      "12 x $1,000.00\n"
     ]
    }
   ],
   "source": [
    "qtd=12\n",
    "bill=1000\n",
    "print(f'{qtd} x ${bill:,.2f}')\n",
    "print('{1} x ${0:,.2f}'.format(1000, 12))\n",
    "print('{qtd} x ${bill:,.2f}'.format(bill=1000, qtd=12))"
   ]
  },
  {
   "cell_type": "code",
   "execution_count": 10,
   "metadata": {},
   "outputs": [
    {
     "name": "stdout",
     "output_type": "stream",
     "text": [
      "12 x $1,000.00\n",
      "12 x $1,000.00\n",
      "12 x $1,000.00\n"
     ]
    }
   ],
   "source": [
    "# Using format call\n",
    "print('{qtd} x ${bill:,.2f}'.format(bill=1000, qtd=12))\n",
    "print('{1} x ${0:,.2f}'.format(1000, 12))\n",
    "# Option 1:\n",
    "#  {0} = print first parameter passed.\n",
    "#  {bill) = print the bill variable unformated.\n",
    "# Using python f strings.\n",
    "bill=1000\n",
    "qtd=12\n",
    "print(f'{qtd} x ${bill:,.2f}')"
   ]
  },
  {
   "cell_type": "code",
   "execution_count": 17,
   "metadata": {},
   "outputs": [
    {
     "name": "stdout",
     "output_type": "stream",
     "text": [
      "100 12\n",
      "50 5\n",
      "10 2\n",
      "--- xxx ---\n",
      "\n",
      "100\n",
      "50\n",
      "10\n",
      "--- xxx ---\n",
      "\n",
      "12\n",
      "5\n",
      "2\n",
      "--- xxx ---\n",
      "\n",
      "100 12\n",
      "50 5\n",
      "10 2\n"
     ]
    }
   ],
   "source": [
    "filler = '--- xxx ---\\n'\n",
    "item_dict = {'100': 12, '50': 5, '10': 2}\n",
    "for k in item_dict:\n",
    "    value = item_dict[k]\n",
    "    print(k, value)\n",
    "print(filler)\n",
    "for x in item_dict.keys():\n",
    "    print(x)\n",
    "print(filler)\n",
    "for x in item_dict.values():\n",
    "    print(x)\n",
    "print(filler)\n",
    "\n",
    "for (bill, qtd) in item_dict.items():\n",
    "    print(bill, qtd)"
   ]
  },
  {
   "cell_type": "code",
   "execution_count": 19,
   "metadata": {},
   "outputs": [
    {
     "name": "stdout",
     "output_type": "stream",
     "text": [
      "[1200, 250, 20]\n",
      "Totals = 1470\n",
      "Bill counts = ['12 x $100.00', '5 x $50.00', '2 x $10.00']\n"
     ]
    }
   ],
   "source": [
    "# Creating dictionaries in python\n",
    "def print_savings(item_dict):\n",
    "    my_list = [int(bill) * qtd for (bill, qtd) in item_dict.items()]\n",
    "    print(my_list)\n",
    "    print('Totals = {0}'.format(sum(my_list)))\n",
    "    bill_desc = ['{qtd} x ${bill:.2f}'.format(\n",
    "        bill=int(bill), qtd=qtd) for (bill, qtd) in item_dict.items()]\n",
    "    print('Bill counts = {0}'.format(bill_desc))\n",
    "    \n",
    "\n",
    "my_savings = {'100': 12, '50': 5, '10': 2}\n",
    "\n",
    "print_savings(my_savings)"
   ]
  },
  {
   "cell_type": "code",
   "execution_count": 20,
   "metadata": {},
   "outputs": [
    {
     "name": "stdout",
     "output_type": "stream",
     "text": [
      "12\n"
     ]
    }
   ],
   "source": [
    "x = my_savings['100']\n",
    "print(x)"
   ]
  },
  {
   "cell_type": "code",
   "execution_count": 21,
   "metadata": {
    "scrolled": true
   },
   "outputs": [
    {
     "name": "stdout",
     "output_type": "stream",
     "text": [
      "[1400, 250, 20, 35]\n",
      "Totals = 1705\n",
      "Bill counts = ['14 x $100.00', '5 x $50.00', '2 x $10.00', '7 x $5.00']\n"
     ]
    }
   ],
   "source": [
    "# Adding some two 'hundred dollar' bills and seven 'five dollars' bills.\n",
    "my_savings['100'] += 2\n",
    "my_savings['5'] = my_savings.get('5', 0) + 7\n",
    "print_savings(my_savings)"
   ]
  },
  {
   "cell_type": "code",
   "execution_count": 22,
   "metadata": {},
   "outputs": [
    {
     "name": "stdout",
     "output_type": "stream",
     "text": [
      "[1400, 250, 20, 35]\n",
      "Totals = 1705\n",
      "Bill counts = ['14 x $100.00', '5 x $50.00', '2 x $10.00', '7 x $5.00']\n"
     ]
    }
   ],
   "source": [
    "# Creating dictionaries in python\n",
    "from collections import defaultdict\n",
    "my_savings2 = defaultdict(int)\n",
    "my_savings2['100'] = 12\n",
    "my_savings2['50'] = 5\n",
    "my_savings2['10'] = 2\n",
    "my_savings2['100'] += 2\n",
    "my_savings2['5'] += 7\n",
    "print_savings(my_savings2)"
   ]
  },
  {
   "cell_type": "code",
   "execution_count": 21,
   "metadata": {},
   "outputs": [
    {
     "name": "stdout",
     "output_type": "stream",
     "text": [
      "defaultdict(<class 'list'>, {})\n",
      "defaultdict(<class 'list'>, {'100': [12, 2, 5], '50': [5, 8]})\n"
     ]
    }
   ],
   "source": [
    "from collections import defaultdict\n",
    "result = defaultdict(list)\n",
    "print(result)\n",
    "bills = [('100', 12), ('50', 5), ('100', 2), ('100', 5), ('50', 8)]\n",
    "for (bill, qtd) in bills:\n",
    "    result[bill].append(qtd)\n",
    "print(result)"
   ]
  },
  {
   "cell_type": "code",
   "execution_count": 22,
   "metadata": {},
   "outputs": [
    {
     "name": "stdout",
     "output_type": "stream",
     "text": [
      "{}\n",
      "{'100': [12, 2, 5], '50': [5, 8]}\n"
     ]
    }
   ],
   "source": [
    "result = {}\n",
    "print(result)\n",
    "users = [('100', 12), ('50', 5), ('100', 2), ('100', 5), ('50', 8)]\n",
    "for (uid, line) in users:\n",
    "    if not uid in result:\n",
    "        result[uid] = []\n",
    "    result[uid].append(line)\n",
    "print(result)"
   ]
  },
  {
   "cell_type": "code",
   "execution_count": 32,
   "metadata": {},
   "outputs": [],
   "source": [
    "# my_savings2 = {'100': 12, '50': 5, '10': 2, '1': 27}"
   ]
  },
  {
   "cell_type": "code",
   "execution_count": 31,
   "metadata": {},
   "outputs": [
    {
     "name": "stdout",
     "output_type": "stream",
     "text": [
      "0\n",
      " - \n",
      "[1200, 250, 20, 27]\n",
      "Totals = 1497\n",
      "Bill counts = ['12 x $100.00', '5 x $50.00', '2 x $10.00', '27 x $1.00']\n",
      " - \n",
      "[1200, 250, 20, 27]\n",
      "Totals = 1497\n",
      "Bill counts = ['12 x $100.00', '5 x $50.00', '2 x $10.00', '27 x $1.00']\n",
      " - \n",
      "[1200, 250, 20, 27]\n",
      "Totals = 1497\n",
      "Bill counts = ['12 x $100.00', '5 x $50.00', '2 x $10.00', '27 x $1.00']\n"
     ]
    }
   ],
   "source": [
    "# Removing replacing 5 dollar bills with one dollar bills.\n",
    "my_savings = my_savings2\n",
    "value_in_5_dollars = my_savings.get('5', 0) * 5\n",
    "print(value_in_5_dollars)\n",
    "print(' - ')\n",
    "print_savings(my_savings)\n",
    "if '5' in my_savings:\n",
    "    del my_savings['5']\n",
    "print(' - ')\n",
    "print_savings(my_savings)\n",
    "print(' - ')\n",
    "my_savings['1'] = my_savings.get('1', 0) + value_in_5_dollars\n",
    "print_savings(my_savings)"
   ]
  },
  {
   "cell_type": "code",
   "execution_count": 33,
   "metadata": {},
   "outputs": [],
   "source": [
    "# Dealing with a simple fruit inventory\n",
    "inventory = {'banana': 200, 'orange': 120, 'grapes': 87, 'coconut': 51, 'apple': 180}\n",
    "valid_order = {'banana':40, 'grapes': 20, 'apple': 21}"
   ]
  },
  {
   "cell_type": "code",
   "execution_count": 35,
   "metadata": {},
   "outputs": [],
   "source": [
    "def have_items(inventory, order):\n",
    "    for fruit, qtd in order.items():\n",
    "        if not fruit in inventory:\n",
    "            return False\n",
    "        inv_qtd = inventory[fruit]\n",
    "        if inv_qtd < qtd:\n",
    "            return False\n",
    "    return True\n",
    "\n",
    "def _execute_transaction(inventory, order):\n",
    "    for fruit, qtd in order.items():\n",
    "        inventory[fruit] -= qtd\n",
    "        \n",
    "def process_order(inventory, order):\n",
    "    if have_items(inventory, order):\n",
    "        _execute_transaction(inventory, order)\n",
    "        return True\n",
    "    return False\n",
    "\n",
    "def print_inv(name, inv):\n",
    "    print('{0}: {1}'.format(name, str(inv)))"
   ]
  },
  {
   "cell_type": "code",
   "execution_count": 37,
   "metadata": {},
   "outputs": [
    {
     "name": "stdout",
     "output_type": "stream",
     "text": [
      "True\n"
     ]
    }
   ],
   "source": [
    "# Impossible order\n",
    "print(have_items(inventory, {'coconut':20, 'banana': 20})) # Dont carry cherries"
   ]
  },
  {
   "cell_type": "code",
   "execution_count": 27,
   "metadata": {},
   "outputs": [
    {
     "name": "stdout",
     "output_type": "stream",
     "text": [
      "10\n"
     ]
    }
   ],
   "source": [
    "x = 10\n",
    "\n",
    "def test1(my_var):\n",
    "    my_var = 1\n",
    "\n",
    "test1(x)\n",
    "print(x)"
   ]
  },
  {
   "cell_type": "code",
   "execution_count": 38,
   "metadata": {},
   "outputs": [
    {
     "name": "stdout",
     "output_type": "stream",
     "text": [
      "[10, 1]\n"
     ]
    }
   ],
   "source": [
    "x = [10]\n",
    "\n",
    "def test1(my_var):\n",
    "    my_var.append(1)\n",
    "\n",
    "test1(x)\n",
    "print(x)\n"
   ]
  },
  {
   "cell_type": "code",
   "execution_count": 39,
   "metadata": {},
   "outputs": [
    {
     "name": "stdout",
     "output_type": "stream",
     "text": [
      "True\n",
      "Before the order: {'banana': 200, 'orange': 120, 'grapes': 87, 'coconut': 51, 'apple': 180}\n",
      "After the order : {'banana': 155, 'orange': 120, 'grapes': 62, 'coconut': 51, 'apple': 159}\n"
     ]
    }
   ],
   "source": [
    "# Valid order\n",
    "order = {'banana':45, 'grapes': 25, 'apple': 21}\n",
    "print(have_items(inventory, order))\n",
    "print_inv('Before the order', inventory)\n",
    "process_order(inventory, order)\n",
    "print_inv('After the order ', inventory)"
   ]
  },
  {
   "cell_type": "code",
   "execution_count": 14,
   "metadata": {},
   "outputs": [],
   "source": [
    "# What if we need a function to get the qtd for any fruit and return zero if we dont carry that fruit?"
   ]
  },
  {
   "cell_type": "code",
   "execution_count": 40,
   "metadata": {},
   "outputs": [],
   "source": [
    "# Naive approach\n",
    "def qtd_available_v1(inv, fruit):\n",
    "    if fruit in inv:\n",
    "        return inv[fruit]\n",
    "    return 0\n",
    "   \n",
    "# Better approach\n",
    "def qtd_available_v2(inv, fruit):\n",
    "    return inv.get(fruit, 0)"
   ]
  },
  {
   "cell_type": "code",
   "execution_count": 41,
   "metadata": {},
   "outputs": [
    {
     "name": "stdout",
     "output_type": "stream",
     "text": [
      "120\n",
      "0\n",
      "120\n",
      "0\n"
     ]
    }
   ],
   "source": [
    "print(qtd_available_v1(inventory, 'orange'))\n",
    "print(qtd_available_v1(inventory, 'fruit x'))\n",
    "print(qtd_available_v2(inventory, 'orange'))\n",
    "print(qtd_available_v2(inventory, 'fruit x'))"
   ]
  },
  {
   "cell_type": "code",
   "execution_count": 77,
   "metadata": {},
   "outputs": [],
   "source": [
    "# Accessing dictionary elements.\n",
    "inventory = {'banana': 200, 'orange': 120, 'grapes': 87, 'coconut': 51, 'apple': 180}"
   ]
  },
  {
   "cell_type": "code",
   "execution_count": 33,
   "metadata": {},
   "outputs": [
    {
     "name": "stdout",
     "output_type": "stream",
     "text": [
      "['banana', 'orange', 'grapes', 'coconut', 'apple']\n"
     ]
    }
   ],
   "source": [
    "# Question: What items do you carry in your inventory?\n",
    "print([x for x in inventory.keys()])"
   ]
  },
  {
   "cell_type": "code",
   "execution_count": 34,
   "metadata": {},
   "outputs": [
    {
     "name": "stdout",
     "output_type": "stream",
     "text": [
      "['banana', 'orange', 'grapes', 'coconut', 'apple']\n"
     ]
    }
   ],
   "source": [
    "# Question: What items do you carry in your inventory?\n",
    "print([x for x in inventory])"
   ]
  },
  {
   "cell_type": "code",
   "execution_count": 35,
   "metadata": {},
   "outputs": [
    {
     "name": "stdout",
     "output_type": "stream",
     "text": [
      "[155, 120, 62, 51, 159]\n",
      "547\n"
     ]
    }
   ],
   "source": [
    "# Question: What is the sum of all quantities in your inventory?\n",
    "x = list(inventory.values())\n",
    "print(x)\n",
    "print(sum(x))"
   ]
  },
  {
   "cell_type": "code",
   "execution_count": 36,
   "metadata": {},
   "outputs": [
    {
     "name": "stdout",
     "output_type": "stream",
     "text": [
      "banana=155\n",
      "orange=120\n",
      "grapes=62\n",
      "coconut=51\n",
      "apple=159\n"
     ]
    }
   ],
   "source": [
    "# Question: List the items and qtd in your inventory.\n",
    "a_list = ['{0}={1}'.format(k,v) for (k,v) in inventory.items()]\n",
    "print('\\n'.join(a_list))"
   ]
  },
  {
   "cell_type": "code",
   "execution_count": 37,
   "metadata": {},
   "outputs": [
    {
     "name": "stdout",
     "output_type": "stream",
     "text": [
      "banana=155, orange=120, grapes=62, coconut=51, apple=159\n"
     ]
    }
   ],
   "source": [
    "print(', '.join(a_list))"
   ]
  },
  {
   "cell_type": "code",
   "execution_count": 43,
   "metadata": {},
   "outputs": [
    {
     "name": "stdout",
     "output_type": "stream",
     "text": [
      "\n",
      "{\n",
      "    \"glossary\": {\n",
      "        \"title\": \"example glossary\",\n",
      "        \"GlossDiv\": {\n",
      "            \"title\": \"S\",\n",
      "            \"GlossList\": {\n",
      "                \"GlossEntry\": {\n",
      "                    \"ID\": \"SGML\",\n",
      "                    \"SortAs\": \"SGML\",\n",
      "                    \"GlossTerm\": \"Standard Generalized Markup Language\",\n",
      "                    \"Acronym\": \"SGML\",\n",
      "                    \"Abbrev\": \"ISO 8879:1986\",\n",
      "                    \"GlossDef\": {\n",
      "                        \"para\": \"A meta-markup language, used to create markup languages such as DocBook.\",\n",
      "                        \"GlossSeeAlso\": [\"GML\", \"XML\"]\n",
      "                    },\n",
      "                \"GlossSee\": \"markup\"\n",
      "                }\n",
      "            }\n",
      "        }\n",
      "    }\n",
      "}\n",
      "\n"
     ]
    }
   ],
   "source": [
    "x1 = '''\n",
    "{\n",
    "    \"glossary\": {\n",
    "        \"title\": \"example glossary\",\n",
    "        \"GlossDiv\": {\n",
    "            \"title\": \"S\",\n",
    "            \"GlossList\": {\n",
    "                \"GlossEntry\": {\n",
    "                    \"ID\": \"SGML\",\n",
    "                    \"SortAs\": \"SGML\",\n",
    "                    \"GlossTerm\": \"Standard Generalized Markup Language\",\n",
    "                    \"Acronym\": \"SGML\",\n",
    "                    \"Abbrev\": \"ISO 8879:1986\",\n",
    "                    \"GlossDef\": {\n",
    "                        \"para\": \"A meta-markup language, used to create markup languages such as DocBook.\",\n",
    "                        \"GlossSeeAlso\": [\"GML\", \"XML\"]\n",
    "                    },\n",
    "                \"GlossSee\": \"markup\"\n",
    "                }\n",
    "            }\n",
    "        }\n",
    "    }\n",
    "}\n",
    "'''\n",
    "print(x1)"
   ]
  },
  {
   "cell_type": "code",
   "execution_count": 45,
   "metadata": {},
   "outputs": [
    {
     "name": "stdout",
     "output_type": "stream",
     "text": [
      "{'glossary': {'title': 'example glossary', 'GlossDiv': {'title': 'S'}}}\n"
     ]
    }
   ],
   "source": [
    "x1 = {\n",
    "    \"glossary\": {\n",
    "        \"title\": \"example glossary\",\n",
    "        \"GlossDiv\": {\n",
    "            \"title\": \"S\"\n",
    "        }\n",
    "    }\n",
    "}\n",
    "print(x1)"
   ]
  },
  {
   "cell_type": "code",
   "execution_count": 46,
   "metadata": {},
   "outputs": [],
   "source": [
    "JSON_TXT = \"\"\"\n",
    "[\n",
    "{\"students\": [{\"userId\": 1,\"name\": \"John Smith\",\"phoneNumber\": \"1234444\",\"classes\": [\"MATH\", \"CM2\"]},\n",
    "{\"userId\": 2,\"name\": \"Jane Doe\",\"phoneNumber\": \"1235555\",\"classes\": [\"CS1\", \"MATH\"]},\n",
    "]\"\"\"\n"
   ]
  },
  {
   "cell_type": "code",
   "execution_count": 47,
   "metadata": {},
   "outputs": [
    {
     "name": "stdout",
     "output_type": "stream",
     "text": [
      "{'students': [{'userId': 1, 'name': 'John Smith', 'phoneNumber': '1234444', 'classes': ['MATH', 'CM2']}, {'userId': 2, 'name': 'Jane Doe', 'phoneNumber': '1235555', 'classes': ['CS1', 'MATH']}, {'userId': 3, 'name': 'Kevin Connor', 'phoneNumber': '1238888', 'classes': ['STAT1', 'STAT2']}], 'state': 'CA', 'country': 'USA'}\n"
     ]
    }
   ],
   "source": [
    "# When we load a json document in python the doc is represented as a combination of lists and dictionaries.\n",
    "# Here is an example:\n",
    "\n",
    "JSON_TXT = \"\"\"\n",
    "{\n",
    "  \"students\": [\n",
    "    {\n",
    "      \"userId\": 1,\n",
    "      \"name\": \"John Smith\",\n",
    "      \"phoneNumber\": \"1234444\",\n",
    "      \"classes\": [\"MATH\", \"CM2\"]\n",
    "    },\n",
    "    {\n",
    "      \"userId\": 2,\n",
    "      \"name\": \"Jane Doe\",\n",
    "      \"phoneNumber\": \"1235555\",\n",
    "      \"classes\": [\"CS1\", \"MATH\"]\n",
    "    },\n",
    "    {\n",
    "      \"userId\": 3,\n",
    "      \"name\": \"Kevin Connor\",\n",
    "      \"phoneNumber\": \"1238888\",\n",
    "      \"classes\": [\"STAT1\", \"STAT2\"]\n",
    "    }],\n",
    "    \"state\": \"CA\",\n",
    "    \"country\": \"USA\"\n",
    "    \n",
    "}\"\"\"\n",
    "\n",
    "import json\n",
    "json_obj = json.loads(JSON_TXT)\n",
    "print(json_obj)"
   ]
  },
  {
   "cell_type": "code",
   "execution_count": 48,
   "metadata": {},
   "outputs": [
    {
     "name": "stdout",
     "output_type": "stream",
     "text": [
      "[{'userId': 1, 'name': 'John Smith', 'phoneNumber': '1234444', 'classes': ['MATH', 'CM2']}, {'userId': 2, 'name': 'Jane Doe', 'phoneNumber': '1235555', 'classes': ['CS1', 'MATH']}, {'userId': 3, 'name': 'Kevin Connor', 'phoneNumber': '1238888', 'classes': ['STAT1', 'STAT2']}]\n",
      "--------------------\n",
      "John Smith ['MATH', 'CM2']\n",
      "Jane Doe ['CS1', 'MATH']\n",
      "Kevin Connor ['STAT1', 'STAT2']\n"
     ]
    }
   ],
   "source": [
    "stds = json_obj['students']\n",
    "print(stds)\n",
    "print('-' * 20)\n",
    "for st in stds:\n",
    "    print(st['name'], st['classes'])"
   ]
  },
  {
   "cell_type": "code",
   "execution_count": 49,
   "metadata": {},
   "outputs": [],
   "source": [
    "with open(\"saved.json\", \"w\") as out_file:\n",
    "      json.dump(json_obj, out_file, indent = 6)\n",
    "  "
   ]
  },
  {
   "cell_type": "code",
   "execution_count": 50,
   "metadata": {},
   "outputs": [
    {
     "name": "stdout",
     "output_type": "stream",
     "text": [
      "{'students': [{'userId': 1, 'name': 'John Smith', 'phoneNumber': '1234444', 'classes': ['MATH', 'CM2']}, {'userId': 2, 'name': 'Jane Doe', 'phoneNumber': '1235555', 'classes': ['CS1', 'MATH']}, {'userId': 3, 'name': 'Kevin Connor', 'phoneNumber': '1238888', 'classes': ['STAT1', 'STAT2']}], 'state': 'CA', 'country': 'USA'}\n"
     ]
    }
   ],
   "source": [
    "with open(\"saved.json\", \"r\") as in_file:\n",
    "    data = json.load(in_file)\n",
    "    print(data)\n"
   ]
  },
  {
   "cell_type": "code",
   "execution_count": 44,
   "metadata": {},
   "outputs": [
    {
     "name": "stdout",
     "output_type": "stream",
     "text": [
      "{'userId': 1, 'name': 'John Smith', 'phoneNumber': '1234444', 'classes': ['MATH', 'CM2']}\n",
      "{'userId': 2, 'name': 'Jane Doe', 'phoneNumber': '1235555', 'classes': ['CS1', 'MATH']}\n",
      "{'userId': 3, 'name': 'Kevin Connor', 'phoneNumber': '1238888', 'classes': ['STAT1', 'STAT2']}\n"
     ]
    }
   ],
   "source": [
    "JSON_TXT = \"\"\"\n",
    "{[\n",
    "    {\n",
    "      \"userId\": 1,\n",
    "      \"name\": \"John Smith\",\n",
    "      \"phoneNumber\": \"1234444\",\n",
    "      \"classes\": [\"MATH\", \"CM2\"]\n",
    "    },\n",
    "    {\n",
    "      \"userId\": 2,\n",
    "      \"name\": \"Jane Doe\",\n",
    "      \"phoneNumber\": \"1235555\",\n",
    "      \"classes\": [\"CS1\", \"MATH\"]\n",
    "    },\n",
    "    {\n",
    "      \"userId\": 3,\n",
    "      \"name\": \"Kevin Connor\",\n",
    "      \"phoneNumber\": \"1238888\",\n",
    "      \"classes\": [\"STAT1\", \"STAT2\"]\n",
    "    }\n",
    "]}\"\"\"\n",
    "\n",
    "BEFORE_REC = 0\n",
    "IN_REC = 1\n",
    "\n",
    "import json\n",
    "\n",
    "def parse_json_manually(json_text):\n",
    "    buffer = []\n",
    "    state = BEFORE_REC\n",
    "    for line in json_text.split('\\n'):\n",
    "        line = line.strip()\n",
    "        if state == IN_REC:\n",
    "            if line in ['},', '}']:\n",
    "                buffer.append('}')\n",
    "                # print('\\n'.join(buffer))\n",
    "                json_obj = json.loads('\\n'.join(buffer))\n",
    "                print(json_obj)\n",
    "                buffer = []\n",
    "                state = BEFORE_REC\n",
    "            else:\n",
    "                buffer.append(line)\n",
    "        else:    \n",
    "            if line == '{[':\n",
    "                continue\n",
    "            if line == '{':\n",
    "                state = IN_REC\n",
    "                buffer.append('{')\n",
    "        \n",
    "\n",
    "parse_json_manually(JSON_TXT)"
   ]
  },
  {
   "cell_type": "code",
   "execution_count": 51,
   "metadata": {},
   "outputs": [
    {
     "name": "stdout",
     "output_type": "stream",
     "text": [
      "John Smith\n",
      "MATH\n",
      "{'userId': 1, 'name': 'John Smith', 'phoneNumber': '1234444', 'classes': ['MATH', 'CM2']}\n",
      "Jane Doe\n",
      "CS1\n",
      "{'userId': 2, 'name': 'Jane Doe', 'phoneNumber': '1235555', 'classes': ['CS1', 'MATH']}\n",
      "Kevin Connor\n",
      "STAT1\n",
      "{'userId': 3, 'name': 'Kevin Connor', 'phoneNumber': '1238888', 'classes': ['STAT1', 'STAT2']}\n"
     ]
    }
   ],
   "source": [
    "# List student names\n",
    "for student in json_obj.get('students'): # Get the values in the list for the 'key'=student\n",
    "    print(student['name'])    \n",
    "    print(student['classes'][0])\n",
    "    print(student)"
   ]
  },
  {
   "cell_type": "code",
   "execution_count": 26,
   "metadata": {},
   "outputs": [
    {
     "name": "stdout",
     "output_type": "stream",
     "text": [
      "{'userId': 1, 'name': 'John Smith', 'phoneNumber': '1234444', 'classes': ['MATH', 'CM2']}\n",
      "{'userId': 2, 'name': 'Jane Doe', 'phoneNumber': '1235555', 'classes': ['CS1', 'MATH']}\n",
      "{'userId': 3, 'name': 'Kevin Connor', 'phoneNumber': '1238888', 'classes': ['STAT1', 'STAT2']}\n"
     ]
    }
   ],
   "source": [
    "# Lets print students one per line.\n",
    "for student in json_obj.get('students'):\n",
    "    print(student)"
   ]
  },
  {
   "cell_type": "code",
   "execution_count": 46,
   "metadata": {},
   "outputs": [
    {
     "name": "stdout",
     "output_type": "stream",
     "text": [
      "(elm 1, elm 2, eml 3)\n"
     ]
    }
   ],
   "source": [
    "# Trick: When you have a list and want to make a string use the join function.\n",
    "# Ex\n",
    "print('(' + ', '.join(['elm 1','elm 2', 'eml 3']) + ')')"
   ]
  },
  {
   "cell_type": "code",
   "execution_count": 53,
   "metadata": {},
   "outputs": [
    {
     "name": "stdout",
     "output_type": "stream",
     "text": [
      "(1,2,3)\n"
     ]
    }
   ],
   "source": [
    "# If element is not string convert then to string using str.\n",
    "print('(' + ','.join([str(x) for x in [1,2,3]]) + ')')"
   ]
  },
  {
   "cell_type": "code",
   "execution_count": 48,
   "metadata": {},
   "outputs": [
    {
     "data": {
      "text/plain": [
       "' 1'"
      ]
     },
     "execution_count": 48,
     "metadata": {},
     "output_type": "execute_result"
    }
   ],
   "source": [
    "' ' + str(1)"
   ]
  },
  {
   "cell_type": "code",
   "execution_count": 54,
   "metadata": {},
   "outputs": [
    {
     "name": "stdout",
     "output_type": "stream",
     "text": [
      "4\n",
      "abc123\n"
     ]
    }
   ],
   "source": [
    "def add(x, y):\n",
    "    print(x + y)\n",
    "    \n",
    "add(1,3)\n",
    "add('abc', '123')"
   ]
  },
  {
   "cell_type": "code",
   "execution_count": null,
   "metadata": {},
   "outputs": [],
   "source": []
  }
 ],
 "metadata": {
  "kernelspec": {
   "display_name": "Python 3 (ipykernel)",
   "language": "python",
   "name": "python3"
  },
  "language_info": {
   "codemirror_mode": {
    "name": "ipython",
    "version": 3
   },
   "file_extension": ".py",
   "mimetype": "text/x-python",
   "name": "python",
   "nbconvert_exporter": "python",
   "pygments_lexer": "ipython3",
   "version": "3.9.7"
  }
 },
 "nbformat": 4,
 "nbformat_minor": 4
}
