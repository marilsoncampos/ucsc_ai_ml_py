{
 "cells": [
  {
   "attachments": {},
   "cell_type": "markdown",
   "metadata": {},
   "source": [
    "## Python Part 1 Exercises"
   ]
  },
  {
   "attachments": {},
   "cell_type": "markdown",
   "metadata": {},
   "source": [
    "#### 1.0"
   ]
  },
  {
   "cell_type": "code",
   "execution_count": null,
   "metadata": {},
   "outputs": [],
   "source": [
    "#Using the environment magic command, print out the environment variables."
   ]
  },
  {
   "cell_type": "code",
   "execution_count": null,
   "metadata": {},
   "outputs": [],
   "source": [
    "#Create a new environment variable MY_VAR, and set it to a value of 10."
   ]
  },
  {
   "cell_type": "code",
   "execution_count": null,
   "metadata": {},
   "outputs": [],
   "source": [
    "#Use this cell to delete the previously created variable.\n",
    "import os\n",
    "if 'MY_VAR' in os.environ:\n",
    "    print('Deleting')\n",
    "    del os.environ['MY_VAR']"
   ]
  },
  {
   "cell_type": "code",
   "execution_count": null,
   "metadata": {},
   "outputs": [],
   "source": [
    "#Using the bash magic command, print out today's date."
   ]
  },
  {
   "attachments": {},
   "cell_type": "markdown",
   "metadata": {},
   "source": [
    "#### 1.1"
   ]
  },
  {
   "cell_type": "code",
   "execution_count": null,
   "metadata": {},
   "outputs": [],
   "source": [
    "#Using the multi-line string, print out your name one one line and \n",
    "#today's date on the other using a single print statement\n",
    "print()"
   ]
  },
  {
   "cell_type": "code",
   "execution_count": null,
   "metadata": {},
   "outputs": [],
   "source": [
    "#Using the following code, write in the blank line to print out the byte code \n",
    "#for each element in the word.\n",
    "word = 'California'\n",
    "for elm in word:\n",
    "    #Write code here"
   ]
  },
  {
   "cell_type": "code",
   "execution_count": null,
   "metadata": {},
   "outputs": [],
   "source": [
    "#Using the following code, write in the blank line to print out the binary \n",
    "#for each byte code in the list.\n",
    "word_list = [67,97,108,105,102,111,114,110,105,97]\n",
    "for letter in word_list:\n",
    "    #Write code here"
   ]
  },
  {
   "cell_type": "code",
   "execution_count": null,
   "metadata": {},
   "outputs": [],
   "source": [
    "#Using the following code, fill in the return statement in the \n",
    "#blank line to return the sum of two numbers\n",
    "def addition(a: int, b: int) -> int:\n",
    "    return #Write code here\n",
    "\n",
    "print(addition(10, 10)) #Should return 20"
   ]
  },
  {
   "cell_type": "code",
   "execution_count": null,
   "metadata": {},
   "outputs": [],
   "source": [
    "#Using the following code, convert the number_of_passangers\n",
    "#variable from a float to an int.\n",
    "number_of_passangers = 2014.5\n",
    "#Write conversion here\n",
    "\n",
    "print(number_of_passangers)"
   ]
  },
  {
   "attachments": {},
   "cell_type": "markdown",
   "metadata": {},
   "source": [
    "#### 1.2"
   ]
  },
  {
   "cell_type": "code",
   "execution_count": null,
   "metadata": {},
   "outputs": [],
   "source": [
    "#Implement the following function using the following rules\n",
    "# 1. (1-5) Monday-Friday are part of weekdays\n",
    "# 2. (6-7) Saturday-Sunday are part of weekends\n",
    "# Example: is_weekend(1) -> False\n",
    "\n",
    "def is_weekend(day: int) -> bool:\n",
    "    return False"
   ]
  },
  {
   "cell_type": "code",
   "execution_count": null,
   "metadata": {},
   "outputs": [],
   "source": [
    "#Implement the following function using the following rules\n",
    "# 1. if # is even, square it\n",
    "# 2. if # is odd, subtract one from it and then cube it \n",
    "# Example: square_evens_cube_sub_one_odds([1,4,3]) -> [0, 16, 8]\n",
    "\n",
    "def square_evens_cube_sub_one_odds(nums: list) -> list:\n",
    "    new_list = []\n",
    "    for number in nums:\n",
    "        pass #Write your code here\n",
    "    return new_list"
   ]
  },
  {
   "cell_type": "code",
   "execution_count": null,
   "metadata": {},
   "outputs": [],
   "source": [
    "# *** EXTRA CREDIT ***\n",
    "# Queue is a First In First out construct.\n",
    "# We push to the end of the queue \n",
    "# and pop from the front of the queue.\n",
    "# Imagine a queue of people at a checkout line.\n",
    "#    - To push, you have a new person and add them to the end of the queue of people in line.\n",
    "#    - To pop , you take the person at the front of the line and check them out.\n",
    "\n",
    "# Following how we implemented the stack data-structure using a list, \n",
    "# implement a queue using the following skeletons\n",
    "# * Hint * Research the insert() function for lists\n",
    "\n",
    "def get_queue():\n",
    "    return []\n",
    "\n",
    "def push(queue, elm):\n",
    "    print('> push value {}'.format(elm))\n",
    "    #Write code here\n",
    "\n",
    "def pop(queue):\n",
    "    #Write code here\n",
    "    return None\n",
    "    \n",
    "def print_queue(queue):\n",
    "    #This should be the same\n",
    "    print('\\nqueue = [ ')\n",
    "    for elm in reversed(queue):\n",
    "        print(f'{elm:>3}')\n",
    "    print(']\\n')\n",
    "\n"
   ]
  },
  {
   "attachments": {},
   "cell_type": "markdown",
   "metadata": {},
   "source": [
    "#### 1.3"
   ]
  },
  {
   "cell_type": "code",
   "execution_count": null,
   "metadata": {},
   "outputs": [],
   "source": [
    "#Implement the following function using the following rules\n",
    "# 1. (1-5) Monday-Friday are part of weekdays\n",
    "# 2. (6-7) Saturday-Sunday are part of weekends\n",
    "# Example: is_weekend(1) -> False\n",
    "\n",
    "def is_weekend(day: int) -> bool:\n",
    "    return False"
   ]
  },
  {
   "cell_type": "code",
   "execution_count": null,
   "metadata": {},
   "outputs": [],
   "source": [
    "#Implement the following for loop which will transpose m1 into another_transposed\n",
    "#as a transposed matrix of m1.\n",
    "\n",
    "# Transpose the matrix without list comprehensions\n",
    "def print_matrix(mt):\n",
    "    print('[')\n",
    "    for row in mt:\n",
    "        print(' '+ str(row))\n",
    "    print(']')\n",
    "\n",
    "\n",
    "#m1 is 4x5\n",
    "m1 = [\n",
    "    [1, 2, 3, 4, 5],\n",
    "    [6, 7, 8, 9, 10],\n",
    "    [11, 12, 13, 14, 15],\n",
    "    [16, 17, 18, 19, 20]\n",
    "]\n",
    "#another_transposed should be 5x4 \n",
    "another_transposed = []\n",
    "for col in range(len(m1[0])):\n",
    "    new_row = []\n",
    "    for row in m1:\n",
    "        #write your code here\n",
    "    #write your code here\n",
    "  \n",
    "print('Original:\\n')\n",
    "print_matrix(m1)\n",
    "print(' ')\n",
    "print('Transposed:\\n')\n",
    "print_matrix(another_transposed)"
   ]
  },
  {
   "attachments": {},
   "cell_type": "markdown",
   "metadata": {},
   "source": [
    "#### 1.4"
   ]
  },
  {
   "cell_type": "code",
   "execution_count": null,
   "metadata": {},
   "outputs": [],
   "source": [
    "# *** EXTRA CREDIT ***\n",
    "#Implement the following function by using a dictionary to count how many times \n",
    "#each character appears in the given phrase\n",
    "#Example: unique_char_count(\"Sleep\") -> {\"S\": 1, \"l\": 1, \"e\": 2, \"p\": 1}\n",
    "# * Hint * Research accessing dictionary values by key\n",
    "\n",
    "def unique_char_count(phrase: str) -> dict:\n",
    "    counting_dictionary = dict()\n",
    "    #write code here\n",
    "    return counting_dictionary\n",
    "\n",
    "print(unique_char_count(\"Sleep\"))"
   ]
  },
  {
   "cell_type": "code",
   "execution_count": null,
   "metadata": {},
   "outputs": [],
   "source": [
    "#Implement the following function by using a dictionary to count how many times \n",
    "#a unique character appears in the phrase\n",
    "#Example: total_unique_chars(\"Sleep\") -> 4 since there e shows up twice\n",
    "\n",
    "def total_unique_chars(phrase: str) -> int:\n",
    "    counting_set = set()\n",
    "    for character in phrase:\n",
    "        #Write code here\n",
    "    return counting_set\n",
    "\n",
    "\n",
    "print(total_unique_chars(\"Sleep\"))"
   ]
  },
  {
   "cell_type": "code",
   "execution_count": null,
   "metadata": {},
   "outputs": [],
   "source": [
    "#Implement the following file opening statement in order to read from the file\n",
    "#and print the sum of all of the numbers being read from the file.\n",
    "#* Hint * Research the readlines() and strip() functions\n",
    "\n",
    "with open('new_file.txt', 'r') as in_f:\n",
    "    sum = 0\n",
    "    #write your code here\n",
    "    print(sum)\n"
   ]
  },
  {
   "attachments": {},
   "cell_type": "markdown",
   "metadata": {},
   "source": [
    "#### 1.5"
   ]
  },
  {
   "cell_type": "code",
   "execution_count": null,
   "metadata": {},
   "outputs": [],
   "source": [
    "#While reading a json, print out the data for the student with a userId of 3\n",
    "\n",
    "with open(\"saved.json\", \"r\") as in_file:\n",
    "    data = json.load(in_file)\n",
    "    #write your code here\n",
    "\n"
   ]
  }
 ],
 "metadata": {
  "kernelspec": {
   "display_name": "Python 3 (ipykernel)",
   "language": "python",
   "name": "python3"
  },
  "language_info": {
   "codemirror_mode": {
    "name": "ipython",
    "version": 3
   },
   "file_extension": ".py",
   "mimetype": "text/x-python",
   "name": "python",
   "nbconvert_exporter": "python",
   "pygments_lexer": "ipython3",
   "version": "3.10.6"
  }
 },
 "nbformat": 4,
 "nbformat_minor": 4
}
