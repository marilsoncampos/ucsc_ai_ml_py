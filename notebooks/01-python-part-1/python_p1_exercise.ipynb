{
 "cells": [
  {
   "cell_type": "markdown",
   "metadata": {},
   "source": [
    "## Python Part 1 Exercises"
   ]
  },
  {
   "cell_type": "code",
   "execution_count": 1,
   "metadata": {},
   "outputs": [],
   "source": [
    "# Helper functions\n",
    "\n",
    "import os\n",
    "def print_variable(var_name):\n",
    "    print(f'--print_variable--')\n",
    "    if 'MY_VAR' in os.environ:\n",
    "        print('{0}={1}'.format(var_name, os.environ[var_name]))\n",
    "    else:\n",
    "        print(f'\"{var_name}\" Not found!')\n",
    "        \n",
    "def delete_variable(var_name):\n",
    "    print('--delete_variable--')\n",
    "    if var_name in os.environ:\n",
    "        print('Deleting')\n",
    "        del os.environ[var_name]\n",
    "    else:\n",
    "        print(f'\"{var_name}\" Not found!')\n",
    "    \n",
    "    \n"
   ]
  },
  {
   "cell_type": "raw",
   "metadata": {},
   "source": [
    "# Question 1\n",
    "Print out the environment variables."
   ]
  },
  {
   "cell_type": "code",
   "execution_count": null,
   "metadata": {},
   "outputs": [],
   "source": []
  },
  {
   "cell_type": "raw",
   "metadata": {},
   "source": [
    "# Question 2\n",
    "Create a new environment variable MY_VAR, and set it to a value of 10."
   ]
  },
  {
   "cell_type": "code",
   "execution_count": null,
   "metadata": {},
   "outputs": [],
   "source": []
  },
  {
   "cell_type": "raw",
   "metadata": {},
   "source": [
    "# Question 3\n",
    "Print the MY_VAR value stored in the environment"
   ]
  },
  {
   "cell_type": "code",
   "execution_count": null,
   "metadata": {
    "tags": []
   },
   "outputs": [],
   "source": []
  },
  {
   "cell_type": "raw",
   "metadata": {},
   "source": [
    "# Question 4\n",
    "Print out your name one one line and \n",
    "#today's date on the other using a single print statement\n",
    "\n",
    "Hint: use the'\\n' to mark a new line"
   ]
  },
  {
   "cell_type": "code",
   "execution_count": null,
   "metadata": {},
   "outputs": [],
   "source": []
  },
  {
   "cell_type": "code",
   "execution_count": 3,
   "metadata": {},
   "outputs": [],
   "source": [
    "# Question 5\n",
    "# Complete the code to write the byte codes for each character in the same line\n",
    "\n",
    "word = 'California'\n",
    "for elm in word:\n",
    "    # Write code here\n",
    "    pass"
   ]
  },
  {
   "cell_type": "code",
   "execution_count": 7,
   "metadata": {},
   "outputs": [],
   "source": [
    "# Question 6\n",
    "# Complete the code to print out the binary represetation \n",
    "# for each byte code in the list.\n",
    "word_list = [67,97,108,105,102,111,114,110,105,97]\n",
    "for elm in word_list:\n",
    "    # Write code here\n",
    "    pass"
   ]
  },
  {
   "cell_type": "code",
   "execution_count": 8,
   "metadata": {},
   "outputs": [
    {
     "name": "stdout",
     "output_type": "stream",
     "text": [
      "0\n"
     ]
    }
   ],
   "source": [
    "# Question 7\n",
    "# Using the following code, fill in the return statement \n",
    "# to return the sum of two numbers\n",
    "def addition(a: int, b: int) -> int:\n",
    "    return 0 # Write code here\n",
    "\n",
    "print(addition(10, 10)) #Should return 20"
   ]
  },
  {
   "cell_type": "code",
   "execution_count": 9,
   "metadata": {},
   "outputs": [
    {
     "name": "stdout",
     "output_type": "stream",
     "text": [
      "0\n"
     ]
    }
   ],
   "source": [
    "# Question 8\n",
    "# Convert the number_of_passangers variable from a float to an int.\n",
    "number_of_passangers = 2014.5\n",
    "def convert(n: float) -> int:\n",
    "    return 0 # Write code here\n",
    "\n",
    "#Write conversion here\n",
    "\n",
    "print(convert(number_of_passangers))"
   ]
  },
  {
   "cell_type": "code",
   "execution_count": 12,
   "metadata": {},
   "outputs": [
    {
     "name": "stdout",
     "output_type": "stream",
     "text": [
      "1 -> False\n",
      "2 -> False\n",
      "3 -> False\n",
      "4 -> False\n",
      "5 -> False\n",
      "6 -> False\n",
      "7 -> False\n"
     ]
    }
   ],
   "source": [
    "# Question 9\n",
    "# Implement the following function using the following rules\n",
    "# 1. (1-5) Monday-Friday are part of weekdays\n",
    "# 2. (6-7) Saturday-Sunday are part of weekends\n",
    "# Example: is_weekend(1) -> False\n",
    "\n",
    "def is_weekend(day: int) -> bool:\n",
    "    return False\n",
    "\n",
    "for x in range(1, 8):\n",
    "    print('{0} -> {1}'.format(x, is_weekend(x)))\n",
    "    "
   ]
  },
  {
   "cell_type": "code",
   "execution_count": 14,
   "metadata": {},
   "outputs": [
    {
     "data": {
      "text/plain": [
       "[]"
      ]
     },
     "execution_count": 14,
     "metadata": {},
     "output_type": "execute_result"
    }
   ],
   "source": [
    "# Question 10\n",
    "# Implement the following function using the following rules\n",
    "# 1. if # is even, square it\n",
    "# 2. if # is odd, subtract one from it and then cube it \n",
    "# Example: square_evens_cube_sub_one_odds([1,4,3]) -> [0, 16, 8]\n",
    "\n",
    "def square_evens_cube_sub_one_odds(nums: list) -> list:\n",
    "    new_list = []\n",
    "    for number in nums:\n",
    "        pass #Write your code here\n",
    "    return new_list\n",
    "\n",
    "square_evens_cube_sub_one_odds([1,4,3])"
   ]
  },
  {
   "cell_type": "code",
   "execution_count": 24,
   "metadata": {},
   "outputs": [],
   "source": [
    "# Question 11 \n",
    "# Read the json file and print out the data for the student with a userId of 3\n",
    "import json\n",
    "with open(\"saved.json\", \"r\") as in_file:\n",
    "    data = json.load(in_file)\n",
    "    #write your code here\n",
    "\n"
   ]
  },
  {
   "cell_type": "code",
   "execution_count": 19,
   "metadata": {},
   "outputs": [
    {
     "name": "stdout",
     "output_type": "stream",
     "text": [
      "0\n"
     ]
    }
   ],
   "source": [
    "# Question 12\n",
    "# Read the file and print the sum of all of the numbers in each line\n",
    "#* Hint * Research the readlines() and strip() functions\n",
    "\n",
    "with open('new_file.txt', 'r') as in_f:\n",
    "    sum = 0\n",
    "    #write your code here\n",
    "    print(sum)\n"
   ]
  },
  {
   "cell_type": "code",
   "execution_count": 18,
   "metadata": {},
   "outputs": [
    {
     "name": "stdout",
     "output_type": "stream",
     "text": [
      "set()\n"
     ]
    }
   ],
   "source": [
    "# Question 13\n",
    "# Implement the following function by using a dictionary to count how many times \n",
    "# a unique character appears in the phrase\n",
    "#Example: total_unique_chars(\"Sleep\") -> 4 since there e shows up twice\n",
    "\n",
    "def total_unique_chars(phrase: str) -> int:\n",
    "    counting_set = set()\n",
    "    for character in phrase:\n",
    "        pass #Write code here\n",
    "    return counting_set\n",
    "\n",
    "\n",
    "print(total_unique_chars(\"Sleep\"))"
   ]
  },
  {
   "cell_type": "code",
   "execution_count": 22,
   "metadata": {},
   "outputs": [
    {
     "name": "stdout",
     "output_type": "stream",
     "text": [
      "Original:\n",
      "\n",
      "[\n",
      " [1, 2, 3, 4, 5]\n",
      " [6, 7, 8, 9, 10]\n",
      " [11, 12, 13, 14, 15]\n",
      " [16, 17, 18, 19, 20]\n",
      "]\n",
      " \n",
      "Transposed:\n",
      "\n",
      "[\n",
      "]\n"
     ]
    }
   ],
   "source": [
    "# *** EXTRA CREDIT ***\n",
    "# Implement the following for loop which will transpose m1 into another_transposed\n",
    "# as a transposed matrix of m1.\n",
    "\n",
    "# Transpose the matrix without list comprehensions\n",
    "def print_matrix(mt):\n",
    "    print('[')\n",
    "    for row in mt:\n",
    "        print(' '+ str(row))\n",
    "    print(']')\n",
    "\n",
    "\n",
    "# m1 is 4x5\n",
    "m1 = [\n",
    "    [1, 2, 3, 4, 5],\n",
    "    [6, 7, 8, 9, 10],\n",
    "    [11, 12, 13, 14, 15],\n",
    "    [16, 17, 18, 19, 20]\n",
    "]\n",
    "# another_transposed should be 5x4 \n",
    "another_transposed = []\n",
    "for col in range(len(m1[0])):\n",
    "    new_row = []\n",
    "    for row in m1:\n",
    "        pass # write your code here\n",
    "    #write your code here\n",
    "  \n",
    "print('Original:\\n')\n",
    "print_matrix(m1)\n",
    "print(' ')\n",
    "print('Transposed:\\n')\n",
    "print_matrix(another_transposed)"
   ]
  },
  {
   "cell_type": "code",
   "execution_count": null,
   "metadata": {},
   "outputs": [],
   "source": [
    "# *** EXTRA CREDIT ***\n",
    "# Implement the following function by using a dictionary to count how many times \n",
    "# each character appears in the given phrase\n",
    "# Example: unique_char_count(\"Sleep\") -> {\"S\": 1, \"l\": 1, \"e\": 2, \"p\": 1}\n",
    "# * Hint * Research accessing dictionary values by key\n",
    "\n",
    "def unique_char_count(phrase: str) -> dict:\n",
    "    counting_dictionary = dict()\n",
    "    #write code here\n",
    "    return counting_dictionary\n",
    "\n",
    "print(unique_char_count(\"Sleep\"))"
   ]
  },
  {
   "cell_type": "code",
   "execution_count": null,
   "metadata": {},
   "outputs": [],
   "source": [
    "# *** EXTRA CREDIT ***\n",
    "# Queue is a First In First out construct.\n",
    "# We push to the end of the queue \n",
    "# and pop from the front of the queue.\n",
    "# Imagine a queue of people at a checkout line.\n",
    "#    - To push, you have a new person and add them to the end of the queue of \n",
    "#      people in line.\n",
    "#\n",
    "#    - To pop , you take the person at the front of the line and check them out.\n",
    "\n",
    "# Following how we implemented the stack data-structure using a list, \n",
    "# implement a queue using the following skeletons\n",
    "# * Hint * Research the insert() function for lists\n",
    "\n",
    "def get_queue():\n",
    "    return []\n",
    "\n",
    "def push(queue, elm):\n",
    "    print('> push value {}'.format(elm))\n",
    "    # Write code here\n",
    "\n",
    "def pop(queue):\n",
    "    # Write code here\n",
    "    return None\n",
    "    \n",
    "def print_queue(queue):\n",
    "    #This should be the same\n",
    "    print('\\nqueue = [ ')\n",
    "    for elm in reversed(queue):\n",
    "        print(f'{elm:>3}')\n",
    "    print(']\\n')\n",
    "\n"
   ]
  },
  {
   "cell_type": "code",
   "execution_count": null,
   "metadata": {},
   "outputs": [],
   "source": []
  }
 ],
 "metadata": {
  "kernelspec": {
   "display_name": "Python 3 (ipykernel)",
   "language": "python",
   "name": "python3"
  },
  "language_info": {
   "codemirror_mode": {
    "name": "ipython",
    "version": 3
   },
   "file_extension": ".py",
   "mimetype": "text/x-python",
   "name": "python",
   "nbconvert_exporter": "python",
   "pygments_lexer": "ipython3",
   "version": "3.9.13"
  }
 },
 "nbformat": 4,
 "nbformat_minor": 4
}
