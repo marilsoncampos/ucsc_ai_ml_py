{
 "cells": [
  {
   "cell_type": "markdown",
   "id": "cb0f4277",
   "metadata": {},
   "source": [
    "## Apply 'Monte Carlo' to figure out probabilities of real problems."
   ]
  },
  {
   "cell_type": "markdown",
   "id": "07145cb0",
   "metadata": {},
   "source": [
    "#### Whats is the intuition behind probability"
   ]
  },
  {
   "cell_type": "markdown",
   "id": "44783f20",
   "metadata": {},
   "source": [
    "For the case where we are measuring the occurrence of one event A;\n",
    "\n",
    "$P(A) = \\frac{S}{T}$ \n",
    "\n",
    "where:\n",
    "\n",
    "   P(A)=Probability of event A occuring\n",
    "\n",
    "   S=Number of successes of Event A and \n",
    "\n",
    "   T = Number of tries.\n",
    "\n",
    "> The event A could represent rolling dice with 5.\n",
    "We can then roll the dice 1000 times and count the number of times it hit 5.\n",
    "Then we divide the number of '5's by 1000 and get the probability.\n",
    "\n",
    "\n"
   ]
  },
  {
   "cell_type": "markdown",
   "id": "007e714d-2c75-498b-bff1-c853119bed3f",
   "metadata": {},
   "source": [
    "**Note:** \n",
    "\n",
    "There are cases when the event is not discrete with a finite number of occurrences.\n",
    "\n",
    "Example:\n",
    "  What's the probability of a missile hitting a particular part of a vessel?\n",
    "The same priciple applies by we need to look into areas instead of counts.\n"
   ]
  },
  {
   "cell_type": "markdown",
   "id": "91257617",
   "metadata": {
    "tags": []
   },
   "source": [
    "#### Monte Carlo Method"
   ]
  },
  {
   "cell_type": "markdown",
   "id": "ea90b481",
   "metadata": {},
   "source": [
    "Monte Carlo simulations are used to model the probability of different outcomes in a process that cannot easily be predicted due to the intervention of random variables. It is a technique used to understand the impact of risk and uncertainty in prediction and forecasting models.\n",
    "\n",
    "A Monte Carlo simulation can be used to tackle a range of problems in virtually every field such as finance, engineering, supply chain, and science. It is also referred to as a multiple probability simulation.\n",
    "\n",
    "-- Wikepedia --\n"
   ]
  },
  {
   "cell_type": "markdown",
   "id": "a56805b6",
   "metadata": {},
   "source": [
    "#### Intuition:\n",
    "\n",
    "> We create an experiment that replicates the problem using a software program.\n",
    "Then we run that program(experiment) many times to calculate the number of successes and divide by the number of tries"
   ]
  },
  {
   "cell_type": "markdown",
   "id": "6ae07561",
   "metadata": {},
   "source": [
    "## Scenario: Will Stephanie and Mia meet at Starbucks?"
   ]
  },
  {
   "cell_type": "raw",
   "id": "629745d8",
   "metadata": {},
   "source": [
    "Stephanie and Mia agree to meet at the local Starbucks between 8:00 AM and 8:30 AM.\n",
    "They follow these rules regarding waiting for each other:\n",
    "\n",
    "  1. Stephanie gets to the coffee shop and waits 8 minutes before leaving for work.\n",
    "  2. Mia gets to the coffee shop and waits 5 minutes before leaving for school.\n",
    "\n",
    "The chance of arriving at any minute between 8:00 and 8:30 is the same for Stephanie and Mia. Both of them cannot stay past 8:30.\n",
    "\n",
    "What's the probability that they will be able to meet for coffee?\n"
   ]
  },
  {
   "cell_type": "markdown",
   "id": "53db050d",
   "metadata": {},
   "source": [
    "### Solution"
   ]
  },
  {
   "cell_type": "code",
   "execution_count": 1,
   "id": "7ccebd44",
   "metadata": {},
   "outputs": [],
   "source": [
    "import random\n",
    " \n",
    "\n",
    "def two_people_meet(num_of_minutes, person_1_wait, person_2_wait):\n",
    "    # Generate possible arrival times.\n",
    "    arrival_minutes = []\n",
    "    for i in range(1, num_of_minutes+1):\n",
    "        arrival_minutes.append(i)\n",
    "    # Randomise arrivals\n",
    "    person_1_arrival = random.choice(arrival_minutes)\n",
    "    person_2_arrival = random.choice(arrival_minutes)\n",
    "    if person_1_arrival == person_2_arrival:\n",
    "        return True\n",
    "    elif person_1_arrival < person_2_arrival:\n",
    "        return abs(person_2_arrival - person_1_arrival) <= person_1_wait\n",
    "    else:\n",
    "        return abs(person_1_arrival - person_2_arrival) <= person_2_wait\n",
    "        \n",
    "\n",
    "def monte_carlo_prob_meeting(num_of_experiments, num_of_minutes, person_1_wait, person_2_wait):\n",
    "    meetings = 0.0\n",
    "    for i in range(num_of_experiments):\n",
    "        if two_people_meet(num_of_minutes, person_1_wait, person_2_wait):\n",
    "            meetings +=1\n",
    "    prob_meetings = (meetings / num_of_experiments) * 100\n",
    "    return prob_meetings\n",
    "   "
   ]
  },
  {
   "cell_type": "markdown",
   "id": "4442b7ac",
   "metadata": {},
   "source": [
    "### How increasing the number of tries changes the result?"
   ]
  },
  {
   "cell_type": "code",
   "execution_count": 4,
   "id": "c1d97827",
   "metadata": {},
   "outputs": [
    {
     "name": "stdout",
     "output_type": "stream",
     "text": [
      "Num. Experiments =    10000 -> 41.48%\n",
      "Num. Experiments =   100000 -> 41.07%\n",
      "Num. Experiments =  1000000 -> 41.05%\n",
      "Num. Experiments = 10000000 -> 40.99%\n",
      " \n"
     ]
    }
   ],
   "source": [
    "random.seed(1)\n",
    "experiment_sizes = [10_000, 100_000, 1_000_000, 10_000_000]\n",
    "num_of_minutes = 30\n",
    "person_1_wait = 8\n",
    "person_2_wait = 5\n",
    "for experiment_size in experiment_sizes:\n",
    "    prob = monte_carlo_prob_meeting(experiment_size, num_of_minutes, person_1_wait, person_2_wait)\n",
    "    print('Num. Experiments ={0:>9} -> {1:.2f}%'.format(experiment_size, prob))\n",
    "print(' ')"
   ]
  },
  {
   "cell_type": "markdown",
   "id": "8e6a0823",
   "metadata": {},
   "source": [
    "### How changing the number of minutes waited changes the chances of meeting?"
   ]
  },
  {
   "cell_type": "code",
   "execution_count": 5,
   "id": "3cf6f9b6",
   "metadata": {},
   "outputs": [],
   "source": [
    "def estimate_probs_for_wait_times():\n",
    "    num_of_minutes = 30\n",
    "    exp_size = 1_000_000\n",
    "    person_waits = list(range(0, 31))\n",
    "    results = []             \n",
    "    for wait_time in person_waits:\n",
    "        prob = monte_carlo_prob_meeting(exp_size, num_of_minutes, wait_time, wait_time)\n",
    "        results.append(prob)\n",
    "    x = person_waits\n",
    "    y = results\n",
    "    return x, y"
   ]
  },
  {
   "cell_type": "code",
   "execution_count": 6,
   "id": "2f0d7bab",
   "metadata": {},
   "outputs": [
    {
     "data": {
      "image/png": "[encoded data removed]",
      "text/plain": [
       "<Figure size 640x480 with 1 Axes>"
      ]
     },
     "metadata": {},
     "output_type": "display_data"
    }
   ],
   "source": [
    "import matplotlib.pyplot as plt\n",
    "\n",
    "x, y = estimate_probs_for_wait_times()\n",
    "plt.plot(x, y)\n",
    "plt.xlabel('Number of minutes waiting')\n",
    "plt.ylabel('% Chance of meeting')\n",
    "plt.grid(visible=True, which='major', axis='y', color='red', alpha=0.3)"
   ]
  },
  {
   "cell_type": "code",
   "execution_count": null,
   "id": "65347a95",
   "metadata": {},
   "outputs": [],
   "source": []
  },
  {
   "cell_type": "code",
   "execution_count": null,
   "id": "60197fbc",
   "metadata": {},
   "outputs": [],
   "source": []
  }
 ],
 "metadata": {
  "kernelspec": {
   "display_name": "Python 3 (ipykernel)",
   "language": "python",
   "name": "python3"
  },
  "language_info": {
   "codemirror_mode": {
    "name": "ipython",
    "version": 3
   },
   "file_extension": ".py",
   "mimetype": "text/x-python",
   "name": "python",
   "nbconvert_exporter": "python",
   "pygments_lexer": "ipython3",
   "version": "3.10.6"
  }
 },
 "nbformat": 4,
 "nbformat_minor": 5
}
