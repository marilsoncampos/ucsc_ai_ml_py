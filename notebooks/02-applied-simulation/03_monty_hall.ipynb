{
 "cells": [
  {
   "cell_type": "markdown",
   "id": "0db17c13",
   "metadata": {},
   "source": [
    "## Monty Hall"
   ]
  },
  {
   "cell_type": "markdown",
   "id": "de16c269",
   "metadata": {},
   "source": [
    "![Monty Hall Game](https://upload.wikimedia.org/wikipedia/commons/3/3f/Monty_open_door.svg)"
   ]
  },
  {
   "cell_type": "raw",
   "id": "0a620fb0",
   "metadata": {},
   "source": [
    "Suppose you're on a game show, and you're given the choice of three doors: \n",
    "   Behind one door is a car; \n",
    "   behind the others, goats. \n",
    "   \n",
    "You pick a door, say No. 1, and the host, who knows what's behind the doors, opens another door, say No. 3, which has a goat. \n",
    "\n",
    "He then says to you, \"Do you want to pick door No. 2?\" \n",
    "\n",
    "Is it to your advantage to switch your choice?\n",
    "\n",
    "-- Wikipedia --"
   ]
  },
  {
   "cell_type": "markdown",
   "id": "23cfc61a",
   "metadata": {},
   "source": [
    "## Solving the problem using 'Monte Carlo'."
   ]
  },
  {
   "cell_type": "code",
   "execution_count": 8,
   "id": "1437cf0a",
   "metadata": {},
   "outputs": [],
   "source": [
    "import random\n",
    " \n",
    "def pick_a_door(doors, exclude_doors):\n",
    "    possible_doors = []\n",
    "    for door in doors:\n",
    "        if door not in exclude_doors:\n",
    "            possible_doors.append(door)\n",
    "    return random.choice(possible_doors)\n",
    "\n",
    "def monty_hall_play(switch_door):\n",
    "    doors = [1,2,3]\n",
    "    door_with_car = random.choice(doors)\n",
    "    player_door = random.choice(doors)\n",
    "    if switch_door:\n",
    "        host_door = pick_a_door(doors, [door_with_car, player_door])\n",
    "        player_door = pick_a_door(doors, [host_door, player_door])\n",
    "    return player_door == door_with_car\n",
    "\n",
    "def monte_carlo_monty_hall(switch_door):\n",
    "    num_of_experiments = 1_000_000\n",
    "    wins = 0.0\n",
    "    for i in range(num_of_experiments):\n",
    "        if monty_hall_play(switch_door):\n",
    "            wins +=1\n",
    "    prob = (wins / num_of_experiments) * 100\n",
    "    return prob\n"
   ]
  },
  {
   "cell_type": "code",
   "execution_count": 9,
   "id": "5958019f",
   "metadata": {},
   "outputs": [
    {
     "name": "stdout",
     "output_type": "stream",
     "text": [
      "Percentange of wins for switching door     = 66.7 %\n",
      "Percentange of wins for not switching door = 33.4 %\n"
     ]
    }
   ],
   "source": [
    "prob_switch= monte_carlo_monty_hall(switch_door=True)\n",
    "print('Percentange of wins for switching door     = {0:.1f} %'.format(prob_switch))\n",
    "prob_not_switch = monte_carlo_monty_hall(switch_door=False)\n",
    "print('Percentange of wins for not switching door = {0:.1f} %'.format(prob_not_switch))"
   ]
  },
  {
   "cell_type": "raw",
   "id": "d81482ab-8ab7-470b-bb64-aa77118d0cf0",
   "metadata": {},
   "source": [
    "1   2   3\n",
    "c\n",
    "\n",
    "2 cases\n",
    "1. Picked the door with the car  1/3 of time.\n",
    "\n",
    "\n",
    "2. Picked a door without the car, 2/3 i always win.\n",
    "\n",
    "1   2   3\n",
    "c   p1  host\n"
   ]
  }
 ],
 "metadata": {
  "kernelspec": {
   "display_name": "Python 3 (ipykernel)",
   "language": "python",
   "name": "python3"
  },
  "language_info": {
   "codemirror_mode": {
    "name": "ipython",
    "version": 3
   },
   "file_extension": ".py",
   "mimetype": "text/x-python",
   "name": "python",
   "nbconvert_exporter": "python",
   "pygments_lexer": "ipython3",
   "version": "3.9.7"
  }
 },
 "nbformat": 4,
 "nbformat_minor": 5
}
