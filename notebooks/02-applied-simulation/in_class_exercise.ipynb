{
 "cells": [
  {
   "cell_type": "markdown",
   "id": "80ae080e",
   "metadata": {},
   "source": [
    "### In Class exercise: Chances of getting 7 when throwing two dices."
   ]
  },
  {
   "cell_type": "raw",
   "id": "5a5da00f",
   "metadata": {},
   "source": [
    "1-6, 2-5, 3-4, 4-3, 5-2, 6-1\n",
    "6x6"
   ]
  },
  {
   "cell_type": "code",
   "execution_count": 2,
   "id": "db107806",
   "metadata": {},
   "outputs": [],
   "source": [
    "import random\n",
    "\n",
    "DICE_VALUES = list(range(1,7))\n",
    "\n",
    "def roll_a_dice():\n",
    "    return random.choice(DICE_VALUES)\n",
    "\n",
    "\n",
    "def draw_a_number_in_two_rolls(number):\n",
    "    dice_1 = roll_a_dice()\n",
    "    dice_2 = roll_a_dice()\n",
    "    return (dice_1 + dice_2) == number\n",
    "         \n",
    "\n",
    "def monte_carlo_roll_number(num_of_experiments, sum_dice):\n",
    "    wins = 0.0\n",
    "    for _ in range(num_of_experiments):\n",
    "        win = draw_a_number_in_two_rolls(sum_dice)\n",
    "        if win:\n",
    "            wins += 1\n",
    "    prob_winning = (wins / num_of_experiments) * 100\n",
    "    return prob_winning\n",
    " "
   ]
  },
  {
   "cell_type": "code",
   "execution_count": 3,
   "id": "88250ddd",
   "metadata": {},
   "outputs": [
    {
     "name": "stdout",
     "output_type": "stream",
     "text": [
      "Estimated probability of a rolling a seven for several repetitions.\n",
      "\n",
      "  16.45% (Size = 10,000)\n",
      "  16.81% (Size = 100,000)\n",
      "  16.65% (Size = 1,000,000)\n",
      "  16.68% (Size = 10,000,000)\n"
     ]
    }
   ],
   "source": [
    "print('Estimated probability of a rolling a seven for several repetitions.\\n')\n",
    "exp_sizes = [10_000, 100_000, 1_000_000, 10_000_000]\n",
    "target_value = 7\n",
    "for exp_size in exp_sizes:\n",
    "    prob = monte_carlo_roll_number(exp_size, target_value)\n",
    "    exp_size_str = '{0:,}'.format(exp_size)\n",
    "    print('  {0:.2f}% (Size = {1:})'.format(prob, exp_size_str))\n"
   ]
  },
  {
   "cell_type": "markdown",
   "id": "fe524e5e",
   "metadata": {},
   "source": [
    "### Bonus Code"
   ]
  },
  {
   "cell_type": "code",
   "execution_count": 4,
   "id": "757eb31a",
   "metadata": {},
   "outputs": [
    {
     "name": "stdout",
     "output_type": "stream",
     "text": [
      "Possible values for sum of two dices = 2,3,4,5,6,7,8,9,10,11,12\n",
      " \n",
      "Estimations for each sum of two dices.\n",
      "  Sum = 2  ->  2.75%\n",
      "  Sum = 3  ->  5.55%\n",
      "  Sum = 4  ->  8.29%\n",
      "  Sum = 5  -> 11.12%\n",
      "  Sum = 6  -> 13.89%\n",
      "  Sum = 7  -> 16.64%\n",
      "  Sum = 8  -> 13.92%\n",
      "  Sum = 9  -> 11.10%\n",
      "  Sum = 10 ->  8.31%\n",
      "  Sum = 11 ->  5.59%\n",
      "  Sum = 12 ->  2.75%\n"
     ]
    }
   ],
   "source": [
    "def calculate_estimates_for_dice_sums(target_values):\n",
    "    exp_size = 1_000_000\n",
    "    estimations = dict()\n",
    "    for target_value in target_values:\n",
    "        prob = monte_carlo_roll_number(exp_size, target_value)\n",
    "        estimations[target_value] = prob\n",
    "    return estimations\n",
    "\n",
    "target_values = list(range(2,13)) \n",
    "print('Possible values for sum of two dices = {0}'.format(','.join([str(x) for x in target_values])))\n",
    "# Save the estimations for later use.\n",
    "monte_carlo_estimations = calculate_estimates_for_dice_sums(target_values)\n",
    "print(' ')\n",
    "print('Estimations for each sum of two dices.')\n",
    "for target_value in sorted(monte_carlo_estimations.keys()):\n",
    "    prob = monte_carlo_estimations[target_value]\n",
    "    print('  Sum = {0:<2} -> {1:5.2f}%'.format(target_value, prob))\n"
   ]
  },
  {
   "cell_type": "code",
   "execution_count": 5,
   "id": "43419fad",
   "metadata": {},
   "outputs": [
    {
     "name": "stdout",
     "output_type": "stream",
     "text": [
      "Possible combinations for each sum:\n",
      " \n",
      "  Sum = 2  -> (1, 1)\n",
      "  Sum = 3  -> (1, 2), (2, 1)\n",
      "  Sum = 4  -> (1, 3), (2, 2), (3, 1)\n",
      "  Sum = 5  -> (1, 4), (2, 3), (3, 2), (4, 1)\n",
      "  Sum = 6  -> (1, 5), (2, 4), (3, 3), (4, 2), (5, 1)\n",
      "  Sum = 7  -> (1, 6), (2, 5), (3, 4), (4, 3), (5, 2), (6, 1)\n",
      "  Sum = 8  -> (2, 6), (3, 5), (4, 4), (5, 3), (6, 2)\n",
      "  Sum = 9  -> (3, 6), (4, 5), (5, 4), (6, 3)\n",
      "  Sum = 10 -> (4, 6), (5, 5), (6, 4)\n",
      "  Sum = 11 -> (5, 6), (6, 5)\n",
      "  Sum = 12 -> (6, 6)\n"
     ]
    }
   ],
   "source": [
    "from collections import defaultdict\n",
    "\n",
    "print('Possible combinations for each sum:')\n",
    "print(' ')\n",
    "results = defaultdict(list)\n",
    "for d1 in range(1,7):\n",
    "    for d2 in range(1,7):\n",
    "       results[d1+d2].append((d1,d2)) \n",
    "for key in sorted(results.keys()):\n",
    "    dice_combinations = ', '.join([str(x) for x in results[key]])\n",
    "    print('  Sum = {0:<2} -> {1}'.format(key, dice_combinations))"
   ]
  },
  {
   "cell_type": "code",
   "execution_count": 51,
   "id": "34741c90",
   "metadata": {},
   "outputs": [
    {
     "name": "stdout",
     "output_type": "stream",
     "text": [
      "Comparing 'calculated' vs 'estimated' probabilities.\n",
      " \n",
      "  sum = 2  -> Calculated =  2.78%, Estimated =  2.80%\n",
      "  sum = 3  -> Calculated =  5.56%, Estimated =  5.56%\n",
      "  sum = 4  -> Calculated =  8.33%, Estimated =  8.35%\n",
      "  sum = 5  -> Calculated = 11.11%, Estimated = 11.04%\n",
      "  sum = 6  -> Calculated = 13.89%, Estimated = 13.92%\n",
      "  sum = 7  -> Calculated = 16.67%, Estimated = 16.71%\n",
      "  sum = 8  -> Calculated = 13.89%, Estimated = 13.85%\n",
      "  sum = 9  -> Calculated = 11.11%, Estimated = 11.11%\n",
      "  sum = 10 -> Calculated =  8.33%, Estimated =  8.36%\n",
      "  sum = 11 -> Calculated =  5.56%, Estimated =  5.54%\n",
      "  sum = 12 -> Calculated =  2.78%, Estimated =  2.77%\n"
     ]
    }
   ],
   "source": [
    "print(\"Comparing 'calculated' vs 'estimated' probabilities.\")\n",
    "print(' ')\n",
    "basic_prob = 100.0/36 \n",
    "for key in sorted(results.keys()):\n",
    "    calulated = '{0:.2f}'.format(len(results[key]) * basic_prob)\n",
    "    estimated = '{0:.2f}'.format(monte_carlo_estimations[key])\n",
    "    print('  sum = {0:<2} -> Calculated ={1:>6}%, Estimated ={2:>6}%'.format(key, calulated, estimated ))"
   ]
  },
  {
   "cell_type": "code",
   "execution_count": null,
   "id": "ff09d7fe",
   "metadata": {},
   "outputs": [],
   "source": []
  }
 ],
 "metadata": {
  "kernelspec": {
   "display_name": "Python 3 (ipykernel)",
   "language": "python",
   "name": "python3"
  },
  "language_info": {
   "codemirror_mode": {
    "name": "ipython",
    "version": 3
   },
   "file_extension": ".py",
   "mimetype": "text/x-python",
   "name": "python",
   "nbconvert_exporter": "python",
   "pygments_lexer": "ipython3",
   "version": "3.9.7"
  }
 },
 "nbformat": 4,
 "nbformat_minor": 5
}
