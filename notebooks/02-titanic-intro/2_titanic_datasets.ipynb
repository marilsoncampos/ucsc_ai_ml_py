{
 "cells": [
  {
   "cell_type": "markdown",
   "id": "e9b0be89",
   "metadata": {},
   "source": [
    "### The Titanic"
   ]
  },
  {
   "cell_type": "markdown",
   "id": "6869e56d",
   "metadata": {},
   "source": [
    "#### 1. The problem"
   ]
  },
  {
   "cell_type": "markdown",
   "id": "c21a60af",
   "metadata": {},
   "source": [
    "\n",
    "~~~~\n",
    "The sinking of the Titanic is one of the most infamous shipwrecks in history.\n",
    "\n",
    "On April 15, 1912, during her maiden voyage, the widely considered \n",
    "“unsinkable” RMS Titanic sank after colliding with an iceberg. \n",
    "\n",
    "Unfortunately, there weren’t enough lifeboats for everyone onboard, resulting \n",
    "in the death of 1502 out of 2224 passengers and crew.\n",
    "\n",
    "While there was some element of luck involved in surviving, it seems some \n",
    "groups of people were more likely to survive than others.\n",
    "\n",
    "\n",
    "~~~~\n",
    "\n",
    "The Titanic project requires you to perform several steps.\n",
    "\n",
    "The steps are documented in detail in the 02_titanic_notes notebook.\n",
    "\n",
    "The file containing the titanic survival dataset is located at:\n",
    "\n",
    "`./data/train.csv`\n",
    "\n",
    "\n",
    "This is a link at Kaggle that can provide additional details: https://www.kaggle.com/c/titanic"
   ]
  },
  {
   "cell_type": "markdown",
   "id": "5f88efa4",
   "metadata": {},
   "source": [
    "#### 2. The Datasets\n",
    "\n",
    "The dataset has been split into two groups:\n",
    "\n",
    "__training set (train.csv)__\n",
    "\n",
    "The training set should be used to build your machine learning models. For the training set, we provide the outcome (also known as the “ground truth”) for each passenger. Your model will be based on “features” like passengers’ gender and class. You can also use feature engineering to create new features.\n",
    "\n",
    "__test set (test.csv)__\n",
    "\n",
    "The test set should be used to see how well your model performs on unseen data. For the test set, we do not provide the ground truth for each passenger. It is your job to predict these outcomes. For each passenger in the test set, use the model you trained to predict whether or not they survived the sinking of the Titanic.\n",
    "\n",
    "__Dataset schema__"
   ]
  },
  {
   "cell_type": "markdown",
   "id": "f2c3b0c8",
   "metadata": {},
   "source": [
    "\n",
    "|Variable| Definition | Field values |\n",
    "|:---|:---| --- |\n",
    "| survival | Passenger survived     | 0 = No, 1 = Yes |\n",
    "| pclass   | Ticket class | 1 = 1st, 2 = 2nd, 3 = 3rd |\n",
    "| sex      | Gender          |   |\n",
    "| Age      | Age in years | |\n",
    "| sibsp\t   | # of siblings/spouses aboard \t| |\n",
    "| parch\t   | # of parents/children aboard \t| |\n",
    "| ticket   | Ticket number | |\n",
    "| fare\t   | Passenger fare\t| |\n",
    "| cabin\t   | Cabin number\t| Cabin codes have info about location in the ship |\n",
    "| embarked | Port of Embarkation | C = Cherbourg, Q = Queenstown, S = Southampton |\n",
    "`"
   ]
  },
  {
   "cell_type": "markdown",
   "id": "1e3d3afe",
   "metadata": {
    "tags": []
   },
   "source": [
    "#### 3. Reading data without __Pandas__"
   ]
  },
  {
   "cell_type": "code",
   "execution_count": 2,
   "id": "2645d508",
   "metadata": {
    "vscode": {
     "languageId": "python"
    }
   },
   "outputs": [],
   "source": [
    "import enum\n",
    "import csv\n",
    "import pandas as pd\n",
    "import numpy as np\n",
    "import matplotlib.pyplot as plt\n",
    "from typing import List\n",
    "%matplotlib inline\n",
    "\n",
    "class Fld(enum.Enum):\n",
    "    PassengerId = 0;  Survived = 1;   Pclass = 2; Name = 3;  Sex = 4\n",
    "    Age = 5;          SibSp = 6;      Parch = 7;  Ticket = 8; Fare = 9;  \n",
    "    Cabin = 10;       Embarked = 11\n",
    "\n",
    "\n",
    "def load_titanic_csv(file_name):\n",
    "    data = []\n",
    "    with open(file_name, newline='') as csv_file:\n",
    "        line_reader = csv.reader(csv_file, delimiter=',', quotechar='\"')\n",
    "        first_line = True\n",
    "        for row in line_reader:\n",
    "            if first_line:\n",
    "                first_line = False\n",
    "                continue\n",
    "            data.append(row)\n",
    "    return data\n",
    "\n",
    "\n",
    "def get_field(row, field_name):\n",
    "    idx = field_name.value\n",
    "    return row[idx]\n",
    "\n",
    "\n",
    "def print_row(row):\n",
    "    for idx, field in enumerate(Fld):\n",
    "        fld_name = field.name\n",
    "        print('{0:>2}: {1:<12} = {2}'.format(idx, fld_name, row[idx]))\n",
    "    \n",
    "def print_titanic_fields():\n",
    "    for idx, field in enumerate(Fld):\n",
    "        if idx % 4 == 0:\n",
    "            print(' ')\n",
    "        print('{0:<2}: {1:<15}'.format(idx, field.name), end='\\t')\n"
   ]
  },
  {
   "cell_type": "code",
   "execution_count": 3,
   "id": "38dea8c9",
   "metadata": {
    "vscode": {
     "languageId": "python"
    }
   },
   "outputs": [],
   "source": [
    "data = load_titanic_csv('./data/train.csv')"
   ]
  },
  {
   "cell_type": "code",
   "execution_count": 4,
   "id": "cbe0e866",
   "metadata": {
    "vscode": {
     "languageId": "python"
    }
   },
   "outputs": [
    {
     "name": "stdout",
     "output_type": "stream",
     "text": [
      " \n",
      "0 : PassengerId    \t1 : Survived       \t2 : Pclass         \t3 : Name           \t \n",
      "4 : Sex            \t5 : Age            \t6 : SibSp          \t7 : Parch          \t \n",
      "8 : Ticket         \t9 : Fare           \t10: Cabin          \t11: Embarked       \t"
     ]
    }
   ],
   "source": [
    "print_titanic_fields()"
   ]
  },
  {
   "cell_type": "code",
   "execution_count": 5,
   "id": "b3b4a5fa",
   "metadata": {
    "scrolled": true,
    "vscode": {
     "languageId": "python"
    }
   },
   "outputs": [
    {
     "name": "stdout",
     "output_type": "stream",
     "text": [
      "71.2833\n"
     ]
    }
   ],
   "source": [
    "# Get a field from a row in the data.\n",
    "value = get_field(data[1], Fld.Fare)\n",
    "print(value)"
   ]
  },
  {
   "cell_type": "code",
   "execution_count": 80,
   "id": "d7ba9bff",
   "metadata": {
    "vscode": {
     "languageId": "python"
    }
   },
   "outputs": [
    {
     "name": "stdout",
     "output_type": "stream",
     "text": [
      " 0: PassengerId  = 2\n",
      " 1: Survived     = 1\n",
      " 2: Pclass       = 1\n",
      " 3: Name         = Cumings, Mrs. John Bradley (Florence Briggs Thayer)\n",
      " 4: Sex          = female\n",
      " 5: Age          = 38\n",
      " 6: SibSp        = 1\n",
      " 7: Parch        = 0\n",
      " 8: Ticket       = PC 17599\n",
      " 9: Fare         = 71.2833\n",
      "10: Cabin        = C85\n",
      "11: Embarked     = C\n"
     ]
    }
   ],
   "source": [
    "print_row(data[1])"
   ]
  },
  {
   "cell_type": "code",
   "execution_count": 7,
   "id": "57fd5c2d",
   "metadata": {
    "vscode": {
     "languageId": "python"
    }
   },
   "outputs": [],
   "source": [
    "# Sample code to filter a list of rows.\n",
    "def get_rows_by_passeger_class(data, pass_class):\n",
    "    rows = []\n",
    "    for row in data:\n",
    "        if  get_field(row, Fld.Pclass) == str(pass_class):\n",
    "            rows.append(row) \n",
    "    return rows"
   ]
  },
  {
   "cell_type": "code",
   "execution_count": 9,
   "id": "37c747d1",
   "metadata": {
    "vscode": {
     "languageId": "python"
    }
   },
   "outputs": [],
   "source": [
    "# Select the first and third classes.\n",
    "first_class = get_rows_by_passeger_class(data, 1)\n",
    "third_class = get_rows_by_passeger_class(data, 3)"
   ]
  },
  {
   "cell_type": "code",
   "execution_count": 10,
   "id": "74fcb57d",
   "metadata": {
    "vscode": {
     "languageId": "python"
    }
   },
   "outputs": [
    {
     "name": "stdout",
     "output_type": "stream",
     "text": [
      "First class = 216\n",
      "Third class = 491\n"
     ]
    }
   ],
   "source": [
    "# Prints the number of rows in each class.\n",
    "print('First class = {0}'.format(len(first_class)))\n",
    "print('Third class = {0}'.format(len(third_class)))"
   ]
  },
  {
   "cell_type": "markdown",
   "id": "53a4bdf3-8502-4212-ad3f-de6d406bb826",
   "metadata": {},
   "source": [
    "##### 4.1 Implement the function filter_by_sex and print the total for female and male.\n"
   ]
  },
  {
   "cell_type": "code",
   "execution_count": 11,
   "id": "0571977c",
   "metadata": {
    "vscode": {
     "languageId": "python"
    }
   },
   "outputs": [
    {
     "name": "stdout",
     "output_type": "stream",
     "text": [
      "Males   =  577\n",
      "Females =  314\n"
     ]
    }
   ],
   "source": [
    "def filter_by_sex(data, key_value):\n",
    "    rows = []\n",
    "    for row in data:\n",
    "        if  get_field(row, Fld.Sex) == str(key_value):\n",
    "            rows.append(row) \n",
    "    return rows\n",
    "\n",
    "males = filter_by_sex(data, 'male')\n",
    "females = filter_by_sex(data, 'female')\n",
    "print('Males   = {0:>4}'.format(len(males)))\n",
    "print('Females = {0:>4}'.format(len(females)))"
   ]
  },
  {
   "cell_type": "markdown",
   "id": "dff56c56-4e44-4c10-8329-9400775ad9f2",
   "metadata": {},
   "source": [
    "##### 4.2 Lets make the function more generic by adding a field parameter."
   ]
  },
  {
   "cell_type": "code",
   "execution_count": 12,
   "id": "e13bf8a8",
   "metadata": {
    "tags": [],
    "vscode": {
     "languageId": "python"
    }
   },
   "outputs": [
    {
     "name": "stdout",
     "output_type": "stream",
     "text": [
      "First class group = 216\n",
      "Third class group = 491\n"
     ]
    }
   ],
   "source": [
    "def filter_by_field(data: List, field: Fld, key_value: any) -> list[str]:\n",
    "    rows = []\n",
    "    for row in data:\n",
    "        if  get_field(row, field) == str(key_value):\n",
    "            rows.append(row) \n",
    "    return rows\n",
    "\n",
    "group_1 = filter_by_field(data, Fld.Pclass, 1)\n",
    "group_3 = filter_by_field(data, Fld.Pclass, 3)\n",
    "# Prints the number of rows in each class.\n",
    "print('First class group = {0}'.format(len(group_1)))\n",
    "print('Third class group = {0}'.format(len(group_3)))"
   ]
  },
  {
   "cell_type": "markdown",
   "id": "f2ba5326-fe2c-427f-98cd-06bbe9d43052",
   "metadata": {},
   "source": [
    "##### 4.3 Print the totals for the fields: Survived, SibSp, Parch, Embarked."
   ]
  },
  {
   "cell_type": "code",
   "execution_count": 13,
   "id": "5c3e93b8-5e97-4ae5-a118-232b832e36b7",
   "metadata": {
    "vscode": {
     "languageId": "python"
    }
   },
   "outputs": [
    {
     "name": "stdout",
     "output_type": "stream",
     "text": [
      "SibSp values = ['0', '1', '2', '3', '4', '5', '8']\n",
      "Parch values = ['0', '1', '2', '3', '4', '5', '6']\n",
      "Embarked values = ['', 'C', 'Q', 'S']\n"
     ]
    }
   ],
   "source": [
    "# Another helper function\n",
    "def get_field_values(data: List, field: Fld) -> list[str]:\n",
    "    values = set()\n",
    "    for row in data:\n",
    "        values.add(get_field(row, field))\n",
    "    return sorted(list(values))\n",
    "\n",
    "# Lets first print the possible values for a field.\n",
    "print('SibSp values = {0}'.format(get_field_values(data, Fld.SibSp)))\n",
    "print('Parch values = {0}'.format(get_field_values(data, Fld.Parch)))\n",
    "print('Embarked values = {0}'.format(get_field_values(data, Fld.Embarked)))\n"
   ]
  },
  {
   "cell_type": "code",
   "execution_count": 14,
   "id": "49e37c8d-b105-4d1d-acce-4cb4eb80d33f",
   "metadata": {
    "vscode": {
     "languageId": "python"
    }
   },
   "outputs": [
    {
     "name": "stdout",
     "output_type": "stream",
     "text": [
      " \n",
      "-- Counts for [Survived] --\n",
      "\"0\" = 549 records\n",
      "\"1\" = 342 records\n",
      " \n",
      "-- Counts for [SibSp] --\n",
      "\"0\" = 608 records\n",
      "\"1\" = 209 records\n",
      "\"2\" = 28 records\n",
      "\"3\" = 16 records\n",
      "\"4\" = 18 records\n",
      "\"5\" = 5 records\n",
      "\"8\" = 7 records\n",
      " \n",
      "-- Counts for [Parch] --\n",
      "\"0\" = 678 records\n",
      "\"1\" = 118 records\n",
      "\"2\" = 80 records\n",
      "\"3\" = 5 records\n",
      "\"4\" = 4 records\n",
      "\"5\" = 5 records\n",
      "\"6\" = 1 records\n",
      " \n",
      "-- Counts for [Embarked] --\n",
      "\"\" = 2 records\n",
      "\"C\" = 168 records\n",
      "\"Q\" = 77 records\n",
      "\"S\" = 644 records\n"
     ]
    }
   ],
   "source": [
    "# Then use the function above to resolve the report.\n",
    "field_to_report = [Fld.Survived, Fld.SibSp, Fld.Parch, Fld.Embarked]\n",
    "for field in field_to_report:\n",
    "    print(' ')\n",
    "    print('-- Counts for [{0}] --'.format(field.name))\n",
    "    field_values = get_field_values(data, field)\n",
    "    for field_value in field_values:\n",
    "        the_group = filter_by_field(data, field, field_value)\n",
    "        print('\"{0}\" = {1} records'.format(field_value, len(the_group)))\n",
    "    "
   ]
  },
  {
   "cell_type": "markdown",
   "id": "baaaadf7-42d0-46f6-b9b7-8fa092fc0537",
   "metadata": {
    "tags": []
   },
   "source": [
    "#### 5. Loading & Processing using __Pandas__"
   ]
  },
  {
   "cell_type": "code",
   "execution_count": 15,
   "id": "341e8fcc-789d-4246-850f-35f49eb5db17",
   "metadata": {
    "vscode": {
     "languageId": "python"
    }
   },
   "outputs": [
    {
     "data": {
      "text/plain": [
       "(891, 12)"
      ]
     },
     "execution_count": 15,
     "metadata": {},
     "output_type": "execute_result"
    }
   ],
   "source": [
    "import pandas as pd\n",
    "titanic_df = pd.read_csv(\"./data/train.csv\")\n",
    "titanic_df.shape"
   ]
  },
  {
   "cell_type": "code",
   "execution_count": 63,
   "id": "fe99dca1",
   "metadata": {
    "vscode": {
     "languageId": "python"
    }
   },
   "outputs": [
    {
     "data": {
      "text/plain": [
       "12"
      ]
     },
     "execution_count": 63,
     "metadata": {},
     "output_type": "execute_result"
    }
   ],
   "source": [
    "columns = titanic_df.shape[1]\n",
    "columns"
   ]
  },
  {
   "cell_type": "markdown",
   "id": "1f86b80f-fc4a-4df5-b97a-9ab35d8a98d1",
   "metadata": {},
   "source": [
    "##### 5.1 Print the total for female and male."
   ]
  },
  {
   "cell_type": "code",
   "execution_count": 16,
   "id": "56dfb34d",
   "metadata": {
    "vscode": {
     "languageId": "python"
    }
   },
   "outputs": [
    {
     "name": "stdout",
     "output_type": "stream",
     "text": [
      "Males   = 577\n",
      "Females = 314\n"
     ]
    }
   ],
   "source": [
    "# Create filters\n",
    "ds_males = (titanic_df[\"Sex\"] == \"male\")\n",
    "ds_females = (titanic_df[\"Sex\"] == \"female\")\n",
    "# Sum the values with value 1 (True)\n",
    "print('Males   = {0}'.format(ds_males.sum()))\n",
    "print('Females = {0}'.format(ds_females.sum()))\n"
   ]
  },
  {
   "cell_type": "markdown",
   "id": "14e197bb-52c4-4631-ae9a-d76a0f394343",
   "metadata": {},
   "source": [
    "##### 5.2 Print the totals for the fields: Survived, SibSp, Parch, Embarked."
   ]
  },
  {
   "cell_type": "code",
   "execution_count": 110,
   "id": "4ef7681d",
   "metadata": {
    "vscode": {
     "languageId": "python"
    }
   },
   "outputs": [
    {
     "name": "stdout",
     "output_type": "stream",
     "text": [
      "-- Counts for [Survived] --\n",
      "0    549\n",
      "1    342\n",
      " \n",
      "-- Counts for [SibSp] --\n",
      "0    608\n",
      "1    209\n",
      "2     28\n",
      "4     18\n",
      "3     16\n",
      "8      7\n",
      "5      5\n",
      " \n",
      "-- Counts for [Parch] --\n",
      "0    678\n",
      "1    118\n",
      "2     80\n",
      "5      5\n",
      "3      5\n",
      "4      4\n",
      "6      1\n",
      " \n",
      "-- Counts for [Embarked] --\n",
      "S    644\n",
      "C    168\n",
      "Q     77\n",
      " \n"
     ]
    }
   ],
   "source": [
    "for fld in ['Survived', 'SibSp', 'Parch', 'Embarked']:\n",
    "    print(f'-- Counts for [{fld}] --')\n",
    "    print(titanic_df[fld].value_counts().to_string(dtype=False))\n",
    "    print(' ')"
   ]
  },
  {
   "cell_type": "markdown",
   "id": "cc92d384-8e6b-447f-aa4c-6a1679661793",
   "metadata": {},
   "source": [
    "#### 6. Some other pandas features."
   ]
  },
  {
   "cell_type": "markdown",
   "id": "53f722d3-7437-4d7b-906b-1e35d563b481",
   "metadata": {},
   "source": [
    "##### 6.1 Building a composite index"
   ]
  },
  {
   "cell_type": "code",
   "execution_count": 95,
   "id": "2b9bf7ee",
   "metadata": {
    "vscode": {
     "languageId": "python"
    }
   },
   "outputs": [
    {
     "data": {
      "text/plain": [
       "0    False\n",
       "1    False\n",
       "2    False\n",
       "3    False\n",
       "4    False\n",
       "dtype: bool"
      ]
     },
     "execution_count": 95,
     "metadata": {},
     "output_type": "execute_result"
    }
   ],
   "source": [
    "# Combining And ('&') and Or ('|') in an index\n",
    "idx = (titanic_df[\"Age\"].isnull()) & (titanic_df[\"Sex\"] == \"female\") & (titanic_df[\"Pclass\"] == 1)\n",
    "idx.head()"
   ]
  },
  {
   "cell_type": "markdown",
   "id": "08a7719f-d57c-4e16-a700-6816c14449f4",
   "metadata": {},
   "source": [
    "##### 6.2 Applying the index to the data"
   ]
  },
  {
   "cell_type": "code",
   "execution_count": 67,
   "id": "0b96e921-9dfc-4cae-b04c-1daa60109467",
   "metadata": {
    "vscode": {
     "languageId": "python"
    }
   },
   "outputs": [
    {
     "data": {
      "text/html": [
       "<div>\n",
       "<style scoped>\n",
       "    .dataframe tbody tr th:only-of-type {\n",
       "        vertical-align: middle;\n",
       "    }\n",
       "\n",
       "    .dataframe tbody tr th {\n",
       "        vertical-align: top;\n",
       "    }\n",
       "\n",
       "    .dataframe thead th {\n",
       "        text-align: right;\n",
       "    }\n",
       "</style>\n",
       "<table border=\"1\" class=\"dataframe\">\n",
       "  <thead>\n",
       "    <tr style=\"text-align: right;\">\n",
       "      <th></th>\n",
       "      <th>PassengerId</th>\n",
       "      <th>Survived</th>\n",
       "      <th>Pclass</th>\n",
       "      <th>Name</th>\n",
       "      <th>Sex</th>\n",
       "      <th>Age</th>\n",
       "      <th>SibSp</th>\n",
       "      <th>Parch</th>\n",
       "      <th>Ticket</th>\n",
       "      <th>Fare</th>\n",
       "      <th>Cabin</th>\n",
       "      <th>Embarked</th>\n",
       "    </tr>\n",
       "  </thead>\n",
       "  <tbody>\n",
       "    <tr>\n",
       "      <th>31</th>\n",
       "      <td>32</td>\n",
       "      <td>1</td>\n",
       "      <td>1</td>\n",
       "      <td>Spencer, Mrs. William Augustus (Marie Eugenie)</td>\n",
       "      <td>female</td>\n",
       "      <td>NaN</td>\n",
       "      <td>1</td>\n",
       "      <td>0</td>\n",
       "      <td>PC 17569</td>\n",
       "      <td>146.5208</td>\n",
       "      <td>B78</td>\n",
       "      <td>C</td>\n",
       "    </tr>\n",
       "    <tr>\n",
       "      <th>166</th>\n",
       "      <td>167</td>\n",
       "      <td>1</td>\n",
       "      <td>1</td>\n",
       "      <td>Chibnall, Mrs. (Edith Martha Bowerman)</td>\n",
       "      <td>female</td>\n",
       "      <td>NaN</td>\n",
       "      <td>0</td>\n",
       "      <td>1</td>\n",
       "      <td>113505</td>\n",
       "      <td>55.0000</td>\n",
       "      <td>E33</td>\n",
       "      <td>S</td>\n",
       "    </tr>\n",
       "    <tr>\n",
       "      <th>256</th>\n",
       "      <td>257</td>\n",
       "      <td>1</td>\n",
       "      <td>1</td>\n",
       "      <td>Thorne, Mrs. Gertrude Maybelle</td>\n",
       "      <td>female</td>\n",
       "      <td>NaN</td>\n",
       "      <td>0</td>\n",
       "      <td>0</td>\n",
       "      <td>PC 17585</td>\n",
       "      <td>79.2000</td>\n",
       "      <td>NaN</td>\n",
       "      <td>C</td>\n",
       "    </tr>\n",
       "    <tr>\n",
       "      <th>306</th>\n",
       "      <td>307</td>\n",
       "      <td>1</td>\n",
       "      <td>1</td>\n",
       "      <td>Fleming, Miss. Margaret</td>\n",
       "      <td>female</td>\n",
       "      <td>NaN</td>\n",
       "      <td>0</td>\n",
       "      <td>0</td>\n",
       "      <td>17421</td>\n",
       "      <td>110.8833</td>\n",
       "      <td>NaN</td>\n",
       "      <td>C</td>\n",
       "    </tr>\n",
       "    <tr>\n",
       "      <th>334</th>\n",
       "      <td>335</td>\n",
       "      <td>1</td>\n",
       "      <td>1</td>\n",
       "      <td>Frauenthal, Mrs. Henry William (Clara Heinshei...</td>\n",
       "      <td>female</td>\n",
       "      <td>NaN</td>\n",
       "      <td>1</td>\n",
       "      <td>0</td>\n",
       "      <td>PC 17611</td>\n",
       "      <td>133.6500</td>\n",
       "      <td>NaN</td>\n",
       "      <td>S</td>\n",
       "    </tr>\n",
       "  </tbody>\n",
       "</table>\n",
       "</div>"
      ],
      "text/plain": [
       "     PassengerId  Survived  Pclass  \\\n",
       "31            32         1       1   \n",
       "166          167         1       1   \n",
       "256          257         1       1   \n",
       "306          307         1       1   \n",
       "334          335         1       1   \n",
       "\n",
       "                                                  Name     Sex  Age  SibSp  \\\n",
       "31      Spencer, Mrs. William Augustus (Marie Eugenie)  female  NaN      1   \n",
       "166             Chibnall, Mrs. (Edith Martha Bowerman)  female  NaN      0   \n",
       "256                     Thorne, Mrs. Gertrude Maybelle  female  NaN      0   \n",
       "306                            Fleming, Miss. Margaret  female  NaN      0   \n",
       "334  Frauenthal, Mrs. Henry William (Clara Heinshei...  female  NaN      1   \n",
       "\n",
       "     Parch    Ticket      Fare Cabin Embarked  \n",
       "31       0  PC 17569  146.5208   B78        C  \n",
       "166      1    113505   55.0000   E33        S  \n",
       "256      0  PC 17585   79.2000   NaN        C  \n",
       "306      0     17421  110.8833   NaN        C  \n",
       "334      0  PC 17611  133.6500   NaN        S  "
      ]
     },
     "execution_count": 67,
     "metadata": {},
     "output_type": "execute_result"
    }
   ],
   "source": [
    "titanic_df[idx].head()"
   ]
  },
  {
   "cell_type": "markdown",
   "id": "d211da7b-d6ae-4f34-a2a3-a23625df9b19",
   "metadata": {},
   "source": [
    "##### 6.3 Create a field 'age_group' based on the following rules.\n",
    "\n",
    "* age_group 1 -> Age is null and is female and first class\n",
    "* age_group 2 -> is male and second class\n",
    "* age_group 3 -> if not in one of the other groups."
   ]
  },
  {
   "cell_type": "code",
   "execution_count": 17,
   "id": "dbb7ffff",
   "metadata": {
    "vscode": {
     "languageId": "python"
    }
   },
   "outputs": [],
   "source": [
    "age_grp = \"age_group\"\n",
    "# Set everybody to group 3 first.\n",
    "titanic_df[age_grp] = 3\n",
    "\n",
    "# Set the records for group 1 next\n",
    "idx_grp_1 = (titanic_df[\"Age\"].isnull()) & (titanic_df[\"Sex\"] == \"female\") & (titanic_df[\"Pclass\"] == 1)\n",
    "titanic_df.loc[idx_grp_1, age_grp] = 1\n",
    "\n",
    "# Finally set the records for group 2\n",
    "idx_grp_2 = (titanic_df[\"Sex\"] == \"male\") & (titanic_df[\"Pclass\"] == 2)\n",
    "titanic_df.loc[idx_grp_2, age_grp] = 2"
   ]
  },
  {
   "cell_type": "code",
   "execution_count": 21,
   "id": "55a60a02-c821-48ea-97ab-6b9d819d8f04",
   "metadata": {
    "vscode": {
     "languageId": "python"
    }
   },
   "outputs": [
    {
     "data": {
      "text/html": [
       "<div>\n",
       "<style scoped>\n",
       "    .dataframe tbody tr th:only-of-type {\n",
       "        vertical-align: middle;\n",
       "    }\n",
       "\n",
       "    .dataframe tbody tr th {\n",
       "        vertical-align: top;\n",
       "    }\n",
       "\n",
       "    .dataframe thead th {\n",
       "        text-align: right;\n",
       "    }\n",
       "</style>\n",
       "<table border=\"1\" class=\"dataframe\">\n",
       "  <thead>\n",
       "    <tr style=\"text-align: right;\">\n",
       "      <th></th>\n",
       "      <th>PassengerId</th>\n",
       "      <th>Survived</th>\n",
       "      <th>Pclass</th>\n",
       "      <th>Name</th>\n",
       "      <th>Sex</th>\n",
       "      <th>Age</th>\n",
       "      <th>SibSp</th>\n",
       "      <th>Parch</th>\n",
       "      <th>Ticket</th>\n",
       "      <th>Fare</th>\n",
       "      <th>Cabin</th>\n",
       "      <th>Embarked</th>\n",
       "      <th>age_group</th>\n",
       "    </tr>\n",
       "  </thead>\n",
       "  <tbody>\n",
       "    <tr>\n",
       "      <th>31</th>\n",
       "      <td>32</td>\n",
       "      <td>1</td>\n",
       "      <td>1</td>\n",
       "      <td>Spencer, Mrs. William Augustus (Marie Eugenie)</td>\n",
       "      <td>female</td>\n",
       "      <td>NaN</td>\n",
       "      <td>1</td>\n",
       "      <td>0</td>\n",
       "      <td>PC 17569</td>\n",
       "      <td>146.5208</td>\n",
       "      <td>B78</td>\n",
       "      <td>C</td>\n",
       "      <td>1</td>\n",
       "    </tr>\n",
       "    <tr>\n",
       "      <th>166</th>\n",
       "      <td>167</td>\n",
       "      <td>1</td>\n",
       "      <td>1</td>\n",
       "      <td>Chibnall, Mrs. (Edith Martha Bowerman)</td>\n",
       "      <td>female</td>\n",
       "      <td>NaN</td>\n",
       "      <td>0</td>\n",
       "      <td>1</td>\n",
       "      <td>113505</td>\n",
       "      <td>55.0000</td>\n",
       "      <td>E33</td>\n",
       "      <td>S</td>\n",
       "      <td>1</td>\n",
       "    </tr>\n",
       "    <tr>\n",
       "      <th>256</th>\n",
       "      <td>257</td>\n",
       "      <td>1</td>\n",
       "      <td>1</td>\n",
       "      <td>Thorne, Mrs. Gertrude Maybelle</td>\n",
       "      <td>female</td>\n",
       "      <td>NaN</td>\n",
       "      <td>0</td>\n",
       "      <td>0</td>\n",
       "      <td>PC 17585</td>\n",
       "      <td>79.2000</td>\n",
       "      <td>NaN</td>\n",
       "      <td>C</td>\n",
       "      <td>1</td>\n",
       "    </tr>\n",
       "    <tr>\n",
       "      <th>306</th>\n",
       "      <td>307</td>\n",
       "      <td>1</td>\n",
       "      <td>1</td>\n",
       "      <td>Fleming, Miss. Margaret</td>\n",
       "      <td>female</td>\n",
       "      <td>NaN</td>\n",
       "      <td>0</td>\n",
       "      <td>0</td>\n",
       "      <td>17421</td>\n",
       "      <td>110.8833</td>\n",
       "      <td>NaN</td>\n",
       "      <td>C</td>\n",
       "      <td>1</td>\n",
       "    </tr>\n",
       "    <tr>\n",
       "      <th>334</th>\n",
       "      <td>335</td>\n",
       "      <td>1</td>\n",
       "      <td>1</td>\n",
       "      <td>Frauenthal, Mrs. Henry William (Clara Heinshei...</td>\n",
       "      <td>female</td>\n",
       "      <td>NaN</td>\n",
       "      <td>1</td>\n",
       "      <td>0</td>\n",
       "      <td>PC 17611</td>\n",
       "      <td>133.6500</td>\n",
       "      <td>NaN</td>\n",
       "      <td>S</td>\n",
       "      <td>1</td>\n",
       "    </tr>\n",
       "  </tbody>\n",
       "</table>\n",
       "</div>"
      ],
      "text/plain": [
       "     PassengerId  Survived  Pclass  \\\n",
       "31            32         1       1   \n",
       "166          167         1       1   \n",
       "256          257         1       1   \n",
       "306          307         1       1   \n",
       "334          335         1       1   \n",
       "\n",
       "                                                  Name     Sex  Age  SibSp  \\\n",
       "31      Spencer, Mrs. William Augustus (Marie Eugenie)  female  NaN      1   \n",
       "166             Chibnall, Mrs. (Edith Martha Bowerman)  female  NaN      0   \n",
       "256                     Thorne, Mrs. Gertrude Maybelle  female  NaN      0   \n",
       "306                            Fleming, Miss. Margaret  female  NaN      0   \n",
       "334  Frauenthal, Mrs. Henry William (Clara Heinshei...  female  NaN      1   \n",
       "\n",
       "     Parch    Ticket      Fare Cabin Embarked  age_group  \n",
       "31       0  PC 17569  146.5208   B78        C          1  \n",
       "166      1    113505   55.0000   E33        S          1  \n",
       "256      0  PC 17585   79.2000   NaN        C          1  \n",
       "306      0     17421  110.8833   NaN        C          1  \n",
       "334      0  PC 17611  133.6500   NaN        S          1  "
      ]
     },
     "execution_count": 21,
     "metadata": {},
     "output_type": "execute_result"
    }
   ],
   "source": [
    "# Select records from group 1\n",
    "titanic_df[titanic_df[age_grp] == 1].head()"
   ]
  },
  {
   "cell_type": "code",
   "execution_count": 22,
   "id": "d76bb54d",
   "metadata": {
    "vscode": {
     "languageId": "python"
    }
   },
   "outputs": [
    {
     "data": {
      "text/html": [
       "<div>\n",
       "<style scoped>\n",
       "    .dataframe tbody tr th:only-of-type {\n",
       "        vertical-align: middle;\n",
       "    }\n",
       "\n",
       "    .dataframe tbody tr th {\n",
       "        vertical-align: top;\n",
       "    }\n",
       "\n",
       "    .dataframe thead th {\n",
       "        text-align: right;\n",
       "    }\n",
       "</style>\n",
       "<table border=\"1\" class=\"dataframe\">\n",
       "  <thead>\n",
       "    <tr style=\"text-align: right;\">\n",
       "      <th></th>\n",
       "      <th>PassengerId</th>\n",
       "      <th>Survived</th>\n",
       "      <th>Pclass</th>\n",
       "      <th>Name</th>\n",
       "      <th>Sex</th>\n",
       "      <th>Age</th>\n",
       "      <th>SibSp</th>\n",
       "      <th>Parch</th>\n",
       "      <th>Ticket</th>\n",
       "      <th>Fare</th>\n",
       "      <th>Cabin</th>\n",
       "      <th>Embarked</th>\n",
       "      <th>age_group</th>\n",
       "    </tr>\n",
       "  </thead>\n",
       "  <tbody>\n",
       "    <tr>\n",
       "      <th>17</th>\n",
       "      <td>18</td>\n",
       "      <td>1</td>\n",
       "      <td>2</td>\n",
       "      <td>Williams, Mr. Charles Eugene</td>\n",
       "      <td>male</td>\n",
       "      <td>NaN</td>\n",
       "      <td>0</td>\n",
       "      <td>0</td>\n",
       "      <td>244373</td>\n",
       "      <td>13.0</td>\n",
       "      <td>NaN</td>\n",
       "      <td>S</td>\n",
       "      <td>2</td>\n",
       "    </tr>\n",
       "    <tr>\n",
       "      <th>20</th>\n",
       "      <td>21</td>\n",
       "      <td>0</td>\n",
       "      <td>2</td>\n",
       "      <td>Fynney, Mr. Joseph J</td>\n",
       "      <td>male</td>\n",
       "      <td>35.0</td>\n",
       "      <td>0</td>\n",
       "      <td>0</td>\n",
       "      <td>239865</td>\n",
       "      <td>26.0</td>\n",
       "      <td>NaN</td>\n",
       "      <td>S</td>\n",
       "      <td>2</td>\n",
       "    </tr>\n",
       "    <tr>\n",
       "      <th>21</th>\n",
       "      <td>22</td>\n",
       "      <td>1</td>\n",
       "      <td>2</td>\n",
       "      <td>Beesley, Mr. Lawrence</td>\n",
       "      <td>male</td>\n",
       "      <td>34.0</td>\n",
       "      <td>0</td>\n",
       "      <td>0</td>\n",
       "      <td>248698</td>\n",
       "      <td>13.0</td>\n",
       "      <td>D56</td>\n",
       "      <td>S</td>\n",
       "      <td>2</td>\n",
       "    </tr>\n",
       "    <tr>\n",
       "      <th>33</th>\n",
       "      <td>34</td>\n",
       "      <td>0</td>\n",
       "      <td>2</td>\n",
       "      <td>Wheadon, Mr. Edward H</td>\n",
       "      <td>male</td>\n",
       "      <td>66.0</td>\n",
       "      <td>0</td>\n",
       "      <td>0</td>\n",
       "      <td>C.A. 24579</td>\n",
       "      <td>10.5</td>\n",
       "      <td>NaN</td>\n",
       "      <td>S</td>\n",
       "      <td>2</td>\n",
       "    </tr>\n",
       "    <tr>\n",
       "      <th>70</th>\n",
       "      <td>71</td>\n",
       "      <td>0</td>\n",
       "      <td>2</td>\n",
       "      <td>Jenkin, Mr. Stephen Curnow</td>\n",
       "      <td>male</td>\n",
       "      <td>32.0</td>\n",
       "      <td>0</td>\n",
       "      <td>0</td>\n",
       "      <td>C.A. 33111</td>\n",
       "      <td>10.5</td>\n",
       "      <td>NaN</td>\n",
       "      <td>S</td>\n",
       "      <td>2</td>\n",
       "    </tr>\n",
       "  </tbody>\n",
       "</table>\n",
       "</div>"
      ],
      "text/plain": [
       "    PassengerId  Survived  Pclass                          Name   Sex   Age  \\\n",
       "17           18         1       2  Williams, Mr. Charles Eugene  male   NaN   \n",
       "20           21         0       2          Fynney, Mr. Joseph J  male  35.0   \n",
       "21           22         1       2         Beesley, Mr. Lawrence  male  34.0   \n",
       "33           34         0       2         Wheadon, Mr. Edward H  male  66.0   \n",
       "70           71         0       2    Jenkin, Mr. Stephen Curnow  male  32.0   \n",
       "\n",
       "    SibSp  Parch      Ticket  Fare Cabin Embarked  age_group  \n",
       "17      0      0      244373  13.0   NaN        S          2  \n",
       "20      0      0      239865  26.0   NaN        S          2  \n",
       "21      0      0      248698  13.0   D56        S          2  \n",
       "33      0      0  C.A. 24579  10.5   NaN        S          2  \n",
       "70      0      0  C.A. 33111  10.5   NaN        S          2  "
      ]
     },
     "execution_count": 22,
     "metadata": {},
     "output_type": "execute_result"
    }
   ],
   "source": [
    "# Select records from group 2\n",
    "titanic_df[titanic_df[age_grp] == 2].head()"
   ]
  },
  {
   "cell_type": "markdown",
   "id": "c4f147a2-1131-44d0-9e3f-1da0ceccf575",
   "metadata": {},
   "source": [
    "##### 6.4 Report the counts for each 'age_group' value\n"
   ]
  },
  {
   "cell_type": "code",
   "execution_count": 102,
   "id": "8d48df97",
   "metadata": {
    "vscode": {
     "languageId": "python"
    }
   },
   "outputs": [
    {
     "data": {
      "text/html": [
       "<div>\n",
       "<style scoped>\n",
       "    .dataframe tbody tr th:only-of-type {\n",
       "        vertical-align: middle;\n",
       "    }\n",
       "\n",
       "    .dataframe tbody tr th {\n",
       "        vertical-align: top;\n",
       "    }\n",
       "\n",
       "    .dataframe thead th {\n",
       "        text-align: right;\n",
       "    }\n",
       "</style>\n",
       "<table border=\"1\" class=\"dataframe\">\n",
       "  <thead>\n",
       "    <tr style=\"text-align: right;\">\n",
       "      <th></th>\n",
       "      <th>age_group</th>\n",
       "    </tr>\n",
       "  </thead>\n",
       "  <tbody>\n",
       "    <tr>\n",
       "      <th>1</th>\n",
       "      <td>9</td>\n",
       "    </tr>\n",
       "    <tr>\n",
       "      <th>2</th>\n",
       "      <td>108</td>\n",
       "    </tr>\n",
       "    <tr>\n",
       "      <th>3</th>\n",
       "      <td>774</td>\n",
       "    </tr>\n",
       "  </tbody>\n",
       "</table>\n",
       "</div>"
      ],
      "text/plain": [
       "   age_group\n",
       "1          9\n",
       "2        108\n",
       "3        774"
      ]
     },
     "execution_count": 102,
     "metadata": {},
     "output_type": "execute_result"
    }
   ],
   "source": [
    "titanic_df[age_grp].value_counts().sort_index().to_frame()"
   ]
  },
  {
   "cell_type": "markdown",
   "id": "23e85b0c-6232-4183-802d-64280291262c",
   "metadata": {},
   "source": [
    "##### 6.5 List the records in which 'Age' is null."
   ]
  },
  {
   "cell_type": "code",
   "execution_count": 25,
   "id": "119123ad-b175-43b2-8c66-33dbe21cb3c9",
   "metadata": {
    "vscode": {
     "languageId": "python"
    }
   },
   "outputs": [
    {
     "data": {
      "text/html": [
       "<div>\n",
       "<style scoped>\n",
       "    .dataframe tbody tr th:only-of-type {\n",
       "        vertical-align: middle;\n",
       "    }\n",
       "\n",
       "    .dataframe tbody tr th {\n",
       "        vertical-align: top;\n",
       "    }\n",
       "\n",
       "    .dataframe thead th {\n",
       "        text-align: right;\n",
       "    }\n",
       "</style>\n",
       "<table border=\"1\" class=\"dataframe\">\n",
       "  <thead>\n",
       "    <tr style=\"text-align: right;\">\n",
       "      <th></th>\n",
       "      <th>PassengerId</th>\n",
       "      <th>Survived</th>\n",
       "      <th>Pclass</th>\n",
       "      <th>Name</th>\n",
       "      <th>Sex</th>\n",
       "      <th>Age</th>\n",
       "      <th>SibSp</th>\n",
       "      <th>Parch</th>\n",
       "      <th>Ticket</th>\n",
       "      <th>Fare</th>\n",
       "      <th>Cabin</th>\n",
       "      <th>Embarked</th>\n",
       "      <th>age_group</th>\n",
       "    </tr>\n",
       "  </thead>\n",
       "  <tbody>\n",
       "    <tr>\n",
       "      <th>5</th>\n",
       "      <td>6</td>\n",
       "      <td>0</td>\n",
       "      <td>3</td>\n",
       "      <td>Moran, Mr. James</td>\n",
       "      <td>male</td>\n",
       "      <td>NaN</td>\n",
       "      <td>0</td>\n",
       "      <td>0</td>\n",
       "      <td>330877</td>\n",
       "      <td>8.4583</td>\n",
       "      <td>NaN</td>\n",
       "      <td>Q</td>\n",
       "      <td>3</td>\n",
       "    </tr>\n",
       "    <tr>\n",
       "      <th>17</th>\n",
       "      <td>18</td>\n",
       "      <td>1</td>\n",
       "      <td>2</td>\n",
       "      <td>Williams, Mr. Charles Eugene</td>\n",
       "      <td>male</td>\n",
       "      <td>NaN</td>\n",
       "      <td>0</td>\n",
       "      <td>0</td>\n",
       "      <td>244373</td>\n",
       "      <td>13.0000</td>\n",
       "      <td>NaN</td>\n",
       "      <td>S</td>\n",
       "      <td>2</td>\n",
       "    </tr>\n",
       "    <tr>\n",
       "      <th>19</th>\n",
       "      <td>20</td>\n",
       "      <td>1</td>\n",
       "      <td>3</td>\n",
       "      <td>Masselmani, Mrs. Fatima</td>\n",
       "      <td>female</td>\n",
       "      <td>NaN</td>\n",
       "      <td>0</td>\n",
       "      <td>0</td>\n",
       "      <td>2649</td>\n",
       "      <td>7.2250</td>\n",
       "      <td>NaN</td>\n",
       "      <td>C</td>\n",
       "      <td>3</td>\n",
       "    </tr>\n",
       "    <tr>\n",
       "      <th>26</th>\n",
       "      <td>27</td>\n",
       "      <td>0</td>\n",
       "      <td>3</td>\n",
       "      <td>Emir, Mr. Farred Chehab</td>\n",
       "      <td>male</td>\n",
       "      <td>NaN</td>\n",
       "      <td>0</td>\n",
       "      <td>0</td>\n",
       "      <td>2631</td>\n",
       "      <td>7.2250</td>\n",
       "      <td>NaN</td>\n",
       "      <td>C</td>\n",
       "      <td>3</td>\n",
       "    </tr>\n",
       "    <tr>\n",
       "      <th>28</th>\n",
       "      <td>29</td>\n",
       "      <td>1</td>\n",
       "      <td>3</td>\n",
       "      <td>O'Dwyer, Miss. Ellen \"Nellie\"</td>\n",
       "      <td>female</td>\n",
       "      <td>NaN</td>\n",
       "      <td>0</td>\n",
       "      <td>0</td>\n",
       "      <td>330959</td>\n",
       "      <td>7.8792</td>\n",
       "      <td>NaN</td>\n",
       "      <td>Q</td>\n",
       "      <td>3</td>\n",
       "    </tr>\n",
       "  </tbody>\n",
       "</table>\n",
       "</div>"
      ],
      "text/plain": [
       "    PassengerId  Survived  Pclass                           Name     Sex  Age  \\\n",
       "5             6         0       3               Moran, Mr. James    male  NaN   \n",
       "17           18         1       2   Williams, Mr. Charles Eugene    male  NaN   \n",
       "19           20         1       3        Masselmani, Mrs. Fatima  female  NaN   \n",
       "26           27         0       3        Emir, Mr. Farred Chehab    male  NaN   \n",
       "28           29         1       3  O'Dwyer, Miss. Ellen \"Nellie\"  female  NaN   \n",
       "\n",
       "    SibSp  Parch  Ticket     Fare Cabin Embarked  age_group  \n",
       "5       0      0  330877   8.4583   NaN        Q          3  \n",
       "17      0      0  244373  13.0000   NaN        S          2  \n",
       "19      0      0    2649   7.2250   NaN        C          3  \n",
       "26      0      0    2631   7.2250   NaN        C          3  \n",
       "28      0      0  330959   7.8792   NaN        Q          3  "
      ]
     },
     "execution_count": 25,
     "metadata": {},
     "output_type": "execute_result"
    }
   ],
   "source": [
    "titanic_df.loc[titanic_df['Age'].isnull()].head()"
   ]
  },
  {
   "cell_type": "code",
   "execution_count": null,
   "id": "0f56b6ab",
   "metadata": {
    "vscode": {
     "languageId": "python"
    }
   },
   "outputs": [],
   "source": []
  },
  {
   "cell_type": "code",
   "execution_count": null,
   "id": "987770b9-75cc-4d65-8e48-7bbd259f9899",
   "metadata": {
    "vscode": {
     "languageId": "python"
    }
   },
   "outputs": [],
   "source": []
  }
 ],
 "metadata": {
  "kernelspec": {
   "display_name": "PyCharm (Panel-Segmentation-master)",
   "language": "python",
   "name": "pycharm-e1a42a0d"
  }
 },
 "nbformat": 4,
 "nbformat_minor": 5
}
