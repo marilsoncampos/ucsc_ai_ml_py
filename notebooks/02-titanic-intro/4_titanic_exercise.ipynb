{
 "cells": [
  {
   "attachments": {},
   "cell_type": "markdown",
   "metadata": {},
   "source": [
    "## Titanic Part 2 Exercises"
   ]
  },
  {
   "cell_type": "code",
   "execution_count": 1,
   "metadata": {
    "vscode": {
     "languageId": "python"
    }
   },
   "outputs": [
    {
     "data": {
      "text/plain": [
       "(891, 12)"
      ]
     },
     "execution_count": 1,
     "metadata": {},
     "output_type": "execute_result"
    }
   ],
   "source": [
    "#Run this to get the titanic_df loaded\n",
    "import pandas as pd\n",
    "titanic_df = pd.read_csv(\"./data/train.csv\")\n",
    "\n"
   ]
  },
  {
   "cell_type": "code",
   "execution_count": null,
   "metadata": {
    "vscode": {
     "languageId": "python"
    }
   },
   "outputs": [
    {
     "data": {
      "text/plain": [
       "(891, 12)"
      ]
     },
     "metadata": {},
     "output_type": "display_data"
    }
   ],
   "source": [
    "#Using the titanic_df print out the number of passangers who survived\n",
    "\n",
    "#Write your code here\n",
    "\n"
   ]
  },
  {
   "cell_type": "code",
   "execution_count": null,
   "metadata": {
    "vscode": {
     "languageId": "python"
    }
   },
   "outputs": [
    {
     "data": {
      "text/plain": [
       "(891, 12)"
      ]
     },
     "metadata": {},
     "output_type": "display_data"
    }
   ],
   "source": [
    "#Using the titanic_df print out the number of passangers who survived and who had a\n",
    "#Pclass of 1\n",
    "\n",
    "#Write your code here\n",
    "\n"
   ]
  },
  {
   "cell_type": "code",
   "execution_count": null,
   "metadata": {
    "vscode": {
     "languageId": "python"
    }
   },
   "outputs": [
    {
     "data": {
      "text/plain": [
       "(891, 12)"
      ]
     },
     "metadata": {},
     "output_type": "display_data"
    }
   ],
   "source": [
    "#Create and apply a composite index on titanic_df selecting where the \n",
    "#passanger did survive and they had at least one sibling or spouse with them\n",
    "#if you apply a composite index that is incorrect, rerun the first cell to get a new\n",
    "#titanic dataframe\n",
    "\n",
    "#Write your code here\n",
    "\n"
   ]
  },
  {
   "cell_type": "code",
   "execution_count": null,
   "metadata": {
    "vscode": {
     "languageId": "python"
    }
   },
   "outputs": [
    {
     "data": {
      "text/plain": [
       "(891, 12)"
      ]
     },
     "metadata": {},
     "output_type": "display_data"
    }
   ],
   "source": [
    "#Run this to get the import the following libraries, load the training and test sets,\n",
    "#and clean and define features.\n",
    "import pandas as pd\n",
    "import numpy as np\n",
    "from sklearn import tree\n",
    "from sklearn.metrics import accuracy_score\n",
    "from matplotlib import pyplot as plt\n",
    "\n",
    "train = pd.read_csv('data/train.csv')\n",
    "test = pd.read_csv('data/test.csv')\n",
    "test = test.iloc[: , :-1] # Removes last column\n",
    "\n",
    "dataset_list = [train, test]\n",
    "\n",
    "# Define the 'Features' we are going to use to make predictions.\n",
    "for dataset in dataset_list:\n",
    "    # Fix cabin feature\n",
    "    dataset['Has_Cabin'] = dataset[\"Cabin\"].apply(lambda x: 0 if type(x) == float else 1)\n",
    "    # Family = siblings + parents + you\n",
    "    dataset['FamilySize'] = dataset['SibSp'] + dataset['Parch'] + 1\n",
    "    # New feature traveling alone\n",
    "    dataset['TravelingAlone'] = 0\n",
    "    dataset.loc[dataset['FamilySize'] == 1, 'TravelingAlone'] = 1\n",
    "    # Fill the embarked=null with most common.\n",
    "    dataset['Embarked'] = dataset['Embarked'].fillna('S')\n",
    "    dataset['Embarked'] = dataset['Embarked'].map( {'S': 0, 'C': 1, 'Q': 2} ).astype(int)\n",
    "    # Fill the null fares with the median fare\n",
    "    dataset['Fare'] = dataset['Fare'].fillna(train['Fare'].median())\n",
    "    # generate random numbers around mean for age (mixing genders here)\n",
    "    age_avg = dataset['Age'].mean()\n",
    "    age_std = dataset['Age'].std()\n",
    "    age_null_count = dataset['Age'].isnull().sum()\n",
    "    # Spreading one standard deviation.\n",
    "    new_age_values = np.random.randint(age_avg - age_std, age_avg + age_std, size=age_null_count)\n",
    "    dataset.loc[np.isnan(dataset['Age']), 'Age'] = new_age_values\n",
    "    dataset['Age'] = dataset['Age'].astype(int)\n",
    "    # If not know fill with male\n",
    "    dataset['Sex'] = dataset['Sex'].fillna('male')\n",
    "    dataset['Sex'] = dataset['Sex'].map( {'female': 0, 'male': 1} ).astype(int)\n",
    "    dataset.loc[(dataset['Age'] <= 12), 'Age'] = 0\n",
    "    dataset.loc[(dataset['Age'] > 12) & (dataset['Age'] <= 24), 'Age'] = 1\n",
    "    dataset.loc[(dataset['Age'] > 24) & (dataset['Age'] <= 36), 'Age'] = 2\n",
    "    dataset.loc[(dataset['Age'] > 36) & (dataset['Age'] <= 48), 'Age'] = 3\n",
    "    dataset.loc[(dataset['Age'] > 48), 'Age'] = 4\n",
    "\n",
    "fields_to_drop = ['Name', 'PassengerId', 'Ticket', 'Cabin', 'SibSp']\n",
    "train = train.drop(fields_to_drop, axis = 1)\n",
    "test  = test.drop(fields_to_drop, axis = 1)\n",
    "train.isnull().any()\n"
   ]
  },
  {
   "cell_type": "code",
   "execution_count": null,
   "metadata": {
    "vscode": {
     "languageId": "python"
    }
   },
   "outputs": [
    {
     "data": {
      "text/plain": [
       "(891, 12)"
      ]
     },
     "metadata": {},
     "output_type": "display_data"
    }
   ],
   "source": [
    "#Given the test and train sets from the previous cell, fill out the blanks\n",
    "#in the following code to get a working decision tree model\n",
    "# --- Five Steps ---\n",
    "\n",
    "# Step 1: Allocate the model building object for the model we\n",
    "#.        want to use.\n",
    "tree_model = tree.DecisionTreeClassifier(max_depth = 3)\n",
    "\n",
    "\n",
    "# Step 2: Separate the columns to learn from (predictors_train)\n",
    "# and the predicted value ('Survided')\n",
    "train_X = #This should be the values used for the prediction\n",
    "train_y = #This should be the predicted value\n",
    "\n",
    "\n",
    "# Step 3: Train the model\n",
    "model = #Fit your tree here\n",
    "\n",
    "\n",
    "# Step 4: Make predictions with the model for the elements in the test data.\n",
    "test_X = #This should be the values used for the prediction\n",
    "test_y = #This should be the predicted value\n",
    "\n",
    "\n",
    "# Step 5 Report model performance results.\n",
    "accuracy = None #Change this\n",
    "print('Model Accuracy is {0:.2F}%'.format(accuracy * 100))\n",
    "fig = plt.figure(figsize=(25,20))\n",
    "_ = tree.plot_tree(\n",
    "    tree_model, \n",
    "    feature_names=train_X.columns,  \n",
    "    class_names=[\"Perished\", \"Survived\"] ,\n",
    "    filled=True, impurity=False, node_ids=False, proportion=False, label='none')\n"
   ]
  }
 ],
 "metadata": {
  "kernelspec": {
   "display_name": "PyCharm (Panel-Segmentation-master)",
   "language": "python",
   "name": "pycharm-e1a42a0d"
  }
 },
 "nbformat": 4,
 "nbformat_minor": 4
}
