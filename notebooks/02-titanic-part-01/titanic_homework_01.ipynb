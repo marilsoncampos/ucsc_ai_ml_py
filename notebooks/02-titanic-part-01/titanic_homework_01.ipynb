{
 "cells": [
  {
   "cell_type": "markdown",
   "id": "e9b0be89",
   "metadata": {},
   "source": [
    "### The Titanic Project"
   ]
  },
  {
   "cell_type": "markdown",
   "id": "6869e56d",
   "metadata": {},
   "source": [
    "#### 1. The problem"
   ]
  },
  {
   "cell_type": "markdown",
   "id": "c21a60af",
   "metadata": {},
   "source": [
    "\n",
    "~~~~\n",
    "The sinking of the Titanic is one of the most infamous shipwrecks in history.\n",
    "\n",
    "On April 15, 1912, during her maiden voyage, the widely considered \n",
    "“unsinkable” RMS Titanic sank after colliding with an iceberg. \n",
    "\n",
    "Unfortunately, there weren’t enough lifeboats for everyone onboard, resulting \n",
    "in the death of 1502 out of 2224 passengers and crew.\n",
    "\n",
    "While there was some element of luck involved in surviving, it seems some \n",
    "groups of people were more likely to survive than others.\n",
    "\n",
    "\n",
    "~~~~\n",
    "\n",
    "The Titanic project requires you to perform several steps including:\n",
    "  - Exploration on the data and understand the dataset.\n",
    "  - Create visualizations to better understand the relationships.\n",
    "  - Clean the data and fix/remove incomplete records.\n",
    "  - Look for insights about \"what sorts of people were more likely to survive?\"\n",
    "  - Build and Optimize a model to predict if a passenger survived.\n",
    "\n",
    "\n",
    "The file containing the titanic survival data is located at:\n",
    "\n",
    "`./data/train.csv`\n",
    "\n",
    "\n",
    "This link from Kaggle has more details: https://www.kaggle.com/c/titanic"
   ]
  },
  {
   "cell_type": "markdown",
   "id": "5f88efa4",
   "metadata": {},
   "source": [
    "#### 2. The Datasets\n",
    "\n",
    "The data has been split into two groups:\n",
    "\n",
    "training set (train.csv)\n",
    "test set (test.csv)\n",
    "The training set should be used to build your machine learning models. For the training set, we provide the outcome (also known as the “ground truth”) for each passenger. Your model will be based on “features” like passengers’ gender and class. You can also use feature engineering to create new features.\n",
    "\n",
    "The test set should be used to see how well your model performs on unseen data. For the test set, we do not provide the ground truth for each passenger. It is your job to predict these outcomes. For each passenger in the test set, use the model you trained to predict whether or not they survived the sinking of the Titanic.\n",
    "\n",
    "We also include gender_submission.csv, a set of predictions that assume all and only female passengers survive, as an example of what a submission file should look like."
   ]
  },
  {
   "cell_type": "markdown",
   "id": "f2c3b0c8",
   "metadata": {},
   "source": [
    "\n",
    "|Variable| Definition | Field values |\n",
    "|:---|:---| --- |\n",
    "| survival | Passenger survived     | 0 = No, 1 = Yes |\n",
    "| pclass   | Ticket class | 1 = 1st, 2 = 2nd, 3 = 3rd |\n",
    "| sex      | Gender          |   |\n",
    "| Age      | Age in years | |\n",
    "| sibsp\t   | # of siblings/spouses aboard \t| |\n",
    "| parch\t   | # of parents/children aboard \t| |\n",
    "| ticket   | Ticket number | |\n",
    "| fare\t   | Passenger fare\t| |\n",
    "| cabin\t   | Cabin number\t| Cabin codes have info about location in the ship |\n",
    "| embarked | Port of Embarkation | C = Cherbourg, Q = Queenstown, S = Southampton |\n",
    "`"
   ]
  },
  {
   "cell_type": "markdown",
   "id": "1e3d3afe",
   "metadata": {},
   "source": [
    "#### 3. Helper functions"
   ]
  },
  {
   "cell_type": "code",
   "execution_count": 9,
   "id": "2645d508",
   "metadata": {},
   "outputs": [],
   "source": [
    "import enum\n",
    "import csv\n",
    "import pandas as pd\n",
    "import numpy as np\n",
    "import matplotlib.pyplot as plt\n",
    "from typing import List\n",
    "%matplotlib inline\n",
    "\n",
    "class Fld(enum.Enum):\n",
    "    PassengerId = 0;  Survived = 1;   Pclass = 2; Name = 3;  Sex = 4\n",
    "    Age = 5;          SibSp = 6;      Parch = 7;  Ticket = 8; Fare = 9;  \n",
    "    Cabin = 10;       Embarked = 11\n",
    "\n",
    "\n",
    "def load_titanic_csv(file_name):\n",
    "    data = []\n",
    "    with open(file_name, newline='') as csv_file:\n",
    "        line_reader = csv.reader(csv_file, delimiter=',', quotechar='\"')\n",
    "        first_line = True\n",
    "        for row in line_reader:\n",
    "            if first_line:\n",
    "                first_line = False\n",
    "                continue\n",
    "            data.append(row)\n",
    "    return data\n",
    "\n",
    "\n",
    "def get_field(row, field_name):\n",
    "    idx = field_name.value\n",
    "    return row[idx]\n",
    "\n",
    "\n",
    "def print_row(row):\n",
    "    for idx, field in enumerate(Fld):\n",
    "        fld_name = field.name\n",
    "        print('{0:>2}: {1:<12} = {2}'.format(idx, fld_name, row[idx]))\n",
    "    \n",
    "def print_titanic_fields():\n",
    "    for idx, field in enumerate(Fld):\n",
    "        if idx % 4 == 0:\n",
    "            print(' ')\n",
    "        print('{0:<2}: {1:<15}'.format(idx, field), end='\\t')\n"
   ]
  },
  {
   "cell_type": "markdown",
   "id": "551cc0ea",
   "metadata": {},
   "source": [
    "#### 4. Project & Questions"
   ]
  },
  {
   "cell_type": "code",
   "execution_count": 10,
   "id": "38dea8c9",
   "metadata": {},
   "outputs": [],
   "source": [
    "# Loads the data.\n",
    "data = load_titanic_csv('./data/train.csv')"
   ]
  },
  {
   "cell_type": "code",
   "execution_count": 11,
   "id": "cbe0e866",
   "metadata": {},
   "outputs": [
    {
     "name": "stdout",
     "output_type": "stream",
     "text": [
      " \n",
      "0 : Fld.PassengerId\t1 : Fld.Survived   \t2 : Fld.Pclass     \t3 : Fld.Name       \t \n",
      "4 : Fld.Sex        \t5 : Fld.Age        \t6 : Fld.SibSp      \t7 : Fld.Parch      \t \n",
      "8 : Fld.Ticket     \t9 : Fld.Fare       \t10: Fld.Cabin      \t11: Fld.Embarked   \t"
     ]
    }
   ],
   "source": [
    "# List the fields.\n",
    "print_titanic_fields()"
   ]
  },
  {
   "cell_type": "code",
   "execution_count": null,
   "id": "4382d965",
   "metadata": {},
   "outputs": [],
   "source": []
  },
  {
   "cell_type": "code",
   "execution_count": 19,
   "id": "b3b4a5fa",
   "metadata": {
    "scrolled": true
   },
   "outputs": [
    {
     "name": "stdout",
     "output_type": "stream",
     "text": [
      "71.2833\n"
     ]
    }
   ],
   "source": [
    "# Get a field from a row in the data.\n",
    "value = get_field(data[1], Fld.Fare)\n",
    "print(value)"
   ]
  },
  {
   "cell_type": "code",
   "execution_count": 12,
   "id": "d7ba9bff",
   "metadata": {},
   "outputs": [
    {
     "name": "stdout",
     "output_type": "stream",
     "text": [
      " 0: PassengerId  = 2\n",
      " 1: Survived     = 1\n",
      " 2: Pclass       = 1\n",
      " 3: Name         = Cumings, Mrs. John Bradley (Florence Briggs Thayer)\n",
      " 4: Sex          = female\n",
      " 5: Age          = 38\n",
      " 6: SibSp        = 1\n",
      " 7: Parch        = 0\n",
      " 8: Ticket       = PC 17599\n",
      " 9: Fare         = 71.2833\n",
      "10: Cabin        = C85\n",
      "11: Embarked     = C\n"
     ]
    }
   ],
   "source": [
    "print_row(data[1])"
   ]
  },
  {
   "cell_type": "code",
   "execution_count": 13,
   "id": "57fd5c2d",
   "metadata": {},
   "outputs": [],
   "source": [
    "# Sample code to filter a list of rows.\n",
    "def get_rows_by_passeger_class(data, pass_class):\n",
    "    rows = []\n",
    "    for row in data:\n",
    "        if  get_field(row, Fld.Pclass) == str(pass_class):\n",
    "            rows.append(row) \n",
    "    return rows"
   ]
  },
  {
   "cell_type": "code",
   "execution_count": 14,
   "id": "37c747d1",
   "metadata": {},
   "outputs": [],
   "source": [
    "# Select the first and third classes.\n",
    "first_class = get_rows_by_passeger_class(data, 1)\n",
    "third_class = get_rows_by_passeger_class(data, 2)"
   ]
  },
  {
   "cell_type": "code",
   "execution_count": 15,
   "id": "74fcb57d",
   "metadata": {},
   "outputs": [
    {
     "name": "stdout",
     "output_type": "stream",
     "text": [
      "First class = 216\n",
      "Third class = 184\n"
     ]
    }
   ],
   "source": [
    "# Prints the number of rows in each class.\n",
    "print('First class = {0}'.format(len(first_class)))\n",
    "print('Third class = {0}'.format(len(third_class)))"
   ]
  },
  {
   "cell_type": "code",
   "execution_count": null,
   "id": "b135ed25-6cc1-4f25-8b09-e396340b6f06",
   "metadata": {},
   "outputs": [],
   "source": []
  },
  {
   "cell_type": "code",
   "execution_count": 16,
   "id": "0571977c",
   "metadata": {},
   "outputs": [],
   "source": [
    "# Question 1. Implement the function filter_by_sex and print the total for female and male.\n",
    "# Hint: Use get_field(row, Fld.Sex) to get the passenger gender.\n",
    "\n",
    "def filter_by_sex(data, key_value):\n",
    "    rows = []\n",
    "    for row in data:\n",
    "        if  get_field(row, Fld.Sex) == str(key_value):\n",
    "            rows.append(row) \n",
    "    return rows\n",
    "    return []\n",
    "\n",
    "males = filter_by_sex(data, 'male')\n",
    "females = filter_by_sex(data, 'female')\n",
    "print('males = {0}'.format(len(males1)))\n",
    "print('females = {0}'.format(len(females1)))"
   ]
  },
  {
   "cell_type": "code",
   "execution_count": 21,
   "id": "e13bf8a8",
   "metadata": {},
   "outputs": [
    {
     "name": "stdout",
     "output_type": "stream",
     "text": [
      "first = 216\n",
      "third = 184\n"
     ]
    }
   ],
   "source": [
    "def filter_by_field(data, fld, key_value):\n",
    "    rows = []\n",
    "    for row in data:\n",
    "        if  get_field(row, fld) == str(key_value):\n",
    "            rows.append(row) \n",
    "    return rows\n",
    "    return []\n",
    "\n",
    "grp1 = filter_by_field(data, Fld.Pclass, 1)\n",
    "grp3 = filter_by_field(data, Fld.Pclass, 2)\n",
    "# Prints the number of rows in each class.\n",
    "print('first = {0}'.format(len(grp1)))\n",
    "print('third = {0}'.format(len(grp3)))"
   ]
  },
  {
   "cell_type": "code",
   "execution_count": 22,
   "id": "341e8fcc-789d-4246-850f-35f49eb5db17",
   "metadata": {},
   "outputs": [
    {
     "data": {
      "text/plain": [
       "(891, 12)"
      ]
     },
     "execution_count": 22,
     "metadata": {},
     "output_type": "execute_result"
    }
   ],
   "source": [
    "import pandas as pd\n",
    "titanic_df = pd.read_csv(\"./data/train.csv\")\n",
    "titanic_df.shape"
   ]
  },
  {
   "cell_type": "code",
   "execution_count": 24,
   "id": "fe99dca1",
   "metadata": {},
   "outputs": [
    {
     "data": {
      "text/plain": [
       "12"
      ]
     },
     "execution_count": 24,
     "metadata": {},
     "output_type": "execute_result"
    }
   ],
   "source": [
    "titanic_df.shape[1]"
   ]
  },
  {
   "cell_type": "code",
   "execution_count": 30,
   "id": "56410c59-f44f-4837-a439-3fba3c17aabf",
   "metadata": {},
   "outputs": [
    {
     "data": {
      "text/plain": [
       "0      False\n",
       "1      False\n",
       "2      False\n",
       "3      False\n",
       "4      False\n",
       "       ...  \n",
       "886    False\n",
       "887    False\n",
       "888     True\n",
       "889    False\n",
       "890    False\n",
       "Name: Age, Length: 891, dtype: bool"
      ]
     },
     "execution_count": 30,
     "metadata": {},
     "output_type": "execute_result"
    }
   ],
   "source": [
    "(titanic_df[\"Age\"].isnull()) "
   ]
  },
  {
   "cell_type": "code",
   "execution_count": 25,
   "id": "2b9bf7ee",
   "metadata": {},
   "outputs": [
    {
     "data": {
      "text/plain": [
       "0      False\n",
       "1      False\n",
       "2      False\n",
       "3      False\n",
       "4      False\n",
       "       ...  \n",
       "886    False\n",
       "887    False\n",
       "888    False\n",
       "889    False\n",
       "890    False\n",
       "Length: 891, dtype: bool"
      ]
     },
     "execution_count": 25,
     "metadata": {},
     "output_type": "execute_result"
    }
   ],
   "source": [
    "idx = (titanic_df[\"Age\"].isnull()) & (titanic_df[\"Sex\"] == \"female\") & (titanic_df[\"Pclass\"] == 1)\n",
    "idx"
   ]
  },
  {
   "cell_type": "code",
   "execution_count": 26,
   "id": "0b96e921-9dfc-4cae-b04c-1daa60109467",
   "metadata": {},
   "outputs": [
    {
     "data": {
      "text/html": [
       "<div>\n",
       "<style scoped>\n",
       "    .dataframe tbody tr th:only-of-type {\n",
       "        vertical-align: middle;\n",
       "    }\n",
       "\n",
       "    .dataframe tbody tr th {\n",
       "        vertical-align: top;\n",
       "    }\n",
       "\n",
       "    .dataframe thead th {\n",
       "        text-align: right;\n",
       "    }\n",
       "</style>\n",
       "<table border=\"1\" class=\"dataframe\">\n",
       "  <thead>\n",
       "    <tr style=\"text-align: right;\">\n",
       "      <th></th>\n",
       "      <th>PassengerId</th>\n",
       "      <th>Survived</th>\n",
       "      <th>Pclass</th>\n",
       "      <th>Name</th>\n",
       "      <th>Sex</th>\n",
       "      <th>Age</th>\n",
       "      <th>SibSp</th>\n",
       "      <th>Parch</th>\n",
       "      <th>Ticket</th>\n",
       "      <th>Fare</th>\n",
       "      <th>Cabin</th>\n",
       "      <th>Embarked</th>\n",
       "    </tr>\n",
       "  </thead>\n",
       "  <tbody>\n",
       "    <tr>\n",
       "      <th>31</th>\n",
       "      <td>32</td>\n",
       "      <td>1</td>\n",
       "      <td>1</td>\n",
       "      <td>Spencer, Mrs. William Augustus (Marie Eugenie)</td>\n",
       "      <td>female</td>\n",
       "      <td>NaN</td>\n",
       "      <td>1</td>\n",
       "      <td>0</td>\n",
       "      <td>PC 17569</td>\n",
       "      <td>146.5208</td>\n",
       "      <td>B78</td>\n",
       "      <td>C</td>\n",
       "    </tr>\n",
       "    <tr>\n",
       "      <th>166</th>\n",
       "      <td>167</td>\n",
       "      <td>1</td>\n",
       "      <td>1</td>\n",
       "      <td>Chibnall, Mrs. (Edith Martha Bowerman)</td>\n",
       "      <td>female</td>\n",
       "      <td>NaN</td>\n",
       "      <td>0</td>\n",
       "      <td>1</td>\n",
       "      <td>113505</td>\n",
       "      <td>55.0000</td>\n",
       "      <td>E33</td>\n",
       "      <td>S</td>\n",
       "    </tr>\n",
       "    <tr>\n",
       "      <th>256</th>\n",
       "      <td>257</td>\n",
       "      <td>1</td>\n",
       "      <td>1</td>\n",
       "      <td>Thorne, Mrs. Gertrude Maybelle</td>\n",
       "      <td>female</td>\n",
       "      <td>NaN</td>\n",
       "      <td>0</td>\n",
       "      <td>0</td>\n",
       "      <td>PC 17585</td>\n",
       "      <td>79.2000</td>\n",
       "      <td>NaN</td>\n",
       "      <td>C</td>\n",
       "    </tr>\n",
       "    <tr>\n",
       "      <th>306</th>\n",
       "      <td>307</td>\n",
       "      <td>1</td>\n",
       "      <td>1</td>\n",
       "      <td>Fleming, Miss. Margaret</td>\n",
       "      <td>female</td>\n",
       "      <td>NaN</td>\n",
       "      <td>0</td>\n",
       "      <td>0</td>\n",
       "      <td>17421</td>\n",
       "      <td>110.8833</td>\n",
       "      <td>NaN</td>\n",
       "      <td>C</td>\n",
       "    </tr>\n",
       "    <tr>\n",
       "      <th>334</th>\n",
       "      <td>335</td>\n",
       "      <td>1</td>\n",
       "      <td>1</td>\n",
       "      <td>Frauenthal, Mrs. Henry William (Clara Heinshei...</td>\n",
       "      <td>female</td>\n",
       "      <td>NaN</td>\n",
       "      <td>1</td>\n",
       "      <td>0</td>\n",
       "      <td>PC 17611</td>\n",
       "      <td>133.6500</td>\n",
       "      <td>NaN</td>\n",
       "      <td>S</td>\n",
       "    </tr>\n",
       "    <tr>\n",
       "      <th>375</th>\n",
       "      <td>376</td>\n",
       "      <td>1</td>\n",
       "      <td>1</td>\n",
       "      <td>Meyer, Mrs. Edgar Joseph (Leila Saks)</td>\n",
       "      <td>female</td>\n",
       "      <td>NaN</td>\n",
       "      <td>1</td>\n",
       "      <td>0</td>\n",
       "      <td>PC 17604</td>\n",
       "      <td>82.1708</td>\n",
       "      <td>NaN</td>\n",
       "      <td>C</td>\n",
       "    </tr>\n",
       "    <tr>\n",
       "      <th>457</th>\n",
       "      <td>458</td>\n",
       "      <td>1</td>\n",
       "      <td>1</td>\n",
       "      <td>Kenyon, Mrs. Frederick R (Marion)</td>\n",
       "      <td>female</td>\n",
       "      <td>NaN</td>\n",
       "      <td>1</td>\n",
       "      <td>0</td>\n",
       "      <td>17464</td>\n",
       "      <td>51.8625</td>\n",
       "      <td>D21</td>\n",
       "      <td>S</td>\n",
       "    </tr>\n",
       "    <tr>\n",
       "      <th>669</th>\n",
       "      <td>670</td>\n",
       "      <td>1</td>\n",
       "      <td>1</td>\n",
       "      <td>Taylor, Mrs. Elmer Zebley (Juliet Cummins Wright)</td>\n",
       "      <td>female</td>\n",
       "      <td>NaN</td>\n",
       "      <td>1</td>\n",
       "      <td>0</td>\n",
       "      <td>19996</td>\n",
       "      <td>52.0000</td>\n",
       "      <td>C126</td>\n",
       "      <td>S</td>\n",
       "    </tr>\n",
       "    <tr>\n",
       "      <th>849</th>\n",
       "      <td>850</td>\n",
       "      <td>1</td>\n",
       "      <td>1</td>\n",
       "      <td>Goldenberg, Mrs. Samuel L (Edwiga Grabowska)</td>\n",
       "      <td>female</td>\n",
       "      <td>NaN</td>\n",
       "      <td>1</td>\n",
       "      <td>0</td>\n",
       "      <td>17453</td>\n",
       "      <td>89.1042</td>\n",
       "      <td>C92</td>\n",
       "      <td>C</td>\n",
       "    </tr>\n",
       "  </tbody>\n",
       "</table>\n",
       "</div>"
      ],
      "text/plain": [
       "     PassengerId  Survived  Pclass  \\\n",
       "31            32         1       1   \n",
       "166          167         1       1   \n",
       "256          257         1       1   \n",
       "306          307         1       1   \n",
       "334          335         1       1   \n",
       "375          376         1       1   \n",
       "457          458         1       1   \n",
       "669          670         1       1   \n",
       "849          850         1       1   \n",
       "\n",
       "                                                  Name     Sex  Age  SibSp  \\\n",
       "31      Spencer, Mrs. William Augustus (Marie Eugenie)  female  NaN      1   \n",
       "166             Chibnall, Mrs. (Edith Martha Bowerman)  female  NaN      0   \n",
       "256                     Thorne, Mrs. Gertrude Maybelle  female  NaN      0   \n",
       "306                            Fleming, Miss. Margaret  female  NaN      0   \n",
       "334  Frauenthal, Mrs. Henry William (Clara Heinshei...  female  NaN      1   \n",
       "375              Meyer, Mrs. Edgar Joseph (Leila Saks)  female  NaN      1   \n",
       "457                  Kenyon, Mrs. Frederick R (Marion)  female  NaN      1   \n",
       "669  Taylor, Mrs. Elmer Zebley (Juliet Cummins Wright)  female  NaN      1   \n",
       "849       Goldenberg, Mrs. Samuel L (Edwiga Grabowska)  female  NaN      1   \n",
       "\n",
       "     Parch    Ticket      Fare Cabin Embarked  \n",
       "31       0  PC 17569  146.5208   B78        C  \n",
       "166      1    113505   55.0000   E33        S  \n",
       "256      0  PC 17585   79.2000   NaN        C  \n",
       "306      0     17421  110.8833   NaN        C  \n",
       "334      0  PC 17611  133.6500   NaN        S  \n",
       "375      0  PC 17604   82.1708   NaN        C  \n",
       "457      0     17464   51.8625   D21        S  \n",
       "669      0     19996   52.0000  C126        S  \n",
       "849      0     17453   89.1042   C92        C  "
      ]
     },
     "execution_count": 26,
     "metadata": {},
     "output_type": "execute_result"
    }
   ],
   "source": [
    "titanic_df[idx]"
   ]
  },
  {
   "cell_type": "code",
   "execution_count": 27,
   "id": "56dfb34d",
   "metadata": {},
   "outputs": [
    {
     "name": "stdout",
     "output_type": "stream",
     "text": [
      "Females = 314\n",
      "Males   = 577\n"
     ]
    }
   ],
   "source": [
    "# Total females = 314\n",
    "# Total males = 577\n",
    "print('Females = {0}'.format(len(females)))\n",
    "print('Males   = {0}'.format(len(males)))"
   ]
  },
  {
   "cell_type": "code",
   "execution_count": 36,
   "id": "bfad14ea",
   "metadata": {},
   "outputs": [],
   "source": [
    "# Question 2: \n",
    "# For each field listed below, generate a printed report \n",
    "# showing the counts for each value. Like the report from Question 1.\n",
    "#   Fld.Survived\n",
    "#   Fld.SibSp  \n",
    "#   Fld.Parch \n",
    "#   Fld.Embarked"
   ]
  },
  {
   "cell_type": "code",
   "execution_count": 29,
   "id": "e801c5c9",
   "metadata": {},
   "outputs": [
    {
     "data": {
      "text/plain": [
       "{}"
      ]
     },
     "execution_count": 29,
     "metadata": {},
     "output_type": "execute_result"
    }
   ],
   "source": [
    "dict() # Dict"
   ]
  },
  {
   "cell_type": "code",
   "execution_count": 30,
   "id": "740e7ed9",
   "metadata": {},
   "outputs": [],
   "source": [
    "# Helper function.\n",
    "def filter_by_fld(data: List, fld: Fld, key_value: any) -> List[str]:\n",
    "    rows = []\n",
    "    for row in data:\n",
    "        if  get_field(row, fld) == str(key_value):\n",
    "            rows.append(row) \n",
    "    return rows\n",
    "    return []"
   ]
  },
  {
   "cell_type": "code",
   "execution_count": 32,
   "id": "9966e06e",
   "metadata": {},
   "outputs": [
    {
     "name": "stdout",
     "output_type": "stream",
     "text": [
      "Survived = 342\n",
      "Preished = 549\n"
     ]
    }
   ],
   "source": [
    "survived = filter_by_fld(data, Fld.Survived, 1)\n",
    "perished = filter_by_fld(data, Fld.Survived, 0)\n",
    "print('Survived = {0}'.format(len(survived)))\n",
    "print('Preished = {0}'.format(len(perished)))"
   ]
  },
  {
   "cell_type": "markdown",
   "id": "7d881c9e",
   "metadata": {},
   "source": [
    "#### Pandas Library"
   ]
  },
  {
   "cell_type": "code",
   "execution_count": 33,
   "id": "c1329404",
   "metadata": {},
   "outputs": [
    {
     "data": {
      "text/plain": [
       "(891, 12)"
      ]
     },
     "execution_count": 33,
     "metadata": {},
     "output_type": "execute_result"
    }
   ],
   "source": [
    "import pandas as pd\n",
    "titanic_df = pd.read_csv(\"./data/train.csv\")\n",
    "titanic_df.shape"
   ]
  },
  {
   "cell_type": "code",
   "execution_count": 54,
   "id": "a03463da-adb2-49b3-9fbf-cc7d91bd1401",
   "metadata": {
    "jupyter": {
     "source_hidden": true
    },
    "tags": []
   },
   "outputs": [],
   "source": [
    "# Question 3: with Pandas\n",
    "# For each field listed below, generate a printed report \n",
    "# showing the counts for each value. Like the report from Question 1.\n",
    "#   Survived\n",
    "#   SibSp  \n",
    "#   Parch \n",
    "#   Embarked\n"
   ]
  },
  {
   "cell_type": "code",
   "execution_count": 62,
   "id": "cd67835f-acc7-4ee1-be9b-ff3b4acaea2e",
   "metadata": {},
   "outputs": [
    {
     "data": {
      "text/plain": [
       "0    549\n",
       "1    342\n",
       "Name: Survived, dtype: int64"
      ]
     },
     "execution_count": 62,
     "metadata": {},
     "output_type": "execute_result"
    }
   ],
   "source": [
    "titanic_df['Survived'].value_counts()"
   ]
  },
  {
   "cell_type": "code",
   "execution_count": 34,
   "id": "4ef7681d",
   "metadata": {},
   "outputs": [
    {
     "name": "stdout",
     "output_type": "stream",
     "text": [
      "-- Counts for [Survived] --\n",
      "0    549\n",
      "1    342\n",
      "Name: Survived, dtype: int64\n",
      " \n",
      "-- Counts for [SibSp] --\n",
      "0    608\n",
      "1    209\n",
      "2     28\n",
      "4     18\n",
      "3     16\n",
      "8      7\n",
      "5      5\n",
      "Name: SibSp, dtype: int64\n",
      " \n",
      "-- Counts for [Parch] --\n",
      "0    678\n",
      "1    118\n",
      "2     80\n",
      "5      5\n",
      "3      5\n",
      "4      4\n",
      "6      1\n",
      "Name: Parch, dtype: int64\n",
      " \n",
      "-- Counts for [Embarked] --\n",
      "S    644\n",
      "C    168\n",
      "Q     77\n",
      "Name: Embarked, dtype: int64\n",
      " \n"
     ]
    }
   ],
   "source": [
    "for fld in ['Survived', 'SibSp', 'Parch', 'Embarked']:\n",
    "    print(f'-- Counts for [{fld}] --')\n",
    "    print(titanic_df[fld].value_counts())\n",
    "    print(' ')"
   ]
  },
  {
   "cell_type": "code",
   "execution_count": 64,
   "id": "5f17754c",
   "metadata": {},
   "outputs": [],
   "source": [
    "# Question 4: \n",
    "# Create a field 'age_group' based on the following rules.\n",
    "# age_group = 1 -> Age is null and is female and first class\n",
    "# age_group = 2 -> is male and second class\n",
    "# age_group = 3 -> if not in one of the other groups."
   ]
  },
  {
   "cell_type": "code",
   "execution_count": 35,
   "id": "dbb7ffff",
   "metadata": {},
   "outputs": [],
   "source": [
    "age_grp = \"age_group\"\n",
    "titanic_df[age_grp] = 3\n",
    "idx_grp_1 = (titanic_df[\"Age\"].isnull()) & (titanic_df[\"Sex\"] == \"female\") & (titanic_df[\"Pclass\"] == 1)\n",
    "titanic_df.loc[idx_grp_1, age_grp] = 1\n",
    "idx_grp_2 = (titanic_df[\"Sex\"] == \"male\") & (titanic_df[\"Pclass\"] == 2)\n",
    "titanic_df.loc[idx_grp_2, age_grp] = 2"
   ]
  },
  {
   "cell_type": "code",
   "execution_count": 36,
   "id": "55a60a02-c821-48ea-97ab-6b9d819d8f04",
   "metadata": {},
   "outputs": [
    {
     "data": {
      "text/html": [
       "<div>\n",
       "<style scoped>\n",
       "    .dataframe tbody tr th:only-of-type {\n",
       "        vertical-align: middle;\n",
       "    }\n",
       "\n",
       "    .dataframe tbody tr th {\n",
       "        vertical-align: top;\n",
       "    }\n",
       "\n",
       "    .dataframe thead th {\n",
       "        text-align: right;\n",
       "    }\n",
       "</style>\n",
       "<table border=\"1\" class=\"dataframe\">\n",
       "  <thead>\n",
       "    <tr style=\"text-align: right;\">\n",
       "      <th></th>\n",
       "      <th>PassengerId</th>\n",
       "      <th>Survived</th>\n",
       "      <th>Pclass</th>\n",
       "      <th>Name</th>\n",
       "      <th>Sex</th>\n",
       "      <th>Age</th>\n",
       "      <th>SibSp</th>\n",
       "      <th>Parch</th>\n",
       "      <th>Ticket</th>\n",
       "      <th>Fare</th>\n",
       "      <th>Cabin</th>\n",
       "      <th>Embarked</th>\n",
       "      <th>age_group</th>\n",
       "    </tr>\n",
       "  </thead>\n",
       "  <tbody>\n",
       "    <tr>\n",
       "      <th>31</th>\n",
       "      <td>32</td>\n",
       "      <td>1</td>\n",
       "      <td>1</td>\n",
       "      <td>Spencer, Mrs. William Augustus (Marie Eugenie)</td>\n",
       "      <td>female</td>\n",
       "      <td>NaN</td>\n",
       "      <td>1</td>\n",
       "      <td>0</td>\n",
       "      <td>PC 17569</td>\n",
       "      <td>146.5208</td>\n",
       "      <td>B78</td>\n",
       "      <td>C</td>\n",
       "      <td>1</td>\n",
       "    </tr>\n",
       "    <tr>\n",
       "      <th>166</th>\n",
       "      <td>167</td>\n",
       "      <td>1</td>\n",
       "      <td>1</td>\n",
       "      <td>Chibnall, Mrs. (Edith Martha Bowerman)</td>\n",
       "      <td>female</td>\n",
       "      <td>NaN</td>\n",
       "      <td>0</td>\n",
       "      <td>1</td>\n",
       "      <td>113505</td>\n",
       "      <td>55.0000</td>\n",
       "      <td>E33</td>\n",
       "      <td>S</td>\n",
       "      <td>1</td>\n",
       "    </tr>\n",
       "    <tr>\n",
       "      <th>256</th>\n",
       "      <td>257</td>\n",
       "      <td>1</td>\n",
       "      <td>1</td>\n",
       "      <td>Thorne, Mrs. Gertrude Maybelle</td>\n",
       "      <td>female</td>\n",
       "      <td>NaN</td>\n",
       "      <td>0</td>\n",
       "      <td>0</td>\n",
       "      <td>PC 17585</td>\n",
       "      <td>79.2000</td>\n",
       "      <td>NaN</td>\n",
       "      <td>C</td>\n",
       "      <td>1</td>\n",
       "    </tr>\n",
       "    <tr>\n",
       "      <th>306</th>\n",
       "      <td>307</td>\n",
       "      <td>1</td>\n",
       "      <td>1</td>\n",
       "      <td>Fleming, Miss. Margaret</td>\n",
       "      <td>female</td>\n",
       "      <td>NaN</td>\n",
       "      <td>0</td>\n",
       "      <td>0</td>\n",
       "      <td>17421</td>\n",
       "      <td>110.8833</td>\n",
       "      <td>NaN</td>\n",
       "      <td>C</td>\n",
       "      <td>1</td>\n",
       "    </tr>\n",
       "    <tr>\n",
       "      <th>334</th>\n",
       "      <td>335</td>\n",
       "      <td>1</td>\n",
       "      <td>1</td>\n",
       "      <td>Frauenthal, Mrs. Henry William (Clara Heinshei...</td>\n",
       "      <td>female</td>\n",
       "      <td>NaN</td>\n",
       "      <td>1</td>\n",
       "      <td>0</td>\n",
       "      <td>PC 17611</td>\n",
       "      <td>133.6500</td>\n",
       "      <td>NaN</td>\n",
       "      <td>S</td>\n",
       "      <td>1</td>\n",
       "    </tr>\n",
       "  </tbody>\n",
       "</table>\n",
       "</div>"
      ],
      "text/plain": [
       "     PassengerId  Survived  Pclass  \\\n",
       "31            32         1       1   \n",
       "166          167         1       1   \n",
       "256          257         1       1   \n",
       "306          307         1       1   \n",
       "334          335         1       1   \n",
       "\n",
       "                                                  Name     Sex  Age  SibSp  \\\n",
       "31      Spencer, Mrs. William Augustus (Marie Eugenie)  female  NaN      1   \n",
       "166             Chibnall, Mrs. (Edith Martha Bowerman)  female  NaN      0   \n",
       "256                     Thorne, Mrs. Gertrude Maybelle  female  NaN      0   \n",
       "306                            Fleming, Miss. Margaret  female  NaN      0   \n",
       "334  Frauenthal, Mrs. Henry William (Clara Heinshei...  female  NaN      1   \n",
       "\n",
       "     Parch    Ticket      Fare Cabin Embarked  age_group  \n",
       "31       0  PC 17569  146.5208   B78        C          1  \n",
       "166      1    113505   55.0000   E33        S          1  \n",
       "256      0  PC 17585   79.2000   NaN        C          1  \n",
       "306      0     17421  110.8833   NaN        C          1  \n",
       "334      0  PC 17611  133.6500   NaN        S          1  "
      ]
     },
     "execution_count": 36,
     "metadata": {},
     "output_type": "execute_result"
    }
   ],
   "source": [
    "titanic_df[titanic_df[age_grp] == 1].head()"
   ]
  },
  {
   "cell_type": "code",
   "execution_count": 37,
   "id": "d76bb54d",
   "metadata": {},
   "outputs": [
    {
     "data": {
      "text/html": [
       "<div>\n",
       "<style scoped>\n",
       "    .dataframe tbody tr th:only-of-type {\n",
       "        vertical-align: middle;\n",
       "    }\n",
       "\n",
       "    .dataframe tbody tr th {\n",
       "        vertical-align: top;\n",
       "    }\n",
       "\n",
       "    .dataframe thead th {\n",
       "        text-align: right;\n",
       "    }\n",
       "</style>\n",
       "<table border=\"1\" class=\"dataframe\">\n",
       "  <thead>\n",
       "    <tr style=\"text-align: right;\">\n",
       "      <th></th>\n",
       "      <th>PassengerId</th>\n",
       "      <th>Survived</th>\n",
       "      <th>Pclass</th>\n",
       "      <th>Name</th>\n",
       "      <th>Sex</th>\n",
       "      <th>Age</th>\n",
       "      <th>SibSp</th>\n",
       "      <th>Parch</th>\n",
       "      <th>Ticket</th>\n",
       "      <th>Fare</th>\n",
       "      <th>Cabin</th>\n",
       "      <th>Embarked</th>\n",
       "      <th>age_group</th>\n",
       "    </tr>\n",
       "  </thead>\n",
       "  <tbody>\n",
       "    <tr>\n",
       "      <th>17</th>\n",
       "      <td>18</td>\n",
       "      <td>1</td>\n",
       "      <td>2</td>\n",
       "      <td>Williams, Mr. Charles Eugene</td>\n",
       "      <td>male</td>\n",
       "      <td>NaN</td>\n",
       "      <td>0</td>\n",
       "      <td>0</td>\n",
       "      <td>244373</td>\n",
       "      <td>13.0</td>\n",
       "      <td>NaN</td>\n",
       "      <td>S</td>\n",
       "      <td>2</td>\n",
       "    </tr>\n",
       "    <tr>\n",
       "      <th>20</th>\n",
       "      <td>21</td>\n",
       "      <td>0</td>\n",
       "      <td>2</td>\n",
       "      <td>Fynney, Mr. Joseph J</td>\n",
       "      <td>male</td>\n",
       "      <td>35.0</td>\n",
       "      <td>0</td>\n",
       "      <td>0</td>\n",
       "      <td>239865</td>\n",
       "      <td>26.0</td>\n",
       "      <td>NaN</td>\n",
       "      <td>S</td>\n",
       "      <td>2</td>\n",
       "    </tr>\n",
       "    <tr>\n",
       "      <th>21</th>\n",
       "      <td>22</td>\n",
       "      <td>1</td>\n",
       "      <td>2</td>\n",
       "      <td>Beesley, Mr. Lawrence</td>\n",
       "      <td>male</td>\n",
       "      <td>34.0</td>\n",
       "      <td>0</td>\n",
       "      <td>0</td>\n",
       "      <td>248698</td>\n",
       "      <td>13.0</td>\n",
       "      <td>D56</td>\n",
       "      <td>S</td>\n",
       "      <td>2</td>\n",
       "    </tr>\n",
       "    <tr>\n",
       "      <th>33</th>\n",
       "      <td>34</td>\n",
       "      <td>0</td>\n",
       "      <td>2</td>\n",
       "      <td>Wheadon, Mr. Edward H</td>\n",
       "      <td>male</td>\n",
       "      <td>66.0</td>\n",
       "      <td>0</td>\n",
       "      <td>0</td>\n",
       "      <td>C.A. 24579</td>\n",
       "      <td>10.5</td>\n",
       "      <td>NaN</td>\n",
       "      <td>S</td>\n",
       "      <td>2</td>\n",
       "    </tr>\n",
       "    <tr>\n",
       "      <th>70</th>\n",
       "      <td>71</td>\n",
       "      <td>0</td>\n",
       "      <td>2</td>\n",
       "      <td>Jenkin, Mr. Stephen Curnow</td>\n",
       "      <td>male</td>\n",
       "      <td>32.0</td>\n",
       "      <td>0</td>\n",
       "      <td>0</td>\n",
       "      <td>C.A. 33111</td>\n",
       "      <td>10.5</td>\n",
       "      <td>NaN</td>\n",
       "      <td>S</td>\n",
       "      <td>2</td>\n",
       "    </tr>\n",
       "  </tbody>\n",
       "</table>\n",
       "</div>"
      ],
      "text/plain": [
       "    PassengerId  Survived  Pclass                          Name   Sex   Age  \\\n",
       "17           18         1       2  Williams, Mr. Charles Eugene  male   NaN   \n",
       "20           21         0       2          Fynney, Mr. Joseph J  male  35.0   \n",
       "21           22         1       2         Beesley, Mr. Lawrence  male  34.0   \n",
       "33           34         0       2         Wheadon, Mr. Edward H  male  66.0   \n",
       "70           71         0       2    Jenkin, Mr. Stephen Curnow  male  32.0   \n",
       "\n",
       "    SibSp  Parch      Ticket  Fare Cabin Embarked  age_group  \n",
       "17      0      0      244373  13.0   NaN        S          2  \n",
       "20      0      0      239865  26.0   NaN        S          2  \n",
       "21      0      0      248698  13.0   D56        S          2  \n",
       "33      0      0  C.A. 24579  10.5   NaN        S          2  \n",
       "70      0      0  C.A. 33111  10.5   NaN        S          2  "
      ]
     },
     "execution_count": 37,
     "metadata": {},
     "output_type": "execute_result"
    }
   ],
   "source": [
    "titanic_df[titanic_df[age_grp] == 2].head()"
   ]
  },
  {
   "cell_type": "code",
   "execution_count": 38,
   "id": "8d48df97",
   "metadata": {},
   "outputs": [
    {
     "data": {
      "text/plain": [
       "1      9\n",
       "2    108\n",
       "3    774\n",
       "Name: age_group, dtype: int64"
      ]
     },
     "execution_count": 38,
     "metadata": {},
     "output_type": "execute_result"
    }
   ],
   "source": [
    "# Question 5: \n",
    "# Create the 'age_group' counts report.\n",
    "#\n",
    "titanic_df[age_grp].value_counts().sort_index()"
   ]
  },
  {
   "cell_type": "code",
   "execution_count": 93,
   "id": "119123ad-b175-43b2-8c66-33dbe21cb3c9",
   "metadata": {},
   "outputs": [
    {
     "data": {
      "text/html": [
       "<div>\n",
       "<style scoped>\n",
       "    .dataframe tbody tr th:only-of-type {\n",
       "        vertical-align: middle;\n",
       "    }\n",
       "\n",
       "    .dataframe tbody tr th {\n",
       "        vertical-align: top;\n",
       "    }\n",
       "\n",
       "    .dataframe thead th {\n",
       "        text-align: right;\n",
       "    }\n",
       "</style>\n",
       "<table border=\"1\" class=\"dataframe\">\n",
       "  <thead>\n",
       "    <tr style=\"text-align: right;\">\n",
       "      <th></th>\n",
       "      <th>PassengerId</th>\n",
       "      <th>Survived</th>\n",
       "      <th>Pclass</th>\n",
       "      <th>Name</th>\n",
       "      <th>Sex</th>\n",
       "      <th>Age</th>\n",
       "      <th>SibSp</th>\n",
       "      <th>Parch</th>\n",
       "      <th>Ticket</th>\n",
       "      <th>Fare</th>\n",
       "      <th>Cabin</th>\n",
       "      <th>Embarked</th>\n",
       "      <th>Age Group</th>\n",
       "      <th>Age_Group</th>\n",
       "      <th>age_group</th>\n",
       "    </tr>\n",
       "  </thead>\n",
       "  <tbody>\n",
       "    <tr>\n",
       "      <th>5</th>\n",
       "      <td>6</td>\n",
       "      <td>0</td>\n",
       "      <td>3</td>\n",
       "      <td>Moran, Mr. James</td>\n",
       "      <td>male</td>\n",
       "      <td>NaN</td>\n",
       "      <td>0</td>\n",
       "      <td>0</td>\n",
       "      <td>330877</td>\n",
       "      <td>8.4583</td>\n",
       "      <td>NaN</td>\n",
       "      <td>Q</td>\n",
       "      <td>1000</td>\n",
       "      <td>3</td>\n",
       "      <td>3</td>\n",
       "    </tr>\n",
       "    <tr>\n",
       "      <th>17</th>\n",
       "      <td>18</td>\n",
       "      <td>1</td>\n",
       "      <td>2</td>\n",
       "      <td>Williams, Mr. Charles Eugene</td>\n",
       "      <td>male</td>\n",
       "      <td>NaN</td>\n",
       "      <td>0</td>\n",
       "      <td>0</td>\n",
       "      <td>244373</td>\n",
       "      <td>13.0000</td>\n",
       "      <td>NaN</td>\n",
       "      <td>S</td>\n",
       "      <td>1000</td>\n",
       "      <td>2</td>\n",
       "      <td>2</td>\n",
       "    </tr>\n",
       "    <tr>\n",
       "      <th>19</th>\n",
       "      <td>20</td>\n",
       "      <td>1</td>\n",
       "      <td>3</td>\n",
       "      <td>Masselmani, Mrs. Fatima</td>\n",
       "      <td>female</td>\n",
       "      <td>NaN</td>\n",
       "      <td>0</td>\n",
       "      <td>0</td>\n",
       "      <td>2649</td>\n",
       "      <td>7.2250</td>\n",
       "      <td>NaN</td>\n",
       "      <td>C</td>\n",
       "      <td>1000</td>\n",
       "      <td>3</td>\n",
       "      <td>3</td>\n",
       "    </tr>\n",
       "    <tr>\n",
       "      <th>26</th>\n",
       "      <td>27</td>\n",
       "      <td>0</td>\n",
       "      <td>3</td>\n",
       "      <td>Emir, Mr. Farred Chehab</td>\n",
       "      <td>male</td>\n",
       "      <td>NaN</td>\n",
       "      <td>0</td>\n",
       "      <td>0</td>\n",
       "      <td>2631</td>\n",
       "      <td>7.2250</td>\n",
       "      <td>NaN</td>\n",
       "      <td>C</td>\n",
       "      <td>1000</td>\n",
       "      <td>3</td>\n",
       "      <td>3</td>\n",
       "    </tr>\n",
       "    <tr>\n",
       "      <th>28</th>\n",
       "      <td>29</td>\n",
       "      <td>1</td>\n",
       "      <td>3</td>\n",
       "      <td>O'Dwyer, Miss. Ellen \"Nellie\"</td>\n",
       "      <td>female</td>\n",
       "      <td>NaN</td>\n",
       "      <td>0</td>\n",
       "      <td>0</td>\n",
       "      <td>330959</td>\n",
       "      <td>7.8792</td>\n",
       "      <td>NaN</td>\n",
       "      <td>Q</td>\n",
       "      <td>1000</td>\n",
       "      <td>3</td>\n",
       "      <td>3</td>\n",
       "    </tr>\n",
       "  </tbody>\n",
       "</table>\n",
       "</div>"
      ],
      "text/plain": [
       "    PassengerId  Survived  Pclass                           Name     Sex  Age  \\\n",
       "5             6         0       3               Moran, Mr. James    male  NaN   \n",
       "17           18         1       2   Williams, Mr. Charles Eugene    male  NaN   \n",
       "19           20         1       3        Masselmani, Mrs. Fatima  female  NaN   \n",
       "26           27         0       3        Emir, Mr. Farred Chehab    male  NaN   \n",
       "28           29         1       3  O'Dwyer, Miss. Ellen \"Nellie\"  female  NaN   \n",
       "\n",
       "    SibSp  Parch  Ticket     Fare Cabin Embarked  Age Group  Age_Group  \\\n",
       "5       0      0  330877   8.4583   NaN        Q       1000          3   \n",
       "17      0      0  244373  13.0000   NaN        S       1000          2   \n",
       "19      0      0    2649   7.2250   NaN        C       1000          3   \n",
       "26      0      0    2631   7.2250   NaN        C       1000          3   \n",
       "28      0      0  330959   7.8792   NaN        Q       1000          3   \n",
       "\n",
       "    age_group  \n",
       "5           3  \n",
       "17          2  \n",
       "19          3  \n",
       "26          3  \n",
       "28          3  "
      ]
     },
     "execution_count": 93,
     "metadata": {},
     "output_type": "execute_result"
    }
   ],
   "source": [
    "# Question 6: \n",
    "# List the records in which 'Age' is null.\n",
    "#\n",
    "\n",
    "titanic_df.loc[titanic_df['Age'].isnull()].head()"
   ]
  },
  {
   "cell_type": "code",
   "execution_count": null,
   "id": "0f56b6ab",
   "metadata": {},
   "outputs": [],
   "source": []
  }
 ],
 "metadata": {
  "kernelspec": {
   "display_name": "Python 3 (ipykernel)",
   "language": "python",
   "name": "python3"
  },
  "language_info": {
   "codemirror_mode": {
    "name": "ipython",
    "version": 3
   },
   "file_extension": ".py",
   "mimetype": "text/x-python",
   "name": "python",
   "nbconvert_exporter": "python",
   "pygments_lexer": "ipython3",
   "version": "3.9.7"
  }
 },
 "nbformat": 4,
 "nbformat_minor": 5
}
