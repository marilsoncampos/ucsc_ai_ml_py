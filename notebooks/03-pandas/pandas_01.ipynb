{
 "cells": [
  {
   "cell_type": "markdown",
   "metadata": {},
   "source": [
    "### The pandas library\n",
    "\n",
    "__Popular Python module that provides tools for data analysis.__\n",
    "\n",
    "> Pandas is widely used to transform raw data for data analysis and machine learning. \n",
    "\n",
    "We will learn: \n",
    "\n",
    "- data frames and data series \n",
    "- reading from files \n",
    "- data transformation \n",
    "- statistical analysis\n"
   ]
  },
  {
   "cell_type": "markdown",
   "metadata": {
    "tags": []
   },
   "source": [
    "#### The Pandas library two types: \n",
    "\n",
    "- __Series__\n",
    "\n",
    "     Handles pairs of values, where one value is the index. \n",
    "    \n",
    "     Example 'date' and 'sales for the day'.\n",
    "\n",
    "- __Dataframe__\n",
    "\n",
    "    Handles tables with multiple columns. \n"
   ]
  },
  {
   "cell_type": "code",
   "execution_count": 1,
   "metadata": {},
   "outputs": [],
   "source": [
    "import pandas as pd\n",
    "import matplotlib.pyplot as plt\n",
    "import numpy as np\n",
    "import pprint\n",
    "printer_obj = pprint.PrettyPrinter(indent=4)\n",
    "%matplotlib inline"
   ]
  },
  {
   "cell_type": "code",
   "execution_count": 2,
   "metadata": {},
   "outputs": [],
   "source": [
    "# Helper functions\n",
    "\n",
    "import inspect\n",
    "\n",
    "def print_name_value(variable):\n",
    "    frame = inspect.currentframe()\n",
    "    frame = inspect.getouterframes(frame)[1]\n",
    "    ctx = inspect.getframeinfo(frame[0]).code_context[0].strip()\n",
    "    single_arg = ctx[ctx.find('(') + 1:-1].split(',')[0]\n",
    "    mem_variable = id(variable)\n",
    "    print(f'{single_arg}:\\n{variable}\\n')\n",
    " \n",
    "def print_name_type(data_obj):\n",
    "    frame = inspect.currentframe()\n",
    "    frame = inspect.getouterframes(frame)[1]\n",
    "    ctx = inspect.getframeinfo(frame[0]).code_context[0].strip()\n",
    "    var_name = ctx[ctx.find('(') + 1:-1].split(',')[0]\n",
    "    obj_type = get_pandas_type(data_obj)\n",
    "    print(f'The variable \"{var_name}\" is a {obj_type}')\n",
    "\n",
    "def print_header(title='', sep='.', witdh=46):\n",
    "    '''Prints a formated header.'''\n",
    "    title_size = len(title)\n",
    "    filler_size = (witdh - (title_size + 2)) // 2\n",
    "    filler_str = sep * filler_size\n",
    "    if len(title) == 0:\n",
    "        rfill = filler_str\n",
    "    else: \n",
    "        rfill = filler_str[::-1]\n",
    "        if (title_size % 2 == 1):\n",
    "             rfill = rfill + rfill[0]\n",
    "    print('{left}[{title}]{right}'.format(\n",
    "        left=filler_str, title=title, right=rfill))\n",
    "\n",
    "def print_separator():\n",
    "    print('. ' * 25)\n",
    "    \n",
    "def pp(obj):\n",
    "    printer_obj.pprint(obj)\n",
    "\n",
    "def get_pandas_type(data_obj):\n",
    "    type_str = str(type(data_obj))\n",
    "    return type_str.split('.')[-1].split(\"'\")[0]\n",
    "\n",
    "def print_type(data_obj):\n",
    "    print(get_pandas_type(data_obj))\n",
    "    \n",
    "def print_data_and_type(data_obj, title:str=None):\n",
    "    if title:\n",
    "        print_header(title, sep='-')\n",
    "        print(' ')\n",
    "    print('Data:')\n",
    "    if isinstance(data_obj, pd.Series):\n",
    "        lines = str(data_obj).split('\\n')[:-1]\n",
    "        print('\\n'.join(lines))\n",
    "    else:\n",
    "        print(data_obj[:])\n",
    "    print(' ')\n",
    "    print('Object Type: {0}'.format(get_pandas_type(data_obj)))\n",
    "    print(' ')\n",
    "\n",
    "def print_shape(df):\n",
    "    print('Shape: ' + str(df.shape))\n",
    "    \n",
    "def print_columns(df):\n",
    "    print('-- Columns --')\n",
    "    for col in df.columns:\n",
    "        print(' ' + col)"
   ]
  },
  {
   "cell_type": "markdown",
   "metadata": {},
   "source": [
    "#### Creating a data series from a list"
   ]
  },
  {
   "cell_type": "code",
   "execution_count": 3,
   "metadata": {},
   "outputs": [
    {
     "name": "stdout",
     "output_type": "stream",
     "text": [
      "Data:\n",
      "0     Grapes\n",
      "1     Apples\n",
      "2    Oranges\n",
      "3    Bananas\n",
      " \n",
      "Object Type: Series\n",
      " \n"
     ]
    }
   ],
   "source": [
    "list1 = ['Grapes', 'Apples', 'Oranges', 'Bananas']\n",
    "s1 = pd.Series(list1)\n",
    "print_data_and_type(s1)"
   ]
  },
  {
   "cell_type": "markdown",
   "metadata": {},
   "source": [
    "Notice that rows are given numbers, these numbers are known as indexes. \n",
    "\n",
    "By default, indexes start from 0 and go up.  "
   ]
  },
  {
   "cell_type": "markdown",
   "metadata": {},
   "source": [
    "#### Using custom indexes "
   ]
  },
  {
   "cell_type": "code",
   "execution_count": 4,
   "metadata": {},
   "outputs": [
    {
     "name": "stdout",
     "output_type": "stream",
     "text": [
      "Data:\n",
      "GR     Grapes\n",
      "AP     Apples\n",
      "OR    Oranges\n",
      "BA    Bananas\n",
      " \n",
      "Object Type: Series\n",
      " \n"
     ]
    }
   ],
   "source": [
    "# defining list2 with indices\n",
    "my_index = ['GR', 'AP', 'OR', 'BA']\n",
    "\n",
    "# In series1 we say index=my_index\n",
    "series1 = pd.Series(list1, index=my_index)\n",
    "print_data_and_type(series1)"
   ]
  },
  {
   "cell_type": "markdown",
   "metadata": {},
   "source": [
    "#### Creating a series from a python dictionary."
   ]
  },
  {
   "cell_type": "code",
   "execution_count": 5,
   "metadata": {},
   "outputs": [
    {
     "name": "stdout",
     "output_type": "stream",
     "text": [
      "Data:\n",
      "Z     Zynga\n",
      "U      Uber\n",
      "G    Google\n",
      " \n",
      "Object Type: Series\n",
      " \n"
     ]
    }
   ],
   "source": [
    "dict1 = {'Z': 'Zynga', 'U': 'Uber', 'G':'Google'}\n",
    "ds1 = pd.Series(dict1)\n",
    "print_data_and_type(ds1)"
   ]
  },
  {
   "cell_type": "markdown",
   "metadata": {},
   "source": [
    "#### Pandas internally uses a library called Numpy. \n",
    "(More on this in future sessions.)"
   ]
  },
  {
   "cell_type": "code",
   "execution_count": 6,
   "metadata": {},
   "outputs": [
    {
     "name": "stdout",
     "output_type": "stream",
     "text": [
      "[10 11 12 13 14]\n",
      "14\n",
      "12.0\n"
     ]
    }
   ],
   "source": [
    "# Generating some arrays with Numpy\n",
    "arr = np.arange(10, 15)\n",
    "print(arr)\n",
    "print(arr[4])\n",
    "print(np.mean(arr))"
   ]
  },
  {
   "cell_type": "code",
   "execution_count": 7,
   "metadata": {},
   "outputs": [
    {
     "name": "stdout",
     "output_type": "stream",
     "text": [
      "...................[Array]....................\n",
      "[1, 2, 3, 4, 5, 6, 7, 8, 9]\n",
      "....................[Mean]....................\n"
     ]
    },
    {
     "data": {
      "text/plain": [
       "5"
      ]
     },
     "execution_count": 7,
     "metadata": {},
     "output_type": "execute_result"
    }
   ],
   "source": [
    "# There are other libraries that operate directly on python lists.\n",
    "import statistics\n",
    "print_header('Array')\n",
    "a = [x for x in range(1,10)]\n",
    "print(a)\n",
    "print_header('Mean')\n",
    "statistics.mean(a)"
   ]
  },
  {
   "cell_type": "code",
   "execution_count": 8,
   "metadata": {},
   "outputs": [
    {
     "name": "stdout",
     "output_type": "stream",
     "text": [
      "...................[Array]....................\n",
      "[20 21 22 23 24 25 26 27 28 29]\n",
      "...................[Matrix]...................\n",
      "[[20 21 22 23 24]\n",
      " [25 26 27 28 29]]\n"
     ]
    }
   ],
   "source": [
    "# Nympy has an equivalent type called 'array'\n",
    "b = np.arange(20, 30)\n",
    "print_header('Array')\n",
    "print(b)\n",
    "# transform into a 2x5 matrix.\n",
    "c = b.reshape(2, 5)\n",
    "print_header('Matrix')\n",
    "print(c)"
   ]
  },
  {
   "cell_type": "markdown",
   "metadata": {},
   "source": [
    "#### Creating a Series with 'company name' as index and its stock 'price' as values. \n",
    "\n",
    "##### Notice that in the code below, we have a dictionary with two keys having 'None' as their values."
   ]
  },
  {
   "cell_type": "code",
   "execution_count": 9,
   "metadata": {},
   "outputs": [
    {
     "name": "stdout",
     "output_type": "stream",
     "text": [
      "-----------------[Dictionary]-----------------\n",
      "{   'Alphabet': 856,\n",
      "    'Amazon': 3352,\n",
      "    'Ford': 12,\n",
      "    'GE': 29,\n",
      "    'Marriot': None,\n",
      "    'Nvidia': None,\n",
      "    'Toyota': '112',\n",
      "    'amazon': 1000}\n",
      "---------------[Pandas Series]----------------\n",
      " \n",
      "Data:\n",
      "Amazon      3352\n",
      "Nvidia      None\n",
      "Alphabet     856\n",
      "Toyota       112\n",
      "GE            29\n",
      "Ford          12\n",
      "Marriot     None\n",
      "amazon      1000\n",
      " \n",
      "Object Type: Series\n",
      " \n"
     ]
    }
   ],
   "source": [
    "d2 = {\n",
    "    'Amazon': 3352, 'Nvidia': None, 'Alphabet': 856, 'Toyota': '112', \n",
    "    'GE': 29, 'Ford': 12, 'Marriot': None, 'amazon': 1000\n",
    "}\n",
    "print_header('Dictionary', sep='-')\n",
    "pp(d2)\n",
    "companies_incomplete = pd.Series(d2, name='Price')\n",
    "print_data_and_type(companies_incomplete, 'Pandas Series')"
   ]
  },
  {
   "cell_type": "code",
   "execution_count": 10,
   "metadata": {},
   "outputs": [
    {
     "name": "stdout",
     "output_type": "stream",
     "text": [
      "-----------------[Dictionary]-----------------\n",
      "{   'Alphabet': 856,\n",
      "    'Amazon': 3352,\n",
      "    'Ford': 12,\n",
      "    'GE': 29,\n",
      "    'Marriot': 33,\n",
      "    'Nvidia': 22,\n",
      "    'Toyota': 112,\n",
      "    'amazon': 1000}\n",
      " \n",
      "---------------[Pandas Series]----------------\n",
      " \n",
      "Data:\n",
      "Amazon      3352\n",
      "Nvidia        22\n",
      "Alphabet     856\n",
      "Toyota       112\n",
      "GE            29\n",
      "Ford          12\n",
      "Marriot       33\n",
      "amazon      1000\n",
      " \n",
      "Object Type: Series\n",
      " \n"
     ]
    }
   ],
   "source": [
    "# Lets use a dictionary with all values filled for now.\n",
    "d2 = {\n",
    "    'Amazon': 3352, 'Nvidia': 22, 'Alphabet': 856, 'Toyota': 112, \\\n",
    "    'GE': 29, 'Ford': 12, 'Marriot': 33, 'amazon': 1000}\n",
    "print_header('Dictionary', sep='-')\n",
    "pp(d2)\n",
    "companies = pd.Series(d2, name='Price')\n",
    "print(' ')\n",
    "print_data_and_type(companies, 'Pandas Series')"
   ]
  },
  {
   "cell_type": "markdown",
   "metadata": {},
   "source": [
    "Using the index we can get the corresponding stock prices. Below we are \n",
    "retrieving the stock price of Ford."
   ]
  },
  {
   "cell_type": "code",
   "execution_count": 11,
   "metadata": {},
   "outputs": [
    {
     "name": "stdout",
     "output_type": "stream",
     "text": [
      "Ford    12\n",
      "Name: Price, dtype: int64\n"
     ]
    }
   ],
   "source": [
    "print(companies[['Ford']])"
   ]
  },
  {
   "cell_type": "markdown",
   "metadata": {},
   "source": [
    "We can also get stock prices for more companies. We have to supply the indices \n",
    "that we are interested in as a list."
   ]
  },
  {
   "cell_type": "code",
   "execution_count": 12,
   "metadata": {},
   "outputs": [
    {
     "name": "stdout",
     "output_type": "stream",
     "text": [
      "Ford    12\n",
      "GE      29\n",
      "Name: Price, dtype: int64\n"
     ]
    }
   ],
   "source": [
    "print(companies[['Ford', 'GE']])"
   ]
  },
  {
   "cell_type": "markdown",
   "metadata": {},
   "source": [
    "Membership can be checked using the 'in' keyword."
   ]
  },
  {
   "cell_type": "code",
   "execution_count": 13,
   "metadata": {},
   "outputs": [
    {
     "name": "stdout",
     "output_type": "stream",
     "text": [
      "True\n",
      "False\n"
     ]
    }
   ],
   "source": [
    "print('Amazon' in companies)\n",
    "print('Apple' in companies)"
   ]
  },
  {
   "cell_type": "markdown",
   "metadata": {},
   "source": [
    "If we want to know companies for which we don't have stock price, then we have \n",
    "to use the is.null(). True will be returned for the indices that don't have a \n",
    "value and False for the indices that have \n",
    "a value."
   ]
  },
  {
   "cell_type": "code",
   "execution_count": 14,
   "metadata": {},
   "outputs": [
    {
     "name": "stdout",
     "output_type": "stream",
     "text": [
      "Amazon      False\n",
      "Nvidia       True\n",
      "Alphabet    False\n",
      "Toyota      False\n",
      "GE          False\n",
      "Ford        False\n",
      "Marriot      True\n",
      "amazon      False\n",
      "Name: Price, dtype: bool\n"
     ]
    }
   ],
   "source": [
    "print(companies_incomplete.isnull())"
   ]
  },
  {
   "cell_type": "markdown",
   "metadata": {},
   "source": [
    "In pandas if you have column of boolean, you can use this info to select records on the same data."
   ]
  },
  {
   "cell_type": "code",
   "execution_count": 15,
   "metadata": {
    "tags": []
   },
   "outputs": [
    {
     "name": "stdout",
     "output_type": "stream",
     "text": [
      "Nvidia     None\n",
      "Marriot    None\n",
      "Name: Price, dtype: object\n"
     ]
    }
   ],
   "source": [
    "# Printing only the companies where price is null.\n",
    "print(companies_incomplete[companies_incomplete.isnull()])"
   ]
  },
  {
   "cell_type": "code",
   "execution_count": 16,
   "metadata": {},
   "outputs": [
    {
     "name": "stdout",
     "output_type": "stream",
     "text": [
      "Data:\n",
      "Amazon      3352\n",
      "Alphabet     856\n",
      "Toyota       112\n",
      "GE            29\n",
      "Ford          12\n",
      "amazon      1000\n",
      " \n",
      "Object Type: Series\n",
      " \n"
     ]
    }
   ],
   "source": [
    "# Use the tilde to invert the logic\n",
    "# Printing only the companies where price is not null.\n",
    "print_data_and_type(companies_incomplete[~companies_incomplete.isnull()])"
   ]
  },
  {
   "cell_type": "markdown",
   "metadata": {},
   "source": [
    "#### Dataframes"
   ]
  },
  {
   "cell_type": "markdown",
   "metadata": {},
   "source": [
    "A dataframe is a tabular data structure that consists of rows and columns. \n",
    "Dataframe is nothing but a collection of series."
   ]
  },
  {
   "cell_type": "markdown",
   "metadata": {},
   "source": [
    "##### Let's create a dataframe using a dicitonary as shown below."
   ]
  },
  {
   "cell_type": "code",
   "execution_count": 17,
   "metadata": {},
   "outputs": [
    {
     "name": "stdout",
     "output_type": "stream",
     "text": [
      "Data:\n",
      "      Name  Founded   Price\n",
      "0   Amazon     1994  852.00\n",
      "1       GE     1923  111.20\n",
      "2   Toyota     1937  112.00\n",
      "3  Twitter     2006   15.20\n",
      "4     Ford     1903   12.50\n",
      "5  Marriot     1927   88.31\n",
      " \n",
      "Object Type: DataFrame\n",
      " \n"
     ]
    }
   ],
   "source": [
    "c1 = {\n",
    "    'Name': ['Amazon', 'GE', 'Toyota', 'Twitter', 'Ford', 'Marriot'],\n",
    "    'Founded': [1994, 1923, 1937, 2006, 1903, 1927], \n",
    "    'Price': [852, 111.2, 112, 15.2, 12.5, 88.31],\n",
    "    'Unused': [1, 2, 3, 4, 5, 6]\n",
    "}\n",
    "\n",
    "companies = pd.DataFrame(c1, columns=['Name', 'Founded', 'Price'])\n",
    "print_data_and_type(companies)"
   ]
  },
  {
   "cell_type": "code",
   "execution_count": 18,
   "metadata": {},
   "outputs": [
    {
     "name": "stdout",
     "output_type": "stream",
     "text": [
      "--------------------[Raw]---------------------\n",
      " \n",
      "Data:\n",
      "      Name  Founded   Price  Unused_1  Unused_2\n",
      "0   Amazon     1994  852.00         1        11\n",
      "1       GE     1923  111.20         2        12\n",
      "2   Toyota     1937  112.00         3        13\n",
      "3  Twitter     2006   15.20         4        14\n",
      "4     Ford     1903   12.50         5        15\n",
      "5  Marriot     1927   88.31         6        16\n",
      " \n",
      "Object Type: DataFrame\n",
      " \n",
      "-------------------[Clean]--------------------\n",
      " \n",
      "Data:\n",
      "      Name  Founded   Price\n",
      "0   Amazon     1994  852.00\n",
      "1       GE     1923  111.20\n",
      "2   Toyota     1937  112.00\n",
      "3  Twitter     2006   15.20\n",
      "4     Ford     1903   12.50\n",
      "5  Marriot     1927   88.31\n",
      " \n",
      "Object Type: DataFrame\n",
      " \n"
     ]
    }
   ],
   "source": [
    "c1 = {\n",
    "    'Name': ['Amazon', 'GE', 'Toyota', 'Twitter', 'Ford', 'Marriot'],\n",
    "    'Founded': [1994, 1923, 1937, 2006, 1903, 1927], \n",
    "    'Price': [852, 111.2, 112, 15.2, 12.5, 88.31],\n",
    "    'Unused_1': [ 1, 2, 3, 4, 5, 6],\n",
    "    'Unused_2': [11,12,13,14,15,16]\n",
    "}\n",
    "\n",
    "companies_raw = pd.DataFrame(c1)\n",
    "print_data_and_type(companies_raw, 'Raw')\n",
    "companies_clean = companies_raw.drop(['Unused_1','Unused_2'], axis=1)\n",
    "print_data_and_type(companies_clean, 'Clean')\n"
   ]
  },
  {
   "cell_type": "code",
   "execution_count": 19,
   "metadata": {},
   "outputs": [
    {
     "name": "stdout",
     "output_type": "stream",
     "text": [
      "------------------[Capitals]------------------\n",
      " \n",
      "Data:\n",
      "0    Sacramento\n",
      "1        Boston\n",
      "2        Austin\n",
      "3        Denver\n",
      "4       Phoenix\n",
      " \n",
      "Object Type: Series\n",
      " \n"
     ]
    }
   ],
   "source": [
    "capitals = [\"Sacramento\", \"Boston\", \"Austin\", \"Denver\", \"Phoenix\"]\n",
    "capseries = pd.Series(capitals)\n",
    "print_data_and_type(capseries, 'Capitals')\n"
   ]
  },
  {
   "cell_type": "code",
   "execution_count": 20,
   "metadata": {},
   "outputs": [
    {
     "name": "stdout",
     "output_type": "stream",
     "text": [
      "Data:\n",
      "CA    Sacramento\n",
      "MA        Boston\n",
      "TX        Austin\n",
      "CO        Denver\n",
      "AZ       Phoenix\n",
      " \n",
      "Object Type: Series\n",
      " \n"
     ]
    }
   ],
   "source": [
    "state = [\"CA\", \"MA\", \"TX\", \"CO\", \"AZ\"]\n",
    "capstate = pd.Series(capitals, index=state)\n",
    "print_data_and_type(capstate)\n"
   ]
  },
  {
   "cell_type": "code",
   "execution_count": 21,
   "metadata": {},
   "outputs": [
    {
     "name": "stdout",
     "output_type": "stream",
     "text": [
      "-----------------[Std Index]------------------\n",
      " \n",
      "Data:\n",
      "0    Springfield\n",
      "1         Austin\n",
      "2         Albany\n",
      "3     Sacramento\n",
      "4           WHAT\n",
      "5         WHAT_1\n",
      " \n",
      "Object Type: Series\n",
      " \n",
      " \n",
      "----------------[Custom Index]----------------\n",
      " \n",
      "Data:\n",
      "IL    Springfield\n",
      "TX         Austin\n",
      "NY         Albany\n",
      "CA     Sacramento\n",
      "W1           WHAT\n",
      "W2         WHAT_1\n",
      " \n",
      "Object Type: Series\n",
      " \n"
     ]
    }
   ],
   "source": [
    "capital_list = ['Springfield','Austin','Albany','Sacramento','WHAT','WHAT_1']\n",
    "list_1 = pd.Series(capital_list)\n",
    "print_data_and_type(list_1, 'Std Index')\n",
    "print(' ')\n",
    "# defining idx with indices\n",
    "idx = [\"IL\",\"TX\",\"NY\",\"CA\", \"W1\",\"W2\"]\n",
    "s_2 = pd.Series(capital_list, index = idx)\n",
    "print_data_and_type(s_2, 'Custom Index')"
   ]
  },
  {
   "cell_type": "markdown",
   "metadata": {},
   "source": [
    "## Reading files\n",
    "\n",
    "Using the dataset from: https://www.kaggle.com/deepmatrix/imdb-5000-movie-dataset\n",
    "\n",
    "Reading a csv file. "
   ]
  },
  {
   "cell_type": "code",
   "execution_count": 22,
   "metadata": {},
   "outputs": [
    {
     "data": {
      "text/html": [
       "<div>\n",
       "<style scoped>\n",
       "    .dataframe tbody tr th:only-of-type {\n",
       "        vertical-align: middle;\n",
       "    }\n",
       "\n",
       "    .dataframe tbody tr th {\n",
       "        vertical-align: top;\n",
       "    }\n",
       "\n",
       "    .dataframe thead th {\n",
       "        text-align: right;\n",
       "    }\n",
       "</style>\n",
       "<table border=\"1\" class=\"dataframe\">\n",
       "  <thead>\n",
       "    <tr style=\"text-align: right;\">\n",
       "      <th></th>\n",
       "      <th>color</th>\n",
       "      <th>director_name</th>\n",
       "      <th>num_critic_for_reviews</th>\n",
       "      <th>duration</th>\n",
       "      <th>director_facebook_likes</th>\n",
       "      <th>actor_3_facebook_likes</th>\n",
       "      <th>actor_2_name</th>\n",
       "      <th>actor_1_facebook_likes</th>\n",
       "      <th>gross</th>\n",
       "      <th>genres</th>\n",
       "      <th>...</th>\n",
       "      <th>num_user_for_reviews</th>\n",
       "      <th>language</th>\n",
       "      <th>country</th>\n",
       "      <th>content_rating</th>\n",
       "      <th>budget</th>\n",
       "      <th>title_year</th>\n",
       "      <th>actor_2_facebook_likes</th>\n",
       "      <th>imdb_score</th>\n",
       "      <th>aspect_ratio</th>\n",
       "      <th>movie_facebook_likes</th>\n",
       "    </tr>\n",
       "  </thead>\n",
       "  <tbody>\n",
       "    <tr>\n",
       "      <th>0</th>\n",
       "      <td>Color</td>\n",
       "      <td>James Cameron</td>\n",
       "      <td>723.0</td>\n",
       "      <td>178.0</td>\n",
       "      <td>0.0</td>\n",
       "      <td>855.0</td>\n",
       "      <td>Joel David Moore</td>\n",
       "      <td>1000.0</td>\n",
       "      <td>760505847.0</td>\n",
       "      <td>Action|Adventure|Fantasy|Sci-Fi</td>\n",
       "      <td>...</td>\n",
       "      <td>3054.0</td>\n",
       "      <td>English</td>\n",
       "      <td>USA</td>\n",
       "      <td>PG-13</td>\n",
       "      <td>237000000.0</td>\n",
       "      <td>2009.0</td>\n",
       "      <td>936.0</td>\n",
       "      <td>7.9</td>\n",
       "      <td>1.78</td>\n",
       "      <td>33000</td>\n",
       "    </tr>\n",
       "    <tr>\n",
       "      <th>1</th>\n",
       "      <td>Color</td>\n",
       "      <td>Gore Verbinski</td>\n",
       "      <td>302.0</td>\n",
       "      <td>169.0</td>\n",
       "      <td>563.0</td>\n",
       "      <td>1000.0</td>\n",
       "      <td>Orlando Bloom</td>\n",
       "      <td>40000.0</td>\n",
       "      <td>309404152.0</td>\n",
       "      <td>Action|Adventure|Fantasy</td>\n",
       "      <td>...</td>\n",
       "      <td>1238.0</td>\n",
       "      <td>English</td>\n",
       "      <td>USA</td>\n",
       "      <td>PG-13</td>\n",
       "      <td>300000000.0</td>\n",
       "      <td>2007.0</td>\n",
       "      <td>5000.0</td>\n",
       "      <td>7.1</td>\n",
       "      <td>2.35</td>\n",
       "      <td>0</td>\n",
       "    </tr>\n",
       "    <tr>\n",
       "      <th>2</th>\n",
       "      <td>Color</td>\n",
       "      <td>Sam Mendes</td>\n",
       "      <td>602.0</td>\n",
       "      <td>148.0</td>\n",
       "      <td>0.0</td>\n",
       "      <td>161.0</td>\n",
       "      <td>Rory Kinnear</td>\n",
       "      <td>11000.0</td>\n",
       "      <td>200074175.0</td>\n",
       "      <td>Action|Adventure|Thriller</td>\n",
       "      <td>...</td>\n",
       "      <td>994.0</td>\n",
       "      <td>English</td>\n",
       "      <td>UK</td>\n",
       "      <td>PG-13</td>\n",
       "      <td>245000000.0</td>\n",
       "      <td>2015.0</td>\n",
       "      <td>393.0</td>\n",
       "      <td>6.8</td>\n",
       "      <td>2.35</td>\n",
       "      <td>85000</td>\n",
       "    </tr>\n",
       "    <tr>\n",
       "      <th>3</th>\n",
       "      <td>Color</td>\n",
       "      <td>Christopher Nolan</td>\n",
       "      <td>813.0</td>\n",
       "      <td>164.0</td>\n",
       "      <td>22000.0</td>\n",
       "      <td>23000.0</td>\n",
       "      <td>Christian Bale</td>\n",
       "      <td>27000.0</td>\n",
       "      <td>448130642.0</td>\n",
       "      <td>Action|Thriller</td>\n",
       "      <td>...</td>\n",
       "      <td>2701.0</td>\n",
       "      <td>English</td>\n",
       "      <td>USA</td>\n",
       "      <td>PG-13</td>\n",
       "      <td>250000000.0</td>\n",
       "      <td>2012.0</td>\n",
       "      <td>23000.0</td>\n",
       "      <td>8.5</td>\n",
       "      <td>2.35</td>\n",
       "      <td>164000</td>\n",
       "    </tr>\n",
       "    <tr>\n",
       "      <th>4</th>\n",
       "      <td>NaN</td>\n",
       "      <td>Doug Walker</td>\n",
       "      <td>NaN</td>\n",
       "      <td>NaN</td>\n",
       "      <td>131.0</td>\n",
       "      <td>NaN</td>\n",
       "      <td>Rob Walker</td>\n",
       "      <td>131.0</td>\n",
       "      <td>NaN</td>\n",
       "      <td>Documentary</td>\n",
       "      <td>...</td>\n",
       "      <td>NaN</td>\n",
       "      <td>NaN</td>\n",
       "      <td>NaN</td>\n",
       "      <td>NaN</td>\n",
       "      <td>NaN</td>\n",
       "      <td>NaN</td>\n",
       "      <td>12.0</td>\n",
       "      <td>7.1</td>\n",
       "      <td>NaN</td>\n",
       "      <td>0</td>\n",
       "    </tr>\n",
       "  </tbody>\n",
       "</table>\n",
       "<p>5 rows × 28 columns</p>\n",
       "</div>"
      ],
      "text/plain": [
       "   color      director_name  num_critic_for_reviews  duration  \\\n",
       "0  Color      James Cameron                   723.0     178.0   \n",
       "1  Color     Gore Verbinski                   302.0     169.0   \n",
       "2  Color         Sam Mendes                   602.0     148.0   \n",
       "3  Color  Christopher Nolan                   813.0     164.0   \n",
       "4    NaN        Doug Walker                     NaN       NaN   \n",
       "\n",
       "   director_facebook_likes  actor_3_facebook_likes      actor_2_name  \\\n",
       "0                      0.0                   855.0  Joel David Moore   \n",
       "1                    563.0                  1000.0     Orlando Bloom   \n",
       "2                      0.0                   161.0      Rory Kinnear   \n",
       "3                  22000.0                 23000.0    Christian Bale   \n",
       "4                    131.0                     NaN        Rob Walker   \n",
       "\n",
       "   actor_1_facebook_likes        gross                           genres  ...  \\\n",
       "0                  1000.0  760505847.0  Action|Adventure|Fantasy|Sci-Fi  ...   \n",
       "1                 40000.0  309404152.0         Action|Adventure|Fantasy  ...   \n",
       "2                 11000.0  200074175.0        Action|Adventure|Thriller  ...   \n",
       "3                 27000.0  448130642.0                  Action|Thriller  ...   \n",
       "4                   131.0          NaN                      Documentary  ...   \n",
       "\n",
       "  num_user_for_reviews language  country  content_rating       budget  \\\n",
       "0               3054.0  English      USA           PG-13  237000000.0   \n",
       "1               1238.0  English      USA           PG-13  300000000.0   \n",
       "2                994.0  English       UK           PG-13  245000000.0   \n",
       "3               2701.0  English      USA           PG-13  250000000.0   \n",
       "4                  NaN      NaN      NaN             NaN          NaN   \n",
       "\n",
       "   title_year actor_2_facebook_likes imdb_score  aspect_ratio  \\\n",
       "0      2009.0                  936.0        7.9          1.78   \n",
       "1      2007.0                 5000.0        7.1          2.35   \n",
       "2      2015.0                  393.0        6.8          2.35   \n",
       "3      2012.0                23000.0        8.5          2.35   \n",
       "4         NaN                   12.0        7.1           NaN   \n",
       "\n",
       "  movie_facebook_likes  \n",
       "0                33000  \n",
       "1                    0  \n",
       "2                85000  \n",
       "3               164000  \n",
       "4                    0  \n",
       "\n",
       "[5 rows x 28 columns]"
      ]
     },
     "execution_count": 22,
     "metadata": {},
     "output_type": "execute_result"
    }
   ],
   "source": [
    "movies = pd.read_csv('data/imdb_movie/movie_metadata.csv')\n",
    "movies.head()"
   ]
  },
  {
   "cell_type": "code",
   "execution_count": 23,
   "metadata": {},
   "outputs": [
    {
     "name": "stdout",
     "output_type": "stream",
     "text": [
      "The variable \"movies\" is a DataFrame\n"
     ]
    }
   ],
   "source": [
    "print_name_type(movies)"
   ]
  },
  {
   "cell_type": "code",
   "execution_count": 24,
   "metadata": {},
   "outputs": [
    {
     "name": "stdout",
     "output_type": "stream",
     "text": [
      "-- Columns --\n",
      " color\n",
      " director_name\n",
      " num_critic_for_reviews\n",
      " duration\n",
      " director_facebook_likes\n",
      " actor_3_facebook_likes\n",
      " actor_2_name\n",
      " actor_1_facebook_likes\n",
      " gross\n",
      " genres\n",
      " actor_1_name\n",
      " movie_title\n",
      " num_voted_users\n",
      " cast_total_facebook_likes\n",
      " actor_3_name\n",
      " facenumber_in_poster\n",
      " plot_keywords\n",
      " movie_imdb_link\n",
      " num_user_for_reviews\n",
      " language\n",
      " country\n",
      " content_rating\n",
      " budget\n",
      " title_year\n",
      " actor_2_facebook_likes\n",
      " imdb_score\n",
      " aspect_ratio\n",
      " movie_facebook_likes\n"
     ]
    }
   ],
   "source": [
    "# Getting the list of columns and printing them manually.\n",
    "# We have a helper function for that.\n",
    "print_columns(movies)\n",
    "#\n",
    "# Or you can use the code below:\n",
    "#\n",
    "# column_names = movies.columns\n",
    "# for column in column_names:\n",
    "#     print(column)"
   ]
  },
  {
   "cell_type": "code",
   "execution_count": 25,
   "metadata": {},
   "outputs": [
    {
     "name": "stdout",
     "output_type": "stream",
     "text": [
      "The variable \"movies_gr\" is a DataFrame\n"
     ]
    },
    {
     "data": {
      "text/html": [
       "<div>\n",
       "<style scoped>\n",
       "    .dataframe tbody tr th:only-of-type {\n",
       "        vertical-align: middle;\n",
       "    }\n",
       "\n",
       "    .dataframe tbody tr th {\n",
       "        vertical-align: top;\n",
       "    }\n",
       "\n",
       "    .dataframe thead th {\n",
       "        text-align: right;\n",
       "    }\n",
       "</style>\n",
       "<table border=\"1\" class=\"dataframe\">\n",
       "  <thead>\n",
       "    <tr style=\"text-align: right;\">\n",
       "      <th></th>\n",
       "      <th>aspect_ratio</th>\n",
       "    </tr>\n",
       "  </thead>\n",
       "  <tbody>\n",
       "    <tr>\n",
       "      <th>0</th>\n",
       "      <td>1.78</td>\n",
       "    </tr>\n",
       "    <tr>\n",
       "      <th>1</th>\n",
       "      <td>2.35</td>\n",
       "    </tr>\n",
       "    <tr>\n",
       "      <th>2</th>\n",
       "      <td>2.35</td>\n",
       "    </tr>\n",
       "    <tr>\n",
       "      <th>3</th>\n",
       "      <td>2.35</td>\n",
       "    </tr>\n",
       "    <tr>\n",
       "      <th>4</th>\n",
       "      <td>NaN</td>\n",
       "    </tr>\n",
       "    <tr>\n",
       "      <th>5</th>\n",
       "      <td>2.35</td>\n",
       "    </tr>\n",
       "    <tr>\n",
       "      <th>6</th>\n",
       "      <td>2.35</td>\n",
       "    </tr>\n",
       "    <tr>\n",
       "      <th>7</th>\n",
       "      <td>1.85</td>\n",
       "    </tr>\n",
       "  </tbody>\n",
       "</table>\n",
       "</div>"
      ],
      "text/plain": [
       "   aspect_ratio\n",
       "0          1.78\n",
       "1          2.35\n",
       "2          2.35\n",
       "3          2.35\n",
       "4           NaN\n",
       "5          2.35\n",
       "6          2.35\n",
       "7          1.85"
      ]
     },
     "execution_count": 25,
     "metadata": {},
     "output_type": "execute_result"
    }
   ],
   "source": [
    "# You can use the head function from Dataframes to show top X records\n",
    "movies_gr = movies[['aspect_ratio']]\n",
    "print_name_type(movies_gr)\n",
    "movies_gr.head(8)"
   ]
  },
  {
   "cell_type": "code",
   "execution_count": 26,
   "metadata": {},
   "outputs": [
    {
     "name": "stdout",
     "output_type": "stream",
     "text": [
      "---------------[Counts grouped]---------------\n",
      " \n",
      "Data:\n",
      "aspect_ratio\n",
      "1.18        1\n",
      "1.20        1\n",
      "1.33       68\n",
      "1.37      100\n",
      "1.44        1\n",
      "1.50        2\n",
      "1.66       64\n",
      "1.75        3\n",
      "1.77        1\n",
      "1.78      110\n",
      "1.85     1906\n",
      "1.89        1\n",
      "2.00        5\n",
      "2.20       15\n",
      "2.24        1\n",
      "2.35     2360\n",
      "2.39       15\n",
      "2.40        3\n",
      "2.55        2\n",
      "2.76        3\n",
      "4.00        7\n",
      "16.00      45\n",
      " \n",
      "Object Type: Series\n",
      " \n",
      "---------------[Framed counts]----------------\n",
      " \n",
      "Data:\n",
      "                 0\n",
      "aspect_ratio      \n",
      "1.18             1\n",
      "1.20             1\n",
      "1.33            68\n",
      "1.37           100\n",
      "1.44             1\n",
      "1.50             2\n",
      "1.66            64\n",
      "1.75             3\n",
      "1.77             1\n",
      "1.78           110\n",
      "1.85          1906\n",
      "1.89             1\n",
      "2.00             5\n",
      "2.20            15\n",
      "2.24             1\n",
      "2.35          2360\n",
      "2.39            15\n",
      "2.40             3\n",
      "2.55             2\n",
      "2.76             3\n",
      "4.00             7\n",
      "16.00           45\n",
      " \n",
      "Object Type: DataFrame\n",
      " \n"
     ]
    }
   ],
   "source": [
    "# Group and count\n",
    "counts = movies_gr.groupby('aspect_ratio').size()\n",
    "print_data_and_type(counts, 'Counts grouped')\n",
    "framed_counts = counts.to_frame()\n",
    "print_data_and_type(framed_counts, 'Framed counts')"
   ]
  },
  {
   "cell_type": "code",
   "execution_count": 113,
   "metadata": {},
   "outputs": [
    {
     "data": {
      "text/plain": [
       "pandas.core.series.Series"
      ]
     },
     "execution_count": 113,
     "metadata": {},
     "output_type": "execute_result"
    }
   ],
   "source": [
    "# Doing the grouping and sorting at the same time.\n",
    "counts = movies_gr.groupby('aspect_ratio').size().sort_values(ascending=False)\n",
    "# counts.reset_index(inplace=True, drop=True)\n",
    "# counts.reset_index(inplace=True)\n",
    "type(counts)"
   ]
  },
  {
   "cell_type": "code",
   "execution_count": 126,
   "metadata": {},
   "outputs": [
    {
     "data": {
      "text/html": [
       "<div>\n",
       "<style scoped>\n",
       "    .dataframe tbody tr th:only-of-type {\n",
       "        vertical-align: middle;\n",
       "    }\n",
       "\n",
       "    .dataframe tbody tr th {\n",
       "        vertical-align: top;\n",
       "    }\n",
       "\n",
       "    .dataframe thead th {\n",
       "        text-align: right;\n",
       "    }\n",
       "</style>\n",
       "<table border=\"1\" class=\"dataframe\">\n",
       "  <thead>\n",
       "    <tr style=\"text-align: right;\">\n",
       "      <th></th>\n",
       "      <th>Aspect Ratio</th>\n",
       "      <th>Counts</th>\n",
       "    </tr>\n",
       "  </thead>\n",
       "  <tbody>\n",
       "    <tr>\n",
       "      <th>0</th>\n",
       "      <td>2.35</td>\n",
       "      <td>2360</td>\n",
       "    </tr>\n",
       "    <tr>\n",
       "      <th>1</th>\n",
       "      <td>1.85</td>\n",
       "      <td>1906</td>\n",
       "    </tr>\n",
       "    <tr>\n",
       "      <th>2</th>\n",
       "      <td>1.78</td>\n",
       "      <td>110</td>\n",
       "    </tr>\n",
       "    <tr>\n",
       "      <th>3</th>\n",
       "      <td>1.37</td>\n",
       "      <td>100</td>\n",
       "    </tr>\n",
       "    <tr>\n",
       "      <th>4</th>\n",
       "      <td>1.33</td>\n",
       "      <td>68</td>\n",
       "    </tr>\n",
       "  </tbody>\n",
       "</table>\n",
       "</div>"
      ],
      "text/plain": [
       "   Aspect Ratio  Counts\n",
       "0          2.35    2360\n",
       "1          1.85    1906\n",
       "2          1.78     110\n",
       "3          1.37     100\n",
       "4          1.33      68"
      ]
     },
     "execution_count": 126,
     "metadata": {},
     "output_type": "execute_result"
    }
   ],
   "source": [
    "# Converting to Dataframe\n",
    "counts_df = counts.to_frame()\n",
    "counts_df.reset_index(inplace=True)\n",
    "counts_df.columns = ['Aspect Ratio', 'Counts'] \n",
    "counts_df.head()"
   ]
  },
  {
   "cell_type": "code",
   "execution_count": 123,
   "metadata": {},
   "outputs": [
    {
     "data": {
      "text/plain": [
       "pandas.core.frame.DataFrame"
      ]
     },
     "execution_count": 123,
     "metadata": {},
     "output_type": "execute_result"
    }
   ],
   "source": [
    "type(counts_df)"
   ]
  },
  {
   "cell_type": "code",
   "execution_count": 131,
   "metadata": {},
   "outputs": [
    {
     "name": "stdout",
     "output_type": "stream",
     "text": [
      "Rows : 5043\n",
      "Cols :   28\n"
     ]
    }
   ],
   "source": [
    "# The 'shape' field contains a tuple with (num_rows, num_cols).\n",
    "num_rows, num_cols = movies.shape\n",
    "print('Rows : {0:>4}'.format(num_rows))\n",
    "print('Cols : {0:>4}'.format(num_cols))"
   ]
  },
  {
   "cell_type": "markdown",
   "metadata": {},
   "source": [
    "We can create a series from the movies dataframe. "
   ]
  },
  {
   "cell_type": "code",
   "execution_count": 130,
   "metadata": {},
   "outputs": [
    {
     "name": "stdout",
     "output_type": "stream",
     "text": [
      "Data:\n",
      "0           James Cameron\n",
      "1          Gore Verbinski\n",
      "2              Sam Mendes\n",
      "3       Christopher Nolan\n",
      "4             Doug Walker\n",
      "              ...        \n",
      "5038          Scott Smith\n",
      "5039                  NaN\n",
      "5040     Benjamin Roberds\n",
      "5041          Daniel Hsia\n",
      "5042             Jon Gunn\n",
      " \n",
      "Object Type: Series\n",
      " \n"
     ]
    }
   ],
   "source": [
    "movies_dir = movies['director_name']\n",
    "print_data_and_type(movies_dir)"
   ]
  },
  {
   "cell_type": "markdown",
   "metadata": {},
   "source": [
    "#### A derived dataframe with columns: movie_title, duration, budget, gross, genres, director_name."
   ]
  },
  {
   "cell_type": "code",
   "execution_count": 32,
   "metadata": {},
   "outputs": [
    {
     "data": {
      "text/html": [
       "<div>\n",
       "<style scoped>\n",
       "    .dataframe tbody tr th:only-of-type {\n",
       "        vertical-align: middle;\n",
       "    }\n",
       "\n",
       "    .dataframe tbody tr th {\n",
       "        vertical-align: top;\n",
       "    }\n",
       "\n",
       "    .dataframe thead th {\n",
       "        text-align: right;\n",
       "    }\n",
       "</style>\n",
       "<table border=\"1\" class=\"dataframe\">\n",
       "  <thead>\n",
       "    <tr style=\"text-align: right;\">\n",
       "      <th></th>\n",
       "      <th>movie_title</th>\n",
       "      <th>duration</th>\n",
       "      <th>budget</th>\n",
       "      <th>gross</th>\n",
       "      <th>genres</th>\n",
       "      <th>director_name</th>\n",
       "    </tr>\n",
       "  </thead>\n",
       "  <tbody>\n",
       "    <tr>\n",
       "      <th>0</th>\n",
       "      <td>Avatar</td>\n",
       "      <td>178.0</td>\n",
       "      <td>237000000.0</td>\n",
       "      <td>760505847.0</td>\n",
       "      <td>Action|Adventure|Fantasy|Sci-Fi</td>\n",
       "      <td>James Cameron</td>\n",
       "    </tr>\n",
       "    <tr>\n",
       "      <th>1</th>\n",
       "      <td>Pirates of the Caribbean: At World's End</td>\n",
       "      <td>169.0</td>\n",
       "      <td>300000000.0</td>\n",
       "      <td>309404152.0</td>\n",
       "      <td>Action|Adventure|Fantasy</td>\n",
       "      <td>Gore Verbinski</td>\n",
       "    </tr>\n",
       "    <tr>\n",
       "      <th>2</th>\n",
       "      <td>Spectre</td>\n",
       "      <td>148.0</td>\n",
       "      <td>245000000.0</td>\n",
       "      <td>200074175.0</td>\n",
       "      <td>Action|Adventure|Thriller</td>\n",
       "      <td>Sam Mendes</td>\n",
       "    </tr>\n",
       "  </tbody>\n",
       "</table>\n",
       "</div>"
      ],
      "text/plain": [
       "                                 movie_title  duration       budget  \\\n",
       "0                                    Avatar      178.0  237000000.0   \n",
       "1  Pirates of the Caribbean: At World's End      169.0  300000000.0   \n",
       "2                                   Spectre      148.0  245000000.0   \n",
       "\n",
       "         gross                           genres   director_name  \n",
       "0  760505847.0  Action|Adventure|Fantasy|Sci-Fi   James Cameron  \n",
       "1  309404152.0         Action|Adventure|Fantasy  Gore Verbinski  \n",
       "2  200074175.0        Action|Adventure|Thriller      Sam Mendes  "
      ]
     },
     "execution_count": 32,
     "metadata": {},
     "output_type": "execute_result"
    }
   ],
   "source": [
    "slim_movies_raw = movies[\n",
    "    ['movie_title', 'duration', 'budget', 'gross', \n",
    "     'genres', 'director_name']]\n",
    "slim_movies_raw.head(3)"
   ]
  },
  {
   "cell_type": "code",
   "execution_count": 33,
   "metadata": {},
   "outputs": [
    {
     "data": {
      "text/plain": [
       "(5043, 6)"
      ]
     },
     "execution_count": 33,
     "metadata": {},
     "output_type": "execute_result"
    }
   ],
   "source": [
    "slim_movies_raw.shape"
   ]
  },
  {
   "cell_type": "markdown",
   "metadata": {},
   "source": [
    "We can separate the genre string into an array of values"
   ]
  },
  {
   "cell_type": "code",
   "execution_count": 34,
   "metadata": {},
   "outputs": [
    {
     "name": "stdout",
     "output_type": "stream",
     "text": [
      "genre_series=(5043,)\n"
     ]
    },
    {
     "data": {
      "text/html": [
       "<div>\n",
       "<style scoped>\n",
       "    .dataframe tbody tr th:only-of-type {\n",
       "        vertical-align: middle;\n",
       "    }\n",
       "\n",
       "    .dataframe tbody tr th {\n",
       "        vertical-align: top;\n",
       "    }\n",
       "\n",
       "    .dataframe thead th {\n",
       "        text-align: right;\n",
       "    }\n",
       "</style>\n",
       "<table border=\"1\" class=\"dataframe\">\n",
       "  <thead>\n",
       "    <tr style=\"text-align: right;\">\n",
       "      <th></th>\n",
       "      <th>movie_title</th>\n",
       "      <th>duration</th>\n",
       "      <th>budget</th>\n",
       "      <th>gross</th>\n",
       "      <th>genres</th>\n",
       "      <th>director_name</th>\n",
       "    </tr>\n",
       "  </thead>\n",
       "  <tbody>\n",
       "    <tr>\n",
       "      <th>0</th>\n",
       "      <td>Avatar</td>\n",
       "      <td>178.0</td>\n",
       "      <td>237000000.0</td>\n",
       "      <td>760505847.0</td>\n",
       "      <td>[Action, Adventure, Fantasy, Sci-Fi]</td>\n",
       "      <td>James Cameron</td>\n",
       "    </tr>\n",
       "    <tr>\n",
       "      <th>1</th>\n",
       "      <td>Pirates of the Caribbean: At World's End</td>\n",
       "      <td>169.0</td>\n",
       "      <td>300000000.0</td>\n",
       "      <td>309404152.0</td>\n",
       "      <td>[Action, Adventure, Fantasy]</td>\n",
       "      <td>Gore Verbinski</td>\n",
       "    </tr>\n",
       "    <tr>\n",
       "      <th>2</th>\n",
       "      <td>Spectre</td>\n",
       "      <td>148.0</td>\n",
       "      <td>245000000.0</td>\n",
       "      <td>200074175.0</td>\n",
       "      <td>[Action, Adventure, Thriller]</td>\n",
       "      <td>Sam Mendes</td>\n",
       "    </tr>\n",
       "  </tbody>\n",
       "</table>\n",
       "</div>"
      ],
      "text/plain": [
       "                                 movie_title  duration       budget  \\\n",
       "0                                    Avatar      178.0  237000000.0   \n",
       "1  Pirates of the Caribbean: At World's End      169.0  300000000.0   \n",
       "2                                   Spectre      148.0  245000000.0   \n",
       "\n",
       "         gross                                genres   director_name  \n",
       "0  760505847.0  [Action, Adventure, Fantasy, Sci-Fi]   James Cameron  \n",
       "1  309404152.0          [Action, Adventure, Fantasy]  Gore Verbinski  \n",
       "2  200074175.0         [Action, Adventure, Thriller]      Sam Mendes  "
      ]
     },
     "execution_count": 34,
     "metadata": {},
     "output_type": "execute_result"
    }
   ],
   "source": [
    "genre_series = slim_movies_raw['genres'].str.split('|')\n",
    "slim_movies = slim_movies_raw.copy()\n",
    "print('genre_series={0}'.format(genre_series.shape))\n",
    "slim_movies = slim_movies.assign(genres=genre_series)\n",
    "slim_movies.head(3)"
   ]
  },
  {
   "cell_type": "markdown",
   "metadata": {},
   "source": [
    "We can use sort_values() to sort a dataframe."
   ]
  },
  {
   "cell_type": "code",
   "execution_count": 132,
   "metadata": {
    "tags": []
   },
   "outputs": [
    {
     "data": {
      "text/html": [
       "<div>\n",
       "<style scoped>\n",
       "    .dataframe tbody tr th:only-of-type {\n",
       "        vertical-align: middle;\n",
       "    }\n",
       "\n",
       "    .dataframe tbody tr th {\n",
       "        vertical-align: top;\n",
       "    }\n",
       "\n",
       "    .dataframe thead th {\n",
       "        text-align: right;\n",
       "    }\n",
       "</style>\n",
       "<table border=\"1\" class=\"dataframe\">\n",
       "  <thead>\n",
       "    <tr style=\"text-align: right;\">\n",
       "      <th></th>\n",
       "      <th>movie_title</th>\n",
       "      <th>duration</th>\n",
       "      <th>budget</th>\n",
       "      <th>gross</th>\n",
       "      <th>genres</th>\n",
       "      <th>director_name</th>\n",
       "    </tr>\n",
       "  </thead>\n",
       "  <tbody>\n",
       "    <tr>\n",
       "      <th>4447</th>\n",
       "      <td>#Horror</td>\n",
       "      <td>101.0</td>\n",
       "      <td>1500000.0</td>\n",
       "      <td>NaN</td>\n",
       "      <td>[Drama, Horror, Mystery, Thriller]</td>\n",
       "      <td>Tara Subkoff</td>\n",
       "    </tr>\n",
       "    <tr>\n",
       "      <th>3698</th>\n",
       "      <td>10 Cloverfield Lane</td>\n",
       "      <td>104.0</td>\n",
       "      <td>15000000.0</td>\n",
       "      <td>71897215.0</td>\n",
       "      <td>[Drama, Horror, Mystery, Sci-Fi, Thriller]</td>\n",
       "      <td>Dan Trachtenberg</td>\n",
       "    </tr>\n",
       "    <tr>\n",
       "      <th>3015</th>\n",
       "      <td>10 Days in a Madhouse</td>\n",
       "      <td>111.0</td>\n",
       "      <td>12000000.0</td>\n",
       "      <td>14616.0</td>\n",
       "      <td>[Drama]</td>\n",
       "      <td>Timothy Hines</td>\n",
       "    </tr>\n",
       "    <tr>\n",
       "      <th>2845</th>\n",
       "      <td>10 Things I Hate About You</td>\n",
       "      <td>97.0</td>\n",
       "      <td>16000000.0</td>\n",
       "      <td>38176108.0</td>\n",
       "      <td>[Comedy, Drama, Romance]</td>\n",
       "      <td>Gil Junger</td>\n",
       "    </tr>\n",
       "    <tr>\n",
       "      <th>279</th>\n",
       "      <td>10,000 B.C.</td>\n",
       "      <td>22.0</td>\n",
       "      <td>NaN</td>\n",
       "      <td>NaN</td>\n",
       "      <td>[Comedy]</td>\n",
       "      <td>Christopher Barnard</td>\n",
       "    </tr>\n",
       "  </tbody>\n",
       "</table>\n",
       "</div>"
      ],
      "text/plain": [
       "                      movie_title  duration      budget       gross  \\\n",
       "4447                     #Horror      101.0   1500000.0         NaN   \n",
       "3698         10 Cloverfield Lane      104.0  15000000.0  71897215.0   \n",
       "3015       10 Days in a Madhouse      111.0  12000000.0     14616.0   \n",
       "2845  10 Things I Hate About You       97.0  16000000.0  38176108.0   \n",
       "279      10,000 B.C.                   22.0         NaN         NaN   \n",
       "\n",
       "                                          genres        director_name  \n",
       "4447          [Drama, Horror, Mystery, Thriller]         Tara Subkoff  \n",
       "3698  [Drama, Horror, Mystery, Sci-Fi, Thriller]     Dan Trachtenberg  \n",
       "3015                                     [Drama]        Timothy Hines  \n",
       "2845                    [Comedy, Drama, Romance]           Gil Junger  \n",
       "279                                     [Comedy]  Christopher Barnard  "
      ]
     },
     "execution_count": 132,
     "metadata": {},
     "output_type": "execute_result"
    }
   ],
   "source": [
    "sorted_movies = slim_movies.sort_values('movie_title')\n",
    "sorted_movies.head(5)"
   ]
  },
  {
   "cell_type": "markdown",
   "metadata": {},
   "source": [
    "Notice that not all numeric values in our data frame are valid. \n",
    "\n",
    "Pands represents these values with a special constant 'NaN' that means 'Not a number'\n",
    "\n",
    "We want to drop rows that have a NaN in any column. "
   ]
  },
  {
   "cell_type": "code",
   "execution_count": 72,
   "metadata": {},
   "outputs": [
    {
     "name": "stdout",
     "output_type": "stream",
     "text": [
      "Shape: (3890, 6)\n"
     ]
    },
    {
     "data": {
      "text/html": [
       "<div>\n",
       "<style scoped>\n",
       "    .dataframe tbody tr th:only-of-type {\n",
       "        vertical-align: middle;\n",
       "    }\n",
       "\n",
       "    .dataframe tbody tr th {\n",
       "        vertical-align: top;\n",
       "    }\n",
       "\n",
       "    .dataframe thead th {\n",
       "        text-align: right;\n",
       "    }\n",
       "</style>\n",
       "<table border=\"1\" class=\"dataframe\">\n",
       "  <thead>\n",
       "    <tr style=\"text-align: right;\">\n",
       "      <th></th>\n",
       "      <th>movie_title</th>\n",
       "      <th>duration</th>\n",
       "      <th>budget</th>\n",
       "      <th>gross</th>\n",
       "      <th>genres</th>\n",
       "      <th>director_name</th>\n",
       "    </tr>\n",
       "  </thead>\n",
       "  <tbody>\n",
       "    <tr>\n",
       "      <th>0</th>\n",
       "      <td>Avatar</td>\n",
       "      <td>178.0</td>\n",
       "      <td>237000000.0</td>\n",
       "      <td>760505847.0</td>\n",
       "      <td>[Action, Adventure, Fantasy, Sci-Fi]</td>\n",
       "      <td>James Cameron</td>\n",
       "    </tr>\n",
       "    <tr>\n",
       "      <th>1</th>\n",
       "      <td>Pirates of the Caribbean: At World's End</td>\n",
       "      <td>169.0</td>\n",
       "      <td>300000000.0</td>\n",
       "      <td>309404152.0</td>\n",
       "      <td>[Action, Adventure, Fantasy]</td>\n",
       "      <td>Gore Verbinski</td>\n",
       "    </tr>\n",
       "    <tr>\n",
       "      <th>2</th>\n",
       "      <td>Spectre</td>\n",
       "      <td>148.0</td>\n",
       "      <td>245000000.0</td>\n",
       "      <td>200074175.0</td>\n",
       "      <td>[Action, Adventure, Thriller]</td>\n",
       "      <td>Sam Mendes</td>\n",
       "    </tr>\n",
       "    <tr>\n",
       "      <th>3</th>\n",
       "      <td>The Dark Knight Rises</td>\n",
       "      <td>164.0</td>\n",
       "      <td>250000000.0</td>\n",
       "      <td>448130642.0</td>\n",
       "      <td>[Action, Thriller]</td>\n",
       "      <td>Christopher Nolan</td>\n",
       "    </tr>\n",
       "    <tr>\n",
       "      <th>5</th>\n",
       "      <td>John Carter</td>\n",
       "      <td>132.0</td>\n",
       "      <td>263700000.0</td>\n",
       "      <td>73058679.0</td>\n",
       "      <td>[Action, Adventure, Sci-Fi]</td>\n",
       "      <td>Andrew Stanton</td>\n",
       "    </tr>\n",
       "  </tbody>\n",
       "</table>\n",
       "</div>"
      ],
      "text/plain": [
       "                                 movie_title  duration       budget  \\\n",
       "0                                    Avatar      178.0  237000000.0   \n",
       "1  Pirates of the Caribbean: At World's End      169.0  300000000.0   \n",
       "2                                   Spectre      148.0  245000000.0   \n",
       "3                     The Dark Knight Rises      164.0  250000000.0   \n",
       "5                               John Carter      132.0  263700000.0   \n",
       "\n",
       "         gross                                genres      director_name  \n",
       "0  760505847.0  [Action, Adventure, Fantasy, Sci-Fi]      James Cameron  \n",
       "1  309404152.0          [Action, Adventure, Fantasy]     Gore Verbinski  \n",
       "2  200074175.0         [Action, Adventure, Thriller]         Sam Mendes  \n",
       "3  448130642.0                    [Action, Thriller]  Christopher Nolan  \n",
       "5   73058679.0           [Action, Adventure, Sci-Fi]     Andrew Stanton  "
      ]
     },
     "execution_count": 72,
     "metadata": {},
     "output_type": "execute_result"
    }
   ],
   "source": [
    "movies_no_nulls = slim_movies.copy(deep=True)\n",
    "movies_no_nulls.dropna(how='any', inplace=True)\n",
    "print_shape(movies_no_nulls)\n",
    "movies_no_nulls.head()"
   ]
  },
  {
   "cell_type": "markdown",
   "metadata": {},
   "source": [
    "Notice the number of rows now is smaller (3890 instead of 5043)\n"
   ]
  },
  {
   "cell_type": "code",
   "execution_count": 36,
   "metadata": {},
   "outputs": [
    {
     "name": "stdout",
     "output_type": "stream",
     "text": [
      "Shape: (4546, 6)\n"
     ]
    },
    {
     "data": {
      "text/html": [
       "<div>\n",
       "<style scoped>\n",
       "    .dataframe tbody tr th:only-of-type {\n",
       "        vertical-align: middle;\n",
       "    }\n",
       "\n",
       "    .dataframe tbody tr th {\n",
       "        vertical-align: top;\n",
       "    }\n",
       "\n",
       "    .dataframe thead th {\n",
       "        text-align: right;\n",
       "    }\n",
       "</style>\n",
       "<table border=\"1\" class=\"dataframe\">\n",
       "  <thead>\n",
       "    <tr style=\"text-align: right;\">\n",
       "      <th></th>\n",
       "      <th>movie_title</th>\n",
       "      <th>duration</th>\n",
       "      <th>budget</th>\n",
       "      <th>gross</th>\n",
       "      <th>genres</th>\n",
       "      <th>director_name</th>\n",
       "    </tr>\n",
       "  </thead>\n",
       "  <tbody>\n",
       "    <tr>\n",
       "      <th>0</th>\n",
       "      <td>Avatar</td>\n",
       "      <td>178.0</td>\n",
       "      <td>237000000.0</td>\n",
       "      <td>760505847.0</td>\n",
       "      <td>Action|Adventure|Fantasy|Sci-Fi</td>\n",
       "      <td>James Cameron</td>\n",
       "    </tr>\n",
       "    <tr>\n",
       "      <th>1</th>\n",
       "      <td>Pirates of the Caribbean: At World's End</td>\n",
       "      <td>169.0</td>\n",
       "      <td>300000000.0</td>\n",
       "      <td>309404152.0</td>\n",
       "      <td>Action|Adventure|Fantasy</td>\n",
       "      <td>Gore Verbinski</td>\n",
       "    </tr>\n",
       "    <tr>\n",
       "      <th>2</th>\n",
       "      <td>Spectre</td>\n",
       "      <td>148.0</td>\n",
       "      <td>245000000.0</td>\n",
       "      <td>200074175.0</td>\n",
       "      <td>Action|Adventure|Thriller</td>\n",
       "      <td>Sam Mendes</td>\n",
       "    </tr>\n",
       "    <tr>\n",
       "      <th>3</th>\n",
       "      <td>The Dark Knight Rises</td>\n",
       "      <td>164.0</td>\n",
       "      <td>250000000.0</td>\n",
       "      <td>448130642.0</td>\n",
       "      <td>Action|Thriller</td>\n",
       "      <td>Christopher Nolan</td>\n",
       "    </tr>\n",
       "    <tr>\n",
       "      <th>5</th>\n",
       "      <td>John Carter</td>\n",
       "      <td>132.0</td>\n",
       "      <td>263700000.0</td>\n",
       "      <td>73058679.0</td>\n",
       "      <td>Action|Adventure|Sci-Fi</td>\n",
       "      <td>Andrew Stanton</td>\n",
       "    </tr>\n",
       "  </tbody>\n",
       "</table>\n",
       "</div>"
      ],
      "text/plain": [
       "                                 movie_title  duration       budget  \\\n",
       "0                                    Avatar      178.0  237000000.0   \n",
       "1  Pirates of the Caribbean: At World's End      169.0  300000000.0   \n",
       "2                                   Spectre      148.0  245000000.0   \n",
       "3                     The Dark Knight Rises      164.0  250000000.0   \n",
       "5                               John Carter      132.0  263700000.0   \n",
       "\n",
       "         gross                           genres      director_name  \n",
       "0  760505847.0  Action|Adventure|Fantasy|Sci-Fi      James Cameron  \n",
       "1  309404152.0         Action|Adventure|Fantasy     Gore Verbinski  \n",
       "2  200074175.0        Action|Adventure|Thriller         Sam Mendes  \n",
       "3  448130642.0                  Action|Thriller  Christopher Nolan  \n",
       "5   73058679.0          Action|Adventure|Sci-Fi     Andrew Stanton  "
      ]
     },
     "execution_count": 36,
     "metadata": {},
     "output_type": "execute_result"
    }
   ],
   "source": [
    "# When making modifications in dataframes sometimes we want to keep the original version.\n",
    "# so we use the 'copy' call to make a duplicate of the data.\n",
    "mov_with_budget_duration = slim_movies.copy(deep=True)\n",
    "mov_with_budget_duration.dropna(subset=['duration','budget'], how='any', inplace=True)\n",
    "print_shape(mov_with_budget_duration)\n",
    "mov_with_budget_duration.head()"
   ]
  },
  {
   "cell_type": "markdown",
   "metadata": {},
   "source": [
    "#### Filtering the Data using a boolean expression"
   ]
  },
  {
   "cell_type": "code",
   "execution_count": 37,
   "metadata": {},
   "outputs": [
    {
     "data": {
      "text/plain": [
       "True     3391\n",
       "False    1155\n",
       "dtype: int64"
      ]
     },
     "execution_count": 37,
     "metadata": {},
     "output_type": "execute_result"
    }
   ],
   "source": [
    "# Build a filter boolean array\n",
    "# Inside of the pandas the logical operations are defined as follows:\n",
    "# & = and,  | = or,  ^ = xor,  ~ = not\n",
    "filter_1 = ( (mov_with_budget_duration['gross']>350_000) & \n",
    "             (mov_with_budget_duration['duration']<150) )\n",
    "filter_1.value_counts()"
   ]
  },
  {
   "cell_type": "code",
   "execution_count": 38,
   "metadata": {},
   "outputs": [
    {
     "data": {
      "text/plain": [
       "True     4516\n",
       "False      30\n",
       "dtype: int64"
      ]
     },
     "execution_count": 38,
     "metadata": {},
     "output_type": "execute_result"
    }
   ],
   "source": [
    "filter_2 = (\n",
    "    (mov_with_budget_duration['gross']>350_000) | \n",
    "    (mov_with_budget_duration['duration']<150)\n",
    ")\n",
    "filter_2.value_counts()"
   ]
  },
  {
   "cell_type": "code",
   "execution_count": 39,
   "metadata": {},
   "outputs": [
    {
     "data": {
      "text/plain": [
       "False    3421\n",
       "True     1125\n",
       "dtype: int64"
      ]
     },
     "execution_count": 39,
     "metadata": {},
     "output_type": "execute_result"
    }
   ],
   "source": [
    "filter_2 = (\n",
    "    (mov_with_budget_duration['gross']>350_000) ^ \n",
    "    (mov_with_budget_duration['duration']<150)\n",
    ")\n",
    "filter_2.value_counts()"
   ]
  },
  {
   "cell_type": "code",
   "execution_count": 40,
   "metadata": {},
   "outputs": [
    {
     "data": {
      "text/plain": [
       "False    3391\n",
       "True     1155\n",
       "dtype: int64"
      ]
     },
     "execution_count": 40,
     "metadata": {},
     "output_type": "execute_result"
    }
   ],
   "source": [
    "# The inverse of a and b\n",
    "# Noticed the results from filter_1\n",
    "filter_3 = ~ ( (mov_with_budget_duration['gross']>350_000) & \n",
    "               (mov_with_budget_duration['duration']<150) )\n",
    "filter_3.value_counts()"
   ]
  },
  {
   "cell_type": "code",
   "execution_count": 41,
   "metadata": {},
   "outputs": [
    {
     "name": "stdout",
     "output_type": "stream",
     "text": [
      "Shape: (3391, 6)\n"
     ]
    }
   ],
   "source": [
    "# Applies the filter to the data.\n",
    "filtered_df = mov_with_budget_duration[filter_1]\n",
    "print_shape(filtered_df)"
   ]
  },
  {
   "cell_type": "code",
   "execution_count": 43,
   "metadata": {},
   "outputs": [
    {
     "name": "stdout",
     "output_type": "stream",
     "text": [
      "Shape: (3570, 6)\n"
     ]
    },
    {
     "data": {
      "text/html": [
       "<div>\n",
       "<style scoped>\n",
       "    .dataframe tbody tr th:only-of-type {\n",
       "        vertical-align: middle;\n",
       "    }\n",
       "\n",
       "    .dataframe tbody tr th {\n",
       "        vertical-align: top;\n",
       "    }\n",
       "\n",
       "    .dataframe thead th {\n",
       "        text-align: right;\n",
       "    }\n",
       "</style>\n",
       "<table border=\"1\" class=\"dataframe\">\n",
       "  <thead>\n",
       "    <tr style=\"text-align: right;\">\n",
       "      <th></th>\n",
       "      <th>movie_title</th>\n",
       "      <th>duration</th>\n",
       "      <th>budget</th>\n",
       "      <th>gross</th>\n",
       "      <th>genres</th>\n",
       "      <th>director_name</th>\n",
       "    </tr>\n",
       "  </thead>\n",
       "  <tbody>\n",
       "    <tr>\n",
       "      <th>0</th>\n",
       "      <td>Avatar</td>\n",
       "      <td>178.0</td>\n",
       "      <td>237000000.0</td>\n",
       "      <td>760505847.0</td>\n",
       "      <td>Action|Adventure|Fantasy|Sci-Fi</td>\n",
       "      <td>James Cameron</td>\n",
       "    </tr>\n",
       "    <tr>\n",
       "      <th>1</th>\n",
       "      <td>Pirates of the Caribbean: At World's End</td>\n",
       "      <td>169.0</td>\n",
       "      <td>300000000.0</td>\n",
       "      <td>309404152.0</td>\n",
       "      <td>Action|Adventure|Fantasy</td>\n",
       "      <td>Gore Verbinski</td>\n",
       "    </tr>\n",
       "    <tr>\n",
       "      <th>2</th>\n",
       "      <td>Spectre</td>\n",
       "      <td>148.0</td>\n",
       "      <td>245000000.0</td>\n",
       "      <td>200074175.0</td>\n",
       "      <td>Action|Adventure|Thriller</td>\n",
       "      <td>Sam Mendes</td>\n",
       "    </tr>\n",
       "    <tr>\n",
       "      <th>3</th>\n",
       "      <td>The Dark Knight Rises</td>\n",
       "      <td>164.0</td>\n",
       "      <td>250000000.0</td>\n",
       "      <td>448130642.0</td>\n",
       "      <td>Action|Thriller</td>\n",
       "      <td>Christopher Nolan</td>\n",
       "    </tr>\n",
       "    <tr>\n",
       "      <th>5</th>\n",
       "      <td>John Carter</td>\n",
       "      <td>132.0</td>\n",
       "      <td>263700000.0</td>\n",
       "      <td>73058679.0</td>\n",
       "      <td>Action|Adventure|Sci-Fi</td>\n",
       "      <td>Andrew Stanton</td>\n",
       "    </tr>\n",
       "  </tbody>\n",
       "</table>\n",
       "</div>"
      ],
      "text/plain": [
       "                                 movie_title  duration       budget  \\\n",
       "0                                    Avatar      178.0  237000000.0   \n",
       "1  Pirates of the Caribbean: At World's End      169.0  300000000.0   \n",
       "2                                   Spectre      148.0  245000000.0   \n",
       "3                     The Dark Knight Rises      164.0  250000000.0   \n",
       "5                               John Carter      132.0  263700000.0   \n",
       "\n",
       "         gross                           genres      director_name  \n",
       "0  760505847.0  Action|Adventure|Fantasy|Sci-Fi      James Cameron  \n",
       "1  309404152.0         Action|Adventure|Fantasy     Gore Verbinski  \n",
       "2  200074175.0        Action|Adventure|Thriller         Sam Mendes  \n",
       "3  448130642.0                  Action|Thriller  Christopher Nolan  \n",
       "5   73058679.0          Action|Adventure|Sci-Fi     Andrew Stanton  "
      ]
     },
     "execution_count": 43,
     "metadata": {},
     "output_type": "execute_result"
    }
   ],
   "source": [
    "# Select only movies with large budgets\n",
    "large_gross = mov_with_budget_duration[mov_with_budget_duration['gross']>350_000]\n",
    "print_shape(large_gross)\n",
    "large_gross.head()"
   ]
  },
  {
   "cell_type": "markdown",
   "metadata": {},
   "source": [
    "Lets check the counts of null values in the dataframe we are using."
   ]
  },
  {
   "cell_type": "code",
   "execution_count": 133,
   "metadata": {},
   "outputs": [
    {
     "data": {
      "text/plain": [
       "movie_title        0\n",
       "duration          15\n",
       "budget           492\n",
       "gross            884\n",
       "genres             0\n",
       "director_name    104\n",
       "dtype: int64"
      ]
     },
     "execution_count": 133,
     "metadata": {},
     "output_type": "execute_result"
    }
   ],
   "source": [
    "sorted_movies.isnull().sum()"
   ]
  },
  {
   "cell_type": "markdown",
   "metadata": {},
   "source": [
    "Lets drop all rows with any nulls."
   ]
  },
  {
   "cell_type": "markdown",
   "metadata": {},
   "source": [
    "For the __gross__ values we can set the missing values to the mean."
   ]
  },
  {
   "cell_type": "code",
   "execution_count": 134,
   "metadata": {},
   "outputs": [
    {
     "name": "stdout",
     "output_type": "stream",
     "text": [
      "Mean Gross Amt = 48,468,407.53\n"
     ]
    }
   ],
   "source": [
    "# Using copy to avoid warnings.\n",
    "movie_copy = sorted_movies.copy()\n",
    "mean_gross = sorted_movies[\"gross\"].mean()\n",
    "print(f'Mean Gross Amt = {mean_gross:,.2f}')\n"
   ]
  },
  {
   "cell_type": "code",
   "execution_count": 77,
   "metadata": {},
   "outputs": [
    {
     "name": "stdout",
     "output_type": "stream",
     "text": [
      "0\n"
     ]
    }
   ],
   "source": [
    "movie_copy[\"gross\"].fillna(value=mean_gross, inplace=True)\n",
    "print(movie_copy[\"gross\"].isnull().sum())"
   ]
  },
  {
   "cell_type": "markdown",
   "metadata": {},
   "source": [
    "For the __duration__, we can set the missing values to 90."
   ]
  },
  {
   "cell_type": "code",
   "execution_count": 79,
   "metadata": {},
   "outputs": [],
   "source": [
    "movie_copy['duration'].fillna(value=90, inplace=True)"
   ]
  },
  {
   "cell_type": "code",
   "execution_count": 80,
   "metadata": {},
   "outputs": [
    {
     "data": {
      "text/plain": [
       "movie_title        0\n",
       "duration           0\n",
       "budget           492\n",
       "gross              0\n",
       "genres             0\n",
       "director_name    104\n",
       "dtype: int64"
      ]
     },
     "execution_count": 80,
     "metadata": {},
     "output_type": "execute_result"
    }
   ],
   "source": [
    "movie_copy.isnull().sum()"
   ]
  },
  {
   "cell_type": "code",
   "execution_count": 135,
   "metadata": {},
   "outputs": [],
   "source": [
    "clean_movies = movie_copy.copy().dropna() "
   ]
  },
  {
   "cell_type": "markdown",
   "metadata": {},
   "source": [
    "All values for the fields of interest are filled."
   ]
  },
  {
   "cell_type": "code",
   "execution_count": 137,
   "metadata": {},
   "outputs": [
    {
     "data": {
      "text/plain": [
       "movie_title      0\n",
       "duration         0\n",
       "budget           0\n",
       "gross            0\n",
       "genres           0\n",
       "director_name    0\n",
       "dtype: int64"
      ]
     },
     "execution_count": 137,
     "metadata": {},
     "output_type": "execute_result"
    }
   ],
   "source": [
    "clean_movies.isnull().sum()"
   ]
  },
  {
   "cell_type": "code",
   "execution_count": 138,
   "metadata": {},
   "outputs": [
    {
     "data": {
      "text/html": [
       "<div>\n",
       "<style scoped>\n",
       "    .dataframe tbody tr th:only-of-type {\n",
       "        vertical-align: middle;\n",
       "    }\n",
       "\n",
       "    .dataframe tbody tr th {\n",
       "        vertical-align: top;\n",
       "    }\n",
       "\n",
       "    .dataframe thead th {\n",
       "        text-align: right;\n",
       "    }\n",
       "</style>\n",
       "<table border=\"1\" class=\"dataframe\">\n",
       "  <thead>\n",
       "    <tr style=\"text-align: right;\">\n",
       "      <th></th>\n",
       "      <th>duration</th>\n",
       "      <th>budget</th>\n",
       "      <th>gross</th>\n",
       "    </tr>\n",
       "  </thead>\n",
       "  <tbody>\n",
       "    <tr>\n",
       "      <th>count</th>\n",
       "      <td>3890.000000</td>\n",
       "      <td>3.890000e+03</td>\n",
       "      <td>3.890000e+03</td>\n",
       "    </tr>\n",
       "    <tr>\n",
       "      <th>mean</th>\n",
       "      <td>109.896401</td>\n",
       "      <td>4.520391e+07</td>\n",
       "      <td>5.106809e+07</td>\n",
       "    </tr>\n",
       "    <tr>\n",
       "      <th>std</th>\n",
       "      <td>22.706775</td>\n",
       "      <td>2.224177e+08</td>\n",
       "      <td>6.980668e+07</td>\n",
       "    </tr>\n",
       "    <tr>\n",
       "      <th>min</th>\n",
       "      <td>34.000000</td>\n",
       "      <td>2.180000e+02</td>\n",
       "      <td>1.620000e+02</td>\n",
       "    </tr>\n",
       "    <tr>\n",
       "      <th>25%</th>\n",
       "      <td>95.000000</td>\n",
       "      <td>1.000000e+07</td>\n",
       "      <td>6.844452e+06</td>\n",
       "    </tr>\n",
       "    <tr>\n",
       "      <th>50%</th>\n",
       "      <td>106.000000</td>\n",
       "      <td>2.400000e+07</td>\n",
       "      <td>2.799697e+07</td>\n",
       "    </tr>\n",
       "    <tr>\n",
       "      <th>75%</th>\n",
       "      <td>120.000000</td>\n",
       "      <td>5.000000e+07</td>\n",
       "      <td>6.540649e+07</td>\n",
       "    </tr>\n",
       "    <tr>\n",
       "      <th>max</th>\n",
       "      <td>330.000000</td>\n",
       "      <td>1.221550e+10</td>\n",
       "      <td>7.605058e+08</td>\n",
       "    </tr>\n",
       "  </tbody>\n",
       "</table>\n",
       "</div>"
      ],
      "text/plain": [
       "          duration        budget         gross\n",
       "count  3890.000000  3.890000e+03  3.890000e+03\n",
       "mean    109.896401  4.520391e+07  5.106809e+07\n",
       "std      22.706775  2.224177e+08  6.980668e+07\n",
       "min      34.000000  2.180000e+02  1.620000e+02\n",
       "25%      95.000000  1.000000e+07  6.844452e+06\n",
       "50%     106.000000  2.400000e+07  2.799697e+07\n",
       "75%     120.000000  5.000000e+07  6.540649e+07\n",
       "max     330.000000  1.221550e+10  7.605058e+08"
      ]
     },
     "execution_count": 138,
     "metadata": {},
     "output_type": "execute_result"
    }
   ],
   "source": [
    "clean_movies.describe()"
   ]
  },
  {
   "cell_type": "code",
   "execution_count": 139,
   "metadata": {},
   "outputs": [
    {
     "data": {
      "text/html": [
       "<div>\n",
       "<style scoped>\n",
       "    .dataframe tbody tr th:only-of-type {\n",
       "        vertical-align: middle;\n",
       "    }\n",
       "\n",
       "    .dataframe tbody tr th {\n",
       "        vertical-align: top;\n",
       "    }\n",
       "\n",
       "    .dataframe thead th {\n",
       "        text-align: right;\n",
       "    }\n",
       "</style>\n",
       "<table border=\"1\" class=\"dataframe\">\n",
       "  <thead>\n",
       "    <tr style=\"text-align: right;\">\n",
       "      <th></th>\n",
       "      <th>movie_title</th>\n",
       "      <th>duration</th>\n",
       "      <th>budget</th>\n",
       "      <th>gross</th>\n",
       "      <th>genres</th>\n",
       "      <th>director_name</th>\n",
       "    </tr>\n",
       "  </thead>\n",
       "  <tbody>\n",
       "    <tr>\n",
       "      <th>3698</th>\n",
       "      <td>10 Cloverfield Lane</td>\n",
       "      <td>104.0</td>\n",
       "      <td>15000000.0</td>\n",
       "      <td>71897215.0</td>\n",
       "      <td>[Drama, Horror, Mystery, Sci-Fi, Thriller]</td>\n",
       "      <td>Dan Trachtenberg</td>\n",
       "    </tr>\n",
       "    <tr>\n",
       "      <th>3015</th>\n",
       "      <td>10 Days in a Madhouse</td>\n",
       "      <td>111.0</td>\n",
       "      <td>12000000.0</td>\n",
       "      <td>14616.0</td>\n",
       "      <td>[Drama]</td>\n",
       "      <td>Timothy Hines</td>\n",
       "    </tr>\n",
       "    <tr>\n",
       "      <th>2845</th>\n",
       "      <td>10 Things I Hate About You</td>\n",
       "      <td>97.0</td>\n",
       "      <td>16000000.0</td>\n",
       "      <td>38176108.0</td>\n",
       "      <td>[Comedy, Drama, Romance]</td>\n",
       "      <td>Gil Junger</td>\n",
       "    </tr>\n",
       "    <tr>\n",
       "      <th>406</th>\n",
       "      <td>102 Dalmatians</td>\n",
       "      <td>100.0</td>\n",
       "      <td>85000000.0</td>\n",
       "      <td>66941559.0</td>\n",
       "      <td>[Adventure, Comedy, Family]</td>\n",
       "      <td>Kevin Lima</td>\n",
       "    </tr>\n",
       "    <tr>\n",
       "      <th>3420</th>\n",
       "      <td>10th &amp; Wolf</td>\n",
       "      <td>107.0</td>\n",
       "      <td>8000000.0</td>\n",
       "      <td>53481.0</td>\n",
       "      <td>[Crime, Drama, Thriller]</td>\n",
       "      <td>Robert Moresco</td>\n",
       "    </tr>\n",
       "  </tbody>\n",
       "</table>\n",
       "</div>"
      ],
      "text/plain": [
       "                      movie_title  duration      budget       gross  \\\n",
       "3698         10 Cloverfield Lane      104.0  15000000.0  71897215.0   \n",
       "3015       10 Days in a Madhouse      111.0  12000000.0     14616.0   \n",
       "2845  10 Things I Hate About You       97.0  16000000.0  38176108.0   \n",
       "406               102 Dalmatians      100.0  85000000.0  66941559.0   \n",
       "3420                 10th & Wolf      107.0   8000000.0     53481.0   \n",
       "\n",
       "                                          genres     director_name  \n",
       "3698  [Drama, Horror, Mystery, Sci-Fi, Thriller]  Dan Trachtenberg  \n",
       "3015                                     [Drama]     Timothy Hines  \n",
       "2845                    [Comedy, Drama, Romance]        Gil Junger  \n",
       "406                  [Adventure, Comedy, Family]        Kevin Lima  \n",
       "3420                    [Crime, Drama, Thriller]    Robert Moresco  "
      ]
     },
     "execution_count": 139,
     "metadata": {},
     "output_type": "execute_result"
    }
   ],
   "source": [
    "clean_movies.head()"
   ]
  },
  {
   "cell_type": "markdown",
   "metadata": {},
   "source": [
    "Let's create another field with the __budget in millions__."
   ]
  },
  {
   "cell_type": "code",
   "execution_count": 154,
   "metadata": {},
   "outputs": [
    {
     "data": {
      "text/html": [
       "<div>\n",
       "<style scoped>\n",
       "    .dataframe tbody tr th:only-of-type {\n",
       "        vertical-align: middle;\n",
       "    }\n",
       "\n",
       "    .dataframe tbody tr th {\n",
       "        vertical-align: top;\n",
       "    }\n",
       "\n",
       "    .dataframe thead th {\n",
       "        text-align: right;\n",
       "    }\n",
       "</style>\n",
       "<table border=\"1\" class=\"dataframe\">\n",
       "  <thead>\n",
       "    <tr style=\"text-align: right;\">\n",
       "      <th></th>\n",
       "      <th>movie_title</th>\n",
       "      <th>budget_in_mm</th>\n",
       "    </tr>\n",
       "  </thead>\n",
       "  <tbody>\n",
       "    <tr>\n",
       "      <th>3698</th>\n",
       "      <td>10 Cloverfield Lane</td>\n",
       "      <td>15.0</td>\n",
       "    </tr>\n",
       "    <tr>\n",
       "      <th>3015</th>\n",
       "      <td>10 Days in a Madhouse</td>\n",
       "      <td>12.0</td>\n",
       "    </tr>\n",
       "    <tr>\n",
       "      <th>2845</th>\n",
       "      <td>10 Things I Hate About You</td>\n",
       "      <td>16.0</td>\n",
       "    </tr>\n",
       "    <tr>\n",
       "      <th>406</th>\n",
       "      <td>102 Dalmatians</td>\n",
       "      <td>85.0</td>\n",
       "    </tr>\n",
       "    <tr>\n",
       "      <th>3420</th>\n",
       "      <td>10th &amp; Wolf</td>\n",
       "      <td>8.0</td>\n",
       "    </tr>\n",
       "  </tbody>\n",
       "</table>\n",
       "</div>"
      ],
      "text/plain": [
       "                      movie_title  budget_in_mm\n",
       "3698         10 Cloverfield Lane           15.0\n",
       "3015       10 Days in a Madhouse           12.0\n",
       "2845  10 Things I Hate About You           16.0\n",
       "406               102 Dalmatians           85.0\n",
       "3420                 10th & Wolf            8.0"
      ]
     },
     "execution_count": 154,
     "metadata": {},
     "output_type": "execute_result"
    }
   ],
   "source": [
    "movie_exp = clean_movies.copy()\n",
    "movie_exp['budget_in_mm'] = movie_exp['budget'].apply(lambda x:x/1_000_000)\n",
    "movie_exp[['movie_title','budget_in_mm']].head()\n"
   ]
  },
  {
   "cell_type": "code",
   "execution_count": 156,
   "metadata": {},
   "outputs": [
    {
     "data": {
      "text/html": [
       "<div>\n",
       "<style scoped>\n",
       "    .dataframe tbody tr th:only-of-type {\n",
       "        vertical-align: middle;\n",
       "    }\n",
       "\n",
       "    .dataframe tbody tr th {\n",
       "        vertical-align: top;\n",
       "    }\n",
       "\n",
       "    .dataframe thead th {\n",
       "        text-align: right;\n",
       "    }\n",
       "</style>\n",
       "<table border=\"1\" class=\"dataframe\">\n",
       "  <thead>\n",
       "    <tr style=\"text-align: right;\">\n",
       "      <th></th>\n",
       "      <th>movie_title</th>\n",
       "      <th>gross</th>\n",
       "      <th>budget</th>\n",
       "      <th>profit_in_mm</th>\n",
       "    </tr>\n",
       "  </thead>\n",
       "  <tbody>\n",
       "    <tr>\n",
       "      <th>3698</th>\n",
       "      <td>10 Cloverfield Lane</td>\n",
       "      <td>7.190e+07</td>\n",
       "      <td>1.500e+07</td>\n",
       "      <td>56.897</td>\n",
       "    </tr>\n",
       "    <tr>\n",
       "      <th>3015</th>\n",
       "      <td>10 Days in a Madhouse</td>\n",
       "      <td>1.462e+04</td>\n",
       "      <td>1.200e+07</td>\n",
       "      <td>-11.985</td>\n",
       "    </tr>\n",
       "    <tr>\n",
       "      <th>2845</th>\n",
       "      <td>10 Things I Hate About You</td>\n",
       "      <td>3.818e+07</td>\n",
       "      <td>1.600e+07</td>\n",
       "      <td>22.176</td>\n",
       "    </tr>\n",
       "    <tr>\n",
       "      <th>406</th>\n",
       "      <td>102 Dalmatians</td>\n",
       "      <td>6.694e+07</td>\n",
       "      <td>8.500e+07</td>\n",
       "      <td>-18.058</td>\n",
       "    </tr>\n",
       "    <tr>\n",
       "      <th>3420</th>\n",
       "      <td>10th &amp; Wolf</td>\n",
       "      <td>5.348e+04</td>\n",
       "      <td>8.000e+06</td>\n",
       "      <td>-7.947</td>\n",
       "    </tr>\n",
       "  </tbody>\n",
       "</table>\n",
       "</div>"
      ],
      "text/plain": [
       "                      movie_title      gross     budget  profit_in_mm\n",
       "3698         10 Cloverfield Lane   7.190e+07  1.500e+07        56.897\n",
       "3015       10 Days in a Madhouse   1.462e+04  1.200e+07       -11.985\n",
       "2845  10 Things I Hate About You   3.818e+07  1.600e+07        22.176\n",
       "406               102 Dalmatians   6.694e+07  8.500e+07       -18.058\n",
       "3420                 10th & Wolf   5.348e+04  8.000e+06        -7.947"
      ]
     },
     "execution_count": 156,
     "metadata": {},
     "output_type": "execute_result"
    }
   ],
   "source": [
    "# Combining two or more columns to produce new columns\n",
    "pd.set_option('display.precision', 3)\n",
    "movie_test1 = movie_exp.copy()\n",
    "movie_test1['profit_in_mm'] = (movie_test1['gross']-movie_test1['budget'])/1_000_000\n",
    "movie_test1[['movie_title', 'gross', 'budget', 'profit_in_mm']].head()\n"
   ]
  },
  {
   "cell_type": "code",
   "execution_count": 157,
   "metadata": {},
   "outputs": [
    {
     "data": {
      "text/html": [
       "<div>\n",
       "<style scoped>\n",
       "    .dataframe tbody tr th:only-of-type {\n",
       "        vertical-align: middle;\n",
       "    }\n",
       "\n",
       "    .dataframe tbody tr th {\n",
       "        vertical-align: top;\n",
       "    }\n",
       "\n",
       "    .dataframe thead th {\n",
       "        text-align: right;\n",
       "    }\n",
       "</style>\n",
       "<table border=\"1\" class=\"dataframe\">\n",
       "  <thead>\n",
       "    <tr style=\"text-align: right;\">\n",
       "      <th></th>\n",
       "      <th>movie_title</th>\n",
       "      <th>gross</th>\n",
       "      <th>budget</th>\n",
       "      <th>profit_in_mm</th>\n",
       "    </tr>\n",
       "  </thead>\n",
       "  <tbody>\n",
       "    <tr>\n",
       "      <th>3698</th>\n",
       "      <td>10 Cloverfield Lane</td>\n",
       "      <td>7.190e+07</td>\n",
       "      <td>1.500e+07</td>\n",
       "      <td>56.897</td>\n",
       "    </tr>\n",
       "    <tr>\n",
       "      <th>3015</th>\n",
       "      <td>10 Days in a Madhouse</td>\n",
       "      <td>1.462e+04</td>\n",
       "      <td>1.200e+07</td>\n",
       "      <td>-11.985</td>\n",
       "    </tr>\n",
       "    <tr>\n",
       "      <th>2845</th>\n",
       "      <td>10 Things I Hate About You</td>\n",
       "      <td>3.818e+07</td>\n",
       "      <td>1.600e+07</td>\n",
       "      <td>22.176</td>\n",
       "    </tr>\n",
       "    <tr>\n",
       "      <th>406</th>\n",
       "      <td>102 Dalmatians</td>\n",
       "      <td>6.694e+07</td>\n",
       "      <td>8.500e+07</td>\n",
       "      <td>-18.058</td>\n",
       "    </tr>\n",
       "    <tr>\n",
       "      <th>3420</th>\n",
       "      <td>10th &amp; Wolf</td>\n",
       "      <td>5.348e+04</td>\n",
       "      <td>8.000e+06</td>\n",
       "      <td>-7.947</td>\n",
       "    </tr>\n",
       "  </tbody>\n",
       "</table>\n",
       "</div>"
      ],
      "text/plain": [
       "                      movie_title      gross     budget  profit_in_mm\n",
       "3698         10 Cloverfield Lane   7.190e+07  1.500e+07        56.897\n",
       "3015       10 Days in a Madhouse   1.462e+04  1.200e+07       -11.985\n",
       "2845  10 Things I Hate About You   3.818e+07  1.600e+07        22.176\n",
       "406               102 Dalmatians   6.694e+07  8.500e+07       -18.058\n",
       "3420                 10th & Wolf   5.348e+04  8.000e+06        -7.947"
      ]
     },
     "execution_count": 157,
     "metadata": {},
     "output_type": "execute_result"
    }
   ],
   "source": [
    "# Combining two or more columns using assign\n",
    "movie_test2 = movie_exp.copy()\n",
    "movie_test2 = movie_test2.assign(\n",
    "    profit_in_mm=(movie_test2.gross - movie_test2.budget)/1_000_000)\n",
    "movie_test2[['movie_title', 'gross', 'budget', 'profit_in_mm']].head()"
   ]
  },
  {
   "cell_type": "markdown",
   "metadata": {},
   "source": [
    "Selecting the fields that I need."
   ]
  },
  {
   "cell_type": "code",
   "execution_count": 158,
   "metadata": {},
   "outputs": [
    {
     "data": {
      "text/html": [
       "<div>\n",
       "<style scoped>\n",
       "    .dataframe tbody tr th:only-of-type {\n",
       "        vertical-align: middle;\n",
       "    }\n",
       "\n",
       "    .dataframe tbody tr th {\n",
       "        vertical-align: top;\n",
       "    }\n",
       "\n",
       "    .dataframe thead th {\n",
       "        text-align: right;\n",
       "    }\n",
       "</style>\n",
       "<table border=\"1\" class=\"dataframe\">\n",
       "  <thead>\n",
       "    <tr style=\"text-align: right;\">\n",
       "      <th></th>\n",
       "      <th>movie_title</th>\n",
       "      <th>gross_in_mm</th>\n",
       "      <th>budget_in_mm</th>\n",
       "      <th>profit_in_mm</th>\n",
       "    </tr>\n",
       "  </thead>\n",
       "  <tbody>\n",
       "    <tr>\n",
       "      <th>3698</th>\n",
       "      <td>10 Cloverfield Lane</td>\n",
       "      <td>71.897</td>\n",
       "      <td>15.0</td>\n",
       "      <td>56.897</td>\n",
       "    </tr>\n",
       "    <tr>\n",
       "      <th>3015</th>\n",
       "      <td>10 Days in a Madhouse</td>\n",
       "      <td>0.015</td>\n",
       "      <td>12.0</td>\n",
       "      <td>-11.985</td>\n",
       "    </tr>\n",
       "    <tr>\n",
       "      <th>2845</th>\n",
       "      <td>10 Things I Hate About You</td>\n",
       "      <td>38.176</td>\n",
       "      <td>16.0</td>\n",
       "      <td>22.176</td>\n",
       "    </tr>\n",
       "    <tr>\n",
       "      <th>406</th>\n",
       "      <td>102 Dalmatians</td>\n",
       "      <td>66.942</td>\n",
       "      <td>85.0</td>\n",
       "      <td>-18.058</td>\n",
       "    </tr>\n",
       "    <tr>\n",
       "      <th>3420</th>\n",
       "      <td>10th &amp; Wolf</td>\n",
       "      <td>0.053</td>\n",
       "      <td>8.0</td>\n",
       "      <td>-7.947</td>\n",
       "    </tr>\n",
       "  </tbody>\n",
       "</table>\n",
       "</div>"
      ],
      "text/plain": [
       "                      movie_title  gross_in_mm  budget_in_mm  profit_in_mm\n",
       "3698         10 Cloverfield Lane        71.897          15.0        56.897\n",
       "3015       10 Days in a Madhouse         0.015          12.0       -11.985\n",
       "2845  10 Things I Hate About You        38.176          16.0        22.176\n",
       "406               102 Dalmatians        66.942          85.0       -18.058\n",
       "3420                 10th & Wolf         0.053           8.0        -7.947"
      ]
     },
     "execution_count": 158,
     "metadata": {},
     "output_type": "execute_result"
    }
   ],
   "source": [
    "movie_df_raw = movie_exp.copy()\n",
    "movie_df_raw = movie_df_raw.assign(\n",
    "    profit_in_mm=(movie_df_raw.gross - movie_df_raw.budget)/1_000_000,\n",
    "    budget_in_mm=movie_df_raw.budget/1_000_000,\n",
    "    gross_in_mm=movie_df_raw.gross/1_000_000)\n",
    " \n",
    "movie_df = movie_df_raw[['movie_title', 'gross_in_mm', 'budget_in_mm', 'profit_in_mm']]\n",
    "movie_df.head()"
   ]
  },
  {
   "cell_type": "markdown",
   "metadata": {},
   "source": [
    "### Reading files from the internet."
   ]
  },
  {
   "cell_type": "code",
   "execution_count": 166,
   "metadata": {},
   "outputs": [
    {
     "name": "stdout",
     "output_type": "stream",
     "text": [
      "Saving to cache, Loaded 194 records\n"
     ]
    }
   ],
   "source": [
    "from os.path import exists\n",
    "\n",
    "def cached_load_df(url, local_file, use_cache=True):\n",
    "    if use_cache and exists(local_file):\n",
    "        print('Loading from cache,', end=' ')\n",
    "        result = pd.read_csv(local_file)\n",
    "    else:\n",
    "        result = pd.read_csv(url)\n",
    "        result.to_csv(local_file, index=False)\n",
    "        print('Saving to cache,', end=' ')\n",
    "    print('Loaded {0} records'.format(result.shape[0]))\n",
    "    return result\n",
    "\n",
    "\n",
    "def load_countries_df(use_cache=True):\n",
    "    return cached_load_df(\n",
    "        url= 'https://mirror-v01.s3.us-west-2.amazonaws.com/countries.csv', \n",
    "        local_file = 'my_countries.csv', \n",
    "        use_cache=use_cache)\n",
    "\n",
    "countries = load_countries_df(use_cache=False)"
   ]
  },
  {
   "cell_type": "code",
   "execution_count": 167,
   "metadata": {},
   "outputs": [
    {
     "name": "stdout",
     "output_type": "stream",
     "text": [
      "Loading from cache, Loaded 194 records\n"
     ]
    }
   ],
   "source": [
    "countries2 = load_countries_df(use_cache=True)"
   ]
  },
  {
   "cell_type": "code",
   "execution_count": 168,
   "metadata": {},
   "outputs": [
    {
     "name": "stdout",
     "output_type": "stream",
     "text": [
      "    Country  Region\n",
      "0   Algeria  AFRICA\n",
      "1    Angola  AFRICA\n",
      "2     Benin  AFRICA\n",
      "3  Botswana  AFRICA\n",
      "4   Burkina  AFRICA\n",
      "(194, 2)\n",
      "Num rows =  194\n"
     ]
    }
   ],
   "source": [
    "print(countries.head())\n",
    "print(countries.shape)\n",
    "print('Num rows = ', end=' ')\n",
    "print(countries.shape[0])"
   ]
  },
  {
   "cell_type": "code",
   "execution_count": 169,
   "metadata": {},
   "outputs": [
    {
     "name": "stdout",
     "output_type": "stream",
     "text": [
      "Country    object\n",
      "Region     object\n",
      "dtype: object\n"
     ]
    }
   ],
   "source": [
    "print(countries.dtypes)"
   ]
  },
  {
   "cell_type": "code",
   "execution_count": 170,
   "metadata": {},
   "outputs": [
    {
     "name": "stdout",
     "output_type": "stream",
     "text": [
      "        Country  Region\n",
      "count       194     194\n",
      "unique      194       6\n",
      "top     Algeria  AFRICA\n",
      "freq          1      54\n"
     ]
    }
   ],
   "source": [
    "print(countries.describe())"
   ]
  },
  {
   "cell_type": "code",
   "execution_count": 171,
   "metadata": {},
   "outputs": [
    {
     "data": {
      "text/html": [
       "<div>\n",
       "<style scoped>\n",
       "    .dataframe tbody tr th:only-of-type {\n",
       "        vertical-align: middle;\n",
       "    }\n",
       "\n",
       "    .dataframe tbody tr th {\n",
       "        vertical-align: top;\n",
       "    }\n",
       "\n",
       "    .dataframe thead th {\n",
       "        text-align: right;\n",
       "    }\n",
       "</style>\n",
       "<table border=\"1\" class=\"dataframe\">\n",
       "  <thead>\n",
       "    <tr style=\"text-align: right;\">\n",
       "      <th></th>\n",
       "      <th>sales_budget</th>\n",
       "      <th>marketing_budget</th>\n",
       "      <th>Income</th>\n",
       "    </tr>\n",
       "    <tr>\n",
       "      <th>Name</th>\n",
       "      <th></th>\n",
       "      <th></th>\n",
       "      <th></th>\n",
       "    </tr>\n",
       "  </thead>\n",
       "  <tbody>\n",
       "    <tr>\n",
       "      <th>PLP</th>\n",
       "      <td>123</td>\n",
       "      <td>90</td>\n",
       "      <td>400</td>\n",
       "    </tr>\n",
       "    <tr>\n",
       "      <th>MX</th>\n",
       "      <td>340</td>\n",
       "      <td>85</td>\n",
       "      <td>700</td>\n",
       "    </tr>\n",
       "    <tr>\n",
       "      <th>YP</th>\n",
       "      <td>45</td>\n",
       "      <td>55</td>\n",
       "      <td>210</td>\n",
       "    </tr>\n",
       "    <tr>\n",
       "      <th>UP</th>\n",
       "      <td>27</td>\n",
       "      <td>60</td>\n",
       "      <td>200</td>\n",
       "    </tr>\n",
       "    <tr>\n",
       "      <th>QT</th>\n",
       "      <td>80</td>\n",
       "      <td>100</td>\n",
       "      <td>225</td>\n",
       "    </tr>\n",
       "  </tbody>\n",
       "</table>\n",
       "</div>"
      ],
      "text/plain": [
       "      sales_budget  marketing_budget  Income\n",
       "Name                                        \n",
       "PLP            123                90     400\n",
       "MX             340                85     700\n",
       "YP              45                55     210\n",
       "UP              27                60     200\n",
       "QT              80               100     225"
      ]
     },
     "execution_count": 171,
     "metadata": {},
     "output_type": "execute_result"
    }
   ],
   "source": [
    "company = pd.read_csv('company.csv')\n",
    "company = company.set_index('Name')\n",
    "company.head()"
   ]
  },
  {
   "cell_type": "markdown",
   "metadata": {},
   "source": [
    "Creating a series with column sales_budget."
   ]
  },
  {
   "cell_type": "markdown",
   "metadata": {},
   "source": [
    "##### Generate Series from a DataFrame "
   ]
  },
  {
   "cell_type": "code",
   "execution_count": 173,
   "metadata": {},
   "outputs": [
    {
     "name": "stdout",
     "output_type": "stream",
     "text": [
      "Wrong way\n",
      "  large\n",
      "Right way\n",
      "  large\n"
     ]
    }
   ],
   "source": [
    "# Code Style Suggestions \n",
    "\n",
    "budget = 200_000\n",
    "\n",
    "print('Wrong way')\n",
    "if budget > 170_000:\n",
    "    print('  large')\n",
    "    \n",
    "print('Right way')\n",
    "threshold_for_large_budget = 170_000 # We looked at the data picket top 80 percentile.\n",
    " \n",
    "if budget > threshold_for_large_budget:\n",
    "    print('  large')\n",
    "\n",
    " "
   ]
  },
  {
   "cell_type": "markdown",
   "metadata": {},
   "source": [
    "#### Dropping columns and selecting columns"
   ]
  },
  {
   "cell_type": "code",
   "execution_count": 174,
   "metadata": {},
   "outputs": [
    {
     "name": "stdout",
     "output_type": "stream",
     "text": [
      "                  [Original]                  \n",
      "Data:\n",
      "      Name  Founded\n",
      "0   Amazon     1994\n",
      "1       GE     1923\n",
      "2   Toyota     1937\n",
      "3  Twitter     2006\n",
      "4     Ford     1903\n",
      "5  Marriot     1927\n",
      " \n",
      "Object Type: DataFrame\n",
      " \n",
      " \n",
      "                [After Drop ]                 \n",
      "Data:\n",
      "      Name\n",
      "0   Amazon\n",
      "1       GE\n",
      "2   Toyota\n",
      "3  Twitter\n",
      "4     Ford\n",
      "5  Marriot\n",
      " \n",
      "Object Type: DataFrame\n",
      " \n",
      " \n",
      "         [After selecting one column]         \n",
      "Data:\n",
      "0     Amazon\n",
      "1         GE\n",
      "2     Toyota\n",
      "3    Twitter\n",
      "4       Ford\n",
      "5    Marriot\n",
      " \n",
      "Object Type: Series\n",
      " \n",
      " \n",
      "[After selecting one column with list of fields]\n",
      "Data:\n",
      "      Name\n",
      "0   Amazon\n",
      "1       GE\n",
      "2   Toyota\n",
      "3  Twitter\n",
      "4     Ford\n",
      "5  Marriot\n",
      " \n",
      "Object Type: DataFrame\n",
      " \n",
      " \n"
     ]
    }
   ],
   "source": [
    "test1 = {\n",
    "    'Name': ['Amazon', 'GE', 'Toyota', 'Twitter', 'Ford', 'Marriot'],\n",
    "    'Founded': [1994, 1923, 1937, 2006, 1903, 1927]}\n",
    "\n",
    "df1 = pd.DataFrame(test1)\n",
    "print_header('Original', sep=' ')\n",
    "print_data_and_type(df1)\n",
    "print(' ')\n",
    "\n",
    "df2 = df1.drop(['Founded'], axis=1)\n",
    "print_header('After Drop ', sep=' ')\n",
    "print_data_and_type(df2)\n",
    "print(' ')\n",
    "\n",
    "print_header('After selecting one column', sep=' ')\n",
    "ser1 = df1['Name']\n",
    "print_data_and_type(ser1)\n",
    "print(' ')\n",
    "\n",
    "print_header('After selecting one column with list of fields', sep=' ')\n",
    "ser1 = df1[['Name']]\n",
    "print_data_and_type(ser1)\n",
    "print(' ')\n"
   ]
  },
  {
   "cell_type": "markdown",
   "metadata": {},
   "source": [
    "#### Pandas slicing with iLoc vs Loc"
   ]
  },
  {
   "cell_type": "code",
   "execution_count": 175,
   "metadata": {},
   "outputs": [
    {
     "data": {
      "text/html": [
       "<div>\n",
       "<style scoped>\n",
       "    .dataframe tbody tr th:only-of-type {\n",
       "        vertical-align: middle;\n",
       "    }\n",
       "\n",
       "    .dataframe tbody tr th {\n",
       "        vertical-align: top;\n",
       "    }\n",
       "\n",
       "    .dataframe thead th {\n",
       "        text-align: right;\n",
       "    }\n",
       "</style>\n",
       "<table border=\"1\" class=\"dataframe\">\n",
       "  <thead>\n",
       "    <tr style=\"text-align: right;\">\n",
       "      <th></th>\n",
       "      <th>sales_budget</th>\n",
       "      <th>marketing_budget</th>\n",
       "      <th>Income</th>\n",
       "    </tr>\n",
       "    <tr>\n",
       "      <th>Name</th>\n",
       "      <th></th>\n",
       "      <th></th>\n",
       "      <th></th>\n",
       "    </tr>\n",
       "  </thead>\n",
       "  <tbody>\n",
       "    <tr>\n",
       "      <th>PLP</th>\n",
       "      <td>123</td>\n",
       "      <td>90</td>\n",
       "      <td>400</td>\n",
       "    </tr>\n",
       "    <tr>\n",
       "      <th>MX</th>\n",
       "      <td>340</td>\n",
       "      <td>85</td>\n",
       "      <td>700</td>\n",
       "    </tr>\n",
       "    <tr>\n",
       "      <th>YP</th>\n",
       "      <td>45</td>\n",
       "      <td>55</td>\n",
       "      <td>210</td>\n",
       "    </tr>\n",
       "    <tr>\n",
       "      <th>UP</th>\n",
       "      <td>27</td>\n",
       "      <td>60</td>\n",
       "      <td>200</td>\n",
       "    </tr>\n",
       "    <tr>\n",
       "      <th>QT</th>\n",
       "      <td>80</td>\n",
       "      <td>100</td>\n",
       "      <td>225</td>\n",
       "    </tr>\n",
       "    <tr>\n",
       "      <th>AD</th>\n",
       "      <td>95</td>\n",
       "      <td>100</td>\n",
       "      <td>300</td>\n",
       "    </tr>\n",
       "    <tr>\n",
       "      <th>XC</th>\n",
       "      <td>26</td>\n",
       "      <td>40</td>\n",
       "      <td>150</td>\n",
       "    </tr>\n",
       "    <tr>\n",
       "      <th>MA</th>\n",
       "      <td>72</td>\n",
       "      <td>90</td>\n",
       "      <td>220</td>\n",
       "    </tr>\n",
       "    <tr>\n",
       "      <th>GP</th>\n",
       "      <td>66</td>\n",
       "      <td>80</td>\n",
       "      <td>290</td>\n",
       "    </tr>\n",
       "    <tr>\n",
       "      <th>LA</th>\n",
       "      <td>54</td>\n",
       "      <td>70</td>\n",
       "      <td>240</td>\n",
       "    </tr>\n",
       "  </tbody>\n",
       "</table>\n",
       "</div>"
      ],
      "text/plain": [
       "      sales_budget  marketing_budget  Income\n",
       "Name                                        \n",
       "PLP            123                90     400\n",
       "MX             340                85     700\n",
       "YP              45                55     210\n",
       "UP              27                60     200\n",
       "QT              80               100     225\n",
       "AD              95               100     300\n",
       "XC              26                40     150\n",
       "MA              72                90     220\n",
       "GP              66                80     290\n",
       "LA              54                70     240"
      ]
     },
     "execution_count": 175,
     "metadata": {},
     "output_type": "execute_result"
    }
   ],
   "source": [
    "company.head(10)"
   ]
  },
  {
   "cell_type": "code",
   "execution_count": 176,
   "metadata": {},
   "outputs": [
    {
     "data": {
      "text/html": [
       "<div>\n",
       "<style scoped>\n",
       "    .dataframe tbody tr th:only-of-type {\n",
       "        vertical-align: middle;\n",
       "    }\n",
       "\n",
       "    .dataframe tbody tr th {\n",
       "        vertical-align: top;\n",
       "    }\n",
       "\n",
       "    .dataframe thead th {\n",
       "        text-align: right;\n",
       "    }\n",
       "</style>\n",
       "<table border=\"1\" class=\"dataframe\">\n",
       "  <thead>\n",
       "    <tr style=\"text-align: right;\">\n",
       "      <th></th>\n",
       "      <th>sales_budget</th>\n",
       "      <th>marketing_budget</th>\n",
       "    </tr>\n",
       "    <tr>\n",
       "      <th>Name</th>\n",
       "      <th></th>\n",
       "      <th></th>\n",
       "    </tr>\n",
       "  </thead>\n",
       "  <tbody>\n",
       "    <tr>\n",
       "      <th>UP</th>\n",
       "      <td>27</td>\n",
       "      <td>60</td>\n",
       "    </tr>\n",
       "    <tr>\n",
       "      <th>QT</th>\n",
       "      <td>80</td>\n",
       "      <td>100</td>\n",
       "    </tr>\n",
       "  </tbody>\n",
       "</table>\n",
       "</div>"
      ],
      "text/plain": [
       "      sales_budget  marketing_budget\n",
       "Name                                \n",
       "UP              27                60\n",
       "QT              80               100"
      ]
     },
     "execution_count": 176,
     "metadata": {},
     "output_type": "execute_result"
    }
   ],
   "source": [
    "# Selecting row & columns using integer references.\n",
    "company.iloc[3:5, 0:2]"
   ]
  },
  {
   "cell_type": "code",
   "execution_count": 177,
   "metadata": {},
   "outputs": [
    {
     "data": {
      "text/html": [
       "<div>\n",
       "<style scoped>\n",
       "    .dataframe tbody tr th:only-of-type {\n",
       "        vertical-align: middle;\n",
       "    }\n",
       "\n",
       "    .dataframe tbody tr th {\n",
       "        vertical-align: top;\n",
       "    }\n",
       "\n",
       "    .dataframe thead th {\n",
       "        text-align: right;\n",
       "    }\n",
       "</style>\n",
       "<table border=\"1\" class=\"dataframe\">\n",
       "  <thead>\n",
       "    <tr style=\"text-align: right;\">\n",
       "      <th></th>\n",
       "      <th>sales_budget</th>\n",
       "      <th>marketing_budget</th>\n",
       "    </tr>\n",
       "    <tr>\n",
       "      <th>Name</th>\n",
       "      <th></th>\n",
       "      <th></th>\n",
       "    </tr>\n",
       "  </thead>\n",
       "  <tbody>\n",
       "    <tr>\n",
       "      <th>PLP</th>\n",
       "      <td>123</td>\n",
       "      <td>90</td>\n",
       "    </tr>\n",
       "    <tr>\n",
       "      <th>MX</th>\n",
       "      <td>340</td>\n",
       "      <td>85</td>\n",
       "    </tr>\n",
       "    <tr>\n",
       "      <th>YP</th>\n",
       "      <td>45</td>\n",
       "      <td>55</td>\n",
       "    </tr>\n",
       "    <tr>\n",
       "      <th>UP</th>\n",
       "      <td>27</td>\n",
       "      <td>60</td>\n",
       "    </tr>\n",
       "    <tr>\n",
       "      <th>QT</th>\n",
       "      <td>80</td>\n",
       "      <td>100</td>\n",
       "    </tr>\n",
       "  </tbody>\n",
       "</table>\n",
       "</div>"
      ],
      "text/plain": [
       "      sales_budget  marketing_budget\n",
       "Name                                \n",
       "PLP            123                90\n",
       "MX             340                85\n",
       "YP              45                55\n",
       "UP              27                60\n",
       "QT              80               100"
      ]
     },
     "execution_count": 177,
     "metadata": {},
     "output_type": "execute_result"
    }
   ],
   "source": [
    "# Selecting row & columns using names.\n",
    "company.loc['PLP':'QT', ['sales_budget', 'marketing_budget']]"
   ]
  },
  {
   "cell_type": "code",
   "execution_count": 178,
   "metadata": {},
   "outputs": [
    {
     "name": "stdout",
     "output_type": "stream",
     "text": [
      "Data:\n",
      "   Name  sales_budget  marketing_budget  Income\n",
      "0   PLP           123                90     400\n",
      "1    MX           340                85     700\n",
      "2    YP            45                55     210\n",
      "3    UP            27                60     200\n",
      "4    QT            80               100     225\n",
      "5    AD            95               100     300\n",
      "6    XC            26                40     150\n",
      "7    MA            72                90     220\n",
      "8    GP            66                80     290\n",
      "9    LA            54                70     240\n",
      "10   WT            43                50     150\n",
      " \n",
      "Object Type: DataFrame\n",
      " \n"
     ]
    }
   ],
   "source": [
    "company_orig = pd.read_csv('company.csv')\n",
    "print_data_and_type(company_orig)"
   ]
  },
  {
   "cell_type": "code",
   "execution_count": 179,
   "metadata": {},
   "outputs": [
    {
     "data": {
      "text/html": [
       "<div>\n",
       "<style scoped>\n",
       "    .dataframe tbody tr th:only-of-type {\n",
       "        vertical-align: middle;\n",
       "    }\n",
       "\n",
       "    .dataframe tbody tr th {\n",
       "        vertical-align: top;\n",
       "    }\n",
       "\n",
       "    .dataframe thead th {\n",
       "        text-align: right;\n",
       "    }\n",
       "</style>\n",
       "<table border=\"1\" class=\"dataframe\">\n",
       "  <thead>\n",
       "    <tr style=\"text-align: right;\">\n",
       "      <th></th>\n",
       "      <th>sales_budget</th>\n",
       "      <th>marketing_budget</th>\n",
       "    </tr>\n",
       "  </thead>\n",
       "  <tbody>\n",
       "    <tr>\n",
       "      <th>4</th>\n",
       "      <td>80</td>\n",
       "      <td>100</td>\n",
       "    </tr>\n",
       "    <tr>\n",
       "      <th>5</th>\n",
       "      <td>95</td>\n",
       "      <td>100</td>\n",
       "    </tr>\n",
       "    <tr>\n",
       "      <th>6</th>\n",
       "      <td>26</td>\n",
       "      <td>40</td>\n",
       "    </tr>\n",
       "  </tbody>\n",
       "</table>\n",
       "</div>"
      ],
      "text/plain": [
       "   sales_budget  marketing_budget\n",
       "4            80               100\n",
       "5            95               100\n",
       "6            26                40"
      ]
     },
     "execution_count": 179,
     "metadata": {},
     "output_type": "execute_result"
    }
   ],
   "source": [
    "company_orig.loc[4:6, ['sales_budget', 'marketing_budget']]"
   ]
  },
  {
   "cell_type": "markdown",
   "metadata": {},
   "source": [
    "#### Creating new fields"
   ]
  },
  {
   "cell_type": "code",
   "execution_count": 180,
   "metadata": {},
   "outputs": [
    {
     "name": "stdout",
     "output_type": "stream",
     "text": [
      "Data:\n",
      "   Name  sales_budget  marketing_budget  Income\n",
      "0   PLP           123                90     400\n",
      "1    MX           340                85     700\n",
      "2    YP            45                55     210\n",
      "3    UP            27                60     200\n",
      "4    QT            80               100     225\n",
      "5    AD            95               100     300\n",
      "6    XC            26                40     150\n",
      "7    MA            72                90     220\n",
      "8    GP            66                80     290\n",
      "9    LA            54                70     240\n",
      "10   WT            43                50     150\n",
      " \n",
      "Object Type: DataFrame\n",
      " \n"
     ]
    }
   ],
   "source": [
    "company_new = pd.read_csv('company.csv')\n",
    "print_data_and_type(company_new)"
   ]
  },
  {
   "cell_type": "code",
   "execution_count": 181,
   "metadata": {},
   "outputs": [
    {
     "data": {
      "text/html": [
       "<div>\n",
       "<style scoped>\n",
       "    .dataframe tbody tr th:only-of-type {\n",
       "        vertical-align: middle;\n",
       "    }\n",
       "\n",
       "    .dataframe tbody tr th {\n",
       "        vertical-align: top;\n",
       "    }\n",
       "\n",
       "    .dataframe thead th {\n",
       "        text-align: right;\n",
       "    }\n",
       "</style>\n",
       "<table border=\"1\" class=\"dataframe\">\n",
       "  <thead>\n",
       "    <tr style=\"text-align: right;\">\n",
       "      <th></th>\n",
       "      <th>Name</th>\n",
       "      <th>sales_budget</th>\n",
       "      <th>marketing_budget</th>\n",
       "      <th>Income</th>\n",
       "      <th>large_budget</th>\n",
       "    </tr>\n",
       "  </thead>\n",
       "  <tbody>\n",
       "    <tr>\n",
       "      <th>0</th>\n",
       "      <td>PLP</td>\n",
       "      <td>123</td>\n",
       "      <td>90</td>\n",
       "      <td>400</td>\n",
       "      <td>True</td>\n",
       "    </tr>\n",
       "    <tr>\n",
       "      <th>1</th>\n",
       "      <td>MX</td>\n",
       "      <td>340</td>\n",
       "      <td>85</td>\n",
       "      <td>700</td>\n",
       "      <td>True</td>\n",
       "    </tr>\n",
       "    <tr>\n",
       "      <th>2</th>\n",
       "      <td>YP</td>\n",
       "      <td>45</td>\n",
       "      <td>55</td>\n",
       "      <td>210</td>\n",
       "      <td>False</td>\n",
       "    </tr>\n",
       "    <tr>\n",
       "      <th>3</th>\n",
       "      <td>UP</td>\n",
       "      <td>27</td>\n",
       "      <td>60</td>\n",
       "      <td>200</td>\n",
       "      <td>False</td>\n",
       "    </tr>\n",
       "  </tbody>\n",
       "</table>\n",
       "</div>"
      ],
      "text/plain": [
       "  Name  sales_budget  marketing_budget  Income  large_budget\n",
       "0  PLP           123                90     400          True\n",
       "1   MX           340                85     700          True\n",
       "2   YP            45                55     210         False\n",
       "3   UP            27                60     200         False"
      ]
     },
     "execution_count": 181,
     "metadata": {},
     "output_type": "execute_result"
    }
   ],
   "source": [
    "company_new['large_budget'] = company_new.sales_budget > 100\n",
    "company_new.head(4)"
   ]
  },
  {
   "cell_type": "markdown",
   "metadata": {},
   "source": [
    "#### Assigning with lambda"
   ]
  },
  {
   "cell_type": "code",
   "execution_count": 182,
   "metadata": {},
   "outputs": [
    {
     "data": {
      "text/html": [
       "<div>\n",
       "<style scoped>\n",
       "    .dataframe tbody tr th:only-of-type {\n",
       "        vertical-align: middle;\n",
       "    }\n",
       "\n",
       "    .dataframe tbody tr th {\n",
       "        vertical-align: top;\n",
       "    }\n",
       "\n",
       "    .dataframe thead th {\n",
       "        text-align: right;\n",
       "    }\n",
       "</style>\n",
       "<table border=\"1\" class=\"dataframe\">\n",
       "  <thead>\n",
       "    <tr style=\"text-align: right;\">\n",
       "      <th></th>\n",
       "      <th>Name</th>\n",
       "      <th>sales_budget</th>\n",
       "      <th>marketing_budget</th>\n",
       "      <th>Income</th>\n",
       "      <th>large_sales_budget</th>\n",
       "      <th>large_marketing_budget</th>\n",
       "      <th>both_large</th>\n",
       "    </tr>\n",
       "  </thead>\n",
       "  <tbody>\n",
       "    <tr>\n",
       "      <th>0</th>\n",
       "      <td>PLP</td>\n",
       "      <td>123</td>\n",
       "      <td>90</td>\n",
       "      <td>400</td>\n",
       "      <td>True</td>\n",
       "      <td>True</td>\n",
       "      <td>True</td>\n",
       "    </tr>\n",
       "    <tr>\n",
       "      <th>1</th>\n",
       "      <td>MX</td>\n",
       "      <td>340</td>\n",
       "      <td>85</td>\n",
       "      <td>700</td>\n",
       "      <td>True</td>\n",
       "      <td>True</td>\n",
       "      <td>True</td>\n",
       "    </tr>\n",
       "    <tr>\n",
       "      <th>2</th>\n",
       "      <td>YP</td>\n",
       "      <td>45</td>\n",
       "      <td>55</td>\n",
       "      <td>210</td>\n",
       "      <td>False</td>\n",
       "      <td>True</td>\n",
       "      <td>False</td>\n",
       "    </tr>\n",
       "    <tr>\n",
       "      <th>3</th>\n",
       "      <td>UP</td>\n",
       "      <td>27</td>\n",
       "      <td>60</td>\n",
       "      <td>200</td>\n",
       "      <td>False</td>\n",
       "      <td>True</td>\n",
       "      <td>False</td>\n",
       "    </tr>\n",
       "    <tr>\n",
       "      <th>4</th>\n",
       "      <td>QT</td>\n",
       "      <td>80</td>\n",
       "      <td>100</td>\n",
       "      <td>225</td>\n",
       "      <td>False</td>\n",
       "      <td>True</td>\n",
       "      <td>False</td>\n",
       "    </tr>\n",
       "    <tr>\n",
       "      <th>5</th>\n",
       "      <td>AD</td>\n",
       "      <td>95</td>\n",
       "      <td>100</td>\n",
       "      <td>300</td>\n",
       "      <td>False</td>\n",
       "      <td>True</td>\n",
       "      <td>False</td>\n",
       "    </tr>\n",
       "    <tr>\n",
       "      <th>6</th>\n",
       "      <td>XC</td>\n",
       "      <td>26</td>\n",
       "      <td>40</td>\n",
       "      <td>150</td>\n",
       "      <td>False</td>\n",
       "      <td>False</td>\n",
       "      <td>False</td>\n",
       "    </tr>\n",
       "    <tr>\n",
       "      <th>7</th>\n",
       "      <td>MA</td>\n",
       "      <td>72</td>\n",
       "      <td>90</td>\n",
       "      <td>220</td>\n",
       "      <td>False</td>\n",
       "      <td>True</td>\n",
       "      <td>False</td>\n",
       "    </tr>\n",
       "    <tr>\n",
       "      <th>8</th>\n",
       "      <td>GP</td>\n",
       "      <td>66</td>\n",
       "      <td>80</td>\n",
       "      <td>290</td>\n",
       "      <td>False</td>\n",
       "      <td>True</td>\n",
       "      <td>False</td>\n",
       "    </tr>\n",
       "    <tr>\n",
       "      <th>9</th>\n",
       "      <td>LA</td>\n",
       "      <td>54</td>\n",
       "      <td>70</td>\n",
       "      <td>240</td>\n",
       "      <td>False</td>\n",
       "      <td>True</td>\n",
       "      <td>False</td>\n",
       "    </tr>\n",
       "  </tbody>\n",
       "</table>\n",
       "</div>"
      ],
      "text/plain": [
       "  Name  sales_budget  marketing_budget  Income  large_sales_budget  \\\n",
       "0  PLP           123                90     400                True   \n",
       "1   MX           340                85     700                True   \n",
       "2   YP            45                55     210               False   \n",
       "3   UP            27                60     200               False   \n",
       "4   QT            80               100     225               False   \n",
       "5   AD            95               100     300               False   \n",
       "6   XC            26                40     150               False   \n",
       "7   MA            72                90     220               False   \n",
       "8   GP            66                80     290               False   \n",
       "9   LA            54                70     240               False   \n",
       "\n",
       "   large_marketing_budget  both_large  \n",
       "0                    True        True  \n",
       "1                    True        True  \n",
       "2                    True       False  \n",
       "3                    True       False  \n",
       "4                    True       False  \n",
       "5                    True       False  \n",
       "6                   False       False  \n",
       "7                    True       False  \n",
       "8                    True       False  \n",
       "9                    True       False  "
      ]
     },
     "execution_count": 182,
     "metadata": {},
     "output_type": "execute_result"
    }
   ],
   "source": [
    "company_new = pd.read_csv('company.csv')\n",
    "company_with_lambda = company_new.assign(\n",
    "    large_sales_budget=company_new.sales_budget > 100,\n",
    "    large_marketing_budget=company_new.marketing_budget > 40,\n",
    "    # Defining a lambda function here\n",
    "    both_large=lambda d: d.large_sales_budget & d.large_marketing_budget\n",
    "    )\n",
    "company_with_lambda.head(10)"
   ]
  },
  {
   "cell_type": "markdown",
   "metadata": {},
   "source": [
    "#### Wide and Long Datasets"
   ]
  },
  {
   "cell_type": "code",
   "execution_count": 186,
   "metadata": {},
   "outputs": [],
   "source": [
    "data = pd.DataFrame({\n",
    "    'Day':   ['08/01', '08/02', '08/03', '08/04',    '08/05'],\n",
    "    'Ford':   [1.03,    1.05,    1.07,    1.09,      1.11],\n",
    "    'Apple':  [2.01,    2.03,    2.05,    2.07,      2.09],\n",
    "    'Amazon': [3.02,    3.04,    3.06,    3.08,      3.10],\n",
    "    'GE':     [4.04,    4.05,    4.06,    4.07,      4.08],\n",
    "})\n"
   ]
  },
  {
   "cell_type": "markdown",
   "metadata": {},
   "source": [
    "#### Converting to long with 'melt'"
   ]
  },
  {
   "cell_type": "code",
   "execution_count": 191,
   "metadata": {},
   "outputs": [
    {
     "data": {
      "text/html": [
       "<div>\n",
       "<style scoped>\n",
       "    .dataframe tbody tr th:only-of-type {\n",
       "        vertical-align: middle;\n",
       "    }\n",
       "\n",
       "    .dataframe tbody tr th {\n",
       "        vertical-align: top;\n",
       "    }\n",
       "\n",
       "    .dataframe thead th {\n",
       "        text-align: right;\n",
       "    }\n",
       "</style>\n",
       "<table border=\"1\" class=\"dataframe\">\n",
       "  <thead>\n",
       "    <tr style=\"text-align: right;\">\n",
       "      <th></th>\n",
       "      <th>Day</th>\n",
       "      <th>Company</th>\n",
       "      <th>Price</th>\n",
       "    </tr>\n",
       "  </thead>\n",
       "  <tbody>\n",
       "    <tr>\n",
       "      <th>0</th>\n",
       "      <td>08/01</td>\n",
       "      <td>Ford</td>\n",
       "      <td>1.03</td>\n",
       "    </tr>\n",
       "    <tr>\n",
       "      <th>1</th>\n",
       "      <td>08/02</td>\n",
       "      <td>Ford</td>\n",
       "      <td>1.05</td>\n",
       "    </tr>\n",
       "    <tr>\n",
       "      <th>2</th>\n",
       "      <td>08/03</td>\n",
       "      <td>Ford</td>\n",
       "      <td>1.07</td>\n",
       "    </tr>\n",
       "    <tr>\n",
       "      <th>3</th>\n",
       "      <td>08/04</td>\n",
       "      <td>Ford</td>\n",
       "      <td>1.09</td>\n",
       "    </tr>\n",
       "    <tr>\n",
       "      <th>4</th>\n",
       "      <td>08/05</td>\n",
       "      <td>Ford</td>\n",
       "      <td>1.11</td>\n",
       "    </tr>\n",
       "    <tr>\n",
       "      <th>5</th>\n",
       "      <td>08/01</td>\n",
       "      <td>Apple</td>\n",
       "      <td>2.01</td>\n",
       "    </tr>\n",
       "    <tr>\n",
       "      <th>6</th>\n",
       "      <td>08/02</td>\n",
       "      <td>Apple</td>\n",
       "      <td>2.03</td>\n",
       "    </tr>\n",
       "    <tr>\n",
       "      <th>7</th>\n",
       "      <td>08/03</td>\n",
       "      <td>Apple</td>\n",
       "      <td>2.05</td>\n",
       "    </tr>\n",
       "    <tr>\n",
       "      <th>8</th>\n",
       "      <td>08/04</td>\n",
       "      <td>Apple</td>\n",
       "      <td>2.07</td>\n",
       "    </tr>\n",
       "    <tr>\n",
       "      <th>9</th>\n",
       "      <td>08/05</td>\n",
       "      <td>Apple</td>\n",
       "      <td>2.09</td>\n",
       "    </tr>\n",
       "  </tbody>\n",
       "</table>\n",
       "</div>"
      ],
      "text/plain": [
       "     Day Company  Price\n",
       "0  08/01    Ford   1.03\n",
       "1  08/02    Ford   1.05\n",
       "2  08/03    Ford   1.07\n",
       "3  08/04    Ford   1.09\n",
       "4  08/05    Ford   1.11\n",
       "5  08/01   Apple   2.01\n",
       "6  08/02   Apple   2.03\n",
       "7  08/03   Apple   2.05\n",
       "8  08/04   Apple   2.07\n",
       "9  08/05   Apple   2.09"
      ]
     },
     "execution_count": 191,
     "metadata": {},
     "output_type": "execute_result"
    }
   ],
   "source": [
    "melted_data = data.melt(id_vars=['Day'], var_name='Company', value_name='Price')\n",
    "melted_data.head(10)"
   ]
  },
  {
   "cell_type": "markdown",
   "metadata": {},
   "source": [
    "#### Converting back to wide with 'pivot'"
   ]
  },
  {
   "cell_type": "code",
   "execution_count": 192,
   "metadata": {},
   "outputs": [
    {
     "data": {
      "text/html": [
       "<div>\n",
       "<style scoped>\n",
       "    .dataframe tbody tr th:only-of-type {\n",
       "        vertical-align: middle;\n",
       "    }\n",
       "\n",
       "    .dataframe tbody tr th {\n",
       "        vertical-align: top;\n",
       "    }\n",
       "\n",
       "    .dataframe thead th {\n",
       "        text-align: right;\n",
       "    }\n",
       "</style>\n",
       "<table border=\"1\" class=\"dataframe\">\n",
       "  <thead>\n",
       "    <tr style=\"text-align: right;\">\n",
       "      <th></th>\n",
       "      <th>Day</th>\n",
       "      <th>Amazon</th>\n",
       "      <th>Apple</th>\n",
       "      <th>Ford</th>\n",
       "      <th>GE</th>\n",
       "    </tr>\n",
       "  </thead>\n",
       "  <tbody>\n",
       "    <tr>\n",
       "      <th>0</th>\n",
       "      <td>08/01</td>\n",
       "      <td>3.02</td>\n",
       "      <td>2.01</td>\n",
       "      <td>1.03</td>\n",
       "      <td>4.04</td>\n",
       "    </tr>\n",
       "    <tr>\n",
       "      <th>1</th>\n",
       "      <td>08/02</td>\n",
       "      <td>3.04</td>\n",
       "      <td>2.03</td>\n",
       "      <td>1.05</td>\n",
       "      <td>4.05</td>\n",
       "    </tr>\n",
       "    <tr>\n",
       "      <th>2</th>\n",
       "      <td>08/03</td>\n",
       "      <td>3.06</td>\n",
       "      <td>2.05</td>\n",
       "      <td>1.07</td>\n",
       "      <td>4.06</td>\n",
       "    </tr>\n",
       "    <tr>\n",
       "      <th>3</th>\n",
       "      <td>08/04</td>\n",
       "      <td>3.08</td>\n",
       "      <td>2.07</td>\n",
       "      <td>1.09</td>\n",
       "      <td>4.07</td>\n",
       "    </tr>\n",
       "    <tr>\n",
       "      <th>4</th>\n",
       "      <td>08/05</td>\n",
       "      <td>3.10</td>\n",
       "      <td>2.09</td>\n",
       "      <td>1.11</td>\n",
       "      <td>4.08</td>\n",
       "    </tr>\n",
       "  </tbody>\n",
       "</table>\n",
       "</div>"
      ],
      "text/plain": [
       "     Day  Amazon  Apple  Ford    GE\n",
       "0  08/01    3.02   2.01  1.03  4.04\n",
       "1  08/02    3.04   2.03  1.05  4.05\n",
       "2  08/03    3.06   2.05  1.07  4.06\n",
       "3  08/04    3.08   2.07  1.09  4.07\n",
       "4  08/05    3.10   2.09  1.11  4.08"
      ]
     },
     "execution_count": 192,
     "metadata": {},
     "output_type": "execute_result"
    }
   ],
   "source": [
    "# Convert from long to wide\n",
    "pivoted_data = melted_data.pivot(index=\"Day\", columns=[\"Company\"], values=\"Price\")\n",
    "pivoted_data = pivoted_data.reset_index(inplace=False)# .rename_axis(None,1)\n",
    "pivoted_data.columns.name = ' ' \n",
    "pivoted_data"
   ]
  },
  {
   "cell_type": "markdown",
   "metadata": {},
   "source": [
    "#### Back to long with 'melt'"
   ]
  },
  {
   "cell_type": "code",
   "execution_count": 195,
   "metadata": {},
   "outputs": [
    {
     "data": {
      "text/html": [
       "<div>\n",
       "<style scoped>\n",
       "    .dataframe tbody tr th:only-of-type {\n",
       "        vertical-align: middle;\n",
       "    }\n",
       "\n",
       "    .dataframe tbody tr th {\n",
       "        vertical-align: top;\n",
       "    }\n",
       "\n",
       "    .dataframe thead th {\n",
       "        text-align: right;\n",
       "    }\n",
       "</style>\n",
       "<table border=\"1\" class=\"dataframe\">\n",
       "  <thead>\n",
       "    <tr style=\"text-align: right;\">\n",
       "      <th></th>\n",
       "      <th>Day</th>\n",
       "      <th>Company</th>\n",
       "      <th>Price</th>\n",
       "    </tr>\n",
       "  </thead>\n",
       "  <tbody>\n",
       "    <tr>\n",
       "      <th>0</th>\n",
       "      <td>08/01</td>\n",
       "      <td>Amazon</td>\n",
       "      <td>3.02</td>\n",
       "    </tr>\n",
       "    <tr>\n",
       "      <th>1</th>\n",
       "      <td>08/02</td>\n",
       "      <td>Amazon</td>\n",
       "      <td>3.04</td>\n",
       "    </tr>\n",
       "    <tr>\n",
       "      <th>2</th>\n",
       "      <td>08/03</td>\n",
       "      <td>Amazon</td>\n",
       "      <td>3.06</td>\n",
       "    </tr>\n",
       "    <tr>\n",
       "      <th>3</th>\n",
       "      <td>08/04</td>\n",
       "      <td>Amazon</td>\n",
       "      <td>3.08</td>\n",
       "    </tr>\n",
       "    <tr>\n",
       "      <th>4</th>\n",
       "      <td>08/05</td>\n",
       "      <td>Amazon</td>\n",
       "      <td>3.10</td>\n",
       "    </tr>\n",
       "    <tr>\n",
       "      <th>5</th>\n",
       "      <td>08/01</td>\n",
       "      <td>Apple</td>\n",
       "      <td>2.01</td>\n",
       "    </tr>\n",
       "    <tr>\n",
       "      <th>6</th>\n",
       "      <td>08/02</td>\n",
       "      <td>Apple</td>\n",
       "      <td>2.03</td>\n",
       "    </tr>\n",
       "    <tr>\n",
       "      <th>7</th>\n",
       "      <td>08/03</td>\n",
       "      <td>Apple</td>\n",
       "      <td>2.05</td>\n",
       "    </tr>\n",
       "    <tr>\n",
       "      <th>8</th>\n",
       "      <td>08/04</td>\n",
       "      <td>Apple</td>\n",
       "      <td>2.07</td>\n",
       "    </tr>\n",
       "    <tr>\n",
       "      <th>9</th>\n",
       "      <td>08/05</td>\n",
       "      <td>Apple</td>\n",
       "      <td>2.09</td>\n",
       "    </tr>\n",
       "  </tbody>\n",
       "</table>\n",
       "</div>"
      ],
      "text/plain": [
       "     Day Company  Price\n",
       "0  08/01  Amazon   3.02\n",
       "1  08/02  Amazon   3.04\n",
       "2  08/03  Amazon   3.06\n",
       "3  08/04  Amazon   3.08\n",
       "4  08/05  Amazon   3.10\n",
       "5  08/01   Apple   2.01\n",
       "6  08/02   Apple   2.03\n",
       "7  08/03   Apple   2.05\n",
       "8  08/04   Apple   2.07\n",
       "9  08/05   Apple   2.09"
      ]
     },
     "execution_count": 195,
     "metadata": {},
     "output_type": "execute_result"
    }
   ],
   "source": [
    "back_to_melted  = pivoted_data.melt(id_vars=['Day'])\n",
    "back_to_melted.columns = ['Day', 'Company', 'Price']\n",
    "back_to_melted.head(10)"
   ]
  },
  {
   "cell_type": "markdown",
   "metadata": {},
   "source": [
    "#### Using map and "
   ]
  },
  {
   "cell_type": "code",
   "execution_count": null,
   "metadata": {},
   "outputs": [],
   "source": []
  }
 ],
 "metadata": {
  "kernelspec": {
   "display_name": "Python 3 (ipykernel)",
   "language": "python",
   "name": "python3"
  },
  "language_info": {
   "codemirror_mode": {
    "name": "ipython",
    "version": 3
   },
   "file_extension": ".py",
   "mimetype": "text/x-python",
   "name": "python",
   "nbconvert_exporter": "python",
   "pygments_lexer": "ipython3",
   "version": "3.10.6"
  },
  "widgets": {
   "state": {},
   "version": "1.1.2"
  }
 },
 "nbformat": 4,
 "nbformat_minor": 4
}
