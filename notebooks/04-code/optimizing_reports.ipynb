{
 "cells": [
  {
   "cell_type": "markdown",
   "id": "1b741de4",
   "metadata": {},
   "source": [
    "#### The code below is correct, but we can streamline it a little bit."
   ]
  },
  {
   "cell_type": "raw",
   "id": "71fd18a3",
   "metadata": {},
   "source": [
    "zero_sibSp = filter_by_sibSp(data, '0')\n",
    "one_sibSp = filter_by_sibSp(data, '1')\n",
    "two_sibSp = filter_by_sibSp(data, '2')\n",
    "three_sibSp = filter_by_sibSp(data, '3')\n",
    "four_sibSp = filter_by_sibSp(data, '4')\n",
    "five_sibSp = filter_by_sibSp(data, '5')"
   ]
  },
  {
   "cell_type": "markdown",
   "id": "3cd88144",
   "metadata": {},
   "source": [
    "#### Fake function"
   ]
  },
  {
   "cell_type": "code",
   "execution_count": 10,
   "id": "a3502ba5",
   "metadata": {},
   "outputs": [],
   "source": [
    "data = 'abc'\n",
    "def filter_by_sibSp(data, field_match):\n",
    "    return (data + field_match)"
   ]
  },
  {
   "cell_type": "markdown",
   "id": "0e4efc28",
   "metadata": {},
   "source": [
    "#### Array based organization"
   ]
  },
  {
   "cell_type": "code",
   "execution_count": 25,
   "id": "6a5e1326",
   "metadata": {},
   "outputs": [
    {
     "data": {
      "text/plain": [
       "['0', '1', '2', '3', '4', '5']"
      ]
     },
     "execution_count": 25,
     "metadata": {},
     "output_type": "execute_result"
    }
   ],
   "source": [
    "sibSpArr = [str(x) for x in range(6)]\n",
    "sibSpArr"
   ]
  },
  {
   "cell_type": "code",
   "execution_count": 24,
   "id": "bddfee3e",
   "metadata": {},
   "outputs": [
    {
     "data": {
      "text/plain": [
       "[('0', 'mydata0'),\n",
       " ('1', 'mydata1'),\n",
       " ('2', 'mydata2'),\n",
       " ('3', 'mydata3'),\n",
       " ('4', 'mydata4'),\n",
       " ('5', 'mydata5')]"
      ]
     },
     "execution_count": 24,
     "metadata": {},
     "output_type": "execute_result"
    }
   ],
   "source": [
    "results = [(x, filter_by_sibSp(data, x)) for x in sibSpArr]\n",
    "results"
   ]
  },
  {
   "cell_type": "code",
   "execution_count": 26,
   "id": "75a4813a",
   "metadata": {},
   "outputs": [
    {
     "name": "stdout",
     "output_type": "stream",
     "text": [
      "Filter=0 -> mydata0\n",
      "Filter=1 -> mydata1\n",
      "Filter=2 -> mydata2\n",
      "Filter=3 -> mydata3\n",
      "Filter=4 -> mydata4\n",
      "Filter=5 -> mydata5\n"
     ]
    }
   ],
   "source": [
    "for elm in results:\n",
    "    print('Filter={0} -> {1}'.format(*elm))"
   ]
  },
  {
   "cell_type": "markdown",
   "id": "ee7da68a",
   "metadata": {},
   "source": [
    "#### Dictionary based organization"
   ]
  },
  {
   "cell_type": "code",
   "execution_count": 20,
   "id": "7815d1d8",
   "metadata": {},
   "outputs": [],
   "source": [
    "data = 'mydata'\n",
    "\n",
    "def calculation_1(data, other_parm):\n",
    "    return other_parm * 1.2\n",
    "\n",
    "def calculation_2(data, other_parm):\n",
    "    return other_parm * 1.5"
   ]
  },
  {
   "cell_type": "code",
   "execution_count": 27,
   "id": "b86e7196",
   "metadata": {},
   "outputs": [
    {
     "data": {
      "text/plain": [
       "OrderedDict([(0, {}), (1, {}), (2, {}), (3, {}), (4, {}), (5, {})])"
      ]
     },
     "execution_count": 27,
     "metadata": {},
     "output_type": "execute_result"
    }
   ],
   "source": [
    "from collections import OrderedDict\n",
    "sibSpDict = OrderedDict()\n",
    "\n",
    "for x in range(6):\n",
    "    sibSpDict[x] = dict()\n",
    "sibSpDict"
   ]
  },
  {
   "cell_type": "code",
   "execution_count": 28,
   "id": "b7b32e11",
   "metadata": {},
   "outputs": [],
   "source": [
    "\n",
    "for key in sibSpDict:\n",
    "    my_rec = sibSpDict[key]\n",
    "    my_rec['calc_1'] = calculation_1(data, 2)\n",
    "    my_rec['calc_2'] = calculation_1(data, 2)\n"
   ]
  },
  {
   "cell_type": "code",
   "execution_count": 30,
   "id": "d9002eeb",
   "metadata": {},
   "outputs": [
    {
     "name": "stdout",
     "output_type": "stream",
     "text": [
      "sibSp_0 {'calc_1': 2.4, 'calc_2': 2.4}\n",
      "sibSp_1 {'calc_1': 2.4, 'calc_2': 2.4}\n",
      "sibSp_2 {'calc_1': 2.4, 'calc_2': 2.4}\n",
      "sibSp_3 {'calc_1': 2.4, 'calc_2': 2.4}\n",
      "sibSp_4 {'calc_1': 2.4, 'calc_2': 2.4}\n",
      "sibSp_5 {'calc_1': 2.4, 'calc_2': 2.4}\n"
     ]
    }
   ],
   "source": [
    "for key in sibSpDict:\n",
    "    rec = sibSpDict[key]\n",
    "    print('sibSp_'+str(key), end=' ')\n",
    "    print(rec)"
   ]
  },
  {
   "cell_type": "code",
   "execution_count": null,
   "id": "c9548518",
   "metadata": {},
   "outputs": [],
   "source": []
  }
 ],
 "metadata": {
  "kernelspec": {
   "display_name": "Python 3 (ipykernel)",
   "language": "python",
   "name": "python3"
  },
  "language_info": {
   "codemirror_mode": {
    "name": "ipython",
    "version": 3
   },
   "file_extension": ".py",
   "mimetype": "text/x-python",
   "name": "python",
   "nbconvert_exporter": "python",
   "pygments_lexer": "ipython3",
   "version": "3.9.7"
  }
 },
 "nbformat": 4,
 "nbformat_minor": 5
}
