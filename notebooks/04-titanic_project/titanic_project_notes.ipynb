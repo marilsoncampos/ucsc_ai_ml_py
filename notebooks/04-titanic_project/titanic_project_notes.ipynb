{
 "cells": [
  {
   "cell_type": "markdown",
   "metadata": {},
   "source": [
    "### Course Project: Titanic Exploratory Data Analysis and Model"
   ]
  },
  {
   "cell_type": "markdown",
   "metadata": {},
   "source": [
    "##### The problem:\n",
    "\n",
    "Perform an exploratory data analysis (EDA) on the 'Titanic' dataset and build a model to predict survival based on the information about the passengers.\n",
    "\n",
    "During the EDA, your goal is to understand the data, missing values, and relationships. A common practice is to ask questions relevant to the problem and explain what you see.\n",
    "\n",
    "Your goal is to build a document that reads like a story, beginning, middle, and end. It should include findings even if the conclusion is something like this: \"Based on our analysis, there is no indication that this variable influences the Survival.\"\n",
    "\n",
    "Your grade will not depend on the absolute 'error' of the final model. Instead, the focus is where you started and what steps you took to improve it.\n",
    "\n",
    "Many factors influence final performance based on the ML algorithm selected.\n",
    "Your report should include work focusing on these areas:\n",
    "\n",
    "- Load the data and formulate some hypotheses about it.\n",
    "\n",
    "- Summarize or visualize the data and explain the findings.\n",
    "\n",
    "- Explore opportunities for 'Feature engineering,' trying to create new features from the original data.\n",
    "\n",
    "- Build and tune the model. (We are providing a sample code for this part so you can adjust it.)\n",
    "\n",
    "\n",
    "Here is a sequence that you can use as a starting point for the EDA.\n",
    "\n",
    "**Section 1. Basic Hypothesis formulation**\n",
    "\n",
    "Here are a few questions to explore:\n",
    "\n",
    "_A. Questions about features (Predictors)_\n",
    "\n",
    "* Is the size of the group a determinant factor in the survival of the accident?\n",
    "* How is survival influenced based on passenger class?\n",
    "* How does age influence survival? \n",
    "\n",
    "_B. Questions about ways to complete missing data._\n",
    "\n",
    "* Can I use the person title listed in the ticket to estimate age?\n",
    "* Can I use the passenger gender to estimate age?\n",
    "\n",
    "_C. Map two feature against survival_\n",
    "* How can we see the effect of 'Group size' and 'Age' on chances of survival?\n",
    "\n",
    "**Section 2. Feature Engineering**\n",
    " \n",
    "_A. Creating new features_\n",
    "\n",
    "* Can I use ticket information to generate information about the passenger's location on the ship? \n",
    "* Can we extract information about the title to assign passengers into groups like 'members of clergy,' 'widows,' 'soldiers,' etc.?\n",
    "\n",
    "\n",
    "**Section 3. Summarize the findings with plots.**\n",
    "\n",
    "For each hypothesis, you have selected, create a visual representation to help confirm or reject the original premise.\n",
    "\n",
    "\n",
    "**Section 4. Build an initial prediction model for surviving the accident.**\n",
    "\n",
    "Using the template code provided, create a model using at least six features and comment on your findings.\n",
    "\n",
    "**Section 5. Tune the prediction model.**\n",
    "\n",
    "Using the template code provided, adjust the values of the hyperparameters.\n",
    "\n",
    "**Section 6. Final Notes.**\n",
    "\n",
    "Complete your report stating a summary of the conclusions and \n",
    "suggesting next steps.\n",
    "\n"
   ]
  },
  {
   "cell_type": "code",
   "execution_count": null,
   "metadata": {},
   "outputs": [],
   "source": []
  }
 ],
 "metadata": {
  "kernelspec": {
   "display_name": "Python 3 (ipykernel)",
   "language": "python",
   "name": "python3"
  },
  "language_info": {
   "codemirror_mode": {
    "name": "ipython",
    "version": 3
   },
   "file_extension": ".py",
   "mimetype": "text/x-python",
   "name": "python",
   "nbconvert_exporter": "python",
   "pygments_lexer": "ipython3",
   "version": "3.9.7"
  }
 },
 "nbformat": 4,
 "nbformat_minor": 4
}
