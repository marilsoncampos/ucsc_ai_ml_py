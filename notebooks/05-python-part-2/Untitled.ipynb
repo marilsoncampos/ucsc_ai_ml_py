{
 "cells": [
  {
   "cell_type": "markdown",
   "id": "edaf2e7e",
   "metadata": {},
   "source": [
    "#### Running shell commands in python"
   ]
  },
  {
   "cell_type": "code",
   "execution_count": 36,
   "id": "ce99a603",
   "metadata": {},
   "outputs": [],
   "source": [
    "import subprocess\n",
    "from dataclasses import dataclass\n",
    "    \n",
    "@dataclass\n",
    "class CmdResult:\n",
    "    \"\"\"Represents the result of execution of a shell command\"\"\"\n",
    "    error_code: int\n",
    "    output: str\n",
    "    error: str\n",
    "\n",
    "def run_shell(cmd):\n",
    "    \"\"\"Runs a shell command and returns an object CmdResult\"\"\"\n",
    "    result_obj = subprocess.run(cmd, shell=True, capture_output=True)\n",
    "    output_str = result_obj.stdout.decode('utf-8')\n",
    "    error_str = result_obj.stderr.decode('utf-8')\n",
    "    return CmdResult(result_obj.returncode, output_str, error_str)\n",
    " \n",
    "def report_on_result(result):\n",
    "    \"\"\"Helper function to print results formatted.\"\"\"\n",
    "    def header(title):\n",
    "        title_str = f'--- [{title}] '\n",
    "        print(title_str.ljust(30, '-'))\n",
    "              \n",
    "    header('Return Code')\n",
    "    print(result.error_code)\n",
    "    header('Output')\n",
    "    for line in result.output.split('\\n'):\n",
    "        print('' + line)\n",
    "    header('Error') \n",
    "    error_lines = result.error.split('\\n') if result.error != '' else []\n",
    "    if not error_lines:\n",
    "        print('No errors.')\n",
    "    else:\n",
    "        for line in error_lines:\n",
    "            print('[' + line +']')\n",
    "        \n",
    "def run_cmd_and_report(cmd):\n",
    "    \"\"\"Helper function to debug calls.\"\"\"\n",
    "    print('Running:' + cmd)\n",
    "    result = run_shell(cmd)\n",
    "    report_on_result(result)\n",
    "\n"
   ]
  },
  {
   "cell_type": "code",
   "execution_count": 37,
   "id": "38480f04",
   "metadata": {},
   "outputs": [
    {
     "name": "stdout",
     "output_type": "stream",
     "text": [
      "Running:ls -la\n",
      "--- [Return Code] ------------\n",
      "0\n",
      "--- [Output] -----------------\n",
      "total 816\n",
      "drwxrwxrwx  22 mcampos  staff    704 Nov 20 11:35 .\n",
      "drwxrwxrwx  26 mcampos  staff    832 Nov 19 21:27 ..\n",
      "drwxrwxrwx  10 mcampos  staff    320 Nov 20 11:21 .ipynb_checkpoints\n",
      "-rw-r--r--   1 mcampos  staff   5177 Nov 20 11:35 Untitled.ipynb\n",
      "drwxrwxrwx   3 mcampos  staff     96 Jul  8  2021 __pycache__\n",
      "-rwxr-xr-x   1 mcampos  staff    275 Mar  5  2022 data.json\n",
      "-rwxr-xr-x   1 mcampos  staff    105 Mar  5  2022 library.py\n",
      "-rwxr-xr-x   1 mcampos  staff    258 Nov  2 20:58 movies.json\n",
      "-rwxr-xr-x   1 mcampos  staff   3246 Mar  5  2022 my_file.csv\n",
      "-rwxr-xr-x   1 mcampos  staff   9728 Mar  5  2022 my_saved.xls\n",
      "-rw-r--r--   1 mcampos  staff   7307 Oct 30 18:44 my_saved.xlsx\n",
      "-rw-r--r--   1 mcampos  staff   9728 Oct 30 18:41 my_saved2.xls\n",
      "-rw-r--r--   1 mcampos  staff   7307 Oct 30 18:43 my_saved2.xlsx\n",
      "-rwxr-xr-x   1 mcampos  staff  54345 Nov  2 21:00 python_p2_01_misc.ipynb\n",
      "-rwxr-xr-x   1 mcampos  staff  25605 Nov  2 21:03 python_p2_02_magic.ipynb\n",
      "-rwxr-xr-x   1 mcampos  staff   3959 Nov  2 21:08 python_p2_03_generators.ipynb\n",
      "-rwxr-xr-x   1 mcampos  staff  66970 Nov 16 19:21 python_p2_04_classes.ipynb\n",
      "-rwxr-xr-x   1 mcampos  staff  35452 Nov 16 19:56 python_p2_05_exceptions.ipynb\n",
      "-rwxr-xr-x   1 mcampos  staff  12587 Nov 16 20:06 python_p2_06_unit_testing.ipynb\n",
      "-rwxr-xr-x   1 mcampos  staff  13188 Nov 16 20:10 python_p2_07_test_driven.ipynb\n",
      "-rwxr-xr-x@  1 mcampos  staff  60928 Jul 20 20:43 sample_sheet.xls\n",
      "-rw-r--r--@  1 mcampos  staff  61440 Jul 20 20:44 sample_sheet_example.xls\n",
      "\n",
      "--- [Error] ------------------\n",
      "No errors.\n"
     ]
    }
   ],
   "source": [
    "run_cmd_and_report('ls -la')\n"
   ]
  },
  {
   "cell_type": "code",
   "execution_count": 38,
   "id": "88b37a74",
   "metadata": {},
   "outputs": [
    {
     "name": "stdout",
     "output_type": "stream",
     "text": [
      "Running:lx -la\n",
      "--- [Return Code] ------------\n",
      "127\n",
      "--- [Output] -----------------\n",
      "\n",
      "--- [Error] ------------------\n",
      "[/bin/sh: lx: command not found]\n",
      "[]\n"
     ]
    }
   ],
   "source": [
    "run_cmd_and_report('lx -la')"
   ]
  },
  {
   "cell_type": "code",
   "execution_count": null,
   "id": "2a0e9881",
   "metadata": {},
   "outputs": [],
   "source": []
  }
 ],
 "metadata": {
  "kernelspec": {
   "display_name": "Python 3 (ipykernel)",
   "language": "python",
   "name": "python3"
  },
  "language_info": {
   "codemirror_mode": {
    "name": "ipython",
    "version": 3
   },
   "file_extension": ".py",
   "mimetype": "text/x-python",
   "name": "python",
   "nbconvert_exporter": "python",
   "pygments_lexer": "ipython3",
   "version": "3.9.7"
  }
 },
 "nbformat": 4,
 "nbformat_minor": 5
}
