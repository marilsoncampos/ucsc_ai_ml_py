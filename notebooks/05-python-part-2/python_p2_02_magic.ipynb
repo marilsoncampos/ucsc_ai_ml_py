{
 "cells": [
  {
   "cell_type": "markdown",
   "metadata": {},
   "source": [
    "### Using Magic commands and bash in notebooks."
   ]
  },
  {
   "cell_type": "code",
   "execution_count": 33,
   "metadata": {},
   "outputs": [],
   "source": [
    "# https://ipython.readthedocs.io/en/stable/interactive/magics.html"
   ]
  },
  {
   "cell_type": "code",
   "execution_count": 1,
   "metadata": {},
   "outputs": [
    {
     "data": {
      "application/json": {
       "cell": {
        "!": "OSMagics",
        "HTML": "Other",
        "SVG": "Other",
        "bash": "Other",
        "capture": "ExecutionMagics",
        "debug": "ExecutionMagics",
        "file": "Other",
        "html": "DisplayMagics",
        "javascript": "DisplayMagics",
        "js": "DisplayMagics",
        "latex": "DisplayMagics",
        "markdown": "DisplayMagics",
        "perl": "Other",
        "prun": "ExecutionMagics",
        "pypy": "Other",
        "python": "Other",
        "python2": "Other",
        "python3": "Other",
        "ruby": "Other",
        "script": "ScriptMagics",
        "sh": "Other",
        "svg": "DisplayMagics",
        "sx": "OSMagics",
        "system": "OSMagics",
        "time": "ExecutionMagics",
        "timeit": "ExecutionMagics",
        "writefile": "OSMagics"
       },
       "line": {
        "alias": "OSMagics",
        "alias_magic": "BasicMagics",
        "autoawait": "AsyncMagics",
        "autocall": "AutoMagics",
        "automagic": "AutoMagics",
        "autosave": "KernelMagics",
        "bookmark": "OSMagics",
        "cat": "Other",
        "cd": "OSMagics",
        "clear": "KernelMagics",
        "colors": "BasicMagics",
        "conda": "PackagingMagics",
        "config": "ConfigMagics",
        "connect_info": "KernelMagics",
        "cp": "Other",
        "debug": "ExecutionMagics",
        "dhist": "OSMagics",
        "dirs": "OSMagics",
        "doctest_mode": "BasicMagics",
        "ed": "Other",
        "edit": "KernelMagics",
        "env": "OSMagics",
        "gui": "BasicMagics",
        "hist": "Other",
        "history": "HistoryMagics",
        "killbgscripts": "ScriptMagics",
        "ldir": "Other",
        "less": "KernelMagics",
        "lf": "Other",
        "lk": "Other",
        "ll": "Other",
        "load": "CodeMagics",
        "load_ext": "ExtensionMagics",
        "loadpy": "CodeMagics",
        "logoff": "LoggingMagics",
        "logon": "LoggingMagics",
        "logstart": "LoggingMagics",
        "logstate": "LoggingMagics",
        "logstop": "LoggingMagics",
        "ls": "Other",
        "lsmagic": "BasicMagics",
        "lx": "Other",
        "macro": "ExecutionMagics",
        "magic": "BasicMagics",
        "man": "KernelMagics",
        "matplotlib": "PylabMagics",
        "mkdir": "Other",
        "more": "KernelMagics",
        "mv": "Other",
        "notebook": "BasicMagics",
        "page": "BasicMagics",
        "pastebin": "CodeMagics",
        "pdb": "ExecutionMagics",
        "pdef": "NamespaceMagics",
        "pdoc": "NamespaceMagics",
        "pfile": "NamespaceMagics",
        "pinfo": "NamespaceMagics",
        "pinfo2": "NamespaceMagics",
        "pip": "PackagingMagics",
        "popd": "OSMagics",
        "pprint": "BasicMagics",
        "precision": "BasicMagics",
        "prun": "ExecutionMagics",
        "psearch": "NamespaceMagics",
        "psource": "NamespaceMagics",
        "pushd": "OSMagics",
        "pwd": "OSMagics",
        "pycat": "OSMagics",
        "pylab": "PylabMagics",
        "qtconsole": "KernelMagics",
        "quickref": "BasicMagics",
        "recall": "HistoryMagics",
        "rehashx": "OSMagics",
        "reload_ext": "ExtensionMagics",
        "rep": "Other",
        "rerun": "HistoryMagics",
        "reset": "NamespaceMagics",
        "reset_selective": "NamespaceMagics",
        "rm": "Other",
        "rmdir": "Other",
        "run": "ExecutionMagics",
        "save": "CodeMagics",
        "sc": "OSMagics",
        "set_env": "OSMagics",
        "store": "StoreMagics",
        "sx": "OSMagics",
        "system": "OSMagics",
        "tb": "ExecutionMagics",
        "time": "ExecutionMagics",
        "timeit": "ExecutionMagics",
        "unalias": "OSMagics",
        "unload_ext": "ExtensionMagics",
        "who": "NamespaceMagics",
        "who_ls": "NamespaceMagics",
        "whos": "NamespaceMagics",
        "xdel": "NamespaceMagics",
        "xmode": "BasicMagics"
       }
      },
      "text/plain": [
       "Available line magics:\n",
       "%alias  %alias_magic  %autoawait  %autocall  %automagic  %autosave  %bookmark  %cat  %cd  %clear  %colors  %conda  %config  %connect_info  %cp  %debug  %dhist  %dirs  %doctest_mode  %ed  %edit  %env  %gui  %hist  %history  %killbgscripts  %ldir  %less  %lf  %lk  %ll  %load  %load_ext  %loadpy  %logoff  %logon  %logstart  %logstate  %logstop  %ls  %lsmagic  %lx  %macro  %magic  %man  %matplotlib  %mkdir  %more  %mv  %notebook  %page  %pastebin  %pdb  %pdef  %pdoc  %pfile  %pinfo  %pinfo2  %pip  %popd  %pprint  %precision  %prun  %psearch  %psource  %pushd  %pwd  %pycat  %pylab  %qtconsole  %quickref  %recall  %rehashx  %reload_ext  %rep  %rerun  %reset  %reset_selective  %rm  %rmdir  %run  %save  %sc  %set_env  %store  %sx  %system  %tb  %time  %timeit  %unalias  %unload_ext  %who  %who_ls  %whos  %xdel  %xmode\n",
       "\n",
       "Available cell magics:\n",
       "%%!  %%HTML  %%SVG  %%bash  %%capture  %%debug  %%file  %%html  %%javascript  %%js  %%latex  %%markdown  %%perl  %%prun  %%pypy  %%python  %%python2  %%python3  %%ruby  %%script  %%sh  %%svg  %%sx  %%system  %%time  %%timeit  %%writefile\n",
       "\n",
       "Automagic is ON, % prefix IS NOT needed for line magics."
      ]
     },
     "execution_count": 1,
     "metadata": {},
     "output_type": "execute_result"
    }
   ],
   "source": [
    "%lsmagic"
   ]
  },
  {
   "cell_type": "code",
   "execution_count": 2,
   "metadata": {},
   "outputs": [
    {
     "name": "stdout",
     "output_type": "stream",
     "text": [
      "total 784\n",
      "drwxrwxrwx  21 mcampos  staff    672 Nov  2 21:00 .\n",
      "drwxrwxrwx  41 mcampos  staff   1312 Oct 26 21:00 ..\n",
      "drwxrwxrwx   9 mcampos  staff    288 Aug  3  2021 .ipynb_checkpoints\n",
      "drwxrwxrwx   3 mcampos  staff     96 Jul  8  2021 __pycache__\n",
      "-rwxr-xr-x   1 mcampos  staff    275 Mar  5  2022 data.json\n",
      "-rwxr-xr-x   1 mcampos  staff    105 Mar  5  2022 library.py\n",
      "-rwxr-xr-x   1 mcampos  staff    258 Nov  2 20:58 movies.json\n",
      "-rwxr-xr-x   1 mcampos  staff   3246 Mar  5  2022 my_file.csv\n",
      "-rwxr-xr-x   1 mcampos  staff   9728 Mar  5  2022 my_saved.xls\n",
      "-rw-r--r--   1 mcampos  staff   7307 Oct 30 18:44 my_saved.xlsx\n",
      "-rw-r--r--   1 mcampos  staff   9728 Oct 30 18:41 my_saved2.xls\n",
      "-rw-r--r--   1 mcampos  staff   7307 Oct 30 18:43 my_saved2.xlsx\n",
      "-rwxr-xr-x   1 mcampos  staff  54345 Nov  2 21:00 python_p2_01_misc.ipynb\n",
      "-rwxr-xr-x   1 mcampos  staff  25035 Oct 30 18:51 python_p2_02_magic.ipynb\n",
      "-rwxr-xr-x   1 mcampos  staff   4061 Oct 30 18:52 python_p2_03_generators.ipynb\n",
      "-rwxr-xr-x   1 mcampos  staff  57948 Oct 30 20:06 python_p2_04_classes.ipynb\n",
      "-rwxr-xr-x   1 mcampos  staff  34423 Oct 30 20:08 python_p2_05_exceptions.ipynb\n",
      "-rwxr-xr-x   1 mcampos  staff  14773 Oct 30 20:58 python_p2_06_unit_testing.ipynb\n",
      "-rwxr-xr-x   1 mcampos  staff  13195 Oct 30 22:11 python_p2_07_test_driven.ipynb\n",
      "-rwxr-xr-x@  1 mcampos  staff  60928 Jul 20 20:43 sample_sheet.xls\n",
      "-rw-r--r--@  1 mcampos  staff  61440 Jul 20 20:44 sample_sheet_example.xls\n"
     ]
    }
   ],
   "source": [
    "%%bash \n",
    "# Executes bash commands\n",
    "ls -la "
   ]
  },
  {
   "cell_type": "code",
   "execution_count": 2,
   "metadata": {},
   "outputs": [
    {
     "name": "stdout",
     "output_type": "stream",
     "text": [
      "def max_of_3(a, b, c):\r\n",
      "    t1 = max(a, b)\r\n",
      "    return max(t1, c)\r\n",
      "\r\n",
      "\r\n",
      "def sum_of_3(a, b, c):\r\n",
      "    return a+b+c"
     ]
    }
   ],
   "source": [
    "%cat 'library.py'"
   ]
  },
  {
   "cell_type": "code",
   "execution_count": 5,
   "metadata": {},
   "outputs": [
    {
     "name": "stdout",
     "output_type": "stream",
     "text": [
      "def max_of_3(a, b, c):\n",
      "    t1 = max(a, b)\n",
      "    return max(t1, c)\n",
      "\n",
      "\n",
      "def sum_of_3(a, b, c):\n",
      "    return a+b+c"
     ]
    }
   ],
   "source": [
    "%%bash\n",
    "cat library.py"
   ]
  },
  {
   "cell_type": "code",
   "execution_count": 3,
   "metadata": {},
   "outputs": [
    {
     "name": "stdout",
     "output_type": "stream",
     "text": [
      "%lsmagic\n",
      "%cat 'library.py'\n",
      "%hist\n",
      "# list history of commands\n"
     ]
    }
   ],
   "source": [
    "%hist\n",
    "# list history of commands"
   ]
  },
  {
   "cell_type": "code",
   "execution_count": 6,
   "metadata": {},
   "outputs": [],
   "source": [
    "# %less python_p2_03_generators.ipynb\n",
    "# Shows the file and allows uses to scrow up and down."
   ]
  },
  {
   "cell_type": "code",
   "execution_count": 4,
   "metadata": {},
   "outputs": [
    {
     "name": "stdout",
     "output_type": "stream",
     "text": [
      "Total number of aliases: 12\n"
     ]
    },
    {
     "data": {
      "text/plain": [
       "[('cat', 'cat'),\n",
       " ('cp', 'cp'),\n",
       " ('ldir', 'ls -F -G -l %l | grep /$'),\n",
       " ('lf', 'ls -F -l -G %l | grep ^-'),\n",
       " ('lk', 'ls -F -l -G %l | grep ^l'),\n",
       " ('ll', 'ls -F -l -G'),\n",
       " ('ls', 'ls -F -G'),\n",
       " ('lx', 'ls -F -l -G %l | grep ^-..x'),\n",
       " ('mkdir', 'mkdir'),\n",
       " ('mv', 'mv'),\n",
       " ('rm', 'rm'),\n",
       " ('rmdir', 'rmdir')]"
      ]
     },
     "execution_count": 4,
     "metadata": {},
     "output_type": "execute_result"
    }
   ],
   "source": [
    "%alias"
   ]
  },
  {
   "cell_type": "markdown",
   "metadata": {},
   "source": [
    "Lets define an alias called 'error'"
   ]
  },
  {
   "cell_type": "code",
   "execution_count": 6,
   "metadata": {},
   "outputs": [],
   "source": [
    "alias error echo \"Error: [%l]\""
   ]
  },
  {
   "cell_type": "markdown",
   "metadata": {},
   "source": [
    "And uses the alias\n"
   ]
  },
  {
   "cell_type": "code",
   "execution_count": 7,
   "metadata": {},
   "outputs": [
    {
     "name": "stdout",
     "output_type": "stream",
     "text": [
      "Error: [this is an error]\r\n"
     ]
    }
   ],
   "source": [
    "error this is an error"
   ]
  },
  {
   "cell_type": "markdown",
   "metadata": {},
   "source": [
    "#### Alias and function performance."
   ]
  },
  {
   "cell_type": "code",
   "execution_count": 8,
   "metadata": {},
   "outputs": [
    {
     "name": "stdout",
     "output_type": "stream",
     "text": [
      "Created `%t` as an alias for `%timeit`.\n",
      "Created `%%t` as an alias for `%%timeit`.\n"
     ]
    }
   ],
   "source": [
    "# Creating aliases \n",
    "%alias_magic t timeit\n",
    "# This is a line magic `%t` \n",
    "# This is a cell magic `%%t`."
   ]
  },
  {
   "cell_type": "code",
   "execution_count": 9,
   "metadata": {},
   "outputs": [],
   "source": [
    "def my_calc_1(print_res):\n",
    "    result = []\n",
    "    for x in range(1_000):\n",
    "        y = x * x\n",
    "        if x % 10 == 0:\n",
    "            if print_res:\n",
    "                print(y, end=', ')\n",
    "    \n",
    "def my_calc_2(print_res):\n",
    "    result = []\n",
    "    for x in range(1_000):\n",
    "        y = x * x\n",
    "        if y % 10000 == 0:\n",
    "            result.append(str(y))\n",
    "    for idx, elm in enumerate(result):\n",
    "        if print_res:\n",
    "            print(elm, end=', ')\n",
    "        if (idx % 10 == 0) and (idx > 0):\n",
    "            if print_res:\n",
    "                print('')"
   ]
  },
  {
   "cell_type": "code",
   "execution_count": 10,
   "metadata": {},
   "outputs": [
    {
     "name": "stdout",
     "output_type": "stream",
     "text": [
      "71.3 µs ± 7.45 µs per loop (mean ± std. dev. of 12 runs, 1,000 loops each)\n"
     ]
    }
   ],
   "source": [
    "# -r specifies the number of runs.\n",
    "# -n specifies the number of loops per run.\n",
    "# Results are the average and std dev of the multiple runs of n loops each.\n",
    "%t -r 12 -n 1000 my_calc_1(print_res=False)"
   ]
  },
  {
   "cell_type": "code",
   "execution_count": 11,
   "metadata": {},
   "outputs": [
    {
     "name": "stdout",
     "output_type": "stream",
     "text": [
      "83.6 µs ± 9.97 µs per loop (mean ± std. dev. of 12 runs, 1,000 loops each)\n"
     ]
    }
   ],
   "source": [
    "%%t -r 12 -n 1000 \n",
    "my_calc_2(print_res=False)"
   ]
  },
  {
   "cell_type": "code",
   "execution_count": 12,
   "metadata": {},
   "outputs": [
    {
     "data": {
      "text/plain": [
       "['my_calc_1', 'my_calc_2']"
      ]
     },
     "execution_count": 12,
     "metadata": {},
     "output_type": "execute_result"
    }
   ],
   "source": [
    "# list the functions declared in this notebook.\n",
    "%who_ls"
   ]
  },
  {
   "cell_type": "markdown",
   "metadata": {},
   "source": [
    "#### Bash and Directories"
   ]
  },
  {
   "cell_type": "code",
   "execution_count": 13,
   "metadata": {},
   "outputs": [
    {
     "name": "stdout",
     "output_type": "stream",
     "text": [
      "/Users/mcampos/d0/teach/ucsc/ucsc_ai_ml_python/notebooks\n",
      "printing from bash.\n"
     ]
    }
   ],
   "source": [
    "%%bash \n",
    "# Executes bash program\n",
    "cd ..\n",
    "pwd\n",
    "echo 'printing from bash.'"
   ]
  },
  {
   "cell_type": "code",
   "execution_count": 14,
   "metadata": {},
   "outputs": [
    {
     "data": {
      "text/plain": [
       "'/Users/mcampos/d0/teach/ucsc/ucsc_ai_ml_python/notebooks/05-python-part-2'"
      ]
     },
     "execution_count": 14,
     "metadata": {},
     "output_type": "execute_result"
    }
   ],
   "source": [
    "%pwd\n",
    "# Change of directory inside of the bash shell did not affect other cells."
   ]
  },
  {
   "cell_type": "code",
   "execution_count": 15,
   "metadata": {},
   "outputs": [
    {
     "name": "stdout",
     "output_type": "stream",
     "text": [
      "/Users/mcampos/d0/teach/ucsc/ucsc_ai_ml_python/notebooks\n"
     ]
    }
   ],
   "source": [
    "%cd ..\n",
    "# This will affect."
   ]
  },
  {
   "cell_type": "code",
   "execution_count": 16,
   "metadata": {},
   "outputs": [
    {
     "data": {
      "text/plain": [
       "'/Users/mcampos/d0/teach/ucsc/ucsc_ai_ml_python/notebooks'"
      ]
     },
     "execution_count": 16,
     "metadata": {},
     "output_type": "execute_result"
    }
   ],
   "source": [
    "%pwd"
   ]
  },
  {
   "cell_type": "code",
   "execution_count": 17,
   "metadata": {},
   "outputs": [
    {
     "name": "stdout",
     "output_type": "stream",
     "text": [
      "/Users/mcampos/d0/teach/ucsc/ucsc_ai_ml_python/notebooks/05-python-part-2\n"
     ]
    }
   ],
   "source": [
    "%cd -\n",
    "# Back to the original location"
   ]
  },
  {
   "cell_type": "code",
   "execution_count": 18,
   "metadata": {},
   "outputs": [
    {
     "data": {
      "text/plain": [
       "'/Users/mcampos/d0/teach/ucsc/ucsc_ai_ml_python/notebooks/05-python-part-2'"
      ]
     },
     "execution_count": 18,
     "metadata": {},
     "output_type": "execute_result"
    }
   ],
   "source": [
    "%pwd"
   ]
  },
  {
   "cell_type": "markdown",
   "metadata": {},
   "source": [
    "#### Setting environment variables."
   ]
  },
  {
   "cell_type": "code",
   "execution_count": 19,
   "metadata": {},
   "outputs": [
    {
     "data": {
      "text/plain": [
       "{'MANPATH': '/opt/homebrew/share/man::',\n",
       " 'VIRTUALENVWRAPPER_SCRIPT': '/Users/mcampos/Library/Python/3.9/bin/virtualenvwrapper.sh',\n",
       " 'VIRTUALENVWRAPPER_PROJECT_FILENAME': '.project',\n",
       " 'TERM_PROGRAM': 'Apple_Terminal',\n",
       " 'SHELL': '/bin/zsh',\n",
       " 'TERM': 'xterm-color',\n",
       " 'HOMEBREW_REPOSITORY': '/opt/homebrew',\n",
       " 'TMPDIR': '/var/folders/2y/hm3jg6812nd_sktsrjdq0l2m0000gn/T/',\n",
       " 'CONDA_SHLVL': '1',\n",
       " 'CONDA_PROMPT_MODIFIER': '(base) ',\n",
       " 'TERM_PROGRAM_VERSION': '445',\n",
       " 'SBT_HOME': '/Users/mcampos/.sdkman/candidates/sbt/current',\n",
       " 'TERM_SESSION_ID': 'C53D8C0B-BD4E-4B93-B2B4-8F6E6D9BAB56',\n",
       " 'SDKMAN_PLATFORM': 'darwinarm64',\n",
       " 'ANT_HOME': '/Users/mcampos/.sdkman/candidates/ant/current',\n",
       " 'ZSH': '/Users/mcampos/.oh-my-zsh',\n",
       " 'USER': 'mcampos',\n",
       " 'CONDA_EXE': '/Users/mcampos/opt/anaconda3/bin/conda',\n",
       " 'SDKMAN_CANDIDATES_API': 'https://api.sdkman.io/2',\n",
       " 'SSH_AUTH_SOCK': '/private/tmp/com.apple.launchd.sizsPyBHht/Listeners',\n",
       " 'PAGER': 'cat',\n",
       " 'WORKON_HOME': '/Users/mcampos/.virtualenvs',\n",
       " '_CE_CONDA': '',\n",
       " 'LSCOLORS': 'Gxfxcxdxbxegedabagacad',\n",
       " 'VIRTUALENVWRAPPER_PYTHON': '/usr/bin/python3',\n",
       " 'MAVEN_HOME': '/Users/mcampos/.sdkman/candidates/maven/current',\n",
       " 'PATH': '/Users/mcampos/opt/anaconda3/bin:/Users/mcampos/opt/anaconda3/condabin:/Users/mcampos/.sdkman/candidates/scala/current/bin:/Users/mcampos/.sdkman/candidates/sbt/current/bin:/Users/mcampos/.sdkman/candidates/maven/current/bin:/Users/mcampos/.sdkman/candidates/java/current/bin:/Users/mcampos/.sdkman/candidates/ant/current/bin:/Users/mcampos/Library/Python/3.9/bin:/opt/homebrew/bin:/Users/mcampos/bin:/opt/homebrew/bin:/opt/homebrew/sbin:/usr/local/bin:/usr/bin:/bin:/usr/sbin:/sbin:/Users/mcampos/Library/Application Support/JetBrains/Toolbox/scripts',\n",
       " 'VIRTUALENVWRAPPER_HOOK_DIR': '/Users/mcampos/.virtualenvs',\n",
       " 'LaunchInstanceID': '421D5F54-4B68-4AA1-BC9C-A76EA794523B',\n",
       " 'CONDA_PREFIX': '/Users/mcampos/opt/anaconda3',\n",
       " '__CFBundleIdentifier': 'com.apple.Terminal',\n",
       " 'PWD': '/Users/mcampos',\n",
       " 'JAVA_HOME': '/Users/mcampos/.sdkman/candidates/java/current',\n",
       " 'LANG': 'en_US.UTF-8',\n",
       " 'SDKMAN_VERSION': '5.16.0',\n",
       " 'XPC_FLAGS': '0x0',\n",
       " 'VIRTUALENVWRAPPER_VIRTUALENV': '/Users/mcampos/Library/Python/3.9/bin/virtualenv',\n",
       " '_CE_M': '',\n",
       " 'XPC_SERVICE_NAME': '0',\n",
       " 'SHLVL': '2',\n",
       " 'HOME': '/Users/mcampos',\n",
       " 'HOMEBREW_PREFIX': '/opt/homebrew',\n",
       " 'CONDA_PYTHON_EXE': '/Users/mcampos/opt/anaconda3/bin/python',\n",
       " 'LESS': '-R',\n",
       " 'LOGNAME': 'mcampos',\n",
       " 'SDKMAN_DIR': '/Users/mcampos/.sdkman',\n",
       " 'CONDA_DEFAULT_ENV': 'base',\n",
       " 'SCALA_HOME': '/Users/mcampos/.sdkman/candidates/scala/current',\n",
       " 'VIRTUALENVWRAPPER_WORKON_CD': '1',\n",
       " 'SDKMAN_CANDIDATES_DIR': '/Users/mcampos/.sdkman/candidates',\n",
       " 'INFOPATH': '/opt/homebrew/share/info:',\n",
       " 'HOMEBREW_CELLAR': '/opt/homebrew/Cellar',\n",
       " 'SECURITYSESSIONID': '186b4',\n",
       " '_': '/Users/mcampos/opt/anaconda3/bin/jupyter-notebook',\n",
       " '__CF_USER_TEXT_ENCODING': '0x1F5:0x0:0x0',\n",
       " 'PYDEVD_USE_FRAME_EVAL': 'NO',\n",
       " 'JPY_PARENT_PID': '19148',\n",
       " 'CLICOLOR': '1',\n",
       " 'GIT_PAGER': 'cat',\n",
       " 'MPLBACKEND': 'module://matplotlib_inline.backend_inline'}"
      ]
     },
     "execution_count": 19,
     "metadata": {},
     "output_type": "execute_result"
    }
   ],
   "source": [
    "%env"
   ]
  },
  {
   "cell_type": "code",
   "execution_count": 6,
   "metadata": {},
   "outputs": [],
   "source": [
    "!unset MY_VAR;\n"
   ]
  },
  {
   "cell_type": "code",
   "execution_count": 30,
   "metadata": {},
   "outputs": [
    {
     "name": "stdout",
     "output_type": "stream",
     "text": [
      "MANPATH=/opt/homebrew/share/man::\n",
      "TERM_PROGRAM=Apple_Terminal\n",
      "VIRTUALENVWRAPPER_PROJECT_FILENAME=.project\n",
      "VIRTUALENVWRAPPER_SCRIPT=/Users/mcampos/Library/Python/3.9/bin/virtualenvwrapper.sh\n",
      "TERM=xterm-color\n",
      "SHELL=/bin/zsh\n",
      "CLICOLOR=1\n",
      "TMPDIR=/var/folders/2y/hm3jg6812nd_sktsrjdq0l2m0000gn/T/\n",
      "HOMEBREW_REPOSITORY=/opt/homebrew\n",
      "CONDA_SHLVL=1\n",
      "TERM_PROGRAM_VERSION=445\n",
      "CONDA_PROMPT_MODIFIER=(base) \n",
      "PYDEVD_USE_FRAME_EVAL=NO\n",
      "TERM_SESSION_ID=C53D8C0B-BD4E-4B93-B2B4-8F6E6D9BAB56\n",
      "SBT_HOME=/Users/mcampos/.sdkman/candidates/sbt/current\n",
      "SDKMAN_PLATFORM=darwinarm64\n",
      "ZSH=/Users/mcampos/.oh-my-zsh\n",
      "ANT_HOME=/Users/mcampos/.sdkman/candidates/ant/current\n",
      "USER=mcampos\n",
      "SDKMAN_CANDIDATES_API=https://api.sdkman.io/2\n",
      "CONDA_EXE=/Users/mcampos/opt/anaconda3/bin/conda\n",
      "SSH_AUTH_SOCK=/private/tmp/com.apple.launchd.sizsPyBHht/Listeners\n",
      "__CF_USER_TEXT_ENCODING=0x1F5:0x0:0x0\n",
      "JPY_PARENT_PID=19148\n",
      "PAGER=cat\n",
      "WORKON_HOME=/Users/mcampos/.virtualenvs\n",
      "LSCOLORS=Gxfxcxdxbxegedabagacad\n",
      "_CE_CONDA=\n",
      "VIRTUALENVWRAPPER_PYTHON=/usr/bin/python3\n",
      "PATH=/Users/mcampos/opt/anaconda3/bin:/Users/mcampos/opt/anaconda3/condabin:/Users/mcampos/.sdkman/candidates/scala/current/bin:/Users/mcampos/.sdkman/candidates/sbt/current/bin:/Users/mcampos/.sdkman/candidates/maven/current/bin:/Users/mcampos/.sdkman/candidates/java/current/bin:/Users/mcampos/.sdkman/candidates/ant/current/bin:/Users/mcampos/Library/Python/3.9/bin:/opt/homebrew/bin:/Users/mcampos/bin:/opt/homebrew/bin:/opt/homebrew/sbin:/usr/local/bin:/usr/bin:/bin:/usr/sbin:/sbin:/Users/mcampos/Library/Application Support/JetBrains/Toolbox/scripts\n",
      "MAVEN_HOME=/Users/mcampos/.sdkman/candidates/maven/current\n",
      "_=/usr/bin/env\n",
      "LaunchInstanceID=421D5F54-4B68-4AA1-BC9C-A76EA794523B\n",
      "VIRTUALENVWRAPPER_HOOK_DIR=/Users/mcampos/.virtualenvs\n",
      "__CFBundleIdentifier=com.apple.Terminal\n",
      "CONDA_PREFIX=/Users/mcampos/opt/anaconda3\n",
      "PWD=/Users/mcampos/d0/teach/ucsc/ucsc_ai_ml_python/notebooks/05-python-part-2\n",
      "JAVA_HOME=/Users/mcampos/.sdkman/candidates/java/current\n",
      "MPLBACKEND=module://matplotlib_inline.backend_inline\n",
      "LANG=en_US.UTF-8\n",
      "SDKMAN_VERSION=5.16.0\n",
      "MY_pass='abc123'\n",
      "XPC_FLAGS=0x0\n",
      "VIRTUALENVWRAPPER_VIRTUALENV=/Users/mcampos/Library/Python/3.9/bin/virtualenv\n",
      "XPC_SERVICE_NAME=0\n",
      "_CE_M=\n",
      "HOME=/Users/mcampos\n",
      "SHLVL=3\n",
      "HOMEBREW_PREFIX=/opt/homebrew\n",
      "LOGNAME=mcampos\n",
      "LESS=-R\n",
      "CONDA_PYTHON_EXE=/Users/mcampos/opt/anaconda3/bin/python\n",
      "SDKMAN_DIR=/Users/mcampos/.sdkman\n",
      "CONDA_DEFAULT_ENV=base\n",
      "VIRTUALENVWRAPPER_WORKON_CD=1\n",
      "SCALA_HOME=/Users/mcampos/.sdkman/candidates/scala/current\n",
      "HOMEBREW_CELLAR=/opt/homebrew/Cellar\n",
      "INFOPATH=/opt/homebrew/share/info:\n",
      "SDKMAN_CANDIDATES_DIR=/Users/mcampos/.sdkman/candidates\n",
      "GIT_PAGER=cat\n",
      "SECURITYSESSIONID=186b4\n"
     ]
    }
   ],
   "source": [
    "%%bash\n",
    "env"
   ]
  },
  {
   "cell_type": "code",
   "execution_count": 7,
   "metadata": {},
   "outputs": [],
   "source": [
    "!env | grep MY_VAR"
   ]
  },
  {
   "cell_type": "code",
   "execution_count": 8,
   "metadata": {},
   "outputs": [
    {
     "name": "stdout",
     "output_type": "stream",
     "text": [
      "env: MY_VAR='abc123'\n"
     ]
    }
   ],
   "source": [
    "%env MY_VAR='abc123'"
   ]
  },
  {
   "cell_type": "code",
   "execution_count": 9,
   "metadata": {},
   "outputs": [
    {
     "name": "stdout",
     "output_type": "stream",
     "text": [
      "MY_VAR='abc123'\r\n"
     ]
    }
   ],
   "source": [
    "!env | grep MY_VAR"
   ]
  },
  {
   "cell_type": "code",
   "execution_count": 36,
   "metadata": {},
   "outputs": [
    {
     "data": {
      "text/plain": [
       "15.708"
      ]
     },
     "execution_count": 36,
     "metadata": {},
     "output_type": "execute_result"
    }
   ],
   "source": [
    "from math import pi\n",
    "%precision 3\n",
    "pi * 5"
   ]
  },
  {
   "cell_type": "code",
   "execution_count": 37,
   "metadata": {},
   "outputs": [
    {
     "data": {
      "text/plain": [
       "15.70796"
      ]
     },
     "execution_count": 37,
     "metadata": {},
     "output_type": "execute_result"
    }
   ],
   "source": [
    "%precision 5\n",
    "pi * 5"
   ]
  },
  {
   "cell_type": "code",
   "execution_count": 38,
   "metadata": {},
   "outputs": [],
   "source": [
    "%quickref"
   ]
  },
  {
   "cell_type": "code",
   "execution_count": null,
   "metadata": {},
   "outputs": [],
   "source": []
  }
 ],
 "metadata": {
  "kernelspec": {
   "display_name": "Python 3 (ipykernel)",
   "language": "python",
   "name": "python3"
  },
  "language_info": {
   "codemirror_mode": {
    "name": "ipython",
    "version": 3
   },
   "file_extension": ".py",
   "mimetype": "text/x-python",
   "name": "python",
   "nbconvert_exporter": "python",
   "pygments_lexer": "ipython3",
   "version": "3.9.7"
  }
 },
 "nbformat": 4,
 "nbformat_minor": 4
}
