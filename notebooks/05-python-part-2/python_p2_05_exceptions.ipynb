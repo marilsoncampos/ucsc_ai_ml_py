{
 "cells": [
  {
   "cell_type": "markdown",
   "metadata": {},
   "source": [
    "### 1. Try, Except and Finally"
   ]
  },
  {
   "cell_type": "code",
   "execution_count": 1,
   "metadata": {},
   "outputs": [],
   "source": [
    "def op_not_safe(n, d):\n",
    "    result = n/d\n",
    "    return result + 2\n",
    "\n",
    "def op_safe(n, d):\n",
    "    try:\n",
    "        result = n/d\n",
    "        return result + 2\n",
    "    except ZeroDivisionError:\n",
    "        return 2\n",
    "\n",
    "def op_not_safe(n, d):\n",
    "    try:\n",
    "        result = n/d\n",
    "        return result + 2\n",
    "    except IOError:\n",
    "        return 2"
   ]
  },
  {
   "cell_type": "code",
   "execution_count": 2,
   "metadata": {},
   "outputs": [
    {
     "name": "stdout",
     "output_type": "stream",
     "text": [
      "2.5\n"
     ]
    }
   ],
   "source": [
    "print(op_not_safe(1,2))"
   ]
  },
  {
   "cell_type": "code",
   "execution_count": 5,
   "metadata": {},
   "outputs": [
    {
     "name": "stdout",
     "output_type": "stream",
     "text": [
      "2\n"
     ]
    }
   ],
   "source": [
    "print(op_safe(1,0))"
   ]
  },
  {
   "cell_type": "code",
   "execution_count": 4,
   "metadata": {},
   "outputs": [
    {
     "ename": "ZeroDivisionError",
     "evalue": "division by zero",
     "output_type": "error",
     "traceback": [
      "\u001b[0;31m---------------------------------------------------------------------------\u001b[0m",
      "\u001b[0;31mZeroDivisionError\u001b[0m                         Traceback (most recent call last)",
      "Input \u001b[0;32mIn [4]\u001b[0m, in \u001b[0;36m<cell line: 1>\u001b[0;34m()\u001b[0m\n\u001b[0;32m----> 1\u001b[0m \u001b[38;5;28mprint\u001b[39m(\u001b[43mop_not_safe\u001b[49m\u001b[43m(\u001b[49m\u001b[38;5;241;43m1\u001b[39;49m\u001b[43m,\u001b[49m\u001b[38;5;241;43m0\u001b[39;49m\u001b[43m)\u001b[49m)\n",
      "Input \u001b[0;32mIn [1]\u001b[0m, in \u001b[0;36mop_not_safe\u001b[0;34m(n, d)\u001b[0m\n\u001b[1;32m     12\u001b[0m \u001b[38;5;28;01mdef\u001b[39;00m \u001b[38;5;21mop_not_safe\u001b[39m(n, d):\n\u001b[1;32m     13\u001b[0m     \u001b[38;5;28;01mtry\u001b[39;00m:\n\u001b[0;32m---> 14\u001b[0m         result \u001b[38;5;241m=\u001b[39m \u001b[43mn\u001b[49m\u001b[38;5;241;43m/\u001b[39;49m\u001b[43md\u001b[49m\n\u001b[1;32m     15\u001b[0m         \u001b[38;5;28;01mreturn\u001b[39;00m result \u001b[38;5;241m+\u001b[39m \u001b[38;5;241m2\u001b[39m\n\u001b[1;32m     16\u001b[0m     \u001b[38;5;28;01mexcept\u001b[39;00m \u001b[38;5;167;01mIOError\u001b[39;00m:\n",
      "\u001b[0;31mZeroDivisionError\u001b[0m: division by zero"
     ]
    }
   ],
   "source": [
    "print(op_not_safe(1,0))"
   ]
  },
  {
   "cell_type": "code",
   "execution_count": 4,
   "metadata": {},
   "outputs": [
    {
     "name": "stdout",
     "output_type": "stream",
     "text": [
      "2\n"
     ]
    }
   ],
   "source": [
    "print(op_safe(1,0))"
   ]
  },
  {
   "cell_type": "code",
   "execution_count": 5,
   "metadata": {},
   "outputs": [
    {
     "ename": "ZeroDivisionError",
     "evalue": "division by zero",
     "output_type": "error",
     "traceback": [
      "\u001b[0;31m---------------------------------------------------------------------------\u001b[0m",
      "\u001b[0;31mZeroDivisionError\u001b[0m                         Traceback (most recent call last)",
      "Input \u001b[0;32mIn [5]\u001b[0m, in \u001b[0;36m<cell line: 1>\u001b[0;34m()\u001b[0m\n\u001b[0;32m----> 1\u001b[0m \u001b[43mop_not_safe\u001b[49m\u001b[43m(\u001b[49m\u001b[38;5;241;43m1\u001b[39;49m\u001b[43m,\u001b[49m\u001b[38;5;241;43m0\u001b[39;49m\u001b[43m)\u001b[49m\n",
      "Input \u001b[0;32mIn [1]\u001b[0m, in \u001b[0;36mop_not_safe\u001b[0;34m(n, d)\u001b[0m\n\u001b[1;32m     12\u001b[0m \u001b[38;5;28;01mdef\u001b[39;00m \u001b[38;5;21mop_not_safe\u001b[39m(n, d):\n\u001b[1;32m     13\u001b[0m     \u001b[38;5;28;01mtry\u001b[39;00m:\n\u001b[0;32m---> 14\u001b[0m         result \u001b[38;5;241m=\u001b[39m \u001b[43mn\u001b[49m\u001b[38;5;241;43m/\u001b[39;49m\u001b[43md\u001b[49m\n\u001b[1;32m     15\u001b[0m         \u001b[38;5;28;01mreturn\u001b[39;00m result \u001b[38;5;241m+\u001b[39m \u001b[38;5;241m2\u001b[39m\n\u001b[1;32m     16\u001b[0m     \u001b[38;5;28;01mexcept\u001b[39;00m \u001b[38;5;167;01mIOError\u001b[39;00m:\n",
      "\u001b[0;31mZeroDivisionError\u001b[0m: division by zero"
     ]
    }
   ],
   "source": [
    "op_not_safe(1,0)"
   ]
  },
  {
   "cell_type": "code",
   "execution_count": 38,
   "metadata": {
    "scrolled": true
   },
   "outputs": [
    {
     "name": "stdout",
     "output_type": "stream",
     "text": [
      "2.5\n"
     ]
    }
   ],
   "source": [
    "def op_safe_and_elegant(n, d):\n",
    "    try:\n",
    "        result = 0\n",
    "        if n == 100:\n",
    "            raise IOError()\n",
    "            print('x')\n",
    "        result = n/d\n",
    "    except ZeroDivisionError:\n",
    "        result = 0\n",
    "    except IOError:\n",
    "        result = 100\n",
    "    finally:\n",
    "        # Always execute this line Exception or no Exception\n",
    "        result += 2\n",
    "    return result\n",
    "    \n",
    "print(op_safe_and_elegant(1,2))"
   ]
  },
  {
   "cell_type": "code",
   "execution_count": 39,
   "metadata": {},
   "outputs": [
    {
     "name": "stdout",
     "output_type": "stream",
     "text": [
      "102\n"
     ]
    }
   ],
   "source": [
    "print(op_safe_and_elegant(100,5))"
   ]
  },
  {
   "cell_type": "code",
   "execution_count": 27,
   "metadata": {
    "scrolled": true
   },
   "outputs": [
    {
     "name": "stdout",
     "output_type": "stream",
     "text": [
      "2\n"
     ]
    }
   ],
   "source": [
    "print(op_safe_and_elegant(10,5))"
   ]
  },
  {
   "cell_type": "code",
   "execution_count": 7,
   "metadata": {},
   "outputs": [
    {
     "name": "stdout",
     "output_type": "stream",
     "text": [
      "2\n"
     ]
    }
   ],
   "source": [
    "print(op_safe_and_elegant(1,0))"
   ]
  },
  {
   "cell_type": "markdown",
   "metadata": {},
   "source": [
    "### 2. Defining a simple Exceptions"
   ]
  },
  {
   "cell_type": "code",
   "execution_count": 40,
   "metadata": {
    "scrolled": true
   },
   "outputs": [
    {
     "name": "stdout",
     "output_type": "stream",
     "text": [
      "1st call:Before raise\n",
      "1st call:After exception\n",
      "------------------------------\n",
      "2nd call:Before raise\n"
     ]
    },
    {
     "ename": "MyError",
     "evalue": "",
     "output_type": "error",
     "traceback": [
      "\u001b[0;31m---------------------------------------------------------------------------\u001b[0m",
      "\u001b[0;31mMyError\u001b[0m                                   Traceback (most recent call last)",
      "Input \u001b[0;32mIn [40]\u001b[0m, in \u001b[0;36m<cell line: 12>\u001b[0;34m()\u001b[0m\n\u001b[1;32m     10\u001b[0m test_my_exception(\u001b[38;5;124m'\u001b[39m\u001b[38;5;124m1st call\u001b[39m\u001b[38;5;124m'\u001b[39m, \u001b[38;5;28;01mFalse\u001b[39;00m)\n\u001b[1;32m     11\u001b[0m \u001b[38;5;28mprint\u001b[39m(\u001b[38;5;124m'\u001b[39m\u001b[38;5;124m-\u001b[39m\u001b[38;5;124m'\u001b[39m \u001b[38;5;241m*\u001b[39m \u001b[38;5;241m30\u001b[39m)\n\u001b[0;32m---> 12\u001b[0m \u001b[43mtest_my_exception\u001b[49m\u001b[43m(\u001b[49m\u001b[38;5;124;43m'\u001b[39;49m\u001b[38;5;124;43m2nd call\u001b[39;49m\u001b[38;5;124;43m'\u001b[39;49m\u001b[43m,\u001b[49m\u001b[43m \u001b[49m\u001b[38;5;28;43;01mTrue\u001b[39;49;00m\u001b[43m)\u001b[49m\n",
      "Input \u001b[0;32mIn [40]\u001b[0m, in \u001b[0;36mtest_my_exception\u001b[0;34m(prefix, make_error)\u001b[0m\n\u001b[1;32m      5\u001b[0m \u001b[38;5;28mprint\u001b[39m(\u001b[38;5;124m'\u001b[39m\u001b[38;5;132;01m{0}\u001b[39;00m\u001b[38;5;124m:Before raise\u001b[39m\u001b[38;5;124m'\u001b[39m\u001b[38;5;241m.\u001b[39mformat(prefix))\n\u001b[1;32m      6\u001b[0m \u001b[38;5;28;01mif\u001b[39;00m make_error:\n\u001b[0;32m----> 7\u001b[0m     \u001b[38;5;28;01mraise\u001b[39;00m MyError()\n\u001b[1;32m      8\u001b[0m \u001b[38;5;28mprint\u001b[39m(\u001b[38;5;124m'\u001b[39m\u001b[38;5;132;01m{0}\u001b[39;00m\u001b[38;5;124m:After exception\u001b[39m\u001b[38;5;124m'\u001b[39m\u001b[38;5;241m.\u001b[39mformat(prefix))\n",
      "\u001b[0;31mMyError\u001b[0m: "
     ]
    }
   ],
   "source": [
    "class MyError(Exception):\n",
    "    pass\n",
    "\n",
    "def test_my_exception(prefix, make_error):\n",
    "    print('{0}:Before raise'.format(prefix))\n",
    "    if make_error:\n",
    "        raise MyError()\n",
    "    print('{0}:After exception'.format(prefix))\n",
    "\n",
    "test_my_exception('1st call', False)\n",
    "print('-' * 30)\n",
    "test_my_exception('2nd call', True)    "
   ]
  },
  {
   "cell_type": "code",
   "execution_count": 41,
   "metadata": {},
   "outputs": [
    {
     "name": "stdout",
     "output_type": "stream",
     "text": [
      "1st call:Before raise\n",
      "1st call:After exception\n",
      "------------------------------\n",
      "2nd call:Before raise\n",
      "Caught my own exception!!!\n"
     ]
    }
   ],
   "source": [
    "def catch_my_exception(prefix, make_error):\n",
    "    try:\n",
    "        test_my_exception(prefix, make_error)\n",
    "    except MyError:\n",
    "        print('Caught my own exception!!!')\n",
    "\n",
    "catch_my_exception('1st call', False)\n",
    "print('-' * 30)\n",
    "catch_my_exception('2nd call', True)    "
   ]
  },
  {
   "cell_type": "markdown",
   "metadata": {},
   "source": [
    "### 3. Defining my Exception with a custom message."
   ]
  },
  {
   "cell_type": "code",
   "execution_count": 46,
   "metadata": {},
   "outputs": [],
   "source": [
    "class InvalidGradeError(Exception):\n",
    "    \"\"\"Custom exception to represent an invalid grade error.\"\"\"\n",
    "\n",
    "    def __init__(self, message=\"Invalid Grade\"):\n",
    "        self.message = message\n",
    "        super().__init__(self.message)\n"
   ]
  },
  {
   "cell_type": "code",
   "execution_count": 47,
   "metadata": {},
   "outputs": [],
   "source": [
    "def process_grade(grade):\n",
    "    if grade<=0:\n",
    "        raise InvalidGradeError('Negative Grade')\n",
    "    if grade>=100:\n",
    "        raise InvalidGradeError('Grade larger than 100')\n",
    "    print('Valid grade: {0}'.format(grade))   "
   ]
  },
  {
   "cell_type": "code",
   "execution_count": 48,
   "metadata": {},
   "outputs": [],
   "source": [
    "def f1(grade):\n",
    "    process_grade(grade)\n",
    "\n",
    "def f2(grade):\n",
    "    try:\n",
    "        process_grade(grade)\n",
    "    except InvalidGradeError as e:\n",
    "        print('ERROR: {0}'.format(e.message))\n",
    "    "
   ]
  },
  {
   "cell_type": "code",
   "execution_count": 49,
   "metadata": {},
   "outputs": [
    {
     "name": "stdout",
     "output_type": "stream",
     "text": [
      "Valid grade: 1\n"
     ]
    }
   ],
   "source": [
    "f1(1)"
   ]
  },
  {
   "cell_type": "code",
   "execution_count": 50,
   "metadata": {},
   "outputs": [
    {
     "ename": "InvalidGradeError",
     "evalue": "Grade larger than 100",
     "output_type": "error",
     "traceback": [
      "\u001b[0;31m---------------------------------------------------------------------------\u001b[0m",
      "\u001b[0;31mInvalidGradeError\u001b[0m                         Traceback (most recent call last)",
      "Input \u001b[0;32mIn [50]\u001b[0m, in \u001b[0;36m<cell line: 1>\u001b[0;34m()\u001b[0m\n\u001b[0;32m----> 1\u001b[0m \u001b[43mf1\u001b[49m\u001b[43m(\u001b[49m\u001b[38;5;241;43m101\u001b[39;49m\u001b[43m)\u001b[49m\n",
      "Input \u001b[0;32mIn [48]\u001b[0m, in \u001b[0;36mf1\u001b[0;34m(grade)\u001b[0m\n\u001b[1;32m      1\u001b[0m \u001b[38;5;28;01mdef\u001b[39;00m \u001b[38;5;21mf1\u001b[39m(grade):\n\u001b[0;32m----> 2\u001b[0m     \u001b[43mprocess_grade\u001b[49m\u001b[43m(\u001b[49m\u001b[43mgrade\u001b[49m\u001b[43m)\u001b[49m\n",
      "Input \u001b[0;32mIn [47]\u001b[0m, in \u001b[0;36mprocess_grade\u001b[0;34m(grade)\u001b[0m\n\u001b[1;32m      3\u001b[0m     \u001b[38;5;28;01mraise\u001b[39;00m InvalidGradeError(\u001b[38;5;124m'\u001b[39m\u001b[38;5;124mNegative Grade\u001b[39m\u001b[38;5;124m'\u001b[39m)\n\u001b[1;32m      4\u001b[0m \u001b[38;5;28;01mif\u001b[39;00m grade\u001b[38;5;241m>\u001b[39m\u001b[38;5;241m=\u001b[39m\u001b[38;5;241m100\u001b[39m:\n\u001b[0;32m----> 5\u001b[0m     \u001b[38;5;28;01mraise\u001b[39;00m InvalidGradeError(\u001b[38;5;124m'\u001b[39m\u001b[38;5;124mGrade larger than 100\u001b[39m\u001b[38;5;124m'\u001b[39m)\n\u001b[1;32m      6\u001b[0m \u001b[38;5;28mprint\u001b[39m(\u001b[38;5;124m'\u001b[39m\u001b[38;5;124mValid grade: \u001b[39m\u001b[38;5;132;01m{0}\u001b[39;00m\u001b[38;5;124m'\u001b[39m\u001b[38;5;241m.\u001b[39mformat(grade))\n",
      "\u001b[0;31mInvalidGradeError\u001b[0m: Grade larger than 100"
     ]
    }
   ],
   "source": [
    "f1(101)"
   ]
  },
  {
   "cell_type": "code",
   "execution_count": 51,
   "metadata": {},
   "outputs": [
    {
     "name": "stdout",
     "output_type": "stream",
     "text": [
      "ERROR: Grade larger than 100\n"
     ]
    }
   ],
   "source": [
    "f2(101)"
   ]
  },
  {
   "cell_type": "code",
   "execution_count": 52,
   "metadata": {},
   "outputs": [
    {
     "name": "stdout",
     "output_type": "stream",
     "text": [
      "ERROR: Negative Grade\n"
     ]
    }
   ],
   "source": [
    "f2(-1)"
   ]
  },
  {
   "cell_type": "markdown",
   "metadata": {},
   "source": [
    "### 4. Defining multiple Exceptions to handle each case differently."
   ]
  },
  {
   "cell_type": "code",
   "execution_count": 53,
   "metadata": {},
   "outputs": [],
   "source": [
    "class GradeTooHighError(Exception):\n",
    "    \"\"\"Custom exception to represent a grade larger than 100.\"\"\"\n",
    "\n",
    "    def __init__(self):\n",
    "        super().__init__('Grade is too large')\n",
    "\n",
    "class GradeTooLowError(Exception):\n",
    "    \"\"\"Custom exception to represent a grade less than zero.\"\"\"\n",
    "\n",
    "    def __init__(self):\n",
    "        super().__init__('Grade is negative.')"
   ]
  },
  {
   "cell_type": "code",
   "execution_count": 55,
   "metadata": {},
   "outputs": [],
   "source": [
    "def process_grade_2(grade):\n",
    "    if grade<0:\n",
    "        raise GradeTooLowError()\n",
    "    if grade>100:\n",
    "        raise GradeTooHighError()\n",
    "    print('Valid grade: {0}'.format(grade))   \n",
    "    \n",
    "def f3(grade):\n",
    "    process_grade_2(grade)\n",
    "\n",
    "def f4(grade):\n",
    "    try:\n",
    "        process_grade_2(grade)\n",
    "        ##\n",
    "        ##\n",
    "    except GradeTooLowError as e:\n",
    "        print('ERROR: {0}'.format(e))\n",
    "    except GradeTooHighError as e:\n",
    "        print('WARN: {0}'.format(e))"
   ]
  },
  {
   "cell_type": "code",
   "execution_count": 56,
   "metadata": {},
   "outputs": [
    {
     "name": "stdout",
     "output_type": "stream",
     "text": [
      "WARN: Grade is too large\n"
     ]
    }
   ],
   "source": [
    "f4(101)"
   ]
  },
  {
   "cell_type": "code",
   "execution_count": 57,
   "metadata": {},
   "outputs": [
    {
     "name": "stdout",
     "output_type": "stream",
     "text": [
      "ERROR: Grade is negative.\n"
     ]
    }
   ],
   "source": [
    "f4(-1)"
   ]
  },
  {
   "cell_type": "markdown",
   "metadata": {},
   "source": [
    "### 5. Catching and re-raising exceptions."
   ]
  },
  {
   "cell_type": "code",
   "execution_count": 58,
   "metadata": {},
   "outputs": [],
   "source": [
    "def f5(grade):\n",
    "    try:\n",
    "        process_grade_2(grade)\n",
    "    except GradeTooLowError as e:\n",
    "        print('ERROR: {0}'.format(e))\n",
    "    except GradeTooHighError as e:\n",
    "        # Caught the GradeTooHighError and raised another exception.\n",
    "        raise IOError(e)\n"
   ]
  },
  {
   "cell_type": "code",
   "execution_count": 21,
   "metadata": {},
   "outputs": [
    {
     "ename": "OSError",
     "evalue": "Grade is too large",
     "output_type": "error",
     "traceback": [
      "\u001b[0;31m---------------------------------------------------------------------------\u001b[0m",
      "\u001b[0;31mGradeTooHighError\u001b[0m                         Traceback (most recent call last)",
      "Input \u001b[0;32mIn [20]\u001b[0m, in \u001b[0;36mf5\u001b[0;34m(grade)\u001b[0m\n\u001b[1;32m      2\u001b[0m \u001b[38;5;28;01mtry\u001b[39;00m:\n\u001b[0;32m----> 3\u001b[0m     \u001b[43mprocess_grade_2\u001b[49m\u001b[43m(\u001b[49m\u001b[43mgrade\u001b[49m\u001b[43m)\u001b[49m\n\u001b[1;32m      4\u001b[0m \u001b[38;5;28;01mexcept\u001b[39;00m GradeTooLowError \u001b[38;5;28;01mas\u001b[39;00m e:\n",
      "Input \u001b[0;32mIn [18]\u001b[0m, in \u001b[0;36mprocess_grade_2\u001b[0;34m(grade)\u001b[0m\n\u001b[1;32m      4\u001b[0m \u001b[38;5;28;01mif\u001b[39;00m grade\u001b[38;5;241m>\u001b[39m\u001b[38;5;241m100\u001b[39m:\n\u001b[0;32m----> 5\u001b[0m     \u001b[38;5;28;01mraise\u001b[39;00m GradeTooHighError()\n\u001b[1;32m      6\u001b[0m \u001b[38;5;28mprint\u001b[39m(\u001b[38;5;124m'\u001b[39m\u001b[38;5;124mValid grade: \u001b[39m\u001b[38;5;132;01m{0}\u001b[39;00m\u001b[38;5;124m'\u001b[39m\u001b[38;5;241m.\u001b[39mformat(grade))\n",
      "\u001b[0;31mGradeTooHighError\u001b[0m: Grade is too large",
      "\nDuring handling of the above exception, another exception occurred:\n",
      "\u001b[0;31mOSError\u001b[0m                                   Traceback (most recent call last)",
      "Input \u001b[0;32mIn [21]\u001b[0m, in \u001b[0;36m<cell line: 1>\u001b[0;34m()\u001b[0m\n\u001b[0;32m----> 1\u001b[0m \u001b[43mf5\u001b[49m\u001b[43m(\u001b[49m\u001b[38;5;241;43m101\u001b[39;49m\u001b[43m)\u001b[49m\n",
      "Input \u001b[0;32mIn [20]\u001b[0m, in \u001b[0;36mf5\u001b[0;34m(grade)\u001b[0m\n\u001b[1;32m      5\u001b[0m     \u001b[38;5;28mprint\u001b[39m(\u001b[38;5;124m'\u001b[39m\u001b[38;5;124mERROR: \u001b[39m\u001b[38;5;132;01m{0}\u001b[39;00m\u001b[38;5;124m'\u001b[39m\u001b[38;5;241m.\u001b[39mformat(e))\n\u001b[1;32m      6\u001b[0m \u001b[38;5;28;01mexcept\u001b[39;00m GradeTooHighError \u001b[38;5;28;01mas\u001b[39;00m e:\n\u001b[1;32m      7\u001b[0m     \u001b[38;5;66;03m# Caught the GradeTooHighError and raised another exception.\u001b[39;00m\n\u001b[0;32m----> 8\u001b[0m     \u001b[38;5;28;01mraise\u001b[39;00m \u001b[38;5;167;01mIOError\u001b[39;00m(e)\n",
      "\u001b[0;31mOSError\u001b[0m: Grade is too large"
     ]
    }
   ],
   "source": [
    "f5(101)"
   ]
  },
  {
   "cell_type": "markdown",
   "metadata": {},
   "source": [
    "### 6. Documenting your assumptions about parameters with Assertions."
   ]
  },
  {
   "cell_type": "code",
   "execution_count": 59,
   "metadata": {},
   "outputs": [],
   "source": [
    "def add_numbers(n1, n2):\n",
    "    assert isinstance(n1, (int, float)), \"First parameter should be numberic\" \n",
    "    assert isinstance(n2, (int, float)), \"Second parameter should be numberic\"\n",
    "    return n1 + n2"
   ]
  },
  {
   "cell_type": "code",
   "execution_count": 60,
   "metadata": {},
   "outputs": [
    {
     "data": {
      "text/plain": [
       "3"
      ]
     },
     "execution_count": 60,
     "metadata": {},
     "output_type": "execute_result"
    }
   ],
   "source": [
    "add_numbers(1,2)"
   ]
  },
  {
   "cell_type": "code",
   "execution_count": 61,
   "metadata": {},
   "outputs": [
    {
     "ename": "AssertionError",
     "evalue": "Second parameter should be numberic",
     "output_type": "error",
     "traceback": [
      "\u001b[0;31m---------------------------------------------------------------------------\u001b[0m",
      "\u001b[0;31mAssertionError\u001b[0m                            Traceback (most recent call last)",
      "Input \u001b[0;32mIn [61]\u001b[0m, in \u001b[0;36m<cell line: 1>\u001b[0;34m()\u001b[0m\n\u001b[0;32m----> 1\u001b[0m \u001b[43madd_numbers\u001b[49m\u001b[43m(\u001b[49m\u001b[38;5;241;43m1\u001b[39;49m\u001b[43m,\u001b[49m\u001b[38;5;124;43m'\u001b[39;49m\u001b[38;5;124;43m2\u001b[39;49m\u001b[38;5;124;43m'\u001b[39;49m\u001b[43m)\u001b[49m\n",
      "Input \u001b[0;32mIn [59]\u001b[0m, in \u001b[0;36madd_numbers\u001b[0;34m(n1, n2)\u001b[0m\n\u001b[1;32m      1\u001b[0m \u001b[38;5;28;01mdef\u001b[39;00m \u001b[38;5;21madd_numbers\u001b[39m(n1, n2):\n\u001b[1;32m      2\u001b[0m     \u001b[38;5;28;01massert\u001b[39;00m \u001b[38;5;28misinstance\u001b[39m(n1, (\u001b[38;5;28mint\u001b[39m, \u001b[38;5;28mfloat\u001b[39m)), \u001b[38;5;124m\"\u001b[39m\u001b[38;5;124mFirst parameter should be numberic\u001b[39m\u001b[38;5;124m\"\u001b[39m \n\u001b[0;32m----> 3\u001b[0m     \u001b[38;5;28;01massert\u001b[39;00m \u001b[38;5;28misinstance\u001b[39m(n2, (\u001b[38;5;28mint\u001b[39m, \u001b[38;5;28mfloat\u001b[39m)), \u001b[38;5;124m\"\u001b[39m\u001b[38;5;124mSecond parameter should be numberic\u001b[39m\u001b[38;5;124m\"\u001b[39m\n\u001b[1;32m      4\u001b[0m     \u001b[38;5;28;01mreturn\u001b[39;00m n1 \u001b[38;5;241m+\u001b[39m n2\n",
      "\u001b[0;31mAssertionError\u001b[0m: Second parameter should be numberic"
     ]
    }
   ],
   "source": [
    "add_numbers(1,'2')"
   ]
  },
  {
   "cell_type": "markdown",
   "metadata": {},
   "source": [
    "### 7. Running shell commands in notebooks."
   ]
  },
  {
   "cell_type": "code",
   "execution_count": 62,
   "metadata": {},
   "outputs": [
    {
     "name": "stdout",
     "output_type": "stream",
     "text": [
      "Running:ls -la\n",
      "---- Return Code ----\n",
      "0\n",
      "---- Output ----\n",
      "total 800\n",
      "drwxrwxrwx  21 mcampos  staff    672 Nov 16 19:47 .\n",
      "drwxrwxrwx  22 mcampos  staff    704 Nov 13 16:19 ..\n",
      "drwxrwxrwx   9 mcampos  staff    288 Aug  3  2021 .ipynb_checkpoints\n",
      "drwxrwxrwx   3 mcampos  staff     96 Jul  8  2021 __pycache__\n",
      "-rwxr-xr-x   1 mcampos  staff    275 Mar  5  2022 data.json\n",
      "-rwxr-xr-x   1 mcampos  staff    105 Mar  5  2022 library.py\n",
      "-rwxr-xr-x   1 mcampos  staff    258 Nov  2 20:58 movies.json\n",
      "-rwxr-xr-x   1 mcampos  staff   3246 Mar  5  2022 my_file.csv\n",
      "-rwxr-xr-x   1 mcampos  staff   9728 Mar  5  2022 my_saved.xls\n",
      "-rw-r--r--   1 mcampos  staff   7307 Oct 30 18:44 my_saved.xlsx\n",
      "-rw-r--r--   1 mcampos  staff   9728 Oct 30 18:41 my_saved2.xls\n",
      "-rw-r--r--   1 mcampos  staff   7307 Oct 30 18:43 my_saved2.xlsx\n",
      "-rwxr-xr-x   1 mcampos  staff  54345 Nov  2 21:00 python_p2_01_misc.ipynb\n",
      "-rwxr-xr-x   1 mcampos  staff  25605 Nov  2 21:03 python_p2_02_magic.ipynb\n",
      "-rwxr-xr-x   1 mcampos  staff   3959 Nov  2 21:08 python_p2_03_generators.ipynb\n",
      "-rwxr-xr-x   1 mcampos  staff  66970 Nov 16 19:21 python_p2_04_classes.ipynb\n",
      "-rwxr-xr-x   1 mcampos  staff  35452 Nov 16 19:47 python_p2_05_exceptions.ipynb\n",
      "-rwxr-xr-x   1 mcampos  staff  13117 Nov 13 15:28 python_p2_06_unit_testing.ipynb\n",
      "-rwxr-xr-x   1 mcampos  staff  13189 Nov 12 22:51 python_p2_07_test_driven.ipynb\n",
      "-rwxr-xr-x@  1 mcampos  staff  60928 Jul 20 20:43 sample_sheet.xls\n",
      "-rw-r--r--@  1 mcampos  staff  61440 Jul 20 20:44 sample_sheet_example.xls\n",
      "\n",
      "---- Error ----\n",
      "\n",
      "Running:lx -la\n",
      "---- Return Code ----\n",
      "127\n",
      "---- Output ----\n",
      "\n",
      "---- Error ----\n",
      "/bin/sh: lx: command not found\n",
      "\n"
     ]
    }
   ],
   "source": [
    "import subprocess\n",
    "from dataclasses import dataclass\n",
    "    \n",
    "@dataclass\n",
    "class CmdResult:\n",
    "    error_code: int\n",
    "    output: str\n",
    "    error: str\n",
    "\n",
    "def run_shell(cmd):\n",
    "    result_obj = subprocess.run(cmd, shell=True, capture_output=True)\n",
    "    output_str = result_obj.stdout.decode('utf-8')\n",
    "    error_str = result_obj.stderr.decode('utf-8')\n",
    "    return CmdResult(result_obj.returncode, output_str, error_str)\n",
    " \n",
    "def report_on_result(result):\n",
    "    print('---- Return Code ----')\n",
    "    print(result.error_code)\n",
    "    print('---- Output ----')\n",
    "    for line in result.output.split('\\n'):\n",
    "        print('' + line)\n",
    "    print('---- Error ----')\n",
    "    for line in result.error.split('\\n'):\n",
    "        print('' + line)\n",
    "        \n",
    "def run_cmd_and_report(cmd):\n",
    "    print('Running:' + cmd)\n",
    "    result = run_shell(cmd)\n",
    "    report_on_result(result)\n",
    "\n",
    "    \n",
    "run_cmd_and_report('ls -la')\n",
    "run_cmd_and_report('lx -la')\n",
    "\n"
   ]
  },
  {
   "cell_type": "code",
   "execution_count": 25,
   "metadata": {},
   "outputs": [
    {
     "name": "stdout",
     "output_type": "stream",
     "text": [
      "Running:ls -la\n",
      "---- Return Code ----\n",
      "0\n",
      "---- Output ----\n",
      "total 776\n",
      "drwxrwxrwx  21 mcampos  staff    672 Oct 30 20:06 .\n",
      "drwxrwxrwx  41 mcampos  staff   1312 Oct 26 21:00 ..\n",
      "drwxrwxrwx   9 mcampos  staff    288 Aug  3  2021 .ipynb_checkpoints\n",
      "drwxrwxrwx   3 mcampos  staff     96 Jul  8  2021 __pycache__\n",
      "-rwxr-xr-x   1 mcampos  staff    275 Mar  5  2022 data.json\n",
      "-rwxr-xr-x   1 mcampos  staff    105 Mar  5  2022 library.py\n",
      "-rwxr-xr-x   1 mcampos  staff    258 Oct 30 18:31 movies.json\n",
      "-rwxr-xr-x   1 mcampos  staff   3246 Mar  5  2022 my_file.csv\n",
      "-rwxr-xr-x   1 mcampos  staff   9728 Mar  5  2022 my_saved.xls\n",
      "-rw-r--r--   1 mcampos  staff   7307 Oct 30 18:44 my_saved.xlsx\n",
      "-rw-r--r--   1 mcampos  staff   9728 Oct 30 18:41 my_saved2.xls\n",
      "-rw-r--r--   1 mcampos  staff   7307 Oct 30 18:43 my_saved2.xlsx\n",
      "-rwxr-xr-x   1 mcampos  staff  51807 Oct 30 18:44 python_p2_01_misc.ipynb\n",
      "-rwxr-xr-x   1 mcampos  staff  25035 Oct 30 18:51 python_p2_02_magic.ipynb\n",
      "-rwxr-xr-x   1 mcampos  staff   4061 Oct 30 18:52 python_p2_03_generators.ipynb\n",
      "-rwxr-xr-x   1 mcampos  staff  57948 Oct 30 20:06 python_p2_04_classes.ipynb\n",
      "-rwxr-xr-x   1 mcampos  staff  34123 Aug 10 20:37 python_p2_05_exceptions.ipynb\n",
      "-rwxr-xr-x   1 mcampos  staff  13220 Aug 10 20:51 python_p2_06_unit_testing.ipynb\n",
      "-rwxr-xr-x   1 mcampos  staff  12366 Aug 17 18:34 python_p2_07_test_driven.ipynb\n",
      "-rwxr-xr-x@  1 mcampos  staff  60928 Jul 20 20:43 sample_sheet.xls\n",
      "-rw-r--r--@  1 mcampos  staff  61440 Jul 20 20:44 sample_sheet_example.xls\n",
      "\n",
      "---- Error ----\n",
      "\n"
     ]
    }
   ],
   "source": [
    "run_cmd_and_report('ls -la')"
   ]
  },
  {
   "cell_type": "code",
   "execution_count": 26,
   "metadata": {},
   "outputs": [
    {
     "name": "stdout",
     "output_type": "stream",
     "text": [
      "Running:lx -la\n",
      "---- Return Code ----\n",
      "127\n",
      "---- Output ----\n",
      "\n",
      "---- Error ----\n",
      "/bin/sh: lx: command not found\n",
      "\n"
     ]
    }
   ],
   "source": [
    "run_cmd_and_report('lx -la')"
   ]
  },
  {
   "cell_type": "code",
   "execution_count": 67,
   "metadata": {},
   "outputs": [],
   "source": [
    "result = run_shell('ls -lat')"
   ]
  },
  {
   "cell_type": "code",
   "execution_count": 68,
   "metadata": {},
   "outputs": [
    {
     "name": "stdout",
     "output_type": "stream",
     "text": [
      "CmdResult(error_code=0, output='total 800\\ndrwxrwxrwx  21 mcampos  staff    672 Nov 16 19:49 .\\n-rwxr-xr-x   1 mcampos  staff  35452 Nov 16 19:49 python_p2_05_exceptions.ipynb\\n-rwxr-xr-x   1 mcampos  staff  66970 Nov 16 19:21 python_p2_04_classes.ipynb\\ndrwxrwxrwx  22 mcampos  staff    704 Nov 13 16:19 ..\\n-rwxr-xr-x   1 mcampos  staff  13117 Nov 13 15:28 python_p2_06_unit_testing.ipynb\\n-rwxr-xr-x   1 mcampos  staff  13189 Nov 12 22:51 python_p2_07_test_driven.ipynb\\n-rwxr-xr-x   1 mcampos  staff   3959 Nov  2 21:08 python_p2_03_generators.ipynb\\n-rwxr-xr-x   1 mcampos  staff  25605 Nov  2 21:03 python_p2_02_magic.ipynb\\n-rwxr-xr-x   1 mcampos  staff  54345 Nov  2 21:00 python_p2_01_misc.ipynb\\n-rwxr-xr-x   1 mcampos  staff    258 Nov  2 20:58 movies.json\\n-rw-r--r--   1 mcampos  staff   7307 Oct 30 18:44 my_saved.xlsx\\n-rw-r--r--   1 mcampos  staff   7307 Oct 30 18:43 my_saved2.xlsx\\n-rw-r--r--   1 mcampos  staff   9728 Oct 30 18:41 my_saved2.xls\\n-rw-r--r--@  1 mcampos  staff  61440 Jul 20 20:44 sample_sheet_example.xls\\n-rwxr-xr-x@  1 mcampos  staff  60928 Jul 20 20:43 sample_sheet.xls\\n-rwxr-xr-x   1 mcampos  staff   9728 Mar  5  2022 my_saved.xls\\n-rwxr-xr-x   1 mcampos  staff   3246 Mar  5  2022 my_file.csv\\n-rwxr-xr-x   1 mcampos  staff    105 Mar  5  2022 library.py\\n-rwxr-xr-x   1 mcampos  staff    275 Mar  5  2022 data.json\\ndrwxrwxrwx   9 mcampos  staff    288 Aug  3  2021 .ipynb_checkpoints\\ndrwxrwxrwx   3 mcampos  staff     96 Jul  8  2021 __pycache__\\n', error='')\n"
     ]
    }
   ],
   "source": [
    "print(result)"
   ]
  },
  {
   "cell_type": "code",
   "execution_count": 69,
   "metadata": {},
   "outputs": [
    {
     "name": "stdout",
     "output_type": "stream",
     "text": [
      "--------------------------------------------------\n",
      "['total 800', 'drwxrwxrwx  21 mcampos  staff    672 Nov 16 19:49 .', '-rwxr-xr-x   1 mcampos  staff  35452 Nov 16 19:49 python_p2_05_exceptions.ipynb', '-rwxr-xr-x   1 mcampos  staff  66970 Nov 16 19:21 python_p2_04_classes.ipynb', 'drwxrwxrwx  22 mcampos  staff    704 Nov 13 16:19 ..', '-rwxr-xr-x   1 mcampos  staff  13117 Nov 13 15:28 python_p2_06_unit_testing.ipynb', '-rwxr-xr-x   1 mcampos  staff  13189 Nov 12 22:51 python_p2_07_test_driven.ipynb', '-rwxr-xr-x   1 mcampos  staff   3959 Nov  2 21:08 python_p2_03_generators.ipynb', '-rwxr-xr-x   1 mcampos  staff  25605 Nov  2 21:03 python_p2_02_magic.ipynb', '-rwxr-xr-x   1 mcampos  staff  54345 Nov  2 21:00 python_p2_01_misc.ipynb', '-rwxr-xr-x   1 mcampos  staff    258 Nov  2 20:58 movies.json', '-rw-r--r--   1 mcampos  staff   7307 Oct 30 18:44 my_saved.xlsx', '-rw-r--r--   1 mcampos  staff   7307 Oct 30 18:43 my_saved2.xlsx', '-rw-r--r--   1 mcampos  staff   9728 Oct 30 18:41 my_saved2.xls', '-rw-r--r--@  1 mcampos  staff  61440 Jul 20 20:44 sample_sheet_example.xls', '-rwxr-xr-x@  1 mcampos  staff  60928 Jul 20 20:43 sample_sheet.xls', '-rwxr-xr-x   1 mcampos  staff   9728 Mar  5  2022 my_saved.xls', '-rwxr-xr-x   1 mcampos  staff   3246 Mar  5  2022 my_file.csv', '-rwxr-xr-x   1 mcampos  staff    105 Mar  5  2022 library.py', '-rwxr-xr-x   1 mcampos  staff    275 Mar  5  2022 data.json', 'drwxrwxrwx   9 mcampos  staff    288 Aug  3  2021 .ipynb_checkpoints', 'drwxrwxrwx   3 mcampos  staff     96 Jul  8  2021 __pycache__', '']\n",
      "--------------------------------------------------\n",
      "-.-.-.-.-.-.-.-.-.-.-.-.-.-.-.-.-.-.-.-.-.-.-.-.-.-.-.-.-.-.-.-.-.-.-.-.-.-.-.-.\n",
      "['python_p2_05_exceptions.ipynb', 'python_p2_04_classes.ipynb', 'python_p2_06_unit_testing.ipynb', 'python_p2_07_test_driven.ipynb', 'python_p2_03_generators.ipynb', 'python_p2_02_magic.ipynb', 'python_p2_01_misc.ipynb', 'movies.json', 'my_saved.xlsx', 'my_saved2.xlsx', 'my_saved2.xls', 'sample_sheet_example.xls', 'sample_sheet.xls', 'my_saved.xls', 'my_file.csv', 'library.py', 'data.json', '.ipynb_checkpoints', '__pycache__']\n"
     ]
    }
   ],
   "source": [
    "my_list = result.output.split('\\n')\n",
    "print('-' * 50)\n",
    "print(my_list)\n",
    "print('-' * 50)\n",
    "\n",
    "def extract_file_names(a_list):\n",
    "    result = []\n",
    "    for elm in a_list:\n",
    "        parts = elm.split(' ')\n",
    "        if len(parts) < 5:\n",
    "            continue\n",
    "        candidate = parts[-1]\n",
    "        if candidate in ('.', '..'):\n",
    "            continue\n",
    "        result.append(candidate)\n",
    "    return result\n",
    "        \n",
    "\n",
    "def extract_file_names_alt(a_list):\n",
    "    result = []\n",
    "    for elm in a_list:\n",
    "        parts = elm.split(' ')\n",
    "        if len(parts) > 5:\n",
    "            candidate = parts[-1]\n",
    "            if candidate not in ('.', '..'):\n",
    "                result.append(parts[-1])\n",
    "    return result\n",
    "print('-.' * 40)\n",
    "res = extract_file_names(my_list)\n",
    "print(res)"
   ]
  },
  {
   "cell_type": "code",
   "execution_count": 70,
   "metadata": {},
   "outputs": [
    {
     "name": "stdout",
     "output_type": "stream",
     "text": [
      "total 800\n",
      "drwxrwxrwx  21 mcampos  staff    672 Nov 16 19:49 .\n",
      "-rwxr-xr-x   1 mcampos  staff  35452 Nov 16 19:49 python_p2_05_exceptions.ipynb\n",
      "-rwxr-xr-x   1 mcampos  staff  66970 Nov 16 19:21 python_p2_04_classes.ipynb\n",
      "drwxrwxrwx  22 mcampos  staff    704 Nov 13 16:19 ..\n",
      "-rwxr-xr-x   1 mcampos  staff  13117 Nov 13 15:28 python_p2_06_unit_testing.ipynb\n",
      "-rwxr-xr-x   1 mcampos  staff  13189 Nov 12 22:51 python_p2_07_test_driven.ipynb\n",
      "-rwxr-xr-x   1 mcampos  staff   3959 Nov  2 21:08 python_p2_03_generators.ipynb\n",
      "-rwxr-xr-x   1 mcampos  staff  25605 Nov  2 21:03 python_p2_02_magic.ipynb\n",
      "-rwxr-xr-x   1 mcampos  staff  54345 Nov  2 21:00 python_p2_01_misc.ipynb\n",
      "-rwxr-xr-x   1 mcampos  staff    258 Nov  2 20:58 movies.json\n",
      "-rw-r--r--   1 mcampos  staff   7307 Oct 30 18:44 my_saved.xlsx\n",
      "-rw-r--r--   1 mcampos  staff   7307 Oct 30 18:43 my_saved2.xlsx\n",
      "-rw-r--r--   1 mcampos  staff   9728 Oct 30 18:41 my_saved2.xls\n",
      "-rw-r--r--@  1 mcampos  staff  61440 Jul 20 20:44 sample_sheet_example.xls\n",
      "-rwxr-xr-x@  1 mcampos  staff  60928 Jul 20 20:43 sample_sheet.xls\n",
      "-rwxr-xr-x   1 mcampos  staff   9728 Mar  5  2022 my_saved.xls\n",
      "-rwxr-xr-x   1 mcampos  staff   3246 Mar  5  2022 my_file.csv\n",
      "-rwxr-xr-x   1 mcampos  staff    105 Mar  5  2022 library.py\n",
      "-rwxr-xr-x   1 mcampos  staff    275 Mar  5  2022 data.json\n",
      "drwxrwxrwx   9 mcampos  staff    288 Aug  3  2021 .ipynb_checkpoints\n",
      "drwxrwxrwx   3 mcampos  staff     96 Jul  8  2021 __pycache__\n",
      "\n"
     ]
    }
   ],
   "source": [
    "print(result.output)"
   ]
  },
  {
   "cell_type": "code",
   "execution_count": null,
   "metadata": {},
   "outputs": [],
   "source": []
  },
  {
   "cell_type": "code",
   "execution_count": null,
   "metadata": {},
   "outputs": [],
   "source": []
  }
 ],
 "metadata": {
  "kernelspec": {
   "display_name": "Python 3 (ipykernel)",
   "language": "python",
   "name": "python3"
  },
  "language_info": {
   "codemirror_mode": {
    "name": "ipython",
    "version": 3
   },
   "file_extension": ".py",
   "mimetype": "text/x-python",
   "name": "python",
   "nbconvert_exporter": "python",
   "pygments_lexer": "ipython3",
   "version": "3.9.7"
  }
 },
 "nbformat": 4,
 "nbformat_minor": 4
}
