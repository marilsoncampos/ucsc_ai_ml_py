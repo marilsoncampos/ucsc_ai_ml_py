{
 "cells": [
  {
   "cell_type": "markdown",
   "id": "cb0f4277",
   "metadata": {},
   "source": [
    "## Apply 'Monte Carlo' to figure out probabilities of real problems."
   ]
  },
  {
   "cell_type": "markdown",
   "id": "07145cb0",
   "metadata": {},
   "source": [
    "#### Whats is the intuition behind probability"
   ]
  },
  {
   "cell_type": "markdown",
   "id": "44783f20",
   "metadata": {},
   "source": [
    "For the case where we are measuring the occurrence of one event A;\n",
    "\n",
    "$P(A) = \\frac{S}{T}$ \n",
    "\n",
    "where:\n",
    "\n",
    "   P(A)=Probability of event A occuring\n",
    "\n",
    "   S=Number of successes of Event A and \n",
    "\n",
    "   T = Number of tries.\n",
    "\n",
    "> The event A could represent rolling dice with 5.\n",
    "We can then roll the dice 1000 times and count the number of times it hit 5.\n",
    "Then we divide the number of '5's by 1000 and get the probability.\n",
    "\n",
    "\n"
   ]
  },
  {
   "cell_type": "markdown",
   "id": "007e714d-2c75-498b-bff1-c853119bed3f",
   "metadata": {},
   "source": [
    "**Note:** \n",
    "\n",
    "There are cases when the event is not discrete with a finite number of occurrences.\n",
    "\n",
    "Example:\n",
    "  What's the probability of a missile hitting a particular part of a vessel?\n",
    "The same priciple applies by we need to look into areas instead of counts.\n"
   ]
  },
  {
   "cell_type": "markdown",
   "id": "91257617",
   "metadata": {
    "tags": []
   },
   "source": [
    "#### Monte Carlo Method"
   ]
  },
  {
   "cell_type": "markdown",
   "id": "ea90b481",
   "metadata": {},
   "source": [
    "Monte Carlo simulations are used to model the probability of different outcomes in a process that cannot easily be predicted due to the intervention of random variables. It is a technique used to understand the impact of risk and uncertainty in prediction and forecasting models.\n",
    "\n",
    "A Monte Carlo simulation can be used to tackle a range of problems in virtually every field such as finance, engineering, supply chain, and science. It is also referred to as a multiple probability simulation.\n",
    "\n",
    "-- Wikepedia --\n"
   ]
  },
  {
   "cell_type": "markdown",
   "id": "a56805b6",
   "metadata": {},
   "source": [
    "#### Intuition:\n",
    "\n",
    "> We create an experiment that replicates the problem using a software program.\n",
    "Then we run that program(experiment) many times to calculate the number of successes and divide by the number of tries"
   ]
  },
  {
   "cell_type": "markdown",
   "id": "6ae07561",
   "metadata": {},
   "source": [
    "## Scenario: Will Stephanie and Mia meet at Starbucks?"
   ]
  },
  {
   "cell_type": "raw",
   "id": "629745d8",
   "metadata": {},
   "source": [
    "Stephanie and Mia agree to meet at the local Starbucks between 8:00 AM and 8:30 AM.\n",
    "They follow these rules regarding waiting for each other:\n",
    "\n",
    "  1. Stephanie gets to the coffee shop and waits 8 minutes before leaving for work.\n",
    "  2. Mia gets to the coffee shop and waits 5 minutes before leaving for school.\n",
    "\n",
    "The chance of arriving at any minute between 8:00 and 8:30 is the same for Stephanie and Mia. Both of them cannot stay past 8:30.\n",
    "\n",
    "What's the probability that they will be able to meet for coffee?\n"
   ]
  },
  {
   "cell_type": "markdown",
   "id": "53db050d",
   "metadata": {},
   "source": [
    "### Solution"
   ]
  },
  {
   "cell_type": "code",
   "execution_count": 1,
   "id": "7ccebd44",
   "metadata": {},
   "outputs": [],
   "source": [
    "import random\n",
    "from tqdm.notebook import tqdm\n",
    " \n",
    "\n",
    "def two_people_meet(num_of_minutes, person_1_wait, person_2_wait):\n",
    "    # Generate possible arrival times.\n",
    "    arrival_minutes = []\n",
    "    for i in range(1, num_of_minutes+1):\n",
    "        arrival_minutes.append(i)\n",
    "    # Randomise arrivals\n",
    "    person_1_arrival = random.choice(arrival_minutes)\n",
    "    person_2_arrival = random.choice(arrival_minutes)\n",
    "    if person_1_arrival == person_2_arrival:\n",
    "        return True\n",
    "    elif person_1_arrival < person_2_arrival:\n",
    "        return abs(person_2_arrival - person_1_arrival) <= person_1_wait\n",
    "    else:\n",
    "        return abs(person_1_arrival - person_2_arrival) <= person_2_wait\n",
    "        \n",
    "\n",
    "def monte_carlo_prob_meeting(num_of_experiments, num_of_minutes, person_1_wait, person_2_wait):\n",
    "    meetings = 0.0\n",
    "    for i in tqdm(range(num_of_experiments)):\n",
    "        if two_people_meet(num_of_minutes, person_1_wait, person_2_wait):\n",
    "            meetings +=1\n",
    "    prob_meetings = (meetings / num_of_experiments) * 100\n",
    "    return prob_meetings\n",
    "   "
   ]
  },
  {
   "cell_type": "markdown",
   "id": "4442b7ac",
   "metadata": {},
   "source": [
    "### How increasing the number of tries changes the result?"
   ]
  },
  {
   "cell_type": "code",
   "execution_count": 2,
   "id": "c1d97827",
   "metadata": {},
   "outputs": [
    {
     "data": {
      "application/vnd.jupyter.widget-view+json": {
       "model_id": "651abd90bf8a4b699d2ae8fd99f8f598",
       "version_major": 2,
       "version_minor": 0
      },
      "text/plain": [
       "  0%|          | 0/10000 [00:00<?, ?it/s]"
      ]
     },
     "metadata": {},
     "output_type": "display_data"
    },
    {
     "name": "stdout",
     "output_type": "stream",
     "text": [
      "Num. Experiments =    10000 -> 41.48%\n"
     ]
    },
    {
     "data": {
      "application/vnd.jupyter.widget-view+json": {
       "model_id": "badd4c5f58b64cac8cc0e19e157f9f7c",
       "version_major": 2,
       "version_minor": 0
      },
      "text/plain": [
       "  0%|          | 0/100000 [00:00<?, ?it/s]"
      ]
     },
     "metadata": {},
     "output_type": "display_data"
    },
    {
     "name": "stdout",
     "output_type": "stream",
     "text": [
      "Num. Experiments =   100000 -> 41.07%\n"
     ]
    },
    {
     "data": {
      "application/vnd.jupyter.widget-view+json": {
       "model_id": "0b10f6dfdacd433cac7ffdaa0c747720",
       "version_major": 2,
       "version_minor": 0
      },
      "text/plain": [
       "  0%|          | 0/1000000 [00:00<?, ?it/s]"
      ]
     },
     "metadata": {},
     "output_type": "display_data"
    },
    {
     "name": "stdout",
     "output_type": "stream",
     "text": [
      "Num. Experiments =  1000000 -> 41.05%\n"
     ]
    },
    {
     "data": {
      "application/vnd.jupyter.widget-view+json": {
       "model_id": "9f67a0d2adeb4dcdaab0e3ab14165793",
       "version_major": 2,
       "version_minor": 0
      },
      "text/plain": [
       "  0%|          | 0/10000000 [00:00<?, ?it/s]"
      ]
     },
     "metadata": {},
     "output_type": "display_data"
    },
    {
     "name": "stdout",
     "output_type": "stream",
     "text": [
      "Num. Experiments = 10000000 -> 40.99%\n",
      " \n"
     ]
    }
   ],
   "source": [
    "random.seed(1)\n",
    "experiment_sizes = [10_000, 100_000, 1_000_000, 10_000_000]\n",
    "num_of_minutes = 30\n",
    "person_1_wait = 8\n",
    "person_2_wait = 5\n",
    "for experiment_size in experiment_sizes:\n",
    "    prob = monte_carlo_prob_meeting(experiment_size, num_of_minutes, person_1_wait, person_2_wait)\n",
    "    print('Num. Experiments ={0:>9} -> {1:.2f}%'.format(experiment_size, prob))\n",
    "print(' ')\n"
   ]
  },
  {
   "cell_type": "markdown",
   "id": "8e6a0823",
   "metadata": {},
   "source": [
    "### How changing the number of minutes waited changes the chances of meeting?"
   ]
  },
  {
   "cell_type": "code",
   "execution_count": 3,
   "id": "3cf6f9b6",
   "metadata": {},
   "outputs": [],
   "source": [
    "def estimate_probs_for_wait_times():\n",
    "    num_of_minutes = 30\n",
    "    exp_size = 1_000_000\n",
    "    person_waits = list(range(0, 31))\n",
    "    results = []             \n",
    "    for wait_time in person_waits:\n",
    "        prob = monte_carlo_prob_meeting(exp_size, num_of_minutes, wait_time, wait_time)\n",
    "        results.append(prob)\n",
    "    x = person_waits\n",
    "    y = results\n",
    "    return x, y"
   ]
  },
  {
   "cell_type": "code",
   "execution_count": 4,
   "id": "2f0d7bab",
   "metadata": {},
   "outputs": [
    {
     "data": {
      "application/vnd.jupyter.widget-view+json": {
       "model_id": "ba5f5e1b3d1a4d88a1c721d453351f42",
       "version_major": 2,
       "version_minor": 0
      },
      "text/plain": [
       "  0%|          | 0/1000000 [00:00<?, ?it/s]"
      ]
     },
     "metadata": {},
     "output_type": "display_data"
    },
    {
     "data": {
      "application/vnd.jupyter.widget-view+json": {
       "model_id": "eb80004de9324d6eb6702f820e0f342a",
       "version_major": 2,
       "version_minor": 0
      },
      "text/plain": [
       "  0%|          | 0/1000000 [00:00<?, ?it/s]"
      ]
     },
     "metadata": {},
     "output_type": "display_data"
    },
    {
     "data": {
      "application/vnd.jupyter.widget-view+json": {
       "model_id": "b86748a00e5546f59a54a02a19ebea79",
       "version_major": 2,
       "version_minor": 0
      },
      "text/plain": [
       "  0%|          | 0/1000000 [00:00<?, ?it/s]"
      ]
     },
     "metadata": {},
     "output_type": "display_data"
    },
    {
     "data": {
      "application/vnd.jupyter.widget-view+json": {
       "model_id": "6910c37d66904224b515894c08e83bed",
       "version_major": 2,
       "version_minor": 0
      },
      "text/plain": [
       "  0%|          | 0/1000000 [00:00<?, ?it/s]"
      ]
     },
     "metadata": {},
     "output_type": "display_data"
    },
    {
     "data": {
      "application/vnd.jupyter.widget-view+json": {
       "model_id": "7880ee5dac6047ba8b5b7a330bbedc48",
       "version_major": 2,
       "version_minor": 0
      },
      "text/plain": [
       "  0%|          | 0/1000000 [00:00<?, ?it/s]"
      ]
     },
     "metadata": {},
     "output_type": "display_data"
    },
    {
     "data": {
      "application/vnd.jupyter.widget-view+json": {
       "model_id": "f55f11629816409aa970952a51a1196e",
       "version_major": 2,
       "version_minor": 0
      },
      "text/plain": [
       "  0%|          | 0/1000000 [00:00<?, ?it/s]"
      ]
     },
     "metadata": {},
     "output_type": "display_data"
    },
    {
     "data": {
      "application/vnd.jupyter.widget-view+json": {
       "model_id": "04257807b4684da0825cba9c881e1ed2",
       "version_major": 2,
       "version_minor": 0
      },
      "text/plain": [
       "  0%|          | 0/1000000 [00:00<?, ?it/s]"
      ]
     },
     "metadata": {},
     "output_type": "display_data"
    },
    {
     "data": {
      "application/vnd.jupyter.widget-view+json": {
       "model_id": "5fd1c36df4f549abbe26d5f723bcaaac",
       "version_major": 2,
       "version_minor": 0
      },
      "text/plain": [
       "  0%|          | 0/1000000 [00:00<?, ?it/s]"
      ]
     },
     "metadata": {},
     "output_type": "display_data"
    },
    {
     "data": {
      "application/vnd.jupyter.widget-view+json": {
       "model_id": "611ed0987c10438db644bc6a3e14acd8",
       "version_major": 2,
       "version_minor": 0
      },
      "text/plain": [
       "  0%|          | 0/1000000 [00:00<?, ?it/s]"
      ]
     },
     "metadata": {},
     "output_type": "display_data"
    },
    {
     "data": {
      "application/vnd.jupyter.widget-view+json": {
       "model_id": "ef4e6c5c3570438b9d5087a155d2fcdb",
       "version_major": 2,
       "version_minor": 0
      },
      "text/plain": [
       "  0%|          | 0/1000000 [00:00<?, ?it/s]"
      ]
     },
     "metadata": {},
     "output_type": "display_data"
    },
    {
     "data": {
      "application/vnd.jupyter.widget-view+json": {
       "model_id": "5074a26e7bad43e2b0007761201cfb87",
       "version_major": 2,
       "version_minor": 0
      },
      "text/plain": [
       "  0%|          | 0/1000000 [00:00<?, ?it/s]"
      ]
     },
     "metadata": {},
     "output_type": "display_data"
    },
    {
     "data": {
      "application/vnd.jupyter.widget-view+json": {
       "model_id": "8282ed79e1944e78b3793e69b5d68e60",
       "version_major": 2,
       "version_minor": 0
      },
      "text/plain": [
       "  0%|          | 0/1000000 [00:00<?, ?it/s]"
      ]
     },
     "metadata": {},
     "output_type": "display_data"
    },
    {
     "data": {
      "application/vnd.jupyter.widget-view+json": {
       "model_id": "f9ca5c5de9734cc08f6113f865d2a915",
       "version_major": 2,
       "version_minor": 0
      },
      "text/plain": [
       "  0%|          | 0/1000000 [00:00<?, ?it/s]"
      ]
     },
     "metadata": {},
     "output_type": "display_data"
    },
    {
     "data": {
      "application/vnd.jupyter.widget-view+json": {
       "model_id": "fd47b5daa84646fd8538f72cb47ad96c",
       "version_major": 2,
       "version_minor": 0
      },
      "text/plain": [
       "  0%|          | 0/1000000 [00:00<?, ?it/s]"
      ]
     },
     "metadata": {},
     "output_type": "display_data"
    },
    {
     "data": {
      "application/vnd.jupyter.widget-view+json": {
       "model_id": "d3446efb52134770a5556a83b91e1609",
       "version_major": 2,
       "version_minor": 0
      },
      "text/plain": [
       "  0%|          | 0/1000000 [00:00<?, ?it/s]"
      ]
     },
     "metadata": {},
     "output_type": "display_data"
    },
    {
     "data": {
      "application/vnd.jupyter.widget-view+json": {
       "model_id": "12ca52d9bb014e15ac09851345083865",
       "version_major": 2,
       "version_minor": 0
      },
      "text/plain": [
       "  0%|          | 0/1000000 [00:00<?, ?it/s]"
      ]
     },
     "metadata": {},
     "output_type": "display_data"
    },
    {
     "data": {
      "application/vnd.jupyter.widget-view+json": {
       "model_id": "cc05c946684742d1985f50329c1790f3",
       "version_major": 2,
       "version_minor": 0
      },
      "text/plain": [
       "  0%|          | 0/1000000 [00:00<?, ?it/s]"
      ]
     },
     "metadata": {},
     "output_type": "display_data"
    },
    {
     "data": {
      "application/vnd.jupyter.widget-view+json": {
       "model_id": "24ace7b0c94a4b8ba330f03347110aeb",
       "version_major": 2,
       "version_minor": 0
      },
      "text/plain": [
       "  0%|          | 0/1000000 [00:00<?, ?it/s]"
      ]
     },
     "metadata": {},
     "output_type": "display_data"
    },
    {
     "data": {
      "application/vnd.jupyter.widget-view+json": {
       "model_id": "f3d153f4b9e640b39027c68d6b80d826",
       "version_major": 2,
       "version_minor": 0
      },
      "text/plain": [
       "  0%|          | 0/1000000 [00:00<?, ?it/s]"
      ]
     },
     "metadata": {},
     "output_type": "display_data"
    },
    {
     "data": {
      "application/vnd.jupyter.widget-view+json": {
       "model_id": "01dc440010e44d7a975eea174d3fa0e6",
       "version_major": 2,
       "version_minor": 0
      },
      "text/plain": [
       "  0%|          | 0/1000000 [00:00<?, ?it/s]"
      ]
     },
     "metadata": {},
     "output_type": "display_data"
    },
    {
     "data": {
      "application/vnd.jupyter.widget-view+json": {
       "model_id": "b499cf37d19147b693642f76b2571ddd",
       "version_major": 2,
       "version_minor": 0
      },
      "text/plain": [
       "  0%|          | 0/1000000 [00:00<?, ?it/s]"
      ]
     },
     "metadata": {},
     "output_type": "display_data"
    },
    {
     "data": {
      "application/vnd.jupyter.widget-view+json": {
       "model_id": "35b78e0bfbe74577800b793bc84442bd",
       "version_major": 2,
       "version_minor": 0
      },
      "text/plain": [
       "  0%|          | 0/1000000 [00:00<?, ?it/s]"
      ]
     },
     "metadata": {},
     "output_type": "display_data"
    },
    {
     "data": {
      "application/vnd.jupyter.widget-view+json": {
       "model_id": "3d30dc8bfcce4af186f567bec111ed2a",
       "version_major": 2,
       "version_minor": 0
      },
      "text/plain": [
       "  0%|          | 0/1000000 [00:00<?, ?it/s]"
      ]
     },
     "metadata": {},
     "output_type": "display_data"
    },
    {
     "data": {
      "application/vnd.jupyter.widget-view+json": {
       "model_id": "3bc55d20d4e840d2b697ac7a85a2d286",
       "version_major": 2,
       "version_minor": 0
      },
      "text/plain": [
       "  0%|          | 0/1000000 [00:00<?, ?it/s]"
      ]
     },
     "metadata": {},
     "output_type": "display_data"
    },
    {
     "data": {
      "application/vnd.jupyter.widget-view+json": {
       "model_id": "89f889a579c343e0a87ca0bc745a61c0",
       "version_major": 2,
       "version_minor": 0
      },
      "text/plain": [
       "  0%|          | 0/1000000 [00:00<?, ?it/s]"
      ]
     },
     "metadata": {},
     "output_type": "display_data"
    },
    {
     "data": {
      "application/vnd.jupyter.widget-view+json": {
       "model_id": "4f04c3dd32f9486c8a075b12f340edc3",
       "version_major": 2,
       "version_minor": 0
      },
      "text/plain": [
       "  0%|          | 0/1000000 [00:00<?, ?it/s]"
      ]
     },
     "metadata": {},
     "output_type": "display_data"
    },
    {
     "data": {
      "application/vnd.jupyter.widget-view+json": {
       "model_id": "292067b60d4f49cebc4daf1a297abe2f",
       "version_major": 2,
       "version_minor": 0
      },
      "text/plain": [
       "  0%|          | 0/1000000 [00:00<?, ?it/s]"
      ]
     },
     "metadata": {},
     "output_type": "display_data"
    },
    {
     "data": {
      "application/vnd.jupyter.widget-view+json": {
       "model_id": "afa980a388e448f386e1645c4a631b53",
       "version_major": 2,
       "version_minor": 0
      },
      "text/plain": [
       "  0%|          | 0/1000000 [00:00<?, ?it/s]"
      ]
     },
     "metadata": {},
     "output_type": "display_data"
    },
    {
     "data": {
      "application/vnd.jupyter.widget-view+json": {
       "model_id": "d9cb910586574645987a38c821d4637b",
       "version_major": 2,
       "version_minor": 0
      },
      "text/plain": [
       "  0%|          | 0/1000000 [00:00<?, ?it/s]"
      ]
     },
     "metadata": {},
     "output_type": "display_data"
    },
    {
     "data": {
      "application/vnd.jupyter.widget-view+json": {
       "model_id": "ca716865fbc246b8bda2ceac06f93320",
       "version_major": 2,
       "version_minor": 0
      },
      "text/plain": [
       "  0%|          | 0/1000000 [00:00<?, ?it/s]"
      ]
     },
     "metadata": {},
     "output_type": "display_data"
    },
    {
     "data": {
      "application/vnd.jupyter.widget-view+json": {
       "model_id": "14f235e1b4de4269898a2356bf652844",
       "version_major": 2,
       "version_minor": 0
      },
      "text/plain": [
       "  0%|          | 0/1000000 [00:00<?, ?it/s]"
      ]
     },
     "metadata": {},
     "output_type": "display_data"
    },
    {
     "data": {
      "image/png": "[encoded data removed]",
      "text/plain": [
       "<Figure size 640x480 with 1 Axes>"
      ]
     },
     "metadata": {},
     "output_type": "display_data"
    }
   ],
   "source": [
    "import matplotlib.pyplot as plt\n",
    "\n",
    "x, y = estimate_probs_for_wait_times()\n",
    "plt.plot(x, y)\n",
    "plt.xlabel('Number of minutes waiting')\n",
    "plt.ylabel('% Chance of meeting')\n",
    "plt.grid(visible=True, which='major', axis='y', color='red', alpha=0.3)"
   ]
  },
  {
   "cell_type": "code",
   "execution_count": null,
   "id": "65347a95",
   "metadata": {},
   "outputs": [],
   "source": []
  },
  {
   "cell_type": "code",
   "execution_count": null,
   "id": "60197fbc",
   "metadata": {},
   "outputs": [],
   "source": []
  }
 ],
 "metadata": {
  "kernelspec": {
   "display_name": "Python 3 (ipykernel)",
   "language": "python",
   "name": "python3"
  },
  "language_info": {
   "codemirror_mode": {
    "name": "ipython",
    "version": 3
   },
   "file_extension": ".py",
   "mimetype": "text/x-python",
   "name": "python",
   "nbconvert_exporter": "python",
   "pygments_lexer": "ipython3",
   "version": "3.9.13"
  }
 },
 "nbformat": 4,
 "nbformat_minor": 5
}
