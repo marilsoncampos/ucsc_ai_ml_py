{
 "cells": [
  {
   "cell_type": "markdown",
   "id": "ee10bf3a",
   "metadata": {},
   "source": [
    "### The Pipe Smoker "
   ]
  },
  {
   "cell_type": "raw",
   "id": "1c6d06f2",
   "metadata": {},
   "source": [
    "A pipe smoker has two boxes of matches in his pocket, each containing 40 matches. \n",
    "\n",
    "Whenever a match is required he picks one of the boxes at random and removes one match. \n",
    "\n",
    "What's the average number of matches that can be removed until one box is completely empty?\n"
   ]
  },
  {
   "cell_type": "code",
   "execution_count": 3,
   "id": "fae11354",
   "metadata": {},
   "outputs": [],
   "source": [
    "import random\n",
    "\n",
    "def pipe_smoker_match_boxes():\n",
    "    matches_in_box_1 = 40\n",
    "    matches_in_box_2 = 40\n",
    "    while True:\n",
    "        if (matches_in_box_1 == 0) or (matches_in_box_2 == 0):\n",
    "            return (80 - matches_in_box_1 - matches_in_box_2)\n",
    "        box_picked = random.choice([1,2])\n",
    "        if box_picked == 1:\n",
    "            matches_in_box_1 -= 1\n",
    "        else:\n",
    "            matches_in_box_2 -= 1\n",
    "            \n",
    "\n",
    "def monte_carlo_pipe_smoker(num_of_experiments):\n",
    "    avg_matches_used = 0.0\n",
    "    for curr_exp in range(1, num_of_experiments+1):\n",
    "        matches_used = pipe_smoker_match_boxes()\n",
    "        avg_matches_used = (\n",
    "            (avg_matches_used * (((1.0 * curr_exp)-1)/curr_exp)) + \n",
    "            ((matches_used * 1.0)/ curr_exp)\n",
    "        )\n",
    "    return avg_matches_used\n"
   ]
  },
  {
   "cell_type": "code",
   "execution_count": null,
   "id": "96b2152a-19e3-4eff-aef8-00eb41cbcfce",
   "metadata": {},
   "outputs": [],
   "source": [
    "# 1_000_000\n",
    "# Avg 35\n",
    "# 1_000_001 -> 67\n",
    "R1 = \n",
    "((35 * 1_000_000) +\n",
    "(67 * 1)) /1_000_001\n",
    "\n",
    "R2 = \n",
    "(35 * (1_000_000/1_000_001) +\n",
    "(67 / 1_000_001)"
   ]
  },
  {
   "cell_type": "code",
   "execution_count": null,
   "id": "e3ea4cc9-9818-4bfb-a03d-43f660a8701b",
   "metadata": {},
   "outputs": [],
   "source": []
  },
  {
   "cell_type": "code",
   "execution_count": 5,
   "id": "10e4c45c",
   "metadata": {},
   "outputs": [
    {
     "name": "stdout",
     "output_type": "stream",
     "text": [
      "Exp Size=100         : Avg Number of Matches = 73.660\n",
      "Exp Size=1000        : Avg Number of Matches = 72.944\n",
      "Exp Size=100000      : Avg Number of Matches = 72.883\n",
      "Exp Size=1000000     : Avg Number of Matches = 72.882\n"
     ]
    }
   ],
   "source": [
    "random.seed(100)  # This makes the random generator produce the same sequence of numbers.\n",
    "num_exps = [100, 1_000, 100_000, 1_000_000]\n",
    "for num_exp in num_exps:\n",
    "    avg_matches_used = monte_carlo_pipe_smoker(num_exp)\n",
    "    print('Exp Size={0:<12}: Avg Number of Matches = {1:.3f}'.format(num_exp, avg_matches_used))\n"
   ]
  },
  {
   "cell_type": "code",
   "execution_count": null,
   "id": "af1b936e-9b2d-4ac7-914f-1177976a7a32",
   "metadata": {},
   "outputs": [],
   "source": []
  }
 ],
 "metadata": {
  "kernelspec": {
   "display_name": "Python 3 (ipykernel)",
   "language": "python",
   "name": "python3"
  },
  "language_info": {
   "codemirror_mode": {
    "name": "ipython",
    "version": 3
   },
   "file_extension": ".py",
   "mimetype": "text/x-python",
   "name": "python",
   "nbconvert_exporter": "python",
   "pygments_lexer": "ipython3",
   "version": "3.9.13"
  }
 },
 "nbformat": 4,
 "nbformat_minor": 5
}
