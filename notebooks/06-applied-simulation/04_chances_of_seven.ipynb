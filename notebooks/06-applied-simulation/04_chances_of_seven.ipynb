{
 "cells": [
  {
   "cell_type": "markdown",
   "id": "80ae080e",
   "metadata": {},
   "source": [
    "### 1. Chances of getting 7 when throwing two dices"
   ]
  },
  {
   "cell_type": "markdown",
   "id": "4e27b025-a8b0-450c-84c3-3d5754997141",
   "metadata": {},
   "source": [
    "#### The winning combinations:\n",
    "\n",
    "- 1-6\n",
    "- 2-5\n",
    "- 3-4\n",
    "- 4-3\n",
    "- 5-2 \n",
    "- 6-1\n",
    "\n",
    "#### Total number of combinations for two dices\n",
    "d1 = 6 ways for dice 1\n",
    "\n",
    "d2 = 6 ways for dice 2\n",
    "\n",
    "d1 x d2 = 36"
   ]
  },
  {
   "cell_type": "markdown",
   "id": "7d7fd1b3-accd-49eb-bf26-e88cb1cf49a6",
   "metadata": {},
   "source": [
    "P(Of a seven) = 6/36 = 1/6"
   ]
  },
  {
   "cell_type": "code",
   "execution_count": 1,
   "id": "42f15393-d18b-43be-b9ad-af5c00b1069d",
   "metadata": {},
   "outputs": [
    {
     "name": "stdout",
     "output_type": "stream",
     "text": [
      "Defaulting to user installation because normal site-packages is not writeable\n",
      "Requirement already satisfied: tabulate in c:\\programdata\\anaconda3\\lib\\site-packages (0.8.10)\n"
     ]
    }
   ],
   "source": [
    "# %%bash\n",
    "!pip install tabulate"
   ]
  },
  {
   "cell_type": "code",
   "execution_count": 7,
   "id": "4ca3de6d-eebf-4801-815e-07baa12d6040",
   "metadata": {},
   "outputs": [],
   "source": [
    "import random\n",
    "from tabulate import tabulate"
   ]
  },
  {
   "cell_type": "code",
   "execution_count": 8,
   "id": "db107806",
   "metadata": {},
   "outputs": [],
   "source": [
    "DICE_VALUES = list(range(1,7))\n",
    "\n",
    "def roll_a_dice():\n",
    "    return random.choice(DICE_VALUES)\n",
    "\n",
    "\n",
    "def draw_a_number_in_two_rolls(number):\n",
    "    dice_1 = roll_a_dice()\n",
    "    dice_2 = roll_a_dice()\n",
    "    return (dice_1 + dice_2) == number\n",
    "         \n",
    "\n",
    "def monte_carlo_roll_number(num_of_experiments, sum_dice):\n",
    "    wins = 0.0\n",
    "    for _ in range(num_of_experiments):\n",
    "        win = draw_a_number_in_two_rolls(sum_dice)\n",
    "        if win:\n",
    "            wins += 1\n",
    "    prob_winning = (wins / num_of_experiments) * 100\n",
    "    return prob_winning\n",
    " "
   ]
  },
  {
   "cell_type": "code",
   "execution_count": 9,
   "id": "88250ddd",
   "metadata": {},
   "outputs": [
    {
     "name": "stdout",
     "output_type": "stream",
     "text": [
      "Estimated probability of a rolling a seven for several repetitions.\n",
      "\n",
      "  16.67% Calculated\n",
      "  17.17% (Experiment size = 10,000)\n",
      "  16.93% (Experiment size = 100,000)\n",
      "  16.66% (Experiment size = 1,000,000)\n",
      "  16.68% (Experiment size = 10,000,000)\n"
     ]
    }
   ],
   "source": [
    "print('Estimated probability of a rolling a seven for several repetitions.\\n')\n",
    "exp_sizes = [10_000, 100_000, 1_000_000, 10_000_000]\n",
    "target_value = 7\n",
    "print('  {0:.2f}% Calculated'.format(100.0/6))\n",
    "\n",
    "for exp_size in exp_sizes:\n",
    "    prob = monte_carlo_roll_number(exp_size, target_value)\n",
    "    exp_size_str = '{0:,}'.format(exp_size)\n",
    "    print('  {0:.2f}% (Experiment size = {1:})'.format(prob, exp_size_str))\n"
   ]
  },
  {
   "cell_type": "markdown",
   "id": "fe524e5e",
   "metadata": {},
   "source": [
    "### 2. Chance of winning for each sum."
   ]
  },
  {
   "cell_type": "code",
   "execution_count": 10,
   "id": "757eb31a",
   "metadata": {},
   "outputs": [
    {
     "name": "stdout",
     "output_type": "stream",
     "text": [
      "Possible values for sum of two dices = 2,3,4,5,6,7,8,9,10,11,12\n",
      " \n",
      "Estimations for each sum of two dices: \n",
      "  Sum of dices  Estimate\n",
      "--------------  ----------\n",
      "             2  2.76%\n",
      "             3  5.56%\n",
      "             4  8.32%\n",
      "             5  11.12%\n",
      "             6  13.85%\n",
      "             7  16.62%\n",
      "             8  13.91%\n",
      "             9  11.13%\n",
      "            10  8.36%\n",
      "            11  5.53%\n",
      "            12  2.76%\n"
     ]
    }
   ],
   "source": [
    "def calculate_estimates_for_dice_sums(target_values):\n",
    "    exp_size = 1_000_000\n",
    "    estimations = dict()\n",
    "    for target_value in target_values:\n",
    "        prob = monte_carlo_roll_number(exp_size, target_value)\n",
    "        estimations[target_value] = prob\n",
    "    return estimations\n",
    "\n",
    "target_values = list(range(2,13)) \n",
    "print('Possible values for sum of two dices = {0}'.format(','.join([str(x) for x in target_values])))\n",
    "# Save the estimations for later use.\n",
    "monte_carlo_estimations = calculate_estimates_for_dice_sums(target_values)\n",
    "print(' ')\n",
    "print('Estimations for each sum of two dices:', end='')\n",
    "\n",
    " \n",
    "estimate_table = []\n",
    "for target_value in sorted(monte_carlo_estimations.keys()):\n",
    "    prob = monte_carlo_estimations[target_value]\n",
    "    estimate_table.append((target_value, '{0:5.2f}%'.format(prob)))\n",
    "\n",
    "print(' ')\n",
    "print(tabulate(estimate_table, headers=[\"Sum of dices\", \"Estimate\"], tablefmt=\"mixed_outline\"))\n",
    "                            "
   ]
  },
  {
   "cell_type": "markdown",
   "id": "914c9021-2f5e-4339-bf55-a2a11b0f98ee",
   "metadata": {},
   "source": [
    "#### 3. Possible dice combinations for each sum value"
   ]
  },
  {
   "cell_type": "code",
   "execution_count": 11,
   "id": "43419fad",
   "metadata": {},
   "outputs": [
    {
     "name": "stdout",
     "output_type": "stream",
     "text": [
      "Possible combinations for each sum:\n",
      " \n",
      " \n",
      "  Sum of dices  Dice combinations\n",
      "--------------  ----------------------------------------------\n",
      "             2  (1, 1)\n",
      "             3  (1, 2), (2, 1)\n",
      "             4  (1, 3), (2, 2), (3, 1)\n",
      "             5  (1, 4), (2, 3), (3, 2), (4, 1)\n",
      "             6  (1, 5), (2, 4), (3, 3), (4, 2), (5, 1)\n",
      "             7  (1, 6), (2, 5), (3, 4), (4, 3), (5, 2), (6, 1)\n",
      "             8  (2, 6), (3, 5), (4, 4), (5, 3), (6, 2)\n",
      "             9  (3, 6), (4, 5), (5, 4), (6, 3)\n",
      "            10  (4, 6), (5, 5), (6, 4)\n",
      "            11  (5, 6), (6, 5)\n",
      "            12  (6, 6)\n"
     ]
    }
   ],
   "source": [
    "from collections import defaultdict\n",
    "\n",
    "print('Possible combinations for each sum:')\n",
    "print(' ')\n",
    "results = defaultdict(list)\n",
    "for d1 in range(1,7):\n",
    "    for d2 in range(1,7):\n",
    "       results[d1+d2].append((d1,d2)) \n",
    "result_table = []\n",
    "for key in sorted(results.keys()):\n",
    "    dice_combinations = ', '.join([str(x) for x in results[key]])\n",
    "    result_table.append((key, dice_combinations))\n",
    "    \n",
    "print(' ')\n",
    "print(tabulate(result_table, headers=[\"Sum of dices\", \"Dice combinations\"], tablefmt=\"mixed_outline\"))\n",
    "                            "
   ]
  },
  {
   "cell_type": "markdown",
   "id": "7b130071-4083-4e57-935a-80ec67aa687a",
   "metadata": {},
   "source": [
    "#### 4. Comparing 'calculated' vs 'estimated' probabilities"
   ]
  },
  {
   "cell_type": "code",
   "execution_count": 12,
   "id": "34741c90",
   "metadata": {},
   "outputs": [
    {
     "name": "stdout",
     "output_type": "stream",
     "text": [
      "Comparing 'calculated' vs 'estimated' probabilities.\n",
      " \n",
      "  Calculated    Estimated    Delta\n",
      "------------  -----------  -------\n",
      "      2.778%       2.760%   0.018%\n",
      "      5.556%       5.560%  -0.005%\n",
      "      8.333%       8.318%   0.016%\n",
      "     11.111%      11.124%  -0.013%\n",
      "     13.889%      13.851%   0.038%\n",
      "     16.667%      16.616%   0.050%\n",
      "     13.889%      13.905%  -0.016%\n",
      "     11.111%      11.130%  -0.019%\n",
      "      8.333%       8.358%  -0.025%\n",
      "      5.556%       5.531%   0.025%\n",
      "      2.778%       2.760%   0.018%\n"
     ]
    }
   ],
   "source": [
    "print(\"Comparing 'calculated' vs 'estimated' probabilities.\")\n",
    "print(' ')\n",
    "basic_prob = 100.0/36 \n",
    "comparison_table = []\n",
    "for key in sorted(results.keys()):\n",
    "    calculated_value = len(results[key]) * basic_prob\n",
    "    estimated_value = monte_carlo_estimations[key]\n",
    "    difference_value = calculated_value - estimated_value\n",
    "    comparison_table.append(\n",
    "        (f'{calculated_value:.3f}%', \n",
    "         f'{estimated_value:.3f}%',\n",
    "         f'{difference_value:.3f}%')\n",
    "    )\n",
    "print(tabulate(\n",
    "    comparison_table, headers=[\"Calculated\", \"Estimated\", \"Delta\"], \n",
    "    colalign=(\"right\",\"right\", \"right\"),\n",
    "    tablefmt=\"mixed_outline\"))\n"
   ]
  },
  {
   "cell_type": "code",
   "execution_count": null,
   "id": "e25dc925-8c08-45c5-bed0-ed2fa2627173",
   "metadata": {},
   "outputs": [],
   "source": []
  },
  {
   "cell_type": "code",
   "execution_count": null,
   "id": "e394d379-2645-4abc-8f68-9d9cd9f2d398",
   "metadata": {},
   "outputs": [],
   "source": []
  }
 ],
 "metadata": {
  "kernelspec": {
   "display_name": "Python 3 (ipykernel)",
   "language": "python",
   "name": "python3"
  },
  "language_info": {
   "codemirror_mode": {
    "name": "ipython",
    "version": 3
   },
   "file_extension": ".py",
   "mimetype": "text/x-python",
   "name": "python",
   "nbconvert_exporter": "python",
   "pygments_lexer": "ipython3",
   "version": "3.9.13"
  }
 },
 "nbformat": 4,
 "nbformat_minor": 5
}
