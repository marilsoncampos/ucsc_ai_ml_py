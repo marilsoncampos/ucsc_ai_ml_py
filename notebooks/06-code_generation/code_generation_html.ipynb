{
 "cells": [
  {
   "cell_type": "code",
   "execution_count": 2,
   "id": "d5ecfbd8",
   "metadata": {},
   "outputs": [],
   "source": [
    "from typing import List\n",
    "from jinja2 import FileSystemLoader, Environment, BaseLoader\n",
    "import textwrap\n",
    "import inspect\n",
    "\n",
    "\n",
    "def _render_template_from_str(tpl_str: str, ctx: dict) -> str:\n",
    "    \"\"\"Combine the template with the data from ctx.\"\"\"\n",
    "    template = Environment(loader=BaseLoader()).from_string(tpl_str)\n",
    "    return template.render(ctx=ctx)\n"
   ]
  },
  {
   "cell_type": "code",
   "execution_count": 3,
   "id": "bdfd260c",
   "metadata": {},
   "outputs": [],
   "source": [
    "# Template for html.\n",
    "html_tpl = \"\"\"\n",
    "<!DOCTYPE html>\n",
    "<html lang=\"en\">\n",
    "<head>\n",
    "    <title>Page - {{ctx.page_title}}</title>\n",
    "</head>\n",
    "<body>\n",
    "    <h3>{{ctx.page_title}}</h3>\n",
    "\n",
    "    <h4>{{ctx.intro_title}}</h4><p>\n",
    "\n",
    "    {{ ctx.intro_text }}\n",
    "\n",
    "    <h4>Links</h4>\n",
    "    <ul id=\"navigation\">\n",
    "        {% for item in ctx.navigation -%}\n",
    "            <li><a href=\"{{ item.href }}\">{{ item.caption }}</a></li>\n",
    "        {% endfor %}\n",
    "    </ul>\n",
    "\n",
    "\n",
    "</body>\n",
    "</html>\n",
    "\"\"\""
   ]
  },
  {
   "cell_type": "code",
   "execution_count": 4,
   "id": "2c63a3df",
   "metadata": {},
   "outputs": [
    {
     "data": {
      "text/html": [
       "\n",
       "<!DOCTYPE html>\n",
       "<html lang=\"en\">\n",
       "<head>\n",
       "    <title>Page - My Sample page</title>\n",
       "</head>\n",
       "<body>\n",
       "    <h3>My Sample page</h3>\n",
       "\n",
       "    <h4>Introduction</h4><p>\n",
       "\n",
       "    Here comes the text for my introduction\n",
       "\n",
       "    <h4>Links</h4>\n",
       "    <ul id=\"navigation\">\n",
       "        <li><a href=\"http://www.ebay.com\">Ebay</a></li>\n",
       "        <li><a href=\"http://www.yahoo.com\">Yahoo</a></li>\n",
       "        <li><a href=\"http://www.Google.com\">Google</a></li>\n",
       "        <li><a href=\"http://www.Samsung.com\">Samsung</a></li>\n",
       "        \n",
       "    </ul>\n",
       "\n",
       "\n",
       "</body>\n",
       "</html>"
      ],
      "text/plain": [
       "<IPython.core.display.HTML object>"
      ]
     },
     "metadata": {},
     "output_type": "display_data"
    }
   ],
   "source": [
    "from IPython.display import HTML\n",
    "\n",
    "# Create dictionary with data.\n",
    "navs = [\n",
    "    {'href': 'http://www.ebay.com', 'caption':'Ebay'},\n",
    "    {'href': 'http://www.yahoo.com', 'caption':'Yahoo'},\n",
    "    {'href': 'http://www.Google.com', 'caption':'Google'},\n",
    "    {'href': 'http://www.Samsung.com', 'caption':'Samsung'},\n",
    "]\n",
    "ctx = {\n",
    "    'page_title': 'My Sample page',\n",
    "    'intro_title': 'Introduction',\n",
    "    'intro_text': 'Here comes the text for my introduction',\n",
    "    'navigation': navs\n",
    "}\n",
    "display(HTML(_render_template_from_str(html_tpl, ctx)))"
   ]
  },
  {
   "cell_type": "code",
   "execution_count": 7,
   "id": "707b9b2a",
   "metadata": {},
   "outputs": [
    {
     "name": "stdout",
     "output_type": "stream",
     "text": [
      "\n",
      "<!DOCTYPE html>\n",
      "<html lang=\"en\">\n",
      "<head>\n",
      "    <title>Page - My Sample page</title>\n",
      "</head>\n",
      "<body>\n",
      "    <h3>My Sample page</h3>\n",
      "\n",
      "    <h4>Introduction</h4><p>\n",
      "\n",
      "    Here comes the text for my introduction\n",
      "\n",
      "    <h4>Links</h4>\n",
      "    <ul id=\"navigation\">\n",
      "        <li><a href=\"http://www.ebay.com\">Ebay</a></li>\n",
      "        <li><a href=\"http://www.yahoo.com\">Yahoo</a></li>\n",
      "        <li><a href=\"http://www.Google.com\">Google</a></li>\n",
      "        <li><a href=\"http://www.Samsung.com\">Samsung</a></li>\n",
      "        \n",
      "    </ul>\n",
      "\n",
      "\n",
      "</body>\n",
      "</html>\n"
     ]
    }
   ],
   "source": [
    "for line in _render_template_from_str(html_tpl, ctx).split('\\n'):\n",
    "    print(line)"
   ]
  },
  {
   "cell_type": "code",
   "execution_count": null,
   "id": "064a2c3f",
   "metadata": {},
   "outputs": [],
   "source": []
  }
 ],
 "metadata": {
  "kernelspec": {
   "display_name": "Python 3 (ipykernel)",
   "language": "python",
   "name": "python3"
  },
  "language_info": {
   "codemirror_mode": {
    "name": "ipython",
    "version": 3
   },
   "file_extension": ".py",
   "mimetype": "text/x-python",
   "name": "python",
   "nbconvert_exporter": "python",
   "pygments_lexer": "ipython3",
   "version": "3.9.7"
  }
 },
 "nbformat": 4,
 "nbformat_minor": 5
}
