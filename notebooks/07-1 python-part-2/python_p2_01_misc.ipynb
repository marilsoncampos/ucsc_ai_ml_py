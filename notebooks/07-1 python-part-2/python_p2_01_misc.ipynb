{
 "cells": [
  {
   "cell_type": "markdown",
   "metadata": {},
   "source": [
    "#### Miscelaneous"
   ]
  },
  {
   "cell_type": "code",
   "execution_count": 55,
   "metadata": {},
   "outputs": [],
   "source": [
    "# Some helper functions\n",
    "from typing import List, Dict\n",
    "import json\n",
    "import openpyxl\n",
    "\n",
    "\n",
    "def pprint_dict(a_dict: Dict):\n",
    "    print(json.dumps(a_dict, indent=4, sort_keys=True))\n",
    " \n",
    "def pprint_list(a_list: List):\n",
    "    for rec in a_list:\n",
    "        print(rec)\n",
    "        "
   ]
  },
  {
   "cell_type": "code",
   "execution_count": 58,
   "metadata": {},
   "outputs": [
    {
     "name": "stdin",
     "output_type": "stream",
     "text": [
      "Enter a float number:  1\n"
     ]
    },
    {
     "name": "stdout",
     "output_type": "stream",
     "text": [
      "You entered 1\n"
     ]
    }
   ],
   "source": [
    "# Asking for user input:\n",
    "a_number = input(\"Enter a float number: \")\n",
    "print(\"You entered {0}\".format(a_number))"
   ]
  },
  {
   "cell_type": "code",
   "execution_count": null,
   "metadata": {},
   "outputs": [],
   "source": [
    "\n"
   ]
  },
  {
   "cell_type": "code",
   "execution_count": 59,
   "metadata": {},
   "outputs": [],
   "source": [
    "def safe_float(a_number: str) -> float:\n",
    "    try:\n",
    "        a_float = float(a_number) # Convert to float.\n",
    "    except ValueError as err:\n",
    "        print(err)\n",
    "        a_float = None\n",
    "    return a_float"
   ]
  },
  {
   "cell_type": "code",
   "execution_count": 60,
   "metadata": {},
   "outputs": [],
   "source": [
    "def safe_float2(a_number: str) -> (bool, float):\n",
    "    try:\n",
    "        return True, float(a_number) # Convert to float.\n",
    "    except ValueError as err:\n",
    "        print(err)\n",
    "        return False, None\n",
    "    "
   ]
  },
  {
   "cell_type": "code",
   "execution_count": 61,
   "metadata": {},
   "outputs": [
    {
     "name": "stdin",
     "output_type": "stream",
     "text": [
      "Enter a float number:  1\n"
     ]
    },
    {
     "name": "stdout",
     "output_type": "stream",
     "text": [
      "1.0\n"
     ]
    }
   ],
   "source": [
    "a_number = input(\"Enter a float number: \")\n",
    "success, a_float = safe_float2(a_number) # Convert to float.\n",
    "if not success:\n",
    "    print('Not a float!')\n",
    "else:\n",
    "    print(a_float) "
   ]
  },
  {
   "cell_type": "code",
   "execution_count": 62,
   "metadata": {
    "scrolled": true
   },
   "outputs": [
    {
     "name": "stdin",
     "output_type": "stream",
     "text": [
      "Enter a float number:  2\n"
     ]
    },
    {
     "name": "stdout",
     "output_type": "stream",
     "text": [
      "2.0\n"
     ]
    }
   ],
   "source": [
    "a_number = input(\"Enter a float number: \")\n",
    "a_float = safe_float(a_number) # Convert to float.\n",
    "if a_float is None:\n",
    "    print('Not a float!')\n",
    "else:\n",
    "    print(a_float) "
   ]
  },
  {
   "cell_type": "code",
   "execution_count": 63,
   "metadata": {},
   "outputs": [
    {
     "name": "stdout",
     "output_type": "stream",
     "text": [
      "<class 'int'>\n",
      "<class 'str'>\n",
      "1212.9\n",
      "24.9\n"
     ]
    }
   ],
   "source": [
    "x1 = 12\n",
    "x2 = '12.9'\n",
    "print(type(x1))\n",
    "print(type(x2))\n",
    "print(str(x1) + x2)\n",
    "print(x1 + float(x2))"
   ]
  },
  {
   "cell_type": "code",
   "execution_count": 64,
   "metadata": {},
   "outputs": [
    {
     "name": "stdout",
     "output_type": "stream",
     "text": [
      "3\n",
      "hello hello hello \n"
     ]
    }
   ],
   "source": [
    "x = 1; y = 2\n",
    "print(x + y)\n",
    "x = 'hello '; y = 'jack'\n",
    "print(x * 3)"
   ]
  },
  {
   "cell_type": "markdown",
   "metadata": {},
   "source": [
    "#### Randomizing from options."
   ]
  },
  {
   "cell_type": "code",
   "execution_count": 65,
   "metadata": {},
   "outputs": [
    {
     "name": "stdout",
     "output_type": "stream",
     "text": [
      "Event location: Arizona\n"
     ]
    }
   ],
   "source": [
    "# Randomly selecting from a list of options.\n",
    "from random import choice\n",
    "\n",
    "possible_locations = [\"California\", \"New York\", \"Arizona\", \"Alaska\", \"Texas\"]\n",
    "\n",
    "def select_location(): \n",
    "    \"\"\"Return random location from the possible locations.\"\"\"\n",
    "    return choice(possible_locations)\n",
    "\n",
    "print('Event location: {0}'.format(select_location()))"
   ]
  },
  {
   "cell_type": "code",
   "execution_count": 66,
   "metadata": {
    "scrolled": true
   },
   "outputs": [
    {
     "name": "stdout",
     "output_type": "stream",
     "text": [
      "{\n",
      "    \"1\": 0,\n",
      "    \"2\": 2799,\n",
      "    \"3\": 5547,\n",
      "    \"4\": 8503,\n",
      "    \"5\": 11102,\n",
      "    \"6\": 13682,\n",
      "    \"7\": 16731,\n",
      "    \"8\": 13862,\n",
      "    \"9\": 11086,\n",
      "    \"10\": 8291,\n",
      "    \"11\": 5602,\n",
      "    \"12\": 2795\n",
      "}\n"
     ]
    }
   ],
   "source": [
    "from random import choice\n",
    "dice_roll = [1, 2, 3, 4, 5, 6]\n",
    "\n",
    "def roll_dice(): \n",
    "    \"\"\"Return random location from the possible locations.\"\"\"\n",
    "    return choice(dice_roll)\n",
    "\n",
    "result = {x:0 for x in range(1,13)}\n",
    "\n",
    "for _ in range(100_000):\n",
    "    curr_result = roll_dice()+roll_dice()\n",
    "    result[curr_result] += 1\n",
    "\n",
    "pprint_dict(result)"
   ]
  },
  {
   "cell_type": "code",
   "execution_count": 67,
   "metadata": {},
   "outputs": [
    {
     "name": "stdout",
     "output_type": "stream",
     "text": [
      "Help on method choice in module random:\n",
      "\n",
      "choice(seq) method of random.Random instance\n",
      "    Choose a random element from a non-empty sequence.\n",
      "\n"
     ]
    }
   ],
   "source": [
    "help(choice)"
   ]
  },
  {
   "cell_type": "code",
   "execution_count": 68,
   "metadata": {},
   "outputs": [],
   "source": [
    "def my_func(a: int, b: int, c: int):\n",
    "    \"\"\"\n",
    "    This is my function to add 3 numbers.\n",
    "        a: integer\n",
    "        b: integer\n",
    "        c: integer\n",
    "    \"\"\"\n",
    "    return a+b+c"
   ]
  },
  {
   "cell_type": "code",
   "execution_count": 69,
   "metadata": {},
   "outputs": [
    {
     "name": "stdout",
     "output_type": "stream",
     "text": [
      "Help on function my_func in module __main__:\n",
      "\n",
      "my_func(a: int, b: int, c: int)\n",
      "    This is my function to add 3 numbers.\n",
      "        a: integer\n",
      "        b: integer\n",
      "        c: integer\n",
      "\n"
     ]
    }
   ],
   "source": [
    "help(my_func)"
   ]
  },
  {
   "cell_type": "code",
   "execution_count": 70,
   "metadata": {},
   "outputs": [],
   "source": [
    "def my_func2(a: int, b: int, c: int) -> int:\n",
    "    \"\"\"\n",
    "    This is a function to add 3 integers.\n",
    "    \"\"\"\n",
    "    return a+b+c"
   ]
  },
  {
   "cell_type": "code",
   "execution_count": 71,
   "metadata": {
    "tags": []
   },
   "outputs": [
    {
     "name": "stdout",
     "output_type": "stream",
     "text": [
      "Help on function my_func2 in module __main__:\n",
      "\n",
      "my_func2(a: int, b: int, c: int) -> int\n",
      "    This is a function to add 3 integers.\n",
      "\n"
     ]
    }
   ],
   "source": [
    "help(my_func2)"
   ]
  },
  {
   "cell_type": "code",
   "execution_count": 72,
   "metadata": {},
   "outputs": [
    {
     "name": "stdout",
     "output_type": "stream",
     "text": [
      "Help on function join in module posixpath:\n",
      "\n",
      "join(a, *p)\n",
      "    Join two or more pathname components, inserting '/' as needed.\n",
      "    If any component is an absolute path, all previous path components\n",
      "    will be discarded.  An empty last part will result in a path that\n",
      "    ends with a separator.\n",
      "\n"
     ]
    }
   ],
   "source": [
    "import matplotlib.pyplot as plt\n",
    "# help(plt)\n",
    "from os.path import join\n",
    "help(join)"
   ]
  },
  {
   "cell_type": "code",
   "execution_count": 73,
   "metadata": {},
   "outputs": [
    {
     "data": {
      "image/png": "[encoded data removed]",
      "text/plain": [
       "<Figure size 640x480 with 1 Axes>"
      ]
     },
     "metadata": {},
     "output_type": "display_data"
    }
   ],
   "source": [
    "# Basic visualization.\n",
    "%matplotlib inline\n",
    "import matplotlib.pyplot as plt\n",
    "x = result.keys()\n",
    "y = result.values()\n",
    "total_expr = sum(y)\n",
    "plt.title(f'Distribution - Simulated (Total exp={total_expr})')\n",
    "plt.xlabel('Sum of dices')\n",
    "plt.ylabel('Frequency')\n",
    "plt.plot(x, y, '.', color='blue', );"
   ]
  },
  {
   "cell_type": "markdown",
   "metadata": {},
   "source": [
    "#### More simulations"
   ]
  },
  {
   "cell_type": "code",
   "execution_count": 79,
   "metadata": {},
   "outputs": [
    {
     "name": "stdout",
     "output_type": "stream",
     "text": [
      " \n",
      "Prob of each outcome\n",
      " 2 = 2.778\n",
      " 3 = 5.568\n",
      " 4 = 8.346\n",
      " 5 = 11.122\n",
      " 6 = 13.883\n",
      " 7 = 16.651\n",
      " 8 = 13.899\n",
      " 9 = 11.101\n",
      " 10 = 8.335\n",
      " 11 = 5.541\n",
      " 12 = 2.777\n",
      " \n",
      "Cummulative prob\n",
      " 2 = 2.778\n",
      " 3 = 8.346\n",
      " 4 = 16.691\n",
      " 5 = 27.813\n",
      " 6 = 41.696\n",
      " 7 = 58.346\n",
      " 8 = 72.246\n",
      " 9 = 83.347\n",
      " 10 = 91.682\n",
      " 11 = 97.223\n",
      " 12 = 100.000\n"
     ]
    }
   ],
   "source": [
    "# Randomly selecting from list of options.\n",
    "from random import choice\n",
    "from collections import defaultdict\n",
    "\n",
    "pos_values = [1, 2, 3, 4, 5, 6]\n",
    "\n",
    "def roll_the_dices(num_dices): \n",
    "    return [choice(pos_values) for _ in range(num_dices)]\n",
    "\n",
    "NUM_EXPR = 10_000_000\n",
    "results = defaultdict(int)\n",
    "for _ in range(NUM_EXPR):\n",
    "    sum_dices = sum(roll_the_dices(2))\n",
    "    results[sum_dices] += 1\n",
    " \n",
    "acc = 0\n",
    "print(' ')\n",
    "print('Prob of each outcome')\n",
    "for key, value in sorted(results.items()):\n",
    "    perc = (value/NUM_EXPR)*100\n",
    "    acc += perc\n",
    "    print(' {0} = {1:.3f}'.format(key, perc))\n",
    "\n",
    "print(' ')\n",
    "print('Cummulative prob')\n",
    "acc = 0\n",
    "for key, value in sorted(results.items()):\n",
    "    perc = (value/NUM_EXPR)*100\n",
    "    acc += perc\n",
    "    print(' {0} = {1:.3f}'.format(key, acc))\n"
   ]
  },
  {
   "cell_type": "code",
   "execution_count": 42,
   "metadata": {},
   "outputs": [
    {
     "name": "stdout",
     "output_type": "stream",
     "text": [
      "defaultdict(<class 'int'>, {7: 1665377, 8: 1388681, 4: 834212, 9: 1112559, 10: 833892, 12: 277925, 5: 1111456, 6: 1387215, 11: 555835, 3: 555209, 2: 277639})\n"
     ]
    }
   ],
   "source": [
    "def run_expreriment(num_times: int, func_to_call) -> Dict:\n",
    "    results = defaultdict(int)\n",
    "    for _ in range(num_times):\n",
    "        result = func_to_call()\n",
    "        results[result] += 1\n",
    "    return results\n",
    "\n",
    "def get_dice_count():\n",
    "    return sum(roll_the_dices(2))\n",
    "\n",
    "NUM_EXPR = 10_000_000\n",
    "exp_results = run_expreriment( NUM_EXPR, get_dice_count)\n",
    "print(exp_results)"
   ]
  },
  {
   "cell_type": "markdown",
   "metadata": {},
   "source": [
    "- Notice that the total adds to close to 100!"
   ]
  },
  {
   "cell_type": "markdown",
   "metadata": {},
   "source": [
    "#### Note: some list manipulation tricks"
   ]
  },
  {
   "cell_type": "code",
   "execution_count": 76,
   "metadata": {},
   "outputs": [
    {
     "name": "stdout",
     "output_type": "stream",
     "text": [
      "[0, 1, 2, 3]\n",
      "[1, 1, 1, 1]\n"
     ]
    }
   ],
   "source": [
    "in_list = list(range(4))\n",
    "print(in_list)\n",
    "x = [1 for _ in in_list]  # Generates a bunch of ones.\n",
    "print(x)"
   ]
  },
  {
   "cell_type": "code",
   "execution_count": 75,
   "metadata": {},
   "outputs": [
    {
     "data": {
      "text/plain": [
       "[0, 1, 2, 3]"
      ]
     },
     "execution_count": 75,
     "metadata": {},
     "output_type": "execute_result"
    }
   ],
   "source": []
  },
  {
   "cell_type": "code",
   "execution_count": 77,
   "metadata": {},
   "outputs": [
    {
     "name": "stdout",
     "output_type": "stream",
     "text": [
      "0 2\n"
     ]
    }
   ],
   "source": [
    "a, _, b, _ = in_list  # Selective unpacking.\n",
    "print(a, b)"
   ]
  },
  {
   "cell_type": "markdown",
   "metadata": {},
   "source": [
    "#### Back to dices."
   ]
  },
  {
   "cell_type": "code",
   "execution_count": 82,
   "metadata": {},
   "outputs": [
    {
     "data": {
      "text/plain": [
       "[4, 3, 4, 2]"
      ]
     },
     "execution_count": 82,
     "metadata": {},
     "output_type": "execute_result"
    }
   ],
   "source": [
    "roll_the_dices(4)"
   ]
  },
  {
   "cell_type": "code",
   "execution_count": 99,
   "metadata": {},
   "outputs": [
    {
     "name": "stdout",
     "output_type": "stream",
     "text": [
      "13.89%\n"
     ]
    }
   ],
   "source": [
    "# Chances of getting a 6 after throwing a dice twice.\n",
    "prob_single_combination = 1.0/36   # Two dice.\n",
    "\n",
    "# These are the possible combinations to get a sum = 6\n",
    "# 1 and 5\n",
    "# 2 and 4\n",
    "# 3 and 3\n",
    "# 5 and 1\n",
    "# 4 and 2\n",
    "print('{0}%'.format(round(prob_single_combination * 5 * 100, 2)))"
   ]
  },
  {
   "cell_type": "markdown",
   "metadata": {},
   "source": [
    "#### Json manipulation"
   ]
  },
  {
   "cell_type": "code",
   "execution_count": 84,
   "metadata": {},
   "outputs": [
    {
     "name": "stdout",
     "output_type": "stream",
     "text": [
      "<class 'list'>\n",
      "<class 'dict'>\n"
     ]
    }
   ],
   "source": [
    "movies_str = \"\"\"\n",
    "[\n",
    "  {\n",
    "    \"name\": \"The Exorcist\",\n",
    "    \"release\": 1982,\n",
    "    \"genre\": [\"Horror\"]\n",
    "  },\n",
    "  {\n",
    "    \"name\": \"Inception\",\n",
    "    \"release\": 2010,\n",
    "    \"genre\": [\"Fantasy\"]\n",
    "  },\n",
    "  {\n",
    "    \"name\": \"Brazil\",\n",
    "    \"release\": 1985,\n",
    "    \"genre\": [\"Science Fiction\", \"Comedy\"]\n",
    "  },\n",
    "  {\n",
    "    \"name\": \"The Dark Knight \",\n",
    "    \"release\": 2008,\n",
    "    \"genre\": [\"Super Hero\"]\n",
    "  }\n",
    "]\n",
    "\"\"\"\n",
    "\n",
    "another_str = \"\"\"\n",
    "\n",
    "  {\n",
    "    \"name\": \"The Exorcist\",\n",
    "    \"release\": 1982,\n",
    "    \"genre\": [\"Horror\"]\n",
    "  }\n",
    "\"\"\"\n",
    "\n",
    "import json\n",
    "# This variable contains a list where each element is a dictionary.\n",
    "movies_json = json.loads(movies_str)\n",
    "print(type(movies_json))\n",
    "# This variable contains a dictionary.\n",
    "another_json = json.loads(another_str)\n",
    "print(type(another_json))"
   ]
  },
  {
   "cell_type": "code",
   "execution_count": 85,
   "metadata": {},
   "outputs": [
    {
     "name": "stdout",
     "output_type": "stream",
     "text": [
      "{\n",
      "    \"genre\": [\n",
      "        \"Horror\"\n",
      "    ],\n",
      "    \"name\": \"The Exorcist\",\n",
      "    \"release\": 1982\n",
      "}\n"
     ]
    }
   ],
   "source": [
    "pprint_dict(another_json)"
   ]
  },
  {
   "cell_type": "code",
   "execution_count": 86,
   "metadata": {},
   "outputs": [
    {
     "name": "stdout",
     "output_type": "stream",
     "text": [
      "{'name': 'The Exorcist', 'release': 1982, 'genre': ['Horror']}\n",
      "{'name': 'Inception', 'release': 2010, 'genre': ['Fantasy']}\n",
      "{'name': 'Brazil', 'release': 1985, 'genre': ['Science Fiction', 'Comedy']}\n",
      "{'name': 'The Dark Knight ', 'release': 2008, 'genre': ['Super Hero']}\n"
     ]
    }
   ],
   "source": [
    "pprint_list(movies_json)"
   ]
  },
  {
   "cell_type": "code",
   "execution_count": 88,
   "metadata": {},
   "outputs": [
    {
     "name": "stdout",
     "output_type": "stream",
     "text": [
      "[('The Exorcist', 1982), ('Inception', 2010), ('Brazil', 1985), ('The Dark Knight ', 2008)]\n"
     ]
    }
   ],
   "source": [
    "# Extracting a field from each element from the list.\n",
    "release_dates = [(rec['name'], rec['release']) for rec in movies_json]\n",
    "print(release_dates)"
   ]
  },
  {
   "cell_type": "code",
   "execution_count": 96,
   "metadata": {},
   "outputs": [
    {
     "name": "stdout",
     "output_type": "stream",
     "text": [
      "('The Exorcist', '<release unknown>')\n",
      "('Inception', 2010)\n",
      "('Brazil', 1985)\n",
      "('The Dark Knight ', 2008)\n"
     ]
    }
   ],
   "source": [
    "# A Safer way to extract a field from each element from the list.\n",
    "movies_json2 = movies_json.copy()\n",
    "# Remove release info from the first element if exists.\n",
    "if 'release' in movies_json2[0]:\n",
    "    del movies_json2[0]['release']\n",
    "release_dates = [(x.get('name', 'No Name'), x.get('release', '<release unknown>')) for x in movies_json2]\n",
    "pprint_list(release_dates)"
   ]
  },
  {
   "cell_type": "code",
   "execution_count": null,
   "metadata": {},
   "outputs": [],
   "source": []
  },
  {
   "cell_type": "code",
   "execution_count": 97,
   "metadata": {},
   "outputs": [
    {
     "name": "stdout",
     "output_type": "stream",
     "text": [
      "10\n",
      "None\n"
     ]
    }
   ],
   "source": [
    "# Get function allows you to return some default value if not found.\n",
    "a = {1:10, 2:20}\n",
    "print(a[1])\n",
    "print(a.get(3, None))"
   ]
  },
  {
   "cell_type": "code",
   "execution_count": 98,
   "metadata": {},
   "outputs": [],
   "source": [
    "# Avoid.\n",
    "def get_2nd_genre_if_elses(json_arr, idx):\n",
    "    if len(json_arr) < idx:\n",
    "        result = None\n",
    "    else:\n",
    "        rec = json_arr[idx]\n",
    "        # print(rec)\n",
    "        genres = rec.get('genre', None)\n",
    "        if not genres:\n",
    "            result = None\n",
    "        else:\n",
    "            if len(genres) < 2:\n",
    "                return None\n",
    "            else:\n",
    "                result = genres[1]\n",
    "    return result\n"
   ]
  },
  {
   "cell_type": "code",
   "execution_count": 102,
   "metadata": {},
   "outputs": [
    {
     "name": "stdout",
     "output_type": "stream",
     "text": [
      "Comedy\n"
     ]
    }
   ],
   "source": [
    "def get_2nd_genre(json_arr, idx):\n",
    "    if len(json_arr) < idx:\n",
    "        return None\n",
    "    # print(rec)\n",
    "    genres = json_arr[idx].get('genre', None)\n",
    "    if not genres:\n",
    "        return None\n",
    "    if len(genres) < 2:\n",
    "        return None\n",
    "    return genres[1]\n",
    "\n",
    "print(get_2nd_genre(movies_json2, 2))"
   ]
  },
  {
   "cell_type": "code",
   "execution_count": 103,
   "metadata": {},
   "outputs": [],
   "source": [
    "# Writing Json to file.\n",
    "file_name = 'movies.json'\n",
    "with open(file_name, \"w\") as out_file:\n",
    "    json_str = json.dumps(movies_json)\n",
    "    out_file.write(json_str)"
   ]
  },
  {
   "cell_type": "code",
   "execution_count": 104,
   "metadata": {},
   "outputs": [
    {
     "name": "stdout",
     "output_type": "stream",
     "text": [
      "[{'name': 'The Exorcist', 'genre': ['Horror']}, {'name': 'Inception', 'release': 2010, 'genre': ['Fantasy']}, {'name': 'Brazil', 'release': 1985, 'genre': ['Science Fiction', 'Comedy']}, {'name': 'The Dark Knight ', 'release': 2008, 'genre': ['Super Hero']}, \"{'name': 'New', 'release': 2020, 'genre': ['Scifi']}\"]\n"
     ]
    }
   ],
   "source": [
    "movies_json.append(\"{'name': 'New', 'release': 2020, 'genre': ['Scifi']}\")\n",
    "print(movies_json)"
   ]
  },
  {
   "cell_type": "code",
   "execution_count": 105,
   "metadata": {},
   "outputs": [
    {
     "name": "stdout",
     "output_type": "stream",
     "text": [
      "{'name': 'The Exorcist', 'genre': ['Horror']}\n",
      "{'name': 'Inception', 'release': 2010, 'genre': ['Fantasy']}\n",
      "{'name': 'Brazil', 'release': 1985, 'genre': ['Science Fiction', 'Comedy']}\n",
      "{'name': 'The Dark Knight ', 'release': 2008, 'genre': ['Super Hero']}\n"
     ]
    }
   ],
   "source": [
    "# Reading Json from file.\n",
    "with open(file_name, \"r\") as in_file:\n",
    "    json_reloaded = json.load(in_file)\n",
    "    for elm in json_reloaded:\n",
    "        print(elm)"
   ]
  },
  {
   "cell_type": "markdown",
   "metadata": {},
   "source": [
    "##### Reading an Excel file."
   ]
  },
  {
   "cell_type": "code",
   "execution_count": 40,
   "metadata": {},
   "outputs": [],
   "source": [
    "# help(pd.read_excel)"
   ]
  },
  {
   "cell_type": "code",
   "execution_count": 106,
   "metadata": {},
   "outputs": [
    {
     "data": {
      "text/plain": [
       "(47, 15)"
      ]
     },
     "execution_count": 106,
     "metadata": {},
     "output_type": "execute_result"
    }
   ],
   "source": [
    "import pandas as pd\n",
    "tab_01 = pd.read_excel('sample_sheet.xls', index_col=0, sheet_name=0)  \n",
    "tab_01.shape"
   ]
  },
  {
   "cell_type": "code",
   "execution_count": 107,
   "metadata": {},
   "outputs": [
    {
     "data": {
      "text/html": [
       "<div>\n",
       "<style scoped>\n",
       "    .dataframe tbody tr th:only-of-type {\n",
       "        vertical-align: middle;\n",
       "    }\n",
       "\n",
       "    .dataframe tbody tr th {\n",
       "        vertical-align: top;\n",
       "    }\n",
       "\n",
       "    .dataframe thead th {\n",
       "        text-align: right;\n",
       "    }\n",
       "</style>\n",
       "<table border=\"1\" class=\"dataframe\">\n",
       "  <thead>\n",
       "    <tr style=\"text-align: right;\">\n",
       "      <th></th>\n",
       "      <th>Region</th>\n",
       "      <th>Rep</th>\n",
       "      <th>Item</th>\n",
       "      <th>Units</th>\n",
       "      <th>Unit Cost</th>\n",
       "      <th>Total</th>\n",
       "      <th>Unnamed: 7</th>\n",
       "      <th>Bins</th>\n",
       "      <th>Frequency</th>\n",
       "      <th>Intervals</th>\n",
       "      <th>Unnamed: 11</th>\n",
       "      <th>Item Type</th>\n",
       "      <th>Frequency.1</th>\n",
       "      <th>Rel. Freq</th>\n",
       "      <th>% Freq.</th>\n",
       "    </tr>\n",
       "    <tr>\n",
       "      <th>OrderDate</th>\n",
       "      <th></th>\n",
       "      <th></th>\n",
       "      <th></th>\n",
       "      <th></th>\n",
       "      <th></th>\n",
       "      <th></th>\n",
       "      <th></th>\n",
       "      <th></th>\n",
       "      <th></th>\n",
       "      <th></th>\n",
       "      <th></th>\n",
       "      <th></th>\n",
       "      <th></th>\n",
       "      <th></th>\n",
       "      <th></th>\n",
       "    </tr>\n",
       "  </thead>\n",
       "  <tbody>\n",
       "    <tr>\n",
       "      <th>2014-09-01</th>\n",
       "      <td>Central</td>\n",
       "      <td>Smith</td>\n",
       "      <td>Desk</td>\n",
       "      <td>2.0</td>\n",
       "      <td>125.00</td>\n",
       "      <td>250.00</td>\n",
       "      <td>NaN</td>\n",
       "      <td>9.0</td>\n",
       "      <td>6.0</td>\n",
       "      <td>0-9</td>\n",
       "      <td>NaN</td>\n",
       "      <td>Pencil</td>\n",
       "      <td>13.0</td>\n",
       "      <td>0.302326</td>\n",
       "      <td>0.302326</td>\n",
       "    </tr>\n",
       "    <tr>\n",
       "      <th>2015-06-17</th>\n",
       "      <td>Central</td>\n",
       "      <td>Kivell</td>\n",
       "      <td>Desk</td>\n",
       "      <td>5.0</td>\n",
       "      <td>125.00</td>\n",
       "      <td>625.00</td>\n",
       "      <td>NaN</td>\n",
       "      <td>19.0</td>\n",
       "      <td>4.0</td>\n",
       "      <td>10-19</td>\n",
       "      <td>NaN</td>\n",
       "      <td>Binder</td>\n",
       "      <td>15.0</td>\n",
       "      <td>0.348837</td>\n",
       "      <td>0.348837</td>\n",
       "    </tr>\n",
       "    <tr>\n",
       "      <th>2015-09-10</th>\n",
       "      <td>Central</td>\n",
       "      <td>Gill</td>\n",
       "      <td>Pencil</td>\n",
       "      <td>7.0</td>\n",
       "      <td>1.29</td>\n",
       "      <td>9.03</td>\n",
       "      <td>NaN</td>\n",
       "      <td>29.0</td>\n",
       "      <td>4.0</td>\n",
       "      <td>20-29</td>\n",
       "      <td>NaN</td>\n",
       "      <td>Pen</td>\n",
       "      <td>5.0</td>\n",
       "      <td>0.116279</td>\n",
       "      <td>0.116279</td>\n",
       "    </tr>\n",
       "    <tr>\n",
       "      <th>2015-11-17</th>\n",
       "      <td>Central</td>\n",
       "      <td>Jardine</td>\n",
       "      <td>Binder</td>\n",
       "      <td>11.0</td>\n",
       "      <td>4.99</td>\n",
       "      <td>54.89</td>\n",
       "      <td>NaN</td>\n",
       "      <td>39.0</td>\n",
       "      <td>3.0</td>\n",
       "      <td>30-39</td>\n",
       "      <td>NaN</td>\n",
       "      <td>Pen Set</td>\n",
       "      <td>7.0</td>\n",
       "      <td>0.162791</td>\n",
       "      <td>0.162791</td>\n",
       "    </tr>\n",
       "  </tbody>\n",
       "</table>\n",
       "</div>"
      ],
      "text/plain": [
       "             Region      Rep    Item  Units  Unit Cost   Total  Unnamed: 7  \\\n",
       "OrderDate                                                                    \n",
       "2014-09-01  Central    Smith    Desk    2.0     125.00  250.00         NaN   \n",
       "2015-06-17  Central   Kivell    Desk    5.0     125.00  625.00         NaN   \n",
       "2015-09-10  Central     Gill  Pencil    7.0       1.29    9.03         NaN   \n",
       "2015-11-17  Central  Jardine  Binder   11.0       4.99   54.89         NaN   \n",
       "\n",
       "            Bins  Frequency Intervals  Unnamed: 11 Item Type  Frequency.1  \\\n",
       "OrderDate                                                                   \n",
       "2014-09-01   9.0        6.0       0-9          NaN    Pencil         13.0   \n",
       "2015-06-17  19.0        4.0     10-19          NaN    Binder         15.0   \n",
       "2015-09-10  29.0        4.0     20-29          NaN       Pen          5.0   \n",
       "2015-11-17  39.0        3.0     30-39          NaN   Pen Set          7.0   \n",
       "\n",
       "            Rel. Freq   % Freq.  \n",
       "OrderDate                        \n",
       "2014-09-01   0.302326  0.302326  \n",
       "2015-06-17   0.348837  0.348837  \n",
       "2015-09-10   0.116279  0.116279  \n",
       "2015-11-17   0.162791  0.162791  "
      ]
     },
     "execution_count": 107,
     "metadata": {},
     "output_type": "execute_result"
    }
   ],
   "source": [
    "tab_01.head(4)"
   ]
  },
  {
   "cell_type": "code",
   "execution_count": 43,
   "metadata": {},
   "outputs": [
    {
     "data": {
      "text/html": [
       "<div>\n",
       "<style scoped>\n",
       "    .dataframe tbody tr th:only-of-type {\n",
       "        vertical-align: middle;\n",
       "    }\n",
       "\n",
       "    .dataframe tbody tr th {\n",
       "        vertical-align: top;\n",
       "    }\n",
       "\n",
       "    .dataframe thead th {\n",
       "        text-align: right;\n",
       "    }\n",
       "</style>\n",
       "<table border=\"1\" class=\"dataframe\">\n",
       "  <thead>\n",
       "    <tr style=\"text-align: right;\">\n",
       "      <th></th>\n",
       "      <th>Region</th>\n",
       "      <th>Rep</th>\n",
       "    </tr>\n",
       "    <tr>\n",
       "      <th>OrderDate</th>\n",
       "      <th></th>\n",
       "      <th></th>\n",
       "    </tr>\n",
       "  </thead>\n",
       "  <tbody>\n",
       "    <tr>\n",
       "      <th>2014-09-01</th>\n",
       "      <td>Central</td>\n",
       "      <td>Smith</td>\n",
       "    </tr>\n",
       "    <tr>\n",
       "      <th>2015-06-17</th>\n",
       "      <td>Central</td>\n",
       "      <td>Kivell</td>\n",
       "    </tr>\n",
       "    <tr>\n",
       "      <th>2015-09-10</th>\n",
       "      <td>Central</td>\n",
       "      <td>Gill</td>\n",
       "    </tr>\n",
       "    <tr>\n",
       "      <th>2015-11-17</th>\n",
       "      <td>Central</td>\n",
       "      <td>Jardine</td>\n",
       "    </tr>\n",
       "    <tr>\n",
       "      <th>2015-10-31</th>\n",
       "      <td>Central</td>\n",
       "      <td>Andrews</td>\n",
       "    </tr>\n",
       "    <tr>\n",
       "      <th>2014-02-26</th>\n",
       "      <td>Central</td>\n",
       "      <td>Gill</td>\n",
       "    </tr>\n",
       "    <tr>\n",
       "      <th>2014-10-05</th>\n",
       "      <td>Central</td>\n",
       "      <td>Morgan</td>\n",
       "    </tr>\n",
       "    <tr>\n",
       "      <th>2015-12-21</th>\n",
       "      <td>Central</td>\n",
       "      <td>Andrews</td>\n",
       "    </tr>\n",
       "  </tbody>\n",
       "</table>\n",
       "</div>"
      ],
      "text/plain": [
       "             Region      Rep\n",
       "OrderDate                   \n",
       "2014-09-01  Central    Smith\n",
       "2015-06-17  Central   Kivell\n",
       "2015-09-10  Central     Gill\n",
       "2015-11-17  Central  Jardine\n",
       "2015-10-31  Central  Andrews\n",
       "2014-02-26  Central     Gill\n",
       "2014-10-05  Central   Morgan\n",
       "2015-12-21  Central  Andrews"
      ]
     },
     "execution_count": 43,
     "metadata": {},
     "output_type": "execute_result"
    }
   ],
   "source": [
    "tab_01[['Region', 'Rep']][:8]"
   ]
  },
  {
   "cell_type": "code",
   "execution_count": null,
   "metadata": {},
   "outputs": [],
   "source": []
  },
  {
   "cell_type": "code",
   "execution_count": 109,
   "metadata": {},
   "outputs": [
    {
     "data": {
      "text/html": [
       "<div>\n",
       "<style scoped>\n",
       "    .dataframe tbody tr th:only-of-type {\n",
       "        vertical-align: middle;\n",
       "    }\n",
       "\n",
       "    .dataframe tbody tr th {\n",
       "        vertical-align: top;\n",
       "    }\n",
       "\n",
       "    .dataframe thead th {\n",
       "        text-align: right;\n",
       "    }\n",
       "</style>\n",
       "<table border=\"1\" class=\"dataframe\">\n",
       "  <thead>\n",
       "    <tr style=\"text-align: right;\">\n",
       "      <th></th>\n",
       "      <th>OrderDate</th>\n",
       "      <th>Rep</th>\n",
       "      <th>Item</th>\n",
       "      <th>Units</th>\n",
       "      <th>Unit Cost</th>\n",
       "      <th>Total</th>\n",
       "      <th>Unnamed: 7</th>\n",
       "      <th>Bins</th>\n",
       "      <th>Frequency</th>\n",
       "      <th>Intervals</th>\n",
       "      <th>Unnamed: 11</th>\n",
       "      <th>Item Type</th>\n",
       "      <th>Frequency.1</th>\n",
       "      <th>Rel. Freq</th>\n",
       "      <th>% Freq.</th>\n",
       "    </tr>\n",
       "    <tr>\n",
       "      <th>Region</th>\n",
       "      <th></th>\n",
       "      <th></th>\n",
       "      <th></th>\n",
       "      <th></th>\n",
       "      <th></th>\n",
       "      <th></th>\n",
       "      <th></th>\n",
       "      <th></th>\n",
       "      <th></th>\n",
       "      <th></th>\n",
       "      <th></th>\n",
       "      <th></th>\n",
       "      <th></th>\n",
       "      <th></th>\n",
       "      <th></th>\n",
       "    </tr>\n",
       "  </thead>\n",
       "  <tbody>\n",
       "    <tr>\n",
       "      <th>Central</th>\n",
       "      <td>2014-09-01</td>\n",
       "      <td>Smith</td>\n",
       "      <td>Desk</td>\n",
       "      <td>2.0</td>\n",
       "      <td>125.00</td>\n",
       "      <td>250.00</td>\n",
       "      <td>NaN</td>\n",
       "      <td>9.0</td>\n",
       "      <td>6.0</td>\n",
       "      <td>0-9</td>\n",
       "      <td>NaN</td>\n",
       "      <td>Pencil</td>\n",
       "      <td>13.0</td>\n",
       "      <td>0.302326</td>\n",
       "      <td>0.302326</td>\n",
       "    </tr>\n",
       "    <tr>\n",
       "      <th>Central</th>\n",
       "      <td>2015-06-17</td>\n",
       "      <td>Kivell</td>\n",
       "      <td>Desk</td>\n",
       "      <td>5.0</td>\n",
       "      <td>125.00</td>\n",
       "      <td>625.00</td>\n",
       "      <td>NaN</td>\n",
       "      <td>19.0</td>\n",
       "      <td>4.0</td>\n",
       "      <td>10-19</td>\n",
       "      <td>NaN</td>\n",
       "      <td>Binder</td>\n",
       "      <td>15.0</td>\n",
       "      <td>0.348837</td>\n",
       "      <td>0.348837</td>\n",
       "    </tr>\n",
       "    <tr>\n",
       "      <th>Central</th>\n",
       "      <td>2015-09-10</td>\n",
       "      <td>Gill</td>\n",
       "      <td>Pencil</td>\n",
       "      <td>7.0</td>\n",
       "      <td>1.29</td>\n",
       "      <td>9.03</td>\n",
       "      <td>NaN</td>\n",
       "      <td>29.0</td>\n",
       "      <td>4.0</td>\n",
       "      <td>20-29</td>\n",
       "      <td>NaN</td>\n",
       "      <td>Pen</td>\n",
       "      <td>5.0</td>\n",
       "      <td>0.116279</td>\n",
       "      <td>0.116279</td>\n",
       "    </tr>\n",
       "    <tr>\n",
       "      <th>Central</th>\n",
       "      <td>2015-11-17</td>\n",
       "      <td>Jardine</td>\n",
       "      <td>Binder</td>\n",
       "      <td>11.0</td>\n",
       "      <td>4.99</td>\n",
       "      <td>54.89</td>\n",
       "      <td>NaN</td>\n",
       "      <td>39.0</td>\n",
       "      <td>3.0</td>\n",
       "      <td>30-39</td>\n",
       "      <td>NaN</td>\n",
       "      <td>Pen Set</td>\n",
       "      <td>7.0</td>\n",
       "      <td>0.162791</td>\n",
       "      <td>0.162791</td>\n",
       "    </tr>\n",
       "    <tr>\n",
       "      <th>Central</th>\n",
       "      <td>2015-10-31</td>\n",
       "      <td>Andrews</td>\n",
       "      <td>Pencil</td>\n",
       "      <td>14.0</td>\n",
       "      <td>1.29</td>\n",
       "      <td>18.06</td>\n",
       "      <td>NaN</td>\n",
       "      <td>49.0</td>\n",
       "      <td>2.0</td>\n",
       "      <td>40-49</td>\n",
       "      <td>NaN</td>\n",
       "      <td>Desk</td>\n",
       "      <td>3.0</td>\n",
       "      <td>0.069767</td>\n",
       "      <td>0.069767</td>\n",
       "    </tr>\n",
       "  </tbody>\n",
       "</table>\n",
       "</div>"
      ],
      "text/plain": [
       "         OrderDate      Rep    Item  Units  Unit Cost   Total  Unnamed: 7  \\\n",
       "Region                                                                      \n",
       "Central 2014-09-01    Smith    Desk    2.0     125.00  250.00         NaN   \n",
       "Central 2015-06-17   Kivell    Desk    5.0     125.00  625.00         NaN   \n",
       "Central 2015-09-10     Gill  Pencil    7.0       1.29    9.03         NaN   \n",
       "Central 2015-11-17  Jardine  Binder   11.0       4.99   54.89         NaN   \n",
       "Central 2015-10-31  Andrews  Pencil   14.0       1.29   18.06         NaN   \n",
       "\n",
       "         Bins  Frequency Intervals  Unnamed: 11 Item Type  Frequency.1  \\\n",
       "Region                                                                   \n",
       "Central   9.0        6.0       0-9          NaN    Pencil         13.0   \n",
       "Central  19.0        4.0     10-19          NaN    Binder         15.0   \n",
       "Central  29.0        4.0     20-29          NaN       Pen          5.0   \n",
       "Central  39.0        3.0     30-39          NaN   Pen Set          7.0   \n",
       "Central  49.0        2.0     40-49          NaN      Desk          3.0   \n",
       "\n",
       "         Rel. Freq   % Freq.  \n",
       "Region                        \n",
       "Central   0.302326  0.302326  \n",
       "Central   0.348837  0.348837  \n",
       "Central   0.116279  0.116279  \n",
       "Central   0.162791  0.162791  \n",
       "Central   0.069767  0.069767  "
      ]
     },
     "execution_count": 109,
     "metadata": {},
     "output_type": "execute_result"
    }
   ],
   "source": [
    "tab_02 = pd.read_excel('sample_sheet.xls', index_col=1) \n",
    "tab_02.head(5)"
   ]
  },
  {
   "cell_type": "code",
   "execution_count": 110,
   "metadata": {},
   "outputs": [],
   "source": [
    "my_excel_data = tab_02[['OrderDate', 'Rep', 'Item', 'Units', 'Unit Cost', 'Total']]\n",
    "my_excel_data.to_excel(\"my_saved.xlsx\", sheet_name='Sales') "
   ]
  },
  {
   "cell_type": "code",
   "execution_count": 111,
   "metadata": {},
   "outputs": [
    {
     "data": {
      "text/html": [
       "<div>\n",
       "<style scoped>\n",
       "    .dataframe tbody tr th:only-of-type {\n",
       "        vertical-align: middle;\n",
       "    }\n",
       "\n",
       "    .dataframe tbody tr th {\n",
       "        vertical-align: top;\n",
       "    }\n",
       "\n",
       "    .dataframe thead th {\n",
       "        text-align: right;\n",
       "    }\n",
       "</style>\n",
       "<table border=\"1\" class=\"dataframe\">\n",
       "  <thead>\n",
       "    <tr style=\"text-align: right;\">\n",
       "      <th></th>\n",
       "      <th>OrderDate</th>\n",
       "      <th>Rep</th>\n",
       "      <th>Item</th>\n",
       "      <th>Units</th>\n",
       "      <th>Unit Cost</th>\n",
       "      <th>Total</th>\n",
       "    </tr>\n",
       "    <tr>\n",
       "      <th>Region</th>\n",
       "      <th></th>\n",
       "      <th></th>\n",
       "      <th></th>\n",
       "      <th></th>\n",
       "      <th></th>\n",
       "      <th></th>\n",
       "    </tr>\n",
       "  </thead>\n",
       "  <tbody>\n",
       "    <tr>\n",
       "      <th>Central</th>\n",
       "      <td>2014-09-01</td>\n",
       "      <td>Smith</td>\n",
       "      <td>Desk</td>\n",
       "      <td>2.0</td>\n",
       "      <td>125.00</td>\n",
       "      <td>250.00</td>\n",
       "    </tr>\n",
       "    <tr>\n",
       "      <th>Central</th>\n",
       "      <td>2015-06-17</td>\n",
       "      <td>Kivell</td>\n",
       "      <td>Desk</td>\n",
       "      <td>5.0</td>\n",
       "      <td>125.00</td>\n",
       "      <td>625.00</td>\n",
       "    </tr>\n",
       "    <tr>\n",
       "      <th>Central</th>\n",
       "      <td>2015-09-10</td>\n",
       "      <td>Gill</td>\n",
       "      <td>Pencil</td>\n",
       "      <td>7.0</td>\n",
       "      <td>1.29</td>\n",
       "      <td>9.03</td>\n",
       "    </tr>\n",
       "    <tr>\n",
       "      <th>Central</th>\n",
       "      <td>2015-11-17</td>\n",
       "      <td>Jardine</td>\n",
       "      <td>Binder</td>\n",
       "      <td>11.0</td>\n",
       "      <td>4.99</td>\n",
       "      <td>54.89</td>\n",
       "    </tr>\n",
       "    <tr>\n",
       "      <th>Central</th>\n",
       "      <td>2015-10-31</td>\n",
       "      <td>Andrews</td>\n",
       "      <td>Pencil</td>\n",
       "      <td>14.0</td>\n",
       "      <td>1.29</td>\n",
       "      <td>18.06</td>\n",
       "    </tr>\n",
       "  </tbody>\n",
       "</table>\n",
       "</div>"
      ],
      "text/plain": [
       "         OrderDate      Rep    Item  Units  Unit Cost   Total\n",
       "Region                                                       \n",
       "Central 2014-09-01    Smith    Desk    2.0     125.00  250.00\n",
       "Central 2015-06-17   Kivell    Desk    5.0     125.00  625.00\n",
       "Central 2015-09-10     Gill  Pencil    7.0       1.29    9.03\n",
       "Central 2015-11-17  Jardine  Binder   11.0       4.99   54.89\n",
       "Central 2015-10-31  Andrews  Pencil   14.0       1.29   18.06"
      ]
     },
     "execution_count": 111,
     "metadata": {},
     "output_type": "execute_result"
    }
   ],
   "source": [
    "my_saved_date = pd.read_excel('my_saved.xlsx', index_col=0) \n",
    "\n",
    "my_saved_date.head(5)"
   ]
  },
  {
   "cell_type": "code",
   "execution_count": null,
   "metadata": {},
   "outputs": [],
   "source": []
  },
  {
   "cell_type": "code",
   "execution_count": null,
   "metadata": {},
   "outputs": [],
   "source": []
  }
 ],
 "metadata": {
  "kernelspec": {
   "display_name": "Python 3 (ipykernel)",
   "language": "python",
   "name": "python3"
  },
  "language_info": {
   "codemirror_mode": {
    "name": "ipython",
    "version": 3
   },
   "file_extension": ".py",
   "mimetype": "text/x-python",
   "name": "python",
   "nbconvert_exporter": "python",
   "pygments_lexer": "ipython3",
   "version": "3.10.6"
  }
 },
 "nbformat": 4,
 "nbformat_minor": 4
}
