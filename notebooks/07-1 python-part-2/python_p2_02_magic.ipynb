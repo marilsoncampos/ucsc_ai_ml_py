{
 "cells": [
  {
   "cell_type": "markdown",
   "metadata": {},
   "source": [
    "### Using Magic commands and bash in notebooks."
   ]
  },
  {
   "cell_type": "code",
   "execution_count": 33,
   "metadata": {},
   "outputs": [],
   "source": [
    "# https://ipython.readthedocs.io/en/stable/interactive/magics.html"
   ]
  },
  {
   "cell_type": "code",
   "execution_count": 1,
   "metadata": {},
   "outputs": [
    {
     "data": {
      "application/json": {
       "cell": {
        "!": "OSMagics",
        "HTML": "Other",
        "SVG": "Other",
        "bash": "Other",
        "capture": "ExecutionMagics",
        "debug": "ExecutionMagics",
        "file": "Other",
        "html": "DisplayMagics",
        "javascript": "DisplayMagics",
        "js": "DisplayMagics",
        "latex": "DisplayMagics",
        "markdown": "DisplayMagics",
        "perl": "Other",
        "prun": "ExecutionMagics",
        "pypy": "Other",
        "python": "Other",
        "python2": "Other",
        "python3": "Other",
        "ruby": "Other",
        "script": "ScriptMagics",
        "sh": "Other",
        "svg": "DisplayMagics",
        "sx": "OSMagics",
        "system": "OSMagics",
        "time": "ExecutionMagics",
        "timeit": "ExecutionMagics",
        "writefile": "OSMagics"
       },
       "line": {
        "alias": "OSMagics",
        "alias_magic": "BasicMagics",
        "autoawait": "AsyncMagics",
        "autocall": "AutoMagics",
        "automagic": "AutoMagics",
        "autosave": "KernelMagics",
        "bookmark": "OSMagics",
        "cat": "Other",
        "cd": "OSMagics",
        "clear": "KernelMagics",
        "colors": "BasicMagics",
        "conda": "PackagingMagics",
        "config": "ConfigMagics",
        "connect_info": "KernelMagics",
        "cp": "Other",
        "debug": "ExecutionMagics",
        "dhist": "OSMagics",
        "dirs": "OSMagics",
        "doctest_mode": "BasicMagics",
        "ed": "Other",
        "edit": "KernelMagics",
        "env": "OSMagics",
        "gui": "BasicMagics",
        "hist": "Other",
        "history": "HistoryMagics",
        "killbgscripts": "ScriptMagics",
        "ldir": "Other",
        "less": "KernelMagics",
        "lf": "Other",
        "lk": "Other",
        "ll": "Other",
        "load": "CodeMagics",
        "load_ext": "ExtensionMagics",
        "loadpy": "CodeMagics",
        "logoff": "LoggingMagics",
        "logon": "LoggingMagics",
        "logstart": "LoggingMagics",
        "logstate": "LoggingMagics",
        "logstop": "LoggingMagics",
        "ls": "Other",
        "lsmagic": "BasicMagics",
        "lx": "Other",
        "macro": "ExecutionMagics",
        "magic": "BasicMagics",
        "man": "KernelMagics",
        "matplotlib": "PylabMagics",
        "mkdir": "Other",
        "more": "KernelMagics",
        "mv": "Other",
        "notebook": "BasicMagics",
        "page": "BasicMagics",
        "pastebin": "CodeMagics",
        "pdb": "ExecutionMagics",
        "pdef": "NamespaceMagics",
        "pdoc": "NamespaceMagics",
        "pfile": "NamespaceMagics",
        "pinfo": "NamespaceMagics",
        "pinfo2": "NamespaceMagics",
        "pip": "PackagingMagics",
        "popd": "OSMagics",
        "pprint": "BasicMagics",
        "precision": "BasicMagics",
        "prun": "ExecutionMagics",
        "psearch": "NamespaceMagics",
        "psource": "NamespaceMagics",
        "pushd": "OSMagics",
        "pwd": "OSMagics",
        "pycat": "OSMagics",
        "pylab": "PylabMagics",
        "qtconsole": "KernelMagics",
        "quickref": "BasicMagics",
        "recall": "HistoryMagics",
        "rehashx": "OSMagics",
        "reload_ext": "ExtensionMagics",
        "rep": "Other",
        "rerun": "HistoryMagics",
        "reset": "NamespaceMagics",
        "reset_selective": "NamespaceMagics",
        "rm": "Other",
        "rmdir": "Other",
        "run": "ExecutionMagics",
        "save": "CodeMagics",
        "sc": "OSMagics",
        "set_env": "OSMagics",
        "store": "StoreMagics",
        "sx": "OSMagics",
        "system": "OSMagics",
        "tb": "ExecutionMagics",
        "time": "ExecutionMagics",
        "timeit": "ExecutionMagics",
        "unalias": "OSMagics",
        "unload_ext": "ExtensionMagics",
        "who": "NamespaceMagics",
        "who_ls": "NamespaceMagics",
        "whos": "NamespaceMagics",
        "xdel": "NamespaceMagics",
        "xmode": "BasicMagics"
       }
      },
      "text/plain": [
       "Available line magics:\n",
       "%alias  %alias_magic  %autoawait  %autocall  %automagic  %autosave  %bookmark  %cat  %cd  %clear  %colors  %conda  %config  %connect_info  %cp  %debug  %dhist  %dirs  %doctest_mode  %ed  %edit  %env  %gui  %hist  %history  %killbgscripts  %ldir  %less  %lf  %lk  %ll  %load  %load_ext  %loadpy  %logoff  %logon  %logstart  %logstate  %logstop  %ls  %lsmagic  %lx  %macro  %magic  %man  %matplotlib  %mkdir  %more  %mv  %notebook  %page  %pastebin  %pdb  %pdef  %pdoc  %pfile  %pinfo  %pinfo2  %pip  %popd  %pprint  %precision  %prun  %psearch  %psource  %pushd  %pwd  %pycat  %pylab  %qtconsole  %quickref  %recall  %rehashx  %reload_ext  %rep  %rerun  %reset  %reset_selective  %rm  %rmdir  %run  %save  %sc  %set_env  %store  %sx  %system  %tb  %time  %timeit  %unalias  %unload_ext  %who  %who_ls  %whos  %xdel  %xmode\n",
       "\n",
       "Available cell magics:\n",
       "%%!  %%HTML  %%SVG  %%bash  %%capture  %%debug  %%file  %%html  %%javascript  %%js  %%latex  %%markdown  %%perl  %%prun  %%pypy  %%python  %%python2  %%python3  %%ruby  %%script  %%sh  %%svg  %%sx  %%system  %%time  %%timeit  %%writefile\n",
       "\n",
       "Automagic is ON, % prefix IS NOT needed for line magics."
      ]
     },
     "execution_count": 1,
     "metadata": {},
     "output_type": "execute_result"
    }
   ],
   "source": [
    "%lsmagic"
   ]
  },
  {
   "cell_type": "code",
   "execution_count": 3,
   "metadata": {},
   "outputs": [
    {
     "name": "stdout",
     "output_type": "stream",
     "text": [
      "total 424\n",
      "drwxrwxrwx 23 jovyan users   736 Feb 23 03:45 .\n",
      "drwxrwxrwx 35 jovyan users  1120 Feb 23 02:30 ..\n",
      "-rwxr-xr-x  1 jovyan users   275 Mar  5  2022 data.json\n",
      "drwxr-xr-x  9 jovyan users   288 Feb 23 02:37 .idea\n",
      "drwxrwxrwx 10 jovyan users   320 Nov 20 19:21 .ipynb_checkpoints\n",
      "-rwxr-xr-x  1 jovyan users   108 Feb 23 02:37 library.py\n",
      "-rwxr-xr-x  1 jovyan users   258 Feb 23 03:39 movies.json\n",
      "-rwxr-xr-x  1 jovyan users  3246 Mar  5  2022 my_file.csv\n",
      "-rw-r--r--  1 jovyan users  9728 Oct 31 01:41 my_saved2.xls\n",
      "-rw-r--r--  1 jovyan users  7307 Oct 31 01:43 my_saved2.xlsx\n",
      "-rwxr-xr-x  1 jovyan users  9728 Mar  5  2022 my_saved.xls\n",
      "-rw-r--r--  1 jovyan users  6996 Feb 23 03:45 my_saved.xlsx\n",
      "drwxrwxrwx  3 jovyan users    96 Jul  9  2021 __pycache__\n",
      "-rwxr-xr-x  1 jovyan users 70450 Feb 23 03:45 python_p2_01_misc.ipynb\n",
      "-rwxr-xr-x  1 jovyan users 25590 Dec  5 05:56 python_p2_02_magic.ipynb\n",
      "-rwxr-xr-x  1 jovyan users  3960 Dec  5 05:56 python_p2_03_generators.ipynb\n",
      "-rwxr-xr-x  1 jovyan users 66958 Dec  5 06:02 python_p2_04_classes.ipynb\n",
      "-rwxr-xr-x  1 jovyan users 35171 Dec  5 06:02 python_p2_05_exceptions.ipynb\n",
      "-rwxr-xr-x  1 jovyan users 12840 Dec  5 06:03 python_p2_06_unit_testing.ipynb\n",
      "-rwxr-xr-x  1 jovyan users 12841 Dec  5 06:03 python_p2_07_test_driven.ipynb\n",
      "-rw-r--r--  1 jovyan users 61440 Jul 21  2022 sample_sheet_example.xls\n",
      "-rwxr-xr-x  1 jovyan users 60928 Jul 21  2022 sample_sheet.xls\n",
      "-rw-r--r--  1 jovyan users  5245 Nov 20 19:37 Untitled.ipynb\n"
     ]
    }
   ],
   "source": [
    "%%bash \n",
    "# Executes bash commands\n",
    "ls -la \n"
   ]
  },
  {
   "cell_type": "code",
   "execution_count": 2,
   "metadata": {},
   "outputs": [
    {
     "name": "stdout",
     "output_type": "stream",
     "text": [
      "def max_of_3(a, b, c):\n",
      "    t1 = max(a, b)\n",
      "    return max(t1, c)\n",
      "\n",
      "\n",
      "def sum_of_3(a, b, c):\n",
      "    return a+b+c"
     ]
    }
   ],
   "source": [
    "%cat 'library.py'"
   ]
  },
  {
   "cell_type": "code",
   "execution_count": 5,
   "metadata": {},
   "outputs": [
    {
     "name": "stdout",
     "output_type": "stream",
     "text": [
      "def max_of_3(a, b, c):\n",
      "    t1 = max(a, b)\n",
      "    return max(t1, c)\n",
      "\n",
      "\n",
      "def sum_of_3(a, b, c):\n",
      "    return a+b+c"
     ]
    }
   ],
   "source": [
    "%%bash\n",
    "cat library.py"
   ]
  },
  {
   "cell_type": "code",
   "execution_count": 3,
   "metadata": {},
   "outputs": [
    {
     "name": "stdout",
     "output_type": "stream",
     "text": [
      "%lsmagic\n",
      "%cat 'library.py'\n",
      "%hist\n",
      "# list history of commands\n"
     ]
    }
   ],
   "source": [
    "%hist\n",
    "# list history of commands"
   ]
  },
  {
   "cell_type": "code",
   "execution_count": 6,
   "metadata": {},
   "outputs": [],
   "source": [
    "# %less python_p2_03_generators.ipynb\n",
    "# Shows the file and allows uses to scrow up and down."
   ]
  },
  {
   "cell_type": "code",
   "execution_count": 4,
   "metadata": {},
   "outputs": [
    {
     "name": "stdout",
     "output_type": "stream",
     "text": [
      "Total number of aliases: 12\n"
     ]
    },
    {
     "data": {
      "text/plain": [
       "[('cat', 'cat'),\n",
       " ('cp', 'cp'),\n",
       " ('ldir', 'ls -F -G -l %l | grep /$'),\n",
       " ('lf', 'ls -F -l -G %l | grep ^-'),\n",
       " ('lk', 'ls -F -l -G %l | grep ^l'),\n",
       " ('ll', 'ls -F -l -G'),\n",
       " ('ls', 'ls -F -G'),\n",
       " ('lx', 'ls -F -l -G %l | grep ^-..x'),\n",
       " ('mkdir', 'mkdir'),\n",
       " ('mv', 'mv'),\n",
       " ('rm', 'rm'),\n",
       " ('rmdir', 'rmdir')]"
      ]
     },
     "execution_count": 4,
     "metadata": {},
     "output_type": "execute_result"
    }
   ],
   "source": [
    "%alias"
   ]
  },
  {
   "cell_type": "markdown",
   "metadata": {},
   "source": [
    "Lets define an alias called 'error'"
   ]
  },
  {
   "cell_type": "code",
   "execution_count": 10,
   "metadata": {},
   "outputs": [],
   "source": [
    "alias error echo \"Error: [%l]\""
   ]
  },
  {
   "cell_type": "markdown",
   "metadata": {},
   "source": [
    "And uses the alias\n"
   ]
  },
  {
   "cell_type": "code",
   "execution_count": 11,
   "metadata": {},
   "outputs": [
    {
     "name": "stdout",
     "output_type": "stream",
     "text": [
      "Error: [this is an error]\n"
     ]
    }
   ],
   "source": [
    "error this is an error"
   ]
  },
  {
   "cell_type": "markdown",
   "metadata": {},
   "source": [
    "#### Alias and function performance."
   ]
  },
  {
   "cell_type": "code",
   "execution_count": 12,
   "metadata": {},
   "outputs": [
    {
     "name": "stdout",
     "output_type": "stream",
     "text": [
      "Created `%t` as an alias for `%timeit`.\n",
      "Created `%%t` as an alias for `%%timeit`.\n"
     ]
    }
   ],
   "source": [
    "# Creating aliases \n",
    "%alias_magic t timeit\n",
    "# This is a line magic `%t` \n",
    "# This is a cell magic `%%t`."
   ]
  },
  {
   "cell_type": "code",
   "execution_count": 13,
   "metadata": {},
   "outputs": [],
   "source": [
    "def my_calc_1(print_res):\n",
    "    result = []\n",
    "    for x in range(1_000):\n",
    "        y = x * x\n",
    "        if x % 10 == 0:\n",
    "            if print_res:\n",
    "                print(y, end=', ')\n",
    "    \n",
    "def my_calc_2(print_res):\n",
    "    result = []\n",
    "    for x in range(1_000):\n",
    "        y = x * x\n",
    "        if y % 10000 == 0:\n",
    "            result.append(str(y))\n",
    "    for idx, elm in enumerate(result):\n",
    "        if print_res:\n",
    "            print(elm, end=', ')\n",
    "        if (idx % 10 == 0) and (idx > 0):\n",
    "            if print_res:\n",
    "                print('')"
   ]
  },
  {
   "cell_type": "code",
   "execution_count": 15,
   "metadata": {},
   "outputs": [
    {
     "name": "stdout",
     "output_type": "stream",
     "text": [
      "46.3 µs ± 6.98 µs per loop (mean ± std. dev. of 12 runs, 1,000 loops each)\n"
     ]
    }
   ],
   "source": [
    "# -r specifies the number of runs.\n",
    "# -n specifies the number of loops per run.\n",
    "# Results are the average and std dev of the multiple runs of n loops each.\n",
    "%t -r 12 -n 1000 my_calc_1(print_res=False)"
   ]
  },
  {
   "cell_type": "code",
   "execution_count": 18,
   "metadata": {},
   "outputs": [
    {
     "name": "stdout",
     "output_type": "stream",
     "text": [
      "51.9 µs ± 7.01 µs per loop (mean ± std. dev. of 12 runs, 1,000 loops each)\n"
     ]
    }
   ],
   "source": [
    "%%t -r 12 -n 1000 \n",
    "my_calc_2(print_res=False)"
   ]
  },
  {
   "cell_type": "code",
   "execution_count": 19,
   "metadata": {},
   "outputs": [
    {
     "data": {
      "text/plain": [
       "['my_calc_1', 'my_calc_2']"
      ]
     },
     "execution_count": 19,
     "metadata": {},
     "output_type": "execute_result"
    }
   ],
   "source": [
    "# list the functions declared in this notebook.\n",
    "%who_ls"
   ]
  },
  {
   "cell_type": "markdown",
   "metadata": {},
   "source": [
    "#### Bash and Directories"
   ]
  },
  {
   "cell_type": "code",
   "execution_count": 20,
   "metadata": {},
   "outputs": [
    {
     "name": "stdout",
     "output_type": "stream",
     "text": [
      "/home/jovyan/work/d0/teach/ucsc/ucsc_ai_ml_py/notebooks\n",
      "printing from bash.\n"
     ]
    }
   ],
   "source": [
    "%%bash \n",
    "# Executes bash program\n",
    "cd ..\n",
    "pwd\n",
    "echo 'printing from bash.'"
   ]
  },
  {
   "cell_type": "code",
   "execution_count": 21,
   "metadata": {},
   "outputs": [
    {
     "data": {
      "text/plain": [
       "'/home/jovyan/work/d0/teach/ucsc/ucsc_ai_ml_py/notebooks/07-1 python-part-2'"
      ]
     },
     "execution_count": 21,
     "metadata": {},
     "output_type": "execute_result"
    }
   ],
   "source": [
    "%pwd\n",
    "# Change of directory inside of the bash shell did not affect other cells."
   ]
  },
  {
   "cell_type": "code",
   "execution_count": 22,
   "metadata": {},
   "outputs": [
    {
     "name": "stdout",
     "output_type": "stream",
     "text": [
      "/home/jovyan/work/d0/teach/ucsc/ucsc_ai_ml_py/notebooks\n"
     ]
    }
   ],
   "source": [
    "%cd ..\n",
    "# This will affect."
   ]
  },
  {
   "cell_type": "code",
   "execution_count": 23,
   "metadata": {},
   "outputs": [
    {
     "data": {
      "text/plain": [
       "'/home/jovyan/work/d0/teach/ucsc/ucsc_ai_ml_py/notebooks'"
      ]
     },
     "execution_count": 23,
     "metadata": {},
     "output_type": "execute_result"
    }
   ],
   "source": [
    "%pwd"
   ]
  },
  {
   "cell_type": "code",
   "execution_count": 24,
   "metadata": {},
   "outputs": [
    {
     "name": "stdout",
     "output_type": "stream",
     "text": [
      "/home/jovyan/work/d0/teach/ucsc/ucsc_ai_ml_py/notebooks/07-1 python-part-2\n"
     ]
    }
   ],
   "source": [
    "%cd -\n",
    "# Back to the original location"
   ]
  },
  {
   "cell_type": "code",
   "execution_count": 25,
   "metadata": {},
   "outputs": [
    {
     "data": {
      "text/plain": [
       "'/home/jovyan/work/d0/teach/ucsc/ucsc_ai_ml_py/notebooks/07-1 python-part-2'"
      ]
     },
     "execution_count": 25,
     "metadata": {},
     "output_type": "execute_result"
    }
   ],
   "source": [
    "%pwd"
   ]
  },
  {
   "cell_type": "markdown",
   "metadata": {},
   "source": [
    "#### Setting environment variables."
   ]
  },
  {
   "cell_type": "code",
   "execution_count": 19,
   "metadata": {},
   "outputs": [
    {
     "data": {
      "text/plain": [
       "{'MANPATH': '/opt/homebrew/share/man::',\n",
       " 'VIRTUALENVWRAPPER_SCRIPT': '/Users/mcampos/Library/Python/3.9/bin/virtualenvwrapper.sh',\n",
       " 'VIRTUALENVWRAPPER_PROJECT_FILENAME': '.project',\n",
       " 'TERM_PROGRAM': 'Apple_Terminal',\n",
       " 'SHELL': '/bin/zsh',\n",
       " 'TERM': 'xterm-color',\n",
       " 'HOMEBREW_REPOSITORY': '/opt/homebrew',\n",
       " 'TMPDIR': '/var/folders/2y/hm3jg6812nd_sktsrjdq0l2m0000gn/T/',\n",
       " 'CONDA_SHLVL': '1',\n",
       " 'CONDA_PROMPT_MODIFIER': '(base) ',\n",
       " 'TERM_PROGRAM_VERSION': '445',\n",
       " 'SBT_HOME': '/Users/mcampos/.sdkman/candidates/sbt/current',\n",
       " 'TERM_SESSION_ID': 'C53D8C0B-BD4E-4B93-B2B4-8F6E6D9BAB56',\n",
       " 'SDKMAN_PLATFORM': 'darwinarm64',\n",
       " 'ANT_HOME': '/Users/mcampos/.sdkman/candidates/ant/current',\n",
       " 'ZSH': '/Users/mcampos/.oh-my-zsh',\n",
       " 'USER': 'mcampos',\n",
       " 'CONDA_EXE': '/Users/mcampos/opt/anaconda3/bin/conda',\n",
       " 'SDKMAN_CANDIDATES_API': 'https://api.sdkman.io/2',\n",
       " 'SSH_AUTH_SOCK': '/private/tmp/com.apple.launchd.sizsPyBHht/Listeners',\n",
       " 'PAGER': 'cat',\n",
       " 'WORKON_HOME': '/Users/mcampos/.virtualenvs',\n",
       " '_CE_CONDA': '',\n",
       " 'LSCOLORS': 'Gxfxcxdxbxegedabagacad',\n",
       " 'VIRTUALENVWRAPPER_PYTHON': '/usr/bin/python3',\n",
       " 'MAVEN_HOME': '/Users/mcampos/.sdkman/candidates/maven/current',\n",
       " 'PATH': '/Users/mcampos/opt/anaconda3/bin:/Users/mcampos/opt/anaconda3/condabin:/Users/mcampos/.sdkman/candidates/scala/current/bin:/Users/mcampos/.sdkman/candidates/sbt/current/bin:/Users/mcampos/.sdkman/candidates/maven/current/bin:/Users/mcampos/.sdkman/candidates/java/current/bin:/Users/mcampos/.sdkman/candidates/ant/current/bin:/Users/mcampos/Library/Python/3.9/bin:/opt/homebrew/bin:/Users/mcampos/bin:/opt/homebrew/bin:/opt/homebrew/sbin:/usr/local/bin:/usr/bin:/bin:/usr/sbin:/sbin:/Users/mcampos/Library/Application Support/JetBrains/Toolbox/scripts',\n",
       " 'VIRTUALENVWRAPPER_HOOK_DIR': '/Users/mcampos/.virtualenvs',\n",
       " 'LaunchInstanceID': '421D5F54-4B68-4AA1-BC9C-A76EA794523B',\n",
       " 'CONDA_PREFIX': '/Users/mcampos/opt/anaconda3',\n",
       " '__CFBundleIdentifier': 'com.apple.Terminal',\n",
       " 'PWD': '/Users/mcampos',\n",
       " 'JAVA_HOME': '/Users/mcampos/.sdkman/candidates/java/current',\n",
       " 'LANG': 'en_US.UTF-8',\n",
       " 'SDKMAN_VERSION': '5.16.0',\n",
       " 'XPC_FLAGS': '0x0',\n",
       " 'VIRTUALENVWRAPPER_VIRTUALENV': '/Users/mcampos/Library/Python/3.9/bin/virtualenv',\n",
       " '_CE_M': '',\n",
       " 'XPC_SERVICE_NAME': '0',\n",
       " 'SHLVL': '2',\n",
       " 'HOME': '/Users/mcampos',\n",
       " 'HOMEBREW_PREFIX': '/opt/homebrew',\n",
       " 'CONDA_PYTHON_EXE': '/Users/mcampos/opt/anaconda3/bin/python',\n",
       " 'LESS': '-R',\n",
       " 'LOGNAME': 'mcampos',\n",
       " 'SDKMAN_DIR': '/Users/mcampos/.sdkman',\n",
       " 'CONDA_DEFAULT_ENV': 'base',\n",
       " 'SCALA_HOME': '/Users/mcampos/.sdkman/candidates/scala/current',\n",
       " 'VIRTUALENVWRAPPER_WORKON_CD': '1',\n",
       " 'SDKMAN_CANDIDATES_DIR': '/Users/mcampos/.sdkman/candidates',\n",
       " 'INFOPATH': '/opt/homebrew/share/info:',\n",
       " 'HOMEBREW_CELLAR': '/opt/homebrew/Cellar',\n",
       " 'SECURITYSESSIONID': '186b4',\n",
       " '_': '/Users/mcampos/opt/anaconda3/bin/jupyter-notebook',\n",
       " '__CF_USER_TEXT_ENCODING': '0x1F5:0x0:0x0',\n",
       " 'PYDEVD_USE_FRAME_EVAL': 'NO',\n",
       " 'JPY_PARENT_PID': '19148',\n",
       " 'CLICOLOR': '1',\n",
       " 'GIT_PAGER': 'cat',\n",
       " 'MPLBACKEND': 'module://matplotlib_inline.backend_inline'}"
      ]
     },
     "execution_count": 19,
     "metadata": {},
     "output_type": "execute_result"
    }
   ],
   "source": [
    "%env"
   ]
  },
  {
   "cell_type": "code",
   "execution_count": 26,
   "metadata": {},
   "outputs": [],
   "source": [
    "!unset MY_VAR;\n"
   ]
  },
  {
   "cell_type": "code",
   "execution_count": 27,
   "metadata": {},
   "outputs": [
    {
     "name": "stdout",
     "output_type": "stream",
     "text": [
      "SHELL=/bin/bash\n",
      "HOSTNAME=57bd9d1f45a0\n",
      "LANGUAGE=en_US.UTF-8\n",
      "NB_UID=1000\n",
      "JULIA_PKGDIR=/opt/julia\n",
      "PWD=/home/jovyan/work/d0/teach/ucsc/ucsc_ai_ml_py/notebooks/07-1 python-part-2\n",
      "JPY_SESSION_NAME=work/d0/teach/ucsc/ucsc_ai_ml_py/notebooks/07-1 python-part-2/3e96e302-586e-42dd-98b7-83a95d3090e5\n",
      "HOME=/home/jovyan\n",
      "LANG=en_US.UTF-8\n",
      "NB_GID=100\n",
      "CLICOLOR=1\n",
      "JULIA_VERSION=1.8.3\n",
      "XDG_CACHE_HOME=/home/jovyan/.cache/\n",
      "JPY_PARENT_PID=7\n",
      "TERM=xterm-color\n",
      "GIT_PAGER=cat\n",
      "SHLVL=1\n",
      "PAGER=cat\n",
      "CONDA_DIR=/opt/conda\n",
      "JULIA_DEPOT_PATH=/opt/julia\n",
      "MPLBACKEND=module://matplotlib_inline.backend_inline\n",
      "NB_USER=jovyan\n",
      "LC_ALL=en_US.UTF-8\n",
      "PATH=/opt/conda/bin:/usr/local/sbin:/usr/local/bin:/usr/sbin:/usr/bin:/sbin:/bin\n",
      "DEBIAN_FRONTEND=noninteractive\n",
      "_=/usr/bin/env\n"
     ]
    }
   ],
   "source": [
    "%%bash\n",
    "env"
   ]
  },
  {
   "cell_type": "code",
   "execution_count": 28,
   "metadata": {},
   "outputs": [],
   "source": [
    "!env | grep MY_VAR"
   ]
  },
  {
   "cell_type": "code",
   "execution_count": 29,
   "metadata": {},
   "outputs": [
    {
     "name": "stdout",
     "output_type": "stream",
     "text": [
      "env: MY_VAR='abc123'\n"
     ]
    }
   ],
   "source": [
    "%env MY_VAR='abc123'"
   ]
  },
  {
   "cell_type": "code",
   "execution_count": 30,
   "metadata": {},
   "outputs": [
    {
     "name": "stdout",
     "output_type": "stream",
     "text": [
      "MY_VAR='abc123'\n"
     ]
    }
   ],
   "source": [
    "!env | grep MY_VAR"
   ]
  },
  {
   "cell_type": "code",
   "execution_count": 31,
   "metadata": {},
   "outputs": [
    {
     "data": {
      "text/plain": [
       "15.708"
      ]
     },
     "execution_count": 31,
     "metadata": {},
     "output_type": "execute_result"
    }
   ],
   "source": [
    "from math import pi\n",
    "%precision 3\n",
    "pi * 5"
   ]
  },
  {
   "cell_type": "code",
   "execution_count": 32,
   "metadata": {},
   "outputs": [
    {
     "data": {
      "text/plain": [
       "15.70796"
      ]
     },
     "execution_count": 32,
     "metadata": {},
     "output_type": "execute_result"
    }
   ],
   "source": [
    "%precision 5\n",
    "pi * 5"
   ]
  },
  {
   "cell_type": "code",
   "execution_count": 33,
   "metadata": {},
   "outputs": [
    {
     "data": {
      "text/plain": [
       "\n",
       "IPython -- An enhanced Interactive Python - Quick Reference Card\n",
       "================================================================\n",
       "\n",
       "obj?, obj??      : Get help, or more help for object (also works as\n",
       "                   ?obj, ??obj).\n",
       "?foo.*abc*       : List names in 'foo' containing 'abc' in them.\n",
       "%magic           : Information about IPython's 'magic' % functions.\n",
       "\n",
       "Magic functions are prefixed by % or %%, and typically take their arguments\n",
       "without parentheses, quotes or even commas for convenience.  Line magics take a\n",
       "single % and cell magics are prefixed with two %%.\n",
       "\n",
       "Example magic function calls:\n",
       "\n",
       "%alias d ls -F   : 'd' is now an alias for 'ls -F'\n",
       "alias d ls -F    : Works if 'alias' not a python name\n",
       "alist = %alias   : Get list of aliases to 'alist'\n",
       "cd /usr/share    : Obvious. cd -<tab> to choose from visited dirs.\n",
       "%cd??            : See help AND source for magic %cd\n",
       "%timeit x=10     : time the 'x=10' statement with high precision.\n",
       "%%timeit x=2**100\n",
       "x**100           : time 'x**100' with a setup of 'x=2**100'; setup code is not\n",
       "                   counted.  This is an example of a cell magic.\n",
       "\n",
       "System commands:\n",
       "\n",
       "!cp a.txt b/     : System command escape, calls os.system()\n",
       "cp a.txt b/      : after %rehashx, most system commands work without !\n",
       "cp ${f}.txt $bar : Variable expansion in magics and system commands\n",
       "files = !ls /usr : Capture system command output\n",
       "files.s, files.l, files.n: \"a b c\", ['a','b','c'], 'a\\nb\\nc'\n",
       "\n",
       "History:\n",
       "\n",
       "_i, _ii, _iii    : Previous, next previous, next next previous input\n",
       "_i4, _ih[2:5]    : Input history line 4, lines 2-4\n",
       "exec(_i81)       : Execute input history line #81 again\n",
       "%rep 81          : Edit input history line #81\n",
       "_, __, ___       : previous, next previous, next next previous output\n",
       "_dh              : Directory history\n",
       "_oh              : Output history\n",
       "%hist            : Command history of current session.\n",
       "%hist -g foo     : Search command history of (almost) all sessions for 'foo'.\n",
       "%hist -g         : Command history of (almost) all sessions.\n",
       "%hist 1/2-8      : Command history containing lines 2-8 of session 1.\n",
       "%hist 1/ ~2/     : Command history of session 1 and 2 sessions before current.\n",
       "%hist ~8/1-~6/5  : Command history from line 1 of 8 sessions ago to\n",
       "                   line 5 of 6 sessions ago.\n",
       "%edit 0/         : Open editor to execute code with history of current session.\n",
       "\n",
       "Autocall:\n",
       "\n",
       "f 1,2            : f(1,2)  # Off by default, enable with %autocall magic.\n",
       "/f 1,2           : f(1,2) (forced autoparen)\n",
       ",f 1 2           : f(\"1\",\"2\")\n",
       ";f 1 2           : f(\"1 2\")\n",
       "\n",
       "Remember: TAB completion works in many contexts, not just file names\n",
       "or python names.\n",
       "\n",
       "The following magic functions are currently available:\n",
       "\n",
       "%alias:\n",
       "    Define an alias for a system command.\n",
       "%alias_magic:\n",
       "    ::\n",
       "%autoawait:\n",
       "    \n",
       "%autocall:\n",
       "    Make functions callable without having to type parentheses.\n",
       "%automagic:\n",
       "    Make magic functions callable without having to type the initial %.\n",
       "%autosave:\n",
       "    Set the autosave interval in the notebook (in seconds).\n",
       "%bookmark:\n",
       "    Manage IPython's bookmark system.\n",
       "%cat:\n",
       "    Alias for `!cat`\n",
       "%cd:\n",
       "    Change the current working directory.\n",
       "%clear:\n",
       "    Clear the terminal.\n",
       "%colors:\n",
       "    Switch color scheme for prompts, info system and exception handlers.\n",
       "%conda:\n",
       "    Run the conda package manager within the current kernel.\n",
       "%config:\n",
       "    configure IPython\n",
       "%connect_info:\n",
       "    Print information for connecting other clients to this kernel\n",
       "%cp:\n",
       "    Alias for `!cp`\n",
       "%debug:\n",
       "    ::\n",
       "%dhist:\n",
       "    Print your history of visited directories.\n",
       "%dirs:\n",
       "    Return the current directory stack.\n",
       "%doctest_mode:\n",
       "    Toggle doctest mode on and off.\n",
       "%ed:\n",
       "    Alias for `%edit`.\n",
       "%edit:\n",
       "    Bring up an editor and execute the resulting code.\n",
       "%env:\n",
       "    Get, set, or list environment variables.\n",
       "%error:\n",
       "    Alias for `!echo \"Error: [%l]\"`\n",
       "%gui:\n",
       "    Enable or disable IPython GUI event loop integration.\n",
       "%hist:\n",
       "    Alias for `%history`.\n",
       "%history:\n",
       "    ::\n",
       "%killbgscripts:\n",
       "    Kill all BG processes started by %%script and its family.\n",
       "%ldir:\n",
       "    Alias for `!ls -F -o --color %l | grep /$`\n",
       "%less:\n",
       "    Show a file through the pager.\n",
       "%lf:\n",
       "    Alias for `!ls -F -o --color %l | grep ^-`\n",
       "%lk:\n",
       "    Alias for `!ls -F -o --color %l | grep ^l`\n",
       "%ll:\n",
       "    Alias for `!ls -F -o --color`\n",
       "%load:\n",
       "    Load code into the current frontend.\n",
       "%load_ext:\n",
       "    Load an IPython extension by its module name.\n",
       "%loadpy:\n",
       "    Alias of `%load`\n",
       "%logoff:\n",
       "    Temporarily stop logging.\n",
       "%logon:\n",
       "    Restart logging.\n",
       "%logstart:\n",
       "    Start logging anywhere in a session.\n",
       "%logstate:\n",
       "    Print the status of the logging system.\n",
       "%logstop:\n",
       "    Fully stop logging and close log file.\n",
       "%ls:\n",
       "    Alias for `!ls -F --color`\n",
       "%lsmagic:\n",
       "    List currently available magic functions.\n",
       "%lx:\n",
       "    Alias for `!ls -F -o --color %l | grep ^-..x`\n",
       "%macro:\n",
       "    Define a macro for future re-execution. It accepts ranges of history,\n",
       "%magic:\n",
       "    Print information about the magic function system.\n",
       "%man:\n",
       "    Find the man page for the given command and display in pager.\n",
       "%matplotlib:\n",
       "    ::\n",
       "%mkdir:\n",
       "    Alias for `!mkdir`\n",
       "%more:\n",
       "    Show a file through the pager.\n",
       "%mv:\n",
       "    Alias for `!mv`\n",
       "%notebook:\n",
       "    ::\n",
       "%page:\n",
       "    Pretty print the object and display it through a pager.\n",
       "%pastebin:\n",
       "    Upload code to dpaste.com, returning the URL.\n",
       "%pdb:\n",
       "    Control the automatic calling of the pdb interactive debugger.\n",
       "%pdef:\n",
       "    Print the call signature for any callable object.\n",
       "%pdoc:\n",
       "    Print the docstring for an object.\n",
       "%pfile:\n",
       "    Print (or run through pager) the file where an object is defined.\n",
       "%pinfo:\n",
       "    Provide detailed information about an object.\n",
       "%pinfo2:\n",
       "    Provide extra detailed information about an object.\n",
       "%pip:\n",
       "    Run the pip package manager within the current kernel.\n",
       "%popd:\n",
       "    Change to directory popped off the top of the stack.\n",
       "%pprint:\n",
       "    Toggle pretty printing on/off.\n",
       "%precision:\n",
       "    Set floating point precision for pretty printing.\n",
       "%prun:\n",
       "    Run a statement through the python code profiler.\n",
       "%psearch:\n",
       "    Search for object in namespaces by wildcard.\n",
       "%psource:\n",
       "    Print (or run through pager) the source code for an object.\n",
       "%pushd:\n",
       "    Place the current dir on stack and change directory.\n",
       "%pwd:\n",
       "    Return the current working directory path.\n",
       "%pycat:\n",
       "    Show a syntax-highlighted file through a pager.\n",
       "%pylab:\n",
       "    ::\n",
       "%qtconsole:\n",
       "    Open a qtconsole connected to this kernel.\n",
       "%quickref:\n",
       "    Show a quick reference sheet \n",
       "%recall:\n",
       "    Repeat a command, or get command to input line for editing.\n",
       "%rehashx:\n",
       "    Update the alias table with all executable files in $PATH.\n",
       "%reload_ext:\n",
       "    Reload an IPython extension by its module name.\n",
       "%rep:\n",
       "    Alias for `%recall`.\n",
       "%rerun:\n",
       "    Re-run previous input\n",
       "%reset:\n",
       "    Resets the namespace by removing all names defined by the user, if\n",
       "%reset_selective:\n",
       "    Resets the namespace by removing names defined by the user.\n",
       "%rm:\n",
       "    Alias for `!rm`\n",
       "%rmdir:\n",
       "    Alias for `!rmdir`\n",
       "%run:\n",
       "    Run the named file inside IPython as a program.\n",
       "%save:\n",
       "    Save a set of lines or a macro to a given filename.\n",
       "%sc:\n",
       "    Shell capture - run shell command and capture output (DEPRECATED use !).\n",
       "%set_env:\n",
       "    Set environment variables.  Assumptions are that either \"val\" is a\n",
       "%store:\n",
       "    Lightweight persistence for python variables.\n",
       "%sx:\n",
       "    Shell execute - run shell command and capture output (!! is short-hand).\n",
       "%system:\n",
       "    Shell execute - run shell command and capture output (!! is short-hand).\n",
       "%t:\n",
       "    Alias for `%timeit`.\n",
       "%tb:\n",
       "    Print the last traceback.\n",
       "%time:\n",
       "    Time execution of a Python statement or expression.\n",
       "%timeit:\n",
       "    Time execution of a Python statement or expression\n",
       "%unalias:\n",
       "    Remove an alias\n",
       "%unload_ext:\n",
       "    Unload an IPython extension by its module name.\n",
       "%who:\n",
       "    Print all interactive variables, with some minimal formatting.\n",
       "%who_ls:\n",
       "    Return a sorted list of all interactive variables.\n",
       "%whos:\n",
       "    Like %who, but gives some extra information about each variable.\n",
       "%xdel:\n",
       "    Delete a variable, trying to clear it from anywhere that\n",
       "%xmode:\n",
       "    Switch modes for the exception handlers.\n",
       "%%!:\n",
       "    Shell execute - run shell command and capture output (!! is short-hand).\n",
       "%%HTML:\n",
       "    Alias for `%%html`.\n",
       "%%SVG:\n",
       "    Alias for `%%svg`.\n",
       "%%bash:\n",
       "    %%bash script magic\n",
       "%%capture:\n",
       "    ::\n",
       "%%debug:\n",
       "    ::\n",
       "%%file:\n",
       "    Alias for `%%writefile`.\n",
       "%%html:\n",
       "    ::\n",
       "%%javascript:\n",
       "    Run the cell block of Javascript code\n",
       "%%js:\n",
       "    Run the cell block of Javascript code\n",
       "%%latex:\n",
       "    Render the cell as a block of LaTeX\n",
       "%%markdown:\n",
       "    Render the cell as Markdown text block\n",
       "%%perl:\n",
       "    %%perl script magic\n",
       "%%prun:\n",
       "    Run a statement through the python code profiler.\n",
       "%%pypy:\n",
       "    %%pypy script magic\n",
       "%%python:\n",
       "    %%python script magic\n",
       "%%python2:\n",
       "    %%python2 script magic\n",
       "%%python3:\n",
       "    %%python3 script magic\n",
       "%%ruby:\n",
       "    %%ruby script magic\n",
       "%%script:\n",
       "    ::\n",
       "%%sh:\n",
       "    %%sh script magic\n",
       "%%svg:\n",
       "    Render the cell as an SVG literal\n",
       "%%sx:\n",
       "    Shell execute - run shell command and capture output (!! is short-hand).\n",
       "%%system:\n",
       "    Shell execute - run shell command and capture output (!! is short-hand).\n",
       "%%t:\n",
       "    Alias for `%%timeit`.\n",
       "%%time:\n",
       "    Time execution of a Python statement or expression.\n",
       "%%timeit:\n",
       "    Time execution of a Python statement or expression\n",
       "%%writefile:\n",
       "    ::\n"
      ]
     },
     "metadata": {},
     "output_type": "display_data"
    }
   ],
   "source": [
    "%quickref"
   ]
  },
  {
   "cell_type": "code",
   "execution_count": null,
   "metadata": {},
   "outputs": [],
   "source": []
  }
 ],
 "metadata": {
  "kernelspec": {
   "display_name": "Python 3 (ipykernel)",
   "language": "python",
   "name": "python3"
  },
  "language_info": {
   "codemirror_mode": {
    "name": "ipython",
    "version": 3
   },
   "file_extension": ".py",
   "mimetype": "text/x-python",
   "name": "python",
   "nbconvert_exporter": "python",
   "pygments_lexer": "ipython3",
   "version": "3.10.6"
  }
 },
 "nbformat": 4,
 "nbformat_minor": 4
}
