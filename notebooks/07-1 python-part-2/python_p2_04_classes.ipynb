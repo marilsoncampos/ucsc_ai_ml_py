{
 "cells": [
  {
   "cell_type": "markdown",
   "metadata": {},
   "source": [
    "### 1. Functions in python"
   ]
  },
  {
   "cell_type": "code",
   "execution_count": 1,
   "metadata": {},
   "outputs": [],
   "source": [
    "import sys\n",
    "from IPython.display import Math\n",
    "from dataclasses import dataclass\n",
    "from pprint import pprint\n"
   ]
  },
  {
   "cell_type": "code",
   "execution_count": 73,
   "metadata": {},
   "outputs": [],
   "source": [
    "def my_func(p1, p2, p3):\n",
    "    return (p1 + p2 + p3)\n"
   ]
  },
  {
   "cell_type": "code",
   "execution_count": 74,
   "metadata": {},
   "outputs": [
    {
     "name": "stdout",
     "output_type": "stream",
     "text": [
      "6\n",
      "abc\n"
     ]
    }
   ],
   "source": [
    "print(my_func(1,2,3))\n",
    "print(my_func('a','b','c'))\n"
   ]
  },
  {
   "cell_type": "code",
   "execution_count": 2,
   "metadata": {},
   "outputs": [],
   "source": [
    "def my_better_func(p1: int, p2: int, p3: int) -> int:\n",
    "     return (p1 + p2 + p3)\n",
    "    "
   ]
  },
  {
   "cell_type": "code",
   "execution_count": 3,
   "metadata": {},
   "outputs": [
    {
     "name": "stdout",
     "output_type": "stream",
     "text": [
      "6\n",
      "abc\n"
     ]
    }
   ],
   "source": [
    "print(my_better_func(1,2,3))\n",
    "print(my_better_func('a','b','c'))\n"
   ]
  },
  {
   "cell_type": "code",
   "execution_count": 5,
   "metadata": {},
   "outputs": [
    {
     "name": "stdout",
     "output_type": "stream",
     "text": [
      "43134355\n",
      "<class 'int'>\n"
     ]
    }
   ],
   "source": [
    "# You can 'create' new types to help to document.\n",
    "from typing import NewType\n",
    "\n",
    "Id = NewType('Id', int)\n",
    "an_id = Id(43134355)\n",
    "print(an_id)\n"
   ]
  },
  {
   "cell_type": "code",
   "execution_count": 78,
   "metadata": {},
   "outputs": [
    {
     "name": "stdout",
     "output_type": "stream",
     "text": [
      "91\n"
     ]
    }
   ],
   "source": [
    "def func_with_id_param(id1 : Id, id2 : Id):\n",
    "    \"\"\"\n",
    "    This is my function\n",
    "    \n",
    "    id: indentifier number1\n",
    "    \"\"\"\n",
    "    print(id1 + id2)\n",
    "  \n",
    "func_with_id_param(Id(50), Id(41))\n"
   ]
  },
  {
   "cell_type": "code",
   "execution_count": 7,
   "metadata": {},
   "outputs": [
    {
     "name": "stdout",
     "output_type": "stream",
     "text": [
      "[1.12, 2.2, 3, 4, 1000]\n",
      "[1.12, 2.2, 3, 4]\n"
     ]
    }
   ],
   "source": [
    "# Remember collections are reused. \n",
    "# To avoid messing with parameters use the copy function.\n",
    "\n",
    "a = [1.12,2.20,3,4]\n",
    "\n",
    "def print_array(r):\n",
    "    print(r)\n",
    "    \n",
    "def get_updated_array(r, value):\n",
    "    temp = r.copy()\n",
    "    temp.append(value)\n",
    "    return temp\n",
    "\n",
    "  \n",
    "a1 = get_updated_array(a, 1000)\n",
    "print(a1)\n",
    "print(a)\n"
   ]
  },
  {
   "cell_type": "code",
   "execution_count": null,
   "metadata": {},
   "outputs": [],
   "source": []
  },
  {
   "cell_type": "markdown",
   "metadata": {},
   "source": [
    "### 2. Parameters in Python\n",
    "\n",
    "__Parameters are passed by value.__ \n",
    "\n",
    "__In other words, they are copied and the copy is used instead of the original.__"
   ]
  },
  {
   "cell_type": "code",
   "execution_count": 80,
   "metadata": {},
   "outputs": [
    {
     "name": "stdout",
     "output_type": "stream",
     "text": [
      "value param before: 5\n",
      "value param after : 0\n",
      "Variable \"a\": 5\n"
     ]
    }
   ],
   "source": [
    "a = 5\n",
    "\n",
    "def my_calc(value): \n",
    "    print(f'value param before: {value}')\n",
    "    value = 0 # This statement will not change the original value.\n",
    "    print(f'value param after : {value}')\n",
    "\n",
    "my_calc(a)\n",
    "print(f'Variable \"a\": {a}')\n"
   ]
  },
  {
   "cell_type": "markdown",
   "metadata": {},
   "source": [
    "#### Passing by value protects regular variables but does not work with Collections (List, Set, Dict) and Classes."
   ]
  },
  {
   "cell_type": "code",
   "execution_count": 11,
   "metadata": {},
   "outputs": [
    {
     "name": "stdout",
     "output_type": "stream",
     "text": [
      "[1, 2, 3, 1000]\n",
      "[1, 2, 3, 1000, 1000]\n",
      "Reusing previous list!!\n",
      "\n",
      "[1, 2, 3, 1000]\n",
      "[1, 2, 3, 1000]\n",
      "Protected against previous calls!!\n"
     ]
    }
   ],
   "source": [
    "my_list1 = [1,2,3]\n",
    "my_list2 = my_list1[:]  # my_list.copy equivalent\n",
    "\n",
    "def my_calc_regular(l):\n",
    "    l.append(1000)\n",
    "    print(l)\n",
    "\n",
    "    \n",
    "def my_calc_safe(l):\n",
    "    a = l.copy()\n",
    "    a.append(1000)\n",
    "    print(a)\n",
    "\n",
    "my_calc_regular(my_list1)\n",
    "my_calc_regular(my_list1)\n",
    "print('Reusing previous list!!\\n')\n",
    "\n",
    "\n",
    "my_calc_safe(my_list2)\n",
    "my_calc_safe(my_list2)\n",
    "print('Protected against previous calls!!')\n",
    "\n"
   ]
  },
  {
   "cell_type": "code",
   "execution_count": 14,
   "metadata": {},
   "outputs": [],
   "source": [
    "# This is a function to help us debug python functions.\n",
    "# We will explain how this works in the 'Closures' section.\n",
    "def build_inspected(func):\n",
    "    \"\"\"Inspect a function call\"\"\"\n",
    "    def inspected(*args, **kwargs):\n",
    "        print(\"Function name:\", func.__name__)\n",
    "        print(\"Arguments:\", ' '.join(map(str, args)))\n",
    "        print(\"Keyword arguments:\", kwargs.items())\n",
    "        res = func(*args, **kwargs)\n",
    "        print(\"Result :\", res)\n",
    "        print('. ' * 15)\n",
    "        return res\n",
    "    return inspected\n",
    "\n"
   ]
  },
  {
   "cell_type": "code",
   "execution_count": null,
   "metadata": {},
   "outputs": [],
   "source": []
  },
  {
   "cell_type": "code",
   "execution_count": 15,
   "metadata": {},
   "outputs": [],
   "source": [
    "def func1(a, b, c):\n",
    "    return a+b+c\n",
    "\n",
    "fi1 = build_inspected(func1)\n"
   ]
  },
  {
   "cell_type": "code",
   "execution_count": 16,
   "metadata": {
    "scrolled": true
   },
   "outputs": [
    {
     "name": "stdout",
     "output_type": "stream",
     "text": [
      "Function name: func1\n",
      "Arguments: 1 2\n",
      "Keyword arguments: dict_items([('c', 3)])\n",
      "Result : 6\n",
      ". . . . . . . . . . . . . . . \n"
     ]
    },
    {
     "data": {
      "text/plain": [
       "6"
      ]
     },
     "execution_count": 16,
     "metadata": {},
     "output_type": "execute_result"
    }
   ],
   "source": [
    "fi1(1,2, c=3)\n"
   ]
  },
  {
   "cell_type": "code",
   "execution_count": 17,
   "metadata": {},
   "outputs": [
    {
     "name": "stdout",
     "output_type": "stream",
     "text": [
      "Function name: func1\n",
      "Arguments: 1 2 3 4\n",
      "Keyword arguments: dict_items([])\n"
     ]
    },
    {
     "ename": "TypeError",
     "evalue": "func1() takes 3 positional arguments but 4 were given",
     "output_type": "error",
     "traceback": [
      "\u001b[0;31m---------------------------------------------------------------------------\u001b[0m",
      "\u001b[0;31mTypeError\u001b[0m                                 Traceback (most recent call last)",
      "Cell \u001b[0;32mIn [17], line 4\u001b[0m\n\u001b[1;32m      1\u001b[0m \u001b[38;5;66;03m# Error! Does not expect the 4th param.\u001b[39;00m\n\u001b[1;32m      2\u001b[0m \u001b[38;5;66;03m# See the error below\u001b[39;00m\n\u001b[1;32m      3\u001b[0m \u001b[38;5;66;03m# >>>   TypeError: func1() takes 3 positional arguments but 4 were given\u001b[39;00m\n\u001b[0;32m----> 4\u001b[0m \u001b[43mfi1\u001b[49m\u001b[43m(\u001b[49m\u001b[38;5;241;43m1\u001b[39;49m\u001b[43m,\u001b[49m\u001b[38;5;241;43m2\u001b[39;49m\u001b[43m,\u001b[49m\u001b[38;5;241;43m3\u001b[39;49m\u001b[43m,\u001b[49m\u001b[38;5;241;43m4\u001b[39;49m\u001b[43m)\u001b[49m\n",
      "Cell \u001b[0;32mIn [14], line 9\u001b[0m, in \u001b[0;36mbuild_inspected.<locals>.inspected\u001b[0;34m(*args, **kwargs)\u001b[0m\n\u001b[1;32m      7\u001b[0m \u001b[38;5;28mprint\u001b[39m(\u001b[38;5;124m\"\u001b[39m\u001b[38;5;124mArguments:\u001b[39m\u001b[38;5;124m\"\u001b[39m, \u001b[38;5;124m'\u001b[39m\u001b[38;5;124m \u001b[39m\u001b[38;5;124m'\u001b[39m\u001b[38;5;241m.\u001b[39mjoin(\u001b[38;5;28mmap\u001b[39m(\u001b[38;5;28mstr\u001b[39m, args)))\n\u001b[1;32m      8\u001b[0m \u001b[38;5;28mprint\u001b[39m(\u001b[38;5;124m\"\u001b[39m\u001b[38;5;124mKeyword arguments:\u001b[39m\u001b[38;5;124m\"\u001b[39m, kwargs\u001b[38;5;241m.\u001b[39mitems())\n\u001b[0;32m----> 9\u001b[0m res \u001b[38;5;241m=\u001b[39m \u001b[43mfunc\u001b[49m\u001b[43m(\u001b[49m\u001b[38;5;241;43m*\u001b[39;49m\u001b[43margs\u001b[49m\u001b[43m,\u001b[49m\u001b[43m \u001b[49m\u001b[38;5;241;43m*\u001b[39;49m\u001b[38;5;241;43m*\u001b[39;49m\u001b[43mkwargs\u001b[49m\u001b[43m)\u001b[49m\n\u001b[1;32m     10\u001b[0m \u001b[38;5;28mprint\u001b[39m(\u001b[38;5;124m\"\u001b[39m\u001b[38;5;124mResult :\u001b[39m\u001b[38;5;124m\"\u001b[39m, res)\n\u001b[1;32m     11\u001b[0m \u001b[38;5;28mprint\u001b[39m(\u001b[38;5;124m'\u001b[39m\u001b[38;5;124m. \u001b[39m\u001b[38;5;124m'\u001b[39m \u001b[38;5;241m*\u001b[39m \u001b[38;5;241m15\u001b[39m)\n",
      "\u001b[0;31mTypeError\u001b[0m: func1() takes 3 positional arguments but 4 were given"
     ]
    }
   ],
   "source": [
    "# Error! Does not expect the 4th param.\n",
    "# See the error below\n",
    "# >>>   TypeError: func1() takes 3 positional arguments but 4 were given\n",
    "fi1(1,2,3,4)\n"
   ]
  },
  {
   "cell_type": "code",
   "execution_count": 18,
   "metadata": {},
   "outputs": [
    {
     "name": "stdout",
     "output_type": "stream",
     "text": [
      "Function name: func_add_nums\n",
      "Arguments: 1 2 3\n",
      "Keyword arguments: dict_items([])\n",
      "Result : 6\n",
      ". . . . . . . . . . . . . . . \n"
     ]
    },
    {
     "data": {
      "text/plain": [
       "6"
      ]
     },
     "execution_count": 18,
     "metadata": {},
     "output_type": "execute_result"
    }
   ],
   "source": [
    "def func_add_nums(*nums): \n",
    "    \"\"\"Defining a variable number of parameters.\"\"\"\n",
    "    return sum(nums)\n",
    "\n",
    "fi2 = build_inspected(func_add_nums)\n",
    "fi2(1,2,3)\n"
   ]
  },
  {
   "cell_type": "code",
   "execution_count": 19,
   "metadata": {},
   "outputs": [
    {
     "name": "stdout",
     "output_type": "stream",
     "text": [
      "Function name: func_add_nums\n",
      "Arguments: 1 2 3 4\n",
      "Keyword arguments: dict_items([])\n",
      "Result : 10\n",
      ". . . . . . . . . . . . . . . \n"
     ]
    },
    {
     "data": {
      "text/plain": [
       "10"
      ]
     },
     "execution_count": 19,
     "metadata": {},
     "output_type": "execute_result"
    }
   ],
   "source": [
    "fi2(1,2,3,4) # Now works with any number of params\n"
   ]
  },
  {
   "cell_type": "code",
   "execution_count": 88,
   "metadata": {},
   "outputs": [
    {
     "name": "stdout",
     "output_type": "stream",
     "text": [
      "Hi John Jr\n",
      "Hey Clark III\n"
     ]
    }
   ],
   "source": [
    "def print_msg(prefix, suffix, name): \n",
    "    print(prefix, name, suffix)\n",
    "\n",
    "print_msg(prefix='Hi', suffix='Jr', name='John')\n",
    "print_msg('Hey', 'III', 'Clark')"
   ]
  },
  {
   "cell_type": "code",
   "execution_count": 22,
   "metadata": {},
   "outputs": [
    {
     "name": "stdout",
     "output_type": "stream",
     "text": [
      "Function name: func_complex\n",
      "Arguments: 1 2 3\n",
      "Keyword arguments: dict_items([])\n",
      "Result : 1 -> 5\n",
      ". . . . . . . . . . . . . . . \n",
      "Function name: func_complex\n",
      "Arguments: Test1 1 2 3\n",
      "Keyword arguments: dict_items([])\n",
      "Result : Test1 -> 6\n",
      ". . . . . . . . . . . . . . . \n",
      "Function name: func_complex\n",
      "Arguments: Test1 1 2 3\n",
      "Keyword arguments: dict_items([('debug', True), ('op1', 34), ('op100', 'abc')])\n",
      "--------------------\n",
      "  Prefix=Test1\n",
      "  Nums=(1, 2, 3)\n",
      "  Options -> {'debug': True, 'op1': 34, 'op100': 'abc'}\n",
      "--------------------\n",
      "Result : Test1 -> 6\n",
      ". . . . . . . . . . . . . . . \n",
      "Function name: func_complex\n",
      "Arguments: Test1 1 2 3\n",
      "Keyword arguments: dict_items([('debug', False), ('op101', 3), ('op100', 'abc')])\n",
      "Result : Test1 -> 6\n",
      ". . . . . . . . . . . . . . . \n",
      "Function name: func_complex\n",
      "Arguments: test2\n",
      "Keyword arguments: dict_items([])\n",
      "Result : test2 -> 0\n",
      ". . . . . . . . . . . . . . . \n"
     ]
    },
    {
     "data": {
      "text/plain": [
       "'test2 -> 0'"
      ]
     },
     "execution_count": 22,
     "metadata": {},
     "output_type": "execute_result"
    }
   ],
   "source": [
    "def func_complex(prefix, *nums, **options): \n",
    "    \"\"\"\n",
    "    Defines a function that expects one parameter for the prefix, \n",
    "    A variable number of parameters and\n",
    "    optional key=value pairs.\n",
    "    \"\"\"\n",
    "    if options.get('debug', False):\n",
    "        print('-' * 20)\n",
    "        print('  Prefix=' + str(prefix))\n",
    "        print('  Nums=' + str(nums))\n",
    "        print('  Options -> ' + str(options))\n",
    "        print('-' * 20)\n",
    "    return '{0} -> {1}'.format(prefix, sum(nums))\n",
    "\n",
    "\n",
    "fi3 = build_inspected(func_complex)\n",
    "\n",
    "fi3(1,2,3) # Thinks that 1 is a prefix\n",
    "fi3('Test1', 1,2,3) # Test is the prefix so adds the 3 numbers.\n",
    "fi3('Test1', 1,2,3, debug=True, op1=34, op100='abc') \n",
    "fi3('Test1', 1,2,3, debug=False, op101=3, op100='abc') \n",
    "fi3('test2')"
   ]
  },
  {
   "cell_type": "code",
   "execution_count": 24,
   "metadata": {},
   "outputs": [],
   "source": [
    "def print_report(title, records, sub_total=False, second_opt=False): \n",
    "    filler = '- ' * 15\n",
    "    print('{0} {1} {0}'.format(filler, title))\n",
    "    for rec in records:\n",
    "        print(rec)\n",
    "    if sub_total:\n",
    "        print('{0} {1} {0}'.format(filler, 'Sub-Totals'))\n",
    "        print(len(records))\n",
    "    if second_opt:\n",
    "        print('Second opt')\n",
    "    \n",
    "    "
   ]
  },
  {
   "cell_type": "code",
   "execution_count": 25,
   "metadata": {},
   "outputs": [
    {
     "name": "stdout",
     "output_type": "stream",
     "text": [
      "- - - - - - - - - - - - - - -  My Silly Report - - - - - - - - - - - - - - - \n",
      "abc\n",
      "123\n",
      "cdx\n",
      "- - - - - - - - - - - - - - -  Sub-Totals - - - - - - - - - - - - - - - \n",
      "3\n",
      "Second opt\n"
     ]
    }
   ],
   "source": [
    "print_report('My Silly Report', \n",
    "            ['abc', '123', 'cdx'], second_opt=True, sub_total=True)"
   ]
  },
  {
   "cell_type": "code",
   "execution_count": 26,
   "metadata": {},
   "outputs": [
    {
     "name": "stdout",
     "output_type": "stream",
     "text": [
      "- - - - - - - - - - - - - - -  My Silly Report - - - - - - - - - - - - - - - \n",
      "abc\n",
      "123\n",
      "cdx\n"
     ]
    }
   ],
   "source": [
    "print_report('My Silly Report', \n",
    "            ['abc', '123', 'cdx'])"
   ]
  },
  {
   "cell_type": "code",
   "execution_count": 28,
   "metadata": {},
   "outputs": [
    {
     "name": "stdout",
     "output_type": "stream",
     "text": [
      "1 2 3\n",
      "1 2 3\n"
     ]
    },
    {
     "ename": "TypeError",
     "evalue": "my_f1() got an unexpected keyword argument 'size'",
     "output_type": "error",
     "traceback": [
      "\u001b[0;31m---------------------------------------------------------------------------\u001b[0m",
      "\u001b[0;31mTypeError\u001b[0m                                 Traceback (most recent call last)",
      "Cell \u001b[0;32mIn [28], line 7\u001b[0m\n\u001b[1;32m      5\u001b[0m my_f1(op1\u001b[38;5;241m=\u001b[39m\u001b[38;5;241m1\u001b[39m,op2\u001b[38;5;241m=\u001b[39m\u001b[38;5;241m2\u001b[39m,op3\u001b[38;5;241m=\u001b[39m\u001b[38;5;241m3\u001b[39m)\n\u001b[1;32m      6\u001b[0m \u001b[38;5;66;03m# Name color not found\u001b[39;00m\n\u001b[0;32m----> 7\u001b[0m \u001b[43mmy_f1\u001b[49m\u001b[43m(\u001b[49m\u001b[43mop1\u001b[49m\u001b[38;5;241;43m=\u001b[39;49m\u001b[38;5;241;43m1\u001b[39;49m\u001b[43m,\u001b[49m\u001b[43mop2\u001b[49m\u001b[38;5;241;43m=\u001b[39;49m\u001b[38;5;241;43m2\u001b[39;49m\u001b[43m,\u001b[49m\u001b[43msize\u001b[49m\u001b[38;5;241;43m=\u001b[39;49m\u001b[38;5;241;43m3\u001b[39;49m\u001b[43m)\u001b[49m\n",
      "\u001b[0;31mTypeError\u001b[0m: my_f1() got an unexpected keyword argument 'size'"
     ]
    }
   ],
   "source": [
    "def my_f1(op1, op2, op3):\n",
    "    print(op1, op2, op3)\n",
    "\n",
    "my_f1(1,2,3)\n",
    "my_f1(op1=1,op2=2,op3=3)\n",
    "# Name color not found\n",
    "my_f1(op1=1,op2=2,size=3)"
   ]
  },
  {
   "cell_type": "code",
   "execution_count": 34,
   "metadata": {},
   "outputs": [
    {
     "name": "stdout",
     "output_type": "stream",
     "text": [
      "1., [3, 4, 5], True, x x x\n",
      "1., [3, 4, 5], False, x x x\n",
      "1., [3, 4, 5], False,  .... \n",
      "1., [3, 4, 5], True,  .... \n"
     ]
    }
   ],
   "source": [
    "def f21(prefix, num_array, debug=True, suffix='x x x'): \n",
    "    print(f'{prefix}, {num_array}, {debug}, {suffix}')\n",
    "    \n",
    "    \n",
    "f21('1.', [3,4,5])\n",
    "f21('1.', [3,4,5], debug=False)\n",
    "f21('1.', [3,4,5], debug=False, suffix=' .... ')\n",
    "f21('1.', [3,4,5], suffix=' .... ')"
   ]
  },
  {
   "cell_type": "markdown",
   "metadata": {},
   "source": [
    "#### Closures = Functions that create new functions"
   ]
  },
  {
   "cell_type": "code",
   "execution_count": 94,
   "metadata": {},
   "outputs": [],
   "source": [
    "# This is a function to help us debug python functions.\n",
    "def build_inspected(func):\n",
    "    \"\"\"Inspect a function call\"\"\"\n",
    "    def inspected(*args, **kwargs):\n",
    "        print(\"Function name:\", func.__name__)\n",
    "        print(\"Arguments:\", ' '.join(map(str, args)))\n",
    "        print(\"Keyword arguments:\", kwargs.items())\n",
    "        res = func(*args, **kwargs)\n",
    "        print(\"Result :\", res)\n",
    "        print('. ' * 15)\n",
    "        return res\n",
    "    return inspected\n"
   ]
  },
  {
   "cell_type": "code",
   "execution_count": 1,
   "metadata": {},
   "outputs": [],
   "source": [
    "from datetime import datetime\n",
    "import time\n",
    "# This is a function that calculate elapsed time to calls to other functions.\n",
    "def timed_func(func):\n",
    "    \"\"\"Inspect a function call\"\"\"\n",
    "    def inspected(*args, **kwargs):\n",
    "        start_time = datetime.now()\n",
    "        res = func(*args, **kwargs)\n",
    "        end_time = datetime.now()\n",
    "        print(func.__name__)\n",
    "        print(\"Elapsed {0}\".format(end_time-start_time))\n",
    "        print('. ' * 15)\n",
    "        return res\n",
    "    return inspected\n"
   ]
  },
  {
   "cell_type": "code",
   "execution_count": 2,
   "metadata": {},
   "outputs": [
    {
     "name": "stdout",
     "output_type": "stream",
     "text": [
      "long_loop\n",
      "Elapsed 0:00:05.004901\n",
      ". . . . . . . . . . . . . . . \n",
      "abc\n"
     ]
    }
   ],
   "source": [
    "# This '@' name applies the closure to function.\n",
    "# it allows you to modify behavior of other functions.\n",
    "\n",
    "@timed_func\n",
    "def long_loop():\n",
    "    time.sleep(5)\n",
    "    return 'abc'\n",
    "\n",
    "x = long_loop()\n",
    "print(x)"
   ]
  },
  {
   "cell_type": "code",
   "execution_count": 39,
   "metadata": {},
   "outputs": [
    {
     "name": "stdout",
     "output_type": "stream",
     "text": [
      "long_loop\n",
      "Elapsed 0:00:05.004784\n",
      ". . . . . . . . . . . . . . . \n",
      "abc\n"
     ]
    }
   ],
   "source": [
    "# Using the old way is more confusing and less compact.\n",
    "def long_loop():\n",
    "    time.sleep(5)\n",
    "    return 'abc'\n",
    "\n",
    "t1 = timed_func(long_loop)\n",
    "x = t1()\n",
    "print(x)"
   ]
  },
  {
   "cell_type": "code",
   "execution_count": 40,
   "metadata": {},
   "outputs": [
    {
     "data": {
      "text/plain": [
       "20.0"
      ]
     },
     "execution_count": 40,
     "metadata": {},
     "output_type": "execute_result"
    }
   ],
   "source": [
    "# Generating functions from other functions.\n",
    "def calculate_tax(x, percent):\n",
    "    return x * percent\n",
    "\n",
    "def make_tax_func(func, tax_bracket):\n",
    "    def my_tax(x):\n",
    "        return func(x, tax_bracket)\n",
    "    return my_tax\n",
    "\n",
    "twenty_pct = make_tax_func(calculate_tax, 0.20)\n",
    "twenty_pct(100)"
   ]
  },
  {
   "cell_type": "markdown",
   "metadata": {},
   "source": [
    "#### Guidelines for functions."
   ]
  },
  {
   "cell_type": "markdown",
   "metadata": {},
   "source": [
    "- Up to 3 params:\n",
    " - Call it like func(1,2,3)\n",
    " - If need options call like func(1,2,3,opt1=True)\n",
    "- More than 3 params\n",
    " - Call with param names to make it clear. like this func(x=10, y=200, radius=34, color='yellow')\n",
    " \n",
    "**Note:** \n",
    "  * The goal is to make your code clear and easy to read.\n",
    "  * You spend more time 'reading' code than writting it.\n",
    "  * Python has a benefit that the code looks and feels like english. \n",
    "    - Some other languages are not that clear and use lots of symbols instead of words."
   ]
  },
  {
   "cell_type": "code",
   "execution_count": 99,
   "metadata": {},
   "outputs": [
    {
     "name": "stdout",
     "output_type": "stream",
     "text": [
      "10 200 34 white\n",
      "10 200 34 yellow\n",
      "10 200 34 yellow\n"
     ]
    }
   ],
   "source": [
    "def circle(x, y, radius, color='white'):\n",
    "    print(x, y, radius, color)\n",
    "    \n",
    "\n",
    "circle(10, 200, 34)    \n",
    "circle(10, 200, 34, 'yellow')    \n",
    "circle(x=10, y=200, radius=34, color='yellow')"
   ]
  },
  {
   "cell_type": "code",
   "execution_count": null,
   "metadata": {},
   "outputs": [],
   "source": []
  },
  {
   "cell_type": "code",
   "execution_count": 41,
   "metadata": {},
   "outputs": [
    {
     "name": "stdout",
     "output_type": "stream",
     "text": [
      "--- Log keeps growing with bad_circle ---\n",
      "\n",
      "Circle(x=1, y=2, radius=5)\n",
      "\n",
      "Log:\n",
      " x=1, y=2\n",
      ". . . . . . . . . . . . . . . . . . . . \n",
      "\n",
      "Circle(x=2, y=2, radius=4)\n",
      "\n",
      "Log:\n",
      " x=1, y=2\n",
      " x=2, y=2\n",
      ". . . . . . . . . . . . . . . . . . . . \n",
      "\n",
      "--- good_circle behaves as expected ---\n",
      "\n",
      "Circle(x=1, y=2, radius=5)\n",
      "\n",
      "Log:\n",
      " x=1, y=2\n",
      ". . . . . . . . . . . . . . . . . . . . \n",
      "\n",
      "Circle(x=3, y=2, radius=7)\n",
      "\n",
      "Log:\n",
      " x=3, y=2\n",
      ". . . . . . . . . . . . . . . . . . . . \n",
      "\n",
      "--- good_circle can reuse the logs if you choose ---\n",
      "\n",
      "Circle(x=1, y=2, radius=5)\n",
      "\n",
      "Log:\n",
      " x=1, y=2\n",
      ". . . . . . . . . . . . . . . . . . . . \n",
      "\n",
      "Circle(x=10, y=12, radius=5)\n",
      "\n",
      "Log:\n",
      " x=1, y=2\n",
      " x=10, y=12\n",
      ". . . . . . . . . . . . . . . . . . . . \n",
      "\n"
     ]
    }
   ],
   "source": [
    "def print_log(log):\n",
    "    print('\\nLog:')\n",
    "    for elm in log:\n",
    "        print(' {0}'.format(elm))\n",
    "    print( '. ' * 20 +'\\n')        \n",
    "\n",
    "def bad_circle(x, y, radius, log_msg=[]):\n",
    "    \"\"\"Setting variables with default collections will make \n",
    "    their content to be reused between calls.\"\"\"\n",
    "    log_msg.append('x={0}, y={1}'.format(x, y))\n",
    "    print(f'Circle(x={x}, y={y}, radius={radius})')\n",
    "    print_log(log_msg)\n",
    "\n",
    "def good_circle(x, y, radius, log_msg=None):\n",
    "    \"\"\"If we dont provide a log_msg list it will get a \n",
    "    fresh empty list in every call.\n",
    "    \"\"\"\n",
    "    if log_msg is None:\n",
    "        log_msg = []\n",
    "    log_msg.append('x={0}, y={1}'.format(x, y))\n",
    "    print(f'Circle(x={x}, y={y}, radius={radius})')\n",
    "    print_log(log_msg)\n",
    "                   \n",
    "\n",
    "    \n",
    "print('--- Log keeps growing with bad_circle ---\\n')\n",
    "bad_circle(1, 2, 5)\n",
    "bad_circle(2, 2, 4)\n",
    "print('--- good_circle behaves as expected ---\\n')\n",
    "good_circle(1, 2, 5)\n",
    "good_circle(3, 2, 7)\n",
    "print('--- good_circle can reuse the logs if you choose ---\\n')\n",
    "my_log = []\n",
    "good_circle(1, 2, 5, my_log)\n",
    "good_circle(10, 12, 5, my_log)\n",
    "                   "
   ]
  },
  {
   "cell_type": "markdown",
   "metadata": {},
   "source": [
    "#### Many forms of False"
   ]
  },
  {
   "cell_type": "code",
   "execution_count": 101,
   "metadata": {},
   "outputs": [
    {
     "name": "stdout",
     "output_type": "stream",
     "text": [
      "a = []\n",
      "a = 0\n",
      "a = 0\n",
      "a = False\n",
      "a = None\n",
      "a is None\n"
     ]
    }
   ],
   "source": [
    "a = []\n",
    "if not a:\n",
    "    print('a = []')\n",
    "a = 0\n",
    "if not a:\n",
    "    print('a = 0')\n",
    "a = 0\n",
    "if (a == 0):\n",
    "    print('a = 0')\n",
    "a = False\n",
    "if not a:\n",
    "    print('a = False')\n",
    "a = None\n",
    "if not a:\n",
    "    print('a = None')\n",
    "\n",
    "if a is None:\n",
    "    print('a is None')\n"
   ]
  },
  {
   "cell_type": "code",
   "execution_count": 43,
   "metadata": {},
   "outputs": [
    {
     "name": "stdout",
     "output_type": "stream",
     "text": [
      "None\n",
      "10\n"
     ]
    }
   ],
   "source": [
    "\n",
    "def add_ten_if_exists(x):\n",
    "    if x is not None:\n",
    "        return x + 10\n",
    "    return x\n",
    "\n",
    "\n",
    "print(add_ten_if_exists(None))\n",
    "print(add_ten_if_exists(0))"
   ]
  },
  {
   "cell_type": "markdown",
   "metadata": {},
   "source": [
    "#### Object Oriented Programming (OOP) -> Classes = Code + Data"
   ]
  },
  {
   "cell_type": "markdown",
   "metadata": {},
   "source": [
    "- Classes allows us to create more sophisticated language elements.\n",
    "- These elements know how to manage their state and perform tasks.\n",
    "- The initial applications of OOP where Graphical user interfaces and also Simlulators.\n",
    "- These elements ('Objects') can be passed to a function as parameters.\n"
   ]
  },
  {
   "cell_type": "markdown",
   "metadata": {},
   "source": [
    "__Classes = Templates of elements.__\n",
    "\n",
    "__Objects = Concrete realizations of the template also called 'instances'__"
   ]
  },
  {
   "cell_type": "markdown",
   "metadata": {},
   "source": [
    "#### Data classes\n",
    "Are just containers for data with minimum functionality that allows us to access it using field names."
   ]
  },
  {
   "cell_type": "code",
   "execution_count": 3,
   "metadata": {},
   "outputs": [],
   "source": [
    "from dataclasses import dataclass\n",
    "\n",
    "@dataclass\n",
    "class Order:\n",
    "    cust_id: int\n",
    "    item: str\n",
    "    qtd: int\n",
    "    total: float = 0.0"
   ]
  },
  {
   "cell_type": "code",
   "execution_count": 105,
   "metadata": {},
   "outputs": [
    {
     "data": {
      "text/plain": [
       "'iPhone 15'"
      ]
     },
     "execution_count": 105,
     "metadata": {},
     "output_type": "execute_result"
    }
   ],
   "source": [
    "# What does 1 means?\n",
    "o2 = (1, 'iPhone 15', 1, 1200.00)\n",
    "o2[1]"
   ]
  },
  {
   "cell_type": "code",
   "execution_count": 106,
   "metadata": {},
   "outputs": [
    {
     "data": {
      "text/plain": [
       "'iPhone 15'"
      ]
     },
     "execution_count": 106,
     "metadata": {},
     "output_type": "execute_result"
    }
   ],
   "source": [
    "# Now its clear what field we are using.\n",
    "o3 = Order(cust_id=1, item='iPhone 15', qtd=1, total=200.00)\n",
    "o3.item"
   ]
  },
  {
   "cell_type": "code",
   "execution_count": 107,
   "metadata": {},
   "outputs": [
    {
     "name": "stdout",
     "output_type": "stream",
     "text": [
      "Order(cust_id=1, item='iPhone 15', qtd=1, total=1200.0)\n",
      "Item: iPhone 15\n"
     ]
    }
   ],
   "source": [
    "o1 = Order(1, 'iPhone 15', 1, 1200.00)\n",
    "print(o1)\n",
    "print(f'Item: {o1.item}')"
   ]
  },
  {
   "cell_type": "code",
   "execution_count": 108,
   "metadata": {},
   "outputs": [],
   "source": [
    "@dataclass\n",
    "class Result:\n",
    "    value: int\n",
    "    msg: str = ''\n",
    "\n",
    "def build_result(input_value):\n",
    "    if input_value > 0:\n",
    "        return Result(input_value * 2)    \n",
    "    return Result(0, msg='Need a positive number')\n",
    "   \n",
    "    \n",
    "def report_outcome(result):\n",
    "    if result.msg != '':\n",
    "        print('Error: {0}'.format(result.msg))\n",
    "    else:\n",
    "        print('We got a value: {0}'.format(result.value))\n",
    "    print(' ')\n"
   ]
  },
  {
   "cell_type": "code",
   "execution_count": 109,
   "metadata": {
    "scrolled": true
   },
   "outputs": [
    {
     "name": "stdout",
     "output_type": "stream",
     "text": [
      "Result(value=20, msg='')\n",
      "We got a value: 20\n",
      " \n",
      "Result(value=0, msg='Need a positive number')\n",
      "Error: Need a positive number\n",
      " \n"
     ]
    }
   ],
   "source": [
    "r1 = build_result(10)\n",
    "print(r1)\n",
    "report_outcome(r1)\n",
    "r2 = build_result(-1)\n",
    "print(r2)\n",
    "report_outcome(r2)\n"
   ]
  },
  {
   "cell_type": "code",
   "execution_count": 110,
   "metadata": {},
   "outputs": [],
   "source": [
    "@dataclass\n",
    "class BetterResult:\n",
    "    value: int\n",
    "    msg: str = ''\n",
    "\n",
    "    def is_error(self) -> bool:\n",
    "        return self.msg != ''\n",
    "    \n",
    "    def __str__(self):\n",
    "        if self.is_error():\n",
    "            return 'Error: {0}'.format(self.msg)\n",
    "        return 'We got a value: {0}'.format(self.value)\n",
    "\n",
    "    def __repr__(self):\n",
    "        return f'BetterResult(value={self.value}, msg=\"{self.msg}\")'\n",
    "\n",
    "    \n",
    "def build_result(input_value) -> BetterResult:\n",
    "    if input_value > 0:\n",
    "        return BetterResult(input_value * 2)    \n",
    "    return BetterResult(0, msg='Need a positive number')\n",
    "   \n",
    "    \n",
    "def report_outcome(result: BetterResult):\n",
    "    print(result)\n"
   ]
  },
  {
   "cell_type": "code",
   "execution_count": 111,
   "metadata": {},
   "outputs": [
    {
     "name": "stdout",
     "output_type": "stream",
     "text": [
      "BetterResult(value=20, msg=\"\")\n",
      "We got a value: 20\n",
      "- - - - - - - - - - - - - - - - - - - - \n",
      "BetterResult(value=0, msg=\"Need a positive number\")\n",
      "Error: Need a positive number\n"
     ]
    }
   ],
   "source": [
    "r1 = build_result(10)\n",
    "print(repr(r1))\n",
    "report_outcome(r1)\n",
    "print('- ' * 20)\n",
    "r2 = build_result(-1)\n",
    "print(repr(r2))\n",
    "report_outcome(r2)\n"
   ]
  },
  {
   "cell_type": "code",
   "execution_count": null,
   "metadata": {
    "scrolled": true
   },
   "outputs": [],
   "source": []
  },
  {
   "cell_type": "markdown",
   "metadata": {},
   "source": [
    "\n"
   ]
  },
  {
   "cell_type": "markdown",
   "metadata": {},
   "source": [
    "##### Creating classes in Python"
   ]
  },
  {
   "cell_type": "markdown",
   "metadata": {},
   "source": [
    "##### A little note about the meaning of Confusion Matrix and ML metrics."
   ]
  },
  {
   "cell_type": "code",
   "execution_count": 44,
   "metadata": {},
   "outputs": [
    {
     "name": "stdout",
     "output_type": "stream",
     "text": [
      "Collecting prettytable\n",
      "  Downloading prettytable-3.6.0-py3-none-any.whl (27 kB)\n",
      "Requirement already satisfied: wcwidth in /opt/conda/lib/python3.10/site-packages (from prettytable) (0.2.5)\n",
      "Installing collected packages: prettytable\n",
      "Successfully installed prettytable-3.6.0\n",
      "Note: you may need to restart the kernel to use updated packages.\n"
     ]
    }
   ],
   "source": [
    "%pip install prettytable "
   ]
  },
  {
   "cell_type": "code",
   "execution_count": 45,
   "metadata": {},
   "outputs": [
    {
     "name": "stdout",
     "output_type": "stream",
     "text": [
      "+--------+-----------+-----------+\n",
      "|        |  Actual=T |  Actual=F |\n",
      "+--------+-----------+-----------+\n",
      "| Pred=T | True Pos  | False Pos |\n",
      "| Pred=F | False Neg | True Neg  |\n",
      "+--------+-----------+-----------+\n"
     ]
    }
   ],
   "source": [
    "from prettytable import PrettyTable as pt\n",
    "tb = pt()\n",
    "tb.field_names = [\" \",\"Actual=T\", \"Actual=F\"]\n",
    "#Add rows\n",
    "tb.add_row(['Pred=T', 'True Pos ' ,'False Pos'])\n",
    "tb.add_row(['Pred=F', 'False Neg' ,'True Neg '])\n",
    "print(tb)\n",
    "# False Pos -> Incorrectly called pos\n",
    "# False Neg -> Incorrectly called neg\n"
   ]
  },
  {
   "cell_type": "markdown",
   "metadata": {},
   "source": [
    "Each cell represents a possible outcome of a prediction.\n",
    "\n",
    "**How to interpret the confusion matrix names**\n",
    "\n",
    "Names follow this format:\n",
    "\n",
    "    \"Outcome\" \"My prediction\"\n",
    "Ex:\n",
    "\n",
    " **True positive** -> My prediction is \"Yes\" and i got it right.\n",
    "     \n",
    " **True negative** -> My prediction is \"No\" and i got it right.\n",
    "     \n",
    " **False positive** -> My prediction is \"Yes\" and i got it wrong.\n",
    "     \n",
    " **False negative** -> My prediction is \"No\" and i got it wrong.\n",
    "\n",
    "From these four basic counts we derive several usefull metrics as described below."
   ]
  },
  {
   "cell_type": "markdown",
   "metadata": {},
   "source": [
    "##### Precision"
   ]
  },
  {
   "cell_type": "code",
   "execution_count": 114,
   "metadata": {},
   "outputs": [
    {
     "data": {
      "text/latex": [
       "$\\displaystyle Precision = \\frac{TP}{(TP + FP)}$"
      ],
      "text/plain": [
       "<IPython.core.display.Math object>"
      ]
     },
     "execution_count": 114,
     "metadata": {},
     "output_type": "execute_result"
    }
   ],
   "source": [
    "Math(r'Precision = \\frac{TP}{(TP + FP)}')\n"
   ]
  },
  {
   "cell_type": "markdown",
   "metadata": {},
   "source": [
    "__Intuition: Proportion of 'positive' predictions correctly predicted.__\n",
    "\n",
    "__Insight:__ Precision does not account for missing true positives, that we did not find.\n",
    "\n",
    "__Ex:__ \n",
    "\n",
    "* In a dataset with 100 patients and 10 positives for a disease.\n",
    "* We predicted that 1 sick patient has the disease."
   ]
  },
  {
   "cell_type": "code",
   "execution_count": 115,
   "metadata": {},
   "outputs": [
    {
     "data": {
      "text/latex": [
       "$\\displaystyle Precision = \\frac{1}{(1+0)} = 1 = 100\\%$"
      ],
      "text/plain": [
       "<IPython.core.display.Math object>"
      ]
     },
     "execution_count": 115,
     "metadata": {},
     "output_type": "execute_result"
    }
   ],
   "source": [
    "Math(r'Precision = \\frac{1}{(1+0)} = 1 = 100\\%')\n"
   ]
  },
  {
   "cell_type": "markdown",
   "metadata": {},
   "source": [
    "##### Recall"
   ]
  },
  {
   "cell_type": "code",
   "execution_count": 116,
   "metadata": {},
   "outputs": [
    {
     "data": {
      "text/latex": [
       "$\\displaystyle Recall = \\frac{TP}{(TP + FN)}$"
      ],
      "text/plain": [
       "<IPython.core.display.Math object>"
      ]
     },
     "execution_count": 116,
     "metadata": {},
     "output_type": "execute_result"
    }
   ],
   "source": [
    "Math(r'Recall = \\frac{TP}{(TP + FN)}')\n"
   ]
  },
  {
   "cell_type": "markdown",
   "metadata": {},
   "source": [
    "__Intuition: Proportion of 'positive' cases found.__\n",
    "\n",
    "__Insight:__ Precision does not account for predictions of type false positive.\n",
    "\n",
    "__Ex:__ \n",
    "\n",
    "* In a dataset with 100 patients and ten positives for a disease.\n",
    "* We predicted that all patients have the disease."
   ]
  },
  {
   "cell_type": "code",
   "execution_count": 117,
   "metadata": {},
   "outputs": [
    {
     "data": {
      "text/latex": [
       "$\\displaystyle Recall = \\frac{10}{(10+0)} = 1 = 100\\%$"
      ],
      "text/plain": [
       "<IPython.core.display.Math object>"
      ]
     },
     "execution_count": 117,
     "metadata": {},
     "output_type": "execute_result"
    }
   ],
   "source": [
    "Math(r'Recall = \\frac{10}{(10+0)} = 1 = 100\\%')\n"
   ]
  },
  {
   "cell_type": "markdown",
   "metadata": {},
   "source": [
    "#### Accuracy"
   ]
  },
  {
   "cell_type": "code",
   "execution_count": 118,
   "metadata": {},
   "outputs": [
    {
     "data": {
      "text/latex": [
       "$\\displaystyle Accuracy = \\frac{(TP+TN)}{(TP + FP + TN + FN)}$"
      ],
      "text/plain": [
       "<IPython.core.display.Math object>"
      ]
     },
     "execution_count": 118,
     "metadata": {},
     "output_type": "execute_result"
    }
   ],
   "source": [
    "Math(r'Accuracy = \\frac{(TP+TN)}{(TP + FP + TN + FN)}')\n"
   ]
  },
  {
   "cell_type": "code",
   "execution_count": 119,
   "metadata": {},
   "outputs": [
    {
     "data": {
      "text/latex": [
       "$\\displaystyle Accuracy = \\frac{(TP+TN)}{(Num\\:Preds)}$"
      ],
      "text/plain": [
       "<IPython.core.display.Math object>"
      ]
     },
     "execution_count": 119,
     "metadata": {},
     "output_type": "execute_result"
    }
   ],
   "source": [
    "Math(r'Accuracy = \\frac{(TP+TN)}{(Num\\:Preds)}')\n"
   ]
  },
  {
   "cell_type": "markdown",
   "metadata": {},
   "source": [
    "__Intuition: Proportion of 'correct' guesses positive and negative.__\n"
   ]
  },
  {
   "cell_type": "markdown",
   "metadata": {},
   "source": [
    "#### Error Rate"
   ]
  },
  {
   "cell_type": "code",
   "execution_count": 120,
   "metadata": {},
   "outputs": [
    {
     "data": {
      "text/latex": [
       "$\\displaystyle Error\\:Rate = 1 - Accuracy$"
      ],
      "text/plain": [
       "<IPython.core.display.Math object>"
      ]
     },
     "execution_count": 120,
     "metadata": {},
     "output_type": "execute_result"
    }
   ],
   "source": [
    "Math(r'Error\\:Rate = 1 - Accuracy')\n"
   ]
  },
  {
   "cell_type": "code",
   "execution_count": 121,
   "metadata": {},
   "outputs": [
    {
     "data": {
      "text/latex": [
       "$\\displaystyle Error\\:Rate = 1 - \\frac{(TP+TN)}{(TP + FP + TN + FN)}$"
      ],
      "text/plain": [
       "<IPython.core.display.Math object>"
      ]
     },
     "execution_count": 121,
     "metadata": {},
     "output_type": "execute_result"
    }
   ],
   "source": [
    "Math(r'Error\\:Rate = 1 - \\frac{(TP+TN)}{(TP + FP + TN + FN)}')"
   ]
  },
  {
   "cell_type": "code",
   "execution_count": 122,
   "metadata": {},
   "outputs": [
    {
     "data": {
      "text/latex": [
       "$\\displaystyle Error\\:Rate = \\frac{(TP + FP + TN + FN)}{(TP + FP + TN + FN)} - \\frac{(TP+TN)}{(TP + FP + TN + FN)}$"
      ],
      "text/plain": [
       "<IPython.core.display.Math object>"
      ]
     },
     "execution_count": 122,
     "metadata": {},
     "output_type": "execute_result"
    }
   ],
   "source": [
    "Math(r'Error\\:Rate = \\frac{(TP + FP + TN + FN)}{(TP + FP + TN + FN)} - \\frac{(TP+TN)}{(TP + FP + TN + FN)}')"
   ]
  },
  {
   "cell_type": "code",
   "execution_count": 123,
   "metadata": {},
   "outputs": [
    {
     "data": {
      "text/latex": [
       "$\\displaystyle Error\\:Rate = \\frac{(TP + FP + TN + FN) - (TP+TN)}{(TP + FP + TN + FN)}$"
      ],
      "text/plain": [
       "<IPython.core.display.Math object>"
      ]
     },
     "execution_count": 123,
     "metadata": {},
     "output_type": "execute_result"
    }
   ],
   "source": [
    "Math(r'Error\\:Rate = \\frac{(TP + FP + TN + FN) - (TP+TN)}{(TP + FP + TN + FN)}')"
   ]
  },
  {
   "cell_type": "code",
   "execution_count": 124,
   "metadata": {
    "scrolled": true
   },
   "outputs": [
    {
     "data": {
      "text/latex": [
       "$\\displaystyle Error\\:Rate = \\frac{(FP + FN)}{(TP + FP + TN + FN)}$"
      ],
      "text/plain": [
       "<IPython.core.display.Math object>"
      ]
     },
     "execution_count": 124,
     "metadata": {},
     "output_type": "execute_result"
    }
   ],
   "source": [
    "Math(r'Error\\:Rate = \\frac{(FP + FN)}{(TP + FP + TN + FN)}')"
   ]
  },
  {
   "cell_type": "markdown",
   "metadata": {},
   "source": [
    "__Intuition: Proportion of 'incorrect' guesses positive and negative.__\n"
   ]
  },
  {
   "cell_type": "code",
   "execution_count": 125,
   "metadata": {},
   "outputs": [
    {
     "data": {
      "text/latex": [
       "$\\displaystyle Error\\:Rate + Accuracy = Rate(Correct)+Rate(Incorrect) = 1$"
      ],
      "text/plain": [
       "<IPython.core.display.Math object>"
      ]
     },
     "execution_count": 125,
     "metadata": {},
     "output_type": "execute_result"
    }
   ],
   "source": [
    "Math(r'Error\\:Rate + Accuracy = Rate(Correct)+Rate(Incorrect) = 1')"
   ]
  },
  {
   "cell_type": "markdown",
   "metadata": {},
   "source": [
    "##### F1 Score"
   ]
  },
  {
   "cell_type": "code",
   "execution_count": 126,
   "metadata": {},
   "outputs": [
    {
     "data": {
      "text/latex": [
       "$\\displaystyle F_1 Score = 2 \\frac{(Precision * Recall)}{(Precision + Recall)}$"
      ],
      "text/plain": [
       "<IPython.core.display.Math object>"
      ]
     },
     "execution_count": 126,
     "metadata": {},
     "output_type": "execute_result"
    }
   ],
   "source": [
    "Math(r'F_1 Score = 2 \\frac{(Precision * Recall)}{(Precision + Recall)}')"
   ]
  },
  {
   "cell_type": "code",
   "execution_count": 127,
   "metadata": {},
   "outputs": [
    {
     "data": {
      "text/latex": [
       "$\\displaystyle F_1 Score = \\frac{TP}{(TP + \\frac{1}{2} (FP + FN)}$"
      ],
      "text/plain": [
       "<IPython.core.display.Math object>"
      ]
     },
     "execution_count": 127,
     "metadata": {},
     "output_type": "execute_result"
    }
   ],
   "source": [
    "Math(r'F_1 Score = \\frac{TP}{(TP + \\frac{1}{2} (FP + FN)}')"
   ]
  },
  {
   "cell_type": "markdown",
   "metadata": {},
   "source": [
    "__Intuition: F1 Score is the 'harmonic mean' of the Precision and Recall.__\n",
    "\n",
    " \n",
    "__Better balance the tradeoffs between these two metrics.__"
   ]
  },
  {
   "cell_type": "code",
   "execution_count": 49,
   "metadata": {},
   "outputs": [
    {
     "data": {
      "text/plain": [
       "[(1, 100), (2, 200), (3, 300)]"
      ]
     },
     "execution_count": 49,
     "metadata": {},
     "output_type": "execute_result"
    }
   ],
   "source": [
    "list(zip([1,2,3], [100,200,300]))"
   ]
  },
  {
   "cell_type": "code",
   "execution_count": 50,
   "metadata": {},
   "outputs": [],
   "source": [
    "from typing import List, Dict\n",
    "\n",
    "\n",
    "class ConfusionMatrix:\n",
    "    \"\"\"Simple Confusion Matrix class.\"\"\"\n",
    " \n",
    "    def __init__(self, y_truth: List, y_preds: List):\n",
    "        self._y_true = y_truth\n",
    "        self._y_preds = y_preds\n",
    "        if len(self._y_true) != len(self._y_preds):\n",
    "            print('Error: Invalid arrays')\n",
    "        self._calculated = False\n",
    "        self._tn = None\n",
    "        self._fp = None\n",
    "        self._fn = None\n",
    "        self._tp = None\n",
    "    \n",
    "    def reset(self):\n",
    "        \"\"\"Cleans the internal variables\"\"\"\n",
    "        self._calculated = False\n",
    "        self._tn = 0\n",
    "        self._fp = 0\n",
    "        self._fn = 0\n",
    "        self._tp = 0\n",
    "        \n",
    "    def _calculate(self):\n",
    "        self.reset()\n",
    "        true_and_pred = zip(self._y_true, self._y_preds)\n",
    "        for true_val, predicted in true_and_pred:\n",
    "            if true_val==True and predicted==True:\n",
    "                self._tp += 1\n",
    "            elif true_val==True and predicted==False:\n",
    "                self._fn += 1\n",
    "            elif true_val==False and predicted==True:\n",
    "                self._fp += 1\n",
    "            else: # Only one option left.\n",
    "                self._tn += 1\n",
    "        self._calculated = True\n",
    "    \n",
    "    def results(self):\n",
    "        if not self._calculated:\n",
    "            self._calculate()\n",
    "        return [\n",
    "            [self._tp, self._fp], \n",
    "            [self._fn, self._tn]\n",
    "        ]\n",
    "    \n",
    "    def print_results(self):\n",
    "        res = self.results()\n",
    "        print('[')\n",
    "        for row in res:\n",
    "            print(f'  {row}')\n",
    "        print(']')\n",
    "        \n",
    "    def accuracy(self):\n",
    "        if not self._calculated:\n",
    "            self._calculate()\n",
    "        return (self._tp + self._tn)/(self._tp + self._fp + self._fn + self._tn)\n",
    "\n",
    "    def precision(self):\n",
    "        if not self._calculated:\n",
    "            self._calculate()\n",
    "        return self._tp/(self._tp + self._fp)\n",
    "\n",
    "    def recall(self):\n",
    "        if not self._calculated:\n",
    "            self._calculate()\n",
    "        return (self._tp)/(self._tp + self._fn)\n",
    "    \n",
    "    def f1_score(self):\n",
    "        if not self._calculated:\n",
    "            self._calculate()\n",
    "        return 2 * (self.recall() * self.precision()) / (self.recall() + self.precision())\n",
    "  "
   ]
  },
  {
   "cell_type": "code",
   "execution_count": 53,
   "metadata": {},
   "outputs": [
    {
     "name": "stdout",
     "output_type": "stream",
     "text": [
      "[\n",
      "  [3, 2]\n",
      "  [1, 0]\n",
      "]\n",
      "0.5\n"
     ]
    }
   ],
   "source": [
    "from pprint import pprint\n",
    "ground_truth = [1,0,1,1,1,0]\n",
    "predictions = [1,1,1,0,1,1]\n",
    "\n",
    "cm = ConfusionMatrix(y_truth=ground_truth, y_preds=predictions)\n",
    "\n",
    "cm.print_results()\n",
    "print(cm.accuracy())"
   ]
  },
  {
   "cell_type": "code",
   "execution_count": 130,
   "metadata": {},
   "outputs": [
    {
     "name": "stdout",
     "output_type": "stream",
     "text": [
      "[\n",
      "  [3, 2]\n",
      "  [1, 0]\n",
      "]\n"
     ]
    }
   ],
   "source": [
    "ConfusionMatrix.print_results(cm) # Same as calling == cm.print_results()"
   ]
  },
  {
   "cell_type": "code",
   "execution_count": null,
   "metadata": {},
   "outputs": [],
   "source": []
  },
  {
   "cell_type": "markdown",
   "metadata": {},
   "source": [
    "#### Composition"
   ]
  },
  {
   "cell_type": "code",
   "execution_count": 56,
   "metadata": {},
   "outputs": [],
   "source": [
    "class ExperimentResults:\n",
    "    \"\"\"\n",
    "    A new object that contains the old and expand the functionality and delegating some calls to the \n",
    "    old ConfusionMatrix object\n",
    "    \"\"\"\n",
    "    def __init__(self, exp_name: str, cm: ConfusionMatrix):\n",
    "        self._name = exp_name\n",
    "        # Includes an object of type Confusion Matrix\n",
    "        # This is composition as we are composing the old object into the new one.\n",
    "        self._cm = cm\n",
    "        \n",
    "\n",
    "    @staticmethod\n",
    "    def build_from_cm(exp_name: str, cm: ConfusionMatrix):\n",
    "        return ExperimentResults(exp_name, cm)\n",
    "\n",
    "    @staticmethod\n",
    "    def build(exp_name: str, y_true: List, y_preds: List):\n",
    "        cm = ConfusionMatrix(y_true, y_preds)\n",
    "        return ExperimentResults(exp_name, cm)\n",
    "        \n",
    "    def print_confusion_matrix(self):\n",
    "        print(\"{:>20}\".format('Confusion Matrix'))\n",
    "        print('-' * 32)\n",
    "        print(\"{:<10} {:>10} {:>10}\".format('','Positive','Negative'))\n",
    "        res = self._cm.results()\n",
    "        c11, c12 = res[0]\n",
    "        c21, c22 = res[1]\n",
    "        print(\"{:<10} {:>10} {:>10}\".format('Positive',c11, c12))\n",
    "        print(\"{:<10} {:>10} {:>10}\".format('Negative',c21, c22))\n",
    "\n",
    "    def print_report(self):\n",
    "        print(\"{:>20}\".format(self._name))\n",
    "        print('-' * 32)\n",
    "        print(\"{:<10} {:10.3f}\".format('Accuracy',self._cm.accuracy()))\n",
    "        print(\"{:<10} {:10.3f}\".format('Precision',self._cm.precision()))\n",
    "        print(\"{:<10} {:10.3f}\".format('Recall',self._cm.recall()))\n",
    "        print(\"{:<10} {:10.3f}\".format('F1 Score',self._cm.f1_score()))\n",
    "        print(' ')\n",
    "        self.print_confusion_matrix()\n"
   ]
  },
  {
   "cell_type": "code",
   "execution_count": 57,
   "metadata": {},
   "outputs": [
    {
     "name": "stdout",
     "output_type": "stream",
     "text": [
      "        Experiment 1\n",
      "--------------------------------\n",
      "Accuracy        0.250\n",
      "Precision       0.333\n",
      "Recall          0.500\n",
      "F1 Score        0.400\n",
      " \n",
      "    Confusion Matrix\n",
      "--------------------------------\n",
      "             Positive   Negative\n",
      "Positive            1          2\n",
      "Negative            1          0\n"
     ]
    }
   ],
   "source": [
    "exp1 = ExperimentResults.build('Experiment 1', y_true, y_pred)\n",
    "exp1.print_report()"
   ]
  },
  {
   "cell_type": "code",
   "execution_count": 58,
   "metadata": {},
   "outputs": [
    {
     "name": "stdout",
     "output_type": "stream",
     "text": [
      "        Experiment 1\n",
      "--------------------------------\n",
      "Accuracy        0.250\n",
      "Precision       0.333\n",
      "Recall          0.500\n",
      "F1 Score        0.400\n",
      " \n",
      "    Confusion Matrix\n",
      "--------------------------------\n",
      "             Positive   Negative\n",
      "Positive            1          2\n",
      "Negative            1          0\n"
     ]
    }
   ],
   "source": [
    "#Another way to use it.\n",
    "y_true = [0,1,0,1]\n",
    "y_pred = [1,1,1,0]\n",
    "cm = ConfusionMatrix(y_true, y_pred)\n",
    "exp1 = ExperimentResults.build_from_cm('Experiment 1', cm)\n",
    "exp1.print_report()"
   ]
  },
  {
   "cell_type": "markdown",
   "metadata": {},
   "source": [
    "####  Inheritance in Python  "
   ]
  },
  {
   "cell_type": "code",
   "execution_count": 59,
   "metadata": {},
   "outputs": [],
   "source": [
    "class ExtendedCM(ConfusionMatrix):\n",
    "    \"\"\"An extended Confusion Matrix using Inheritance.\"\"\"\n",
    "    def __init__(self, name: str, y_true: List, y_preds: List):\n",
    "        self._name = name\n",
    "        super().__init__(y_true, y_preds)\n",
    "        \n",
    "    def f1_score(self):\n",
    "        \"\"\"Override the original f1_score code.\"\"\"\n",
    "        if not self._calculated:\n",
    "            self._calculate()\n",
    "        return 20*(self.recall() * self.precision()) / (self.recall() + self.precision())\n",
    "\n",
    "    def orig_f1_score(self):\n",
    "        \"\"\"Replicated the code here so we can compare.\"\"\"\n",
    "        if not self._calculated:\n",
    "            self._calculate()\n",
    "        return 2*(self.recall() * self.precision()) / (self.recall() + self.precision())\n",
    "\n",
    "    def report(self):\n",
    "        print(\"{:>20}\".format('--- {0} ---'.format(self._name)))\n",
    "        print('-' * 32)\n",
    "        print(\"{:<10} {:>10} {:>10}\".format('','Positive','Negative'))\n",
    "        res = self.results()\n",
    "        c11, c12 = res[0]\n",
    "        c21, c22 = res[1]\n",
    "        print(\"{:<10} {:>10} {:>10}\".format('Positive',c11, c12))\n",
    "        print(\"{:<10} {:>10} {:>10}\".format('Negative',c21, c22))\n",
    "        print(\" \")\n",
    "        print(\"{:<10} {:10.3f}\".format('Accuracy',self.accuracy()))\n",
    "        print(\"{:<10} {:10.3f}\".format('New F1',self.f1_score()))\n",
    "        print(\"{:<10} {:10.3f}\".format('Orig F1',self.orig_f1_score()))\n"
   ]
  },
  {
   "cell_type": "code",
   "execution_count": 60,
   "metadata": {},
   "outputs": [
    {
     "name": "stdout",
     "output_type": "stream",
     "text": [
      "[[3, 2], [1, 0]]\n",
      "--- My Extended CM ---\n",
      "--------------------------------\n",
      "             Positive   Negative\n",
      "Positive            3          2\n",
      "Negative            1          0\n",
      " \n",
      "Accuracy        0.500\n",
      "New F1          6.667\n",
      "Orig F1         0.667\n"
     ]
    }
   ],
   "source": [
    "y_true = [1,0,1,1,1,0]\n",
    "y_pred = [1,1,1,0,1,1]\n",
    "\n",
    "cm = ExtendedCM('My Extended CM', y_true, y_pred)\n",
    "print(cm.results())\n",
    "cm.report()"
   ]
  },
  {
   "cell_type": "markdown",
   "metadata": {},
   "source": [
    "#### Interfaces and Abstract classes"
   ]
  },
  {
   "cell_type": "code",
   "execution_count": 62,
   "metadata": {},
   "outputs": [
    {
     "name": "stdout",
     "output_type": "stream",
     "text": [
      "                              \n",
      "--[[ 20 mile trip that does require jumping     ]]--\n",
      " A Dog takes 2.5 hours to get there.\n",
      " A Horse takes 1.0 hours to get there.\n",
      " A Chicken will never get there!\n",
      "                              \n",
      "--[[ 10 mile trip that does not require jumping ]]--\n",
      " A Dog takes 1.25 hours to get there.\n",
      " A Horse takes 0.5 hours to get there.\n",
      " A Chicken takes 10.0 hours to get there.\n"
     ]
    }
   ],
   "source": [
    "from abc import ABC, abstractmethod\n",
    " \n",
    "class Animal(ABC):\n",
    "    \"\"\"\n",
    "    This abstract class acts like an interface.\n",
    "    Python does not enforces but suggests that you need to implement it.\n",
    "    \"\"\"\n",
    " \n",
    "    @abstractmethod\n",
    "    def __str__(self):\n",
    "        pass\n",
    "    \n",
    "    @abstractmethod\n",
    "    def get_speed(self):\n",
    "        \"\"\"\n",
    "        Return the animal speed in miles per hour.\n",
    "        \"\"\"\n",
    "        pass\n",
    " \n",
    "    @abstractmethod\n",
    "    def can_jump(self):\n",
    "        \"\"\"\n",
    "        Returns true if the animal can jump.\n",
    "        \"\"\"\n",
    "        pass\n",
    "\n",
    "    \n",
    "class Dog(Animal):\n",
    "    def __str__(self):\n",
    "        return 'Dog'\n",
    "        \n",
    "    def get_speed(self):\n",
    "        return 8\n",
    "\n",
    "    def can_jump(self):\n",
    "        return True\n",
    "\n",
    "\n",
    "class Horse(Animal):\n",
    "    def __str__(self):\n",
    "        return 'Horse'\n",
    "        \n",
    "    def get_speed(self):\n",
    "        return 20\n",
    "\n",
    "    def can_jump(self):\n",
    "        return True\n",
    "\n",
    "\n",
    "class Chicken(Animal):\n",
    "    def __str__(self):\n",
    "        return 'Chicken'\n",
    "\n",
    "    def get_speed(self):\n",
    "        return 1\n",
    "\n",
    "    def can_jump(self):\n",
    "        return False\n",
    "\n",
    "    \n",
    "class Virus:\n",
    "    \"\"\"Virus is not an animal and does not behave like an animal\"\"\"\n",
    "    def __str__(self):\n",
    "        return 'Virus'\n",
    "\n",
    "\n",
    "class Ameba:\n",
    "    \"\"\"\n",
    "    Notice that ameba is not an animal!!\n",
    "    But behaves like one.\n",
    "    \"\"\"\n",
    "    def __str__(self):\n",
    "        return 'Ameba'\n",
    "    \n",
    "    def get_speed(self):\n",
    "        return 0.0001\n",
    "\n",
    "    def can_jump(self):\n",
    "        return False\n",
    "\n",
    "\n",
    "def describe_time_to_home(animal, x_miles, needs_to_jump):\n",
    "    if needs_to_jump and (not animal.can_jump()):\n",
    "        print(' A {0} will never get there!'.format(str(animal)))\n",
    "    else:\n",
    "        travel_time = x_miles / animal.get_speed()\n",
    "        print(' A {0} takes {1:,} hours to get there.'.format(str(animal), travel_time))\n",
    "\n",
    "def report_trip_times(animal_list, distance, requires_jumping):\n",
    "    if requires_jumping:\n",
    "        jump_str = ' '\n",
    "    else:\n",
    "        jump_str = ' not '\n",
    "    print(' ' * 30)\n",
    "    msg = '{0:,} mile trip that does{1}require jumping'.format(distance, jump_str).ljust(42)\n",
    "    print(f'--[[ {msg} ]]--') \n",
    "    for the_animal in animal_list:\n",
    "        describe_time_to_home(the_animal, distance, requires_jumping)\n",
    "\n",
    "animals = [Dog(), Horse(), Chicken()]\n",
    "\n",
    "report_trip_times(animals, 20, requires_jumping=True)\n",
    "report_trip_times(animals, 10, requires_jumping=False)\n"
   ]
  },
  {
   "cell_type": "code",
   "execution_count": 64,
   "metadata": {},
   "outputs": [
    {
     "name": "stdout",
     "output_type": "stream",
     "text": [
      "                              \n",
      "--[[ 10 mile trip that does not require jumping ]]--\n",
      " A Ameba takes 100,000.0 hours to get there.\n"
     ]
    },
    {
     "ename": "AttributeError",
     "evalue": "'Virus' object has no attribute 'get_speed'",
     "output_type": "error",
     "traceback": [
      "\u001b[0;31m---------------------------------------------------------------------------\u001b[0m",
      "\u001b[0;31mAttributeError\u001b[0m                            Traceback (most recent call last)",
      "Cell \u001b[0;32mIn [64], line 4\u001b[0m\n\u001b[1;32m      1\u001b[0m \u001b[38;5;66;03m# Python will try to run and crash because the method is not found.\u001b[39;00m\n\u001b[1;32m      3\u001b[0m other_animal \u001b[38;5;241m=\u001b[39m [Ameba(), Virus()]\n\u001b[0;32m----> 4\u001b[0m \u001b[43mreport_trip_times\u001b[49m\u001b[43m(\u001b[49m\u001b[43mother_animal\u001b[49m\u001b[43m,\u001b[49m\u001b[43m \u001b[49m\u001b[38;5;241;43m10\u001b[39;49m\u001b[43m,\u001b[49m\u001b[43m \u001b[49m\u001b[43mrequires_jumping\u001b[49m\u001b[38;5;241;43m=\u001b[39;49m\u001b[38;5;28;43;01mFalse\u001b[39;49;00m\u001b[43m)\u001b[49m\n\u001b[1;32m      5\u001b[0m \u001b[38;5;66;03m# Accepts the Ameba and crashes in the Virus.\u001b[39;00m\n",
      "Cell \u001b[0;32mIn [62], line 98\u001b[0m, in \u001b[0;36mreport_trip_times\u001b[0;34m(animal_list, distance, requires_jumping)\u001b[0m\n\u001b[1;32m     96\u001b[0m \u001b[38;5;28mprint\u001b[39m(\u001b[38;5;124mf\u001b[39m\u001b[38;5;124m'\u001b[39m\u001b[38;5;124m--[[ \u001b[39m\u001b[38;5;132;01m{\u001b[39;00mmsg\u001b[38;5;132;01m}\u001b[39;00m\u001b[38;5;124m ]]--\u001b[39m\u001b[38;5;124m'\u001b[39m) \n\u001b[1;32m     97\u001b[0m \u001b[38;5;28;01mfor\u001b[39;00m the_animal \u001b[38;5;129;01min\u001b[39;00m animal_list:\n\u001b[0;32m---> 98\u001b[0m     \u001b[43mdescribe_time_to_home\u001b[49m\u001b[43m(\u001b[49m\u001b[43mthe_animal\u001b[49m\u001b[43m,\u001b[49m\u001b[43m \u001b[49m\u001b[43mdistance\u001b[49m\u001b[43m,\u001b[49m\u001b[43m \u001b[49m\u001b[43mrequires_jumping\u001b[49m\u001b[43m)\u001b[49m\n",
      "Cell \u001b[0;32mIn [62], line 86\u001b[0m, in \u001b[0;36mdescribe_time_to_home\u001b[0;34m(animal, x_miles, needs_to_jump)\u001b[0m\n\u001b[1;32m     84\u001b[0m     \u001b[38;5;28mprint\u001b[39m(\u001b[38;5;124m'\u001b[39m\u001b[38;5;124m A \u001b[39m\u001b[38;5;132;01m{0}\u001b[39;00m\u001b[38;5;124m will never get there!\u001b[39m\u001b[38;5;124m'\u001b[39m\u001b[38;5;241m.\u001b[39mformat(\u001b[38;5;28mstr\u001b[39m(animal)))\n\u001b[1;32m     85\u001b[0m \u001b[38;5;28;01melse\u001b[39;00m:\n\u001b[0;32m---> 86\u001b[0m     travel_time \u001b[38;5;241m=\u001b[39m x_miles \u001b[38;5;241m/\u001b[39m \u001b[43manimal\u001b[49m\u001b[38;5;241;43m.\u001b[39;49m\u001b[43mget_speed\u001b[49m()\n\u001b[1;32m     87\u001b[0m     \u001b[38;5;28mprint\u001b[39m(\u001b[38;5;124m'\u001b[39m\u001b[38;5;124m A \u001b[39m\u001b[38;5;132;01m{0}\u001b[39;00m\u001b[38;5;124m takes \u001b[39m\u001b[38;5;132;01m{1:,}\u001b[39;00m\u001b[38;5;124m hours to get there.\u001b[39m\u001b[38;5;124m'\u001b[39m\u001b[38;5;241m.\u001b[39mformat(\u001b[38;5;28mstr\u001b[39m(animal), travel_time))\n",
      "\u001b[0;31mAttributeError\u001b[0m: 'Virus' object has no attribute 'get_speed'"
     ]
    }
   ],
   "source": [
    "# Python will try to run and crash because the method is not found.\n",
    "\n",
    "other_animal = [Ameba(), Virus()]\n",
    "report_trip_times(other_animal, 10, requires_jumping=False)\n",
    "# Accepts the Ameba and crashes in the Virus.\n"
   ]
  },
  {
   "cell_type": "code",
   "execution_count": 4,
   "metadata": {},
   "outputs": [],
   "source": [
    "def sep():\n",
    "    print('-' * 50)\n",
    "\n",
    "class ClassMethodTest:\n",
    "    static_var = 'Static Var value'\n",
    "    \n",
    "    def __init__(self):\n",
    "        self.object_var = 'Object variable value'\n",
    "        \n",
    "    @staticmethod\n",
    "    def static_method():\n",
    "        method_type = 'Static method'\n",
    "        caller = '-'\n",
    "        sep()\n",
    "        print(f'[{method_type}] \\nCaller: {caller} \\nVariables: ()')\n",
    "        # print(ClassMethodTest.static_var)\n",
    "\n",
    "    @classmethod\n",
    "    def class_method(cls):\n",
    "        method_type = 'Class method'\n",
    "        caller = type(cls)\n",
    "        sep()\n",
    "        print(f'[{method_type}] \\nCaller: {caller} \\nVariables: ({cls.static_var})')\n",
    "        \n",
    "\n",
    "    def regular_method(self):\n",
    "        method_type = 'Regular'\n",
    "        caller = type(self)\n",
    "        sep()\n",
    "        print(f'[{method_type}] \\nCaller: {caller} \\nVariables: ({self.object_var}, {self.static_var})')\n",
    "    \n",
    "        \n",
    "    def test_vars(self):\n",
    "        ClassMethodTest.static_method()\n",
    "        self.class_method()\n",
    "        self.regular_method()\n",
    "        \n",
    "  \n",
    "    @classmethod\n",
    "    def test_from_class(cls):\n",
    "        try:\n",
    "            print(cls.regular_method())\n",
    "        except Exception:\n",
    "            print('Cannot call regular methods from class methods')\n",
    "        \n",
    "\n",
    "class ClassMethodSon(ClassMethodTest):\n",
    "    pass"
   ]
  },
  {
   "cell_type": "code",
   "execution_count": 5,
   "metadata": {},
   "outputs": [
    {
     "name": "stdout",
     "output_type": "stream",
     "text": [
      "--------------------------------------------------\n",
      "[Static method] \n",
      "Caller: - \n",
      "Variables: ()\n",
      "--------------------------------------------------\n",
      "[Class method] \n",
      "Caller: <class 'type'> \n",
      "Variables: (Static Var value)\n",
      "--------------------------------------------------\n",
      "[Regular] \n",
      "Caller: <class '__main__.ClassMethodTest'> \n",
      "Variables: (Object variable value, Static Var value)\n"
     ]
    }
   ],
   "source": [
    "# Calling methods from an object.\n",
    "c = ClassMethodTest()\n",
    "c.test_vars()"
   ]
  },
  {
   "cell_type": "code",
   "execution_count": 140,
   "metadata": {},
   "outputs": [
    {
     "name": "stdout",
     "output_type": "stream",
     "text": [
      "--------------------------------------------------\n",
      "[Static method] \n",
      "Caller: - \n",
      "Variables: ()\n",
      "--------------------------------------------------\n",
      "[Static method] \n",
      "Caller: - \n",
      "Variables: ()\n"
     ]
    }
   ],
   "source": [
    "# Calling static method\n",
    "ClassMethodSon.static_method()\n",
    "ClassMethodTest.static_method()"
   ]
  },
  {
   "cell_type": "code",
   "execution_count": 141,
   "metadata": {},
   "outputs": [
    {
     "name": "stdout",
     "output_type": "stream",
     "text": [
      "--------------------------------------------------\n",
      "[Class method] \n",
      "Caller: <class 'type'> \n",
      "Variables: (Static Var value)\n",
      "--------------------------------------------------\n",
      "[Class method] \n",
      "Caller: <class 'type'> \n",
      "Variables: (Static Var value)\n"
     ]
    }
   ],
   "source": [
    "# Calling static method\n",
    "ClassMethodSon.class_method()\n",
    "ClassMethodTest.class_method()"
   ]
  },
  {
   "cell_type": "code",
   "execution_count": 142,
   "metadata": {},
   "outputs": [
    {
     "name": "stdout",
     "output_type": "stream",
     "text": [
      "--------------------------------------------------\n",
      "[Regular] \n",
      "Caller: <class '__main__.ClassMethodSon'> \n",
      "Variables: (Object variable value, Static Var value)\n",
      "--------------------------------------------------\n",
      "[Regular] \n",
      "Caller: <class '__main__.ClassMethodTest'> \n",
      "Variables: (Object variable value, Static Var value)\n"
     ]
    }
   ],
   "source": [
    "# Calling regular method\n",
    "ClassMethodSon().regular_method()\n",
    "ClassMethodTest().regular_method()"
   ]
  },
  {
   "cell_type": "code",
   "execution_count": 143,
   "metadata": {},
   "outputs": [
    {
     "name": "stdout",
     "output_type": "stream",
     "text": [
      "Static Var value\n",
      "Static Var value\n"
     ]
    }
   ],
   "source": [
    "print(ClassMethodSon.static_var)\n",
    "print(ClassMethodTest.static_var)\n"
   ]
  },
  {
   "cell_type": "code",
   "execution_count": null,
   "metadata": {},
   "outputs": [],
   "source": []
  },
  {
   "cell_type": "code",
   "execution_count": 144,
   "metadata": {},
   "outputs": [
    {
     "name": "stdout",
     "output_type": "stream",
     "text": [
      "Cannot call regular methods from class methods\n"
     ]
    }
   ],
   "source": [
    "ClassMethodTest.test_from_class()"
   ]
  },
  {
   "cell_type": "code",
   "execution_count": null,
   "metadata": {},
   "outputs": [],
   "source": []
  }
 ],
 "metadata": {
  "kernelspec": {
   "display_name": "Python 3 (ipykernel)",
   "language": "python",
   "name": "python3"
  },
  "language_info": {
   "codemirror_mode": {
    "name": "ipython",
    "version": 3
   },
   "file_extension": ".py",
   "mimetype": "text/x-python",
   "name": "python",
   "nbconvert_exporter": "python",
   "pygments_lexer": "ipython3",
   "version": "3.10.6"
  }
 },
 "nbformat": 4,
 "nbformat_minor": 4
}
