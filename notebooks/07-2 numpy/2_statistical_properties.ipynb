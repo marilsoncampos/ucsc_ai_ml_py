{
 "cells": [
  {
   "cell_type": "markdown",
   "metadata": {},
   "source": [
    "#### Numpy statistical properties."
   ]
  },
  {
   "cell_type": "code",
   "execution_count": 2,
   "metadata": {},
   "outputs": [],
   "source": [
    "import numpy as np"
   ]
  },
  {
   "cell_type": "code",
   "execution_count": 3,
   "metadata": {},
   "outputs": [
    {
     "name": "stdout",
     "output_type": "stream",
     "text": [
      "[[ 5  7  9  8]\n",
      " [ 3 -6 11 10]\n",
      " [ 2 -8 13  5]]\n",
      "-8\n",
      "[ 2 -8  9  5]\n",
      "[ 5 -6 -8]\n"
     ]
    }
   ],
   "source": [
    "# min() will return the minimum value \n",
    "\n",
    "a = np.array([[5, 7, 9, 8], [3, -6, 11, 10], [2, -8, 13, 5]])\n",
    "print(a)\n",
    "print(np.min(a))\n",
    "print(np.min(a, 0)) # along the columns\n",
    "print(np.min(a, 1)) # along the rows"
   ]
  },
  {
   "cell_type": "code",
   "execution_count": 5,
   "metadata": {},
   "outputs": [
    {
     "name": "stdout",
     "output_type": "stream",
     "text": [
      "[[ 5  7  9  8]\n",
      " [ 3 -6 11 10]\n",
      " [ 2 -8 13  5]]\n",
      "-8\n",
      "[ 2 -8  9  5]\n",
      "[ 5 -6 -8]\n"
     ]
    }
   ],
   "source": [
    "# To better document your code \n",
    "# Create constants like below.\n",
    "BY_COLUMN = 0\n",
    "BY_ROW = 1\n",
    "\n",
    "a = np.array([[5, 7, 9, 8], [3, -6, 11, 10], [2, -8, 13, 5]])\n",
    "print(a)\n",
    "print(np.min(a))\n",
    "print(np.min(a, BY_COLUMN)) \n",
    "print(np.min(a, BY_ROW))"
   ]
  },
  {
   "cell_type": "code",
   "execution_count": 7,
   "metadata": {},
   "outputs": [
    {
     "name": "stdout",
     "output_type": "stream",
     "text": [
      "[[ 5  7  9  8]\n",
      " [ 3  6 11 10]\n",
      " [ 2  9 13  5]]\n",
      "13\n",
      "[ 5  9 13 10]\n",
      "[ 9 11 13]\n"
     ]
    }
   ],
   "source": [
    "# max() will return the maximum value\n",
    "\n",
    "a = np.array([[5, 7, 9, 8], [3, 6, 11, 10], [2, 9, 13, 5]])\n",
    "print(a)\n",
    "print(np.max(a))\n",
    "print(np.max(a, BY_COLUMN))\n",
    "print(np.max(a, BY_ROW))"
   ]
  },
  {
   "cell_type": "code",
   "execution_count": 5,
   "metadata": {},
   "outputs": [
    {
     "name": "stdout",
     "output_type": "stream",
     "text": [
      "[[ 5  7  9]\n",
      " [ 3 -6 11]\n",
      " [ 2 -8 13]]\n",
      "21\n",
      "[ 3 15  4]\n",
      "[ 4 17 21]\n"
     ]
    }
   ],
   "source": [
    "# ptp() returns the max value minus min value along a specified axis\n",
    "\n",
    "a = np.array([[5, 7, 9], [3, -6, 11], [2, -8, 13]])\n",
    "print(a)\n",
    "print(np.ptp(a))\n",
    "print(np.ptp(a, BY_COLUMN)) \n",
    "print(np.ptp(a, BY_ROW))"
   ]
  },
  {
   "cell_type": "code",
   "execution_count": null,
   "metadata": {},
   "outputs": [],
   "source": [
    "# 10, 23, 5, 7, 1, 50\n",
    "\n",
    "1, 5, 7, 10, 23, 50\n",
    "\n",
    "7+10/2 = 8.5 median\n",
    "\n",
    "\n",
    "1,..      ...... 20  .100\n",
    "22, 23, 45,      85"
   ]
  },
  {
   "cell_type": "code",
   "execution_count": 6,
   "metadata": {},
   "outputs": [
    {
     "name": "stdout",
     "output_type": "stream",
     "text": [
      "[[20 10 50]\n",
      " [30 50 70]\n",
      " [60 40 10]]\n",
      "40.0\n",
      "[30. 40. 50.]\n",
      "[20. 50. 40.]\n"
     ]
    }
   ],
   "source": [
    "\"\"\"\n",
    "For percentile, the values have to be arranged in ascending order and \n",
    "for this example, we then pick 50th percentile\n",
    "\"\"\"\n",
    "\n",
    "a = np.array([[20, 10, 50], [30, 50, 70], [60, 40, 10]])\n",
    "print(a)\n",
    "print(np.percentile(a, 50))\n",
    "print(np.percentile(a, 50, axis=BY_COLUMN)) \n",
    "print(np.percentile(a, 50, axis=BY_ROW))\n"
   ]
  },
  {
   "cell_type": "code",
   "execution_count": 6,
   "metadata": {},
   "outputs": [
    {
     "name": "stdout",
     "output_type": "stream",
     "text": [
      "[[20 10 50]\n",
      " [30 50 70]\n",
      " [60 40 10]]\n",
      "37.77777777777778\n",
      "[36.66666667 33.33333333 43.33333333]\n",
      "[26.66666667 50.         36.66666667]\n"
     ]
    }
   ],
   "source": [
    "# mean() turns the mean or the average\n",
    "\n",
    "a = np.array([[20, 10, 50], [30, 50, 70], [60, 40, 10]])\n",
    "print(a)\n",
    "print(np.mean(a))\n",
    "print(np.mean(a, axis=BY_COLUMN)) \n",
    "print(np.mean(a, axis=BY_ROW))"
   ]
  },
  {
   "cell_type": "code",
   "execution_count": 7,
   "metadata": {},
   "outputs": [
    {
     "name": "stdout",
     "output_type": "stream",
     "text": [
      "[[20 10 50]\n",
      " [30 50 70]\n",
      " [60 40 10]]\n",
      "40.0\n",
      "[30. 40. 50.]\n",
      "[20. 50. 40.]\n"
     ]
    }
   ],
   "source": [
    "# median() returns the median \n",
    "\n",
    "a = np.array([[20, 10, 50], [30, 50, 70], [60, 40, 10]])\n",
    "print(a)\n",
    "print(np.median(a))\n",
    "print(np.median(a, axis=BY_COLUMN)) # along the columns\n",
    "print(np.median(a, axis=BY_ROW)) # along the rows"
   ]
  },
  {
   "cell_type": "code",
   "execution_count": 9,
   "metadata": {},
   "outputs": [
    {
     "name": "stdout",
     "output_type": "stream",
     "text": [
      "2.0\n"
     ]
    }
   ],
   "source": [
    "# determining average using weights\n",
    "\n",
    "a = np.array([1, 2, 3, 4])\n",
    "wts = np.array([4, 3, 2, 1])\n",
    "print(np.average(a, weights=wts))\n",
    "\n",
    "# (1*4) + (2*3) + (3*2) + (4*1) = 20 \n",
    "# 20 / total in weights = 20/10 = 2"
   ]
  },
  {
   "cell_type": "code",
   "execution_count": 10,
   "metadata": {},
   "outputs": [
    {
     "name": "stdout",
     "output_type": "stream",
     "text": [
      "(2.0, 10.0)\n"
     ]
    }
   ],
   "source": [
    "# determining average using weights\n",
    "# when returned = True, it returns the average value as well as the \n",
    "# sum of the weights\n",
    "\n",
    "a = np.array([1, 2, 3, 4])\n",
    "wts = np.array([4, 3, 2, 1])\n",
    "print(np.average(a, weights=wts, returned = True))"
   ]
  },
  {
   "cell_type": "code",
   "execution_count": 11,
   "metadata": {},
   "outputs": [
    {
     "name": "stdout",
     "output_type": "stream",
     "text": [
      "3.0\n",
      "1.4142135623730951\n"
     ]
    }
   ],
   "source": [
    "# standard deviation is the square root of average of squared deviations \n",
    "# from the mean\n",
    "\n",
    "a = np.array([1, 2, 3, 4, 5])\n",
    "print(np.mean(a))\n",
    "print(np.std(a))\n",
    "# this value is nothing but the square root of 2."
   ]
  },
  {
   "cell_type": "markdown",
   "metadata": {},
   "source": [
    "**Example 1**\n",
    "Create an ndarray with values [2, -4, 6], [7, 4, 8] and [5, 10, 4]. \n",
    "\n",
    "Determine the following calculation along the rows and columns of the matrix:\n",
    "\n",
    " - Maximum values.\n",
    " - Minimum values.\n",
    " - Mean values\n",
    " - The standard deviation values\n",
    " "
   ]
  },
  {
   "cell_type": "code",
   "execution_count": 8,
   "metadata": {},
   "outputs": [
    {
     "name": "stdout",
     "output_type": "stream",
     "text": [
      "[[2 3]\n",
      " [5 6]\n",
      " [1 1]]\n",
      "Column max = [5 6]\n",
      "Row max    = [3 6 1]\n"
     ]
    }
   ],
   "source": [
    "# Maximum \n",
    "a = np.array([[2, 3],[5, 6],[1, 1]])\n",
    "print(a)\n",
    "print('Column max = {0}'.format(a.max(axis = BY_COLUMN)))\n",
    "print('Row max    = {0}'.format(a.max(axis = BY_ROW)))"
   ]
  },
  {
   "cell_type": "code",
   "execution_count": 9,
   "metadata": {},
   "outputs": [
    {
     "name": "stdout",
     "output_type": "stream",
     "text": [
      "[[2 3]\n",
      " [5 6]\n",
      " [1 1]]\n",
      "Column min = [1 1]\n",
      "Row min    = [2 5 1]\n"
     ]
    }
   ],
   "source": [
    "# Minimum \n",
    "a = np.array([[2, 3],[5, 6],[1, 1]])\n",
    "print(a)\n",
    "print('Column min = {0}'.format(a.min(axis = BY_COLUMN)))\n",
    "print('Row min    = {0}'.format(a.min(axis = BY_ROW)))"
   ]
  },
  {
   "cell_type": "code",
   "execution_count": 10,
   "metadata": {
    "scrolled": true
   },
   "outputs": [
    {
     "name": "stdout",
     "output_type": "stream",
     "text": [
      "[[2 3]\n",
      " [5 6]\n",
      " [1 1]]\n",
      "Column mean = [2.66666667 3.33333333]\n",
      "Row mean    = [2.5 5.5 1. ]\n"
     ]
    }
   ],
   "source": [
    "# Mean \n",
    "a = np.array([[2, 3],[5, 6],[1, 1]])\n",
    "print(a)\n",
    "print('Column mean = {0}'.format(a.mean(axis = BY_COLUMN)))\n",
    "print('Row mean    = {0}'.format(a.mean(axis = BY_ROW)))"
   ]
  },
  {
   "cell_type": "code",
   "execution_count": 11,
   "metadata": {},
   "outputs": [
    {
     "name": "stdout",
     "output_type": "stream",
     "text": [
      "[[2 3]\n",
      " [5 6]\n",
      " [1 1]]\n",
      "Column std = [1.69967317 2.05480467]\n",
      "Row std    = [0.5 0.5 0. ]\n"
     ]
    }
   ],
   "source": [
    "# Std \n",
    "a = np.array([[2, 3],[5, 6],[1, 1]])\n",
    "print(a)\n",
    "print('Column std = {0}'.format(a.std(axis = BY_COLUMN)))\n",
    "print('Row std    = {0}'.format(a.std(axis = BY_ROW)))"
   ]
  },
  {
   "cell_type": "code",
   "execution_count": 9,
   "metadata": {},
   "outputs": [
    {
     "name": "stdout",
     "output_type": "stream",
     "text": [
      "\n",
      " === Maxinum ===\n",
      "\n",
      "By Column : [5 6]\n",
      "By Row    : [3 6 1]\n",
      "\n",
      " === Minimum ===\n",
      "\n",
      "By Column : [1 1]\n",
      "By Row    : [2 5 1]\n",
      "\n",
      " === Mean ===\n",
      "\n",
      "By Column : [2.66666667 3.33333333]\n",
      "By Row    : [2.5 5.5 1. ]\n"
     ]
    }
   ],
   "source": [
    "# All operations in one code\n",
    "from dataclasses import dataclass\n",
    "\n",
    "@dataclass\n",
    "class Calculation:\n",
    "    name: str\n",
    "    call: callable\n",
    "\n",
    "operations = [\n",
    "    Calculation(\"Maxinum\", np.max), \n",
    "    Calculation('Minimum', np.min),\n",
    "    Calculation('Mean', np.mean)]\n",
    "a = np.array([[2, 3],[5, 6],[1, 1]])\n",
    "for op in operations:\n",
    "    print(f'\\n === {op.name} ===\\n')\n",
    "    print('By Column : {0}'.format(op.call(a, axis = BY_COLUMN)))\n",
    "    print('By Row    : {0}'.format(op.call(a, axis = BY_ROW)))\n",
    "    "
   ]
  },
  {
   "cell_type": "code",
   "execution_count": null,
   "metadata": {},
   "outputs": [],
   "source": []
  }
 ],
 "metadata": {
  "kernelspec": {
   "display_name": "Python 3 (ipykernel)",
   "language": "python",
   "name": "python3"
  },
  "language_info": {
   "codemirror_mode": {
    "name": "ipython",
    "version": 3
   },
   "file_extension": ".py",
   "mimetype": "text/x-python",
   "name": "python",
   "nbconvert_exporter": "python",
   "pygments_lexer": "ipython3",
   "version": "3.10.6"
  }
 },
 "nbformat": 4,
 "nbformat_minor": 4
}
