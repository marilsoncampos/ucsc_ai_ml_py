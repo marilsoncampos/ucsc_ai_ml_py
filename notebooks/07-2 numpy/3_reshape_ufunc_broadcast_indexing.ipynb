{
 "cells": [
  {
   "cell_type": "markdown",
   "metadata": {},
   "source": [
    "In this notebook we will discuss the following:\n",
    "    \n",
    "- Reshape\n",
    "\n",
    "- Resize\n",
    "\n",
    "- ravel\n",
    "\n",
    "- flatten\n",
    "\n",
    "- ufunc\n",
    "\n",
    "- broadcast\n",
    "\n",
    "- indexing"
   ]
  },
  {
   "cell_type": "code",
   "execution_count": 4,
   "metadata": {},
   "outputs": [],
   "source": [
    "import numpy as np\n",
    "import inspect\n",
    "\n",
    "def print_name_value(variable):\n",
    "    frame = inspect.currentframe()\n",
    "    frame = inspect.getouterframes(frame)[1]\n",
    "    ctx = inspect.getframeinfo(frame[0]).code_context[0].strip()\n",
    "    single_arg = ctx[ctx.find('(') + 1:-1].split(',')[0]\n",
    "    mem_variable = id(variable)\n",
    "    print(f'{single_arg}:\\n{variable}')"
   ]
  },
  {
   "cell_type": "code",
   "execution_count": 5,
   "metadata": {},
   "outputs": [
    {
     "name": "stdout",
     "output_type": "stream",
     "text": [
      "a:\n",
      "[ 0  1  2  3  4  5  6  7  8  9 10 11]\n",
      "Num dimensions = 1\n"
     ]
    }
   ],
   "source": [
    "# ndim will return number of ndarray dimensions\n",
    "a = np.arange(12)\n",
    "print_name_value(a) \n",
    "print(f'Num dimensions = {a.ndim}')"
   ]
  },
  {
   "cell_type": "code",
   "execution_count": 6,
   "metadata": {},
   "outputs": [
    {
     "name": "stdout",
     "output_type": "stream",
     "text": [
      "[[ 2  5]\n",
      " [ 8 11]\n",
      " [ 4 17]]\n",
      "Num dimensions = 2\n"
     ]
    }
   ],
   "source": [
    "b = np.array([[2, 5], [8, 11], [4, 17]])\n",
    "print(b)\n",
    "print(f'Num dimensions = {b.ndim}')"
   ]
  },
  {
   "cell_type": "code",
   "execution_count": 7,
   "metadata": {},
   "outputs": [],
   "source": [
    "# b.shape"
   ]
  },
  {
   "cell_type": "code",
   "execution_count": 36,
   "metadata": {},
   "outputs": [
    {
     "name": "stdout",
     "output_type": "stream",
     "text": [
      "a:\n",
      "[0 1 2 3 4 5 6 7]\n",
      "b:\n",
      "[[0 1 2 3]\n",
      " [4 5 6 7]]\n"
     ]
    }
   ],
   "source": [
    "# reshape() will reshape the array into the specified shape\n",
    "a = np.arange(8) # we are creating an array with value 0, 1,..., 7\n",
    "b = a.reshape((2, 4)) # Change the array to size 2x4 \n",
    "print_name_value(a)\n",
    "print_name_value(b) \n",
    "\n",
    "# this works because 2*4 = 8 "
   ]
  },
  {
   "cell_type": "code",
   "execution_count": 8,
   "metadata": {},
   "outputs": [
    {
     "name": "stdout",
     "output_type": "stream",
     "text": [
      "a1:\n",
      "[0 1 2 3 4 5 6 7 8]\n"
     ]
    },
    {
     "ename": "ValueError",
     "evalue": "cannot reshape array of size 9 into shape (2,4)",
     "output_type": "error",
     "traceback": [
      "\u001b[0;31m---------------------------------------------------------------------------\u001b[0m",
      "\u001b[0;31mValueError\u001b[0m                                Traceback (most recent call last)",
      "Cell \u001b[0;32mIn [8], line 3\u001b[0m\n\u001b[1;32m      1\u001b[0m a1 \u001b[38;5;241m=\u001b[39m np\u001b[38;5;241m.\u001b[39marange(\u001b[38;5;241m9\u001b[39m)\n\u001b[1;32m      2\u001b[0m print_name_value(a1)\n\u001b[0;32m----> 3\u001b[0m b1 \u001b[38;5;241m=\u001b[39m \u001b[43ma1\u001b[49m\u001b[38;5;241;43m.\u001b[39;49m\u001b[43mreshape\u001b[49m\u001b[43m(\u001b[49m\u001b[43m(\u001b[49m\u001b[38;5;241;43m2\u001b[39;49m\u001b[43m,\u001b[49m\u001b[43m \u001b[49m\u001b[38;5;241;43m4\u001b[39;49m\u001b[43m)\u001b[49m\u001b[43m)\u001b[49m \u001b[38;5;66;03m# Change the array to size 2x4 \u001b[39;00m\n\u001b[1;32m      4\u001b[0m print_name_value(b1) \n\u001b[1;32m      6\u001b[0m \u001b[38;5;66;03m# This cell failed because 2*4 is not equal to 10\u001b[39;00m\n",
      "\u001b[0;31mValueError\u001b[0m: cannot reshape array of size 9 into shape (2,4)"
     ]
    }
   ],
   "source": [
    "a1 = np.arange(9)\n",
    "print_name_value(a1)\n",
    "b1 = a1.reshape((2, 4)) # Change the array to size 2x4 \n",
    "print_name_value(b1) \n",
    "\n",
    "# This cell failed because 2*4 is not equal to 10"
   ]
  },
  {
   "cell_type": "code",
   "execution_count": 9,
   "metadata": {},
   "outputs": [
    {
     "name": "stdout",
     "output_type": "stream",
     "text": [
      "a:\n",
      "[ 0  1  2  3  4  5  6  7  8  9 10 11]\n",
      "c:\n",
      "None\n",
      "a:\n",
      "[[0 1]\n",
      " [2 3]\n",
      " [4 5]\n",
      " [6 7]]\n"
     ]
    }
   ],
   "source": [
    "# Note: Always check if operation is 'inplace' or if returns a new object.\n",
    "a = np.arange(12)\n",
    "print_name_value(a) \n",
    "\n",
    "c = a.resize((4,2))\n",
    "print_name_value(c) \n",
    "# the above line will return None as resize modifies \"inplace\" \n",
    "# while reshape creates a new array \n",
    "print_name_value(a)"
   ]
  },
  {
   "cell_type": "code",
   "execution_count": 10,
   "metadata": {},
   "outputs": [
    {
     "name": "stdout",
     "output_type": "stream",
     "text": [
      "b:\n",
      "[0 1 2 3 4 5 6 7 8]\n",
      "b:\n",
      "[[0 1 2]\n",
      " [3 4 5]\n",
      " [6 7 8]]\n"
     ]
    }
   ],
   "source": [
    "b = np.arange(9)\n",
    "print_name_value(b)\n",
    "b.resize((3,3))\n",
    "print_name_value(b)"
   ]
  },
  {
   "cell_type": "code",
   "execution_count": 11,
   "metadata": {},
   "outputs": [
    {
     "name": "stdout",
     "output_type": "stream",
     "text": [
      "flat_b:\n",
      "[0 1 2 3 4 5 6 7 8]\n",
      "b:\n",
      "[[0 1 2]\n",
      " [3 4 5]\n",
      " [6 7 8]]\n"
     ]
    }
   ],
   "source": [
    "flat_b = b.flatten()\n",
    "print_name_value(flat_b)\n",
    "print_name_value(b)\n",
    "# since flat_b is a new copy, any change to flat_b does not affect b"
   ]
  },
  {
   "cell_type": "code",
   "execution_count": 12,
   "metadata": {},
   "outputs": [
    {
     "name": "stdout",
     "output_type": "stream",
     "text": [
      "flat_b:\n",
      "[-100    1    2    3    4    5    6    7    8]\n",
      "b:\n",
      "[[0 1 2]\n",
      " [3 4 5]\n",
      " [6 7 8]]\n"
     ]
    }
   ],
   "source": [
    "flat_b[0] = -100\n",
    "print_name_value(flat_b)\n",
    "print_name_value(b)\n"
   ]
  },
  {
   "cell_type": "code",
   "execution_count": 14,
   "metadata": {},
   "outputs": [
    {
     "name": "stdout",
     "output_type": "stream",
     "text": [
      "[0 1 2 3 4 5 6 7 8]\n"
     ]
    }
   ],
   "source": [
    "ravel_b = b.ravel()\n",
    "print(ravel_b)\n",
    "# ravel_b is not a copy, any change to ravel_b affects b "
   ]
  },
  {
   "cell_type": "code",
   "execution_count": 15,
   "metadata": {},
   "outputs": [
    {
     "name": "stdout",
     "output_type": "stream",
     "text": [
      "ravel_b:\n",
      "[88  1  2  3  4  5  6  7  8]\n",
      "b:\n",
      "[[88  1  2]\n",
      " [ 3  4  5]\n",
      " [ 6  7  8]]\n"
     ]
    }
   ],
   "source": [
    "ravel_b[0] = 88\n",
    "print_name_value(ravel_b)\n",
    "print_name_value(b)\n",
    "# ravel_a is not a copy, any change to ravel_a affects a "
   ]
  },
  {
   "cell_type": "code",
   "execution_count": 15,
   "metadata": {},
   "outputs": [],
   "source": [
    "# for a 2 dimensional array, we have to do double indexing\n",
    "#   b[0][0] -> represents the first value in the first row\n",
    "#   b[0][1] -> refers to the second value in the first row\n",
    "#   b[0][2] -> refers to the third value in the first row\n",
    "#   b[2][1] = 7 -> Assigns 7 to the element in the third row, second column."
   ]
  },
  {
   "cell_type": "code",
   "execution_count": 10,
   "metadata": {},
   "outputs": [
    {
     "name": "stdout",
     "output_type": "stream",
     "text": [
      "[[0 1]\n",
      " [2 3]\n",
      " [4 5]\n",
      " [6 7]]\n"
     ]
    }
   ],
   "source": [
    "print(a)"
   ]
  },
  {
   "cell_type": "code",
   "execution_count": 11,
   "metadata": {},
   "outputs": [
    {
     "name": "stdout",
     "output_type": "stream",
     "text": [
      "b:\n",
      "[[-4  1  2]\n",
      " [ 3  4  5]\n",
      " [ 6  7  8]]\n",
      "d:\n",
      "[[-4  1  2]\n",
      " [ 3  4  5]\n",
      " [ 6  7  8]]\n"
     ]
    }
   ],
   "source": [
    "# good time to talk about shallow copy vs deep copy\n",
    "\n",
    "# shallow copy\n",
    "d = b\n",
    "b[0][0] = -4\n",
    "print_name_value(b)\n",
    "print_name_value(d)\n",
    "# Note that d and a will have same values even though we modified only a"
   ]
  },
  {
   "cell_type": "code",
   "execution_count": 16,
   "metadata": {},
   "outputs": [
    {
     "name": "stdout",
     "output_type": "stream",
     "text": [
      "b:\n",
      "[[88  1  2]\n",
      " [ 3  4  5]\n",
      " [ 6  7  8]]\n",
      "e:\n",
      "[[300   1   2]\n",
      " [  3   4   5]\n",
      " [  6   7   8]]\n"
     ]
    }
   ],
   "source": [
    "# Deep copy\n",
    "e = b.copy()\n",
    "e[0][0] = 300\n",
    "print_name_value(b)\n",
    "print_name_value(e)\n",
    "# Note that e and a will have different values"
   ]
  },
  {
   "cell_type": "code",
   "execution_count": null,
   "metadata": {},
   "outputs": [],
   "source": []
  },
  {
   "cell_type": "markdown",
   "metadata": {},
   "source": [
    "## List of ufuncs short for universal functions in numpy\n",
    "\n",
    "https://docs.scipy.org/doc/numpy/reference/ufuncs.html"
   ]
  },
  {
   "cell_type": "code",
   "execution_count": 15,
   "metadata": {},
   "outputs": [
    {
     "name": "stdout",
     "output_type": "stream",
     "text": [
      "a:\n",
      "[0.  0.1 0.2 0.3 0.4 0.5 0.6 0.7 0.8 0.9]\n",
      "s:\n",
      "[0.         0.09983342 0.19866933 0.29552021 0.38941834 0.47942554\n",
      " 0.56464247 0.64421769 0.71735609 0.78332691]\n",
      "c:\n",
      "[1.         0.99500417 0.98006658 0.95533649 0.92106099 0.87758256\n",
      " 0.82533561 0.76484219 0.69670671 0.62160997]\n"
     ]
    }
   ],
   "source": [
    "# Universal functions are called ufunc \n",
    "\n",
    "a = np.linspace(0, 0.9, 10)\n",
    "s = np.sin(a)\n",
    "c = np.cos(a)\n",
    "print_name_value(a)\n",
    "print_name_value(s)\n",
    "print_name_value(c)"
   ]
  },
  {
   "cell_type": "code",
   "execution_count": 16,
   "metadata": {},
   "outputs": [
    {
     "name": "stdout",
     "output_type": "stream",
     "text": [
      "s1:\n",
      "[ 0.          5.72003343 11.38291417 16.9320606  22.31202748 27.46905995\n",
      " 32.35163066 36.91095457 41.10147642 44.8813259 ]\n",
      "c1:\n",
      "[57.29577951 57.00953927 56.15367855 54.73674884 52.77290763 50.28177697\n",
      " 47.28824742 43.82222932 39.918354   35.61562769]\n"
     ]
    }
   ],
   "source": [
    "# convert angles from radians to degrees\n",
    "s1 = np.rad2deg(s)\n",
    "c1 = np.rad2deg(c)\n",
    "print_name_value(s1)\n",
    "print_name_value(c1)"
   ]
  },
  {
   "cell_type": "markdown",
   "metadata": {},
   "source": [
    "## Array Indexing"
   ]
  },
  {
   "cell_type": "code",
   "execution_count": 17,
   "metadata": {},
   "outputs": [
    {
     "name": "stdout",
     "output_type": "stream",
     "text": [
      "o:\n",
      "[[3.76560572e-01 5.15523602e-04 2.35738357e-01 1.85391079e-01\n",
      "  8.14528130e-01]\n",
      " [2.56705806e-01 5.57046393e-01 8.84154189e-01 6.82725664e-01\n",
      "  7.09124941e-01]\n",
      " [2.43411898e-01 9.58260864e-01 9.62209923e-01 5.47261333e-01\n",
      "  2.37044523e-01]\n",
      " [4.04832587e-01 6.62498416e-03 1.63267685e-01 2.07899463e-03\n",
      "  6.57227250e-01]\n",
      " [5.63989030e-02 3.23789585e-01 4.41322746e-02 4.44942086e-01\n",
      "  8.96287883e-02]]\n",
      "a:\n",
      "[[2.25936343e+00 3.09314161e-03 1.41443014e+00 1.11234647e+00\n",
      "  4.88716878e+00]\n",
      " [1.54023484e+00 3.34227836e+00 5.30492513e+00 4.09635398e+00\n",
      "  4.25474965e+00]\n",
      " [1.46047139e+00 5.74956518e+00 5.77325954e+00 3.28356800e+00\n",
      "  1.42226714e+00]\n",
      " [2.42899552e+00 3.97499049e-02 9.79606110e-01 1.24739678e-02\n",
      "  3.94336350e+00]\n",
      " [3.38393418e-01 1.94273751e+00 2.64793647e-01 2.66965252e+00\n",
      "  5.37772730e-01]]\n",
      "b:\n",
      "[[2 0 1 1 4]\n",
      " [1 3 5 4 4]\n",
      " [1 5 5 3 1]\n",
      " [2 0 0 0 3]\n",
      " [0 1 0 2 0]]\n",
      "The rows=1 and cols=2 element is 5\n",
      "The first col is [2 1 1 2 0]\n",
      "The third row is [1 5 5 3 1]\n"
     ]
    }
   ],
   "source": [
    "# Basic slicing\n",
    "import numpy as np\n",
    "o = np.random.rand(5, 5)\n",
    "print_name_value(o)\n",
    "a = o*6\n",
    "# [\n",
    "# [6,6 6,6,6],\n",
    "# [6,6 6,6,6],\n",
    "# [6,6 6,6,6],\n",
    "# [6,6 6,6,6],\n",
    "# [6,6 6,6,6]\n",
    "]\n",
    "\n",
    "print_name_value(a)\n",
    "b = a.astype(int)\n",
    "print_name_value(b)\n",
    "print('The rows=1 and cols=2 element is {0}'.format(b[1,2])) \n",
    "print('The first col is {0}'.format(b[:,0])) # all rows for cols=0\n",
    "print('The third row is {0}'.format(b[2, :])) # all cols for rows = 2"
   ]
  },
  {
   "cell_type": "code",
   "execution_count": 18,
   "metadata": {},
   "outputs": [
    {
     "name": "stdout",
     "output_type": "stream",
     "text": [
      "[4, 8, 16]\n"
     ]
    }
   ],
   "source": [
    "x1 = [2, 4, 8]\n",
    "x2 = [x*2 for x in x1]\n",
    "print(x2)"
   ]
  },
  {
   "cell_type": "code",
   "execution_count": 55,
   "metadata": {},
   "outputs": [
    {
     "name": "stdout",
     "output_type": "stream",
     "text": [
      "a:\n",
      "[[ 2  4  8]\n",
      " [ 3  5  7]\n",
      " [ 4  6 10]]\n",
      "b:\n",
      "[[3 2 1]\n",
      " [2 4 4]\n",
      " [1 2 3]]\n",
      "c:\n",
      "[[ 5  6  9]\n",
      " [ 5  9 11]\n",
      " [ 5  8 13]]\n"
     ]
    }
   ],
   "source": [
    "# No broacasting \n",
    "\n",
    "a = np.array([[2, 4, 8], [3, 5, 7], [4, 6, 10]])\n",
    "b = np.array([[3, 2, 1], [2, 4, 4], [1, 2, 3]])\n",
    "c = a + b\n",
    "print_name_value(a)\n",
    "print_name_value(b)\n",
    "print_name_value(c)"
   ]
  },
  {
   "cell_type": "code",
   "execution_count": 23,
   "metadata": {},
   "outputs": [
    {
     "name": "stdout",
     "output_type": "stream",
     "text": [
      "a:\n",
      "[[ 2  4  8]\n",
      " [ 3  5  7]\n",
      " [ 4  6 10]]\n",
      "b:\n",
      "-1\n",
      "c:\n",
      "[[1 3 7]\n",
      " [2 4 6]\n",
      " [3 5 9]]\n"
     ]
    }
   ],
   "source": [
    "# broadcasting - the process of supplying a value to \n",
    "# every element in an array\n",
    "\n",
    "a = np.array([[2, 4, 8], [3, 5, 7], [4, 6, 10]])\n",
    "b = np.array(-1)\n",
    "c = a + b\n",
    "print_name_value(a)\n",
    "print_name_value(b)\n",
    "print_name_value(c)"
   ]
  },
  {
   "cell_type": "code",
   "execution_count": 25,
   "metadata": {
    "scrolled": true
   },
   "outputs": [
    {
     "name": "stdout",
     "output_type": "stream",
     "text": [
      "a:\n",
      "[[ 2  4  8]\n",
      " [ 3  5  7]\n",
      " [ 4  6 10]]\n",
      "b:\n",
      "[  1  10 100]\n",
      "c:\n",
      "[[  3  14 108]\n",
      " [  4  15 107]\n",
      " [  5  16 110]]\n"
     ]
    }
   ],
   "source": [
    "# Broacasting example with Row\n",
    "\n",
    "a = np.array([[2, 4, 8], [3, 5, 7], [4, 6, 10]])\n",
    "b = np.array([1, 10, 100])\n",
    "c = a + b\n",
    "print_name_value(a)\n",
    "print_name_value(b)\n",
    "print_name_value(c)"
   ]
  },
  {
   "cell_type": "code",
   "execution_count": 24,
   "metadata": {},
   "outputs": [
    {
     "name": "stdout",
     "output_type": "stream",
     "text": [
      "a:\n",
      "[[ 2  4  8]\n",
      " [ 3  5  7]\n",
      " [ 4  6 10]]\n",
      "b:\n",
      "[[  1]\n",
      " [ 10]\n",
      " [100]]\n",
      "c:\n",
      "[[  3   5   9]\n",
      " [ 13  15  17]\n",
      " [104 106 110]]\n"
     ]
    }
   ],
   "source": [
    "# Broacasting example with Column\n",
    "\n",
    "a = np.array([[2, 4, 8], [3, 5, 7], [4, 6, 10]])\n",
    "b = np.array([[1], [10], [100]])\n",
    "c = a + b\n",
    "print_name_value(a)\n",
    "print_name_value(b)\n",
    "print_name_value(c)"
   ]
  },
  {
   "cell_type": "code",
   "execution_count": 61,
   "metadata": {},
   "outputs": [
    {
     "name": "stdout",
     "output_type": "stream",
     "text": [
      "a:\n",
      "[[ 2  5  7]\n",
      " [ 6  4  3]\n",
      " [ 1 10  8]]\n",
      "Sorting along columns\n",
      "[[ 1  4  3]\n",
      " [ 2  5  7]\n",
      " [ 6 10  8]]\n",
      "a_cp:\n",
      "[[1000    4    3]\n",
      " [   2    5    7]\n",
      " [   6   10    8]]\n",
      "a:\n",
      "[[ 2  5  7]\n",
      " [ 6  4  3]\n",
      " [ 1 10  8]]\n",
      "++++++++++++++++++++++++++++++\n",
      "Sorting along rows (dafault)\n",
      "[[ 2  5  7]\n",
      " [ 3  4  6]\n",
      " [ 1  8 10]]\n"
     ]
    }
   ],
   "source": [
    "# An example of sorting\n",
    "\n",
    "a = np.array([[2, 5, 7], [6, 4, 3], [1, 10, 8]])\n",
    "print_name_value(a)\n",
    "\n",
    "print(\"Sorting along columns\")\n",
    "a_cp = np.sort(a, axis = 0)\n",
    "print(a_cp) # along the column\n",
    "a_cp[0][0] = 1000\n",
    "print_name_value(a_cp)\n",
    "print_name_value(a)\n",
    "print(\"+\" * 30 )\n",
    "print(\"Sorting along rows (default)\")\n",
    "print(np.sort(a, axis = 1)) # along the rows, default."
   ]
  },
  {
   "cell_type": "code",
   "execution_count": 56,
   "metadata": {},
   "outputs": [
    {
     "name": "stdout",
     "output_type": "stream",
     "text": [
      "result:\n",
      "None\n",
      "++++++++++++++++++++++++++++++\n",
      "a:\n",
      "[[ 2  4  8]\n",
      " [ 3  5  7]\n",
      " [ 4  6 10]]\n"
     ]
    }
   ],
   "source": [
    " # we can also use sort() method to sort \n",
    "    \n",
    "result = a.sort() \n",
    "# Note: np.sort(a) this will not alter a\n",
    "# however, a.sort(), a is modified in place\n",
    "print_name_value(result)\n",
    "print(\"+\" * 30 )\n",
    "print_name_value(a) "
   ]
  },
  {
   "cell_type": "code",
   "execution_count": null,
   "metadata": {},
   "outputs": [],
   "source": []
  }
 ],
 "metadata": {
  "kernelspec": {
   "display_name": "Python 3 (ipykernel)",
   "language": "python",
   "name": "python3"
  },
  "language_info": {
   "codemirror_mode": {
    "name": "ipython",
    "version": 3
   },
   "file_extension": ".py",
   "mimetype": "text/x-python",
   "name": "python",
   "nbconvert_exporter": "python",
   "pygments_lexer": "ipython3",
   "version": "3.10.6"
  }
 },
 "nbformat": 4,
 "nbformat_minor": 4
}
