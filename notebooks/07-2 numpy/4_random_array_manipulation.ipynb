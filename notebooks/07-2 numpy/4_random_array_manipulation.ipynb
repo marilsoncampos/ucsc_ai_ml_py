{
 "cells": [
  {
   "cell_type": "markdown",
   "metadata": {},
   "source": [
    "### In this notebook we will look at\n",
    "\n",
    "- random module\n",
    "\n",
    "- array manipulations"
   ]
  },
  {
   "cell_type": "code",
   "execution_count": 1,
   "metadata": {},
   "outputs": [],
   "source": [
    "import numpy as np\n",
    "from typing import Any\n",
    "import inspect\n",
    "\n",
    "def print_name_value(variable):\n",
    "    frame = inspect.currentframe()\n",
    "    frame = inspect.getouterframes(frame)[1]\n",
    "    ctx = inspect.getframeinfo(frame[0]).code_context[0].strip()\n",
    "    single_arg = ctx[ctx.find('(') + 1:-1].split(',')[0]\n",
    "    mem_variable = id(variable)\n",
    "    print(f'{single_arg}:\\n{variable}\\n')\n",
    "    \n",
    "def print_titble_and_value(title: str, value: Any):\n",
    "    value_str = str(value)\n",
    "    print(f'{title}:\\n {value_str}\\n')"
   ]
  },
  {
   "cell_type": "code",
   "execution_count": 2,
   "metadata": {},
   "outputs": [
    {
     "name": "stdout",
     "output_type": "stream",
     "text": [
      "a:\n",
      "[0.22583745 0.63709406 0.59137728]\n",
      "\n"
     ]
    }
   ],
   "source": [
    "# random.rand(x) will return an ndarray with x number of items that are \n",
    "# randomly selected between 0 and 1\n",
    "a = np.random.rand(3)\n",
    "print_name_value(a)"
   ]
  },
  {
   "cell_type": "raw",
   "metadata": {},
   "source": [
    "Using sort() to sort the elements in an ndarrray\n",
    "sort(axis, kind) all arguments are optional\n",
    "axis can be specified, default -1 means sort along the last axis.\n",
    "\n",
    "The 'kind' variable can be quicksort, mergesort or heapsort. \n",
    "Default is quicksort"
   ]
  },
  {
   "cell_type": "code",
   "execution_count": 40,
   "metadata": {
    "scrolled": true
   },
   "outputs": [
    {
     "name": "stdout",
     "output_type": "stream",
     "text": [
      "a:\n",
      "[0.29346275 0.34556671 0.50340545]\n",
      "\n"
     ]
    }
   ],
   "source": [
    "a.sort() \n",
    "print_name_value(a)"
   ]
  },
  {
   "cell_type": "code",
   "execution_count": 6,
   "metadata": {},
   "outputs": [
    {
     "name": "stdout",
     "output_type": "stream",
     "text": [
      "a:\n",
      "[[0.24450398 0.         0.25787751 0.93266602]\n",
      " [0.34645734 0.3565839  0.51442777 0.83015591]]\n",
      "\n",
      "float64\n",
      "(array([0, 0, 0, 1, 1, 1, 1]), array([0, 2, 3, 0, 1, 2, 3]))\n"
     ]
    }
   ],
   "source": [
    "a = np.random.rand(2, 4)\n",
    "a[0][1] = 0\n",
    "print_name_value(a)\n",
    "print(a.dtype)\n",
    "print(a.nonzero())"
   ]
  },
  {
   "cell_type": "code",
   "execution_count": 42,
   "metadata": {},
   "outputs": [
    {
     "name": "stdout",
     "output_type": "stream",
     "text": [
      "a:\n",
      "[[0.95006674 0.07788423 0.00307339 0.77281915]\n",
      " [0.71883802 0.         0.7250848  0.63311489]]\n",
      "\n",
      "(array([0, 0, 0, 0, 1, 1, 1]), array([0, 1, 2, 3, 0, 2, 3]))\n"
     ]
    }
   ],
   "source": [
    "a = np.random.rand(2, 4)\n",
    "a[1,1] = 0\n",
    "print_name_value(a)\n",
    "print(a.nonzero())"
   ]
  },
  {
   "cell_type": "code",
   "execution_count": 43,
   "metadata": {},
   "outputs": [
    {
     "name": "stdout",
     "output_type": "stream",
     "text": [
      "0.28305302507564933\n"
     ]
    }
   ],
   "source": [
    "# random.sample will return a random number from a uniform distribution from [0.0, 1.0)\n",
    "# 1.0 is not included\n",
    "c = np.random.sample()\n",
    "print(c)"
   ]
  },
  {
   "cell_type": "code",
   "execution_count": 44,
   "metadata": {},
   "outputs": [
    {
     "name": "stdout",
     "output_type": "stream",
     "text": [
      "2\n"
     ]
    }
   ],
   "source": [
    "# random.choice(n) will return a number from an ndarray n\n",
    "a = np.array([2, 6, 12, 18])\n",
    "print(np.random.choice(a))"
   ]
  },
  {
   "cell_type": "code",
   "execution_count": 9,
   "metadata": {},
   "outputs": [
    {
     "name": "stdout",
     "output_type": "stream",
     "text": [
      "A value between 0 and 4:\n",
      " 1\n",
      "\n",
      "A value between 11 and 14:\n",
      " 11\n",
      "\n",
      "Two values between -10 and -5:\n",
      " [-9 -9]\n",
      "\n",
      "A 2 x 3 matrix:\n",
      " [[1 4 2]\n",
      " [3 4 4]]\n",
      "\n"
     ]
    }
   ],
   "source": [
    "\"\"\"\n",
    "random.randint(x) \n",
    "  Will return an integer from the interval  [0, x], both are included\n",
    "\n",
    "random.randint(x, y) \n",
    "  Will return an integer from [x, y]\n",
    "  \n",
    "random.randint(x, y, n)\n",
    "  Will return n integers between x and y\n",
    "\"\"\"\n",
    "\n",
    "print_titble_and_value('A value between 0 and 4', np.random.randint(5)) \n",
    "print_titble_and_value('A value between 11 and 14', np.random.randint(11, 15)) \n",
    "print_titble_and_value('Two values between -10 and -5', np.random.randint(-10, -5, 2)) \n",
    "print_titble_and_value('A 2 x 3 matrix', np.random.randint(1, 5, [2, 3])) \n",
    "# Note that both values can be the same.\n"
   ]
  },
  {
   "cell_type": "code",
   "execution_count": 10,
   "metadata": {},
   "outputs": [
    {
     "name": "stdout",
     "output_type": "stream",
     "text": [
      "Mike\n"
     ]
    }
   ],
   "source": [
    "list1 = [\"Elizabeth\", \"Lisa\", \"Asha\", \"Mike\", \"Amit\"]\n",
    "import random\n",
    "c = random.choice(list1)\n",
    "print(c)"
   ]
  },
  {
   "cell_type": "code",
   "execution_count": 11,
   "metadata": {},
   "outputs": [
    {
     "name": "stdout",
     "output_type": "stream",
     "text": [
      "lista is:  ['Elizabeth', 'Lisa', 'Asha', 'Mike', 'Amit']\n",
      "Pick a random name from list:  Asha\n",
      "Amit\n"
     ]
    }
   ],
   "source": [
    "lista = [\"Elizabeth\", \"Lisa\", \"Asha\", \"Mike\", \"Amit\"]\n",
    "print(\"lista is: \", lista)\n",
    "print(\"Pick a random name from list: \", lista[np.random.randint(len(lista))])\n",
    "print(np.random.choice(lista))"
   ]
  },
  {
   "cell_type": "code",
   "execution_count": 48,
   "metadata": {},
   "outputs": [
    {
     "name": "stdout",
     "output_type": "stream",
     "text": [
      "n2:\n",
      "[2.1 4.2 7.4 9.8]\n",
      "\n",
      "n3:\n",
      "[2 4 7 9]\n",
      "\n",
      "nchoose:\n",
      "9\n",
      "\n"
     ]
    }
   ],
   "source": [
    "# Using random.rand create a 1D ndarray, then convert the values in the ndarray to integer \n",
    "# and then choose a value from the new int ndarray. At every step print the output. \n",
    "\n",
    "n2 = np.array([2.1, 4.2, 7.4, 9.8])\n",
    "print_name_value(n2)\n",
    "n3 = n2.astype(int)\n",
    "print_name_value(n3)\n",
    "\n",
    "nchoose = np.random.choice(n3)\n",
    "print_name_value(nchoose)"
   ]
  },
  {
   "cell_type": "code",
   "execution_count": 51,
   "metadata": {},
   "outputs": [
    {
     "name": "stdout",
     "output_type": "stream",
     "text": [
      "ne:\n",
      "[[0.8205487  0.66196085 0.08808666 0.0915836 ]\n",
      " [0.58954446 0.38249883 0.29074952 0.54207693]]\n",
      "\n",
      "Dimension of ne = 2\n"
     ]
    }
   ],
   "source": [
    "ne = np.random.rand(2,4)\n",
    "print_name_value(ne)\n",
    "print('Dimension of ne = {0}'.format(ne.ndim))"
   ]
  },
  {
   "cell_type": "markdown",
   "metadata": {},
   "source": [
    "#### Now we will look at the array manipulation"
   ]
  },
  {
   "cell_type": "code",
   "execution_count": 13,
   "metadata": {},
   "outputs": [
    {
     "name": "stdout",
     "output_type": "stream",
     "text": [
      "a:\n",
      "[[2 4]\n",
      " [7 9]]\n",
      "\n",
      "b:\n",
      "[[1 3]\n",
      " [6 5]]\n",
      "\n"
     ]
    }
   ],
   "source": [
    "a = np.array([[2, 4], [7, 9]])\n",
    "b = np.array([[1, 3], [6, 5]])\n",
    "print_name_value(a)\n",
    "print_name_value(b)\n"
   ]
  },
  {
   "cell_type": "code",
   "execution_count": 14,
   "metadata": {},
   "outputs": [
    {
     "name": "stdout",
     "output_type": "stream",
     "text": [
      "a + b:\n",
      "[[ 3  7]\n",
      " [13 14]]\n",
      "\n"
     ]
    }
   ],
   "source": [
    "# using + operator we can compute element by element sum of two arrays\n",
    "print_name_value(a + b)\n"
   ]
  },
  {
   "cell_type": "code",
   "execution_count": 15,
   "metadata": {},
   "outputs": [
    {
     "name": "stdout",
     "output_type": "stream",
     "text": [
      "[[ 2 12]\n",
      " [42 45]]\n"
     ]
    }
   ],
   "source": [
    "# using * operator we can compute element by element multiplication of two arrays\n",
    "print(a * b) # element by element multiplication\n"
   ]
  },
  {
   "cell_type": "code",
   "execution_count": 16,
   "metadata": {},
   "outputs": [
    {
     "name": "stdout",
     "output_type": "stream",
     "text": [
      "a - b:\n",
      "[[1 1]\n",
      " [1 4]]\n",
      "\n"
     ]
    }
   ],
   "source": [
    "# using - operator we can compute element by element subtraction of two arrays\n",
    "print_name_value(a - b)\n"
   ]
  },
  {
   "cell_type": "code",
   "execution_count": 17,
   "metadata": {},
   "outputs": [
    {
     "name": "stdout",
     "output_type": "stream",
     "text": [
      "[[26 26]\n",
      " [61 66]]\n"
     ]
    }
   ],
   "source": [
    "# dot(a1, a2) will compute matrix multiplication\n",
    "print(np.dot(a, b)) # matrix multiplication\n"
   ]
  },
  {
   "cell_type": "code",
   "execution_count": 18,
   "metadata": {},
   "outputs": [
    {
     "name": "stdout",
     "output_type": "stream",
     "text": [
      "[[26 26]\n",
      " [61 66]]\n"
     ]
    }
   ],
   "source": [
    "# The @ operator can be used to perform matrix multiplication \n",
    "# @  is called the 'infix' operator and is only available in Python 3.5+ (PEP 465)\n",
    "print(a @ b)\n"
   ]
  },
  {
   "cell_type": "code",
   "execution_count": 19,
   "metadata": {},
   "outputs": [
    {
     "name": "stdout",
     "output_type": "stream",
     "text": [
      "[[26 26]\n",
      " [61 66]]\n"
     ]
    }
   ],
   "source": [
    "# We can also perfrom matrix multiplication using matmul(a1, a2)\n",
    "print(np.matmul(a, b)) # matrix multiplication\n"
   ]
  },
  {
   "cell_type": "code",
   "execution_count": null,
   "metadata": {},
   "outputs": [],
   "source": []
  },
  {
   "cell_type": "code",
   "execution_count": 58,
   "metadata": {},
   "outputs": [
    {
     "name": "stdout",
     "output_type": "stream",
     "text": [
      "[[ 4  7  9]\n",
      " [ 5  7 10]]\n",
      " \n",
      "[[ 4  5]\n",
      " [ 7  7]\n",
      " [ 9 10]]\n"
     ]
    }
   ],
   "source": [
    "# in an array transpose() will interchange the rows to columns \n",
    "# and vice-versa \n",
    "x = np.matrix([[4, 7, 9], [5, 7, 10]])\n",
    "print(x)\n",
    "print(' ')\n",
    "print(np.transpose(x))\n"
   ]
  },
  {
   "cell_type": "code",
   "execution_count": 59,
   "metadata": {},
   "outputs": [
    {
     "name": "stdout",
     "output_type": "stream",
     "text": [
      "Original array:\n",
      "[[ 3  5  1]\n",
      " [ 8 11  0]]\n",
      "Transposed array:\n",
      "[[ 3  8]\n",
      " [ 5 11]\n",
      " [ 1  0]]\n"
     ]
    }
   ],
   "source": [
    "# T can also be used to transpose a matrix\n",
    "\n",
    "y = np.array([[3, 5, 1], [8, 11, 0]])\n",
    "print(\"Original array:\")\n",
    "print(y)\n",
    "print(\"Transposed array:\")\n",
    "print(y.T)"
   ]
  },
  {
   "cell_type": "code",
   "execution_count": null,
   "metadata": {},
   "outputs": [],
   "source": []
  },
  {
   "cell_type": "code",
   "execution_count": null,
   "metadata": {},
   "outputs": [],
   "source": []
  }
 ],
 "metadata": {
  "kernelspec": {
   "display_name": "Python 3 (ipykernel)",
   "language": "python",
   "name": "python3"
  },
  "language_info": {
   "codemirror_mode": {
    "name": "ipython",
    "version": 3
   },
   "file_extension": ".py",
   "mimetype": "text/x-python",
   "name": "python",
   "nbconvert_exporter": "python",
   "pygments_lexer": "ipython3",
   "version": "3.10.6"
  }
 },
 "nbformat": 4,
 "nbformat_minor": 4
}
