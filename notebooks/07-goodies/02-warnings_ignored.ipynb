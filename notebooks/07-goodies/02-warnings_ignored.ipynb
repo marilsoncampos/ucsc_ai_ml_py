{
 "cells": [
  {
   "cell_type": "code",
   "execution_count": 1,
   "id": "ba620d16-e943-4739-91ee-37613287135e",
   "metadata": {},
   "outputs": [],
   "source": [
    "import warnings\n",
    "warnings.simplefilter(action='ignore', category=FutureWarning)"
   ]
  },
  {
   "cell_type": "code",
   "execution_count": 2,
   "id": "f57aefe1",
   "metadata": {},
   "outputs": [],
   "source": [
    "import pandas as pd"
   ]
  },
  {
   "cell_type": "code",
   "execution_count": 3,
   "id": "d667fdcb-dcf7-4317-b0ed-4a2250f046c1",
   "metadata": {},
   "outputs": [],
   "source": [
    "titanic_df = pd.read_csv(r'train.csv')\n",
    "titanic_df['Family Size'] = titanic_df['SibSp'] +titanic_df['Parch'] + 1"
   ]
  },
  {
   "cell_type": "code",
   "execution_count": 4,
   "id": "bcff2c3e-0189-4461-bef0-cc6208432ddb",
   "metadata": {},
   "outputs": [
    {
     "data": {
      "text/html": [
       "<style type=\"text/css\">\n",
       "</style>\n",
       "<table id=\"T_d1c7d\">\n",
       "  <thead>\n",
       "    <tr>\n",
       "      <th id=\"T_d1c7d_level0_col0\" class=\"col_heading level0 col0\" >Sex</th>\n",
       "      <th id=\"T_d1c7d_level0_col1\" class=\"col_heading level0 col1\" >% Survived</th>\n",
       "    </tr>\n",
       "  </thead>\n",
       "  <tbody>\n",
       "    <tr>\n",
       "      <td id=\"T_d1c7d_row0_col0\" class=\"data row0 col0\" >female</td>\n",
       "      <td id=\"T_d1c7d_row0_col1\" class=\"data row0 col1\" >74.2</td>\n",
       "    </tr>\n",
       "    <tr>\n",
       "      <td id=\"T_d1c7d_row1_col0\" class=\"data row1 col0\" >male</td>\n",
       "      <td id=\"T_d1c7d_row1_col1\" class=\"data row1 col1\" >18.9</td>\n",
       "    </tr>\n",
       "  </tbody>\n",
       "</table>\n"
      ],
      "text/plain": [
       "<pandas.io.formats.style.Styler at 0x7fbae0caab80>"
      ]
     },
     "execution_count": 4,
     "metadata": {},
     "output_type": "execute_result"
    }
   ],
   "source": [
    "def format_percent(value):\n",
    "    return '{:,.1f}'.format(value * 100)\n",
    "\n",
    "\n",
    "group = titanic_df[['Sex','Survived']].groupby(['Sex'], as_index = False).mean()\n",
    "group['Survived'] = group['Survived'].map(format_percent)\n",
    "tabulated = group.rename(columns={'Sex': 'Sex','Survived': '% Survived'})\n",
    "tabulated.style.hide_index()\n"
   ]
  },
  {
   "cell_type": "code",
   "execution_count": null,
   "id": "6cb4865f-f360-40a9-946d-8f556afb85fd",
   "metadata": {},
   "outputs": [],
   "source": []
  }
 ],
 "metadata": {
  "kernelspec": {
   "display_name": "Python 3 (ipykernel)",
   "language": "python",
   "name": "python3"
  },
  "language_info": {
   "codemirror_mode": {
    "name": "ipython",
    "version": 3
   },
   "file_extension": ".py",
   "mimetype": "text/x-python",
   "name": "python",
   "nbconvert_exporter": "python",
   "pygments_lexer": "ipython3",
   "version": "3.9.7"
  }
 },
 "nbformat": 4,
 "nbformat_minor": 5
}
