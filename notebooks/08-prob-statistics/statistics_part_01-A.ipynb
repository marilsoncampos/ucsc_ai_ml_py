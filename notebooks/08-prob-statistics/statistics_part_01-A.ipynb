{
 "cells": [
  {
   "cell_type": "markdown",
   "metadata": {},
   "source": [
    "## 1. Contents\n",
    "\n",
    " - Random Variable\n",
    "\n",
    " - Permutation and combinations\n",
    "\n",
    " - Probability and its laws\n",
    "\n",
    " - Conditional probability\n"
   ]
  },
  {
   "cell_type": "code",
   "execution_count": 1,
   "metadata": {},
   "outputs": [],
   "source": [
    "%matplotlib inline\n",
    "\n",
    "import numpy as np\n",
    "from scipy import stats\n",
    "import matplotlib.pyplot as plt\n",
    "\n",
    "def plot(y_func, x_axis, y_axis, title, x_start=0.0, x_end=1.0, ):\n",
    "    x = np.linspace(x_start,x_end, num=200, endpoint=True)\n",
    "    y = y_func(x)\n",
    "    fig, ax = plt.subplots()\n",
    "    ax.set(xlabel=x_axis, ylabel=y_axis, title=title)\n",
    "    ax.plot(x, y)"
   ]
  },
  {
   "cell_type": "markdown",
   "metadata": {},
   "source": [
    "## 2. Permutations and Combinations\n",
    "\n",
    "Permutations and combinations give us varies ways of selecting r objects from n objects without replacement.\n",
    "\n",
    "Permutations give us the number of ways of selecting r objects from n objects without replacement when order is important.\n",
    "\n",
    "Combinations give us the number of ways of selecting r objects from n objects without replacement when order is not important.\n",
    "\n",
    "Let us say we have three objects A, B and C and we want to select two objects without replacement:\n",
    "\n",
    "If order is important then AB selection will be different from BA selection so the varies permutations will be \n",
    "\n",
    "AB\n",
    "BA\n",
    "AC\n",
    "CA\n",
    "BC\n",
    "CB\n",
    "\n",
    "In total we can select two objects from three objects without replacement when order is important is 6 ways. That is,the total permutations is 6.\n",
    "\n",
    "Number of permutations of selecting r objects from n objects is given by $nPr.$ \n",
    "\n",
    "$nPr = \\frac{n!}{(n-r)!}$ where $n! = n*(n-1)*(n-2)...*1 $ and $0! = 1$ (Reads \"n permute r\")\n",
    "\n",
    "If order is not important then selecting AB is same as BA so the number of combinations of selecting two objects from three without replacement is 3 \n",
    "\n",
    "AB\n",
    "BC\n",
    "AC\n",
    "\n",
    "Number of combinations of selecting r objects from n objects is given by $nCr.$\n",
    "\n",
    "$nCr = \\frac{n!}{(n-r)! r!}$ where $n! = n*(n-1)*(n-2)...*1 $ and $0! = 1$ (Reads \"n choose r\")"
   ]
  },
  {
   "cell_type": "markdown",
   "metadata": {},
   "source": [
    "Latex for mathematical equations\n",
    "\n",
    "Reference: http://tug.ctan.org/info/undergradmath/undergradmath.pdf\n",
    "\n",
    "x^2 + 100 = 20 \n",
    "\n",
    "Produces $ x^2 + 100 = 20 $"
   ]
  },
  {
   "cell_type": "markdown",
   "metadata": {},
   "source": [
    "**Example 1**\n",
    "    \n",
    "How many ways can you select three students from a group of 10 when\n",
    "\n",
    "    a) selection order is not important. \n",
    "    \n",
    "    b) selection order is important.\n",
    "    \n",
    "**Solution**\n",
    "\n",
    "a) Order is not important (combinations problem)\n",
    "\n",
    "$$ 10C3 = \\frac{10!}{(10-3)! * 3!} = \\frac{10!}{7! * 3!} = \\frac{10*9*8*7!}{7!*3*2*1}  = \\frac{10*9*8}{3*2*1} = 120. $$\n",
    "\n",
    "$$ 10C7 = \\frac{10!}{(10-7)! * 7!} = \\frac{10!}{3! * 7!} = \\frac{10*9*8*7!}{7!*3*2*1}  = \\frac{10*9*8}{3*2*1} = 120. $$\n",
    "\n",
    "\n",
    "b) Oder is important (permutations problem)\n",
    "$$ 10P3 = \\frac{10!}{(10-3)!} = \\frac{10!}{7!} = \\frac{10*9*8*7!}{7!}  = 10*9*8 = 720. $$\n"
   ]
  },
  {
   "cell_type": "markdown",
   "metadata": {},
   "source": [
    "**Example 2**\n",
    "\n",
    "How many permutations are there when you are selecting two numbers from 0, 1, 2, 3, 4, 5, 6, 7, 8, 9?\n",
    "\n",
    "**Solution**\n",
    "\n",
    "Given that $n = 10$ and $ r = 2 $,\n",
    "\n",
    "$$ 10P2 = \\frac{10!}{(10-2)!} = \\frac{10!}{8!} = \\frac{10*9*8!}{8!}  = 10*9 = 90. $$\n"
   ]
  },
  {
   "cell_type": "markdown",
   "metadata": {},
   "source": [
    "### Deck of cards\n",
    "\n",
    "Total number of cards in a deck is 52.\n",
    "\n",
    "4 suits, each suit has 13 cards.\n",
    "\n",
    "What are 4 suits?  - spades is black, clubs is black, hearts is red, and diamonds is red.\n",
    "\n",
    "In each suit: 2, 3, 4, 5, 6, 7, 8, 9, 10, Jack, Queen, King, and Ace. \n",
    "\n",
    "\"Number\" cards in each suit: 9\n",
    "\n",
    "\"Face\" cards in each suit: 3"
   ]
  },
  {
   "cell_type": "markdown",
   "metadata": {},
   "source": [
    "**Example 3**\n",
    "\n",
    "How many ways can you select two cards from a deck of 52 cards?\n",
    "\n",
    "**Solution**\n",
    "\n",
    "Given that $n = 52$ and $r = 2$,\n",
    "\n",
    "$$ 52C2 = \\frac{52!}{(52-2)! * 2!} = \\frac{52!}{50! * 2!} = \\frac{52*51*50!}{50!*2*1}  = \\frac{52*51}{2*1} = 1326. $$"
   ]
  },
  {
   "cell_type": "markdown",
   "metadata": {},
   "source": [
    "## 3. Probability"
   ]
  },
  {
   "cell_type": "markdown",
   "metadata": {},
   "source": [
    "$$ Probability\\,of\\, an_event\\, happening = \\frac{Number\\, of\\, ways\\, it\\, can\\, happen}{Total\\, number\\, of\\, outcomes}  $$"
   ]
  },
  {
   "cell_type": "markdown",
   "metadata": {},
   "source": [
    "A Good reference: https://www.mathsisfun.com/data/probability.html"
   ]
  },
  {
   "cell_type": "markdown",
   "metadata": {},
   "source": [
    "**Example 4**\n",
    "\n",
    "If A, B, and C are three objects, $n=3$ and $r=2$ what is the permutations of choosing 2 objects from 3? \n",
    "What is the probability of choosing AB?\n",
    "\n",
    "$$ 3P2 = \\frac{3!}{(3-2)!} = \\frac{3*2*1}{1} = 3*2 = 6.$$\n",
    "\n",
    "probability of getting AB \n",
    "\n",
    "$$ p = \\frac{1}{6} $$\n",
    "\n",
    "\n",
    "**Probability Laws**\n",
    "\n",
    "Let A and B be events of an experiment, then the laws of probability are:\n",
    "\n",
    "1) $ 0 \\leq P(A) \\leq 1 $\n",
    "\n",
    "2) $ P(A) + P(B) = 1 $\n",
    "\n",
    "3) If A and B are disjoint events then $ P(A \\cup B) = P(A) + P(B) $\n",
    "\n",
    "4) If A and B are not disjoint then $ P(A \\cup B) = P(A) + P(B) - P(A \\cap B) $\n",
    "\n",
    "5) $ P(A^c) = 1 - P(A) $ where $A^c$ is the complement of A.\n",
    "\n",
    "Here $\\cup$ stands for union and $\\cap$ stands for intersection. "
   ]
  },
  {
   "cell_type": "markdown",
   "metadata": {},
   "source": [
    "**Let's consider a few additional examples**\n",
    "\n",
    "When a single die is thrown, there are six possible outcomes: 1,2,3,4,5 and 6.\n",
    "\n",
    "The probability of any of them is $\\frac{1}{6}$."
   ]
  },
  {
   "cell_type": "markdown",
   "metadata": {},
   "source": [
    "**Example 5**\n",
    "\n",
    "What are the chances of rolling a \"4\" in one throw?\n",
    "\n",
    "$$ P(Event) = \\frac{Number\\, of\\, ways\\, it\\, can\\, happen}{Total\\, number\\, of\\, outcomes} $$\n",
    "\n",
    "Number of ways of getting a \"4\" = 1\n",
    "\n",
    "Number of possible outcomes = 6\n",
    "\n",
    "$$ P(Rolling\\,a\\,4) = \\frac{1}{6} $$\n"
   ]
  },
  {
   "cell_type": "markdown",
   "metadata": {},
   "source": [
    "## 4. Venn Diagrams\n",
    "\n",
    "Venn Diagrams are a visual representation of a sample space.\n",
    "\n",
    "Reference: https://www.lucidchart.com/blog/venn-diagram-symbols-explained\n",
    "\n",
    "#### 4.1 Non disjoint sets"
   ]
  },
  {
   "cell_type": "markdown",
   "metadata": {},
   "source": [
    "<div>\n",
    "<img src=\"non-disjoint.PNG\" width=\"500\"/>\n",
    "</div>"
   ]
  },
  {
   "cell_type": "markdown",
   "metadata": {},
   "source": [
    "\n",
    "Reference: https://www.tutorsonnet.com/venn-diagrams-homework-help.php\n",
    "\n",
    "#### 4.2 Disjoint sets\n"
   ]
  },
  {
   "cell_type": "markdown",
   "metadata": {},
   "source": [
    "<div>\n",
    "<img src=\"disjoint.PNG\" width=\"500\"/>\n",
    "</div>"
   ]
  },
  {
   "cell_type": "markdown",
   "metadata": {},
   "source": [
    "### 5. Random Variables \n",
    "In probability and statistics, a random variable:\n",
    "\n",
    "- A variable whose value is subject to variations due to chance (i.e. randomness, in a mathematical sense). As opposed to other mathematical variables.\n",
    "\n",
    "- Conceptually does not have a single, fixed value (even if unknown); rather, it can take on a set of possible different values, each with an associated probability.\n",
    "\n",
    "\n",
    "Random variables can be classified as:\n",
    "\n",
    "- Discrete (that is, taking any of a specified list of exact values)\n",
    "- Continuous (taking any numerical value in an interval or collection of intervals). \n",
    "\n",
    "The mathematical function describing the possible values of a random variable and their associated probabilities is known as a *probability distribution*.\n",
    "\n",
    "\n",
    "#### 5.1 Discrete Random Variables\n",
    "\n",
    "Discrete random variables can take on either a finite or at most a countably infinite set of discrete values (for example, the integers). \n",
    "\n",
    "Their probability distribution is given by a probability mass function which directly maps each value of the random variable to a probability. \n",
    "\n",
    "For example, the value of\n",
    "\n",
    "$x_1$ takes on the probability $p_1,$ the value of \n",
    "$x_2$ takes on the probability $p_2$, and so on. \n",
    "\n",
    "The probabilities $p_i$ must satisfy two requirements: \n",
    "\n",
    "- Every probability $p_i$ is a number between 0 and 1\n",
    "- The sum of all the probabilities is 1. $(p_1+p_2+⋯+p_k=1)$."
   ]
  },
  {
   "cell_type": "markdown",
   "metadata": {},
   "source": [
    "<div>\n",
    "<img src=\"discrete.PNG\" width=\"500\"/>\n",
    "</div>"
   ]
  },
  {
   "cell_type": "markdown",
   "metadata": {},
   "source": [
    "\n",
    "#### 5.2 Continuous Random Variables\n",
    "\n",
    "Continuous random variables, on the other hand, take on values that vary continuously within one or more real intervals, and have a cumulative distribution function (CDF) that is absolutely continuous. \n",
    "\n",
    "As a result, the random variable has an uncountable infinite number of possible values, all of which have probability 0, though ranges of such values can have nonzero probability. \n",
    "\n",
    "The resulting probability distribution of the random variable can be described by a probability density, where the probability is found by taking the area under the curve.\n"
   ]
  },
  {
   "cell_type": "markdown",
   "metadata": {},
   "source": [
    "<div>\n",
    "<img src=\"bell_curve.PNG\" width=\"500\"/>\n",
    "</div>"
   ]
  },
  {
   "cell_type": "markdown",
   "metadata": {},
   "source": [
    "#### Probability Density Function\n",
    "\n",
    "Prbability density function (**PDF**) allows you to look at probability of an outcome between two values to seen as the area under the curve for the section of the figure."
   ]
  },
  {
   "cell_type": "markdown",
   "metadata": {},
   "source": [
    "References: \n",
    "\n",
    "https://courses.lumenlearning.com/boundless-statistics/chapter/discrete-random-variables/\n",
    "\n",
    "**Example 5.1**\n",
    "\n",
    "What is the probability of getting 3 or 5 on rolling a six-sided die once?\n",
    "\n",
    "Give that: \n",
    "\n",
    "$P(3) = \\frac{1}{6} $\n",
    "\n",
    "$P(5) = \\frac{1}{6} $\n",
    "\n",
    "and probability of getting 3 is disjoint from probability of getting 5.\n",
    "\n",
    "$$ P(3\\:or\\:5) = P(3) + P(5) = \\frac{1}{6} + \\frac{1}{6} = \\frac{2}{6} = \\frac{1}{3} = 33.33\\% $$\n"
   ]
  },
  {
   "cell_type": "markdown",
   "metadata": {},
   "source": [
    "**Example 5.2**\n",
    "\n",
    "What is the probability of getting a sum 8 when two dice are rolled?\n",
    "\n",
    "One die, outcomes are = {1, 2, 3, 4, 5, 6}\n",
    "\n",
    "Two dice, outcomes are= {\n",
    "\n",
    "    (1,1),(1,2),(1,3),(1,4),(1,5),(1,6),\n",
    "    (2,1),(2,2),(2,3),(2,4),(2,5),(2,6),\n",
    "    (3,1),(3,2),(3,3),(3,4),(3,5),(3,6),\n",
    "    (4,1),(4,2),(4,3),(4,4),(4,5),(4,6),\n",
    "    (5,1),(5,2),(5,3),(5,4),(5,5),(5,6),\n",
    "    (6,1),(6,2),(6,3),(6,4),(6,5),(6,6)\n",
    "}\n",
    "                         \n",
    "total number of outcomes rolling two dice = 36\n",
    "\n",
    "total number ways of getting sum 8 from rolling two dice = {(2,6),(3,5),(4,4),(5,3),(6,2)} = 5\n",
    "\n",
    "$$ P(sum\\:8) = \\frac{5}{36} = 13.88\\% $$ \n",
    "\n",
    "\n",
    "\n"
   ]
  },
  {
   "cell_type": "markdown",
   "metadata": {},
   "source": [
    "**Example 5.3**\n",
    "\n",
    "One card is drawn from a pack of 52 cards. What is the probability that the card is a face card?\n",
    "\n",
    "Solution:\n",
    "\n",
    "Total number of ways of drawing a card from a deck = 52\n",
    "\n",
    "Number of ways of drawing a face card from a deck = (3 faces per suit) = 12 \n",
    "\n",
    "$$ P(\\text{a face card}) = \\frac{12}{52} = 0.2307 = 23.07\\% $$ \n"
   ]
  },
  {
   "cell_type": "markdown",
   "metadata": {},
   "source": [
    "**Example 5.4**\n",
    "\n",
    "One card is drawn from a pack of 52 cards. What is the probability that the card is a queen of spades?\n",
    "\n",
    "Number of ways of drawing a queen of spades = 1\n",
    "\n",
    "$$ P(\\text{queen of spades}) = \\frac{1}{52} = 0.01923 = 1.9\\% $$ \n"
   ]
  },
  {
   "cell_type": "markdown",
   "metadata": {},
   "source": [
    "**Example 5.5**\n",
    "\n",
    "One card is drawn. What is the probability that the card is a seven or a king?\n",
    "\n",
    "Given that there are 4 'seven' cards and 4 'kings' and that these two sets are disjoints.\n",
    "\n",
    "$$ P(\\text{a 7 or a king}) = \\frac{4}{52} + \\frac{4}{52} = \\frac{8}{52} = 0.1538 = 15.38\\% $$ \n"
   ]
  },
  {
   "cell_type": "markdown",
   "metadata": {},
   "source": [
    " **Example 5.6**\n",
    "\n",
    " Two cards are drawn from the pack of 52 cards. What is the probability that both are diamonds or both are queens?\n",
    " \n",
    " \n",
    " Total number of ways of drawing two cards $ = 52C2 = \\frac{52!}{(52-2)!*2!} = \\frac{52!}{50! * 2!} = \\frac{52*51}{2} = 1326.$ \n",
    "\n",
    "Number of ways we can draw 2 diamonds $ = 13C2 = \\frac{13!}{(13-2)!*2!} = \\frac{13!}{11! * 2!} = \\frac{13*12}{2} = 78.$ \n",
    "\n",
    "Number of ways we can draw 2 queens $ = 4C2 = \\frac{4 * 3}{2 * 1} = 6.$\n",
    "\n",
    "In the problem we are drawing two cards and there are no two queens of diamonds so the two events are disjoint.\n",
    "\n",
    "$$ P(\\text{2 diamonds or 2 queens}) = P(\\text{2 diamonds}) + P(\\text{2 queens}) = \\frac{78}{1326} + \\frac{6}{1326} = \\frac{84}{1326} = 0.063396 = 6.34\\% $$\n",
    "    "
   ]
  },
  {
   "cell_type": "markdown",
   "metadata": {},
   "source": [
    "**Example 5.7**\n",
    "\n",
    "What is the probability of getting a sum of 10 from rolling two dice?\n",
    "\n",
    "    Total number of outcomes when we roll two dice = 36\n",
    "\n",
    "    Total number of ways of getting 10 = {(4,6), (5,5),(6,4)} = 3\n",
    "\n",
    "$$ P(\\text{sum 10}) = \\frac{3}{36} = 0.0833 = 8.33\\% $$\n"
   ]
  },
  {
   "cell_type": "markdown",
   "metadata": {},
   "source": [
    "**Example 5.8**\n",
    "\n",
    "If a coin is tossed three times, what is the probability of getting two heads and one tail?\n",
    "\n",
    "    Total number of outcomes = {HHH, HHT, HTH, THH, HTT, THT, TTH, TTT} = 8\n",
    "\n",
    "    Number of outcomes with Two heads and a tail = {HHT, THH, HTH} = 3\n",
    "\n",
    "$$ P(\\text{two H and one T}) =\\frac{3}{8} $$"
   ]
  },
  {
   "cell_type": "markdown",
   "metadata": {},
   "source": [
    "**Example 5.9**\n",
    "\n",
    "In a bag, there are 7 red, 8 blue and 5 green marbles. If one marble is drawn at random. \n",
    "\n",
    "What is the probability of drawing a green marble?\n",
    "\n",
    "Bag: \n",
    "    red = 7\n",
    "    blue = 8\n",
    "    green = 5\n",
    "    \n",
    "total marbles = 20\n",
    "\n",
    "$$ P(\\text{a green}) = \\frac{5}{20} = \\frac{1}{4} = 25\\% $$\n"
   ]
  },
  {
   "cell_type": "markdown",
   "metadata": {},
   "source": [
    "**Example 5.10**\n",
    "\n",
    "In a bag, there are 7 red, 8 blue and 5 green marbles. If one marble is drawn at random. \n",
    "\n",
    "What is the probability of drawing a red marble or a blue marble?\n",
    "\n",
    "Bag: \n",
    "    red = 7\n",
    "    blue = 8\n",
    "    green = 5\n",
    "    \n",
    "total marbles = 20\n",
    "\n",
    "**Solution 1**\n",
    "\n",
    "$$ P(\\text{a red or blue}) = \\frac{7}{20} + \\frac{8}{20} = \\frac{15}{20} = \\frac{3}{4} = 75\\% $$\n",
    "\n",
    "**Solution 2** (By complement) \n",
    "$$P(red) + P(blue) + P(green) = 1 $$\n",
    "$$P(red) + P(blue) = 1 - P(green) = 1 - 0.25 = 0.75 = 75\\%.$$ "
   ]
  },
  {
   "cell_type": "code",
   "execution_count": null,
   "metadata": {},
   "outputs": [],
   "source": []
  },
  {
   "cell_type": "code",
   "execution_count": null,
   "metadata": {},
   "outputs": [],
   "source": []
  }
 ],
 "metadata": {
  "kernelspec": {
   "display_name": "Python 3 (ipykernel)",
   "language": "python",
   "name": "python3"
  },
  "language_info": {
   "codemirror_mode": {
    "name": "ipython",
    "version": 3
   },
   "file_extension": ".py",
   "mimetype": "text/x-python",
   "name": "python",
   "nbconvert_exporter": "python",
   "pygments_lexer": "ipython3",
   "version": "3.10.6"
  },
  "widgets": {
   "state": {},
   "version": "1.1.2"
  }
 },
 "nbformat": 4,
 "nbformat_minor": 4
}
