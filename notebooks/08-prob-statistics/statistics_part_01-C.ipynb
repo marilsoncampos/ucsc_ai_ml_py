{
 "cells": [
  {
   "cell_type": "markdown",
   "metadata": {},
   "source": [
    "### 1. Poisson Distribution\n",
    "\n",
    "In this notebook we will discuss the poisson distribution\n"
   ]
  },
  {
   "cell_type": "code",
   "execution_count": 51,
   "metadata": {},
   "outputs": [],
   "source": [
    "%matplotlib inline\n",
    "\n",
    "import numpy as np\n",
    "from scipy import stats\n",
    "import matplotlib.pyplot as plt\n",
    "\n",
    "\n",
    "def plot(y_func, x_axis, y_axis, title, x_start=0.0, x_end=1.0, ):\n",
    "    x = np.linspace(x_start,x_end, num=200, endpoint=True)\n",
    "    y = y_func(x)\n",
    "    fig, ax = plt.subplots()\n",
    "    ax.set(xlabel=x_axis, ylabel=y_axis, title=title)\n",
    "    ax.plot(x, y)"
   ]
  },
  {
   "cell_type": "markdown",
   "metadata": {},
   "source": [
    "##### 1.1 Problem Scenario\n",
    "\n",
    "We are helping to optimize an e-commerce site sales and create estimations about the number of orders arriving in an hour? \n",
    "\n",
    "We decided to create a random variable X where:\n",
    "\n",
    "$$ X = \\text{# of orders created in one hour} $$"
   ]
  },
  {
   "cell_type": "markdown",
   "metadata": {},
   "source": [
    "#### Observe and record the average for 1 hour\n",
    "\n",
    "We monitor the orders for some an hour and get the average number of orders .\n",
    "\n",
    "$$ E(X) = \\lambda = 35.5 \\text{ orders} $$ "
   ]
  },
  {
   "cell_type": "markdown",
   "metadata": {},
   "source": [
    "#### Assumptions\n",
    "\n",
    "- We are assuming that all hours is similar in respect of number of orders.\n",
    "\n",
    "- We also, assume that the likelihood of receiving an order within any particular minute is constant.\n",
    "\n",
    "  Ex: Average order at minute '1' is very close to orders at minute 'm' for m<>1.\n",
    "  \n",
    "- Number of orders on hour 'h' is independent to the number of orders on hour h+1\n",
    "  "
   ]
  },
  {
   "cell_type": "markdown",
   "metadata": {},
   "source": [
    "#### Modeling using the binomial distribution\n",
    "\n",
    "Let's try to model $\\lambda$ using the binomial distribution.\n",
    "\n",
    "Each experiment is the event of receiving an order at a partibular minute.\n",
    "\n",
    "$$E(X) = \\lambda = \\text{Number of trials} * p(Success) $$\n",
    "\n",
    "We know that:\n",
    "\n",
    "$$ \\text{Number of trials in sixty minutes (n)} = 60 $$\n",
    "\n",
    "$$ p(Success) = \\frac{\\lambda}{n} = \\frac{\\lambda}{60} $$\n"
   ]
  },
  {
   "cell_type": "markdown",
   "metadata": {},
   "source": [
    "The probability that the number of orders in one hour is k is defined by:\n",
    "\n",
    "$$ p(X = k) = \\binom{60}{k} (\\frac{\\lambda}{60})^k (1 - \\frac{\\lambda}{60})^{60-k}\n",
    "$$"
   ]
  },
  {
   "cell_type": "markdown",
   "metadata": {},
   "source": [
    "This seems to be a good estimate, but...\n",
    "\n",
    "__What if two orders arive at the same minute__?"
   ]
  },
  {
   "cell_type": "markdown",
   "metadata": {},
   "source": [
    "Our intuition would make us to divide the periods in seconds.\n",
    "\n",
    "__Then the formula would be:__"
   ]
  },
  {
   "cell_type": "markdown",
   "metadata": {},
   "source": [
    "$$ p(X = k) \\approx \\binom{3600}{k} (\\frac{\\lambda}{3600})^k (1 - \\frac{\\lambda}{3600})^{3600-k}\n",
    "$$"
   ]
  },
  {
   "cell_type": "markdown",
   "metadata": {},
   "source": [
    "We are getting close, but there is still the possibility of having two orders arriving at the same second."
   ]
  },
  {
   "cell_type": "markdown",
   "metadata": {},
   "source": [
    "__Out general formulat is:__"
   ]
  },
  {
   "cell_type": "markdown",
   "metadata": {},
   "source": [
    "$$ p(X = k) \\approx \\binom{N}{k} (\\frac{\\lambda}{N})^k (1 - \\frac{\\lambda}{N})^{N-k}\n",
    "$$"
   ]
  },
  {
   "cell_type": "markdown",
   "metadata": {},
   "source": [
    "To be precise we want to calculate the limit when the number of periods 'N' is very large, making the period very small."
   ]
  },
  {
   "cell_type": "markdown",
   "metadata": {},
   "source": [
    "$$ p(X = k) = \\lim_{n \\to \\infty} \\binom{n}{k} (\\frac{\\lambda}{n})^k (1 - \\frac{\\lambda}{n})^{n-k} $$"
   ]
  },
  {
   "cell_type": "markdown",
   "metadata": {},
   "source": [
    "__Note:__\n",
    "\n",
    "Remembering from the previous sessions...\n",
    "\n",
    "$$ \\frac{x!}{(x-k)!} = (x) . (x-1) ... (x-k+1) $$\n",
    "\n",
    "An example where $ x = 10$ and $k = 4 $:\n",
    "\n",
    "$$ \\frac{10!}{(10-4)!} = (x) . (x-1) ... (10-4+1) = 10 . 9 . 8 . 7 = 5040 $$\n",
    "\n",
    "The expession above has k elements."
   ]
  },
  {
   "cell_type": "markdown",
   "metadata": {},
   "source": [
    "__Back to our problem...__"
   ]
  },
  {
   "cell_type": "markdown",
   "metadata": {},
   "source": [
    "$$ p(X = k) = \\lim_{n \\to \\infty} \\binom{n}{k} (\\frac{\\lambda}{n})^k (1 - \\frac{\\lambda}{n})^{n-k} $$\n",
    "\n",
    "$$ p(X = k) = \\lim_{n \\to \\infty} \\frac{n!}{(n-k)!k!} (\\frac{\\lambda^k}{n^k}) (1 - \\frac{\\lambda}{n})^{n}(1 - \\frac{\\lambda}{n})^{-k} $$\n",
    "\n",
    "$$ p(X = k) = \\lim_{n \\to \\infty} \\frac{(x) * (x-1) ... (x-k+1)}{k!} (\\frac{\\lambda^k}{n^k}) (1 - \\frac{\\lambda}{n})^{n}(1 - \\frac{\\lambda}{n})^{-k} $$\n",
    "\n",
    "Exchange the denominators of first and second terms.\n",
    "\n",
    "$$ p(X = k) = \\lim_{n \\to \\infty} \\frac{(x) * (x-1) ... (x-k+1)}{n^k} (\\frac{\\lambda^k}{k!}) (1 - \\frac{\\lambda}{n})^{n}(1 - \\frac{\\lambda}{n})^{-k} $$\n",
    "\n",
    "__Resolving each part.__\n",
    "\n",
    "$$ p(X = k) = \\lim_{n \\to \\infty} A * B * C * D = $$\n",
    "\n",
    "Where \n",
    "   $$ A = \\frac{(x) * (x-1) ... (x-k+1)}{n^k} $$ and\n",
    "   \n",
    "   $$ B = (\\frac{\\lambda^k}{k!}) $$ and \n",
    "\n",
    "   $$ C = (1 - \\frac{\\lambda}{n})^{n}$$ and\n",
    "   \n",
    "   $$ D = (1 - \\frac{\\lambda}{n})^{-k}$$\n",
    "\n",
    "__The limit of a multiplication is the multiplication of the limits__\n",
    "\n",
    "$$ \\lim_{n \\to C} f1(x) * f2(x) = \\lim_{n \\to C} f1(x) *  \\lim_{n \\to C} f2(x)$$\n",
    "\n",
    "So we separate each limit...\n",
    "\n",
    "$$ p(X = k) = \\lim_{x \\to \\infty} A * \\lim_{n \\to \\infty} B * \\lim_{n \\to \\infty} C * \\lim_{n \\to \\infty} D $$\n",
    "\n",
    "__Now solving each term indenpendently__"
   ]
  },
  {
   "cell_type": "markdown",
   "metadata": {},
   "source": [
    "__1. Solving A__\n",
    "\n",
    "$$ \\lim_{n \\to \\infty} A = \\frac{(n) * (n-1) ... (n-k+1)}{n^k} $$\n",
    "\n",
    "When 'n' approaches infinity the higher order term dominate\n",
    "\n",
    "$$ \\lim_{n \\to \\infty} A = \\frac{(1 . n^k) (c_{2} . n^{k-1}) ... (c_{k} . n^1)}{n^k} = 1 $$\n",
    "\n",
    "$$ \\lim_{n \\to \\infty} A = 1 $$"
   ]
  },
  {
   "cell_type": "markdown",
   "metadata": {},
   "source": [
    "***"
   ]
  },
  {
   "cell_type": "markdown",
   "metadata": {},
   "source": [
    "__2. Solving B__\n",
    "\n",
    "Since B is not a function of 'n', the limit is the value.\n",
    "\n",
    "$$ \\lim_{n \\to \\infty} B = \\lim_{n \\to \\infty} \\frac{\\lambda^k}{k!} = \\frac{\\lambda^k}{k!} $$"
   ]
  },
  {
   "cell_type": "markdown",
   "metadata": {},
   "source": [
    "***"
   ]
  },
  {
   "cell_type": "markdown",
   "metadata": {},
   "source": [
    "__3. Solving C__\n",
    "\n",
    "__Note:__ Before solving C we should remember that!\n",
    "\n",
    "\n",
    "$$ \\lim_{n \\to \\infty}(1 + \\frac{c}{n})^{n} = e^{c}\n",
    "$$ \n",
    "\n",
    "$ x = (n * c) $ that gives $ \\frac{c}{x} = \\frac{1}{n} $\n",
    "\n",
    "$$ \\lim_{x \\to \\infty} n = \\lim_{x \\to \\infty} \\frac{x}{c}  = \\infty $$\n",
    "\n",
    "Replacing the limits to use 'n'\n",
    "\n",
    "$$ \\lim_{n \\to \\infty} (1 + \\frac{c}{x})^{x} $$\n",
    "\n",
    "We know that $ x = n * c $ and $ \\frac{c}{x} = \\frac{1}{n} $\n",
    "\n",
    "Then \n",
    "$$ \\lim_{n \\to \\infty} (1 + \\frac{c}{x})^{x} = \\lim_{n \\to \\infty} (1 + \\frac{1}{n})^{n*c}$$\n",
    "\n",
    "$$ = \\lim_{n \\to \\infty} ((1 + \\frac{1}{n})^{n})^{c} $$\n",
    "\n",
    "From the definition of '$e$'\n",
    "\n",
    "$$ e =  \\lim_{x \\to \\infty} (1 + \\frac{1}{x})^{x} $$\n",
    "\n",
    "Then \n",
    "\n",
    "$$ (\\lim_{n \\to \\infty} (1 + \\frac{1}{n})^{n})^{c} = e^{c} $$\n",
    "\n",
    "\n",
    "_If_\n",
    "$$ \\lim_{n \\to \\infty}(1 + \\frac{c}{n})^{n} = e^{c} $$\n",
    "\n",
    "__then__\n",
    "$$ \\lim_{n \\to \\infty} C = \\lim_{n \\to \\infty} (1 - \\frac{\\lambda}{n})^{n}$$ \n",
    "\n",
    "making $ c = -\\lambda$, gives\n",
    "\n",
    "$$ \\lim_{n \\to \\infty} C = e^{-\\lambda} $$"
   ]
  },
  {
   "cell_type": "markdown",
   "metadata": {},
   "source": [
    "***"
   ]
  },
  {
   "cell_type": "markdown",
   "metadata": {},
   "source": [
    "__4. Solving D__\n",
    "\n",
    "$$ \\lim_{n \\to \\infty} D = (1 - \\frac{\\lambda}{n})^{-k} $$\n",
    "\n",
    "Notice that\n",
    "\n",
    "$$ \\lim_{n \\to \\infty} \\frac{\\lambda}{n} = 0 $$\n",
    "\n",
    "So\n",
    "\n",
    "$$ \\lim_{n \\to \\infty} D = (1 - 0)^{-k} = 1 $$\n"
   ]
  },
  {
   "cell_type": "markdown",
   "metadata": {},
   "source": [
    "***"
   ]
  },
  {
   "cell_type": "markdown",
   "metadata": {
    "tags": []
   },
   "source": [
    "__Putting everything back together__\n",
    "\n",
    "We have:\n",
    "\n",
    "$$ p(X = k) = \\lim_{n \\to \\infty} A * \\lim_{n \\to \\infty} B * \\lim_{n \\to \\infty} C * \\lim_{n \\to \\infty} D $$\n",
    "\n",
    "$$ p(X = k) = 1 * \\frac{\\lambda^k}{k!} * e^{-\\lambda} * 1 $$\n",
    "\n",
    "$$ p(X = k) = \\frac{\\lambda^k}{k!} e^{-\\lambda}  $$\n",
    "\n",
    "__We conclude that:__\n",
    "\n",
    "$$ \\lim_{n \\to \\infty} \\binom{n}{k} (\\frac{\\lambda}{n})^k (1 - \\frac{\\lambda}{n})^{n-k} =  \\frac{\\lambda^k}{k!} e^{-\\lambda} $$\n",
    "\n",
    "\n",
    "$$ P(X = k) =  \\frac{\\lambda^k}{k!} e^{-\\lambda} $$\n"
   ]
  },
  {
   "cell_type": "markdown",
   "metadata": {},
   "source": [
    "Now back to our original e-commerce problem:\n",
    "\n",
    "Whats the probability of receiving 40 orders in one hour?\n",
    "\n",
    "We need to find $P(X = 40)$ and $ \\lambda=35.5$ \n",
    "\n",
    "\n",
    "From the formula:\n",
    "\n",
    "$$ P(X = 40) =  \\frac{35.5^{40}}{40!} e^{-35.5} = 4.79\\% $$"
   ]
  },
  {
   "cell_type": "code",
   "execution_count": 52,
   "metadata": {},
   "outputs": [],
   "source": [
    "from math import factorial, exp"
   ]
  },
  {
   "cell_type": "code",
   "execution_count": 53,
   "metadata": {},
   "outputs": [],
   "source": [
    "def poisson(x, value_lambda):\n",
    "    return ( (value_lambda ** x)/factorial(x)) * exp(-value_lambda)\n",
    "\n",
    "def report_poisson_ecom(x, value_lambda=35.5):\n",
    "    print('P(X={0}) = {1:.2f}%'.format(x, ecommerce_p(x) * 100))"
   ]
  },
  {
   "cell_type": "code",
   "execution_count": 57,
   "metadata": {},
   "outputs": [
    {
     "name": "stdout",
     "output_type": "stream",
     "text": [
      "P(X=40) = 4.79%\n",
      "P(X=35) = 6.70%\n",
      "P(X=36) = 6.61%\n"
     ]
    }
   ],
   "source": [
    "report_poisson_ecom(40)\n",
    "report_poisson_ecom(35)\n",
    "report_poisson_ecom(36)"
   ]
  },
  {
   "cell_type": "code",
   "execution_count": 58,
   "metadata": {},
   "outputs": [],
   "source": [
    "x = list(range(5, 65))\n",
    "y = [poisson(v, 33.5) for v in x]"
   ]
  },
  {
   "cell_type": "code",
   "execution_count": 59,
   "metadata": {},
   "outputs": [
    {
     "data": {
      "image/png": "[encoded data removed]",
      "text/plain": [
       "<Figure size 640x480 with 1 Axes>"
      ]
     },
     "metadata": {},
     "output_type": "display_data"
    }
   ],
   "source": [
    "import matplotlib.pyplot as plt\n",
    "\n",
    "plt.plot(x, y, color='blue', marker='.', linestyle='dotted', linewidth=1, markersize=2)\n",
    "plt.xlabel('x') \n",
    "plt.ylabel('y') \n",
    "plt.fill_between(x, y, step=\"pre\", alpha=0.1)\n",
    "\n",
    "plt.title(\"Poisson for the e-commerce\")\n",
    "  \n",
    "plt.show()"
   ]
  },
  {
   "cell_type": "markdown",
   "metadata": {},
   "source": [
    "Notice that the highest point close to our empirical average $\\lambda = 35.5$"
   ]
  },
  {
   "cell_type": "code",
   "execution_count": null,
   "metadata": {},
   "outputs": [],
   "source": []
  }
 ],
 "metadata": {
  "kernelspec": {
   "display_name": "Python 3 (ipykernel)",
   "language": "python",
   "name": "python3"
  },
  "language_info": {
   "codemirror_mode": {
    "name": "ipython",
    "version": 3
   },
   "file_extension": ".py",
   "mimetype": "text/x-python",
   "name": "python",
   "nbconvert_exporter": "python",
   "pygments_lexer": "ipython3",
   "version": "3.10.6"
  },
  "widgets": {
   "state": {},
   "version": "1.1.2"
  }
 },
 "nbformat": 4,
 "nbformat_minor": 4
}
