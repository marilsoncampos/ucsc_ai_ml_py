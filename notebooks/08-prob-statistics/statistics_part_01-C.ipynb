{
 "cells": [
  {
   "cell_type": "markdown",
   "metadata": {},
   "source": [
    "### 1. Poisson\n",
    "\n",
    "In this notebook we will discuss the poisson distribution\n"
   ]
  },
  {
   "cell_type": "code",
   "execution_count": 2,
   "metadata": {},
   "outputs": [],
   "source": [
    "%matplotlib inline\n",
    "\n",
    "import numpy as np\n",
    "from scipy import stats\n",
    "import matplotlib.pyplot as plt\n",
    "\n",
    "\n",
    "def plot(y_func, x_axis, y_axis, title, x_start=0.0, x_end=1.0, ):\n",
    "    x = np.linspace(x_start,x_end, num=200, endpoint=True)\n",
    "    y = y_func(x)\n",
    "    fig, ax = plt.subplots()\n",
    "    ax.set(xlabel=x_axis, ylabel=y_axis, title=title)\n",
    "    ax.plot(x, y)"
   ]
  },
  {
   "cell_type": "markdown",
   "metadata": {},
   "source": [
    "##### 1.1 Problem Scenario\n",
    "\n",
    "We are helping to optimize an e-commerce operation. We are asked to create estimations about the number of orders arriving in an hour? \n",
    "\n",
    "We decided to create a random variable X where:\n",
    "\n",
    "$$ X = \\text{# of orders created in one hour} $$"
   ]
  },
  {
   "cell_type": "markdown",
   "metadata": {},
   "source": [
    "#### Assumptions\n",
    "\n",
    "- We are assuming that all hours is similar in respect of number of orders.\n",
    "\n",
    "- We also, assume that the likelihood of receiving an order within any particular minute is constant.\n",
    "\n",
    "  Ex: Average order at minute '1' is very close to orders at minute 'm' for m<>1.\n",
    "  \n",
    "- Number of orders on hour 'h' is independent to the number of orders on hour h+1\n",
    "  "
   ]
  },
  {
   "cell_type": "markdown",
   "metadata": {},
   "source": [
    "#### Observe and record the average for 1 hour\n",
    "\n",
    "We monitor the orders for some an hour and get the average number of orders .\n",
    "\n",
    "$$ E(X) = \\lambda = 35.5 \\text{ orders} $$ "
   ]
  },
  {
   "cell_type": "markdown",
   "metadata": {},
   "source": [
    "#### Modeling using binomial distribution\n",
    "\n",
    "Let's try to model $\\lambda$ using the binomial distribution.\n",
    "\n",
    "Each experiment is the event of receiving an order at a partibular minute.\n",
    "\n",
    "$$E(X) = \\lambda = \\text{Number of trials} * p(Success) $$\n",
    "\n",
    "We know that:\n",
    "\n",
    "a) Number of trials = 60 (sixty minutes in one hour)\n",
    "\n",
    "b) p(Success) = $ \\frac{\\lambda}{60} $\n"
   ]
  },
  {
   "cell_type": "markdown",
   "metadata": {},
   "source": [
    "The probability that the number of orders in one hour is k is defined by:\n",
    "\n",
    "$$ p(X = k) = \\binom{60}{k} (\\frac{\\lambda}{60})^k (1 - \\frac{\\lambda}{60})^{60-k}\n",
    "$$"
   ]
  },
  {
   "cell_type": "markdown",
   "metadata": {},
   "source": [
    "This seems to be a good estimate, but __what if two orders arive at the same minute__?"
   ]
  },
  {
   "cell_type": "markdown",
   "metadata": {},
   "source": [
    "Our intuition would be to divide the periods in seconds.\n",
    "\n",
    "Then the formula would be:"
   ]
  },
  {
   "cell_type": "markdown",
   "metadata": {},
   "source": [
    "$$ p(X = k) \\approx \\binom{3600}{k} (\\frac{\\lambda}{3600})^k (1 - \\frac{\\lambda}{3600})^{3600-k}\n",
    "$$"
   ]
  },
  {
   "cell_type": "markdown",
   "metadata": {},
   "source": [
    "We are getting close, but there is still the possibility of having two orders arriving at the same second."
   ]
  },
  {
   "cell_type": "markdown",
   "metadata": {},
   "source": [
    "The general formulat is:"
   ]
  },
  {
   "cell_type": "markdown",
   "metadata": {},
   "source": [
    "$$ p(X = k) \\approx \\binom{N}{k} (\\frac{\\lambda}{N})^k (1 - \\frac{\\lambda}{N})^{N-k}\n",
    "$$"
   ]
  },
  {
   "cell_type": "markdown",
   "metadata": {},
   "source": [
    "To be precise we want to calculate the limit when the number of periods 'n' is very large, making the period very small."
   ]
  },
  {
   "cell_type": "markdown",
   "metadata": {},
   "source": [
    "$$ p(X = k) = \\lim_{n \\to \\infty} \\binom{n}{k} (\\frac{\\lambda}{n})^k (1 - \\frac{\\lambda}{n})^{n-k} $$"
   ]
  },
  {
   "cell_type": "markdown",
   "metadata": {},
   "source": [
    "Remember from the previous sessions:\n",
    "\n",
    "$$ \\frac{x!}{(x-k)!} = (x) * (x-1) ... (x-k+1) $$\n",
    "\n",
    "The expession above has k elements."
   ]
  },
  {
   "cell_type": "markdown",
   "metadata": {},
   "source": [
    "$$ p(X = k) = \\lim_{n \\to \\infty} \\binom{n}{k} (\\frac{\\lambda}{N})^k (1 - \\frac{\\lambda}{N})^{N-k} $$\n",
    "\n",
    "$$ p(X = k) = \\lim_{n \\to \\infty} \\frac{n!}{(n-k)!k!} (\\frac{\\lambda^k}{n^k}) (1 - \\frac{\\lambda}{n})^{n}(1 - \\frac{\\lambda}{n})^{-k} $$\n",
    "\n",
    "$$ p(X = k) = \\lim_{n \\to \\infty} \\frac{(x) * (x-1) ... (x-k+1)}{k!} (\\frac{\\lambda^k}{n^k}) (1 - \\frac{\\lambda}{n})^{n}(1 - \\frac{\\lambda}{n})^{-k} $$\n",
    "\n",
    "Exchange the denominators of first and second terms.\n",
    "\n",
    "$$ p(X = k) = \\lim_{n \\to \\infty} \\frac{(x) * (x-1) ... (x-k+1)}{n^k} (\\frac{\\lambda^k}{k!}) (1 - \\frac{\\lambda}{n})^{n}(1 - \\frac{\\lambda}{n})^{-k} $$\n",
    "\n",
    "The limit of a multiplication is the multiplication of the limits.\n",
    "\n",
    "$$ p(X = k) = \\lim_{n \\to \\infty} A * B * C * D $$\n",
    "\n",
    "$$ p(X = k) = \\lim_{n \\to \\infty} A * \\lim_{n \\to \\infty} B * \\lim_{n \\to \\infty} C * \\lim_{n \\to \\infty} D $$\n",
    "\n",
    "Now solving each term indenpendently"
   ]
  },
  {
   "cell_type": "markdown",
   "metadata": {},
   "source": [
    "Solving A\n",
    "\n",
    "$$ \\lim_{n \\to \\infty} A = \\frac{(n) * (n-1) ... (n-k+1)}{n^k} $$\n",
    "\n",
    "When 'n' approaches infinity the higher order term dominate\n",
    "\n",
    "$$ \\lim_{n \\to \\infty} A = \\frac{(1 . n^k) (c_{2} . n^{k-1}) ... (c_{k} . n^1)}{n^k} = 1 $$\n",
    "\n",
    "$$ \\lim_{n \\to \\infty} A = 1 $$"
   ]
  },
  {
   "cell_type": "markdown",
   "metadata": {},
   "source": [
    "Solving B\n",
    "\n",
    "Since B is not a function of 'n', the limit is the value.\n",
    "\n",
    "$$ \\lim_{n \\to \\infty} B = \\lim_{n \\to \\infty} \\frac{\\lambda^k}{k!} = \\frac{\\lambda^k}{k!} $$"
   ]
  },
  {
   "cell_type": "markdown",
   "metadata": {},
   "source": [
    "Solving C\n",
    "\n",
    "Before solving C we should remember that:\n",
    "\n",
    "$$ \\lim_{x \\to \\infty} ({1 + \\frac{c}{x}})^x = e^c$$ \n",
    "\n",
    "So \n",
    "\n",
    "$$ \\lim_{n \\to \\infty} C = \\lim_{n \\to \\infty}(1 - \\frac{c}{n})^{n} = e^{-c} $$ and \n",
    "\n",
    "$$ c = \\lambda$$ \n",
    "\n",
    "So replacing in the formula\n",
    "\n",
    "$$ \\lim_{n \\to \\infty}(1 - \\frac{\\lambda}{n})^{n} = e^{-\\lambda} $$"
   ]
  },
  {
   "cell_type": "markdown",
   "metadata": {},
   "source": [
    "Solving D\n",
    "\n",
    "$$ \\lim_{n \\to \\infty} D = (1 - \\frac{\\lambda}{n})^{-k} $$\n",
    "\n",
    "Notice that $ \\frac{\\lambda}{n} $ will approach zero as 'n' grows to $\\infty$.\n",
    "\n",
    "$$ \\lim_{n \\to \\infty} D = (1 - 0)^{-k} = 1 $$\n"
   ]
  },
  {
   "cell_type": "markdown",
   "metadata": {
    "tags": []
   },
   "source": [
    "Putting everything back together we have:\n",
    "\n",
    "$$ p(X = k) = \\lim_{n \\to \\infty} A * \\lim_{n \\to \\infty} B * \\lim_{n \\to \\infty} C * \\lim_{n \\to \\infty} D $$\n",
    "\n",
    "$$ p(X = k) = 1 * \\frac{\\lambda^k}{k!} * e^{-\\lambda} * 1 $$\n",
    "\n",
    "$$ p(X = k) = \\frac{\\lambda^k}{k!} e^{-\\lambda}  $$\n",
    "\n",
    "Going back from our initial formula..\n",
    "\n",
    "$$ p(X = k) = \\lim_{n \\to \\infty} \\binom{n}{k} (\\frac{\\lambda}{n})^k (1 - \\frac{\\lambda}{n})^{n-k} =  \\frac{\\lambda^k}{k!} e^{-\\lambda} $$\n"
   ]
  },
  {
   "cell_type": "markdown",
   "metadata": {},
   "source": [
    "#### Proof \n",
    "\n",
    "\n",
    "$$ \\lim_{n \\to \\infty}(1 - \\frac{c}{n})^{n} = e^{-c}$$ \n",
    "\n",
    "We will make the following substitution:\n",
    "\n",
    "$ n_1 = (n * c) $ that gives $ \\frac{1}{n} = \\frac{c}{n_1} $\n",
    "\n",
    "Replacing in the formula"
   ]
  },
  {
   "cell_type": "markdown",
   "metadata": {},
   "source": [
    "$$ \\lim_{n_1 \\to \\infty} ({1 + \\frac{1}{n_1}})^{-n_1} $$ \n",
    "\n",
    "$$ \\lim_{n_1 \\to \\infty} ({1 + \\frac{1}{n_1}})^{n*c} $$ \n",
    "\n",
    "$$ (\\lim_{n_1\\to \\infty} ({1 + \\frac{1}{n}})^{n})^{-c} $$ \n",
    "\n",
    "We know that:\n",
    "\n",
    "$$ \\lim_{n \\to \\infty} ({1 + \\frac{1}{n}})^{n} = e$$ \n",
    "\n",
    "So:\n",
    "$$ (\\lim_{n \\to \\infty} ({1 + \\frac{1}{n}})^{n})^{c} = e^c$$\n",
    "\n"
   ]
  },
  {
   "cell_type": "code",
   "execution_count": null,
   "metadata": {},
   "outputs": [],
   "source": []
  }
 ],
 "metadata": {
  "kernelspec": {
   "display_name": "Python 3 (ipykernel)",
   "language": "python",
   "name": "python3"
  },
  "language_info": {
   "codemirror_mode": {
    "name": "ipython",
    "version": 3
   },
   "file_extension": ".py",
   "mimetype": "text/x-python",
   "name": "python",
   "nbconvert_exporter": "python",
   "pygments_lexer": "ipython3",
   "version": "3.10.6"
  },
  "widgets": {
   "state": {},
   "version": "1.1.2"
  }
 },
 "nbformat": 4,
 "nbformat_minor": 4
}
