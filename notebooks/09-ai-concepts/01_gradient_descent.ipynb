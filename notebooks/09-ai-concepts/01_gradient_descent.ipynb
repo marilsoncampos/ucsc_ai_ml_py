{
 "cells": [
  {
   "cell_type": "markdown",
   "id": "6bd8cef3-1f8b-414c-93a2-c588eed450cc",
   "metadata": {},
   "source": [
    "#### Gradient Descent "
   ]
  },
  {
   "cell_type": "markdown",
   "id": "16f23d5a-d5bb-45b4-b014-c5635b3cbd52",
   "metadata": {},
   "source": [
    "##### Intuition"
   ]
  },
  {
   "cell_type": "markdown",
   "id": "1e357041-39f8-435e-8efb-694766e57a4b",
   "metadata": {},
   "source": [
    "<div>\n",
    "<img src=\"img/gradient_descent.png\" width=\"400\"/>\n",
    "</div>"
   ]
  },
  {
   "cell_type": "markdown",
   "id": "9ddbdd9e-0b74-4b86-a2f0-f39729eafa80",
   "metadata": {},
   "source": [
    "#### Using Python Symbolic Library to calculate derivative"
   ]
  },
  {
   "cell_type": "markdown",
   "id": "5f1acdc9-ed9e-48d3-b76d-75134262f88b",
   "metadata": {},
   "source": [
    "from sympy import Symbol, diff, Float\n",
    "import numpy as np\n",
    "import matplotlib.pyplot as plt"
   ]
  },
  {
   "cell_type": "code",
   "execution_count": 18,
   "id": "fe914c03-2fe0-4585-ac58-1fc4a34c51ef",
   "metadata": {},
   "outputs": [],
   "source": [
    "from sympy import Symbol, Float, diff, solve\n",
    "import numpy as np"
   ]
  },
  {
   "cell_type": "code",
   "execution_count": 19,
   "id": "7b2d4bb1-52af-45bc-af81-9855c4b92899",
   "metadata": {},
   "outputs": [],
   "source": [
    "# Define symbols\n",
    "x = Symbol('x')\n",
    "y = Symbol('y')"
   ]
  },
  {
   "cell_type": "code",
   "execution_count": 22,
   "id": "93c83c8a-6168-4be7-bd29-ec5259d01409",
   "metadata": {},
   "outputs": [
    {
     "name": "stdout",
     "output_type": "stream",
     "text": [
      "y = F(x) "
     ]
    },
    {
     "data": {
      "image/png": "[encoded data removed]",
      "text/latex": [
       "$\\displaystyle 3 x^{2} - 2 x + 5$"
      ],
      "text/plain": [
       "   2          \n",
       "3⋅x  - 2⋅x + 5"
      ]
     },
     "execution_count": 22,
     "metadata": {},
     "output_type": "execute_result"
    }
   ],
   "source": [
    "# Use the symbols to define a function\n",
    "from sympy import init_printing\n",
    "init_printing() \n",
    "func = 3*(x**2)-2*x+5\n",
    "print('y = F(x)', end=' ')\n",
    "func"
   ]
  },
  {
   "cell_type": "code",
   "execution_count": 23,
   "id": "296ba848-b914-4a5f-948f-4518473c821e",
   "metadata": {},
   "outputs": [
    {
     "name": "stdout",
     "output_type": "stream",
     "text": [
      "y = F'(x)\n"
     ]
    },
    {
     "data": {
      "image/png": "[encoded data removed]",
      "text/latex": [
       "$\\displaystyle 6 x - 2$"
      ],
      "text/plain": [
       "6⋅x - 2"
      ]
     },
     "execution_count": 23,
     "metadata": {},
     "output_type": "execute_result"
    }
   ],
   "source": [
    "# Calculate derivative symbolically\n",
    "func_lamb = lambda n: func.subs({x: n})\n",
    "gradient_func = diff(func_lamb(x), x)\n",
    "print(\"y = F'(x)\")\n",
    "gradient_func\n"
   ]
  },
  {
   "cell_type": "code",
   "execution_count": 28,
   "id": "5d29dc05-69ce-443c-8280-9f17eea921df",
   "metadata": {},
   "outputs": [
    {
     "name": "stdout",
     "output_type": "stream",
     "text": [
      "y = 6*x - 2 for x=3 => y = 16.0\n",
      "y = 6*x - 2 for x=4.21 => y = 23.3\n",
      " \n",
      "The minimum value for F(x) is located at x=0.3333333333333333\n"
     ]
    }
   ],
   "source": [
    "# Calculate the value for one x value\n",
    "def get_gradient_value(value):\n",
    "    input_value = Float(value, 3)\n",
    "    return gradient_func.subs({x: input_value})\n",
    "\n",
    "\n",
    "def print_calculation(value):\n",
    "    result = get_gradient_value(value)\n",
    "    print(f'y = {gradient_func} for x={value} => y = {result}')\n",
    "    \n",
    "print_calculation(3)\n",
    "print_calculation(4.21)\n",
    "print(' ')\n",
    "result = solve(gradient_func)[0]\n",
    "print(\"The minimum value for F(x) is located at x={0}\".format(float(result)))"
   ]
  },
  {
   "cell_type": "code",
   "execution_count": 29,
   "id": "0e7b8050-ff56-4a0b-bb64-38c8e4915d53",
   "metadata": {},
   "outputs": [],
   "source": [
    "# Define the range for the function\n",
    "x_range = np.linspace(-2, 2, 100)"
   ]
  },
  {
   "cell_type": "code",
   "execution_count": 30,
   "id": "a7a39d9e-c21e-4ab5-be88-3e650840b3de",
   "metadata": {},
   "outputs": [],
   "source": [
    "derivative_y = [gradient_func.subs({x: Float(i)}) for i in x_range ]"
   ]
  },
  {
   "cell_type": "code",
   "execution_count": 31,
   "id": "4fb5a843-2d94-41ce-b5d3-2e57f717033a",
   "metadata": {},
   "outputs": [
    {
     "data": {
      "image/png": "[encoded data removed]",
      "text/plain": [
       "<Figure size 640x480 with 1 Axes>"
      ]
     },
     "metadata": {},
     "output_type": "display_data"
    }
   ],
   "source": [
    "import numpy as np\n",
    "import matplotlib.pyplot as plt\n",
    "\n",
    "x_values = x_range.tolist()\n",
    "y_values = [ func_lamb(Float(i)) for i in x_range ]\n",
    "\n",
    "str_func = f'The function y = {func}'\n",
    "fig = plt.figure()\n",
    "axdef = fig.add_subplot(1, 1, 1)\n",
    "axdef.spines['left'].set_position('center')\n",
    "axdef.spines['bottom'].set_position('zero')\n",
    "axdef.spines['right'].set_color('none')\n",
    "axdef.spines['top'].set_color('none')\n",
    "plt.title(str_func)\n",
    "axdef.xaxis.set_ticks_position('bottom')\n",
    "axdef.yaxis.set_ticks_position('left')\n",
    "\n",
    "plt.plot(x_values, y_values, 'b')\n",
    "plt.show()\n"
   ]
  },
  {
   "cell_type": "code",
   "execution_count": 32,
   "id": "2177e68d-85b9-4255-b8fa-49b83dcb950b",
   "metadata": {},
   "outputs": [
    {
     "name": "stdout",
     "output_type": "stream",
     "text": [
      "      --- Listing interactions --- \n",
      "\n",
      "    #1 x = 2.84000    #2 x = 2.68961    #3 x = 2.54824    #4 x = 2.41535\n",
      "    #5 x = 2.29043    #6 x = 2.17301    #7 x = 2.06264    #8 x = 1.95889\n",
      "    #9 x = 1.86135   #10 x = 1.76967   #11 x = 1.68348   #12 x = 1.60246\n",
      "   #13 x = 1.52631   #14 x = 1.45473   #15 x = 1.38744   #16 x = 1.32420\n",
      "   #17 x = 1.26475   #18 x = 1.20887   #19 x = 1.15633   #20 x = 1.10695\n",
      "   #21 x = 1.06054   #22 x = 1.01690   #23 x = 0.97589   #24 x = 0.93733\n",
      "   #25 x = 0.90109   #26 x = 0.86703   #27 x = 0.83501   #28 x = 0.80491\n",
      "   #29 x = 0.77661   #30 x = 0.75001   #31 x = 0.72501   #32 x = 0.70151\n",
      "   #33 x = 0.67942   #34 x = 0.65866   #35 x = 0.63914   #36 x = 0.62079\n",
      "   #37 x = 0.60354   #38 x = 0.58733   #39 x = 0.57209   #40 x = 0.55777\n",
      "   #41 x = 0.54430   #42 x = 0.53165   #43 x = 0.51975   #44 x = 0.50856\n",
      "   #45 x = 0.49805   #46 x = 0.48817   #47 x = 0.47888   #48 x = 0.47015\n",
      "   #49 x = 0.46194   #50 x = 0.45423   #51 x = 0.44697   #52 x = 0.44016\n",
      "   #53 x = 0.43375   #54 x = 0.42772   #55 x = 0.42206   #56 x = 0.41673\n",
      "   #57 x = 0.41173   #58 x = 0.40702   #59 x = 0.40260   #60 x = 0.39844\n",
      "   #61 x = 0.39454   #62 x = 0.39086   #63 x = 0.38741   #64 x = 0.38417\n",
      "   #65 x = 0.38112   #66 x = 0.37826   #67 x = 0.37556   #68 x = 0.37303\n",
      "   #69 x = 0.37064   #70 x = 0.36840   #71 x = 0.36630   #72 x = 0.36432\n",
      "   #73 x = 0.36246   #74 x = 0.36071   #75 x = 0.35907   #76 x = 0.35753\n",
      "   #77 x = 0.35607   #78 x = 0.35471   #79 x = 0.35342   #80 x = 0.35222\n",
      "   #81 x = 0.35109   #82 x = 0.35002   #83 x = 0.34902   #84 x = 0.34809\n",
      "   #85 x = 0.34720   #86 x = 0.34637   #87 x = 0.34559   #88 x = 0.34485\n",
      "   #89 x = 0.34416   #90 x = 0.34351   #91 x = 0.34290   #92 x = 0.34232\n",
      "   #93 x = 0.34178   #94 x = 0.34127   #95 x = 0.34080   #96 x = 0.34035\n",
      "   #97 x = 0.33993   #98 x = 0.33954   #99 x = 0.33917  #100 x = 0.33881\n",
      "  #101 x = 0.33849  #102 x = 0.33817  #103 x = 0.33788  #104 x = 0.33761\n",
      "  #105 x = 0.33735  #106 x = 0.33711  #107 x = 0.33689  #108 x = 0.33667\n",
      "  #109 x = 0.33647  #110 x = 0.33628  #111 x = 0.33611  #112 x = 0.33594\n",
      "  #113 x = 0.33579  #114 x = 0.33564  #115 x = 0.33550  #116 x = 0.33537\n",
      "  #117 x = 0.33525  #118 x = 0.33513  #119 x = 0.33502  #120 x = 0.33492\n",
      "  #121 x = 0.33483  #122 x = 0.33474  #123 x = 0.33466  #124 x = 0.33458\n",
      "  #125 x = 0.33450  #126 x = 0.33443  #127 x = 0.33437  #128 x = 0.33431\n",
      "  #129 x = 0.33425  #130 x = 0.33420  #131 x = 0.33415  #132 x = 0.33410\n",
      "  #133 x = 0.33405  #134 x = 0.33400  #135 x = 0.33396  #136 x = 0.33393\n",
      "  #137 x = 0.33389  #138 x = 0.33386  #139 x = 0.33383  #140 x = 0.33380\n",
      "  #141 x = 0.33377  #142 x = 0.33375  #143 x = 0.33372  #144 x = 0.33370\n",
      "  #145 x = 0.33368  #146 x = 0.33366  #147 x = 0.33364  #148 x = 0.33362\n",
      "  #149 x = 0.33360  #150 x = 0.33358  #151 x = 0.33356  #152 x = 0.33355\n",
      "  #153 x = 0.33354  #154 x = 0.33352  #155 x = 0.33351  #156 x = 0.33350\n",
      "  #157 x = 0.33349  #158 x = 0.33348  #159 x = 0.33347  #160 x = 0.33346\n",
      "  #161 x = 0.33346  #162 x = 0.33345  #163 x = 0.33345  #164 x = 0.33344\n",
      "  #165 x = 0.33344  #166 x = 0.33343  #167 x = 0.33343  #168 x = 0.33342\n",
      "  #169 x = 0.33342  #170 x = 0.33341  #171 x = 0.33341  #172 x = 0.33340\n",
      "\n",
      "  The minimum F(x) =  0.333403320312500\n"
     ]
    }
   ],
   "source": [
    "# Some learning params\n",
    "# \n",
    "\n",
    "class Solver:\n",
    "    def __init__(self):\n",
    "        self.line = ''\n",
    "        self.current_elms = 0\n",
    "        self.elements_per_line = 4\n",
    "        \n",
    "    def emit_message(self, msg):\n",
    "        if self.current_elms < self.elements_per_line:\n",
    "            self.current_elms += 1\n",
    "            self.line += '  ' + msg\n",
    "        else:\n",
    "            print(self.line)\n",
    "            self.line = '  ' + msg\n",
    "            self.current_elms = 1\n",
    "\n",
    "    def find_solution(self):\n",
    "        ActualX = 3 \n",
    "        LearningRate = 0.01 \n",
    "        PrecisionValue = 0.000001 \n",
    "        PreviousStepSize = 1 \n",
    "        MaxIteration = 10000 \n",
    "        IterationCounter = 0 \n",
    "        print('      --- Listing interactions --- \\n')\n",
    "        while PreviousStepSize > PrecisionValue and IterationCounter < MaxIteration:\n",
    "            PreviousX = ActualX\n",
    "            ActualX = ActualX - LearningRate * get_gradient_value(PreviousX) \n",
    "            PreviousStepSize = abs(ActualX - PreviousX) \n",
    "            IterationCounter = IterationCounter+1 \n",
    "            iter_str = '#' + str(IterationCounter)\n",
    "            self.emit_message(f\"{iter_str:>4} x = {ActualX:0.5f}\") \n",
    "        print(\"\\n  The minimum F(x) = \", ActualX)\n",
    "\n",
    "s = Solver()\n",
    "s.find_solution()\n"
   ]
  },
  {
   "cell_type": "code",
   "execution_count": null,
   "id": "25029711-0dd3-48b0-b41f-9c45b024354c",
   "metadata": {},
   "outputs": [],
   "source": []
  },
  {
   "cell_type": "code",
   "execution_count": null,
   "id": "438f09ca-58ad-40cc-9b23-4923d77cceb7",
   "metadata": {},
   "outputs": [],
   "source": []
  }
 ],
 "metadata": {
  "kernelspec": {
   "display_name": "Python 3 (ipykernel)",
   "language": "python",
   "name": "python3"
  },
  "language_info": {
   "codemirror_mode": {
    "name": "ipython",
    "version": 3
   },
   "file_extension": ".py",
   "mimetype": "text/x-python",
   "name": "python",
   "nbconvert_exporter": "python",
   "pygments_lexer": "ipython3",
   "version": "3.10.6"
  }
 },
 "nbformat": 4,
 "nbformat_minor": 5
}
