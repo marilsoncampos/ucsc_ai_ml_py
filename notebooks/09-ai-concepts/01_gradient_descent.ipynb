{
 "cells": [
  {
   "cell_type": "markdown",
   "id": "6bd8cef3-1f8b-414c-93a2-c588eed450cc",
   "metadata": {},
   "source": [
    "#### Gradient Descent "
   ]
  },
  {
   "cell_type": "markdown",
   "id": "16f23d5a-d5bb-45b4-b014-c5635b3cbd52",
   "metadata": {},
   "source": [
    "##### Intuition"
   ]
  },
  {
   "cell_type": "markdown",
   "id": "1e357041-39f8-435e-8efb-694766e57a4b",
   "metadata": {},
   "source": [
    "<div>\n",
    "<img src=\"img/gradient_descent.png\" width=\"400\"/>\n",
    "</div>"
   ]
  },
  {
   "cell_type": "markdown",
   "id": "9ddbdd9e-0b74-4b86-a2f0-f39729eafa80",
   "metadata": {},
   "source": [
    "#### Using Python Symbolic Library to calculate derivative"
   ]
  },
  {
   "cell_type": "markdown",
   "id": "5f1acdc9-ed9e-48d3-b76d-75134262f88b",
   "metadata": {},
   "source": [
    "from sympy import Symbol, diff, Float\n",
    "import numpy as np\n",
    "import matplotlib.pyplot as plt"
   ]
  },
  {
   "cell_type": "code",
   "execution_count": 8,
   "id": "fe914c03-2fe0-4585-ac58-1fc4a34c51ef",
   "metadata": {},
   "outputs": [],
   "source": [
    "from sympy import Symbol, Float, diff, solve\n",
    "import numpy as np"
   ]
  },
  {
   "cell_type": "code",
   "execution_count": 9,
   "id": "7b2d4bb1-52af-45bc-af81-9855c4b92899",
   "metadata": {},
   "outputs": [],
   "source": [
    "# Define symbols\n",
    "x = Symbol('x')\n",
    "y = Symbol('y')"
   ]
  },
  {
   "cell_type": "code",
   "execution_count": 49,
   "id": "93c83c8a-6168-4be7-bd29-ec5259d01409",
   "metadata": {},
   "outputs": [
    {
     "name": "stdout",
     "output_type": "stream",
     "text": [
      "y = F(x) "
     ]
    },
    {
     "data": {
      "image/png": "[encoded data removed]",
      "text/latex": [
       "$\\displaystyle x^{3} - 3 x + 3$"
      ],
      "text/plain": [
       " 3          \n",
       "x  - 3⋅x + 3"
      ]
     },
     "execution_count": 49,
     "metadata": {},
     "output_type": "execute_result"
    }
   ],
   "source": [
    "# Use the symbols to define a function\n",
    "from sympy import init_printing\n",
    "init_printing() \n",
    "func = x**3-3*x+3\n",
    "print('y = F(x)', end=' ')\n",
    "func"
   ]
  },
  {
   "cell_type": "markdown",
   "id": "256bcb83-0fee-47dd-910d-97436674fd45",
   "metadata": {},
   "source": [
    "$$ latex(func) $$"
   ]
  },
  {
   "cell_type": "code",
   "execution_count": 50,
   "id": "296ba848-b914-4a5f-948f-4518473c821e",
   "metadata": {},
   "outputs": [
    {
     "name": "stdout",
     "output_type": "stream",
     "text": [
      "y = F'(x)\n"
     ]
    },
    {
     "data": {
      "image/png": "[encoded data removed]",
      "text/latex": [
       "$\\displaystyle 3 x^{2} - 3$"
      ],
      "text/plain": [
       "   2    \n",
       "3⋅x  - 3"
      ]
     },
     "execution_count": 50,
     "metadata": {},
     "output_type": "execute_result"
    }
   ],
   "source": [
    "# Calculate derivative symbolically\n",
    "func_lamb = lambda n: func.subs({x: n})\n",
    "gradient_func = diff(func_lamb(x), x)\n",
    "print(\"y = F'(x)\")\n",
    "gradient_func\n"
   ]
  },
  {
   "cell_type": "code",
   "execution_count": 51,
   "id": "5d29dc05-69ce-443c-8280-9f17eea921df",
   "metadata": {},
   "outputs": [
    {
     "name": "stdout",
     "output_type": "stream",
     "text": [
      "y = 3*x**2 - 3 for x=3 => y = 24.0\n",
      "y = 3*x**2 - 3 for x=4.21 => y = 50.2\n",
      " \n",
      "The minimum value for F(x) is located at x=-1.0\n"
     ]
    }
   ],
   "source": [
    "# Calculate the value for one x value\n",
    "def get_gradient_value(value):\n",
    "    input_value = Float(value, 3)\n",
    "    return gradient_func.subs({x: input_value})\n",
    "\n",
    "\n",
    "def print_calculation(value):\n",
    "    result = get_gradient_value(value)\n",
    "    print(f'y = {gradient_func} for x={value} => y = {result}')\n",
    "    \n",
    "print_calculation(3)\n",
    "print_calculation(4.21)\n",
    "print(' ')\n",
    "result = solve(gradient_func)[0]\n",
    "print('The minimum value for F(x) is located at x={0}'.format(float(result)))"
   ]
  },
  {
   "cell_type": "code",
   "execution_count": 52,
   "id": "0e7b8050-ff56-4a0b-bb64-38c8e4915d53",
   "metadata": {},
   "outputs": [],
   "source": [
    "# Define the range for the function\n",
    "x_range = np.linspace(-2, 2, 100)"
   ]
  },
  {
   "cell_type": "code",
   "execution_count": 53,
   "id": "a7a39d9e-c21e-4ab5-be88-3e650840b3de",
   "metadata": {},
   "outputs": [],
   "source": [
    "derivative_y = [gradient_func.subs({x: Float(i)}) for i in x_range ]"
   ]
  },
  {
   "cell_type": "code",
   "execution_count": 54,
   "id": "4fb5a843-2d94-41ce-b5d3-2e57f717033a",
   "metadata": {},
   "outputs": [],
   "source": [
    "import numpy as np\n",
    "import matplotlib.pyplot as plt\n",
    "\n",
    "x_values = x_range.tolist()\n",
    "y_values = [ func_lamb(Float(i)) for i in x_range ]\n",
    "\n",
    "str_func = f'The function y = {func}'\n",
    "fig = plt.figure()\n",
    "axdef = fig.add_subplot(1, 1, 1)\n",
    "axdef.spines['left'].set_position('center')\n",
    "axdef.spines['bottom'].set_position('zero')\n",
    "axdef.spines['right'].set_color('none')\n",
    "axdef.spines['top'].set_color('none')\n",
    "plt.title(str_func)\n",
    "axdef.xaxis.set_ticks_position('bottom')\n",
    "axdef.yaxis.set_ticks_position('left')\n",
    "\n",
    "plt.plot(x_values, y_values, 'b')\n",
    "plt.show()\n"
   ]
  },
  {
   "cell_type": "code",
   "execution_count": 55,
   "id": "2177e68d-85b9-4255-b8fa-49b83dcb950b",
   "metadata": {},
   "outputs": [
    {
     "name": "stdout",
     "output_type": "stream",
     "text": [
      "      --- Listing interactions --- \n",
      "\n",
      "    #1 x = 2.76000    #2 x = 2.56152    #3 x = 2.39469    #4 x = 2.25270\n",
      "    #5 x = 2.13041    #6 x = 2.02428    #7 x = 1.93131    #8 x = 1.84939\n",
      "    #9 x = 1.77680   #10 x = 1.71207   #11 x = 1.65412   #12 x = 1.60205\n",
      "   #13 x = 1.55506   #14 x = 1.51250   #15 x = 1.47387   #16 x = 1.43869\n",
      "   #17 x = 1.40660   #18 x = 1.37726   #19 x = 1.35035   #20 x = 1.32564\n",
      "   #21 x = 1.30293   #22 x = 1.28199   #23 x = 1.26269   #24 x = 1.24485\n",
      "   #25 x = 1.22836   #26 x = 1.21311   #27 x = 1.19896   #28 x = 1.18583\n",
      "   #29 x = 1.17365   #30 x = 1.16233   #31 x = 1.15181   #32 x = 1.14201\n",
      "   #33 x = 1.13288   #34 x = 1.12438   #35 x = 1.11646   #36 x = 1.10906\n",
      "   #37 x = 1.10216   #38 x = 1.09572   #39 x = 1.08970   #40 x = 1.08409\n",
      "   #41 x = 1.07883   #42 x = 1.07392   #43 x = 1.06932   #44 x = 1.06501\n",
      "   #45 x = 1.06099   #46 x = 1.05722   #47 x = 1.05370   #48 x = 1.05039\n",
      "   #49 x = 1.04729   #50 x = 1.04438   #51 x = 1.04166   #52 x = 1.03910\n",
      "   #53 x = 1.03671   #54 x = 1.03448   #55 x = 1.03238   #56 x = 1.03040\n",
      "   #57 x = 1.02854   #58 x = 1.02680   #59 x = 1.02517   #60 x = 1.02364\n",
      "   #61 x = 1.02220   #62 x = 1.02085   #63 x = 1.01959   #64 x = 1.01841\n",
      "   #65 x = 1.01730   #66 x = 1.01626   #67 x = 1.01527   #68 x = 1.01435\n",
      "   #69 x = 1.01348   #70 x = 1.01267   #71 x = 1.01189   #72 x = 1.01117\n",
      "   #73 x = 1.01049   #74 x = 1.00986   #75 x = 1.00927   #76 x = 1.00872\n",
      "   #77 x = 1.00819   #78 x = 1.00769   #79 x = 1.00722   #80 x = 1.00678\n",
      "   #81 x = 1.00637   #82 x = 1.00599   #83 x = 1.00562   #84 x = 1.00529\n",
      "   #85 x = 1.00497   #86 x = 1.00467   #87 x = 1.00439   #88 x = 1.00413\n",
      "   #89 x = 1.00388   #90 x = 1.00365   #91 x = 1.00343   #92 x = 1.00322\n",
      "   #93 x = 1.00303   #94 x = 1.00286   #95 x = 1.00268   #96 x = 1.00252\n",
      "   #97 x = 1.00237   #98 x = 1.00223   #99 x = 1.00209  #100 x = 1.00196\n",
      "  #101 x = 1.00185  #102 x = 1.00173  #103 x = 1.00163  #104 x = 1.00152\n",
      "  #105 x = 1.00144  #106 x = 1.00135  #107 x = 1.00126  #108 x = 1.00119\n",
      "  #109 x = 1.00111  #110 x = 1.00104  #111 x = 1.00098  #112 x = 1.00092\n",
      "  #113 x = 1.00086  #114 x = 1.00081  #115 x = 1.00076  #116 x = 1.00072\n",
      "  #117 x = 1.00067  #118 x = 1.00063  #119 x = 1.00059  #120 x = 1.00056\n",
      "  #121 x = 1.00053  #122 x = 1.00050  #123 x = 1.00047  #124 x = 1.00044\n",
      "  #125 x = 1.00041  #126 x = 1.00038  #127 x = 1.00035  #128 x = 1.00034\n",
      "  #129 x = 1.00032  #130 x = 1.00031  #131 x = 1.00029  #132 x = 1.00028\n",
      "  #133 x = 1.00026  #134 x = 1.00025  #135 x = 1.00023  #136 x = 1.00022\n",
      "  #137 x = 1.00021  #138 x = 1.00019  #139 x = 1.00018  #140 x = 1.00016\n",
      "\n",
      "  The minimum F(x) =  1.00011718750000\n"
     ]
    }
   ],
   "source": [
    "# Some learning params\n",
    "# \n",
    "\n",
    "class Solver:\n",
    "    def __init__(self):\n",
    "        self.line = ''\n",
    "        self.current_elms = 0\n",
    "        self.elements_per_line = 4\n",
    "        \n",
    "    def emit_message(self, msg):\n",
    "        if self.current_elms < self.elements_per_line:\n",
    "            self.current_elms += 1\n",
    "            self.line += '  ' + msg\n",
    "        else:\n",
    "            print(self.line)\n",
    "            self.line = '  ' + msg\n",
    "            self.current_elms = 1\n",
    "\n",
    "    def find_solution(self):\n",
    "        ActualX = 3 \n",
    "        LearningRate = 0.01 \n",
    "        PrecisionValue = 0.000001 \n",
    "        PreviousStepSize = 1 \n",
    "        MaxIteration = 10000 \n",
    "        IterationCounter = 0 \n",
    "        print('      --- Listing interactions --- \\n')\n",
    "        while PreviousStepSize > PrecisionValue and IterationCounter < MaxIteration:\n",
    "            PreviousX = ActualX\n",
    "            ActualX = ActualX - LearningRate * get_gradient_value(PreviousX) \n",
    "            PreviousStepSize = abs(ActualX - PreviousX) \n",
    "            IterationCounter = IterationCounter+1 \n",
    "            iter_str = '#' + str(IterationCounter)\n",
    "            self.emit_message(f\"{iter_str:>4} x = {ActualX:0.5f}\") \n",
    "        print(\"\\n  The minimum F(x) = \", ActualX)\n",
    "\n",
    "s = Solver()\n",
    "s.find_solution()\n"
   ]
  },
  {
   "cell_type": "code",
   "execution_count": null,
   "id": "25029711-0dd3-48b0-b41f-9c45b024354c",
   "metadata": {},
   "outputs": [],
   "source": []
  },
  {
   "cell_type": "code",
   "execution_count": null,
   "id": "438f09ca-58ad-40cc-9b23-4923d77cceb7",
   "metadata": {},
   "outputs": [],
   "source": []
  }
 ],
 "metadata": {
  "kernelspec": {
   "display_name": "Python 3 (ipykernel)",
   "language": "python",
   "name": "python3"
  },
  "language_info": {
   "codemirror_mode": {
    "name": "ipython",
    "version": 3
   },
   "file_extension": ".py",
   "mimetype": "text/x-python",
   "name": "python",
   "nbconvert_exporter": "python",
   "pygments_lexer": "ipython3",
   "version": "3.10.6"
  }
 },
 "nbformat": 4,
 "nbformat_minor": 5
}
