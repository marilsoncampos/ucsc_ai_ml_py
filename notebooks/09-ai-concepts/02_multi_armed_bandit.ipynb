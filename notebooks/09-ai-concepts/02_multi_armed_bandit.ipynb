{
 "cells": [
  {
   "cell_type": "markdown",
   "id": "363facdd-f138-4f0d-88bb-f9240d46e619",
   "metadata": {
    "tags": []
   },
   "source": [
    "## Multi-armed bandits"
   ]
  },
  {
   "cell_type": "markdown",
   "id": "600a2818-1ac7-47a0-bf98-cc3b35b3101e",
   "metadata": {},
   "source": [
    "### 1. Load python packages"
   ]
  },
  {
   "cell_type": "code",
   "execution_count": 1,
   "id": "f20cae92-6a82-4f88-b7c9-51ce4bc3d122",
   "metadata": {},
   "outputs": [],
   "source": [
    "from typing import List \n",
    "import random\n",
    "from dataclasses import dataclass\n",
    "import numpy as np \n",
    "import matplotlib.pyplot as plt \n",
    "import pandas as pd \n",
    "from IPython.display import display, HTML\n",
    "from IPython.display import Image\n",
    "%matplotlib inline"
   ]
  },
  {
   "cell_type": "code",
   "execution_count": 2,
   "id": "72dda755-e056-4989-8c44-75e02edd8d66",
   "metadata": {
    "tags": []
   },
   "outputs": [
    {
     "data": {
      "text/html": [
       "<img src=\"img/multi_armed_bandits.jpg\" width=\"400\"/>"
      ],
      "text/plain": [
       "<IPython.core.display.Image object>"
      ]
     },
     "execution_count": 2,
     "metadata": {},
     "output_type": "execute_result"
    }
   ],
   "source": [
    "Image(url='img/multi_armed_bandits.jpg', width=400)"
   ]
  },
  {
   "cell_type": "markdown",
   "id": "ff741442-22be-48b9-9027-fc6fdc2d26ee",
   "metadata": {},
   "source": [
    "> The name comes from imagining a gambler at a row of slot machines (also known as __\"one-armed bandits\"__), who has to decide which machines to play, how many times to play each machine and in which order to play them, and whether to continue with the current machine or try a different machine.\n",
    "> _Source: Wikipedia_"
   ]
  },
  {
   "cell_type": "markdown",
   "id": "9d8381fe-0432-4ed0-a1ae-86215939c95d",
   "metadata": {},
   "source": [
    "### 2. The problem\n",
    "\n",
    "$\\;\\;\\;\\;\\;\\;$ - You have __'K' slot machines__ that you can play\n",
    "\n",
    "$\\;\\;\\;\\;\\;\\;$ - You have __'N' coins__ (trials) to play in any machine you choose.\n",
    "\n",
    "$\\;\\;\\;\\;\\;\\;$ - You know that __some machines pay more than the others__ but you dont know wich one.\n",
    "\n",
    "$\\;\\;\\;\\;\\;\\;$ - Your goal is to __make as much money as possible__ playing with the 'coins' you have."
   ]
  },
  {
   "cell_type": "markdown",
   "id": "25e83253-b8d2-496c-aaf7-c244a94879bb",
   "metadata": {},
   "source": [
    "### 3. What a solution looks like\n",
    "\n",
    "At beggining of each round you have two choices:\n",
    "\n",
    "__a.__ Pick the machine that pays best among the ones that you already played. __(Exploit)__\n",
    "\n",
    "__b.__ Pick a machine at random, and try to lean more about the setup. __(Explore)__\n",
    "\n",
    "\n",
    "This problem requires that you define a __policy__ to decide how to choose either __'a'__ and __'b'__.\n"
   ]
  },
  {
   "cell_type": "markdown",
   "id": "ce6291a3-8616-47fc-9594-5721112d3868",
   "metadata": {},
   "source": [
    "#### 3.1 The constants for our problem"
   ]
  },
  {
   "cell_type": "code",
   "execution_count": 3,
   "id": "e0c90948-1ce3-4edf-a315-8d02ba6ab328",
   "metadata": {},
   "outputs": [],
   "source": [
    "\n",
    "@dataclass\n",
    "class ExperimentParams:\n",
    "    # The expected pay for each slot machine\n",
    "    bandit_expectations: List[float]\n",
    "    # Number of times we are repeating the experiment to we can average results.\n",
    "    trials: int\n",
    "    # Number the steps (coins) for each experiment\n",
    "    number_of_steps: int \n",
    "\n",
    "params = ExperimentParams(\n",
    "    bandit_expectations = [0.21, 0.5, 0.11, 1.00, 0.04, 0.64, 2.20, 0.65, 1.32, 0.27],\n",
    "    trials = 500,\n",
    "    number_of_steps = 1200)  \n",
    "    \n"
   ]
  },
  {
   "cell_type": "markdown",
   "id": "6de63c6b-1087-463f-b8a3-eda38068f618",
   "metadata": {},
   "source": [
    "### 3. The $\\epsilon$-greedy algorithm"
   ]
  },
  {
   "cell_type": "markdown",
   "id": "b95a5847-d7a5-440b-820b-e34769a94a1d",
   "metadata": {},
   "source": [
    "#### 3.3 Helper classes to show report results."
   ]
  },
  {
   "cell_type": "markdown",
   "id": "539b54a3-8ea8-4aa3-8ffc-6b2dc754db50",
   "metadata": {},
   "source": [
    "#### 3.2 Import our packages"
   ]
  },
  {
   "cell_type": "markdown",
   "id": "8d470525-3725-44ed-884c-7ba8bee041a1",
   "metadata": {},
   "source": [
    "We assume we have N arms, 'N' being a constant. \n",
    "\n",
    "Let's make N=10\n",
    "\n",
    "$\\epsilon$ = input parameter that corresponds to the probability of __Exploring__ (option b)\n",
    "\n",
    "#### 3.1 Here is a description of the policy:\n",
    "\n",
    "- Define an array of values representing the percentage_pay for each arm ($arm_1$ to $arm_10$) \n",
    "\n",
    "- Initialize this array with 'zero' values at the beginning as we dont know anytihng about the arms yet.\n",
    "\n",
    "- Keep the 'total_winnings' and 'total_coins_used' as the \"game\" progress.\n",
    "\n",
    "- for each coin:\n",
    "    * Pick a random number between 0 and 1.\n",
    "    * If the number < $\\epsilon$ then we choose __option b (explore)__\n",
    "    * Otherwise we choose __option a (exploit)__\n",
    "    * Update the counts.\n"
   ]
  },
  {
   "cell_type": "markdown",
   "id": "51a9fd6e-4a23-4796-b344-dbf1ac5a308a",
   "metadata": {},
   "source": [
    "#### 3.3 Helper classes to perform Multi-Armed bandit experiments"
   ]
  },
  {
   "cell_type": "code",
   "execution_count": 4,
   "id": "8de1b67d-f2f6-4dfd-8fb5-08abe55bbc5b",
   "metadata": {},
   "outputs": [],
   "source": [
    "from abc import ABC, abstractmethod\n",
    "\n",
    "@dataclass\n",
    "class RewardRecs:\n",
    "    title: str\n",
    "    reward_list: List[float]\n",
    "    avg_arm_counts: List[int]\n",
    "\n",
    "\n",
    "class MultiArmBandit(ABC):\n",
    "    \"\"\"\n",
    "    Multi-arm Base class.\n",
    "    \"\"\"\n",
    "    def __init__(self, num_coins: int, mu_list: List[float]):\n",
    "        self.number_of_arms = len(mu_list)\n",
    "        self.mu_list = mu_list.copy()\n",
    "        self.num_coins = num_coins\n",
    "        self.used_coins = None\n",
    "        self.step_rewards = None\n",
    "        self.arm_counts = None\n",
    "        self.arm_rewards = None\n",
    "        self.mean_reward = None\n",
    "        self.reset()\n",
    "        \n",
    "    def reset(self):\n",
    "        self.used_coins = 0\n",
    "        self.step_rewards = np.zeros(self.num_coins)\n",
    "        self.arm_counts = np.zeros(self.number_of_arms)\n",
    "        self.arm_rewards = np.zeros(self.number_of_arms)\n",
    "        self.mean_reward = 0\n",
    "        \n",
    "\n",
    "    @abstractmethod\n",
    "    def select_arm(self):\n",
    "        pass\n",
    "\n",
    "    def is_first_coin(self):\n",
    "        return self.used_coins == 0\n",
    "    \n",
    "    def pull(self, arm, coin):\n",
    "        reward = np.random.normal(self.mu_list[arm], 1)\n",
    "        # Update counts\n",
    "        self.used_coins += 1\n",
    "        self.arm_counts[arm] += 1\n",
    "        # Update rewards values\n",
    "        self.mean_reward = self.mean_reward + (reward - self.mean_reward) / self.used_coins\n",
    "        self.arm_rewards[arm] = ( self.arm_rewards[arm] + \n",
    "           (reward - self.arm_rewards[arm]) / self.arm_counts[arm])\n",
    "        self.step_rewards[coin] = self.mean_reward\n",
    "\n",
    "    def run(self):\n",
    "        for coin in range(self.num_coins):\n",
    "            selected_arm = self.select_arm()\n",
    "            self.pull(selected_arm, coin)\n",
    "\n",
    "\n",
    "class BanditExperiment(ABC):\n",
    "    format_func = '{:,.2f}'.format\n",
    "\n",
    "    def __init__(self, bandit_mus, trials, num_steps):\n",
    "        self.bandit_mus = np.array(bandit_mus)\n",
    "        self.trials = trials \n",
    "        self.num_steps = num_steps\n",
    "        self.rewards_recs = []\n",
    "\n",
    "    def plot(self):\n",
    "        self.plot_custom(self.rewards_recs, self.trials)\n",
    "\n",
    "    def tabulate(self):\n",
    "        self.tabulate_custom(self.rewards_recs)\n",
    "\n",
    "    def plot_custom(self, reward_recs, trials):\n",
    "        color_list = ['b', 'c', 'r', 'y', 'g', 'k']\n",
    "        plt.figure(figsize=(6.5,4))\n",
    "        for idx, epx_rec in enumerate(reward_recs):\n",
    "            plt.plot(\n",
    "                epx_rec.reward_list, color=color_list[idx],\n",
    "                label=epx_rec.title)\n",
    "        plt.legend(bbox_to_anchor=(1.4, 1.0))\n",
    "        plt.xlabel(\"Play\")\n",
    "        plt.ylabel(\"Average Reward\")\n",
    "        plt.title(f\"Average Rewards after {trials} trials\")\n",
    "        plt.show()\n",
    "\n",
    "    def tabulate_custom(self, reward_recs):\n",
    "        saved_format = pd.options.display.float_format\n",
    "        pd.options.display.float_format = self.format_func\n",
    "        number_of_arms = len(self.bandit_mus)\n",
    "        arm_counts = np.array([rec.avg_arm_counts for rec in reward_recs])\n",
    "        perc_arm_counts = [((avg_ct/np.sum(avg_ct))*100.0).astype(float) for avg_ct in arm_counts]\n",
    "        titles = [rec.title for rec in reward_recs] \n",
    "        arm_columns = [\"Arm \" + str(x) for x in range(1, number_of_arms+1)]\n",
    "        arm_props_dict = {\n",
    "            arm_columns[idx]: [\n",
    "                '{0:.2f}'.format(self.bandit_mus[idx])] for idx, _ in enumerate(self.bandit_mus)\n",
    "        }\n",
    "        arm_df = pd.DataFrame(arm_props_dict, index=['$Probability$'])\n",
    "        display(HTML(\"<b>Probability of each Arm:</b>\"))\n",
    "        display(HTML(arm_df.to_html()))        \n",
    "        df = pd.DataFrame(perc_arm_counts, index=titles, columns=arm_columns)\n",
    "        display(HTML(\"<br><b>Percentage of actions selected:</b>\"))\n",
    "        display(HTML(df.to_html()))\n",
    "        pd.options.display.float_format = saved_format\n",
    "\n",
    "        \n",
    "    def capture_experiment(self, exp_title: str, bandit: MultiArmBandit):\n",
    "        rewards = np.zeros(self.num_steps)\n",
    "        arm_counts = np.zeros(len(self.bandit_mus))\n",
    "        for trial_num in range(1, self.trials+1):\n",
    "            # bandit = EpsilonGreedyBandit(curr_prob, self.num_steps, self.mu_list)\n",
    "            bandit.reset()\n",
    "            bandit.run()\n",
    "            rewards = rewards + (bandit.step_rewards - rewards) / trial_num\n",
    "            arm_counts = arm_counts + (bandit.arm_counts - arm_counts) / trial_num\n",
    "        self.rewards_recs.append(\n",
    "            RewardRecs(title=exp_title, reward_list=rewards, avg_arm_counts=arm_counts))\n",
    "        \n",
    "    @abstractmethod\n",
    "    def execute_experiment(self):\n",
    "        '''This is where the code for each specific experiment goes'''\n",
    "        pass\n",
    "    \n",
    "    \n",
    "    def run(self):\n",
    "        self.execute_experiment()\n",
    "        self.plot()\n",
    "        self.tabulate()\n",
    "        "
   ]
  },
  {
   "cell_type": "markdown",
   "id": "b4f1225e-fdb9-4d0a-8bcf-e1e8b0775621",
   "metadata": {},
   "source": [
    "#### 3.4 The $\\epsilon$-Greedy policy implementation"
   ]
  },
  {
   "cell_type": "code",
   "execution_count": 5,
   "id": "2e297ed4-0568-46c6-9a40-620bcf828225",
   "metadata": {},
   "outputs": [
    {
     "data": {
      "image/png": "[encoded data removed]",
      "text/plain": [
       "<Figure size 650x400 with 1 Axes>"
      ]
     },
     "metadata": {},
     "output_type": "display_data"
    },
    {
     "data": {
      "text/html": [
       "<b>Probability of each Arm:</b>"
      ],
      "text/plain": [
       "<IPython.core.display.HTML object>"
      ]
     },
     "metadata": {},
     "output_type": "display_data"
    },
    {
     "data": {
      "text/html": [
       "<table border=\"1\" class=\"dataframe\">\n",
       "  <thead>\n",
       "    <tr style=\"text-align: right;\">\n",
       "      <th></th>\n",
       "      <th>Arm 1</th>\n",
       "      <th>Arm 2</th>\n",
       "      <th>Arm 3</th>\n",
       "      <th>Arm 4</th>\n",
       "      <th>Arm 5</th>\n",
       "      <th>Arm 6</th>\n",
       "      <th>Arm 7</th>\n",
       "      <th>Arm 8</th>\n",
       "      <th>Arm 9</th>\n",
       "      <th>Arm 10</th>\n",
       "    </tr>\n",
       "  </thead>\n",
       "  <tbody>\n",
       "    <tr>\n",
       "      <th>$Probability$</th>\n",
       "      <td>0.21</td>\n",
       "      <td>0.50</td>\n",
       "      <td>0.11</td>\n",
       "      <td>1.00</td>\n",
       "      <td>0.04</td>\n",
       "      <td>0.64</td>\n",
       "      <td>2.20</td>\n",
       "      <td>0.65</td>\n",
       "      <td>1.32</td>\n",
       "      <td>0.27</td>\n",
       "    </tr>\n",
       "  </tbody>\n",
       "</table>"
      ],
      "text/plain": [
       "<IPython.core.display.HTML object>"
      ]
     },
     "metadata": {},
     "output_type": "display_data"
    },
    {
     "data": {
      "text/html": [
       "<br><b>Percentage of actions selected:</b>"
      ],
      "text/plain": [
       "<IPython.core.display.HTML object>"
      ]
     },
     "metadata": {},
     "output_type": "display_data"
    },
    {
     "data": {
      "text/html": [
       "<table border=\"1\" class=\"dataframe\">\n",
       "  <thead>\n",
       "    <tr style=\"text-align: right;\">\n",
       "      <th></th>\n",
       "      <th>Arm 1</th>\n",
       "      <th>Arm 2</th>\n",
       "      <th>Arm 3</th>\n",
       "      <th>Arm 4</th>\n",
       "      <th>Arm 5</th>\n",
       "      <th>Arm 6</th>\n",
       "      <th>Arm 7</th>\n",
       "      <th>Arm 8</th>\n",
       "      <th>Arm 9</th>\n",
       "      <th>Arm 10</th>\n",
       "    </tr>\n",
       "  </thead>\n",
       "  <tbody>\n",
       "    <tr>\n",
       "      <th>$\\epsilon-greedy (0.1)$</th>\n",
       "      <td>1.35</td>\n",
       "      <td>1.58</td>\n",
       "      <td>1.16</td>\n",
       "      <td>2.85</td>\n",
       "      <td>1.09</td>\n",
       "      <td>1.70</td>\n",
       "      <td>82.33</td>\n",
       "      <td>1.46</td>\n",
       "      <td>5.33</td>\n",
       "      <td>1.15</td>\n",
       "    </tr>\n",
       "    <tr>\n",
       "      <th>$\\epsilon-greedy (0.02)$</th>\n",
       "      <td>1.65</td>\n",
       "      <td>3.67</td>\n",
       "      <td>0.81</td>\n",
       "      <td>10.63</td>\n",
       "      <td>0.43</td>\n",
       "      <td>3.09</td>\n",
       "      <td>60.74</td>\n",
       "      <td>2.38</td>\n",
       "      <td>15.85</td>\n",
       "      <td>0.76</td>\n",
       "    </tr>\n",
       "    <tr>\n",
       "      <th>$\\epsilon-greedy (0.2)$</th>\n",
       "      <td>2.26</td>\n",
       "      <td>2.22</td>\n",
       "      <td>2.09</td>\n",
       "      <td>2.83</td>\n",
       "      <td>2.06</td>\n",
       "      <td>2.27</td>\n",
       "      <td>78.20</td>\n",
       "      <td>2.27</td>\n",
       "      <td>3.71</td>\n",
       "      <td>2.09</td>\n",
       "    </tr>\n",
       "  </tbody>\n",
       "</table>"
      ],
      "text/plain": [
       "<IPython.core.display.HTML object>"
      ]
     },
     "metadata": {},
     "output_type": "display_data"
    }
   ],
   "source": [
    "class EpsilonGreedyBandit(MultiArmBandit):\n",
    "    \"\"\"\n",
    "    Epsilon-Greedy multi-armed bandit processor\n",
    "\n",
    "    mu_list: list of average reward for each arm.\n",
    "    \"\"\"\n",
    "\n",
    "    def __init__(self, explore_prob: float, num_coins: int, mu_list: List[float]):\n",
    "        super().__init__(num_coins, mu_list)     \n",
    "        self.explore_prob = explore_prob\n",
    "\n",
    "    def select_arm(self):\n",
    "        '''Implement Epsilon Greedy policy'''\n",
    "        curr_val = np.random.rand()\n",
    "        if self.is_first_coin():\n",
    "            # Know nothing at this point, just pick an arm.\n",
    "            arm = np.random.choice(self.number_of_arms)\n",
    "        elif curr_val < self.explore_prob:  \n",
    "            # Select an arm randomly\n",
    "            arm = np.random.choice(self.number_of_arms)\n",
    "        else:  \n",
    "            # Continue to exploit the best (the greedy component)\n",
    "            arm = np.argmax(self.arm_rewards)\n",
    "        return arm\n",
    "        \n",
    " \n",
    "class EpsilonGreedyExperiment(BanditExperiment):\n",
    "    def __init__(self, probs_to_explore, bandit_mus, trials, num_steps):\n",
    "        super().__init__(bandit_mus, trials, num_steps)    \n",
    "        self.probs_explore = probs_to_explore\n",
    "        \n",
    "   \n",
    "    def execute_experiment(self):\n",
    "        for curr_prob in self.probs_explore:\n",
    "            bandit = EpsilonGreedyBandit(curr_prob, self.num_steps, self.bandit_mus)\n",
    "            exp_title = \"$\\epsilon-greedy ({0})$\".format(curr_prob)\n",
    "            self.capture_experiment(exp_title, bandit)\n",
    "        \n",
    "\n",
    "random.seed(10)\n",
    "# We want to see how the policy behaves with different epsilon values\n",
    "probs_to_explore = [0.1, 0.02, 0.2]\n",
    "exp_greedy = EpsilonGreedyExperiment(\n",
    "    bandit_mus = params.bandit_expectations,\n",
    "    trials = params.trials, \n",
    "    probs_to_explore = probs_to_explore,\n",
    "    num_steps = params.number_of_steps)\n",
    "exp_greedy.run()\n",
    "e_greedy_records = exp_greedy.rewards_recs\n"
   ]
  },
  {
   "cell_type": "code",
   "execution_count": null,
   "id": "1a07095f-e707-4cd1-9bad-39bf6cef1b05",
   "metadata": {
    "tags": []
   },
   "outputs": [],
   "source": []
  },
  {
   "cell_type": "markdown",
   "id": "18d44449-6fd9-4c18-807a-3ecc2da97397",
   "metadata": {},
   "source": [
    "#### 3.5 The $\\epsilon$-greedy approach limitations "
   ]
  },
  {
   "cell_type": "markdown",
   "id": "b738f0aa-da4c-4249-b9ca-99be613a7e08",
   "metadata": {},
   "source": [
    "##### The $\\epsilon$-greedy algorithm has two main limitations:\n",
    "\n",
    "* It requires to provide a parameter as input that is unknown.\n",
    "* As game progresses, we know more about the behavior of each machine, we dont adjust the value of $\\epsilon$"
   ]
  },
  {
   "cell_type": "markdown",
   "id": "43fac5b6-beaf-4a6a-a7bf-03d802b39a76",
   "metadata": {},
   "source": [
    "### 4. The $\\epsilon$-decay algorithm (A better solution)"
   ]
  },
  {
   "cell_type": "markdown",
   "id": "d61554d6-35fb-4aa1-aeb7-766302e647db",
   "metadata": {},
   "source": [
    "Let's make $\\epsilon$ variable in a way that it decreases as we use more coins.\n",
    "\n",
    "Setting a value of $\\epsilon$ as function of the trial number"
   ]
  },
  {
   "cell_type": "markdown",
   "id": "f9a0272c-414a-4ffe-927d-ad3bae1b47a1",
   "metadata": {},
   "source": [
    "$$ \\epsilon(n) = \\frac{1}{1+n\\beta}$$"
   ]
  },
  {
   "cell_type": "markdown",
   "id": "e4b2d10a-389d-4e05-9475-e4215cb7b951",
   "metadata": {},
   "source": [
    "Where $\\beta<1$ is a is scalling factor used to control how fast we reduce $\\epsilon$."
   ]
  },
  {
   "cell_type": "markdown",
   "id": "f49144a4-9b4e-40f8-b5b6-d4dbe7ef30cc",
   "metadata": {},
   "source": [
    "#### 4.1 Implementation of the $\\epsilon$-Decay policy"
   ]
  },
  {
   "cell_type": "code",
   "execution_count": 6,
   "id": "c1f24ee0-4418-481c-83b1-d330814c939d",
   "metadata": {},
   "outputs": [
    {
     "data": {
      "image/png": "[encoded data removed]",
      "text/plain": [
       "<Figure size 650x400 with 1 Axes>"
      ]
     },
     "metadata": {},
     "output_type": "display_data"
    },
    {
     "data": {
      "text/html": [
       "<b>Probability of each Arm:</b>"
      ],
      "text/plain": [
       "<IPython.core.display.HTML object>"
      ]
     },
     "metadata": {},
     "output_type": "display_data"
    },
    {
     "data": {
      "text/html": [
       "<table border=\"1\" class=\"dataframe\">\n",
       "  <thead>\n",
       "    <tr style=\"text-align: right;\">\n",
       "      <th></th>\n",
       "      <th>Arm 1</th>\n",
       "      <th>Arm 2</th>\n",
       "      <th>Arm 3</th>\n",
       "      <th>Arm 4</th>\n",
       "      <th>Arm 5</th>\n",
       "      <th>Arm 6</th>\n",
       "      <th>Arm 7</th>\n",
       "      <th>Arm 8</th>\n",
       "      <th>Arm 9</th>\n",
       "      <th>Arm 10</th>\n",
       "    </tr>\n",
       "  </thead>\n",
       "  <tbody>\n",
       "    <tr>\n",
       "      <th>$Probability$</th>\n",
       "      <td>0.21</td>\n",
       "      <td>0.50</td>\n",
       "      <td>0.11</td>\n",
       "      <td>1.00</td>\n",
       "      <td>0.04</td>\n",
       "      <td>0.64</td>\n",
       "      <td>2.20</td>\n",
       "      <td>0.65</td>\n",
       "      <td>1.32</td>\n",
       "      <td>0.27</td>\n",
       "    </tr>\n",
       "  </tbody>\n",
       "</table>"
      ],
      "text/plain": [
       "<IPython.core.display.HTML object>"
      ]
     },
     "metadata": {},
     "output_type": "display_data"
    },
    {
     "data": {
      "text/html": [
       "<br><b>Percentage of actions selected:</b>"
      ],
      "text/plain": [
       "<IPython.core.display.HTML object>"
      ]
     },
     "metadata": {},
     "output_type": "display_data"
    },
    {
     "data": {
      "text/html": [
       "<table border=\"1\" class=\"dataframe\">\n",
       "  <thead>\n",
       "    <tr style=\"text-align: right;\">\n",
       "      <th></th>\n",
       "      <th>Arm 1</th>\n",
       "      <th>Arm 2</th>\n",
       "      <th>Arm 3</th>\n",
       "      <th>Arm 4</th>\n",
       "      <th>Arm 5</th>\n",
       "      <th>Arm 6</th>\n",
       "      <th>Arm 7</th>\n",
       "      <th>Arm 8</th>\n",
       "      <th>Arm 9</th>\n",
       "      <th>Arm 10</th>\n",
       "    </tr>\n",
       "  </thead>\n",
       "  <tbody>\n",
       "    <tr>\n",
       "      <th>$\\epsilon-decay (0.1)$</th>\n",
       "      <td>0.43</td>\n",
       "      <td>0.47</td>\n",
       "      <td>0.42</td>\n",
       "      <td>1.27</td>\n",
       "      <td>0.41</td>\n",
       "      <td>0.50</td>\n",
       "      <td>89.42</td>\n",
       "      <td>0.48</td>\n",
       "      <td>6.14</td>\n",
       "      <td>0.45</td>\n",
       "    </tr>\n",
       "    <tr>\n",
       "      <th>$\\epsilon-decay (0.25)$</th>\n",
       "      <td>0.26</td>\n",
       "      <td>0.43</td>\n",
       "      <td>0.24</td>\n",
       "      <td>4.38</td>\n",
       "      <td>0.24</td>\n",
       "      <td>1.32</td>\n",
       "      <td>79.72</td>\n",
       "      <td>0.87</td>\n",
       "      <td>12.29</td>\n",
       "      <td>0.25</td>\n",
       "    </tr>\n",
       "    <tr>\n",
       "      <th>$\\epsilon-decay (0.01)$</th>\n",
       "      <td>2.13</td>\n",
       "      <td>2.14</td>\n",
       "      <td>2.16</td>\n",
       "      <td>2.20</td>\n",
       "      <td>2.13</td>\n",
       "      <td>2.16</td>\n",
       "      <td>80.42</td>\n",
       "      <td>2.14</td>\n",
       "      <td>2.38</td>\n",
       "      <td>2.14</td>\n",
       "    </tr>\n",
       "  </tbody>\n",
       "</table>"
      ],
      "text/plain": [
       "<IPython.core.display.HTML object>"
      ]
     },
     "metadata": {},
     "output_type": "display_data"
    }
   ],
   "source": [
    "class EpsilonDecayBandit(MultiArmBandit):\n",
    "    \"\"\"\n",
    "    Epsilon-Decay multi-armed bandit processor\n",
    "\n",
    "    mu_list: list of average reward for each arm.\n",
    "    \"\"\"\n",
    "\n",
    "    def __init__(self, beta: float, num_coins: int, mu_list: List[float]):\n",
    "        super().__init__(num_coins, mu_list)\n",
    "        self.beta = beta\n",
    "\n",
    "    def select_arm(self):\n",
    "        '''Implement Epsilon Decay policy'''\n",
    "        curr_val = np.random.rand()\n",
    "        explore_prob = 1 / (1 + (self.used_coins * self.beta))\n",
    "        if self.used_coins == 0:\n",
    "            # Know nothing at this point, just pick an arm.\n",
    "            arm = np.random.choice(self.number_of_arms)\n",
    "        elif curr_val < explore_prob:  \n",
    "            # Select an arm randomly\n",
    "            arm = np.random.choice(self.number_of_arms)\n",
    "        else:  \n",
    "            # Continue to exploit the best (the greedy component)\n",
    "            arm = np.argmax(self.arm_rewards)\n",
    "        return arm\n",
    "        \n",
    "\n",
    "\n",
    "class EpsilonDecayExperiment(BanditExperiment):\n",
    "    def __init__(self, bandit_mus, trials, num_steps, betas):\n",
    "        super().__init__(bandit_mus, trials, num_steps)\n",
    "        self.betas = betas\n",
    "        \n",
    "   \n",
    "    def execute_experiment(self):\n",
    "        for beta in self.betas:\n",
    "            bandit = EpsilonDecayBandit(beta, self.num_steps, self.bandit_mus)\n",
    "            exp_title = \"$\\epsilon-decay ({0})$\".format(beta)\n",
    "            self.capture_experiment(exp_title, bandit)\n",
    "        \n",
    "\n",
    "random.seed(10)\n",
    "# We want to see how the policy behaves with different epsilon values\n",
    "number_of_arms = len(params.bandit_expectations)\n",
    "exp_decay = EpsilonDecayExperiment(\n",
    "    bandit_mus = params.bandit_expectations,\n",
    "    trials = params.trials, \n",
    "    num_steps = params.number_of_steps,\n",
    "    betas = [x / number_of_arms for x in (1, 2.5, 0.1)]\n",
    ")\n",
    "exp_decay.run()\n"
   ]
  },
  {
   "cell_type": "code",
   "execution_count": null,
   "id": "bb6e3959-0d8d-45b6-b821-da0e81fa608c",
   "metadata": {},
   "outputs": [],
   "source": []
  },
  {
   "cell_type": "code",
   "execution_count": 7,
   "id": "74222359-c748-4937-a538-99733fee7732",
   "metadata": {},
   "outputs": [
    {
     "data": {
      "image/png": "[encoded data removed]",
      "text/plain": [
       "<Figure size 650x400 with 1 Axes>"
      ]
     },
     "metadata": {},
     "output_type": "display_data"
    },
    {
     "data": {
      "text/html": [
       "<b>Probability of each Arm:</b>"
      ],
      "text/plain": [
       "<IPython.core.display.HTML object>"
      ]
     },
     "metadata": {},
     "output_type": "display_data"
    },
    {
     "data": {
      "text/html": [
       "<table border=\"1\" class=\"dataframe\">\n",
       "  <thead>\n",
       "    <tr style=\"text-align: right;\">\n",
       "      <th></th>\n",
       "      <th>Arm 1</th>\n",
       "      <th>Arm 2</th>\n",
       "      <th>Arm 3</th>\n",
       "      <th>Arm 4</th>\n",
       "      <th>Arm 5</th>\n",
       "      <th>Arm 6</th>\n",
       "      <th>Arm 7</th>\n",
       "      <th>Arm 8</th>\n",
       "      <th>Arm 9</th>\n",
       "      <th>Arm 10</th>\n",
       "    </tr>\n",
       "  </thead>\n",
       "  <tbody>\n",
       "    <tr>\n",
       "      <th>$Probability$</th>\n",
       "      <td>0.21</td>\n",
       "      <td>0.50</td>\n",
       "      <td>0.11</td>\n",
       "      <td>1.00</td>\n",
       "      <td>0.04</td>\n",
       "      <td>0.64</td>\n",
       "      <td>2.20</td>\n",
       "      <td>0.65</td>\n",
       "      <td>1.32</td>\n",
       "      <td>0.27</td>\n",
       "    </tr>\n",
       "  </tbody>\n",
       "</table>"
      ],
      "text/plain": [
       "<IPython.core.display.HTML object>"
      ]
     },
     "metadata": {},
     "output_type": "display_data"
    },
    {
     "data": {
      "text/html": [
       "<br><b>Percentage of actions selected:</b>"
      ],
      "text/plain": [
       "<IPython.core.display.HTML object>"
      ]
     },
     "metadata": {},
     "output_type": "display_data"
    },
    {
     "data": {
      "text/html": [
       "<table border=\"1\" class=\"dataframe\">\n",
       "  <thead>\n",
       "    <tr style=\"text-align: right;\">\n",
       "      <th></th>\n",
       "      <th>Arm 1</th>\n",
       "      <th>Arm 2</th>\n",
       "      <th>Arm 3</th>\n",
       "      <th>Arm 4</th>\n",
       "      <th>Arm 5</th>\n",
       "      <th>Arm 6</th>\n",
       "      <th>Arm 7</th>\n",
       "      <th>Arm 8</th>\n",
       "      <th>Arm 9</th>\n",
       "      <th>Arm 10</th>\n",
       "    </tr>\n",
       "  </thead>\n",
       "  <tbody>\n",
       "    <tr>\n",
       "      <th>$Optimistic$</th>\n",
       "      <td>0.58</td>\n",
       "      <td>0.60</td>\n",
       "      <td>0.57</td>\n",
       "      <td>0.67</td>\n",
       "      <td>0.57</td>\n",
       "      <td>0.61</td>\n",
       "      <td>94.40</td>\n",
       "      <td>0.61</td>\n",
       "      <td>0.80</td>\n",
       "      <td>0.59</td>\n",
       "    </tr>\n",
       "  </tbody>\n",
       "</table>"
      ],
      "text/plain": [
       "<IPython.core.display.HTML object>"
      ]
     },
     "metadata": {},
     "output_type": "display_data"
    }
   ],
   "source": [
    "class OptimisticBandit(EpsilonDecayBandit):\n",
    "    \"\"\"\n",
    "    Optimiatic multi-armed bandit processor\n",
    "    \"\"\"\n",
    "    def reset(self):\n",
    "        super().reset()\n",
    "        self.arm_counts = np.ones(self.number_of_arms)\n",
    "        self.arm_rewards = oiv_init = np.repeat(5., self.number_of_arms)\n",
    "        \n",
    "\n",
    "class OptimisticExperiment(BanditExperiment):\n",
    "    def __init__(self, bandit_mus, trials, num_steps):\n",
    "        super().__init__(bandit_mus, trials, num_steps)\n",
    "        \n",
    "   \n",
    "    def execute_experiment(self):\n",
    "        beta = 0.1\n",
    "        bandit = OptimisticBandit(beta, self.num_steps, self.bandit_mus)\n",
    "        self.capture_experiment(\"$Optimistic$\", bandit)\n",
    "        \n",
    "\n",
    "random.seed(10)\n",
    "# We want to see how the policy behaves with different epsilon values\n",
    "number_of_arms = len(params.bandit_expectations)\n",
    "exp_opt = OptimisticExperiment(\n",
    "    bandit_mus = params.bandit_expectations,\n",
    "    trials = params.trials, \n",
    "    num_steps = params.number_of_steps\n",
    ")\n",
    "exp_opt.run()\n"
   ]
  },
  {
   "cell_type": "markdown",
   "id": "7347065f-ad3b-4a49-8965-f3412e5b75a6",
   "metadata": {},
   "source": [
    "### 5. Looking at the best results combined"
   ]
  },
  {
   "cell_type": "code",
   "execution_count": 8,
   "id": "8e33be90-9cb4-4ebe-9d7f-c452c8d40922",
   "metadata": {},
   "outputs": [
    {
     "data": {
      "image/png": "[encoded data removed]",
      "text/plain": [
       "<Figure size 650x400 with 1 Axes>"
      ]
     },
     "metadata": {},
     "output_type": "display_data"
    },
    {
     "data": {
      "text/html": [
       "<b>Probability of each Arm:</b>"
      ],
      "text/plain": [
       "<IPython.core.display.HTML object>"
      ]
     },
     "metadata": {},
     "output_type": "display_data"
    },
    {
     "data": {
      "text/html": [
       "<table border=\"1\" class=\"dataframe\">\n",
       "  <thead>\n",
       "    <tr style=\"text-align: right;\">\n",
       "      <th></th>\n",
       "      <th>Arm 1</th>\n",
       "      <th>Arm 2</th>\n",
       "      <th>Arm 3</th>\n",
       "      <th>Arm 4</th>\n",
       "      <th>Arm 5</th>\n",
       "      <th>Arm 6</th>\n",
       "      <th>Arm 7</th>\n",
       "      <th>Arm 8</th>\n",
       "      <th>Arm 9</th>\n",
       "      <th>Arm 10</th>\n",
       "    </tr>\n",
       "  </thead>\n",
       "  <tbody>\n",
       "    <tr>\n",
       "      <th>$Probability$</th>\n",
       "      <td>0.21</td>\n",
       "      <td>0.50</td>\n",
       "      <td>0.11</td>\n",
       "      <td>1.00</td>\n",
       "      <td>0.04</td>\n",
       "      <td>0.64</td>\n",
       "      <td>2.20</td>\n",
       "      <td>0.65</td>\n",
       "      <td>1.32</td>\n",
       "      <td>0.27</td>\n",
       "    </tr>\n",
       "  </tbody>\n",
       "</table>"
      ],
      "text/plain": [
       "<IPython.core.display.HTML object>"
      ]
     },
     "metadata": {},
     "output_type": "display_data"
    },
    {
     "data": {
      "text/html": [
       "<br><b>Percentage of actions selected:</b>"
      ],
      "text/plain": [
       "<IPython.core.display.HTML object>"
      ]
     },
     "metadata": {},
     "output_type": "display_data"
    },
    {
     "data": {
      "text/html": [
       "<table border=\"1\" class=\"dataframe\">\n",
       "  <thead>\n",
       "    <tr style=\"text-align: right;\">\n",
       "      <th></th>\n",
       "      <th>Arm 1</th>\n",
       "      <th>Arm 2</th>\n",
       "      <th>Arm 3</th>\n",
       "      <th>Arm 4</th>\n",
       "      <th>Arm 5</th>\n",
       "      <th>Arm 6</th>\n",
       "      <th>Arm 7</th>\n",
       "      <th>Arm 8</th>\n",
       "      <th>Arm 9</th>\n",
       "      <th>Arm 10</th>\n",
       "    </tr>\n",
       "  </thead>\n",
       "  <tbody>\n",
       "    <tr>\n",
       "      <th>$Optimistic$</th>\n",
       "      <td>0.58</td>\n",
       "      <td>0.60</td>\n",
       "      <td>0.57</td>\n",
       "      <td>0.67</td>\n",
       "      <td>0.57</td>\n",
       "      <td>0.61</td>\n",
       "      <td>94.40</td>\n",
       "      <td>0.61</td>\n",
       "      <td>0.80</td>\n",
       "      <td>0.59</td>\n",
       "    </tr>\n",
       "    <tr>\n",
       "      <th>$\\epsilon-decay (0.1)$</th>\n",
       "      <td>0.43</td>\n",
       "      <td>0.47</td>\n",
       "      <td>0.42</td>\n",
       "      <td>1.27</td>\n",
       "      <td>0.41</td>\n",
       "      <td>0.50</td>\n",
       "      <td>89.42</td>\n",
       "      <td>0.48</td>\n",
       "      <td>6.14</td>\n",
       "      <td>0.45</td>\n",
       "    </tr>\n",
       "    <tr>\n",
       "      <th>$\\epsilon-decay (0.25)$</th>\n",
       "      <td>0.26</td>\n",
       "      <td>0.43</td>\n",
       "      <td>0.24</td>\n",
       "      <td>4.38</td>\n",
       "      <td>0.24</td>\n",
       "      <td>1.32</td>\n",
       "      <td>79.72</td>\n",
       "      <td>0.87</td>\n",
       "      <td>12.29</td>\n",
       "      <td>0.25</td>\n",
       "    </tr>\n",
       "    <tr>\n",
       "      <th>$\\epsilon-greedy (0.1)$</th>\n",
       "      <td>1.35</td>\n",
       "      <td>1.58</td>\n",
       "      <td>1.16</td>\n",
       "      <td>2.85</td>\n",
       "      <td>1.09</td>\n",
       "      <td>1.70</td>\n",
       "      <td>82.33</td>\n",
       "      <td>1.46</td>\n",
       "      <td>5.33</td>\n",
       "      <td>1.15</td>\n",
       "    </tr>\n",
       "  </tbody>\n",
       "</table>"
      ],
      "text/plain": [
       "<IPython.core.display.HTML object>"
      ]
     },
     "metadata": {},
     "output_type": "display_data"
    }
   ],
   "source": [
    "def select_top_x(exp_rec_list, number_of_curves):\n",
    "    all_records = []\n",
    "    for rec_list in exp_rec_list:\n",
    "        all_records.extend(rec_list.rewards_recs.copy())\n",
    "    result = sorted(all_records, key=lambda x: -x.reward_list[-1])\n",
    "    return result[:number_of_curves]\n",
    "\n",
    "selected_curves = select_top_x([\n",
    "    exp_greedy, \n",
    "    exp_decay, \n",
    "    exp_opt\n",
    "], 4)\n",
    "exp_decay.plot_custom(selected_curves, params.trials)\n",
    "exp_decay.tabulate_custom(selected_curves)\n"
   ]
  },
  {
   "cell_type": "code",
   "execution_count": null,
   "id": "389157c6-d119-4a99-9aa9-befa1092bb97",
   "metadata": {},
   "outputs": [],
   "source": []
  }
 ],
 "metadata": {
  "kernelspec": {
   "display_name": "Python 3 (ipykernel)",
   "language": "python",
   "name": "python3"
  },
  "language_info": {
   "codemirror_mode": {
    "name": "ipython",
    "version": 3
   },
   "file_extension": ".py",
   "mimetype": "text/x-python",
   "name": "python",
   "nbconvert_exporter": "python",
   "pygments_lexer": "ipython3",
   "version": "3.10.6"
  }
 },
 "nbformat": 4,
 "nbformat_minor": 5
}
