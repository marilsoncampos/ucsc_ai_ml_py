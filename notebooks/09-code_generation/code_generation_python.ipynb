{
 "cells": [
  {
   "cell_type": "markdown",
   "id": "11e2e527",
   "metadata": {},
   "source": [
    "#### Generate test code from a class source code."
   ]
  },
  {
   "cell_type": "code",
   "execution_count": 2,
   "id": "13fb76fb",
   "metadata": {},
   "outputs": [],
   "source": [
    "from typing import List\n",
    "from jinja2 import FileSystemLoader, Environment, BaseLoader\n",
    "import textwrap\n",
    "import inspect\n",
    "\n",
    "\n",
    "# --- Few helper functions ---\n",
    "def _render_template_from_str(tpl_str: str, ctx: dict) -> str:\n",
    "    \"\"\"Combine the template with the data from ctx.\"\"\"\n",
    "    template = Environment(loader=BaseLoader()).from_string(tpl_str)\n",
    "    return template.render(ctx=ctx)\n",
    "\n",
    "\n",
    "def get_methods_of_class(klass):\n",
    "    \"\"\"Return the method names unsorted\"\"\"\n",
    "    result = [attribute for attribute in dir(klass) \n",
    "              if callable(getattr(klass, attribute)) and attribute.startswith('__') is False]\n",
    "    return result\n",
    "\n",
    "def get_methods_of_object(obj: object):\n",
    "    \"\"\"Return the method names ordered as the source code\"\"\"\n",
    "    member_recs = [ (name, method_call) for name, method_call in inspect.getmembers(obj, inspect.ismethod) ]\n",
    "    members_ordered = sorted(member_recs, key=lambda rec: rec[1].__code__.co_firstlineno)\n",
    "    result = [rec[0] for rec in members_ordered if not rec[0].startswith('__')]\n",
    "    return result\n"
   ]
  },
  {
   "cell_type": "code",
   "execution_count": 3,
   "id": "607aacf3",
   "metadata": {},
   "outputs": [],
   "source": [
    "# Source code to test.\n",
    "class Calculator:\n",
    "    def __init__(self):\n",
    "        pass\n",
    " \n",
    "    def add(self, x: int, y: int) -> int:\n",
    "        return x + y\n",
    " \n",
    "\n",
    "    def subtract(self, x: int, y: int) -> int:\n",
    "        return x - y\n",
    "\n",
    "    \n",
    "    def multiply(self, x: int, y: int) -> int:\n",
    "        return x * y\n",
    "\n",
    "    \n",
    "    def int_divide(self, x: int, y: int) -> int:\n",
    "        return x // y\n",
    "\n",
    "    "
   ]
  },
  {
   "cell_type": "code",
   "execution_count": 4,
   "id": "df35b5a9",
   "metadata": {},
   "outputs": [],
   "source": [
    "test_code_tpl = \"\"\"\n",
    "\\\"\\\"\\\"\n",
    "{{ctx.code_description}}\n",
    "\\\"\\\"\\\"\n",
    "\n",
    "class {{ctx.test_class}}(unittest.TestCase):\n",
    "\n",
    "    {% for method_name in ctx.methods -%}\n",
    "    def test_{{method_name}}(self):\n",
    "        self.fail(\"Not implemented\")\n",
    "        \n",
    "    {% endfor %}    \n",
    "\"\"\""
   ]
  },
  {
   "cell_type": "code",
   "execution_count": 6,
   "id": "115b857f",
   "metadata": {},
   "outputs": [
    {
     "name": "stdout",
     "output_type": "stream",
     "text": [
      "\n",
      "\"\"\"\n",
      "This is a test for my class\n",
      "Owner: UCSC Student\n",
      "Created: 2022-11-16 \n",
      "\"\"\"\n",
      "\n",
      "class ClassB(unittest.TestCase):\n",
      "\n",
      "    def test_add(self):\n",
      "        self.fail(\"Not implemented\")\n",
      "        \n",
      "    def test_subtract(self):\n",
      "        self.fail(\"Not implemented\")\n",
      "        \n",
      "    def test_multiply(self):\n",
      "        self.fail(\"Not implemented\")\n",
      "        \n",
      "    def test_int_divide(self):\n",
      "        self.fail(\"Not implemented\")\n",
      "        \n",
      "        \n"
     ]
    }
   ],
   "source": [
    "from datetime import date\n",
    "# Create dictionary with data.\n",
    "today = date.today()\n",
    "method_names = get_methods_of_object(Calculator())\n",
    "ctx = {\n",
    "    'test_class': 'ClassB',\n",
    "    'methods': method_names,\n",
    "    'code_description': f'This is a test for my class\\nOwner: UCSC Student\\nCreated: {today} '\n",
    "}\n",
    "print(_render_template_from_str(test_code_tpl, ctx))"
   ]
  },
  {
   "cell_type": "code",
   "execution_count": null,
   "id": "6b78b659",
   "metadata": {},
   "outputs": [],
   "source": []
  },
  {
   "cell_type": "code",
   "execution_count": null,
   "id": "cefe03c1",
   "metadata": {},
   "outputs": [],
   "source": []
  }
 ],
 "metadata": {
  "kernelspec": {
   "display_name": "Python 3 (ipykernel)",
   "language": "python",
   "name": "python3"
  },
  "language_info": {
   "codemirror_mode": {
    "name": "ipython",
    "version": 3
   },
   "file_extension": ".py",
   "mimetype": "text/x-python",
   "name": "python",
   "nbconvert_exporter": "python",
   "pygments_lexer": "ipython3",
   "version": "3.9.7"
  }
 },
 "nbformat": 4,
 "nbformat_minor": 5
}
