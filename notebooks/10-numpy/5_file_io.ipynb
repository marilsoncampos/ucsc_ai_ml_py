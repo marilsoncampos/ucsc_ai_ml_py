{
 "cells": [
  {
   "cell_type": "markdown",
   "metadata": {},
   "source": [
    "We will look at the following file formats\n",
    "\n",
    "- csv\n",
    "\n",
    "- pickle\n",
    "\n",
    "- npy"
   ]
  },
  {
   "cell_type": "markdown",
   "metadata": {},
   "source": [
    "Note: Not convering in this but wanted to describe:\n",
    "- protobuffers (Google) and arrow (Apache): Binary Record oriented formats. Very portable.\n",
    "- Parquet : Column bssed used in Big data. Fast for searching.\n"
   ]
  },
  {
   "cell_type": "code",
   "execution_count": 29,
   "metadata": {},
   "outputs": [],
   "source": [
    "import numpy as np\n",
    "import inspect\n",
    "\n",
    "def print_name_value(variable):\n",
    "    frame = inspect.currentframe()\n",
    "    frame = inspect.getouterframes(frame)[1]\n",
    "    ctx = inspect.getframeinfo(frame[0]).code_context[0].strip()\n",
    "    single_arg = ctx[ctx.find('(') + 1:-1].split(',')[0]\n",
    "    mem_variable = id(variable)\n",
    "    print(f'{single_arg}:\\n{variable}')"
   ]
  },
  {
   "cell_type": "code",
   "execution_count": 30,
   "metadata": {},
   "outputs": [
    {
     "name": "stdout",
     "output_type": "stream",
     "text": [
      "a as a float:10.000000\n",
      "a as a float:10.00\n"
     ]
    }
   ],
   "source": [
    "a = 10\n",
    "# this is a formatted print\n",
    "print(\"a as a float:%f\" %a) \n",
    "print(\"a as a float:%0.2f\" %a) \n",
    "# You can also use %.2f to produce the same results."
   ]
  },
  {
   "cell_type": "code",
   "execution_count": 31,
   "metadata": {},
   "outputs": [
    {
     "name": "stdout",
     "output_type": "stream",
     "text": [
      "d:\n",
      "[[10.77489 15.78901 12.001  ]\n",
      " [ 7.      16.      30.     ]\n",
      " [19.      45.      70.     ]]\n"
     ]
    }
   ],
   "source": [
    "d = np.array([[10.77489, 15.78901, 12.001], [7, 16, 30], [19, 45, 70]])\n",
    "print_name_value(d)"
   ]
  },
  {
   "cell_type": "code",
   "execution_count": 32,
   "metadata": {},
   "outputs": [],
   "source": [
    "# write the vector d to a csv file with 3 precision\n",
    "d.tofile(file=\"data.csv\", sep=\",\", format=\"%0.3f\")"
   ]
  },
  {
   "cell_type": "code",
   "execution_count": 33,
   "metadata": {},
   "outputs": [
    {
     "name": "stdout",
     "output_type": "stream",
     "text": [
      "rd:\n",
      "[10.775 15.789 12.001  7.    16.    30.    19.    45.    70.   ]\n"
     ]
    }
   ],
   "source": [
    "# The function genfromtxt(filename, delimiter) \n",
    "# can be used to read several file formats.\n",
    "rd = np.genfromtxt(\"data.csv\", delimiter=\",\")\n",
    "print_name_value(rd)"
   ]
  },
  {
   "cell_type": "markdown",
   "metadata": {},
   "source": [
    "#### Pickle file\n",
    "\n",
    "pickle file is a file format that follows first in first out and \n",
    "the objects are stored in the binary format"
   ]
  },
  {
   "cell_type": "code",
   "execution_count": 73,
   "metadata": {},
   "outputs": [
    {
     "name": "stdout",
     "output_type": "stream",
     "text": [
      "d:\n",
      "[[10.77489 15.78901 12.001  ]\n",
      " [ 7.      16.      30.     ]\n",
      " [19.      45.      70.     ]]\n"
     ]
    }
   ],
   "source": [
    "print_name_value(d)\n",
    "PICKLE_F_NAME = 'data.pickle'\n",
    "d.dump(PICKLE_F_NAME) # write d to a pickle file"
   ]
  },
  {
   "cell_type": "code",
   "execution_count": 74,
   "metadata": {},
   "outputs": [
    {
     "name": "stdout",
     "output_type": "stream",
     "text": [
      "[[10.77489 15.78901 12.001  ]\n",
      " [ 7.      16.      30.     ]\n",
      " [19.      45.      70.     ]]\n"
     ]
    }
   ],
   "source": [
    "# Reading back from pickle.\n",
    "import pickle\n",
    "with (open(PICKLE_F_NAME, \"rb\")) as in_file:\n",
    "    data = pickle.load(in_file)\n",
    "    print(data)"
   ]
  },
  {
   "cell_type": "markdown",
   "metadata": {},
   "source": [
    "#### npy file\n",
    "\n",
    "Is a binary file format to store numpy objects"
   ]
  },
  {
   "cell_type": "code",
   "execution_count": 35,
   "metadata": {},
   "outputs": [
    {
     "name": "stdout",
     "output_type": "stream",
     "text": [
      "a:\n",
      "[[ 2  3 11]\n",
      " [-5  9 19]]\n"
     ]
    }
   ],
   "source": [
    "a = np.array([[2, 3, 11], [-5, 9, 19]])\n",
    "print_name_value(a)"
   ]
  },
  {
   "cell_type": "code",
   "execution_count": 36,
   "metadata": {},
   "outputs": [],
   "source": [
    "# using save(filename, object) we can save a particular object in the specified file\n",
    "np.save('d1.npy', a)"
   ]
  },
  {
   "cell_type": "code",
   "execution_count": 15,
   "metadata": {},
   "outputs": [
    {
     "name": "stdout",
     "output_type": "stream",
     "text": [
      "a:\n",
      "[[ 2  3 11]\n",
      " [-5  9 19]]\n"
     ]
    }
   ],
   "source": [
    "# using load(filename) we can read all the objects sequentially from the file\n",
    "a = np.load('d1.npy')\n",
    "print_name_value(a)\n"
   ]
  },
  {
   "cell_type": "code",
   "execution_count": 20,
   "metadata": {
    "scrolled": true
   },
   "outputs": [],
   "source": [
    "# saving multiple objects in a npy file\n",
    "b = np.array([\"JJ\", \"AX\", \"BY\"], dtype='object' )"
   ]
  },
  {
   "cell_type": "code",
   "execution_count": 21,
   "metadata": {},
   "outputs": [],
   "source": [
    "np.save('d2.npy', [np.asanyarray(a, dtype=object), b]) "
   ]
  },
  {
   "cell_type": "code",
   "execution_count": 22,
   "metadata": {},
   "outputs": [],
   "source": [
    "x = np.load(\"d2.npy\", allow_pickle=True)"
   ]
  },
  {
   "cell_type": "code",
   "execution_count": 23,
   "metadata": {},
   "outputs": [
    {
     "data": {
      "text/plain": [
       "array([array([[2, 3, 11],\n",
       "              [-5, 9, 19]], dtype=object),\n",
       "       array(['JJ', 'AX', 'BY'], dtype=object)], dtype=object)"
      ]
     },
     "execution_count": 23,
     "metadata": {},
     "output_type": "execute_result"
    }
   ],
   "source": [
    "x"
   ]
  },
  {
   "cell_type": "markdown",
   "metadata": {},
   "source": [
    "#### More operations using genfromtxt()"
   ]
  },
  {
   "cell_type": "markdown",
   "metadata": {},
   "source": [
    "#### Python io module \n",
    "\n",
    "io module is used to deal with various I/O types. \n",
    "\n",
    "There are 3 main i/o types:\n",
    "\n",
    "    1) text\n",
    "    \n",
    "    2) binary\n",
    "    \n",
    "    3) raw\n",
    "    \n",
    "Modes are:\n",
    "\n",
    "    1) read-only\n",
    "    \n",
    "    2) write-only\n",
    "    \n",
    "    3) read-write\n",
    "    \n",
    "We will look at StringIO - is very efficient to create large strings"
   ]
  },
  {
   "cell_type": "code",
   "execution_count": 26,
   "metadata": {},
   "outputs": [],
   "source": [
    "from io import StringIO\n",
    "out = StringIO()"
   ]
  },
  {
   "cell_type": "code",
   "execution_count": 27,
   "metadata": {},
   "outputs": [],
   "source": [
    "print(\"Watermelon\", file=out, end=\"\")"
   ]
  },
  {
   "cell_type": "code",
   "execution_count": 28,
   "metadata": {},
   "outputs": [
    {
     "name": "stdout",
     "output_type": "stream",
     "text": [
      "Watermelon\n"
     ]
    }
   ],
   "source": [
    "print(out.getvalue())"
   ]
  },
  {
   "cell_type": "code",
   "execution_count": 31,
   "metadata": {},
   "outputs": [
    {
     "name": "stdout",
     "output_type": "stream",
     "text": [
      "data:\n",
      "0 1 2 3 4 \n"
     ]
    }
   ],
   "source": [
    "# Writing to memory files\n",
    "\n",
    "mem_file = StringIO()\n",
    "for i in range(0, 5):\n",
    "    mem_file.write(str(i))\n",
    "    mem_file.write(\" \")\n",
    "\n",
    "data = mem_file.getvalue()\n",
    "print_name_value(data)\n",
    "mem_file.close()"
   ]
  },
  {
   "cell_type": "markdown",
   "metadata": {},
   "source": [
    "#### Text files"
   ]
  },
  {
   "cell_type": "code",
   "execution_count": 60,
   "metadata": {},
   "outputs": [],
   "source": [
    "with open('file1.txt', 'w') as out_file:\n",
    "    for i in range(10):\n",
    "        j = 2 * i\n",
    "        rec = f'{i},\"{j}, text\"\\n'\n",
    "        out_file.write(rec)"
   ]
  },
  {
   "cell_type": "code",
   "execution_count": 53,
   "metadata": {},
   "outputs": [
    {
     "name": "stdout",
     "output_type": "stream",
     "text": [
      "0,\"0, text\"\n",
      "1,\"2, text\"\n",
      "2,\"4, text\"\n",
      "3,\"6, text\"\n",
      "4,\"8, text\"\n",
      "5,\"10, text\"\n",
      "6,\"12, text\"\n",
      "7,\"14, text\"\n",
      "8,\"16, text\"\n",
      "9,\"18, text\"\n"
     ]
    }
   ],
   "source": [
    "with open('file1.txt', 'r') as in_file:\n",
    "    for line in in_file.readlines():\n",
    "        print(line, end='')\n"
   ]
  },
  {
   "cell_type": "markdown",
   "metadata": {},
   "source": [
    "#### Binary files"
   ]
  },
  {
   "cell_type": "code",
   "execution_count": 64,
   "metadata": {},
   "outputs": [
    {
     "name": "stdout",
     "output_type": "stream",
     "text": [
      "b'\\x89P'\n",
      "b'NG'\n",
      "b'\\r\\n'\n",
      "b'\\x1a\\n'\n",
      "b'\\x00\\x00'\n",
      "b'\\x00\\r'\n",
      "b'IH'\n",
      "b'DR'\n",
      "b'\\x00\\x00'\n",
      "b'\\x06\\x0e'\n",
      "b'\\x00\\x00'\n",
      "b'\\x01\\xf6'\n",
      "b'\\x08\\x06'\n",
      "b'\\x00\\x00'\n",
      "b'\\x00\\xa8'\n",
      "b'Kw'\n",
      "b'R\\x00'\n",
      "b'\\x00\\x04'\n",
      "b'\\x0ei'\n",
      "b'CC'\n"
     ]
    }
   ],
   "source": [
    "# Reading a binary file\n",
    "with open('sample_image.png', 'rb') as in_file:\n",
    "    bytes = in_file.read(2)\n",
    "    count = 20\n",
    "    while bytes != b\"\" and count > 0:\n",
    "        count -= 1\n",
    "        print(str(bytes))\n",
    "        bytes = in_file.read(2)\n"
   ]
  },
  {
   "cell_type": "code",
   "execution_count": 72,
   "metadata": {},
   "outputs": [
    {
     "name": "stdout",
     "output_type": "stream",
     "text": [
      "b'0'\n",
      "b'1'\n",
      "b'2'\n",
      "b'3'\n",
      "b'4'\n",
      "b'5'\n",
      "b'6'\n",
      "b'7'\n",
      "b'8'\n",
      "b''\n"
     ]
    }
   ],
   "source": [
    "# Reading and Writing a binary file\n",
    "with open('bin_file.bin', 'wb') as out_file:\n",
    "    for i in range(9):\n",
    "        out_file.write(str(i).encode())\n",
    "        \n",
    "with open('bin_file.bin', 'rb') as in_file:\n",
    "    byte = None\n",
    "    while byte != b\"\":\n",
    "        byte = in_file.read(1)\n",
    "        print(byte)\n"
   ]
  },
  {
   "cell_type": "code",
   "execution_count": null,
   "metadata": {},
   "outputs": [],
   "source": []
  }
 ],
 "metadata": {
  "kernelspec": {
   "display_name": "Python 3 (ipykernel)",
   "language": "python",
   "name": "python3"
  },
  "language_info": {
   "codemirror_mode": {
    "name": "ipython",
    "version": 3
   },
   "file_extension": ".py",
   "mimetype": "text/x-python",
   "name": "python",
   "nbconvert_exporter": "python",
   "pygments_lexer": "ipython3",
   "version": "3.9.7"
  }
 },
 "nbformat": 4,
 "nbformat_minor": 4
}
