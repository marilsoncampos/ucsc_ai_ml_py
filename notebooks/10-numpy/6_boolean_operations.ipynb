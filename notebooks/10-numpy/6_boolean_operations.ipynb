{
 "cells": [
  {
   "cell_type": "markdown",
   "metadata": {},
   "source": [
    "### In this notebook we will discuss Boolean Operations\n",
    "\n",
    "Boolean returns True or False values"
   ]
  },
  {
   "cell_type": "code",
   "execution_count": 20,
   "metadata": {},
   "outputs": [],
   "source": [
    "import numpy as np\n",
    "import inspect\n",
    "\n",
    "def print_name_value(variable):\n",
    "    frame = inspect.currentframe()\n",
    "    frame = inspect.getouterframes(frame)[1]\n",
    "    ctx = inspect.getframeinfo(frame[0]).code_context[0].strip()\n",
    "    single_arg = ctx[ctx.find('(') + 1:-1].split(',')[0]\n",
    "    mem_variable = id(variable)\n",
    "    print(f'{single_arg}:\\n{variable}')"
   ]
  },
  {
   "cell_type": "code",
   "execution_count": 21,
   "metadata": {},
   "outputs": [
    {
     "name": "stdout",
     "output_type": "stream",
     "text": [
      "c:\n",
      "[[ 4.  2.  6.]\n",
      " [ 7. 10. 11.]]\n",
      "d:\n",
      "[10.  11.5 13. ]\n"
     ]
    }
   ],
   "source": [
    "c = np.array([[4, 2, 6],[7, 10, 11]], dtype=np.float32)\n",
    "d = np.linspace(start=10, stop=13, num=3)\n",
    "print_name_value(c)\n",
    "print_name_value(d)"
   ]
  },
  {
   "cell_type": "code",
   "execution_count": 22,
   "metadata": {},
   "outputs": [
    {
     "name": "stdout",
     "output_type": "stream",
     "text": [
      "[[ 40.  20.  60.]\n",
      " [ 70. 100. 110.]] float32\n"
     ]
    }
   ],
   "source": [
    "f = 10*c \n",
    "# Ssimilar to broadcasting,\n",
    "# we are multiplying every element in c by 10.\n",
    "\n",
    "# Multiply a matrix with scalar. \n",
    "# The matrix e is of dtype=int64 but the final matrix is of dtype=float64\n",
    "print(f, f.dtype)\n"
   ]
  },
  {
   "cell_type": "code",
   "execution_count": 23,
   "metadata": {},
   "outputs": [
    {
     "name": "stdout",
     "output_type": "stream",
     "text": [
      "[[6.  9.5 7. ]\n",
      " [3.  1.5 2. ]] float64\n"
     ]
    }
   ],
   "source": [
    "f = d-c # Subtract matrix\n",
    "print(f, f.dtype)\n"
   ]
  },
  {
   "cell_type": "code",
   "execution_count": 24,
   "metadata": {},
   "outputs": [
    {
     "name": "stdout",
     "output_type": "stream",
     "text": [
      "h:\n",
      "[[ True  True  True]\n",
      " [False False False]]\n"
     ]
    }
   ],
   "source": [
    "h = f > 5 # Compare every element with the value of 5\n",
    "print_name_value(h)"
   ]
  },
  {
   "cell_type": "code",
   "execution_count": 6,
   "metadata": {},
   "outputs": [
    {
     "name": "stdout",
     "output_type": "stream",
     "text": [
      "f:\n",
      "[[6.  9.5 7. ]\n",
      " [3.  1.5 2. ]]\n",
      "k:\n",
      "[[ True  True  True]\n",
      " [False False False]]\n",
      " \n",
      "Prints the values that idexes are true\n",
      "[6.  9.5 7. ]\n"
     ]
    }
   ],
   "source": [
    "# Indexing with boolean arrays\n",
    "k = f > 5\n",
    "print_name_value(f)\n",
    "print_name_value(k)\n",
    "print(' ')\n",
    "print('Prints the values that idexes are true')\n",
    "print(f[k]) # Returns values in f that are True in k\n"
   ]
  },
  {
   "cell_type": "code",
   "execution_count": 25,
   "metadata": {},
   "outputs": [
    {
     "name": "stdout",
     "output_type": "stream",
     "text": [
      "[6.  9.5 7. ]\n"
     ]
    }
   ],
   "source": [
    "print(f[f>5]) \n",
    "# This is same as the previous line except that we are \n",
    "# not creating a new array k"
   ]
  },
  {
   "cell_type": "code",
   "execution_count": 26,
   "metadata": {},
   "outputs": [],
   "source": [
    "t = np.array([[-2, 4, -3],[-1, 7, 0]])"
   ]
  },
  {
   "cell_type": "code",
   "execution_count": 27,
   "metadata": {},
   "outputs": [
    {
     "name": "stdout",
     "output_type": "stream",
     "text": [
      "t1:\n",
      "[[ True  True False]\n",
      " [ True  True  True]]\n"
     ]
    }
   ],
   "source": [
    "t1 = t > -3\n",
    "print_name_value(t1)"
   ]
  },
  {
   "cell_type": "code",
   "execution_count": 28,
   "metadata": {},
   "outputs": [
    {
     "name": "stdout",
     "output_type": "stream",
     "text": [
      "[-2  4 -1  7  0]\n"
     ]
    }
   ],
   "source": [
    "print(t[t1])"
   ]
  },
  {
   "cell_type": "code",
   "execution_count": 29,
   "metadata": {},
   "outputs": [
    {
     "name": "stdout",
     "output_type": "stream",
     "text": [
      "[-2  4 -1  7  0]\n"
     ]
    }
   ],
   "source": [
    "print(t[t > -3])"
   ]
  },
  {
   "cell_type": "code",
   "execution_count": 30,
   "metadata": {},
   "outputs": [
    {
     "name": "stdout",
     "output_type": "stream",
     "text": [
      "a:\n",
      "[[7 8 4]\n",
      " [5 6 9]]\n",
      " \n",
      "[[ True  True False]\n",
      " [False  True  True]]\n",
      "indices where the value is greater than 5: \n",
      "b:\n",
      "(array([0, 0, 1, 1]), array([0, 1, 1, 2]))\n"
     ]
    }
   ],
   "source": [
    "# where(condition) will returns indices where the condition is true \n",
    "\n",
    "a = np.array([[7, 8, 4],[5, 6, 9]]) \n",
    "print_name_value(a)\n",
    "print(' ')\n",
    "print(a > 5)\n",
    "print(\"indices where the value is greater than 5: \")\n",
    "\n",
    "b = np.where(a>5)\n",
    "print_name_value(b)\n"
   ]
  },
  {
   "cell_type": "code",
   "execution_count": 13,
   "metadata": {},
   "outputs": [
    {
     "name": "stdout",
     "output_type": "stream",
     "text": [
      "True\n"
     ]
    }
   ],
   "source": [
    "# any(z) returns a boolean value when a certain \n",
    "# condition is met in z at least once\n",
    "print(np.any(a > 6)) \n"
   ]
  },
  {
   "cell_type": "code",
   "execution_count": 31,
   "metadata": {},
   "outputs": [
    {
     "name": "stdout",
     "output_type": "stream",
     "text": [
      "False\n"
     ]
    }
   ],
   "source": [
    "# All (z) returns a boolean value when a certain condition is met by ALL the elements in z\n",
    "print(np.all(a>7)) # since not all values are greater than 7\n"
   ]
  },
  {
   "cell_type": "code",
   "execution_count": 32,
   "metadata": {},
   "outputs": [
    {
     "name": "stdout",
     "output_type": "stream",
     "text": [
      "False\n"
     ]
    }
   ],
   "source": [
    "# logical_and will values from the AND logical operation.\n",
    "print(np.logical_and(True, False))\n"
   ]
  },
  {
   "cell_type": "code",
   "execution_count": 33,
   "metadata": {},
   "outputs": [
    {
     "name": "stdout",
     "output_type": "stream",
     "text": [
      "True\n"
     ]
    }
   ],
   "source": [
    "print(np.logical_and(True, True))\n"
   ]
  },
  {
   "cell_type": "code",
   "execution_count": 34,
   "metadata": {},
   "outputs": [
    {
     "name": "stdout",
     "output_type": "stream",
     "text": [
      "False\n"
     ]
    }
   ],
   "source": [
    "print(np.logical_and(False, False))\n"
   ]
  },
  {
   "cell_type": "code",
   "execution_count": 35,
   "metadata": {},
   "outputs": [
    {
     "name": "stdout",
     "output_type": "stream",
     "text": [
      "[False False  True]\n"
     ]
    }
   ],
   "source": [
    "print(np.logical_and([False, False, True], [False, True, True]))\n"
   ]
  },
  {
   "cell_type": "code",
   "execution_count": 36,
   "metadata": {},
   "outputs": [
    {
     "name": "stdout",
     "output_type": "stream",
     "text": [
      "[False  True False  True]\n"
     ]
    }
   ],
   "source": [
    "# logical_and with two conditions\n",
    "s1 = np.array([3, 6, 9, 12])\n",
    "print(np.logical_and(s1>5, s1%2==0))\n"
   ]
  },
  {
   "cell_type": "raw",
   "metadata": {},
   "source": []
  }
 ],
 "metadata": {
  "kernelspec": {
   "display_name": "Python 3 (ipykernel)",
   "language": "python",
   "name": "python3"
  },
  "language_info": {
   "codemirror_mode": {
    "name": "ipython",
    "version": 3
   },
   "file_extension": ".py",
   "mimetype": "text/x-python",
   "name": "python",
   "nbconvert_exporter": "python",
   "pygments_lexer": "ipython3",
   "version": "3.9.7"
  }
 },
 "nbformat": 4,
 "nbformat_minor": 4
}
