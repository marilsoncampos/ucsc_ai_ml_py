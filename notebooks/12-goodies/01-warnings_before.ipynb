{
 "cells": [
  {
   "cell_type": "code",
   "execution_count": 3,
   "id": "00fe2af5-c33b-4d45-a755-0e8748474a35",
   "metadata": {},
   "outputs": [],
   "source": [
    "import pandas as pd"
   ]
  },
  {
   "cell_type": "code",
   "execution_count": 4,
   "id": "c68f3713-37e1-484e-87da-87e09e01cfb0",
   "metadata": {},
   "outputs": [],
   "source": [
    "titanic_df = pd.read_csv(r'train.csv')\n",
    "titanic_df['Family Size'] = titanic_df['SibSp'] +titanic_df['Parch'] + 1"
   ]
  },
  {
   "cell_type": "code",
   "execution_count": 5,
   "id": "bdd90e0c-cb92-464a-8026-73f553bc95b0",
   "metadata": {},
   "outputs": [
    {
     "name": "stderr",
     "output_type": "stream",
     "text": [
      "/tmp/ipykernel_38646/3680613657.py:8: FutureWarning: this method is deprecated in favour of `Styler.hide(axis=\"index\")`\n",
      "  tabulated.style.hide_index()\n"
     ]
    },
    {
     "data": {
      "text/html": [
       "<style type=\"text/css\">\n",
       "</style>\n",
       "<table id=\"T_ac597\">\n",
       "  <thead>\n",
       "    <tr>\n",
       "      <th id=\"T_ac597_level0_col0\" class=\"col_heading level0 col0\" >Sex</th>\n",
       "      <th id=\"T_ac597_level0_col1\" class=\"col_heading level0 col1\" >% Survived</th>\n",
       "    </tr>\n",
       "  </thead>\n",
       "  <tbody>\n",
       "    <tr>\n",
       "      <td id=\"T_ac597_row0_col0\" class=\"data row0 col0\" >female</td>\n",
       "      <td id=\"T_ac597_row0_col1\" class=\"data row0 col1\" >74.2</td>\n",
       "    </tr>\n",
       "    <tr>\n",
       "      <td id=\"T_ac597_row1_col0\" class=\"data row1 col0\" >male</td>\n",
       "      <td id=\"T_ac597_row1_col1\" class=\"data row1 col1\" >18.9</td>\n",
       "    </tr>\n",
       "  </tbody>\n",
       "</table>\n"
      ],
      "text/plain": [
       "<pandas.io.formats.style.Styler at 0xffff43cdb220>"
      ]
     },
     "execution_count": 5,
     "metadata": {},
     "output_type": "execute_result"
    }
   ],
   "source": [
    "def format_percent(value):\n",
    "    return '{:,.1f}'.format(value * 100)\n",
    "\n",
    "\n",
    "group = titanic_df[['Sex','Survived']].groupby(['Sex'], as_index = False).mean()\n",
    "group['Survived'] = group['Survived'].map(format_percent)\n",
    "tabulated = group.rename(columns={'Sex': 'Sex','Survived': '% Survived'})\n",
    "tabulated.style.hide_index()\n"
   ]
  },
  {
   "cell_type": "code",
   "execution_count": null,
   "id": "d5b891dd-d1d1-499a-8e1f-e31040292b53",
   "metadata": {},
   "outputs": [],
   "source": []
  },
  {
   "cell_type": "code",
   "execution_count": null,
   "id": "d6224007",
   "metadata": {},
   "outputs": [],
   "source": []
  }
 ],
 "metadata": {
  "kernelspec": {
   "display_name": "Python 3 (ipykernel)",
   "language": "python",
   "name": "python3"
  },
  "language_info": {
   "codemirror_mode": {
    "name": "ipython",
    "version": 3
   },
   "file_extension": ".py",
   "mimetype": "text/x-python",
   "name": "python",
   "nbconvert_exporter": "python",
   "pygments_lexer": "ipython3",
   "version": "3.10.6"
  }
 },
 "nbformat": 4,
 "nbformat_minor": 5
}
