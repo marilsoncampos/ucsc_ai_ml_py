{
 "cells": [
  {
   "cell_type": "code",
   "execution_count": 1,
   "id": "95b13891-b33a-4ebb-9127-47d70d5cbcca",
   "metadata": {},
   "outputs": [
    {
     "name": "stdout",
     "output_type": "stream",
     "text": [
      "Package already installed\n"
     ]
    }
   ],
   "source": [
    "try:\n",
    "    import tqdm \n",
    "    print('Package already installed')\n",
    "except ImportError:\n",
    "    print('Installing package...')\n",
    "    !conda install -c conda-forge pysnooper -y\n",
    "    print('Package installed!')"
   ]
  },
  {
   "cell_type": "code",
   "execution_count": 1,
   "id": "fab77712-efd8-4861-8d3e-7875c8031b8d",
   "metadata": {},
   "outputs": [
    {
     "data": {
      "application/vnd.jupyter.widget-view+json": {
       "model_id": "a621b7e924e34543b815f7fdb25bf1aa",
       "version_major": 2,
       "version_minor": 0
      },
      "text/plain": [
       "  0%|          | 0/1000 [00:00<?, ?it/s]"
      ]
     },
     "metadata": {},
     "output_type": "display_data"
    }
   ],
   "source": [
    "from tqdm.notebook import tqdm\n",
    "from time import sleep\n",
    "x1 = list(range(1000))\n",
    "for i in tqdm(x1):\n",
    "    sleep(0.02)\n"
   ]
  },
  {
   "cell_type": "code",
   "execution_count": null,
   "id": "9036c82f-961c-44bc-8b51-9338f4f9a9e6",
   "metadata": {},
   "outputs": [],
   "source": []
  }
 ],
 "metadata": {
  "kernelspec": {
   "display_name": "Python 3 (ipykernel)",
   "language": "python",
   "name": "python3"
  },
  "language_info": {
   "codemirror_mode": {
    "name": "ipython",
    "version": 3
   },
   "file_extension": ".py",
   "mimetype": "text/x-python",
   "name": "python",
   "nbconvert_exporter": "python",
   "pygments_lexer": "ipython3",
   "version": "3.9.7"
  }
 },
 "nbformat": 4,
 "nbformat_minor": 5
}
