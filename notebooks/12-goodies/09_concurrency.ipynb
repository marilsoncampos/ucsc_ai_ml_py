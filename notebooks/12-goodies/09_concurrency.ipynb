{
 "cells": [
  {
   "cell_type": "markdown",
   "id": "4fd7a969-c3ee-4896-a12b-b8894f4f6da3",
   "metadata": {},
   "source": [
    "#### Concurrency in python"
   ]
  },
  {
   "cell_type": "code",
   "execution_count": 60,
   "id": "1a219fa2-d009-4f3b-bcb1-c9a77e11c52b",
   "metadata": {},
   "outputs": [],
   "source": [
    "from concurrent.futures import ProcessPoolExecutor\n",
    "import random"
   ]
  },
  {
   "cell_type": "code",
   "execution_count": 61,
   "id": "4be558af-f507-4ed7-8740-9944cc66dfe4",
   "metadata": {},
   "outputs": [],
   "source": [
    "def naive_fibonacci(x):\n",
    "    n0 = 0\n",
    "    n1 = 1\n",
    "    for _ in range(x):\n",
    "        n0, n1 = n1, (n0 + n1)\n",
    "    return n0\n",
    "\n",
    "test_numbers = [x for x in range(1, 5_000)]\n",
    "random.shuffle(test_numbers)\n"
   ]
  },
  {
   "cell_type": "code",
   "execution_count": 62,
   "id": "8d5f3c56-3d64-43f4-ac64-26886c39fbfb",
   "metadata": {},
   "outputs": [
    {
     "name": "stdout",
     "output_type": "stream",
     "text": [
      "668 ms ± 14.3 ms per loop (mean ± std. dev. of 10 runs, 10 loops each)\n"
     ]
    }
   ],
   "source": [
    "%%timeit -n 10 -r 10\n",
    "last_r = 0\n",
    "for n in test_numbers:\n",
    "    r = naive_fibonacci(n)\n",
    "    last_r = max(last_r, r)\n"
   ]
  },
  {
   "cell_type": "code",
   "execution_count": 70,
   "id": "147f4b8b-26e7-4db0-94d1-8169d30c1b4b",
   "metadata": {},
   "outputs": [
    {
     "name": "stdout",
     "output_type": "stream",
     "text": [
      "203 ms ± 10.2 ms per loop (mean ± std. dev. of 10 runs, 10 loops each)\n"
     ]
    }
   ],
   "source": [
    "%%timeit -n 10 -r 10\n",
    "\n",
    "with ProcessPoolExecutor(8) as compute:\n",
    "    results = compute.map(naive_fibonacci, test_numbers, chunksize=100)\n",
    "   "
   ]
  },
  {
   "cell_type": "code",
   "execution_count": null,
   "id": "0e27f957-d55f-4675-8fcf-20cfc646a281",
   "metadata": {},
   "outputs": [],
   "source": []
  }
 ],
 "metadata": {
  "kernelspec": {
   "display_name": "Python 3 (ipykernel)",
   "language": "python",
   "name": "python3"
  },
  "language_info": {
   "codemirror_mode": {
    "name": "ipython",
    "version": 3
   },
   "file_extension": ".py",
   "mimetype": "text/x-python",
   "name": "python",
   "nbconvert_exporter": "python",
   "pygments_lexer": "ipython3",
   "version": "3.10.6"
  }
 },
 "nbformat": 4,
 "nbformat_minor": 5
}
