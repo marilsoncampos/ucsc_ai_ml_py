{
 "cells": [
  {
   "cell_type": "markdown",
   "id": "6bd8cef3-1f8b-414c-93a2-c588eed450cc",
   "metadata": {},
   "source": [
    "#### Gradient Descent "
   ]
  },
  {
   "cell_type": "markdown",
   "id": "16f23d5a-d5bb-45b4-b014-c5635b3cbd52",
   "metadata": {},
   "source": [
    "##### Intuition"
   ]
  },
  {
   "cell_type": "markdown",
   "id": "1e357041-39f8-435e-8efb-694766e57a4b",
   "metadata": {},
   "source": [
    "<div>\n",
    "<img src=\"img/gradient_descent.png\" width=\"400\"/>\n",
    "</div>"
   ]
  },
  {
   "cell_type": "markdown",
   "id": "9ddbdd9e-0b74-4b86-a2f0-f39729eafa80",
   "metadata": {},
   "source": [
    "#### Using Python Symbolic Library to calculate derivative"
   ]
  },
  {
   "cell_type": "markdown",
   "id": "5f1acdc9-ed9e-48d3-b76d-75134262f88b",
   "metadata": {},
   "source": [
    "from sympy import Symbol, diff, Float\n",
    "import numpy as np\n",
    "import matplotlib.pyplot as plt"
   ]
  },
  {
   "cell_type": "code",
   "execution_count": 36,
   "id": "fe914c03-2fe0-4585-ac58-1fc4a34c51ef",
   "metadata": {},
   "outputs": [],
   "source": [
    "from sympy import Symbol, Float, diff, solve\n",
    "import numpy as np"
   ]
  },
  {
   "cell_type": "code",
   "execution_count": 37,
   "id": "7b2d4bb1-52af-45bc-af81-9855c4b92899",
   "metadata": {},
   "outputs": [],
   "source": [
    "# Define symbols\n",
    "x = Symbol('x')\n",
    "y = Symbol('y')"
   ]
  },
  {
   "cell_type": "code",
   "execution_count": 118,
   "id": "93c83c8a-6168-4be7-bd29-ec5259d01409",
   "metadata": {},
   "outputs": [
    {
     "name": "stdout",
     "output_type": "stream",
     "text": [
      "Input: F(x) => y = x**2 - 3*x + 3\n"
     ]
    }
   ],
   "source": [
    "# Use the symbols to define a function\n",
    "func = x**2-3*x+3\n",
    "print('Input: F(x) => y =', func)"
   ]
  },
  {
   "cell_type": "code",
   "execution_count": 119,
   "id": "296ba848-b914-4a5f-948f-4518473c821e",
   "metadata": {},
   "outputs": [
    {
     "name": "stdout",
     "output_type": "stream",
     "text": [
      "Derivative: F'(x) => y = 2*x - 3\n"
     ]
    }
   ],
   "source": [
    "# Calculate derivative symbolically\n",
    "func_lamb = lambda n: func.subs({x: n})\n",
    "gradient_func = diff(func_lamb(x), x)\n",
    "print(\"Derivative: F'(x) => y =\", gradient_func)\n"
   ]
  },
  {
   "cell_type": "code",
   "execution_count": 120,
   "id": "5d29dc05-69ce-443c-8280-9f17eea921df",
   "metadata": {},
   "outputs": [
    {
     "name": "stdout",
     "output_type": "stream",
     "text": [
      "y = 2*x - 2 for x=3 => 3.00\n",
      "y = 2*x - 2 for x=4.21 => 5.42\n",
      " \n",
      "The minimum value for F(x) is located at x=1\n"
     ]
    }
   ],
   "source": [
    "# Calculate the value for one x value\n",
    "def get_gradient_value(value):\n",
    "    input_value = Float(value, 3)\n",
    "    return gradient_func.subs({x: input_value})\n",
    "\n",
    "\n",
    "def print_calculation(value):\n",
    "    result = get_gradient_value(value)\n",
    "    print(f'y = {gadient_func} for x={value} => {result}')\n",
    "    \n",
    "print_calculation(3)\n",
    "print_calculation(4.21)\n",
    "print(' ')\n",
    "print('The minimum value for F(x) is located at x={0}'.format(solve(gadient_func)[0]))"
   ]
  },
  {
   "cell_type": "code",
   "execution_count": 121,
   "id": "0e7b8050-ff56-4a0b-bb64-38c8e4915d53",
   "metadata": {},
   "outputs": [],
   "source": [
    "# Define the range for the function\n",
    "x_range = np.linspace(-2,2,100)"
   ]
  },
  {
   "cell_type": "code",
   "execution_count": 122,
   "id": "a7a39d9e-c21e-4ab5-be88-3e650840b3de",
   "metadata": {},
   "outputs": [],
   "source": [
    "derivative_y = [gadient_func.subs({x: Float(i)}) for i in x_list ]"
   ]
  },
  {
   "cell_type": "code",
   "execution_count": 123,
   "id": "4fb5a843-2d94-41ce-b5d3-2e57f717033a",
   "metadata": {},
   "outputs": [
    {
     "data": {
      "image/png": "[encoded data removed]",
      "text/plain": [
       "<Figure size 640x480 with 1 Axes>"
      ]
     },
     "metadata": {},
     "output_type": "display_data"
    }
   ],
   "source": [
    "import numpy as np\n",
    "import matplotlib.pyplot as plt\n",
    "\n",
    "x_values = x_range.tolist()\n",
    "y_values = [ func_lamb(Float(i)) for i in x_list ]\n",
    "\n",
    "str_func = f'The function y = {func}'\n",
    "fig = plt.figure()\n",
    "axdef = fig.add_subplot(1, 1, 1)\n",
    "axdef.spines['left'].set_position('center')\n",
    "axdef.spines['bottom'].set_position('zero')\n",
    "axdef.spines['right'].set_color('none')\n",
    "axdef.spines['top'].set_color('none')\n",
    "plt.title(str_func)\n",
    "axdef.xaxis.set_ticks_position('bottom')\n",
    "axdef.yaxis.set_ticks_position('left')\n",
    "\n",
    "plt.plot(x_values, y_values, 'b')\n",
    "plt.show()\n"
   ]
  },
  {
   "cell_type": "code",
   "execution_count": 124,
   "id": "2177e68d-85b9-4255-b8fa-49b83dcb950b",
   "metadata": {},
   "outputs": [
    {
     "name": "stdout",
     "output_type": "stream",
     "text": [
      "      --- Listing interactions --- \n",
      "\n",
      "    #1 x = 2.97000    #2 x = 2.94060    #3 x = 2.91179    #4 x = 2.88355\n",
      "    #5 x = 2.85588    #6 x = 2.82876    #7 x = 2.80219    #8 x = 2.77614\n",
      "    #9 x = 2.75062   #10 x = 2.72561   #11 x = 2.70109   #12 x = 2.67707\n",
      "   #13 x = 2.65353   #14 x = 2.63046   #15 x = 2.60785   #16 x = 2.58569\n",
      "   #17 x = 2.56397   #18 x = 2.54270   #19 x = 2.52185   #20 x = 2.50141\n",
      "   #21 x = 2.48138   #22 x = 2.46175   #23 x = 2.44251   #24 x = 2.42366\n",
      "   #25 x = 2.40519   #26 x = 2.38708   #27 x = 2.36934   #28 x = 2.35195\n",
      "   #29 x = 2.33491   #30 x = 2.31821   #31 x = 2.30185   #32 x = 2.28581\n",
      "   #33 x = 2.27010   #34 x = 2.25470   #35 x = 2.23960   #36 x = 2.22480\n",
      "   #37 x = 2.21031   #38 x = 2.19610   #39 x = 2.18218   #40 x = 2.16854\n",
      "   #41 x = 2.15517   #42 x = 2.14206   #43 x = 2.12922   #44 x = 2.11663\n",
      "   #45 x = 2.10430   #46 x = 2.09221   #47 x = 2.08036   #48 x = 2.06875\n",
      "   #49 x = 2.05737   #50 x = 2.04623   #51 x = 2.03530   #52 x = 2.02460\n",
      "   #53 x = 2.01411   #54 x = 2.00383   #55 x = 1.99375   #56 x = 1.98388\n",
      "   #57 x = 1.97420   #58 x = 1.96472   #59 x = 1.95542   #60 x = 1.94632\n",
      "   #61 x = 1.93739   #62 x = 1.92864   #63 x = 1.92007   #64 x = 1.91167\n",
      "   #65 x = 1.90343   #66 x = 1.89537   #67 x = 1.88746   #68 x = 1.87971\n",
      "   #69 x = 1.87212   #70 x = 1.86468   #71 x = 1.85738   #72 x = 1.85023\n",
      "   #73 x = 1.84323   #74 x = 1.83636   #75 x = 1.82963   #76 x = 1.82304\n",
      "   #77 x = 1.81658   #78 x = 1.81025   #79 x = 1.80404   #80 x = 1.79796\n",
      "   #81 x = 1.79201   #82 x = 1.78617   #83 x = 1.78044   #84 x = 1.77483\n",
      "   #85 x = 1.76934   #86 x = 1.76395   #87 x = 1.75867   #88 x = 1.75350\n",
      "   #89 x = 1.74843   #90 x = 1.74346   #91 x = 1.73859   #92 x = 1.73382\n",
      "   #93 x = 1.72914   #94 x = 1.72456   #95 x = 1.72006   #96 x = 1.71566\n",
      "   #97 x = 1.71135   #98 x = 1.70712   #99 x = 1.70298  #100 x = 1.69893\n",
      "  #101 x = 1.69495  #102 x = 1.69105  #103 x = 1.68723  #104 x = 1.68348\n",
      "  #105 x = 1.67981  #106 x = 1.67622  #107 x = 1.67269  #108 x = 1.66924\n",
      "  #109 x = 1.66585  #110 x = 1.66254  #111 x = 1.65929  #112 x = 1.65610\n",
      "  #113 x = 1.65298  #114 x = 1.64992  #115 x = 1.64692  #116 x = 1.64398\n",
      "  #117 x = 1.64110  #118 x = 1.63828  #119 x = 1.63552  #120 x = 1.63281\n",
      "  #121 x = 1.63015  #122 x = 1.62755  #123 x = 1.62500  #124 x = 1.62250\n",
      "  #125 x = 1.62005  #126 x = 1.61765  #127 x = 1.61529  #128 x = 1.61299\n",
      "  #129 x = 1.61073  #130 x = 1.60851  #131 x = 1.60634  #132 x = 1.60421\n",
      "  #133 x = 1.60213  #134 x = 1.60009  #135 x = 1.59809  #136 x = 1.59612\n",
      "  #137 x = 1.59420  #138 x = 1.59231  #139 x = 1.59047  #140 x = 1.58866\n",
      "  #141 x = 1.58688  #142 x = 1.58515  #143 x = 1.58344  #144 x = 1.58177\n",
      "  #145 x = 1.58014  #146 x = 1.57854  #147 x = 1.57696  #148 x = 1.57542\n",
      "  #149 x = 1.57392  #150 x = 1.57244  #151 x = 1.57099  #152 x = 1.56957\n",
      "  #153 x = 1.56817  #154 x = 1.56681  #155 x = 1.56547  #156 x = 1.56417\n",
      "  #157 x = 1.56288  #158 x = 1.56162  #159 x = 1.56039  #160 x = 1.55918\n",
      "  #161 x = 1.55800  #162 x = 1.55684  #163 x = 1.55570  #164 x = 1.55459\n",
      "  #165 x = 1.55350  #166 x = 1.55243  #167 x = 1.55138  #168 x = 1.55035\n",
      "  #169 x = 1.54935  #170 x = 1.54836  #171 x = 1.54739  #172 x = 1.54645\n",
      "  #173 x = 1.54552  #174 x = 1.54461  #175 x = 1.54372  #176 x = 1.54284\n",
      "  #177 x = 1.54199  #178 x = 1.54115  #179 x = 1.54032  #180 x = 1.53952\n",
      "  #181 x = 1.53873  #182 x = 1.53795  #183 x = 1.53719  #184 x = 1.53645\n",
      "  #185 x = 1.53572  #186 x = 1.53501  #187 x = 1.53431  #188 x = 1.53362\n",
      "  #189 x = 1.53295  #190 x = 1.53229  #191 x = 1.53165  #192 x = 1.53101\n",
      "  #193 x = 1.53039  #194 x = 1.52979  #195 x = 1.52919  #196 x = 1.52860\n",
      "  #197 x = 1.52803  #198 x = 1.52747  #199 x = 1.52692  #200 x = 1.52638\n",
      "  #201 x = 1.52585  #202 x = 1.52534  #203 x = 1.52483  #204 x = 1.52433\n",
      "  #205 x = 1.52384  #206 x = 1.52336  #207 x = 1.52290  #208 x = 1.52244\n",
      "  #209 x = 1.52199  #210 x = 1.52155  #211 x = 1.52112  #212 x = 1.52070\n",
      "  #213 x = 1.52028  #214 x = 1.51988  #215 x = 1.51948  #216 x = 1.51909\n",
      "  #217 x = 1.51871  #218 x = 1.51833  #219 x = 1.51797  #220 x = 1.51761\n",
      "  #221 x = 1.51726  #222 x = 1.51691  #223 x = 1.51657  #224 x = 1.51624\n",
      "  #225 x = 1.51591  #226 x = 1.51560  #227 x = 1.51528  #228 x = 1.51498\n",
      "  #229 x = 1.51468  #230 x = 1.51438  #231 x = 1.51410  #232 x = 1.51381\n",
      "  #233 x = 1.51354  #234 x = 1.51327  #235 x = 1.51300  #236 x = 1.51274\n",
      "  #237 x = 1.51249  #238 x = 1.51224  #239 x = 1.51200  #240 x = 1.51176\n",
      "  #241 x = 1.51152  #242 x = 1.51129  #243 x = 1.51107  #244 x = 1.51085\n",
      "  #245 x = 1.51063  #246 x = 1.51042  #247 x = 1.51021  #248 x = 1.51000\n",
      "  #249 x = 1.50980  #250 x = 1.50961  #251 x = 1.50942  #252 x = 1.50923\n",
      "  #253 x = 1.50904  #254 x = 1.50886  #255 x = 1.50869  #256 x = 1.50851\n",
      "  #257 x = 1.50834  #258 x = 1.50817  #259 x = 1.50801  #260 x = 1.50785\n",
      "  #261 x = 1.50770  #262 x = 1.50754  #263 x = 1.50739  #264 x = 1.50724\n",
      "  #265 x = 1.50709  #266 x = 1.50695  #267 x = 1.50682  #268 x = 1.50668\n",
      "  #269 x = 1.50655  #270 x = 1.50642  #271 x = 1.50629  #272 x = 1.50616\n",
      "  #273 x = 1.50604  #274 x = 1.50592  #275 x = 1.50580  #276 x = 1.50568\n",
      "  #277 x = 1.50557  #278 x = 1.50546  #279 x = 1.50535  #280 x = 1.50524\n",
      "  #281 x = 1.50514  #282 x = 1.50504  #283 x = 1.50494  #284 x = 1.50484\n",
      "  #285 x = 1.50474  #286 x = 1.50465  #287 x = 1.50456  #288 x = 1.50446\n",
      "  #289 x = 1.50438  #290 x = 1.50429  #291 x = 1.50420  #292 x = 1.50412\n",
      "  #293 x = 1.50403  #294 x = 1.50395  #295 x = 1.50387  #296 x = 1.50379\n",
      "  #297 x = 1.50372  #298 x = 1.50364  #299 x = 1.50357  #300 x = 1.50350\n",
      "  #301 x = 1.50343  #302 x = 1.50336  #303 x = 1.50329  #304 x = 1.50323\n",
      "  #305 x = 1.50316  #306 x = 1.50310  #307 x = 1.50304  #308 x = 1.50298\n",
      "  #309 x = 1.50292  #310 x = 1.50286  #311 x = 1.50280  #312 x = 1.50275\n",
      "  #313 x = 1.50270  #314 x = 1.50264  #315 x = 1.50259  #316 x = 1.50253\n",
      "  #317 x = 1.50249  #318 x = 1.50244  #319 x = 1.50239  #320 x = 1.50234\n",
      "  #321 x = 1.50229  #322 x = 1.50225  #323 x = 1.50220  #324 x = 1.50216\n",
      "  #325 x = 1.50211  #326 x = 1.50207  #327 x = 1.50203  #328 x = 1.50199\n",
      "  #329 x = 1.50195  #330 x = 1.50191  #331 x = 1.50188  #332 x = 1.50184\n",
      "  #333 x = 1.50180  #334 x = 1.50176  #335 x = 1.50173  #336 x = 1.50169\n",
      "  #337 x = 1.50166  #338 x = 1.50163  #339 x = 1.50159  #340 x = 1.50156\n",
      "  #341 x = 1.50153  #342 x = 1.50150  #343 x = 1.50147  #344 x = 1.50144\n",
      "  #345 x = 1.50141  #346 x = 1.50138  #347 x = 1.50135  #348 x = 1.50132\n",
      "  #349 x = 1.50130  #350 x = 1.50127  #351 x = 1.50125  #352 x = 1.50123\n",
      "  #353 x = 1.50120  #354 x = 1.50118  #355 x = 1.50115  #356 x = 1.50113\n",
      "  #357 x = 1.50110  #358 x = 1.50108  #359 x = 1.50106  #360 x = 1.50104\n",
      "  #361 x = 1.50102  #362 x = 1.50100  #363 x = 1.50098  #364 x = 1.50096\n",
      "  #365 x = 1.50094  #366 x = 1.50092  #367 x = 1.50090  #368 x = 1.50088\n",
      "  #369 x = 1.50086  #370 x = 1.50084  #371 x = 1.50083  #372 x = 1.50082\n",
      "  #373 x = 1.50080  #374 x = 1.50079  #375 x = 1.50077  #376 x = 1.50076\n",
      "  #377 x = 1.50074  #378 x = 1.50073  #379 x = 1.50071  #380 x = 1.50070\n",
      "  #381 x = 1.50068  #382 x = 1.50067  #383 x = 1.50065  #384 x = 1.50064\n",
      "  #385 x = 1.50062  #386 x = 1.50061  #387 x = 1.50060  #388 x = 1.50059\n",
      "  #389 x = 1.50058  #390 x = 1.50057  #391 x = 1.50056  #392 x = 1.50055\n",
      "  #393 x = 1.50054  #394 x = 1.50053  #395 x = 1.50052  #396 x = 1.50051\n",
      "  #397 x = 1.50050  #398 x = 1.50049  #399 x = 1.50048  #400 x = 1.50047\n",
      "  #401 x = 1.50046  #402 x = 1.50045  #403 x = 1.50044  #404 x = 1.50043\n",
      "  #405 x = 1.50042  #406 x = 1.50042  #407 x = 1.50041  #408 x = 1.50040\n",
      "  #409 x = 1.50039  #410 x = 1.50038  #411 x = 1.50037  #412 x = 1.50036\n",
      "  #413 x = 1.50036  #414 x = 1.50035  #415 x = 1.50035  #416 x = 1.50034\n",
      "  #417 x = 1.50034  #418 x = 1.50033  #419 x = 1.50033  #420 x = 1.50032\n",
      "  #421 x = 1.50032  #422 x = 1.50031  #423 x = 1.50031  #424 x = 1.50030\n",
      "  #425 x = 1.50030  #426 x = 1.50029  #427 x = 1.50029  #428 x = 1.50028\n",
      "  #429 x = 1.50028  #430 x = 1.50027  #431 x = 1.50027  #432 x = 1.50026\n",
      "  #433 x = 1.50026  #434 x = 1.50025  #435 x = 1.50025  #436 x = 1.50024\n",
      "  #437 x = 1.50024  #438 x = 1.50023  #439 x = 1.50023  #440 x = 1.50022\n",
      "  #441 x = 1.50022  #442 x = 1.50021  #443 x = 1.50021  #444 x = 1.50021\n",
      "  #445 x = 1.50020  #446 x = 1.50020  #447 x = 1.50019  #448 x = 1.50019\n",
      "  #449 x = 1.50018  #450 x = 1.50018  #451 x = 1.50017  #452 x = 1.50017\n",
      "  #453 x = 1.50016  #454 x = 1.50016  #455 x = 1.50015  #456 x = 1.50015\n",
      "  #457 x = 1.50014  #458 x = 1.50014  #459 x = 1.50013  #460 x = 1.50013\n",
      "\n",
      "  The minimum F(x) =  1.50012207031249\n"
     ]
    }
   ],
   "source": [
    "# Some learning params\n",
    "# \n",
    "\n",
    "class Solver:\n",
    "    def __init__(self):\n",
    "        self.line = ''\n",
    "        self.current_elms = 0\n",
    "        self.elements_per_line = 4\n",
    "        \n",
    "    def emit_message(self, msg):\n",
    "        if self.current_elms < self.elements_per_line:\n",
    "            self.current_elms += 1\n",
    "            self.line += '  ' + msg\n",
    "        else:\n",
    "            print(self.line)\n",
    "            self.line = '  ' + msg\n",
    "            self.current_elms = 1\n",
    "\n",
    "    def find_solution(self):\n",
    "        ActualX = 3 \n",
    "        LearningRate = 0.01 \n",
    "        PrecisionValue = 0.000001 \n",
    "        PreviousStepSize = 1 \n",
    "        MaxIteration = 10000 \n",
    "        IterationCounter = 0 \n",
    "        print('      --- Listing interactions --- \\n')\n",
    "        while PreviousStepSize > PrecisionValue and IterationCounter < MaxIteration:\n",
    "            PreviousX = ActualX\n",
    "            ActualX = ActualX - LearningRate * get_gradient_value(PreviousX) \n",
    "            PreviousStepSize = abs(ActualX - PreviousX) \n",
    "            IterationCounter = IterationCounter+1 \n",
    "            iter_str = '#' + str(IterationCounter)\n",
    "            self.emit_message(f\"{iter_str:>4} x = {ActualX:0.5f}\") \n",
    "        print(\"\\n  The minimum F(x) = \", ActualX)\n",
    "\n",
    "s = Solver()\n",
    "s.find_solution()\n"
   ]
  },
  {
   "cell_type": "code",
   "execution_count": null,
   "id": "25029711-0dd3-48b0-b41f-9c45b024354c",
   "metadata": {},
   "outputs": [],
   "source": []
  },
  {
   "cell_type": "code",
   "execution_count": null,
   "id": "438f09ca-58ad-40cc-9b23-4923d77cceb7",
   "metadata": {},
   "outputs": [],
   "source": []
  }
 ],
 "metadata": {
  "kernelspec": {
   "display_name": "Python 3 (ipykernel)",
   "language": "python",
   "name": "python3"
  },
  "language_info": {
   "codemirror_mode": {
    "name": "ipython",
    "version": 3
   },
   "file_extension": ".py",
   "mimetype": "text/x-python",
   "name": "python",
   "nbconvert_exporter": "python",
   "pygments_lexer": "ipython3",
   "version": "3.10.6"
  }
 },
 "nbformat": 4,
 "nbformat_minor": 5
}
